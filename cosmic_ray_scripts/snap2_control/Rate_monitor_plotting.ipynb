{
 "cells": [
  {
   "cell_type": "code",
   "execution_count": 1,
   "id": "42f84e54",
   "metadata": {},
   "outputs": [],
   "source": [
    "import matplotlib.pyplot as plt\n",
    "import numpy as np\n",
    "import time\n",
    "import math\n",
    "\n",
    "\n"
   ]
  },
  {
   "cell_type": "code",
   "execution_count": null,
   "id": "227c952b",
   "metadata": {},
   "outputs": [],
   "source": [
    "#fname_prefix='/home/ubuntu/kp/data/2024April11/'\n"
   ]
  },
  {
   "cell_type": "code",
   "execution_count": null,
   "id": "a80e0004",
   "metadata": {},
   "outputs": [],
   "source": [
    "\n",
    "\n",
    "ok_snaps=[2,3,4,5,6,7,8,9,10] #zero indexed\n",
    "\n",
    "veto_all=(np.load(fname_prefix+'veto'+'.npy'))*0.73 #convert to Hz\n",
    "core_all=(np.load(fname_prefix+'core'+'.npy'))*0.73 #convert to Hz\n",
    "\n",
    "veto_cycles_all=np.load(fname_prefix+'vetocycles'+'.npy')\n",
    "core_cycles_all=np.load(fname_prefix+'corecycles'+'.npy')\n",
    "\n",
    "successful_triggers_all=np.load(fname_prefix+'successfultrigger'+'.npy')*0.73\n",
    "readout_dones_all=np.load(fname_prefix+'readoutdone'+'.npy')*0.73\n",
    "\n",
    "\n",
    "for b in ok_snaps:\n",
    "    core=core_all[b]\n",
    "    veto=veto_all[b]\n",
    "    successful_trigger=successful_triggers_all[b]\n",
    "    readout_done=readout_dones_all[b]\n",
    "    veto_cycle=veto_cycles_all[b]\n",
    "    core_cycle=core_cycles_all[b]\n",
    "    timeaxis=np.asarray(range(len(core)))*(waittime)*(1/60)*(1/60) #approximate time in hours since start of test\n",
    "    plt.figure(figsize=(10,5),dpi=100)\n",
    "    plt.suptitle('snap0'+str(b+1))\n",
    "    \n",
    "    plt.subplot(121)\n",
    "    plt.semilogy(timeaxis,core,label='core triggers')\n",
    "    plt.semilogy(timeaxis,veto,label='vetos')\n",
    "    plt.semilogy(timeaxis,successful_trigger,label='successful triggers')\n",
    "    plt.plot(timeaxis,readout_done,'.',label='readout')\n",
    "\n",
    "    plt.ylabel(\"Rate [Hz]\")\n",
    "    plt.xlabel(\"Time [hours since start]\")\n",
    "    plt.legend()\n",
    "    \n",
    "    plt.subplot(122)\n",
    "    plt.plot(timeaxis,core,'.',label='core triggers')\n",
    "    plt.plot(timeaxis,veto,'.',label='vetos')\n",
    "    plt.plot(timeaxis,successful_trigger,'.',label='successful triggers')\n",
    "    plt.plot(timeaxis,readout_done,'.',label='readout')\n",
    "\n",
    "    plt.ylabel(\"Rate [Hz]\")\n",
    "    plt.xlabel(\"Time [hours since start]\")\n",
    "    plt.legend()\n",
    "\n"
   ]
  },
  {
   "cell_type": "code",
   "execution_count": null,
   "id": "e00b5560",
   "metadata": {},
   "outputs": [],
   "source": [
    "'''plt.figure(figsize=(10,5),dpi=100)\n",
    "for b in ok_snaps:\n",
    "    core=core_all[b]\n",
    "    veto=veto_all[b]\n",
    "    successful_trigger=successful_triggers_all[b]\n",
    "    readout_done=readout_dones_all[b]\n",
    "    veto_cycle=veto_cycles_all[b]\n",
    "    core_cycle=core_cycles_all[b]\n",
    "    timeaxis=np.asarray(range(len(core)))*(waittime)*(1/60)*(1/60) #time in hours since start of test, approximated as each board having one measurement every 7*32.75 seconds\n",
    "    plt.semilogy(timeaxis,readout_done,label='snap'+str(b))\n",
    "    plt.ylabel(\"Readout done Rate [Hz]\")\n",
    "    plt.xlabel(\"Time [hours since start]\")\n",
    "    plt.legend()\n",
    "    plt.xlim(0,0.5)\n",
    "    #plt.ylim(0,200)'''"
   ]
  },
  {
   "cell_type": "code",
   "execution_count": null,
   "id": "8af40d14",
   "metadata": {},
   "outputs": [],
   "source": [
    "'''plt.figure(figsize=(10,5),dpi=100)\n",
    "for b in ok_snaps:\n",
    "    core=core_all[b]\n",
    "    veto=veto_all[b]\n",
    "    successful_trigger=successful_triggers_all[b]\n",
    "    readout_done=readout_dones_all[b]\n",
    "    veto_cycle=veto_cycles_all[b]\n",
    "    core_cycle=core_cycles_all[b]\n",
    "    timeaxis=np.asarray(range(len(core)))*(waittime)*(1/60)*(1/60) #time in hours since start of test, approximated as each board having one measurement every 7*32.75 seconds\n",
    "    plt.plot(timeaxis,readout_done/successful_trigger,label='snap'+str(b))\n",
    "    plt.ylabel(\"readouts/successful triggers\")\n",
    "    plt.xlabel(\"Time [hours since start]\")\n",
    "    plt.legend()'''"
   ]
  },
  {
   "cell_type": "markdown",
   "id": "701beecf",
   "metadata": {},
   "source": [
    "Plot above shows ratio of readouts to successful triggers for each board.  A readout occurs whenever any board triggers, and so the readout rate can be larger than an individual board's trigger rate.  However, the ratio can also be less than one since triggers continue to be logged while the board is in readout state."
   ]
  },
  {
   "cell_type": "code",
   "execution_count": null,
   "id": "55e4affc",
   "metadata": {},
   "outputs": [],
   "source": [
    "'''plt.figure(figsize=(10,5),dpi=100)\n",
    "for b in ok_snaps:\n",
    "    core=core_all[b]\n",
    "    veto=veto_all[b]\n",
    "    successful_trigger=successful_triggers_all[b]\n",
    "    readout_done=readout_dones_all[b]\n",
    "    veto_cycle=veto_cycles_all[b]\n",
    "    core_cycle=core_cycles_all[b]\n",
    "    timeaxis=np.asarray(range(len(core)))*(waittime)*(1/60)*(1/60) #time in hours since start of test, approximated as each board having one measurement every 7*32.75 seconds\n",
    "    plt.plot(timeaxis,veto_cycle/((2**28)-1),label='snap'+str(b))\n",
    "    plt.ylabel(\"Veto Duty cycle\")\n",
    "    plt.xlabel(\"Time [hours since start]\")\n",
    "    plt.legend()\n",
    "    #print('veto cycle')\n",
    "    print(b,np.mean(veto_cycle)/((2**28)-1))\n",
    "    #print('core cycle')\n",
    "    #print(b,np.mean(core_cycle)/((2**28)-1))\n",
    "    plt.xlim(0,2)'''"
   ]
  },
  {
   "cell_type": "code",
   "execution_count": 2,
   "id": "c3284468",
   "metadata": {},
   "outputs": [
    {
     "data": {
      "text/plain": [
       "'plt.figure(figsize=(10,5),dpi=100)\\ntrigger_window=int(round(1.96e8*100/3e8,1)) #number of clock cycles to travel 100 meters\\nveto_window=int(round(1.96e8*2000/3e8,1)) #number of clock cycles to travel 2000 meters\\nfor b in ok_snaps:\\n    core=core_all[b]\\n    veto=veto_all[b]\\n    successful_trigger=successful_triggers_all[b]\\n    readout_done=readout_dones_all[b]\\n    veto_cycle=veto_cycles_all[b]\\n    core_cycle=core_cycles_all[b]\\n    timeaxis=np.asarray(range(len(core)))*(waittime)*(1/60)*(1/60) #time in hours since start of test, approximated as each board having one measurement every 7*32.75 seconds\\n    plt.plot(timeaxis,(veto_cycle/(2*veto_window*veto)),label=\\'snap\\'+str(b))\\n    plt.ylabel(\"veto cycles / (number of vetos * window)\")\\n    plt.xlabel(\"Time [hours since start]\")\\n    plt.legend()\\n    '"
      ]
     },
     "execution_count": 2,
     "metadata": {},
     "output_type": "execute_result"
    }
   ],
   "source": [
    "'''plt.figure(figsize=(10,5),dpi=100)\n",
    "trigger_window=int(round(1.96e8*100/3e8,1)) #number of clock cycles to travel 100 meters\n",
    "veto_window=int(round(1.96e8*2000/3e8,1)) #number of clock cycles to travel 2000 meters\n",
    "for b in ok_snaps:\n",
    "    core=core_all[b]\n",
    "    veto=veto_all[b]\n",
    "    successful_trigger=successful_triggers_all[b]\n",
    "    readout_done=readout_dones_all[b]\n",
    "    veto_cycle=veto_cycles_all[b]\n",
    "    core_cycle=core_cycles_all[b]\n",
    "    timeaxis=np.asarray(range(len(core)))*(waittime)*(1/60)*(1/60) #time in hours since start of test, approximated as each board having one measurement every 7*32.75 seconds\n",
    "    plt.plot(timeaxis,(veto_cycle/(2*veto_window*veto)),label='snap'+str(b))\n",
    "    plt.ylabel(\"veto cycles / (number of vetos * window)\")\n",
    "    plt.xlabel(\"Time [hours since start]\")\n",
    "    plt.legend()\n",
    "    '''"
   ]
  },
  {
   "cell_type": "markdown",
   "id": "5413df0d",
   "metadata": {},
   "source": [
    "I think there is a 10% chance the veto window is off by a factor of two."
   ]
  },
  {
   "cell_type": "code",
   "execution_count": null,
   "id": "e6ad4d95",
   "metadata": {},
   "outputs": [],
   "source": [
    "'''plt.figure(figsize=(10,5),dpi=100)\n",
    "trigger_window=int(round(1.96e8*100/3e8,1)) #number of clock cycles to travel 100 meters\n",
    "veto_window=int(round(1.96e8*2000/3e8,1)) #number of clock cycles to travel 2000 meters\n",
    "for b in ok_snaps:\n",
    "    core=core_all[b]\n",
    "    veto=veto_all[b]\n",
    "    successful_trigger=successful_triggers_all[b]\n",
    "    readout_done=readout_dones_all[b]\n",
    "    veto_cycle=veto_cycles_all[b]\n",
    "    core_cycle=core_cycles_all[b]\n",
    "    timeaxis=np.asarray(range(len(core)))*(waittime)*(1/60)*(1/60) #time in hours since start of test, approximated as each board having one measurement every 7*32.75 seconds\n",
    "    plt.plot(timeaxis,(core_cycle/(trigger_window*core)),label='snap'+str(b))\n",
    "    plt.ylabel(\"core cycles / (number of core triggers * window)\")\n",
    "    plt.xlabel(\"Time [hours since start]\")\n",
    "    plt.legend()'''\n",
    "    "
   ]
  }
 ],
 "metadata": {
  "kernelspec": {
   "display_name": "Python 3",
   "language": "python",
   "name": "python3"
  },
  "language_info": {
   "codemirror_mode": {
    "name": "ipython",
    "version": 3
   },
   "file_extension": ".py",
   "mimetype": "text/x-python",
   "name": "python",
   "nbconvert_exporter": "python",
   "pygments_lexer": "ipython3",
   "version": "3.6.10"
  }
 },
 "nbformat": 4,
 "nbformat_minor": 5
}
