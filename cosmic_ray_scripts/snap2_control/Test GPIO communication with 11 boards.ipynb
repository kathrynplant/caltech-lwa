{
 "cells": [
  {
   "cell_type": "code",
   "execution_count": 8,
   "metadata": {},
   "outputs": [],
   "source": [
    "import casperfpga\n",
    "import matplotlib.pyplot as plt\n",
    "import time\n",
    "import numpy as np"
   ]
  },
  {
   "cell_type": "markdown",
   "metadata": {},
   "source": [
    "This notebook adapts the code from test_gpio_stability.py to do tests with all 11 boards."
   ]
  },
  {
   "cell_type": "code",
   "execution_count": 2,
   "metadata": {},
   "outputs": [],
   "source": [
    "#Reset the trigger counter\n",
    "def reset_trigger_counter_all(brds):\n",
    "        [brd.write_int(\"trig_debug_reset\",1) for brd in brds]\n",
    "        time.sleep(0.01)\n",
    "        [brd.write_int(\"trig_debug_reset\",0) for brd in brds]\n",
    "        return\n",
    "\n",
    "#reset the trigger timer\n",
    "def reset_trigger_timer_all(brds):\n",
    "        [brd.write_int(\"trig_debug_timer_reset\",1) for brd in brds]\n",
    "        time.sleep(0.01)\n",
    "        [brd.write_int(\"trig_debug_timer_reset\",0) for brd in brds]\n",
    "        return\n",
    "\n",
    "#set all boards to listen\n",
    "def reset_to_listen_all(brds):\n",
    "        [brd.write_int(\"reset_to_listen\",0) for brd in brds]\n",
    "        time.sleep(0.01)\n",
    "        [brd.write_int(\"reset_to_listen\",1) for brd in brds]\n",
    "        return\n",
    "    \n",
    "#read the readout state value on all the boards\n",
    "def read_state_value_all(brds):\n",
    "        return([brd.read_int(\"readout_state_value\") for brd in brds])\n",
    "\n",
    "#send a trigger to one board\n",
    "def trigger(board):\n",
    "        #board is a casperfpga object\n",
    "        board.write_int(\"send_trigger\",0)\n",
    "        time.sleep(0.01)\n",
    "        board.write_int(\"send_trigger\",1)\n",
    "        return\n",
    "\n",
    "#read the trigger counter on all the boards\n",
    "def read_trigger_counter_all(brds):\n",
    "        return [brd.read_int(\"trig_debug_trig_rec_count\") for brd in brds]\n",
    "\n",
    "\n",
    "def time_trigger_communication(board,brds):\n",
    "        #board is the board to send the trigger to\n",
    "        reset_trigger_counter_all(brds)\n",
    "        reset_trigger_timer_all(brds)\n",
    "        reset_to_listen_all(brds)\n",
    "        initialstates=read_state_value_all(brds)\n",
    "        trigger(board)\n",
    "        time.sleep(0.1)\n",
    "        timer_value=board.read_int(\"trig_debug_timer\")\n",
    "        counts=read_trigger_counter_all(brds)\n",
    "        finalstates=read_state_value_all(brds)\n",
    "        #return np.asarray([initialstate9,initialstate11,initialstate12,timer_value,count9,count11,count12,finalstate9,finalstate11,finalstate12])\n",
    "        return initialstates,timer_value,counts,finalstates"
   ]
  },
  {
   "cell_type": "code",
   "execution_count": 3,
   "metadata": {},
   "outputs": [
    {
     "name": "stdout",
     "output_type": "stream",
     "text": [
      "Connecting to boards and loading firmware\n"
     ]
    },
    {
     "name": "stderr",
     "output_type": "stream",
     "text": [
      "100% (139 of 139) |######################| Elapsed Time: 0:01:04 Time:  0:01:04\n",
      "100% (139 of 139) |######################| Elapsed Time: 0:01:03 Time:  0:01:03\n",
      "100% (139 of 139) |######################| Elapsed Time: 0:01:04 Time:  0:01:04\n",
      "100% (139 of 139) |######################| Elapsed Time: 0:01:03 Time:  0:01:03\n",
      "100% (139 of 139) |######################| Elapsed Time: 0:01:03 Time:  0:01:03\n",
      "100% (139 of 139) |######################| Elapsed Time: 0:01:03 Time:  0:01:03\n",
      "100% (139 of 139) |######################| Elapsed Time: 0:01:03 Time:  0:01:03\n",
      "100% (139 of 139) |######################| Elapsed Time: 0:01:03 Time:  0:01:03\n",
      "100% (139 of 139) |######################| Elapsed Time: 0:01:02 Time:  0:01:02\n",
      "100% (139 of 139) |######################| Elapsed Time: 0:01:02 Time:  0:01:02\n",
      "100% (139 of 139) |######################| Elapsed Time: 0:01:02 Time:  0:01:02\n"
     ]
    },
    {
     "name": "stdout",
     "output_type": "stream",
     "text": [
      "snap01 Is connected?  True\n",
      "snap02 Is connected?  True\n",
      "snap03 Is connected?  True\n",
      "snap04 Is connected?  True\n",
      "snap05 Is connected?  True\n",
      "snap06 Is connected?  True\n",
      "snap07 Is connected?  True\n",
      "snap08 Is connected?  True\n",
      "snap09 Is connected?  True\n",
      "snap10 Is connected?  True\n",
      "snap11 Is connected?  True\n"
     ]
    },
    {
     "data": {
      "text/plain": [
       "[None, None, None, None, None, None, None, None, None, None, None]"
      ]
     },
     "execution_count": 3,
     "metadata": {},
     "output_type": "execute_result"
    }
   ],
   "source": [
    "#connect to boards and load firmware\n",
    "\n",
    "firmware = \"/home/ubuntu/kp/caltech-lwa/cr_firmware_test/gpio_pins3/outputs/gpio_pins3_2021-02-07_2206.fpg\" # This version has a 1000 clock cycle pulse\n",
    "\n",
    "brdnames = ['snap01','snap02','snap03','snap04','snap05','snap06','snap07','snap08','snap09','snap10','snap11']\n",
    "print(\"Connecting to boards and loading firmware\")\n",
    "brds = [casperfpga.CasperFpga(n) for n in brdnames]\n",
    "[brd.upload_to_ram_and_program(firmware) for brd in brds]\n",
    "[print(brdnames[i],'Is connected? ', brds[i].is_connected()) for i in range(len(brds))]"
   ]
  },
  {
   "cell_type": "markdown",
   "metadata": {},
   "source": [
    "## Tests 3/24/2022\n",
    "Below, I run a test where all the boards are reset to listen and then one board receives a trigger. They should all receive it, and then I could time how long the trigger takes to go around the loop by reading the timer value.  The results, however, show that the trigger is not making it all the way around the loop. Only boards 7 to 11 are staying in listening state before the trigger and then going to readout state."
   ]
  },
  {
   "cell_type": "code",
   "execution_count": 24,
   "metadata": {},
   "outputs": [
    {
     "name": "stdout",
     "output_type": "stream",
     "text": [
      "1\n",
      "[1, 0, 0, 0, 0, 0, 0, 0, 0, 0, 0]\n",
      "0\n",
      "[1, 0, 0, 0, 0, 0, 0, 0, 0, 0, 0]\n",
      "2\n",
      "[1, 1, 1, 1, 0, 0, 0, 0, 0, 0, 0]\n",
      "3437006\n",
      "[1, 1, 1, 1, 0, 0, 0, 0, 0, 0, 0]\n",
      "3\n",
      "[1, 1, 1, 0, 0, 0, 0, 0, 0, 0, 0]\n",
      "3692147\n",
      "[1, 1, 1, 0, 0, 0, 0, 0, 0, 0, 0]\n",
      "4\n",
      "[1, 0, 0, 0, 0, 0, 0, 0, 0, 0, 0]\n",
      "50275945\n",
      "[1, 0, 0, 1, 1, 1, 0, 0, 0, 0, 0]\n",
      "5\n",
      "[1, 0, 0, 0, 0, 0, 0, 0, 0, 0, 0]\n",
      "50271576\n",
      "[1, 0, 0, 0, 1, 1, 0, 0, 0, 0, 0]\n",
      "6\n",
      "[1, 1, 1, 1, 1, 1, 0, 0, 0, 0, 0]\n",
      "3077494\n",
      "[1, 1, 1, 1, 1, 1, 0, 0, 0, 0, 0]\n",
      "7\n",
      "[1, 1, 1, 1, 0, 0, 0, 0, 0, 0, 0]\n",
      "50249022\n",
      "[1, 1, 1, 1, 0, 0, 1, 0, 0, 0, 0]\n",
      "8\n",
      "[1, 1, 0, 0, 0, 0, 0, 0, 0, 0, 0]\n",
      "50313587\n",
      "[1, 1, 0, 0, 0, 0, 0, 1, 0, 0, 0]\n",
      "9\n",
      "[1, 0, 0, 0, 0, 0, 0, 0, 0, 0, 0]\n",
      "50274893\n",
      "[1, 0, 0, 0, 0, 0, 0, 0, 1, 1, 1]\n",
      "10\n",
      "[1, 1, 0, 0, 0, 0, 0, 0, 0, 0, 0]\n",
      "50296600\n",
      "[1, 1, 0, 0, 0, 0, 0, 0, 0, 1, 1]\n",
      "11\n",
      "[1, 1, 1, 0, 0, 0, 0, 0, 0, 0, 0]\n",
      "50294480\n",
      "[1, 1, 1, 0, 0, 0, 0, 0, 0, 0, 1]\n"
     ]
    }
   ],
   "source": [
    "i=1\n",
    "for brd in brds:\n",
    "    print( i)\n",
    "    initialstates,timer_value,counts,finalstates = time_trigger_communication(brd,brds)\n",
    "    print(initialstates)\n",
    "    print(timer_value)\n",
    "    print(finalstates)\n",
    "    i+=1"
   ]
  },
  {
   "cell_type": "markdown",
   "metadata": {},
   "source": [
    "Next, I check whether the boards are successfully resetting to listen and waiting for a trigger.  Boards 7-11 do, and the others are unreliable."
   ]
  },
  {
   "cell_type": "code",
   "execution_count": 42,
   "metadata": {},
   "outputs": [
    {
     "name": "stdout",
     "output_type": "stream",
     "text": [
      "[1, 1, 1, 0, 0, 0, 0, 0, 0, 0, 0]\n",
      "[1, 1, 0, 0, 0, 0, 0, 0, 0, 0, 0]\n",
      "[1, 1, 1, 1, 0, 0, 0, 0, 0, 0, 0]\n",
      "[1, 0, 0, 0, 0, 0, 0, 0, 0, 0, 0]\n",
      "[1, 0, 0, 0, 0, 0, 0, 0, 0, 0, 0]\n",
      "[1, 1, 1, 0, 0, 0, 0, 0, 0, 0, 0]\n",
      "[1, 1, 1, 1, 1, 0, 0, 0, 0, 0, 0]\n",
      "[1, 1, 1, 0, 0, 0, 0, 0, 0, 0, 0]\n",
      "[1, 0, 0, 0, 0, 0, 0, 0, 0, 0, 0]\n",
      "[1, 1, 1, 1, 0, 0, 0, 0, 0, 0, 0]\n",
      "[1, 1, 0, 0, 0, 0, 0, 0, 0, 0, 0]\n",
      "[1, 1, 1, 1, 0, 0, 0, 0, 0, 0, 0]\n",
      "[1, 1, 0, 0, 0, 0, 0, 0, 0, 0, 0]\n",
      "[1, 1, 1, 1, 0, 0, 0, 0, 0, 0, 0]\n",
      "[1, 0, 0, 0, 0, 0, 0, 0, 0, 0, 0]\n",
      "[1, 1, 1, 1, 1, 1, 0, 0, 0, 0, 0]\n",
      "[1, 1, 0, 0, 0, 0, 0, 0, 0, 0, 0]\n",
      "[1, 0, 0, 0, 0, 0, 0, 0, 0, 0, 0]\n",
      "[1, 1, 1, 0, 0, 0, 0, 0, 0, 0, 0]\n",
      "[1, 1, 1, 1, 0, 0, 0, 0, 0, 0, 0]\n"
     ]
    }
   ],
   "source": [
    "for i in range(20):\n",
    "    reset_to_listen_all(brds)\n",
    "    print(read_state_value_all(brds))"
   ]
  },
  {
   "cell_type": "markdown",
   "metadata": {},
   "source": [
    "Next, I reset each board to listen and read its readout state value a couple times, and its trigger count. All should stay in listening state and none should see any new triggers. snap01 is the only board seeing new triggers during this time."
   ]
  },
  {
   "cell_type": "code",
   "execution_count": 43,
   "metadata": {},
   "outputs": [
    {
     "name": "stdout",
     "output_type": "stream",
     "text": [
      "snap01\n",
      "1\n",
      "0\n",
      "176675\n",
      "1\n",
      "176685\n",
      "snap02\n",
      "1\n",
      "0\n",
      "61\n",
      "0\n",
      "61\n",
      "snap03\n",
      "1\n",
      "0\n",
      "46\n",
      "0\n",
      "46\n",
      "snap04\n",
      "1\n",
      "0\n",
      "38\n",
      "0\n",
      "38\n",
      "snap05\n",
      "0\n",
      "0\n",
      "33\n",
      "0\n",
      "33\n",
      "snap06\n",
      "0\n",
      "0\n",
      "32\n",
      "0\n",
      "32\n",
      "snap07\n",
      "0\n",
      "0\n",
      "0\n",
      "0\n",
      "0\n",
      "snap08\n",
      "0\n",
      "0\n",
      "0\n",
      "0\n",
      "0\n",
      "snap09\n",
      "0\n",
      "0\n",
      "0\n",
      "0\n",
      "0\n",
      "snap10\n",
      "0\n",
      "0\n",
      "0\n",
      "0\n",
      "0\n",
      "snap11\n",
      "0\n",
      "0\n",
      "1\n",
      "0\n",
      "1\n"
     ]
    }
   ],
   "source": [
    "for i in range(11):\n",
    "    print(brdnames[i])\n",
    "    brd=brds[i]\n",
    "    print(brd.read_int('readout_state_value'))\n",
    "    brd.write_int('reset_to_listen',0)\n",
    "    time.sleep(0.5)\n",
    "    brd.write_int('reset_to_listen',1)\n",
    "    print(brd.read_int('readout_state_value'))\n",
    "    print(brd.read_int('trig_debug_trig_rec_count'))\n",
    "    time.sleep(0.05)\n",
    "    print(brd.read_int('readout_state_value'))\n",
    "    print(brd.read_int('trig_debug_trig_rec_count'))\n"
   ]
  },
  {
   "cell_type": "markdown",
   "metadata": {},
   "source": [
    "## Tests 3/25/2022\n",
    "Mark re-connected the board-to-board wires to make sure In pins connect to Out pins in a loop.  They had been random before. \n",
    "\n"
   ]
  },
  {
   "cell_type": "code",
   "execution_count": 51,
   "metadata": {},
   "outputs": [
    {
     "name": "stdout",
     "output_type": "stream",
     "text": [
      "Board  1\n",
      "initial states [0, 0, 0, 0, 0, 0, 0, 0, 0, 0, 0]\n",
      "final states [1, 1, 1, 1, 1, 1, 1, 1, 1, 1, 1]\n",
      "timer value 95\n",
      "counts [2, 1, 1, 1, 1, 1, 1, 1, 1, 1, 1]\n",
      "Board  2\n",
      "initial states [0, 0, 0, 0, 0, 0, 0, 0, 0, 0, 0]\n",
      "final states [1, 1, 1, 1, 1, 1, 1, 1, 1, 1, 1]\n",
      "timer value 96\n",
      "counts [1, 2, 1, 1, 1, 1, 1, 1, 1, 1, 1]\n",
      "Board  3\n",
      "initial states [0, 0, 0, 0, 0, 0, 0, 0, 0, 0, 0]\n",
      "final states [1, 1, 1, 1, 1, 1, 1, 1, 1, 1, 1]\n",
      "timer value 95\n",
      "counts [1, 1, 2, 1, 1, 1, 1, 1, 1, 1, 1]\n",
      "Board  4\n",
      "initial states [0, 0, 0, 0, 0, 0, 0, 0, 0, 0, 0]\n",
      "final states [1, 1, 1, 1, 1, 1, 1, 1, 1, 1, 1]\n",
      "timer value 95\n",
      "counts [1, 1, 1, 2, 1, 1, 1, 1, 1, 1, 1]\n",
      "Board  5\n",
      "initial states [0, 0, 0, 0, 0, 0, 0, 0, 0, 0, 0]\n",
      "final states [1, 1, 1, 1, 1, 1, 1, 1, 1, 1, 1]\n",
      "timer value 95\n",
      "counts [1, 1, 1, 1, 2, 1, 1, 1, 1, 1, 1]\n",
      "Board  6\n",
      "initial states [0, 0, 0, 0, 0, 0, 0, 0, 0, 0, 0]\n",
      "final states [1, 1, 1, 1, 1, 1, 1, 1, 1, 1, 1]\n",
      "timer value 95\n",
      "counts [1, 1, 1, 1, 1, 2, 1, 1, 1, 1, 1]\n",
      "Board  7\n",
      "initial states [0, 0, 0, 0, 0, 0, 0, 0, 0, 0, 0]\n",
      "final states [1, 1, 1, 1, 1, 1, 1, 1, 1, 1, 1]\n",
      "timer value 96\n",
      "counts [1, 1, 1, 1, 1, 1, 2, 1, 1, 1, 1]\n",
      "Board  8\n",
      "initial states [0, 0, 0, 0, 0, 0, 0, 0, 0, 0, 0]\n",
      "final states [1, 1, 1, 1, 1, 1, 1, 1, 1, 1, 1]\n",
      "timer value 95\n",
      "counts [1, 1, 1, 1, 1, 1, 1, 2, 1, 1, 1]\n",
      "Board  9\n",
      "initial states [0, 0, 0, 0, 0, 0, 0, 0, 0, 0, 0]\n",
      "final states [1, 1, 1, 1, 1, 1, 1, 1, 1, 1, 1]\n",
      "timer value 95\n",
      "counts [1, 1, 1, 1, 1, 1, 1, 1, 2, 1, 1]\n",
      "Board  10\n",
      "initial states [0, 0, 0, 0, 0, 0, 0, 0, 0, 0, 0]\n",
      "final states [1, 1, 1, 1, 1, 1, 1, 1, 1, 1, 1]\n",
      "timer value 95\n",
      "counts [1, 1, 1, 1, 1, 1, 1, 1, 1, 2, 1]\n",
      "Board  11\n",
      "initial states [0, 0, 0, 0, 0, 0, 0, 0, 0, 0, 0]\n",
      "final states [1, 1, 1, 1, 1, 1, 1, 1, 1, 1, 1]\n",
      "timer value 94\n",
      "counts [1, 1, 1, 1, 1, 1, 1, 1, 1, 1, 2]\n"
     ]
    }
   ],
   "source": [
    "i=1\n",
    "for brd in brds:\n",
    "    print( 'Board ',i)\n",
    "    initialstates,timer_value,counts,finalstates = time_trigger_communication(brd,brds)\n",
    "    print('initial states', initialstates)\n",
    "    print('final states', finalstates)\n",
    "    print('timer value', timer_value)\n",
    "    print('counts', counts)\n",
    "\n",
    "    i+=1"
   ]
  },
  {
   "cell_type": "code",
   "execution_count": 69,
   "metadata": {},
   "outputs": [],
   "source": []
  },
  {
   "cell_type": "code",
   "execution_count": null,
   "metadata": {},
   "outputs": [
    {
     "name": "stdout",
     "output_type": "stream",
     "text": [
      "doing test 500 times\n"
     ]
    }
   ],
   "source": [
    "testnumber=2\n",
    "n=500\n",
    "initialstates=np.zeros((n,len(brds),len(brds)),dtype=\"int32\")\n",
    "finalstates=np.zeros((n,len(brds),len(brds)),dtype=\"int32\")\n",
    "countresults = np.zeros((n,len(brds),len(brds)),dtype=\"int32\")\n",
    "timervalues = np.zeros((n,len(brds)))\n",
    "#finalstates=[np.zeros((n,len(brds)),dtype=\"int32\") for brd in brds]\n",
    "\n",
    "\n",
    "print(\"doing test \" + str(n) + \" times\")\n",
    "for i in range(n):\n",
    "    for j in range(len(brds)):\n",
    "        brd=brds[j]\n",
    "        brdresults = allresults[j]\n",
    "        initstat,timval,counts,finstat=time_trigger_communication(brd,brds)\n",
    "        initialstates[i,j,:] = np.asarray(initstat)\n",
    "        finalstates[i,j,:] = np.asarray(finstat)\n",
    "        countresults[i,j,:] = np.asarray(counts)\n",
    "        timervalues[i,j] = timval\n",
    "\n",
    "        if i==100:\n",
    "                print(\"100th test\")\n",
    "        if i==200:\n",
    "                print(\"200th test\")\n",
    "        if i==300:\n",
    "                print(\"300th test\")\n",
    "        if i==400:\n",
    "                print(\"400th test\")\n",
    "\n",
    "np.save('GPIOloopresults_initialstates'+str(testnumber),initialstates)\n",
    "np.save('GPIOloopresults_finalstates'+str(testnumber),finalstates)\n",
    "np.save('GPIOloopresults_countresults'+str(testnumber),countresults)\n",
    "np.save('GPIOloopresults_timervalues'+str(testnumber),timervalues)"
   ]
  },
  {
   "cell_type": "markdown",
   "metadata": {},
   "source": [
    "### Analyse results"
   ]
  },
  {
   "cell_type": "code",
   "execution_count": 19,
   "metadata": {},
   "outputs": [
    {
     "name": "stdout",
     "output_type": "stream",
     "text": [
      "(500, 11, 11)\n",
      "(500, 11, 11)\n",
      "(500, 11)\n",
      "(500, 11, 11)\n"
     ]
    }
   ],
   "source": [
    "timervaluesresults = np.load(\"gpio_test_results/GPIOloopresults_timervalues2.npy\")\n",
    "countresults = np.load(\"gpio_test_results/GPIOloopresults_countresults2.npy\")\n",
    "\n",
    "initialstatessresults = np.load(\"gpio_test_results/GPIOloopresults_initialstates2.npy\")\n",
    "finalstatessresults = np.load(\"gpio_test_results/GPIOloopresults_finalstates2.npy\")\n",
    "\n",
    "print(initialstatessresults.shape)\n",
    "print(finalstatessresults.shape)\n",
    "print(timervaluesresults.shape)\n",
    "print(countresults.shape)\n"
   ]
  },
  {
   "cell_type": "code",
   "execution_count": 22,
   "metadata": {},
   "outputs": [
    {
     "name": "stdout",
     "output_type": "stream",
     "text": [
      "0 0\n",
      "1 1\n"
     ]
    }
   ],
   "source": [
    "print(initialstatessresults.max(),initialstatessresults.min())\n",
    "print(finalstatessresults.max(), finalstatessresults.min())\n"
   ]
  },
  {
   "cell_type": "markdown",
   "metadata": {},
   "source": [
    "The above means that every board on every iteration started in the listening state and finished in the readout state, as it should.  Below, I confirmed that every board received exactly two triggers when it received the initial trigger and exactly one trigger otherwise."
   ]
  },
  {
   "cell_type": "code",
   "execution_count": 31,
   "metadata": {},
   "outputs": [
    {
     "data": {
      "image/png": "[encoded data removed]",
      "text/plain": [
       "<Figure size 432x288 with 1 Axes>"
      ]
     },
     "metadata": {
      "needs_background": "light"
     },
     "output_type": "display_data"
    },
    {
     "data": {
      "image/png": "[encoded data removed]",
      "text/plain": [
       "<Figure size 432x288 with 1 Axes>"
      ]
     },
     "metadata": {
      "needs_background": "light"
     },
     "output_type": "display_data"
    },
    {
     "data": {
      "image/png": "[encoded data removed]",
      "text/plain": [
       "<Figure size 432x288 with 1 Axes>"
      ]
     },
     "metadata": {
      "needs_background": "light"
     },
     "output_type": "display_data"
    },
    {
     "data": {
      "image/png": "[encoded data removed]",
      "text/plain": [
       "<Figure size 432x288 with 1 Axes>"
      ]
     },
     "metadata": {
      "needs_background": "light"
     },
     "output_type": "display_data"
    },
    {
     "data": {
      "image/png": "[encoded data removed]",
      "text/plain": [
       "<Figure size 432x288 with 1 Axes>"
      ]
     },
     "metadata": {
      "needs_background": "light"
     },
     "output_type": "display_data"
    },
    {
     "data": {
      "image/png": "[encoded data removed]",
      "text/plain": [
       "<Figure size 432x288 with 1 Axes>"
      ]
     },
     "metadata": {
      "needs_background": "light"
     },
     "output_type": "display_data"
    },
    {
     "data": {
      "image/png": "[encoded data removed]",
      "text/plain": [
       "<Figure size 432x288 with 1 Axes>"
      ]
     },
     "metadata": {
      "needs_background": "light"
     },
     "output_type": "display_data"
    },
    {
     "data": {
      "image/png": "[encoded data removed]",
      "text/plain": [
       "<Figure size 432x288 with 1 Axes>"
      ]
     },
     "metadata": {
      "needs_background": "light"
     },
     "output_type": "display_data"
    },
    {
     "data": {
      "image/png": "[encoded data removed]",
      "text/plain": [
       "<Figure size 432x288 with 1 Axes>"
      ]
     },
     "metadata": {
      "needs_background": "light"
     },
     "output_type": "display_data"
    },
    {
     "data": {
      "image/png": "[encoded data removed]",
      "text/plain": [
       "<Figure size 432x288 with 1 Axes>"
      ]
     },
     "metadata": {
      "needs_background": "light"
     },
     "output_type": "display_data"
    },
    {
     "data": {
      "image/png": "[encoded data removed]",
      "text/plain": [
       "<Figure size 432x288 with 1 Axes>"
      ]
     },
     "metadata": {
      "needs_background": "light"
     },
     "output_type": "display_data"
    }
   ],
   "source": [
    "for j in range(11):\n",
    "    plt.figure()\n",
    "    plt.hist(countresults[:,j,j])\n",
    "    plt.xlabel('Number of triggers')\n",
    "    plt.ylabel('Number of tests')\n",
    "\n",
    "for j in range(11):\n",
    "    for i in range(11):\n",
    "        if i!=j:\n",
    "            for k in range(500):\n",
    "                if countresults[k,j,i]!=1:\n",
    "                    print (k,j,i, countresults[k,j,i])\n"
   ]
  },
  {
   "cell_type": "markdown",
   "metadata": {},
   "source": [
    "Finally, I look at the distribution of times that it takes for the trigger to make it around the loop."
   ]
  },
  {
   "cell_type": "code",
   "execution_count": 36,
   "metadata": {},
   "outputs": [
    {
     "data": {
      "image/png": "[encoded data removed]",
      "text/plain": [
       "<Figure size 432x288 with 1 Axes>"
      ]
     },
     "metadata": {
      "needs_background": "light"
     },
     "output_type": "display_data"
    },
    {
     "data": {
      "image/png": "[encoded data removed]",
      "text/plain": [
       "<Figure size 432x288 with 1 Axes>"
      ]
     },
     "metadata": {
      "needs_background": "light"
     },
     "output_type": "display_data"
    },
    {
     "data": {
      "image/png": "[encoded data removed]",
      "text/plain": [
       "<Figure size 432x288 with 1 Axes>"
      ]
     },
     "metadata": {
      "needs_background": "light"
     },
     "output_type": "display_data"
    },
    {
     "data": {
      "image/png": "[encoded data removed]",
      "text/plain": [
       "<Figure size 432x288 with 1 Axes>"
      ]
     },
     "metadata": {
      "needs_background": "light"
     },
     "output_type": "display_data"
    },
    {
     "data": {
      "image/png": "[encoded data removed]",
      "text/plain": [
       "<Figure size 432x288 with 1 Axes>"
      ]
     },
     "metadata": {
      "needs_background": "light"
     },
     "output_type": "display_data"
    },
    {
     "data": {
      "image/png": "[encoded data removed]",
      "text/plain": [
       "<Figure size 432x288 with 1 Axes>"
      ]
     },
     "metadata": {
      "needs_background": "light"
     },
     "output_type": "display_data"
    },
    {
     "data": {
      "image/png": "[encoded data removed]",
      "text/plain": [
       "<Figure size 432x288 with 1 Axes>"
      ]
     },
     "metadata": {
      "needs_background": "light"
     },
     "output_type": "display_data"
    },
    {
     "data": {
      "image/png": "[encoded data removed]",
      "text/plain": [
       "<Figure size 432x288 with 1 Axes>"
      ]
     },
     "metadata": {
      "needs_background": "light"
     },
     "output_type": "display_data"
    },
    {
     "data": {
      "image/png": "[encoded data removed]",
      "text/plain": [
       "<Figure size 432x288 with 1 Axes>"
      ]
     },
     "metadata": {
      "needs_background": "light"
     },
     "output_type": "display_data"
    },
    {
     "data": {
      "image/png": "[encoded data removed]",
      "text/plain": [
       "<Figure size 432x288 with 1 Axes>"
      ]
     },
     "metadata": {
      "needs_background": "light"
     },
     "output_type": "display_data"
    },
    {
     "data": {
      "image/png": "[encoded data removed]",
      "text/plain": [
       "<Figure size 432x288 with 1 Axes>"
      ]
     },
     "metadata": {
      "needs_background": "light"
     },
     "output_type": "display_data"
    }
   ],
   "source": [
    "for j in range(11):\n",
    "    plt.figure()\n",
    "    plt.hist(timervaluesresults[:,j],20)\n",
    "    plt.xlabel('Time [clock cycles]')\n",
    "    plt.ylabel('Number of tests')"
   ]
  },
  {
   "cell_type": "markdown",
   "metadata": {},
   "source": [
    "## Start long test with no triggers, to check for spurious signals\n",
    "Ran from about 4:40 pm March 30 to 10:46am March 31"
   ]
  },
  {
   "cell_type": "code",
   "execution_count": 4,
   "metadata": {},
   "outputs": [],
   "source": [
    "#Set up test\n",
    "#reset_trigger_counter_all(brds)\n",
    "#reset_trigger_timer_all(brds)\n",
    "#reset_to_listen_all(brds)\n",
    "#initialstates=read_state_value_all(brds)"
   ]
  },
  {
   "cell_type": "code",
   "execution_count": 12,
   "metadata": {},
   "outputs": [
    {
     "name": "stdout",
     "output_type": "stream",
     "text": [
      "[0, 0, 0, 0, 0, 0, 0, 0, 0, 0, 0]\n"
     ]
    }
   ],
   "source": [
    "print(initialstates)"
   ]
  },
  {
   "cell_type": "code",
   "execution_count": 13,
   "metadata": {},
   "outputs": [
    {
     "name": "stdout",
     "output_type": "stream",
     "text": [
      "[0, 0, 0, 0, 0, 0, 0, 0, 0, 0, 0]\n",
      "[0, 0, 0, 0, 0, 0, 0, 0, 0, 0, 0]\n"
     ]
    }
   ],
   "source": [
    "#Check for triggers\n",
    "counts=read_trigger_counter_all(brds)\n",
    "finalstates=read_state_value_all(brds)\n",
    "print(counts)\n",
    "print(finalstates)"
   ]
  },
  {
   "cell_type": "markdown",
   "metadata": {},
   "source": [
    "## Reload the firmware that most people use"
   ]
  },
  {
   "cell_type": "code",
   "execution_count": 14,
   "metadata": {},
   "outputs": [
    {
     "ename": "FileNotFoundError",
     "evalue": "[Errno 2] No such file or directory: '/home/ubuntu/proj/lwa-shell/caltech-lwa/snap2_f_200msps_64i_4096c/outputs/snap2_f_200msps_64i_4096c_2022-01-10_2153.fpg'",
     "output_type": "error",
     "traceback": [
      "\u001b[0;31m---------------------------------------------------------------------------\u001b[0m",
      "\u001b[0;31mFileNotFoundError\u001b[0m                         Traceback (most recent call last)",
      "\u001b[0;32m<ipython-input-14-3083ebfdd9c6>\u001b[0m in \u001b[0;36m<module>\u001b[0;34m\u001b[0m\n\u001b[1;32m      2\u001b[0m \u001b[0;34m\u001b[0m\u001b[0m\n\u001b[1;32m      3\u001b[0m \u001b[0mfirmware\u001b[0m \u001b[0;34m=\u001b[0m \u001b[0;34m\"/home/ubuntu/proj/lwa-shell/caltech-lwa/snap2_f_200msps_64i_4096c/outputs/snap2_f_200msps_64i_4096c_2022-01-10_2153.fpg\"\u001b[0m\u001b[0;34m\u001b[0m\u001b[0;34m\u001b[0m\u001b[0m\n\u001b[0;32m----> 4\u001b[0;31m \u001b[0;34m[\u001b[0m\u001b[0mbrd\u001b[0m\u001b[0;34m.\u001b[0m\u001b[0mupload_to_ram_and_program\u001b[0m\u001b[0;34m(\u001b[0m\u001b[0mfirmware\u001b[0m\u001b[0;34m)\u001b[0m \u001b[0;32mfor\u001b[0m \u001b[0mbrd\u001b[0m \u001b[0;32min\u001b[0m \u001b[0mbrds\u001b[0m\u001b[0;34m]\u001b[0m\u001b[0;34m\u001b[0m\u001b[0;34m\u001b[0m\u001b[0m\n\u001b[0m\u001b[1;32m      5\u001b[0m \u001b[0;34m[\u001b[0m\u001b[0mprint\u001b[0m\u001b[0;34m(\u001b[0m\u001b[0mbrdnames\u001b[0m\u001b[0;34m[\u001b[0m\u001b[0mi\u001b[0m\u001b[0;34m]\u001b[0m\u001b[0;34m,\u001b[0m\u001b[0;34m'Is connected? '\u001b[0m\u001b[0;34m,\u001b[0m \u001b[0mbrds\u001b[0m\u001b[0;34m[\u001b[0m\u001b[0mi\u001b[0m\u001b[0;34m]\u001b[0m\u001b[0;34m.\u001b[0m\u001b[0mis_connected\u001b[0m\u001b[0;34m(\u001b[0m\u001b[0;34m)\u001b[0m\u001b[0;34m)\u001b[0m \u001b[0;32mfor\u001b[0m \u001b[0mi\u001b[0m \u001b[0;32min\u001b[0m \u001b[0mrange\u001b[0m\u001b[0;34m(\u001b[0m\u001b[0mlen\u001b[0m\u001b[0;34m(\u001b[0m\u001b[0mbrds\u001b[0m\u001b[0;34m)\u001b[0m\u001b[0;34m)\u001b[0m\u001b[0;34m]\u001b[0m\u001b[0;34m\u001b[0m\u001b[0;34m\u001b[0m\u001b[0m\n",
      "\u001b[0;32m<ipython-input-14-3083ebfdd9c6>\u001b[0m in \u001b[0;36m<listcomp>\u001b[0;34m(.0)\u001b[0m\n\u001b[1;32m      2\u001b[0m \u001b[0;34m\u001b[0m\u001b[0m\n\u001b[1;32m      3\u001b[0m \u001b[0mfirmware\u001b[0m \u001b[0;34m=\u001b[0m \u001b[0;34m\"/home/ubuntu/proj/lwa-shell/caltech-lwa/snap2_f_200msps_64i_4096c/outputs/snap2_f_200msps_64i_4096c_2022-01-10_2153.fpg\"\u001b[0m\u001b[0;34m\u001b[0m\u001b[0;34m\u001b[0m\u001b[0m\n\u001b[0;32m----> 4\u001b[0;31m \u001b[0;34m[\u001b[0m\u001b[0mbrd\u001b[0m\u001b[0;34m.\u001b[0m\u001b[0mupload_to_ram_and_program\u001b[0m\u001b[0;34m(\u001b[0m\u001b[0mfirmware\u001b[0m\u001b[0;34m)\u001b[0m \u001b[0;32mfor\u001b[0m \u001b[0mbrd\u001b[0m \u001b[0;32min\u001b[0m \u001b[0mbrds\u001b[0m\u001b[0;34m]\u001b[0m\u001b[0;34m\u001b[0m\u001b[0;34m\u001b[0m\u001b[0m\n\u001b[0m\u001b[1;32m      5\u001b[0m \u001b[0;34m[\u001b[0m\u001b[0mprint\u001b[0m\u001b[0;34m(\u001b[0m\u001b[0mbrdnames\u001b[0m\u001b[0;34m[\u001b[0m\u001b[0mi\u001b[0m\u001b[0;34m]\u001b[0m\u001b[0;34m,\u001b[0m\u001b[0;34m'Is connected? '\u001b[0m\u001b[0;34m,\u001b[0m \u001b[0mbrds\u001b[0m\u001b[0;34m[\u001b[0m\u001b[0mi\u001b[0m\u001b[0;34m]\u001b[0m\u001b[0;34m.\u001b[0m\u001b[0mis_connected\u001b[0m\u001b[0;34m(\u001b[0m\u001b[0;34m)\u001b[0m\u001b[0;34m)\u001b[0m \u001b[0;32mfor\u001b[0m \u001b[0mi\u001b[0m \u001b[0;32min\u001b[0m \u001b[0mrange\u001b[0m\u001b[0;34m(\u001b[0m\u001b[0mlen\u001b[0m\u001b[0;34m(\u001b[0m\u001b[0mbrds\u001b[0m\u001b[0;34m)\u001b[0m\u001b[0;34m)\u001b[0m\u001b[0;34m]\u001b[0m\u001b[0;34m\u001b[0m\u001b[0;34m\u001b[0m\u001b[0m\n",
      "\u001b[0;32m~/anaconda3/envs/casa/lib/python3.6/site-packages/casperfpga-0.4.4.dev1077+head.e76da15-py3.6-linux-x86_64.egg/casperfpga/casperfpga.py\u001b[0m in \u001b[0;36mupload_to_ram_and_program\u001b[0;34m(self, filename, wait_complete, initialise_objects, **kwargs)\u001b[0m\n\u001b[1;32m    328\u001b[0m \u001b[0;34m\u001b[0m\u001b[0m\n\u001b[1;32m    329\u001b[0m         rv = self.transport.upload_to_ram_and_program(\n\u001b[0;32m--> 330\u001b[0;31m                 filename=filename, wait_complete=wait_complete, **kwargs)\n\u001b[0m\u001b[1;32m    331\u001b[0m \u001b[0;34m\u001b[0m\u001b[0m\n\u001b[1;32m    332\u001b[0m         \u001b[0;32mif\u001b[0m \u001b[0;32mnot\u001b[0m \u001b[0mwait_complete\u001b[0m\u001b[0;34m:\u001b[0m\u001b[0;34m\u001b[0m\u001b[0;34m\u001b[0m\u001b[0m\n",
      "\u001b[0;32m~/anaconda3/envs/casa/lib/python3.6/site-packages/casperfpga-0.4.4.dev1077+head.e76da15-py3.6-linux-x86_64.egg/casperfpga/transport_tapcp.py\u001b[0m in \u001b[0;36mupload_to_ram_and_program\u001b[0;34m(self, filename, port, timeout, wait_complete, force)\u001b[0m\n\u001b[1;32m    377\u001b[0m         \u001b[0;32mif\u001b[0m\u001b[0;34m(\u001b[0m\u001b[0mfilename\u001b[0m\u001b[0;34m.\u001b[0m\u001b[0mendswith\u001b[0m\u001b[0;34m(\u001b[0m\u001b[0;34m'.fpg'\u001b[0m\u001b[0;34m)\u001b[0m\u001b[0;34m)\u001b[0m\u001b[0;34m:\u001b[0m\u001b[0;34m\u001b[0m\u001b[0;34m\u001b[0m\u001b[0m\n\u001b[1;32m    378\u001b[0m             \u001b[0mself\u001b[0m\u001b[0;34m.\u001b[0m\u001b[0mlogger\u001b[0m\u001b[0;34m.\u001b[0m\u001b[0minfo\u001b[0m\u001b[0;34m(\u001b[0m\u001b[0;34m\"Programming with an .fpg file. Checking if it is already in flash\"\u001b[0m\u001b[0;34m)\u001b[0m\u001b[0;34m\u001b[0m\u001b[0;34m\u001b[0m\u001b[0m\n\u001b[0;32m--> 379\u001b[0;31m             \u001b[0mheader\u001b[0m\u001b[0;34m,\u001b[0m \u001b[0mprog\u001b[0m\u001b[0;34m,\u001b[0m \u001b[0mmd5\u001b[0m \u001b[0;34m=\u001b[0m \u001b[0mself\u001b[0m\u001b[0;34m.\u001b[0m\u001b[0m_extract_bitstream\u001b[0m\u001b[0;34m(\u001b[0m\u001b[0mfilename\u001b[0m\u001b[0;34m)\u001b[0m\u001b[0;34m\u001b[0m\u001b[0;34m\u001b[0m\u001b[0m\n\u001b[0m\u001b[1;32m    380\u001b[0m             \u001b[0;31m# Align header with sector size\u001b[0m\u001b[0;34m\u001b[0m\u001b[0;34m\u001b[0m\u001b[0;34m\u001b[0m\u001b[0m\n\u001b[1;32m    381\u001b[0m             \u001b[0;32mif\u001b[0m \u001b[0mlen\u001b[0m\u001b[0;34m(\u001b[0m\u001b[0mheader\u001b[0m\u001b[0;34m)\u001b[0m \u001b[0;34m%\u001b[0m \u001b[0mFLASH_SECTOR_SIZE\u001b[0m\u001b[0;34m:\u001b[0m\u001b[0;34m\u001b[0m\u001b[0;34m\u001b[0m\u001b[0m\n",
      "\u001b[0;32m~/anaconda3/envs/casa/lib/python3.6/site-packages/casperfpga-0.4.4.dev1077+head.e76da15-py3.6-linux-x86_64.egg/casperfpga/transport_tapcp.py\u001b[0m in \u001b[0;36m_extract_bitstream\u001b[0;34m(self, filename)\u001b[0m\n\u001b[1;32m    222\u001b[0m         \u001b[0mExtract\u001b[0m \u001b[0mthe\u001b[0m \u001b[0mheader\u001b[0m \u001b[0;32mand\u001b[0m \u001b[0mprogram\u001b[0m \u001b[0mbitstream\u001b[0m \u001b[0;32mfrom\u001b[0m \u001b[0mthe\u001b[0m \u001b[0minput\u001b[0m \u001b[0mfile\u001b[0m \u001b[0mprovided\u001b[0m\u001b[0;34m.\u001b[0m\u001b[0;34m\u001b[0m\u001b[0;34m\u001b[0m\u001b[0m\n\u001b[1;32m    223\u001b[0m         \"\"\"\n\u001b[0;32m--> 224\u001b[0;31m         \u001b[0;32mwith\u001b[0m \u001b[0mopen\u001b[0m\u001b[0;34m(\u001b[0m\u001b[0mfilename\u001b[0m\u001b[0;34m,\u001b[0m \u001b[0;34m'rb'\u001b[0m\u001b[0;34m)\u001b[0m \u001b[0;32mas\u001b[0m \u001b[0mfh\u001b[0m\u001b[0;34m:\u001b[0m\u001b[0;34m\u001b[0m\u001b[0;34m\u001b[0m\u001b[0m\n\u001b[0m\u001b[1;32m    225\u001b[0m             \u001b[0mfpg\u001b[0m \u001b[0;34m=\u001b[0m \u001b[0mfh\u001b[0m\u001b[0;34m.\u001b[0m\u001b[0mread\u001b[0m\u001b[0;34m(\u001b[0m\u001b[0;34m)\u001b[0m\u001b[0;34m\u001b[0m\u001b[0;34m\u001b[0m\u001b[0m\n\u001b[1;32m    226\u001b[0m \u001b[0;34m\u001b[0m\u001b[0m\n",
      "\u001b[0;31mFileNotFoundError\u001b[0m: [Errno 2] No such file or directory: '/home/ubuntu/proj/lwa-shell/caltech-lwa/snap2_f_200msps_64i_4096c/outputs/snap2_f_200msps_64i_4096c_2022-01-10_2153.fpg'"
     ]
    }
   ],
   "source": [
    "#connect to boards and load firmware\n",
    "\n",
    "firmware = \"/home/ubuntu/proj/lwa-shell/caltech-lwa/snap2_f_200msps_64i_4096c/outputs/snap2_f_200msps_64i_4096c_2022-01-10_2153.fpg\"\n",
    "[brd.upload_to_ram_and_program(firmware) for brd in brds]\n",
    "[print(brdnames[i],'Is connected? ', brds[i].is_connected()) for i in range(len(brds))]"
   ]
  },
  {
   "cell_type": "code",
   "execution_count": null,
   "metadata": {},
   "outputs": [],
   "source": []
  }
 ],
 "metadata": {
  "kernelspec": {
   "display_name": "Python 3",
   "language": "python",
   "name": "python3"
  },
  "language_info": {
   "codemirror_mode": {
    "name": "ipython",
    "version": 3
   },
   "file_extension": ".py",
   "mimetype": "text/x-python",
   "name": "python",
   "nbconvert_exporter": "python",
   "pygments_lexer": "ipython3",
   "version": "3.6.10"
  }
 },
 "nbformat": 4,
 "nbformat_minor": 4
}
