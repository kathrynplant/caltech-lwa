{
 "cells": [
  {
   "cell_type": "code",
   "execution_count": 150,
   "id": "ed142976",
   "metadata": {},
   "outputs": [],
   "source": [
    "import matplotlib.pyplot as plt\n",
    "import numpy as np\n",
    "import casperfpga\n",
    "import time\n",
    "from lwa_f import snap2_fengine\n",
    "from lwa_f import blocks\n",
    "#from lwautils import lwa_arx \n",
    "import pandas as pd\n",
    "from cr_functions import *\n",
    "import struct\n",
    "import math\n",
    "from scipy import special as sp\n",
    "from scipy import optimize as oz\n",
    "from scipy import stats as st\n",
    "from lwa_antpos import mapping\n",
    "import os\n",
    "from astropy.time import Time\n",
    "\n",
    "fname_prefix='/home/ubuntu/kp/data/2024August12/'\n"
   ]
  },
  {
   "cell_type": "markdown",
   "id": "4f24339b",
   "metadata": {},
   "source": []
  },
  {
   "cell_type": "code",
   "execution_count": null,
   "id": "d4ef781b",
   "metadata": {},
   "outputs": [],
   "source": []
  },
  {
   "cell_type": "code",
   "execution_count": null,
   "id": "38f34f3f",
   "metadata": {},
   "outputs": [],
   "source": []
  },
  {
   "cell_type": "markdown",
   "id": "1d6690d8",
   "metadata": {},
   "source": [
    "## Connect to SNAP2 boards"
   ]
  },
  {
   "cell_type": "code",
   "execution_count": 3,
   "id": "827bc006",
   "metadata": {},
   "outputs": [
    {
     "name": "stdout",
     "output_type": "stream",
     "text": [
      "2024-07-19 01:14:50,976 - lwa_f.blocks.block:snap01 - INFO - eth - Couldn't find Ethernet core. Will retry later\n",
      "2024-07-19 01:14:50,980 - lwa_f.blocks.block:snap02 - INFO - eth - Couldn't find Ethernet core. Will retry later\n",
      "2024-07-19 01:14:50,984 - lwa_f.blocks.block:snap03 - INFO - eth - Couldn't find Ethernet core. Will retry later\n",
      "2024-07-19 01:14:50,986 - lwa_f.blocks.block:snap04 - INFO - eth - Couldn't find Ethernet core. Will retry later\n",
      "2024-07-19 01:14:50,989 - lwa_f.blocks.block:snap05 - INFO - eth - Couldn't find Ethernet core. Will retry later\n",
      "2024-07-19 01:14:51,014 - lwa_f.blocks.block:snap06 - INFO - eth - Couldn't find Ethernet core. Will retry later\n",
      "2024-07-19 01:14:51,017 - lwa_f.blocks.block:snap07 - INFO - eth - Couldn't find Ethernet core. Will retry later\n",
      "2024-07-19 01:14:51,020 - lwa_f.blocks.block:snap08 - INFO - eth - Couldn't find Ethernet core. Will retry later\n",
      "2024-07-19 01:14:51,023 - lwa_f.blocks.block:snap09 - INFO - eth - Couldn't find Ethernet core. Will retry later\n",
      "2024-07-19 01:14:51,025 - lwa_f.blocks.block:snap10 - INFO - eth - Couldn't find Ethernet core. Will retry later\n",
      "2024-07-19 01:14:51,027 - lwa_f.blocks.block:snap11 - INFO - eth - Couldn't find Ethernet core. Will retry later\n"
     ]
    }
   ],
   "source": [
    "brdnames=['snap01','snap02','snap03','snap04','snap05','snap06','snap07','snap08','snap09','snap10','snap11']\n",
    "\n",
    "#connect through Jack's fengine etcd interface for everything that can go through etcd\n",
    "snapbrds = [snap2_fengine.Snap2FengineEtcd(brdname).fpga for brdname in brdnames]  \n",
    "fpgfile='/home/ubuntu/kp/caltech-lwa/snap2_f_200msps_64i_4096c/outputs/snap2_f_200msps_64i_4096c.fpg'\n"
   ]
  },
  {
   "cell_type": "markdown",
   "id": "9db974c2",
   "metadata": {},
   "source": [
    "## Completely reset trigger on all boards to make sure there aren't already trigger and veto settings"
   ]
  },
  {
   "cell_type": "code",
   "execution_count": 22,
   "id": "a848d37e",
   "metadata": {},
   "outputs": [],
   "source": [
    "\n",
    "\n",
    "veto_roles_array=np.zeros(64,dtype=int)\n",
    "core_roles_array=np.zeros(64,dtype=int)\n",
    "for p in range(11):\n",
    "    snapbrd=snapbrds[p]\n",
    "    setup_coincidencer(snapbrd,0,\n",
    "                          0,\n",
    "                          0,\n",
    "                          0,\n",
    "                          0,\n",
    "                          0,\n",
    "                          core_roles_array,\n",
    "                          veto_roles_array)\n",
    "    setvalue(snapbrd,\"enable_coinc_trig\",\"cr_registers.xlsx\",0)\n"
   ]
  },
  {
   "cell_type": "markdown",
   "id": "b2d785e3",
   "metadata": {},
   "source": []
  },
  {
   "cell_type": "code",
   "execution_count": null,
   "id": "7b78b653",
   "metadata": {},
   "outputs": [],
   "source": []
  },
  {
   "cell_type": "code",
   "execution_count": null,
   "id": "c3428e03",
   "metadata": {},
   "outputs": [],
   "source": []
  },
  {
   "cell_type": "code",
   "execution_count": null,
   "id": "6cb6f341",
   "metadata": {},
   "outputs": [],
   "source": []
  },
  {
   "cell_type": "code",
   "execution_count": 232,
   "id": "9592db8e",
   "metadata": {},
   "outputs": [
    {
     "ename": "AssertionError",
     "evalue": "board didn't reset to listen",
     "output_type": "error",
     "traceback": [
      "\u001b[0;31m---------------------------------------------------------------------------\u001b[0m",
      "\u001b[0;31mAssertionError\u001b[0m                            Traceback (most recent call last)",
      "\u001b[0;32m<ipython-input-232-6fcb4646de97>\u001b[0m in \u001b[0;36m<module>\u001b[0;34m\u001b[0m\n\u001b[1;32m      2\u001b[0m \u001b[0;34m\u001b[0m\u001b[0m\n\u001b[1;32m      3\u001b[0m \u001b[0;31m#send trigger to just one board and all will send packets\u001b[0m\u001b[0;34m\u001b[0m\u001b[0;34m\u001b[0m\u001b[0;34m\u001b[0m\u001b[0m\n\u001b[0;32m----> 4\u001b[0;31m \u001b[0msoftware_trigger\u001b[0m\u001b[0;34m(\u001b[0m\u001b[0msnapbrds\u001b[0m\u001b[0;34m[\u001b[0m\u001b[0;36m1\u001b[0m\u001b[0;34m]\u001b[0m\u001b[0;34m,\u001b[0m\u001b[0;36m1\u001b[0m\u001b[0;34m)\u001b[0m\u001b[0;34m\u001b[0m\u001b[0;34m\u001b[0m\u001b[0m\n\u001b[0m",
      "\u001b[0;32m~/kp/caltech-lwa/cosmic_ray_scripts/snap2_control/cr_functions.py\u001b[0m in \u001b[0;36msoftware_trigger\u001b[0;34m(brd, stats)\u001b[0m\n\u001b[1;32m    185\u001b[0m     \u001b[0mreset_to_listen\u001b[0m\u001b[0;34m(\u001b[0m\u001b[0mbrd\u001b[0m\u001b[0;34m)\u001b[0m\u001b[0;34m\u001b[0m\u001b[0;34m\u001b[0m\u001b[0m\n\u001b[1;32m    186\u001b[0m     \u001b[0mval\u001b[0m\u001b[0;34m=\u001b[0m\u001b[0mgetvalue\u001b[0m\u001b[0;34m(\u001b[0m\u001b[0mbrd\u001b[0m\u001b[0;34m,\u001b[0m\u001b[0;34m\"readout_state_value\"\u001b[0m\u001b[0;34m,\u001b[0m\u001b[0;34m\"cr_registers.xlsx\"\u001b[0m\u001b[0;34m)\u001b[0m\u001b[0;34m\u001b[0m\u001b[0;34m\u001b[0m\u001b[0m\n\u001b[0;32m--> 187\u001b[0;31m     \u001b[0;32massert\u001b[0m \u001b[0mval\u001b[0m\u001b[0;34m==\u001b[0m\u001b[0;36m0\u001b[0m\u001b[0;34m,\u001b[0m \u001b[0;34m\"board didn't reset to listen\"\u001b[0m\u001b[0;34m\u001b[0m\u001b[0;34m\u001b[0m\u001b[0m\n\u001b[0m\u001b[1;32m    188\u001b[0m \u001b[0;34m\u001b[0m\u001b[0m\n\u001b[1;32m    189\u001b[0m     \u001b[0;32mif\u001b[0m \u001b[0mstats\u001b[0m\u001b[0;34m:\u001b[0m\u001b[0;34m\u001b[0m\u001b[0;34m\u001b[0m\u001b[0m\n",
      "\u001b[0;31mAssertionError\u001b[0m: board didn't reset to listen"
     ]
    }
   ],
   "source": [
    "[setvalue(snapbrd,\"enable_coinc_trig\",\"cr_registers.xlsx\",0) for snapbrd in snapbrds]\n",
    "\n",
    "#send trigger to just one board and all will send packets\n",
    "software_trigger(snapbrds[1],1)"
   ]
  },
  {
   "cell_type": "code",
   "execution_count": 221,
   "id": "b4adfefa",
   "metadata": {},
   "outputs": [
    {
     "name": "stdout",
     "output_type": "stream",
     "text": [
      "Packetizer formed 64 packets\n",
      "Board successfully returned to listening state after readout\n",
      "Readout took 137669 clock cycles\n",
      "Packetizer never overflowed\n",
      "Ethernet block almost-full counter incremented by 0\n"
     ]
    }
   ],
   "source": [
    "software_trigger(snapbrds[4],1)"
   ]
  },
  {
   "cell_type": "code",
   "execution_count": null,
   "id": "d003aa17",
   "metadata": {},
   "outputs": [],
   "source": []
  },
  {
   "cell_type": "markdown",
   "id": "563a8fdb",
   "metadata": {},
   "source": [
    "## Configure Trigger "
   ]
  },
  {
   "cell_type": "code",
   "execution_count": 147,
   "id": "776d45cf",
   "metadata": {},
   "outputs": [],
   "source": [
    "#configure trigger\n",
    "[setvalue(snapbrd,\"enable_coinc_trig\",\"cr_registers.xlsx\",0) for snapbrd in snapbrds]\n",
    "\n",
    "\n",
    "current_ok_vetos=np.load('/home/ubuntu/kp/ok_vetos-2024-7-14.npy')\n",
    "current_ok_core=np.load('/home/ubuntu/kp/ok_core-2024-7-14.npy')\n",
    "\n",
    "\n",
    "coresnaps=[2,3,4,5,6,7,8,9,10] #zero indexed\n",
    "#set up coincidencer\n",
    "trigger_power_thresh=275**2\n",
    "veto_power_thresh=175**2\n",
    "trigger_window=int(round(1.96e8*100/3e8,1)) #number of clock cycles to travel 100 meters\n",
    "veto_window=int(round(1.96e8*2000/3e8,1)) #number of clock cycles to travel 2000 meters\n",
    "antenna_number_thresh=7\n",
    "veto_number_thresh=2\n",
    "\n",
    "bufferwait=2000\n",
    "tries=15\n",
    "#sparse array snaps need a longer trigger window\n",
    "for b in coresnaps:\n",
    "    snapbrd=snapbrds[b]\n",
    "    veto_roles_array=current_ok_vetos[b,:]\n",
    "    core_roles_array=current_ok_core[b,:]\n",
    "    for attempt in range(tries):\n",
    "        try:\n",
    "            setup_coincidencer(snapbrd,trigger_power_thresh,\n",
    "                          veto_power_thresh,\n",
    "                          trigger_window,\n",
    "                          veto_window,\n",
    "                          antenna_number_thresh,\n",
    "                          veto_number_thresh,\n",
    "                          core_roles_array,\n",
    "                          veto_roles_array)\n",
    "            setvalue(snapbrd,\"delay_trigger\",\"cr_registers.xlsx\",bufferwait)\n",
    "        except:\n",
    "                if attempt<tries-1:\n",
    "                    continue\n",
    "                else:\n",
    "                    raise\n",
    "        break\n",
    "            \n",
    "sparsesnaps=[0,1] #zero indexed\n",
    "trigger_window=int(round(1.96e8*100/3e8,1)) #this time, same as the others\n",
    "\n",
    "for b in sparsesnaps:\n",
    "    snapbrd=snapbrds[b]\n",
    "    veto_roles_array=current_ok_vetos[b,:]\n",
    "    core_roles_array=current_ok_core[b,:]\n",
    "    for attempt in range(tries):\n",
    "        try:\n",
    "            setup_coincidencer(snapbrd,trigger_power_thresh,\n",
    "                          veto_power_thresh,\n",
    "                          trigger_window,\n",
    "                          veto_window,\n",
    "                          antenna_number_thresh,\n",
    "                          veto_number_thresh,\n",
    "                          core_roles_array,\n",
    "                          veto_roles_array)\n",
    "            setvalue(snapbrd,\"delay_trigger\",\"cr_registers.xlsx\",bufferwait)\n",
    "        except:\n",
    "                if attempt<tries-1:\n",
    "                    continue\n",
    "                else:\n",
    "                    raise\n",
    "        break\n",
    "            "
   ]
  },
  {
   "cell_type": "code",
   "execution_count": null,
   "id": "135e16bd",
   "metadata": {},
   "outputs": [],
   "source": []
  },
  {
   "cell_type": "code",
   "execution_count": null,
   "id": "750ab850",
   "metadata": {},
   "outputs": [],
   "source": []
  },
  {
   "cell_type": "code",
   "execution_count": null,
   "id": "2b5393ae",
   "metadata": {},
   "outputs": [],
   "source": []
  },
  {
   "cell_type": "code",
   "execution_count": null,
   "id": "60b582cb",
   "metadata": {},
   "outputs": [],
   "source": []
  },
  {
   "cell_type": "markdown",
   "id": "1726e134",
   "metadata": {},
   "source": [
    "## Run Rate Monitor and Detector"
   ]
  },
  {
   "cell_type": "code",
   "execution_count": null,
   "id": "b004b960",
   "metadata": {},
   "outputs": [],
   "source": [
    "%%capture output\n",
    "\n",
    "starttimestring='2024-08-13T06:00:00'\n",
    "duration=10*60*60 #in seconds\n",
    "waittime=30 #time between reading monitor\n",
    "\n",
    "tstart=Time(starttimestring,format='isot',scale='utc')\n",
    "yet=(time.time()>tstart.unix)\n",
    "while not yet:\n",
    "    yet=(time.time()>tstart.unix)\n",
    "    time.sleep(1)\n",
    "\n",
    "\n",
    "#When it's time to observe\n",
    "[setvalue(snapbrd,\"enable_coinc_trig\",\"cr_registers.xlsx\",1) for snapbrd in snapbrds] \n",
    "\n",
    "finish=tstart.unix+duration\n",
    "\n",
    "core_triggers=np.zeros((11,int(duration/waittime)))\n",
    "veto_triggers=np.zeros((11,int(duration/waittime)))\n",
    "core_cycles=np.zeros((11,int(duration/waittime)))\n",
    "veto_cycles=np.zeros((11,int(duration/waittime)))\n",
    "successful_triggers=np.zeros((11,int(duration/waittime)))\n",
    "readout_dones=np.zeros((11,int(duration/waittime)))\n",
    "\n",
    "\n",
    "i=0\n",
    "tries=10\n",
    "\n",
    "time.sleep(waittime)\n",
    "while time.time()<finish:\n",
    "    for b in [0,1,2,3,4,5,6,7,8,9,10]:\n",
    "        for attempt in range(tries):\n",
    "            try:\n",
    "                snapbrd=snapbrds[b]\n",
    "                veto_coincidence,core_coincidence=snapbrd.read_list_from_ram(\"cosmic_ray_core_and_veto_rate\",2,'u4')\n",
    "                veto_total_cycles,core_total_cycles=snapbrd.read_list_from_ram(\"cosmic_ray_core_n_veto_tot_clk_cycles\",2,'u4')\n",
    "                readout_done,successful_trigger=snapbrd.read_list_from_ram(\"cosmic_ray_core_n_veto_tot_clk_cycles1\",2,'u4')\n",
    "                core_triggers[b,i]=core_coincidence            \n",
    "                veto_triggers[b,i]=veto_coincidence\n",
    "                core_cycles[b,i]=core_total_cycles\n",
    "                veto_cycles[b,i]=veto_total_cycles\n",
    "                successful_triggers[b,i]=successful_trigger\n",
    "                readout_dones[b,i]=readout_done\n",
    "            except:\n",
    "                if attempt<tries-1:\n",
    "                    continue\n",
    "                else:\n",
    "                    raise\n",
    "            break\n",
    "            \n",
    "    time.sleep(waittime)\n",
    "    i+=1\n",
    "\n",
    "#turn trigger off\n",
    "[setvalue(snapbrd,\"enable_coinc_trig\",\"cr_registers.xlsx\",0) for snapbrd in snapbrds]\n",
    "\n",
    "\n",
    "#save results\n",
    "np.save(fname_prefix+'core',np.asarray(core_triggers))\n",
    "np.save(fname_prefix+'veto',np.asarray(veto_triggers))\n",
    "np.save(fname_prefix+'vetocycles',np.asarray(veto_cycles))\n",
    "np.save(fname_prefix+'corecycles',np.asarray(core_cycles))\n",
    "np.save(fname_prefix+'successfultrigger',np.asarray(successful_triggers))\n",
    "np.save(fname_prefix+'readoutdone',np.asarray(readout_dones))\n"
   ]
  },
  {
   "cell_type": "code",
   "execution_count": null,
   "id": "9ceba355",
   "metadata": {},
   "outputs": [],
   "source": [
    "output.show()"
   ]
  },
  {
   "cell_type": "code",
   "execution_count": 152,
   "id": "c0e25fc7",
   "metadata": {},
   "outputs": [
    {
     "name": "stdout",
     "output_type": "stream",
     "text": [
      "0\n"
     ]
    }
   ],
   "source": [
    "print(i)"
   ]
  },
  {
   "cell_type": "markdown",
   "id": "2ae5d230",
   "metadata": {},
   "source": [
    "## Troubleshoot monitor"
   ]
  },
  {
   "cell_type": "code",
   "execution_count": 137,
   "id": "786d899d",
   "metadata": {},
   "outputs": [
    {
     "name": "stdout",
     "output_type": "stream",
     "text": [
      "0.0 0.0\n",
      "409 409\n",
      "0 0\n"
     ]
    }
   ],
   "source": [
    "print(np.min(core_triggers),np.max(core_triggers))\n",
    "print(np.min(core_coincidence),np.max(core_coincidence))\n",
    "print(np.min(veto_coincidence),np.max(veto_coincidence))\n"
   ]
  },
  {
   "cell_type": "markdown",
   "id": "b27af01e",
   "metadata": {},
   "source": [
    "## Troubleshoot ethernet-- run this with f-engine polling turned off"
   ]
  },
  {
   "cell_type": "code",
   "execution_count": 252,
   "id": "0c1817c6",
   "metadata": {},
   "outputs": [],
   "source": [
    "casperbrds = [casperfpga.CasperFpga(brdname, transport=casperfpga.TapcpTransport) for brdname in brdnames]\n",
    "brdnames=['snap01','snap02','snap03','snap04','snap05','snap06','snap07','snap08','snap09','snap10','snap11']"
   ]
  },
  {
   "cell_type": "code",
   "execution_count": 183,
   "id": "56a1e068",
   "metadata": {},
   "outputs": [],
   "source": [
    "#disable ethernet and make sure trigger settings are reset for all\n",
    "for p in range(11):\n",
    "    casperbrd=casperbrds[p]\n",
    "    setup_coincidencer(casperbrd,0,0,0,0,0,0,core_roles_array,veto_roles_array)\n",
    "\n",
    "    setvalue(casperbrd,'eth_enable','cr_registers.xlsx',1) \n"
   ]
  },
  {
   "cell_type": "code",
   "execution_count": 86,
   "id": "56c58bec",
   "metadata": {},
   "outputs": [
    {
     "name": "stdout",
     "output_type": "stream",
     "text": [
      "Data source set to adc\n",
      "------------------------\n",
      "snap04:cosmic_ray_cr_forty_gbe configuration:\n",
      "MAC:  02:02:02:04:04:04\n",
      "Gateway:  0.0.0.1\n",
      "IP:  10.41.0.204\n",
      "Fabric port: \n",
      "11111\n",
      "Fabric interface is currently: Enabled\n",
      "\tbase_ip: 255.255.255.255\n",
      "\tip_mask: 255.255.255.255\n",
      "\trx_ips: []\n",
      "ARP Table: \n",
      "IP: 10.41.0. 25: MAC: 04:3F:72:DF:C1:F0\n",
      "Setting wait between packets to 100\n",
      "Packetizer formed 64 packets\n",
      "Board successfully returned to listening state after readout\n",
      "Readout took 137669 clock cycles\n",
      "Packetizer never overflowed\n",
      "Ethernet block almost-full counter incremented by 0\n"
     ]
    }
   ],
   "source": [
    "i=3\n",
    "\n",
    "\n",
    "computer='gpu09' # 'lwacr' or 'gpu09'\n",
    "packetwait=100 #clock cycles between packets\n",
    "wait_after_readout=200 #time [clock cycles] to wait for other boards to finish readout\n",
    "\n",
    "casperbrd=casperbrds[i]\n",
    "brdname=brdnames[i]\n",
    "#prepare to send a snapshot\n",
    "setup_data_source(casperbrd,\"adc\") #set the data source to ADC\n",
    "setup_ethernet(brdname,casperbrd,fpgfile,computer,packetwait) #set up the ethernet packetizer and ethernet block\n",
    "setvalue(casperbrd,'wait_after_readout','cr_registers.xlsx',wait_after_readout) #set the wait time after readout before new internally-generated triggers are accepted\n",
    "setvalue(casperbrd,'brd_id','cr_registers.xlsx',int(brdname[-2:])) #set the board id\n",
    "setvalue(casperbrd,'eth_enable','cr_registers.xlsx',1)  #enable ethernet\n",
    "\n",
    "#send trigger\n",
    "software_trigger(snapbrds[i],1)\n"
   ]
  },
  {
   "cell_type": "code",
   "execution_count": 180,
   "id": "8e5e1386",
   "metadata": {},
   "outputs": [
    {
     "name": "stdout",
     "output_type": "stream",
     "text": [
      "Packetizer formed 64 packets\n",
      "Board successfully returned to listening state after readout\n",
      "Readout took 137669 clock cycles\n",
      "Packetizer never overflowed\n",
      "Ethernet block almost-full counter incremented by 0\n",
      "0 0\n",
      "1 0\n",
      "2 0\n",
      "3 0\n",
      "4 0\n",
      "5 0\n",
      "6 0\n",
      "7 0\n",
      "8 0\n",
      "9 0\n",
      "10 0\n"
     ]
    }
   ],
   "source": [
    "#send a trigger and then turn off the board's ethernet\n",
    "i=5\n",
    "setvalue(casperbrds[i],'eth_enable','cr_registers.xlsx',1)  #enable ethernet\n",
    "software_trigger(snapbrds[i],1)\n",
    "setvalue(casperbrds[i],'eth_enable','cr_registers.xlsx',0)  #disable ethernet\n",
    "\n",
    "for p in range(11):\n",
    "    casperbrd=casperbrds[p]\n",
    "    print(p,getvalue(casperbrd,'eth_enable','cr_registers.xlsx'))"
   ]
  },
  {
   "cell_type": "code",
   "execution_count": null,
   "id": "2c299a79",
   "metadata": {},
   "outputs": [],
   "source": []
  },
  {
   "cell_type": "code",
   "execution_count": 259,
   "id": "7fd46789",
   "metadata": {},
   "outputs": [
    {
     "name": "stdout",
     "output_type": "stream",
     "text": [
      "0\n",
      "0\n",
      "0\n",
      "0\n",
      "0\n",
      "0\n",
      "0\n",
      "0\n",
      "0\n",
      "0\n",
      "0\n"
     ]
    }
   ],
   "source": [
    "#enable or disable ethernet for all\n",
    "for p in range(11):\n",
    "    casperbrd=casperbrds[p]\n",
    "    setvalue(casperbrd,'eth_enable','cr_registers.xlsx',0) \n",
    "    print(getvalue(casperbrd,'eth_enable','cr_registers.xlsx'))"
   ]
  },
  {
   "cell_type": "code",
   "execution_count": 257,
   "id": "bea44d30",
   "metadata": {},
   "outputs": [
    {
     "ename": "AssertionError",
     "evalue": "board didn't reset to listen",
     "output_type": "error",
     "traceback": [
      "\u001b[0;31m---------------------------------------------------------------------------\u001b[0m",
      "\u001b[0;31mAssertionError\u001b[0m                            Traceback (most recent call last)",
      "\u001b[0;32m<ipython-input-257-fc62e0c80270>\u001b[0m in \u001b[0;36m<module>\u001b[0;34m\u001b[0m\n\u001b[1;32m      1\u001b[0m \u001b[0;31m#send a trigger to one board\u001b[0m\u001b[0;34m\u001b[0m\u001b[0;34m\u001b[0m\u001b[0;34m\u001b[0m\u001b[0m\n\u001b[0;32m----> 2\u001b[0;31m \u001b[0msoftware_trigger\u001b[0m\u001b[0;34m(\u001b[0m\u001b[0msnapbrds\u001b[0m\u001b[0;34m[\u001b[0m\u001b[0;36m10\u001b[0m\u001b[0;34m]\u001b[0m\u001b[0;34m,\u001b[0m\u001b[0;36m1\u001b[0m\u001b[0;34m)\u001b[0m\u001b[0;34m\u001b[0m\u001b[0;34m\u001b[0m\u001b[0m\n\u001b[0m",
      "\u001b[0;32m~/kp/caltech-lwa/cosmic_ray_scripts/snap2_control/cr_functions.py\u001b[0m in \u001b[0;36msoftware_trigger\u001b[0;34m(brd, stats)\u001b[0m\n\u001b[1;32m    185\u001b[0m     \u001b[0mreset_to_listen\u001b[0m\u001b[0;34m(\u001b[0m\u001b[0mbrd\u001b[0m\u001b[0;34m)\u001b[0m\u001b[0;34m\u001b[0m\u001b[0;34m\u001b[0m\u001b[0m\n\u001b[1;32m    186\u001b[0m     \u001b[0mval\u001b[0m\u001b[0;34m=\u001b[0m\u001b[0mgetvalue\u001b[0m\u001b[0;34m(\u001b[0m\u001b[0mbrd\u001b[0m\u001b[0;34m,\u001b[0m\u001b[0;34m\"readout_state_value\"\u001b[0m\u001b[0;34m,\u001b[0m\u001b[0;34m\"cr_registers.xlsx\"\u001b[0m\u001b[0;34m)\u001b[0m\u001b[0;34m\u001b[0m\u001b[0;34m\u001b[0m\u001b[0m\n\u001b[0;32m--> 187\u001b[0;31m     \u001b[0;32massert\u001b[0m \u001b[0mval\u001b[0m\u001b[0;34m==\u001b[0m\u001b[0;36m0\u001b[0m\u001b[0;34m,\u001b[0m \u001b[0;34m\"board didn't reset to listen\"\u001b[0m\u001b[0;34m\u001b[0m\u001b[0;34m\u001b[0m\u001b[0m\n\u001b[0m\u001b[1;32m    188\u001b[0m \u001b[0;34m\u001b[0m\u001b[0m\n\u001b[1;32m    189\u001b[0m     \u001b[0;32mif\u001b[0m \u001b[0mstats\u001b[0m\u001b[0;34m:\u001b[0m\u001b[0;34m\u001b[0m\u001b[0;34m\u001b[0m\u001b[0m\n",
      "\u001b[0;31mAssertionError\u001b[0m: board didn't reset to listen"
     ]
    }
   ],
   "source": [
    "#send a trigger to one board\n",
    "software_trigger(snapbrds[10],1)\n"
   ]
  },
  {
   "cell_type": "markdown",
   "id": "4a69990e",
   "metadata": {},
   "source": [
    "## Scratch"
   ]
  },
  {
   "cell_type": "code",
   "execution_count": 251,
   "id": "7d7203b9",
   "metadata": {},
   "outputs": [
    {
     "name": "stdout",
     "output_type": "stream",
     "text": [
      "1\n",
      "1\n",
      "1\n",
      "1\n",
      "1\n",
      "1\n",
      "1\n",
      "1\n",
      "1\n",
      "1\n",
      "1\n"
     ]
    },
    {
     "data": {
      "text/plain": [
       "[None, None, None, None, None, None, None, None, None, None, None]"
      ]
     },
     "execution_count": 251,
     "metadata": {},
     "output_type": "execute_result"
    }
   ],
   "source": [
    "[reset_to_listen(snapbrd) for snapbrd in snapbrds]\n",
    "\n",
    "[print(getvalue(snapbrd,\"readout_state_value\",\"cr_registers.xlsx\")) for snapbrd in snapbrds]\n"
   ]
  },
  {
   "cell_type": "code",
   "execution_count": 253,
   "id": "cfa1a8a8",
   "metadata": {},
   "outputs": [
    {
     "name": "stdout",
     "output_type": "stream",
     "text": [
      "1\n",
      "1\n",
      "1\n",
      "1\n",
      "1\n",
      "1\n",
      "1\n",
      "1\n",
      "1\n",
      "1\n",
      "1\n"
     ]
    },
    {
     "data": {
      "text/plain": [
       "[None, None, None, None, None, None, None, None, None, None, None]"
      ]
     },
     "execution_count": 253,
     "metadata": {},
     "output_type": "execute_result"
    }
   ],
   "source": [
    "[reset_to_listen(snapbrd) for snapbrd in casperbrds]\n",
    "\n",
    "[print(getvalue(snapbrd,\"readout_state_value\",\"cr_registers.xlsx\")) for snapbrd in casperbrds]\n"
   ]
  },
  {
   "cell_type": "code",
   "execution_count": 228,
   "id": "6ab2a6d4",
   "metadata": {},
   "outputs": [],
   "source": [
    "setvalue(snapbrds[0],\"send_trigger\",\"cr_registers.xlsx\",0)\n",
    "setvalue(snapbrds[0],\"send_trigger\",\"cr_registers.xlsx\",1)"
   ]
  },
  {
   "cell_type": "code",
   "execution_count": 233,
   "id": "220a8696",
   "metadata": {},
   "outputs": [
    {
     "name": "stdout",
     "output_type": "stream",
     "text": [
      "1\n",
      "1\n",
      "1\n",
      "1\n",
      "1\n",
      "1\n",
      "1\n",
      "1\n",
      "1\n",
      "1\n",
      "1\n"
     ]
    },
    {
     "data": {
      "text/plain": [
       "[None, None, None, None, None, None, None, None, None, None, None]"
      ]
     },
     "execution_count": 233,
     "metadata": {},
     "output_type": "execute_result"
    }
   ],
   "source": [
    "[print(getvalue(snapbrd,\"readout_state_value\",\"cr_registers.xlsx\")) for snapbrd in snapbrds]\n"
   ]
  },
  {
   "cell_type": "code",
   "execution_count": null,
   "id": "f03e59e5",
   "metadata": {},
   "outputs": [],
   "source": [
    "[setvalue(snapbrd,\"enable_coinc_trig\",\"cr_registers.xlsx\",0) for snapbrd in snapbrds]\n",
    "\n",
    "#send trigger to just one board and all will send packets\n",
    "software_trigger(snapbrds[1],1)"
   ]
  },
  {
   "cell_type": "code",
   "execution_count": null,
   "id": "95ac8da2",
   "metadata": {},
   "outputs": [],
   "source": [
    "[setvalue(snapbrd,\"enable_coinc_trig\",\"cr_registers.xlsx\",0) for snapbrd in snapbrds]\n"
   ]
  },
  {
   "cell_type": "code",
   "execution_count": 235,
   "id": "9fec468d",
   "metadata": {},
   "outputs": [
    {
     "ename": "AssertionError",
     "evalue": "board didn't reset to listen",
     "output_type": "error",
     "traceback": [
      "\u001b[0;31m---------------------------------------------------------------------------\u001b[0m",
      "\u001b[0;31mAssertionError\u001b[0m                            Traceback (most recent call last)",
      "\u001b[0;32m<ipython-input-235-4299a85eacb4>\u001b[0m in \u001b[0;36m<module>\u001b[0;34m\u001b[0m\n\u001b[1;32m      2\u001b[0m \u001b[0mreset_to_listen\u001b[0m\u001b[0;34m(\u001b[0m\u001b[0mbrd\u001b[0m\u001b[0;34m)\u001b[0m\u001b[0;34m\u001b[0m\u001b[0;34m\u001b[0m\u001b[0m\n\u001b[1;32m      3\u001b[0m \u001b[0mval\u001b[0m\u001b[0;34m=\u001b[0m\u001b[0mgetvalue\u001b[0m\u001b[0;34m(\u001b[0m\u001b[0mbrd\u001b[0m\u001b[0;34m,\u001b[0m\u001b[0;34m\"readout_state_value\"\u001b[0m\u001b[0;34m,\u001b[0m\u001b[0;34m\"cr_registers.xlsx\"\u001b[0m\u001b[0;34m)\u001b[0m\u001b[0;34m\u001b[0m\u001b[0;34m\u001b[0m\u001b[0m\n\u001b[0;32m----> 4\u001b[0;31m \u001b[0;32massert\u001b[0m \u001b[0mval\u001b[0m\u001b[0;34m==\u001b[0m\u001b[0;36m0\u001b[0m\u001b[0;34m,\u001b[0m \u001b[0;34m\"board didn't reset to listen\"\u001b[0m\u001b[0;34m\u001b[0m\u001b[0;34m\u001b[0m\u001b[0m\n\u001b[0m",
      "\u001b[0;31mAssertionError\u001b[0m: board didn't reset to listen"
     ]
    }
   ],
   "source": [
    "brd=snapbrds[0]\n",
    "reset_to_listen(brd)\n",
    "val=getvalue(brd,\"readout_state_value\",\"cr_registers.xlsx\")\n",
    "assert val==0, \"board didn't reset to listen\""
   ]
  },
  {
   "cell_type": "code",
   "execution_count": 236,
   "id": "8758116a",
   "metadata": {},
   "outputs": [
    {
     "data": {
      "text/plain": [
       "1"
      ]
     },
     "execution_count": 236,
     "metadata": {},
     "output_type": "execute_result"
    }
   ],
   "source": [
    "getvalue(brd,\"readout_state_value\",\"cr_registers.xlsx\")"
   ]
  },
  {
   "cell_type": "code",
   "execution_count": 237,
   "id": "d35ba37e",
   "metadata": {},
   "outputs": [
    {
     "ename": "AssertionError",
     "evalue": "board didn't reset to listen",
     "output_type": "error",
     "traceback": [
      "\u001b[0;31m---------------------------------------------------------------------------\u001b[0m",
      "\u001b[0;31mAssertionError\u001b[0m                            Traceback (most recent call last)",
      "\u001b[0;32m<ipython-input-237-3739baebe628>\u001b[0m in \u001b[0;36m<module>\u001b[0;34m\u001b[0m\n\u001b[0;32m----> 1\u001b[0;31m \u001b[0;32massert\u001b[0m \u001b[0mval\u001b[0m\u001b[0;34m==\u001b[0m\u001b[0;36m0\u001b[0m\u001b[0;34m,\u001b[0m \u001b[0;34m\"board didn't reset to listen\"\u001b[0m\u001b[0;34m\u001b[0m\u001b[0;34m\u001b[0m\u001b[0m\n\u001b[0m",
      "\u001b[0;31mAssertionError\u001b[0m: board didn't reset to listen"
     ]
    }
   ],
   "source": [
    "assert val==0, \"board didn't reset to listen\""
   ]
  },
  {
   "cell_type": "code",
   "execution_count": 250,
   "id": "64d13c58",
   "metadata": {},
   "outputs": [
    {
     "name": "stdout",
     "output_type": "stream",
     "text": [
      "0\n",
      "0\n",
      "0\n",
      "0\n",
      "0\n",
      "0\n",
      "0\n",
      "0\n",
      "0\n",
      "0\n",
      "0\n"
     ]
    },
    {
     "data": {
      "text/plain": [
       "[None, None, None, None, None, None, None, None, None, None, None]"
      ]
     },
     "execution_count": 250,
     "metadata": {},
     "output_type": "execute_result"
    }
   ],
   "source": [
    "[print(getvalue(snapbrd,\"enable_coinc_trig\",\"cr_registers.xlsx\")) for snapbrd in snapbrds]\n"
   ]
  },
  {
   "cell_type": "code",
   "execution_count": 248,
   "id": "ce40da3f",
   "metadata": {},
   "outputs": [
    {
     "name": "stdout",
     "output_type": "stream",
     "text": [
      "1\n",
      "1\n"
     ]
    }
   ],
   "source": [
    "setvalue(brd,'reset_to_listen','cr_registers.xlsx',1)\n",
    "print(getvalue(brd,\"reset_to_listen\",\"cr_registers.xlsx\"))\n",
    "print(getvalue(brd,\"readout_state_value\",\"cr_registers.xlsx\"))"
   ]
  },
  {
   "cell_type": "code",
   "execution_count": 243,
   "id": "32877329",
   "metadata": {},
   "outputs": [
    {
     "data": {
      "text/plain": [
       "1"
      ]
     },
     "execution_count": 243,
     "metadata": {},
     "output_type": "execute_result"
    }
   ],
   "source": [
    "getvalue(brd,'reset_to_listen','cr_registers.xlsx')\n",
    "getvalue(brd,\"readout_state_value\",\"cr_registers.xlsx\")"
   ]
  },
  {
   "cell_type": "code",
   "execution_count": 256,
   "id": "d1c1ba29",
   "metadata": {},
   "outputs": [
    {
     "name": "stdout",
     "output_type": "stream",
     "text": [
      "1\n",
      "1\n"
     ]
    }
   ],
   "source": [
    "brd2=casperbrds[2]  #not going through etcd\n",
    "setvalue(brd2,'reset_to_listen','cr_registers.xlsx',1)\n",
    "print(getvalue(brd2,\"reset_to_listen\",\"cr_registers.xlsx\"))\n",
    "print(getvalue(brd2,\"readout_state_value\",\"cr_registers.xlsx\"))"
   ]
  },
  {
   "cell_type": "code",
   "execution_count": null,
   "id": "133a586c",
   "metadata": {},
   "outputs": [],
   "source": [
    "print(np.max(core_triggers))\n",
    "print(core_triggers.shape)\n",
    "print(8*60*60/30)\n",
    "print(i)\n",
    "print(int(duration/waittime))\n",
    "print(i,(i*waittime)/(60*60))"
   ]
  },
  {
   "cell_type": "code",
   "execution_count": null,
   "id": "4531d729",
   "metadata": {},
   "outputs": [],
   "source": [
    "starttimestring='2024-07-03T23:10:30'\n",
    "duration=10 #in seconds\n",
    "waittime=1 #time between reading monitor\n",
    "\n",
    "tstart=Time(starttimestring,format='isot',scale='utc')\n",
    "yet=(time.time()>tstart.unix)\n",
    "while not yet:\n",
    "    yet=(time.time()>tstart.unix)\n",
    "    time.sleep(1)\n",
    "finish=tstart.unix+duration\n",
    "while time.time()<finish:\n",
    "    print('working')\n",
    "    time.sleep(1)"
   ]
  },
  {
   "cell_type": "code",
   "execution_count": null,
   "id": "63296d2b",
   "metadata": {},
   "outputs": [],
   "source": []
  },
  {
   "cell_type": "code",
   "execution_count": null,
   "id": "6f3166f9",
   "metadata": {},
   "outputs": [],
   "source": []
  },
  {
   "cell_type": "code",
   "execution_count": null,
   "id": "557b5240",
   "metadata": {},
   "outputs": [],
   "source": []
  },
  {
   "cell_type": "code",
   "execution_count": null,
   "id": "f59766a0",
   "metadata": {},
   "outputs": [],
   "source": [
    "\n"
   ]
  },
  {
   "cell_type": "code",
   "execution_count": null,
   "id": "e70756be",
   "metadata": {},
   "outputs": [],
   "source": [
    "import argparse\n",
    "import numpy as np\n",
    "import casperfpga\n",
    "import time\n",
    "from lwa_f import snap2_fengine\n",
    "from lwa_f import blocks\n",
    "from cr_functions import *\n",
    "\n",
    "#parse arguments\n",
    "parser=argparse.ArgumentParser(description='Run cosmic ray trigger on muon detector only')\n",
    "parser.add_argument('threshold',type=int,help=\"Power threshold for muon detector.\")\n",
    "parser.add_argument('duration', type=str, help= \"Number of seconds to run detector.\")\n",
    "\n",
    "args=parser.parse_args()\n",
    "\n",
    "## main parameters to adjust\n",
    "trigger_power_thresh=args.threshold\n",
    "duration = args.duration\n",
    "\n",
    "#turn off the trigger for all the snap boards\n",
    "[setvalue(snapbrd,\"enable_coinc_trig\",\"cr_registers.xlsx\",0) for snapbrd in snapbrds]\n",
    "\n",
    "# which snap board and input correspond to the muon detector\n",
    "snapbrd=snapbrds[3]  \n",
    "ant_index=\n",
    "\n",
    "#set up coincidencer\n",
    "veto_power_thresh=0\n",
    "trigger_window=10 #a small positive number\n",
    "veto_window=0 #not using\n",
    "antenna_number_thresh=0  #trigger on only one antenna\n",
    "veto_number_thresh=64 #turn off\n",
    "veto_roles_array=np.zeros(64)\n",
    "core_roles_array=np.zeros(64)\n",
    "core_roles_array[ant_index]=1  #set only the muon detector to participate\n",
    "bufferwait=2000\n",
    "\n",
    "#configure trigger\n",
    "tries=15\n",
    "for attempt in range(tries):\n",
    "    try:\n",
    "        setup_coincidencer(snapbrd,trigger_power_thresh,\n",
    "                           veto_power_thresh,\n",
    "                          trigger_window,\n",
    "                          veto_window,\n",
    "                          antenna_number_thresh,\n",
    "                          veto_number_thresh,\n",
    "                          core_roles_array,\n",
    "                          veto_roles_array)\n",
    "        setvalue(snapbrd,\"delay_trigger\",\"cr_registers.xlsx\",bufferwait)\n",
    "        except:\n",
    "                if attempt<tries-1:\n",
    "                    continue\n",
    "                else:\n",
    "                    raise\n",
    "        break\n",
    "            \n",
    "#run the trigger for the desired length of time and then turn it off\n",
    "setvalue(snapbrd,\"enable_coinc_trig\",\"cr_registers.xlsx\",1)\n",
    "time.sleep(duration)\n",
    "setvalue(snapbrd,\"enable_coinc_trig\",\"cr_registers.xlsx\",0)"
   ]
  },
  {
   "cell_type": "code",
   "execution_count": null,
   "id": "30f89eb8",
   "metadata": {},
   "outputs": [],
   "source": []
  },
  {
   "cell_type": "code",
   "execution_count": 261,
   "id": "a69404fe",
   "metadata": {},
   "outputs": [
    {
     "name": "stdout",
     "output_type": "stream",
     "text": [
      "0 0 0 0 0 0\n",
      "0 0 0 0 0 0\n",
      "0 0 0 0 0 0\n",
      "0 0 0 0 0 0\n",
      "0 0 0 0 0 0\n",
      "0 0 0 0 0 0\n",
      "0 0 0 0 0 0\n",
      "0 0 0 0 0 0\n",
      "0 0 0 0 0 0\n",
      "0 0 0 0 0 0\n",
      "0 0 0 0 0 0\n"
     ]
    }
   ],
   "source": [
    "for s in range(11):\n",
    "    snapbrd=snapbrds[s]\n",
    "    veto_coincidence,core_coincidence=snapbrd.read_list_from_ram(\"cosmic_ray_core_and_veto_rate\",2,'u4')\n",
    "    veto_total_cycles,core_total_cycles=snapbrd.read_list_from_ram(\"cosmic_ray_core_n_veto_tot_clk_cycles\",2,'u4')\n",
    "    readout_done,successful_trigger=snapbrd.read_list_from_ram(\"cosmic_ray_core_n_veto_tot_clk_cycles1\",2,'u4')\n",
    "    print(core_coincidence,veto_coincidence,core_total_cycles,veto_total_cycles,successful_trigger,readout_done)"
   ]
  },
  {
   "cell_type": "code",
   "execution_count": 265,
   "id": "e463cb2b",
   "metadata": {},
   "outputs": [
    {
     "data": {
      "text/plain": [
       "[None, None, None, None, None, None, None, None, None, None, None]"
      ]
     },
     "execution_count": 265,
     "metadata": {},
     "output_type": "execute_result"
    }
   ],
   "source": [
    "[setvalue(brd,'eth_enable','cr_registers.xlsx',0) for brd in casperbrds]\n"
   ]
  },
  {
   "cell_type": "code",
   "execution_count": 266,
   "id": "dabcbc29",
   "metadata": {},
   "outputs": [
    {
     "data": {
      "text/plain": [
       "[0, 0, 0, 0, 0, 0, 0, 0, 0, 0, 0]"
      ]
     },
     "execution_count": 266,
     "metadata": {},
     "output_type": "execute_result"
    }
   ],
   "source": [
    "[getvalue(brd,'eth_enable','cr_registers.xlsx') for brd in casperbrds]\n"
   ]
  },
  {
   "cell_type": "code",
   "execution_count": null,
   "id": "2a7b1f45",
   "metadata": {},
   "outputs": [],
   "source": [
    "rigger_count"
   ]
  },
  {
   "cell_type": "code",
   "execution_count": 280,
   "id": "5bf58bab",
   "metadata": {
    "scrolled": false
   },
   "outputs": [
    {
     "name": "stdout",
     "output_type": "stream",
     "text": [
      "6872192\n",
      "6867217\n",
      "6867146\n",
      "6867108\n",
      "1761046230\n",
      "6913902\n",
      "6872363\n",
      "6872532\n",
      "6872730\n",
      "6873145\n",
      "6907265\n",
      "\n",
      "6879586\n",
      "6874901\n",
      "6874838\n",
      "6874807\n",
      "1828562619\n",
      "6922056\n",
      "6880524\n",
      "6880700\n",
      "6880912\n",
      "6881327\n",
      "6915457\n"
     ]
    },
    {
     "data": {
      "text/plain": [
       "[None, None, None, None, None, None, None, None, None, None, None]"
      ]
     },
     "execution_count": 280,
     "metadata": {},
     "output_type": "execute_result"
    }
   ],
   "source": [
    "[print(getvalue(brd,'count_triggers','cr_registers.xlsx')) for brd in casperbrds]\n",
    "time.sleep(5)\n",
    "print('')\n",
    "[print(getvalue(brd,'count_triggers','cr_registers.xlsx')) for brd in casperbrds]\n"
   ]
  },
  {
   "cell_type": "code",
   "execution_count": 281,
   "id": "27796d23",
   "metadata": {},
   "outputs": [
    {
     "name": "stdout",
     "output_type": "stream",
     "text": [
      "6903531\n",
      "6903476\n",
      "6903405\n",
      "6903403\n",
      "6950195\n",
      "6943461\n",
      "6908660\n",
      "6908722\n",
      "6908999\n",
      "6909538\n",
      "6910465\n",
      "\n",
      "6911368\n",
      "6911298\n",
      "6911225\n",
      "6911227\n",
      "6958012\n",
      "6951280\n",
      "6916478\n",
      "6916541\n",
      "6916816\n",
      "6916921\n",
      "6917839\n"
     ]
    },
    {
     "data": {
      "text/plain": [
       "[None, None, None, None, None, None, None, None, None, None, None]"
      ]
     },
     "execution_count": 281,
     "metadata": {},
     "output_type": "execute_result"
    }
   ],
   "source": [
    "[print(getvalue(brd,'count_snapshots','cr_registers.xlsx')) for brd in casperbrds]\n",
    "time.sleep(5)\n",
    "print('')\n",
    "[print(getvalue(brd,'count_snapshots','cr_registers.xlsx')) for brd in casperbrds]\n"
   ]
  },
  {
   "cell_type": "code",
   "execution_count": 279,
   "id": "48c1e8b9",
   "metadata": {},
   "outputs": [
    {
     "name": "stdout",
     "output_type": "stream",
     "text": [
      "1\n",
      "1\n",
      "1\n",
      "1\n",
      "1\n",
      "1\n",
      "1\n",
      "1\n",
      "1\n",
      "1\n",
      "1\n"
     ]
    },
    {
     "data": {
      "text/plain": [
       "[None, None, None, None, None, None, None, None, None, None, None]"
      ]
     },
     "execution_count": 279,
     "metadata": {},
     "output_type": "execute_result"
    }
   ],
   "source": [
    "[print(getvalue(brd,'readout_state_value','cr_registers.xlsx')) for brd in casperbrds]\n"
   ]
  },
  {
   "cell_type": "code",
   "execution_count": null,
   "id": "a7373fb8",
   "metadata": {},
   "outputs": [],
   "source": [
    "readout_state\n",
    "trigger_count\n",
    "trig_timer\n",
    "snapshot_counter"
   ]
  },
  {
   "cell_type": "code",
   "execution_count": 278,
   "id": "b369c349",
   "metadata": {},
   "outputs": [
    {
     "name": "stdout",
     "output_type": "stream",
     "text": [
      "1\n",
      "1\n",
      "1\n",
      "1\n",
      "1\n",
      "1\n",
      "1\n",
      "1\n",
      "1\n",
      "1\n",
      "1\n"
     ]
    }
   ],
   "source": [
    "for p in range(11):    \n",
    "    casperbrd=casperbrds[p]\n",
    "    setvalue(casperbrd,'eth_enable','cr_registers.xlsx',1) \n",
    "    print(getvalue(casperbrd,'eth_enable','cr_registers.xlsx'))"
   ]
  },
  {
   "cell_type": "markdown",
   "id": "e42af070",
   "metadata": {},
   "source": []
  },
  {
   "cell_type": "code",
   "execution_count": 284,
   "id": "cb44d915",
   "metadata": {},
   "outputs": [
    {
     "name": "stdout",
     "output_type": "stream",
     "text": [
      "1001270792\n",
      "476432945\n",
      "476427503\n",
      "476427302\n",
      "1004247000\n",
      "479003879\n",
      "476783051\n",
      "476788165\n",
      "476808655\n",
      "476816659\n",
      "476882820\n"
     ]
    },
    {
     "data": {
      "text/plain": [
       "[None, None, None, None, None, None, None, None, None, None, None]"
      ]
     },
     "execution_count": 284,
     "metadata": {},
     "output_type": "execute_result"
    }
   ],
   "source": [
    "[print(getvalue(brd,'eof','cr_registers.xlsx')) for brd in casperbrds]\n"
   ]
  },
  {
   "cell_type": "code",
   "execution_count": null,
   "id": "a29d147e",
   "metadata": {},
   "outputs": [],
   "source": []
  },
  {
   "cell_type": "markdown",
   "id": "d8fd93a1",
   "metadata": {},
   "source": []
  },
  {
   "cell_type": "code",
   "execution_count": null,
   "id": "b569ae16",
   "metadata": {},
   "outputs": [],
   "source": []
  },
  {
   "cell_type": "code",
   "execution_count": null,
   "id": "e2e63d82",
   "metadata": {},
   "outputs": [],
   "source": []
  },
  {
   "cell_type": "code",
   "execution_count": null,
   "id": "40673d9e",
   "metadata": {},
   "outputs": [],
   "source": []
  },
  {
   "cell_type": "code",
   "execution_count": null,
   "id": "ac9e3906",
   "metadata": {},
   "outputs": [],
   "source": []
  },
  {
   "cell_type": "code",
   "execution_count": null,
   "id": "f74eb7f7",
   "metadata": {},
   "outputs": [],
   "source": []
  },
  {
   "cell_type": "code",
   "execution_count": null,
   "id": "4c76e665",
   "metadata": {},
   "outputs": [],
   "source": []
  },
  {
   "cell_type": "code",
   "execution_count": null,
   "id": "70f4d8fe",
   "metadata": {},
   "outputs": [],
   "source": []
  },
  {
   "cell_type": "code",
   "execution_count": null,
   "id": "6cac1990",
   "metadata": {},
   "outputs": [],
   "source": []
  },
  {
   "cell_type": "code",
   "execution_count": null,
   "id": "7434bcb4",
   "metadata": {},
   "outputs": [],
   "source": []
  },
  {
   "cell_type": "code",
   "execution_count": null,
   "id": "93b601ef",
   "metadata": {},
   "outputs": [],
   "source": []
  },
  {
   "cell_type": "code",
   "execution_count": null,
   "id": "479a14b0",
   "metadata": {},
   "outputs": [],
   "source": []
  },
  {
   "cell_type": "code",
   "execution_count": null,
   "id": "90fce813",
   "metadata": {},
   "outputs": [],
   "source": []
  },
  {
   "cell_type": "code",
   "execution_count": null,
   "id": "fd8daabb",
   "metadata": {},
   "outputs": [],
   "source": []
  },
  {
   "cell_type": "code",
   "execution_count": null,
   "id": "d045c538",
   "metadata": {},
   "outputs": [],
   "source": []
  },
  {
   "cell_type": "code",
   "execution_count": null,
   "id": "be1ff855",
   "metadata": {},
   "outputs": [],
   "source": []
  },
  {
   "cell_type": "code",
   "execution_count": null,
   "id": "162250dc",
   "metadata": {},
   "outputs": [],
   "source": []
  },
  {
   "cell_type": "code",
   "execution_count": null,
   "id": "5d5d3263",
   "metadata": {},
   "outputs": [],
   "source": []
  },
  {
   "cell_type": "code",
   "execution_count": null,
   "id": "74bf9d45",
   "metadata": {},
   "outputs": [],
   "source": []
  },
  {
   "cell_type": "code",
   "execution_count": null,
   "id": "9743fff2",
   "metadata": {},
   "outputs": [],
   "source": []
  },
  {
   "cell_type": "code",
   "execution_count": null,
   "id": "94e0f356",
   "metadata": {},
   "outputs": [],
   "source": []
  },
  {
   "cell_type": "code",
   "execution_count": null,
   "id": "7198d1ed",
   "metadata": {},
   "outputs": [],
   "source": []
  },
  {
   "cell_type": "code",
   "execution_count": null,
   "id": "abf6ce3a",
   "metadata": {},
   "outputs": [],
   "source": []
  },
  {
   "cell_type": "code",
   "execution_count": null,
   "id": "bd3f5f56",
   "metadata": {},
   "outputs": [],
   "source": []
  },
  {
   "cell_type": "code",
   "execution_count": null,
   "id": "8acdb9f5",
   "metadata": {},
   "outputs": [],
   "source": []
  },
  {
   "cell_type": "code",
   "execution_count": null,
   "id": "c7d60439",
   "metadata": {},
   "outputs": [],
   "source": []
  },
  {
   "cell_type": "code",
   "execution_count": null,
   "id": "7145520f",
   "metadata": {},
   "outputs": [],
   "source": []
  },
  {
   "cell_type": "code",
   "execution_count": null,
   "id": "fc79a601",
   "metadata": {},
   "outputs": [],
   "source": []
  },
  {
   "cell_type": "code",
   "execution_count": null,
   "id": "ac0b81ca",
   "metadata": {},
   "outputs": [],
   "source": []
  },
  {
   "cell_type": "code",
   "execution_count": null,
   "id": "635285fe",
   "metadata": {},
   "outputs": [],
   "source": []
  }
 ],
 "metadata": {
  "kernelspec": {
   "display_name": "Python 3",
   "language": "python",
   "name": "python3"
  },
  "language_info": {
   "codemirror_mode": {
    "name": "ipython",
    "version": 3
   },
   "file_extension": ".py",
   "mimetype": "text/x-python",
   "name": "python",
   "nbconvert_exporter": "python",
   "pygments_lexer": "ipython3",
   "version": "3.6.10"
  }
 },
 "nbformat": 4,
 "nbformat_minor": 5
}
