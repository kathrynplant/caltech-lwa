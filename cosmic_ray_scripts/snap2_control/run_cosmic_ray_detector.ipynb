{
 "cells": [
  {
   "cell_type": "code",
   "execution_count": 1,
   "id": "ed142976",
   "metadata": {},
   "outputs": [
    {
     "name": "stdout",
     "output_type": "stream",
     "text": [
      "dsautils.cnf not found. skipping...\n",
      "Read antpos from etcd\n"
     ]
    }
   ],
   "source": [
    "import matplotlib.pyplot as plt\n",
    "import numpy as np\n",
    "import casperfpga\n",
    "import time\n",
    "from lwa_f import snap2_fengine\n",
    "from lwa_f import blocks\n",
    "#from lwautils import lwa_arx \n",
    "import pandas as pd\n",
    "from cr_functions import *\n",
    "import struct\n",
    "import math\n",
    "from scipy import special as sp\n",
    "from scipy import optimize as oz\n",
    "from scipy import stats as st\n",
    "from lwa_antpos import mapping\n",
    "import os\n",
    "\n"
   ]
  },
  {
   "cell_type": "markdown",
   "id": "4f24339b",
   "metadata": {},
   "source": []
  },
  {
   "cell_type": "code",
   "execution_count": null,
   "id": "d4ef781b",
   "metadata": {},
   "outputs": [],
   "source": []
  },
  {
   "cell_type": "code",
   "execution_count": null,
   "id": "38f34f3f",
   "metadata": {},
   "outputs": [],
   "source": []
  },
  {
   "cell_type": "markdown",
   "id": "1d6690d8",
   "metadata": {},
   "source": [
    "## Connect to SNAP2 boards"
   ]
  },
  {
   "cell_type": "code",
   "execution_count": 2,
   "id": "827bc006",
   "metadata": {},
   "outputs": [
    {
     "name": "stdout",
     "output_type": "stream",
     "text": [
      "2024-06-17 22:12:29,383 - lwa_f.blocks.block:snap01 - INFO - eth - Couldn't find Ethernet core. Will retry later\n",
      "2024-06-17 22:12:29,386 - lwa_f.blocks.block:snap02 - INFO - eth - Couldn't find Ethernet core. Will retry later\n",
      "2024-06-17 22:12:29,391 - lwa_f.blocks.block:snap03 - INFO - eth - Couldn't find Ethernet core. Will retry later\n",
      "2024-06-17 22:12:29,394 - lwa_f.blocks.block:snap04 - INFO - eth - Couldn't find Ethernet core. Will retry later\n",
      "2024-06-17 22:12:29,397 - lwa_f.blocks.block:snap05 - INFO - eth - Couldn't find Ethernet core. Will retry later\n",
      "2024-06-17 22:12:29,428 - lwa_f.blocks.block:snap06 - INFO - eth - Couldn't find Ethernet core. Will retry later\n",
      "2024-06-17 22:12:29,432 - lwa_f.blocks.block:snap07 - INFO - eth - Couldn't find Ethernet core. Will retry later\n",
      "2024-06-17 22:12:29,435 - lwa_f.blocks.block:snap08 - INFO - eth - Couldn't find Ethernet core. Will retry later\n",
      "2024-06-17 22:12:29,439 - lwa_f.blocks.block:snap09 - INFO - eth - Couldn't find Ethernet core. Will retry later\n",
      "2024-06-17 22:12:29,442 - lwa_f.blocks.block:snap10 - INFO - eth - Couldn't find Ethernet core. Will retry later\n",
      "2024-06-17 22:12:29,445 - lwa_f.blocks.block:snap11 - INFO - eth - Couldn't find Ethernet core. Will retry later\n"
     ]
    }
   ],
   "source": [
    "brdnames=['snap01','snap02','snap03','snap04','snap05','snap06','snap07','snap08','snap09','snap10','snap11']\n",
    "\n",
    "#connect through Jack's fengine etcd interface for everything that can go through etcd\n",
    "snapbrds = [snap2_fengine.Snap2FengineEtcd(brdname).fpga for brdname in brdnames]  \n",
    "fpgfile='/home/ubuntu/kp/caltech-lwa/snap2_f_200msps_64i_4096c/outputs/snap2_f_200msps_64i_4096c.fpg'\n"
   ]
  },
  {
   "cell_type": "markdown",
   "id": "9db974c2",
   "metadata": {},
   "source": [
    "## Completely reset trigger on all boards to make sure there aren't already trigger and veto settings"
   ]
  },
  {
   "cell_type": "code",
   "execution_count": 3,
   "id": "a848d37e",
   "metadata": {},
   "outputs": [],
   "source": [
    "\n",
    "\n",
    "veto_roles_array=np.zeros(64,dtype=int)\n",
    "core_roles_array=np.zeros(64,dtype=int)\n",
    "for p in range(11):\n",
    "    snapbrd=snapbrds[p]\n",
    "    setup_coincidencer(snapbrd,0,\n",
    "                          0,\n",
    "                          0,\n",
    "                          0,\n",
    "                          0,\n",
    "                          0,\n",
    "                          core_roles_array,\n",
    "                          veto_roles_array)\n",
    "    setvalue(snapbrd,\"enable_coinc_trig\",\"cr_registers.xlsx\",0)\n"
   ]
  },
  {
   "cell_type": "markdown",
   "id": "b2d785e3",
   "metadata": {},
   "source": [
    "## Set up ethernet and send a test snapshot\n",
    "Ethernet setup doesn't go through etcd yet."
   ]
  },
  {
   "cell_type": "code",
   "execution_count": 12,
   "id": "7b78b653",
   "metadata": {},
   "outputs": [],
   "source": [
    "#connect to the SNAP2s with casperfpga since some functions (ethernet setup) doesn't go through etcd yet\n",
    "casperbrds = [casperfpga.CasperFpga(brdname, transport=casperfpga.TapcpTransport) for brdname in brdnames]\n"
   ]
  },
  {
   "cell_type": "code",
   "execution_count": 13,
   "id": "c3428e03",
   "metadata": {},
   "outputs": [
    {
     "name": "stdout",
     "output_type": "stream",
     "text": [
      "Data source set to adc\n",
      "------------------------\n",
      "snap01:cosmic_ray_cr_forty_gbe configuration:\n",
      "MAC:  02:02:02:01:01:01\n",
      "Gateway:  0.0.0.1\n",
      "IP:  10.41.0.201\n",
      "Fabric port: \n",
      "11111\n",
      "Fabric interface is currently: Enabled\n",
      "\tbase_ip: 255.255.255.255\n",
      "\tip_mask: 255.255.255.255\n",
      "\trx_ips: []\n",
      "ARP Table: \n",
      "IP: 10.41.0. 25: MAC: 04:3F:72:DF:C1:F0\n",
      "Setting wait between packets to 100\n",
      "Data source set to adc\n",
      "------------------------\n",
      "snap02:cosmic_ray_cr_forty_gbe configuration:\n",
      "MAC:  02:02:02:02:02:02\n",
      "Gateway:  0.0.0.1\n",
      "IP:  10.41.0.202\n",
      "Fabric port: \n",
      "11111\n",
      "Fabric interface is currently: Enabled\n",
      "\tbase_ip: 255.255.255.255\n",
      "\tip_mask: 255.255.255.255\n",
      "\trx_ips: []\n",
      "ARP Table: \n",
      "IP: 10.41.0. 25: MAC: 04:3F:72:DF:C1:F0\n",
      "Setting wait between packets to 100\n",
      "Data source set to adc\n",
      "------------------------\n",
      "snap03:cosmic_ray_cr_forty_gbe configuration:\n",
      "MAC:  02:02:02:03:03:03\n",
      "Gateway:  0.0.0.1\n",
      "IP:  10.41.0.203\n",
      "Fabric port: \n",
      "11111\n",
      "Fabric interface is currently: Enabled\n",
      "\tbase_ip: 255.255.255.255\n",
      "\tip_mask: 255.255.255.255\n",
      "\trx_ips: []\n",
      "ARP Table: \n",
      "IP: 10.41.0. 25: MAC: 04:3F:72:DF:C1:F0\n",
      "Setting wait between packets to 100\n",
      "Data source set to adc\n",
      "------------------------\n",
      "snap04:cosmic_ray_cr_forty_gbe configuration:\n",
      "MAC:  02:02:02:04:04:04\n",
      "Gateway:  0.0.0.1\n",
      "IP:  10.41.0.204\n",
      "Fabric port: \n",
      "11111\n",
      "Fabric interface is currently: Enabled\n",
      "\tbase_ip: 255.255.255.255\n",
      "\tip_mask: 255.255.255.255\n",
      "\trx_ips: []\n",
      "ARP Table: \n",
      "IP: 10.41.0. 25: MAC: 04:3F:72:DF:C1:F0\n",
      "Setting wait between packets to 100\n",
      "Data source set to adc\n",
      "------------------------\n",
      "snap05:cosmic_ray_cr_forty_gbe configuration:\n",
      "MAC:  02:02:02:05:05:05\n",
      "Gateway:  0.0.0.1\n",
      "IP:  10.41.0.205\n",
      "Fabric port: \n",
      "11111\n",
      "Fabric interface is currently: Enabled\n",
      "\tbase_ip: 255.255.255.255\n",
      "\tip_mask: 255.255.255.255\n",
      "\trx_ips: []\n",
      "ARP Table: \n",
      "IP: 10.41.0. 25: MAC: 04:3F:72:DF:C1:F0\n",
      "Setting wait between packets to 100\n",
      "Data source set to adc\n",
      "------------------------\n",
      "snap06:cosmic_ray_cr_forty_gbe configuration:\n",
      "MAC:  02:02:02:06:06:06\n",
      "Gateway:  0.0.0.1\n",
      "IP:  10.41.0.206\n",
      "Fabric port: \n",
      "11111\n",
      "Fabric interface is currently: Enabled\n",
      "\tbase_ip: 255.255.255.255\n",
      "\tip_mask: 255.255.255.255\n",
      "\trx_ips: []\n",
      "ARP Table: \n",
      "IP: 10.41.0. 25: MAC: 04:3F:72:DF:C1:F0\n",
      "Setting wait between packets to 100\n",
      "Data source set to adc\n",
      "------------------------\n",
      "snap07:cosmic_ray_cr_forty_gbe configuration:\n",
      "MAC:  02:02:02:07:07:07\n",
      "Gateway:  0.0.0.1\n",
      "IP:  10.41.0.207\n",
      "Fabric port: \n",
      "11111\n",
      "Fabric interface is currently: Enabled\n",
      "\tbase_ip: 255.255.255.255\n",
      "\tip_mask: 255.255.255.255\n",
      "\trx_ips: []\n",
      "ARP Table: \n",
      "IP: 10.41.0. 25: MAC: 04:3F:72:DF:C1:F0\n",
      "Setting wait between packets to 100\n",
      "Data source set to adc\n",
      "------------------------\n",
      "snap08:cosmic_ray_cr_forty_gbe configuration:\n",
      "MAC:  02:02:02:08:08:08\n",
      "Gateway:  0.0.0.1\n",
      "IP:  10.41.0.208\n",
      "Fabric port: \n",
      "11111\n",
      "Fabric interface is currently: Enabled\n",
      "\tbase_ip: 255.255.255.255\n",
      "\tip_mask: 255.255.255.255\n",
      "\trx_ips: []\n",
      "ARP Table: \n",
      "IP: 10.41.0. 25: MAC: 04:3F:72:DF:C1:F0\n",
      "Setting wait between packets to 100\n",
      "Data source set to adc\n",
      "------------------------\n",
      "snap09:cosmic_ray_cr_forty_gbe configuration:\n",
      "MAC:  02:02:02:09:09:09\n",
      "Gateway:  0.0.0.1\n",
      "IP:  10.41.0.209\n",
      "Fabric port: \n",
      "11111\n",
      "Fabric interface is currently: Enabled\n",
      "\tbase_ip: 255.255.255.255\n",
      "\tip_mask: 255.255.255.255\n",
      "\trx_ips: []\n",
      "ARP Table: \n",
      "IP: 10.41.0. 25: MAC: 04:3F:72:DF:C1:F0\n",
      "Setting wait between packets to 100\n",
      "Data source set to adc\n",
      "------------------------\n",
      "snap10:cosmic_ray_cr_forty_gbe configuration:\n",
      "MAC:  02:02:02:10:10:10\n",
      "Gateway:  0.0.0.1\n",
      "IP:  10.41.0.210\n",
      "Fabric port: \n",
      "11111\n",
      "Fabric interface is currently: Enabled\n",
      "\tbase_ip: 255.255.255.255\n",
      "\tip_mask: 255.255.255.255\n",
      "\trx_ips: []\n",
      "ARP Table: \n",
      "IP: 10.41.0. 25: MAC: 04:3F:72:DF:C1:F0\n",
      "Setting wait between packets to 100\n",
      "Data source set to adc\n",
      "------------------------\n",
      "snap11:cosmic_ray_cr_forty_gbe configuration:\n",
      "MAC:  02:02:02:11:11:11\n",
      "Gateway:  0.0.0.1\n",
      "IP:  10.41.0.211\n",
      "Fabric port: \n",
      "11111\n",
      "Fabric interface is currently: Enabled\n",
      "\tbase_ip: 255.255.255.255\n",
      "\tip_mask: 255.255.255.255\n",
      "\trx_ips: []\n",
      "ARP Table: \n",
      "IP: 10.41.0. 25: MAC: 04:3F:72:DF:C1:F0\n",
      "Setting wait between packets to 100\n"
     ]
    }
   ],
   "source": [
    "computer='gpu09' # 'lwacr' or 'gpu09'\n",
    "packetwait=100 #clock cycles between packets\n",
    "wait_after_readout=200 #time [clock cycles] to wait for other boards to finish readout\n",
    "for i,brdname in enumerate(brdnames):\n",
    "    casperbrd=casperbrds[i]\n",
    "    #prepare to send a snapshot\n",
    "    \n",
    "    setup_data_source(casperbrd,\"adc\") #set the data source to ADC\n",
    "    setup_ethernet(brdname,casperbrd,fpgfile,computer,packetwait) #set up the ethernet packetizer and ethernet block\n",
    "    setvalue(casperbrd,'wait_after_readout','cr_registers.xlsx',wait_after_readout) #set the wait time after readout before new internally-generated triggers are accepted\n",
    "    setvalue(casperbrd,'brd_id','cr_registers.xlsx',int(brdname[-2:])) #set the board id\n",
    "    setvalue(casperbrd,'eth_enable','cr_registers.xlsx',1)  #enable ethernet"
   ]
  },
  {
   "cell_type": "code",
   "execution_count": null,
   "id": "6cb6f341",
   "metadata": {},
   "outputs": [],
   "source": []
  },
  {
   "cell_type": "code",
   "execution_count": 15,
   "id": "9592db8e",
   "metadata": {},
   "outputs": [
    {
     "name": "stdout",
     "output_type": "stream",
     "text": [
      "Packetizer formed 64 packets\n",
      "Board successfully returned to listening state after readout\n",
      "Readout took 137669 clock cycles\n",
      "Packetizer never overflowed\n",
      "Ethernet block almost-full counter incremented by 0\n"
     ]
    }
   ],
   "source": [
    "[setvalue(snapbrd,\"enable_coinc_trig\",\"cr_registers.xlsx\",0) for snapbrd in snapbrds]\n",
    "\n",
    "#send trigger to just one board and all will send packets\n",
    "software_trigger(snapbrds[1],1)"
   ]
  },
  {
   "cell_type": "code",
   "execution_count": null,
   "id": "b4adfefa",
   "metadata": {},
   "outputs": [],
   "source": []
  },
  {
   "cell_type": "code",
   "execution_count": null,
   "id": "d003aa17",
   "metadata": {},
   "outputs": [],
   "source": []
  },
  {
   "cell_type": "markdown",
   "id": "563a8fdb",
   "metadata": {},
   "source": [
    "## Run Trigger "
   ]
  },
  {
   "cell_type": "code",
   "execution_count": 52,
   "id": "776d45cf",
   "metadata": {},
   "outputs": [],
   "source": [
    "#configure trigger\n",
    "[setvalue(snapbrd,\"enable_coinc_trig\",\"cr_registers.xlsx\",0) for snapbrd in snapbrds]\n",
    "\n",
    "\n",
    "current_ok_vetos=np.load('/home/ubuntu/kp/ok_vetos-2024-4-26.npy')\n",
    "current_ok_core=np.load('/home/ubuntu/kp/ok_core-2024-4-26.npy')\n",
    "\n",
    "\n",
    "ok_snaps=[0,1,2,3,4,5,6,7,8,9,10] #zero indexed\n",
    "#set up coincidencer\n",
    "trigger_power_thresh=250**2\n",
    "veto_power_thresh=175**2\n",
    "trigger_window=int(round(1.96e8*100/3e8,1)) #number of clock cycles to travel 100 meters\n",
    "veto_window=int(round(1.96e8*2000/3e8,1)) #number of clock cycles to travel 2000 meters\n",
    "antenna_number_thresh=10\n",
    "veto_number_thresh=2\n",
    "\n",
    "bufferwait=2000\n",
    "\n",
    "for b in ok_snaps:\n",
    "    snapbrd=snapbrds[b]\n",
    "    veto_roles_array=current_ok_vetos[b,:]\n",
    "    core_roles_array=current_ok_core[b,:]\n",
    "\n",
    "    setup_coincidencer(snapbrd,trigger_power_thresh,\n",
    "                          veto_power_thresh,\n",
    "                          trigger_window,\n",
    "                          veto_window,\n",
    "                          antenna_number_thresh,\n",
    "                          veto_number_thresh,\n",
    "                          core_roles_array,\n",
    "                          veto_roles_array)\n",
    "    setvalue(snapbrd,\"delay_trigger\",\"cr_registers.xlsx\",bufferwait)\n",
    "\n"
   ]
  },
  {
   "cell_type": "code",
   "execution_count": 53,
   "id": "2b5393ae",
   "metadata": {},
   "outputs": [
    {
     "data": {
      "text/plain": [
       "[None, None, None, None, None, None, None, None, None, None, None]"
      ]
     },
     "execution_count": 53,
     "metadata": {},
     "output_type": "execute_result"
    }
   ],
   "source": [
    "#set trigger on or off\n",
    "[setvalue(snapbrd,\"enable_coinc_trig\",\"cr_registers.xlsx\",1) for snapbrd in snapbrds] "
   ]
  },
  {
   "cell_type": "code",
   "execution_count": 54,
   "id": "4531d729",
   "metadata": {},
   "outputs": [],
   "source": [
    "#send a test trigger to check that settings are applied correctly\n",
    "\n",
    "#send trigger to just one board and all will send packets\n",
    "#software_trigger(snapbrds[3],1)"
   ]
  },
  {
   "cell_type": "code",
   "execution_count": null,
   "id": "60b582cb",
   "metadata": {},
   "outputs": [],
   "source": []
  },
  {
   "cell_type": "markdown",
   "id": "1726e134",
   "metadata": {},
   "source": [
    "## Run Rate Monitor"
   ]
  },
  {
   "cell_type": "code",
   "execution_count": null,
   "id": "b004b960",
   "metadata": {},
   "outputs": [],
   "source": [
    "%%capture output\n",
    "[setvalue(snapbrd,\"enable_coinc_trig\",\"cr_registers.xlsx\",1) for snapbrd in snapbrds] \n",
    "\n",
    "time.sleep(12600) # set a wait time so that running the rate monitor aligns with when I want to save data\n",
    "now=time.time()\n",
    "duration=10*60*60 #in seconds\n",
    "finish=now+duration\n",
    "waittime=30\n",
    "\n",
    "core_triggers=np.zeros((11,int(duration/waittime)))\n",
    "veto_triggers=np.zeros((11,int(duration/waittime)))\n",
    "core_cycles=np.zeros((11,int(duration/waittime)))\n",
    "veto_cycles=np.zeros((11,int(duration/waittime)))\n",
    "successful_triggers=np.zeros((11,int(duration/waittime)))\n",
    "readout_dones=np.zeros((11,int(duration/waittime)))\n",
    "\n",
    "\n",
    "i=0\n",
    "tries=10\n",
    "\n",
    "time.sleep(waittime)\n",
    "while time.time()<finish:\n",
    "    for b in ok_snaps:\n",
    "        for attempt in range(tries):\n",
    "            try:\n",
    "                snapbrd=snapbrds[b]\n",
    "                veto_coincidence,core_coincidence=snapbrd.read_list_from_ram(\"cosmic_ray_core_and_veto_rate\",2,'u4')\n",
    "                veto_total_cycles,core_total_cycles=snapbrd.read_list_from_ram(\"cosmic_ray_core_n_veto_tot_clk_cycles\",2,'u4')\n",
    "                readout_done,successful_trigger=snapbrd.read_list_from_ram(\"cosmic_ray_core_n_veto_tot_clk_cycles1\",2,'u4')\n",
    "                core_triggers[b,i]=core_coincidence            \n",
    "                veto_triggers[b,i]=veto_coincidence\n",
    "                core_cycles[b,i]=core_total_cycles\n",
    "                veto_cycles[b,i]=veto_total_cycles\n",
    "                successful_triggers[b,i]=successful_trigger\n",
    "                readout_dones[b,i]=readout_done\n",
    "            except:\n",
    "                if attempt<tries-1:\n",
    "                    continue\n",
    "                else:\n",
    "                    raise\n",
    "            break\n",
    "            \n",
    "    time.sleep(waittime)\n",
    "    i+=1\n",
    "\n",
    "#turn trigger off\n",
    "[setvalue(snapbrd,\"enable_coinc_trig\",\"cr_registers.xlsx\",0) for snapbrd in snapbrds]\n",
    "\n",
    "\n"
   ]
  },
  {
   "cell_type": "code",
   "execution_count": 42,
   "id": "9ceba355",
   "metadata": {},
   "outputs": [
    {
     "data": {
      "text/plain": [
       "[None, None, None, None, None, None, None, None, None, None, None]"
      ]
     },
     "metadata": {},
     "output_type": "display_data"
    }
   ],
   "source": [
    "output.show()"
   ]
  },
  {
   "cell_type": "code",
   "execution_count": 56,
   "id": "220a8696",
   "metadata": {},
   "outputs": [
    {
     "name": "stdout",
     "output_type": "stream",
     "text": [
      "1099\n"
     ]
    }
   ],
   "source": [
    "print(i)\n"
   ]
  },
  {
   "cell_type": "code",
   "execution_count": 50,
   "id": "95ac8da2",
   "metadata": {},
   "outputs": [
    {
     "data": {
      "text/plain": [
       "[None, None, None, None, None, None, None, None, None, None, None]"
      ]
     },
     "execution_count": 50,
     "metadata": {},
     "output_type": "execute_result"
    }
   ],
   "source": [
    "[setvalue(snapbrd,\"enable_coinc_trig\",\"cr_registers.xlsx\",0) for snapbrd in snapbrds]\n"
   ]
  },
  {
   "cell_type": "code",
   "execution_count": 58,
   "id": "56c58bec",
   "metadata": {},
   "outputs": [],
   "source": [
    "#save results\n",
    "fname_prefix='/home/ubuntu/kp/data/2024May15/'\n",
    "np.save(fname_prefix+'core',np.asarray(core_triggers))\n",
    "np.save(fname_prefix+'veto',np.asarray(veto_triggers))\n",
    "np.save(fname_prefix+'vetocycles',np.asarray(veto_cycles))\n",
    "np.save(fname_prefix+'corecycles',np.asarray(core_cycles))\n",
    "np.save(fname_prefix+'successfultrigger',np.asarray(successful_triggers))\n",
    "np.save(fname_prefix+'readoutdone',np.asarray(readout_dones))"
   ]
  },
  {
   "cell_type": "code",
   "execution_count": 200,
   "id": "133a586c",
   "metadata": {},
   "outputs": [
    {
     "name": "stdout",
     "output_type": "stream",
     "text": [
      "1919490.0\n",
      "(11, 960)\n",
      "960.0\n",
      "912\n",
      "960\n",
      "912 7.6\n"
     ]
    }
   ],
   "source": [
    "print(np.max(core_triggers))\n",
    "print(core_triggers.shape)\n",
    "print(8*60*60/30)\n",
    "print(i)\n",
    "print(int(duration/waittime))\n",
    "print(i,(i*waittime)/(60*60))"
   ]
  },
  {
   "cell_type": "code",
   "execution_count": null,
   "id": "d1c1ba29",
   "metadata": {},
   "outputs": [],
   "source": []
  },
  {
   "cell_type": "code",
   "execution_count": null,
   "id": "63296d2b",
   "metadata": {},
   "outputs": [],
   "source": []
  },
  {
   "cell_type": "code",
   "execution_count": null,
   "id": "6f3166f9",
   "metadata": {},
   "outputs": [],
   "source": []
  },
  {
   "cell_type": "code",
   "execution_count": null,
   "id": "557b5240",
   "metadata": {},
   "outputs": [],
   "source": []
  },
  {
   "cell_type": "code",
   "execution_count": null,
   "id": "f59766a0",
   "metadata": {},
   "outputs": [],
   "source": []
  },
  {
   "cell_type": "code",
   "execution_count": null,
   "id": "e70756be",
   "metadata": {},
   "outputs": [],
   "source": []
  },
  {
   "cell_type": "code",
   "execution_count": null,
   "id": "30f89eb8",
   "metadata": {},
   "outputs": [],
   "source": []
  },
  {
   "cell_type": "code",
   "execution_count": null,
   "id": "a69404fe",
   "metadata": {},
   "outputs": [],
   "source": [
    "\n"
   ]
  },
  {
   "cell_type": "code",
   "execution_count": null,
   "id": "e463cb2b",
   "metadata": {},
   "outputs": [],
   "source": []
  },
  {
   "cell_type": "code",
   "execution_count": null,
   "id": "dabcbc29",
   "metadata": {},
   "outputs": [],
   "source": []
  },
  {
   "cell_type": "code",
   "execution_count": null,
   "id": "2a7b1f45",
   "metadata": {},
   "outputs": [],
   "source": []
  },
  {
   "cell_type": "markdown",
   "id": "4a69990e",
   "metadata": {},
   "source": []
  },
  {
   "cell_type": "code",
   "execution_count": null,
   "id": "5bf58bab",
   "metadata": {
    "scrolled": false
   },
   "outputs": [],
   "source": []
  },
  {
   "cell_type": "code",
   "execution_count": null,
   "id": "a7373fb8",
   "metadata": {},
   "outputs": [],
   "source": []
  },
  {
   "cell_type": "code",
   "execution_count": null,
   "id": "b369c349",
   "metadata": {},
   "outputs": [],
   "source": [
    "\n",
    "    "
   ]
  },
  {
   "cell_type": "markdown",
   "id": "e42af070",
   "metadata": {},
   "source": []
  },
  {
   "cell_type": "code",
   "execution_count": null,
   "id": "cb44d915",
   "metadata": {},
   "outputs": [],
   "source": []
  },
  {
   "cell_type": "code",
   "execution_count": null,
   "id": "a29d147e",
   "metadata": {},
   "outputs": [],
   "source": []
  },
  {
   "cell_type": "markdown",
   "id": "d8fd93a1",
   "metadata": {},
   "source": []
  },
  {
   "cell_type": "code",
   "execution_count": null,
   "id": "b569ae16",
   "metadata": {},
   "outputs": [],
   "source": []
  },
  {
   "cell_type": "code",
   "execution_count": null,
   "id": "e2e63d82",
   "metadata": {},
   "outputs": [],
   "source": []
  },
  {
   "cell_type": "code",
   "execution_count": null,
   "id": "40673d9e",
   "metadata": {},
   "outputs": [],
   "source": []
  },
  {
   "cell_type": "code",
   "execution_count": null,
   "id": "ac9e3906",
   "metadata": {},
   "outputs": [],
   "source": []
  },
  {
   "cell_type": "code",
   "execution_count": null,
   "id": "f74eb7f7",
   "metadata": {},
   "outputs": [],
   "source": []
  },
  {
   "cell_type": "code",
   "execution_count": null,
   "id": "4c76e665",
   "metadata": {},
   "outputs": [],
   "source": []
  },
  {
   "cell_type": "code",
   "execution_count": null,
   "id": "70f4d8fe",
   "metadata": {},
   "outputs": [],
   "source": []
  },
  {
   "cell_type": "code",
   "execution_count": null,
   "id": "6cac1990",
   "metadata": {},
   "outputs": [],
   "source": []
  },
  {
   "cell_type": "code",
   "execution_count": null,
   "id": "7434bcb4",
   "metadata": {},
   "outputs": [],
   "source": []
  },
  {
   "cell_type": "code",
   "execution_count": null,
   "id": "93b601ef",
   "metadata": {},
   "outputs": [],
   "source": []
  },
  {
   "cell_type": "code",
   "execution_count": null,
   "id": "479a14b0",
   "metadata": {},
   "outputs": [],
   "source": []
  },
  {
   "cell_type": "code",
   "execution_count": null,
   "id": "90fce813",
   "metadata": {},
   "outputs": [],
   "source": []
  },
  {
   "cell_type": "code",
   "execution_count": null,
   "id": "fd8daabb",
   "metadata": {},
   "outputs": [],
   "source": []
  },
  {
   "cell_type": "code",
   "execution_count": null,
   "id": "d045c538",
   "metadata": {},
   "outputs": [],
   "source": []
  },
  {
   "cell_type": "code",
   "execution_count": null,
   "id": "be1ff855",
   "metadata": {},
   "outputs": [],
   "source": []
  },
  {
   "cell_type": "code",
   "execution_count": null,
   "id": "162250dc",
   "metadata": {},
   "outputs": [],
   "source": []
  },
  {
   "cell_type": "code",
   "execution_count": null,
   "id": "5d5d3263",
   "metadata": {},
   "outputs": [],
   "source": []
  },
  {
   "cell_type": "code",
   "execution_count": null,
   "id": "74bf9d45",
   "metadata": {},
   "outputs": [],
   "source": []
  },
  {
   "cell_type": "code",
   "execution_count": null,
   "id": "9743fff2",
   "metadata": {},
   "outputs": [],
   "source": []
  },
  {
   "cell_type": "code",
   "execution_count": null,
   "id": "94e0f356",
   "metadata": {},
   "outputs": [],
   "source": []
  },
  {
   "cell_type": "code",
   "execution_count": null,
   "id": "7198d1ed",
   "metadata": {},
   "outputs": [],
   "source": []
  },
  {
   "cell_type": "code",
   "execution_count": null,
   "id": "abf6ce3a",
   "metadata": {},
   "outputs": [],
   "source": []
  },
  {
   "cell_type": "code",
   "execution_count": null,
   "id": "bd3f5f56",
   "metadata": {},
   "outputs": [],
   "source": []
  },
  {
   "cell_type": "code",
   "execution_count": null,
   "id": "8acdb9f5",
   "metadata": {},
   "outputs": [],
   "source": []
  },
  {
   "cell_type": "code",
   "execution_count": null,
   "id": "c7d60439",
   "metadata": {},
   "outputs": [],
   "source": []
  },
  {
   "cell_type": "code",
   "execution_count": null,
   "id": "7145520f",
   "metadata": {},
   "outputs": [],
   "source": []
  },
  {
   "cell_type": "code",
   "execution_count": null,
   "id": "fc79a601",
   "metadata": {},
   "outputs": [],
   "source": []
  },
  {
   "cell_type": "code",
   "execution_count": null,
   "id": "ac0b81ca",
   "metadata": {},
   "outputs": [],
   "source": []
  },
  {
   "cell_type": "code",
   "execution_count": null,
   "id": "635285fe",
   "metadata": {},
   "outputs": [],
   "source": []
  }
 ],
 "metadata": {
  "kernelspec": {
   "display_name": "Python 3",
   "language": "python",
   "name": "python3"
  },
  "language_info": {
   "codemirror_mode": {
    "name": "ipython",
    "version": 3
   },
   "file_extension": ".py",
   "mimetype": "text/x-python",
   "name": "python",
   "nbconvert_exporter": "python",
   "pygments_lexer": "ipython3",
   "version": "3.6.10"
  }
 },
 "nbformat": 4,
 "nbformat_minor": 5
}
