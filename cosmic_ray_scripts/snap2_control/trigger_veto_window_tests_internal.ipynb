{
 "cells": [
  {
   "cell_type": "code",
   "execution_count": 1,
   "metadata": {},
   "outputs": [],
   "source": [
    "import matplotlib.pyplot as plt\n",
    "import numpy as np\n",
    "import casperfpga\n",
    "import time\n",
    "from lwa_f import snap2_fengine\n",
    "from lwa_f import blocks\n",
    "from lwautils import lwa_arx \n",
    "import pandas as pd\n",
    "from cr_functions import *\n",
    "import struct\n",
    "import math\n",
    "from scipy import special as sp\n",
    "from scipy import optimize as oz\n",
    "from scipy import stats as st\n"
   ]
  },
  {
   "cell_type": "code",
   "execution_count": 2,
   "metadata": {},
   "outputs": [],
   "source": [
    "\n",
    "def packantennaroles(roles_array):\n",
    "    #turn an array of 64 ones and zeros into two 32 bit integers, one for the first half and one for the second\n",
    "    output1=0\n",
    "    output2=0\n",
    "    for i in range(32):\n",
    "        output1+=roles_array[i]<<i\n",
    "        output2+=roles_array[i+32]<<i\n",
    "\n",
    "    return output1, output2\n",
    "\n",
    "def setup_coincidencer(trigger_power_thresh,\n",
    "                      veto_power_thresh,\n",
    "                      trigger_window,\n",
    "                      veto_window,\n",
    "                      antenna_number_thresh,\n",
    "                      veto_number_thresh,\n",
    "                      delays,\n",
    "                      core_roles_array,\n",
    "                      veto_roles_array):\n",
    "    # set parameters\n",
    "    setvalue(casperbrd,\"trigger_power_thresh\",\"cr_registers.xlsx\",trigger_power_thresh)\n",
    "    setvalue(casperbrd,\"veto_power_thresh\",\"cr_registers.xlsx\",veto_power_thresh)\n",
    "    setvalue(casperbrd,'trigger_window','cr_registers.xlsx',trigger_window) \n",
    "    setvalue(casperbrd,'veto_window','cr_registers.xlsx',veto_window) \n",
    "    setvalue(casperbrd,'antenna_number_thresh','cr_registers.xlsx',antenna_number_thresh) \n",
    "    setvalue(casperbrd,'veto_number_thresh','cr_registers.xlsx',veto_number_thresh) \n",
    "    #set the antenna roles\n",
    "    core_roles1,core_roles2=packantennaroles(core_roles_array)\n",
    "    veto_roles1,veto_roles2=packantennaroles(veto_roles_array)\n",
    "    setvalue(casperbrd,'trigger_antennas1','cr_registers.xlsx',core_roles1)\n",
    "    setvalue(casperbrd,'trigger_antennas2','cr_registers.xlsx',core_roles2)\n",
    "    setvalue(casperbrd,'veto_antennas1','cr_registers.xlsx',veto_roles1)\n",
    "    setvalue(casperbrd,'veto_antennas2','cr_registers.xlsx',veto_roles2)\n",
    "\n",
    "    #see notebook subarray_threshold_scans for a function to extract the delays from a text file of delays and antenna names\n",
    "    delays=10*np.ones(64,dtype=int)\n",
    "    delayblock=blocks.delay.Delay(casperbrd, 'delay', n_streams=64, logger=None)\n",
    "    delayblock.initialize()\n",
    "    for i in range(64):\n",
    "        z=delays[i]\n",
    "        delayblock.set_delay(i,z)\n",
    "    return\n",
    "\n",
    "def test_coincidencer(brd,trigger_power_thresh,\n",
    "                      veto_power_thresh,\n",
    "                      trigger_window,\n",
    "                      veto_window,\n",
    "                      antenna_number_thresh,\n",
    "                      veto_number_thresh,\n",
    "                      delays,\n",
    "                      core_roles_array,\n",
    "                      veto_roles_array):\n",
    "\n",
    "    setup_coincidencer(trigger_power_thresh,\n",
    "                          veto_power_thresh,\n",
    "                          trigger_window,\n",
    "                          veto_window,\n",
    "                          antenna_number_thresh,\n",
    "                          veto_number_thresh,\n",
    "                          delays,\n",
    "                          core_roles_array,\n",
    "                          veto_roles_array)\n",
    "    # reset trigger counter\n",
    "    setvalue(brd,\"trig_debug_reset\",\"cr_registers.xlsx\",1)\n",
    "    time.sleep(0.003)\n",
    "    setvalue(brd,\"trig_debug_reset\",\"cr_registers.xlsx\",1)\n",
    "    \n",
    "    time.sleep(2.75)  #have to wait for it to update\n",
    "    trigger_count=getvalue(brd,\"count_triggers\",\"cr_registers.xlsx\")\n",
    "\n",
    "    veto_coincidence,core_coincidence=struct.unpack('>2l',casperbrd.read(\"cosmic_ray_core_and_veto_rate\",2*4,0))\n",
    "    print(\"Core coincidence per 10b cycle: \", core_coincidence/262144)\n",
    "    print(\"Veto coincidence per 10b cycle: \", veto_coincidence/262144)\n",
    "    print(\"Triggers per 10b cycle (roughly)\",trigger_count/262144)\n",
    "    return"
   ]
  },
  {
   "cell_type": "code",
   "execution_count": 3,
   "metadata": {},
   "outputs": [
    {
     "name": "stdout",
     "output_type": "stream",
     "text": [
      "2022-09-01 21:59:24,524 - lwa_f.blocks.block:snap01 - INFO - adc - Detected FMC ADC board on port 0\n",
      "2022-09-01 21:59:24,723 - lwa_f.blocks.block:snap01 - INFO - adc - Detected FMC ADC board on port 1\n",
      "2022-09-01 21:59:24,733 - lwa_f.snap2_fengine:snap01 - INFO - Loading firmware /home/ubuntu/kp/caltech-lwa/snap2_f_200msps_64i_4096c/outputs/snap2_f_200msps_64i_4096c_2022-06-01_1510.fpg to snap01\n",
      "2022-09-01 21:59:46,367 - lwa_f.blocks.block:snap01 - INFO - adc - Detected FMC ADC board on port 0\n",
      "2022-09-01 21:59:46,588 - lwa_f.blocks.block:snap01 - INFO - adc - Detected FMC ADC board on port 1\n"
     ]
    }
   ],
   "source": [
    "fpgfile='/home/ubuntu/kp/caltech-lwa/snap2_f_200msps_64i_4096c/outputs/snap2_f_200msps_64i_4096c_2022-06-01_1510.fpg'\n",
    "brdname='snap01'\n",
    "brd=snap2_fengine.Snap2Fengine(brdname)\n",
    "brd.program(fpgfile)\n",
    "casperbrd = casperfpga.CasperFpga(brdname, transport=casperfpga.TapcpTransport)"
   ]
  },
  {
   "cell_type": "code",
   "execution_count": 4,
   "metadata": {},
   "outputs": [
    {
     "name": "stdout",
     "output_type": "stream",
     "text": [
      "2022-09-01 21:59:46,614 - lwa_f.snap2_fengine:snap01 - INFO - Initializing block (writable): fpga\n",
      "2022-09-01 21:59:46,615 - lwa_f.snap2_fengine:snap01 - INFO - Initializing block (writable): adc\n",
      "2022-09-01 21:59:46,618 - lwa_f.blocks.block:snap01 - INFO - adc - FMC 0 board 0: Setting clock source to 1\n",
      "2022-09-01 21:59:46,624 - lwa_f.blocks.block:snap01 - INFO - adc - FMC 0 board 1: Setting clock source to 1\n",
      "2022-09-01 21:59:46,632 - lwa_f.blocks.block:snap01 - INFO - adc - FMC 1 board 0: Setting clock source to 1\n",
      "2022-09-01 21:59:46,639 - lwa_f.blocks.block:snap01 - INFO - adc - FMC 1 board 1: Setting clock source to 1\n",
      "2022-09-01 21:59:57,090 - lwa_f.blocks.block:snap01 - INFO - adc - FMC 0 board 0 clock rates: [490850954, 98238614, 98288630, 0, 0]\n",
      "2022-09-01 21:59:57,091 - lwa_f.blocks.block:snap01 - INFO - adc - FMC 0 board 0: MMCM locked\n",
      "2022-09-01 21:59:58,102 - lwa_f.blocks.block:snap01 - INFO - adc - FMC 0 board 1 clock rates: [490693575, 98208079, 98248660, 98280748, 0]\n",
      "2022-09-01 21:59:59,113 - lwa_f.blocks.block:snap01 - INFO - adc - FMC 1 board 0 clock rates: [8739, 875, 804, 0, 0]\n",
      "2022-09-01 21:59:59,114 - lwa_f.blocks.block:snap01 - INFO - adc - FMC 1 board 0: MMCM locked\n",
      "2022-09-01 22:00:00,124 - lwa_f.blocks.block:snap01 - INFO - adc - FMC 1 board 1 clock rates: [490687409, 98153526, 98217227, 98257812, 0]\n",
      "2022-09-01 22:00:01,469 - lwa_f.blocks.block:snap01 - INFO - adc - FMC 0 Scanning data delays\n"
     ]
    },
    {
     "name": "stderr",
     "output_type": "stream",
     "text": [
      "100% (64 of 64) |########################| Elapsed Time: 0:00:07 Time:  0:00:07\n"
     ]
    },
    {
     "name": "stdout",
     "output_type": "stream",
     "text": [
      "2022-09-01 22:00:08,903 - lwa_f.blocks.block:snap01 - INFO - adc - FMC 0 data lane delays:\n",
      "[[328, 320, 328, 312, 320, 320, 320, 312], [296, 288, 288, 272, 280, 280, 272, 280], [272, 272, 264, 264, 272, 272, 272, 280], [304, 312, 304, 296, 304, 304, 304, 304], [288, 280, 280, 288, 288, 280, 280, 288], [248, 256, 264, 256, 248, 248, 248, 248], [272, 248, 256, 264, 264, 272, 256, 256], [304, 296, 296, 296, 296, 304, 304, 296]]\n",
      "2022-09-01 22:00:08,904 - lwa_f.blocks.block:snap01 - INFO - adc - FMC 0 data lane slacks:\n",
      "[[40, 40, 40, 40, 40, 40, 40, 32], [48, 40, 40, 40, 40, 40, 40, 40], [48, 40, 40, 40, 40, 40, 48, 40], [40, 40, 40, 40, 40, 40, 40, 40], [40, 40, 40, 40, 40, 40, 40, 40], [40, 40, 40, 40, 40, 40, 40, 40], [40, 40, 40, 40, 40, 40, 40, 40], [40, 40, 40, 40, 40, 40, 40, 40]]\n",
      "2022-09-01 22:00:08,904 - lwa_f.blocks.block:snap01 - INFO - adc - Chip 0, Lane 0:    XXXXXXXXXXXXXXXXXXXXXXXXXXXXXXXXXXXXX----|-----XXXXXXXXXXXXXXXXX\n",
      "2022-09-01 22:00:08,905 - lwa_f.blocks.block:snap01 - INFO - adc - Chip 0, Lane 1:    XXXXXXXXXXXXXXXXXXXXXXXXXXXXXXXXXXXX----|-----XXXXXXXXXXXXXXXXXX\n",
      "2022-09-01 22:00:08,906 - lwa_f.blocks.block:snap01 - INFO - adc - Chip 0, Lane 2:    XXXXXXXXXXXXXXXXXXXXXXXXXXXXXXXXXXXXX----|-----XXXXXXXXXXXXXXXXX\n",
      "2022-09-01 22:00:08,907 - lwa_f.blocks.block:snap01 - INFO - adc - Chip 0, Lane 3:    XXXXXXXXXXXXXXXXXXXXXXXXXXXXXXXXXXX----|-----XXXXXXXXXXXXXXXXXXX\n",
      "2022-09-01 22:00:08,908 - lwa_f.blocks.block:snap01 - INFO - adc - Chip 0, Lane 4:    XXXXXXXXXXXXXXXXXXXXXXXXXXXXXXXXXXXX----|----XXXXXXXXXXXXXXXXXXX\n",
      "2022-09-01 22:00:08,909 - lwa_f.blocks.block:snap01 - INFO - adc - Chip 0, Lane 5:    XXXXXXXXXXXXXXXXXXXXXXXXXXXXXXXXXXXX----|----XXXXXXXXXXXXXXXXXXX\n",
      "2022-09-01 22:00:08,910 - lwa_f.blocks.block:snap01 - INFO - adc - Chip 0, Lane 6:    XXXXXXXXXXXXXXXXXXXXXXXXXXXXXXXXXXXX----|----XXXXXXXXXXXXXXXXXXX\n",
      "2022-09-01 22:00:08,910 - lwa_f.blocks.block:snap01 - INFO - adc - Chip 0, Lane 7:    XXXXXXXXXXXXXXXXXXXXXXXXXXXXXXXXXXXX---|----XXXXXXXXXXXXXXXXXXXX\n",
      "2022-09-01 22:00:08,911 - lwa_f.blocks.block:snap01 - INFO - adc - Chip 1, Lane 0:    XXXXXXXXXXXXXXXXXXXXXXXXXXXXXXXX-----|-----XXXXXXXXXXXXXXXXXXXXX\n",
      "2022-09-01 22:00:08,912 - lwa_f.blocks.block:snap01 - INFO - adc - Chip 1, Lane 1:    XXXXXXXXXXXXXXXXXXXXXXXXXXXXXXXX----|----XXXXXXXXXXXXXXXXXXXXXXX\n",
      "2022-09-01 22:00:08,913 - lwa_f.blocks.block:snap01 - INFO - adc - Chip 1, Lane 2:    XXXXXXXXXXXXXXXXXXXXXXXXXXXXXXXX----|----XXXXXXXXXXXXXXXXXXXXXXX\n",
      "2022-09-01 22:00:08,913 - lwa_f.blocks.block:snap01 - INFO - adc - Chip 1, Lane 3:    XXXXXXXXXXXXXXXXXXXXXXXXXXXXXX----|-----XXXXXXXXXXXXXXXXXXXXXXXX\n",
      "2022-09-01 22:00:08,914 - lwa_f.blocks.block:snap01 - INFO - adc - Chip 1, Lane 4:    XXXXXXXXXXXXXXXXXXXXXXXXXXXXXXX----|-----XXXXXXXXXXXXXXXXXXXXXXX\n",
      "2022-09-01 22:00:08,915 - lwa_f.blocks.block:snap01 - INFO - adc - Chip 1, Lane 5:    XXXXXXXXXXXXXXXXXXXXXXXXXXXXXXX----|----XXXXXXXXXXXXXXXXXXXXXXXX\n",
      "2022-09-01 22:00:08,915 - lwa_f.blocks.block:snap01 - INFO - adc - Chip 1, Lane 6:    XXXXXXXXXXXXXXXXXXXXXXXXXXXXXX----|-----XXXXXXXXXXXXXXXXXXXXXXXX\n",
      "2022-09-01 22:00:08,916 - lwa_f.blocks.block:snap01 - INFO - adc - Chip 1, Lane 7:    XXXXXXXXXXXXXXXXXXXXXXXXXXXXXXX----|----XXXXXXXXXXXXXXXXXXXXXXXX\n",
      "2022-09-01 22:00:08,917 - lwa_f.blocks.block:snap01 - INFO - adc - Chip 2, Lane 0:    XXXXXXXXXXXXXXXXXXXXXXXXXXXXX-----|-----XXXXXXXXXXXXXXXXXXXXXXXX\n",
      "2022-09-01 22:00:08,917 - lwa_f.blocks.block:snap01 - INFO - adc - Chip 2, Lane 1:    XXXXXXXXXXXXXXXXXXXXXXXXXXXXXX----|----XXXXXXXXXXXXXXXXXXXXXXXXX\n",
      "2022-09-01 22:00:08,918 - lwa_f.blocks.block:snap01 - INFO - adc - Chip 2, Lane 2:    XXXXXXXXXXXXXXXXXXXXXXXXXXXXX----|-----XXXXXXXXXXXXXXXXXXXXXXXXX\n",
      "2022-09-01 22:00:08,918 - lwa_f.blocks.block:snap01 - INFO - adc - Chip 2, Lane 3:    XXXXXXXXXXXXXXXXXXXXXXXXXXXXX----|-----XXXXXXXXXXXXXXXXXXXXXXXXX\n",
      "2022-09-01 22:00:08,919 - lwa_f.blocks.block:snap01 - INFO - adc - Chip 2, Lane 4:    XXXXXXXXXXXXXXXXXXXXXXXXXXXXXX----|----XXXXXXXXXXXXXXXXXXXXXXXXX\n",
      "2022-09-01 22:00:08,920 - lwa_f.blocks.block:snap01 - INFO - adc - Chip 2, Lane 5:    XXXXXXXXXXXXXXXXXXXXXXXXXXXXXX----|----XXXXXXXXXXXXXXXXXXXXXXXXX\n",
      "2022-09-01 22:00:08,920 - lwa_f.blocks.block:snap01 - INFO - adc - Chip 2, Lane 6:    XXXXXXXXXXXXXXXXXXXXXXXXXXXXX-----|-----XXXXXXXXXXXXXXXXXXXXXXXX\n",
      "2022-09-01 22:00:08,921 - lwa_f.blocks.block:snap01 - INFO - adc - Chip 2, Lane 7:    XXXXXXXXXXXXXXXXXXXXXXXXXXXXXXX----|----XXXXXXXXXXXXXXXXXXXXXXXX\n",
      "2022-09-01 22:00:08,922 - lwa_f.blocks.block:snap01 - INFO - adc - Chip 3, Lane 0:    XXXXXXXXXXXXXXXXXXXXXXXXXXXXXXXXXX----|----XXXXXXXXXXXXXXXXXXXXX\n",
      "2022-09-01 22:00:08,922 - lwa_f.blocks.block:snap01 - INFO - adc - Chip 3, Lane 1:    XXXXXXXXXXXXXXXXXXXXXXXXXXXXXXXXXXX----|-----XXXXXXXXXXXXXXXXXXX\n",
      "2022-09-01 22:00:08,923 - lwa_f.blocks.block:snap01 - INFO - adc - Chip 3, Lane 2:    XXXXXXXXXXXXXXXXXXXXXXXXXXXXXXXXXX----|----XXXXXXXXXXXXXXXXXXXXX\n",
      "2022-09-01 22:00:08,927 - lwa_f.blocks.block:snap01 - INFO - adc - Chip 3, Lane 3:    XXXXXXXXXXXXXXXXXXXXXXXXXXXXXXXXX----|-----XXXXXXXXXXXXXXXXXXXXX\n",
      "2022-09-01 22:00:08,927 - lwa_f.blocks.block:snap01 - INFO - adc - Chip 3, Lane 4:    XXXXXXXXXXXXXXXXXXXXXXXXXXXXXXXXXX----|----XXXXXXXXXXXXXXXXXXXXX\n",
      "2022-09-01 22:00:08,928 - lwa_f.blocks.block:snap01 - INFO - adc - Chip 3, Lane 5:    XXXXXXXXXXXXXXXXXXXXXXXXXXXXXXXXXX----|----XXXXXXXXXXXXXXXXXXXXX\n",
      "2022-09-01 22:00:08,929 - lwa_f.blocks.block:snap01 - INFO - adc - Chip 3, Lane 6:    XXXXXXXXXXXXXXXXXXXXXXXXXXXXXXXXXX----|----XXXXXXXXXXXXXXXXXXXXX\n",
      "2022-09-01 22:00:08,929 - lwa_f.blocks.block:snap01 - INFO - adc - Chip 3, Lane 7:    XXXXXXXXXXXXXXXXXXXXXXXXXXXXXXXXXX----|----XXXXXXXXXXXXXXXXXXXXX\n",
      "2022-09-01 22:00:08,930 - lwa_f.blocks.block:snap01 - INFO - adc - Chip 4, Lane 0:    XXXXXXXXXXXXXXXXXXXXXXXXXXXXXXXX----|----XXXXXXXXXXXXXXXXXXXXXXX\n",
      "2022-09-01 22:00:08,930 - lwa_f.blocks.block:snap01 - INFO - adc - Chip 4, Lane 1:    XXXXXXXXXXXXXXXXXXXXXXXXXXXXXXX----|-----XXXXXXXXXXXXXXXXXXXXXXX\n",
      "2022-09-01 22:00:08,931 - lwa_f.blocks.block:snap01 - INFO - adc - Chip 4, Lane 2:    XXXXXXXXXXXXXXXXXXXXXXXXXXXXXXX----|-----XXXXXXXXXXXXXXXXXXXXXXX\n",
      "2022-09-01 22:00:08,932 - lwa_f.blocks.block:snap01 - INFO - adc - Chip 4, Lane 3:    XXXXXXXXXXXXXXXXXXXXXXXXXXXXXXXX----|----XXXXXXXXXXXXXXXXXXXXXXX\n",
      "2022-09-01 22:00:08,932 - lwa_f.blocks.block:snap01 - INFO - adc - Chip 4, Lane 4:    XXXXXXXXXXXXXXXXXXXXXXXXXXXXXXXX----|----XXXXXXXXXXXXXXXXXXXXXXX\n",
      "2022-09-01 22:00:08,934 - lwa_f.blocks.block:snap01 - INFO - adc - Chip 4, Lane 5:    XXXXXXXXXXXXXXXXXXXXXXXXXXXXXXX----|-----XXXXXXXXXXXXXXXXXXXXXXX\n",
      "2022-09-01 22:00:08,935 - lwa_f.blocks.block:snap01 - INFO - adc - Chip 4, Lane 6:    XXXXXXXXXXXXXXXXXXXXXXXXXXXXXXX----|-----XXXXXXXXXXXXXXXXXXXXXXX\n",
      "2022-09-01 22:00:08,935 - lwa_f.blocks.block:snap01 - INFO - adc - Chip 4, Lane 7:    XXXXXXXXXXXXXXXXXXXXXXXXXXXXXXXX----|----XXXXXXXXXXXXXXXXXXXXXXX\n",
      "2022-09-01 22:00:08,936 - lwa_f.blocks.block:snap01 - INFO - adc - Chip 5, Lane 0:    XXXXXXXXXXXXXXXXXXXXXXXXXXX----|-----XXXXXXXXXXXXXXXXXXXXXXXXXXX\n",
      "2022-09-01 22:00:08,936 - lwa_f.blocks.block:snap01 - INFO - adc - Chip 5, Lane 1:    XXXXXXXXXXXXXXXXXXXXXXXXXXXX----|-----XXXXXXXXXXXXXXXXXXXXXXXXXX\n",
      "2022-09-01 22:00:08,938 - lwa_f.blocks.block:snap01 - INFO - adc - Chip 5, Lane 2:    XXXXXXXXXXXXXXXXXXXXXXXXXXXXX----|----XXXXXXXXXXXXXXXXXXXXXXXXXX\n",
      "2022-09-01 22:00:08,938 - lwa_f.blocks.block:snap01 - INFO - adc - Chip 5, Lane 3:    XXXXXXXXXXXXXXXXXXXXXXXXXXXX----|-----XXXXXXXXXXXXXXXXXXXXXXXXXX\n",
      "2022-09-01 22:00:08,939 - lwa_f.blocks.block:snap01 - INFO - adc - Chip 5, Lane 4:    XXXXXXXXXXXXXXXXXXXXXXXXXXX----|-----XXXXXXXXXXXXXXXXXXXXXXXXXXX\n",
      "2022-09-01 22:00:08,940 - lwa_f.blocks.block:snap01 - INFO - adc - Chip 5, Lane 5:    XXXXXXXXXXXXXXXXXXXXXXXXXXX----|-----XXXXXXXXXXXXXXXXXXXXXXXXXXX\n",
      "2022-09-01 22:00:08,940 - lwa_f.blocks.block:snap01 - INFO - adc - Chip 5, Lane 6:    XXXXXXXXXXXXXXXXXXXXXXXXXXX----|-----XXXXXXXXXXXXXXXXXXXXXXXXXXX\n",
      "2022-09-01 22:00:08,941 - lwa_f.blocks.block:snap01 - INFO - adc - Chip 5, Lane 7:    XXXXXXXXXXXXXXXXXXXXXXXXXXX----|-----XXXXXXXXXXXXXXXXXXXXXXXXXXX\n",
      "2022-09-01 22:00:08,941 - lwa_f.blocks.block:snap01 - INFO - adc - Chip 6, Lane 0:    XXXXXXXXXXXXXXXXXXXXXXXXXXXXXX----|-----XXXXXXXXXXXXXXXXXXXXXXXX\n",
      "2022-09-01 22:00:08,942 - lwa_f.blocks.block:snap01 - INFO - adc - Chip 6, Lane 1:    XXXXXXXXXXXXXXXXXXXXXXXXXXX----|-----XXXXXXXXXXXXXXXXXXXXXXXXXXX\n"
     ]
    },
    {
     "name": "stdout",
     "output_type": "stream",
     "text": [
      "2022-09-01 22:00:08,943 - lwa_f.blocks.block:snap01 - INFO - adc - Chip 6, Lane 2:    XXXXXXXXXXXXXXXXXXXXXXXXXXXX----|----XXXXXXXXXXXXXXXXXXXXXXXXXXX\n",
      "2022-09-01 22:00:08,943 - lwa_f.blocks.block:snap01 - INFO - adc - Chip 6, Lane 3:    XXXXXXXXXXXXXXXXXXXXXXXXXXXXX----|----XXXXXXXXXXXXXXXXXXXXXXXXXX\n",
      "2022-09-01 22:00:08,944 - lwa_f.blocks.block:snap01 - INFO - adc - Chip 6, Lane 4:    XXXXXXXXXXXXXXXXXXXXXXXXXXXXX----|----XXXXXXXXXXXXXXXXXXXXXXXXXX\n",
      "2022-09-01 22:00:08,945 - lwa_f.blocks.block:snap01 - INFO - adc - Chip 6, Lane 5:    XXXXXXXXXXXXXXXXXXXXXXXXXXXXXX----|----XXXXXXXXXXXXXXXXXXXXXXXXX\n",
      "2022-09-01 22:00:08,945 - lwa_f.blocks.block:snap01 - INFO - adc - Chip 6, Lane 6:    XXXXXXXXXXXXXXXXXXXXXXXXXXXX----|----XXXXXXXXXXXXXXXXXXXXXXXXXXX\n",
      "2022-09-01 22:00:08,946 - lwa_f.blocks.block:snap01 - INFO - adc - Chip 6, Lane 7:    XXXXXXXXXXXXXXXXXXXXXXXXXXXX----|----XXXXXXXXXXXXXXXXXXXXXXXXXXX\n",
      "2022-09-01 22:00:08,947 - lwa_f.blocks.block:snap01 - INFO - adc - Chip 7, Lane 0:    XXXXXXXXXXXXXXXXXXXXXXXXXXXXXXXXXX----|----XXXXXXXXXXXXXXXXXXXXX\n",
      "2022-09-01 22:00:08,947 - lwa_f.blocks.block:snap01 - INFO - adc - Chip 7, Lane 1:    XXXXXXXXXXXXXXXXXXXXXXXXXXXXXXXXX----|-----XXXXXXXXXXXXXXXXXXXXX\n",
      "2022-09-01 22:00:08,948 - lwa_f.blocks.block:snap01 - INFO - adc - Chip 7, Lane 2:    XXXXXXXXXXXXXXXXXXXXXXXXXXXXXXXXX----|-----XXXXXXXXXXXXXXXXXXXXX\n",
      "2022-09-01 22:00:08,948 - lwa_f.blocks.block:snap01 - INFO - adc - Chip 7, Lane 3:    XXXXXXXXXXXXXXXXXXXXXXXXXXXXXXXXX----|----XXXXXXXXXXXXXXXXXXXXXX\n",
      "2022-09-01 22:00:08,949 - lwa_f.blocks.block:snap01 - INFO - adc - Chip 7, Lane 4:    XXXXXXXXXXXXXXXXXXXXXXXXXXXXXXXXX----|-----XXXXXXXXXXXXXXXXXXXXX\n",
      "2022-09-01 22:00:08,950 - lwa_f.blocks.block:snap01 - INFO - adc - Chip 7, Lane 5:    XXXXXXXXXXXXXXXXXXXXXXXXXXXXXXXXXX----|----XXXXXXXXXXXXXXXXXXXXX\n",
      "2022-09-01 22:00:08,950 - lwa_f.blocks.block:snap01 - INFO - adc - Chip 7, Lane 6:    XXXXXXXXXXXXXXXXXXXXXXXXXXXXXXXXXX----|-----XXXXXXXXXXXXXXXXXXXX\n",
      "2022-09-01 22:00:08,951 - lwa_f.blocks.block:snap01 - INFO - adc - Chip 7, Lane 7:    XXXXXXXXXXXXXXXXXXXXXXXXXXXXXXXXX----|----XXXXXXXXXXXXXXXXXXXXXX\n",
      "2022-09-01 22:00:11,504 - lwa_f.blocks.block:snap01 - INFO - adc - FMC 1 Scanning data delays\n"
     ]
    },
    {
     "name": "stderr",
     "output_type": "stream",
     "text": [
      "100% (64 of 64) |########################| Elapsed Time: 0:00:07 Time:  0:00:07\n"
     ]
    },
    {
     "name": "stdout",
     "output_type": "stream",
     "text": [
      "2022-09-01 22:00:18,589 - lwa_f.blocks.block:snap01 - INFO - adc - Bitslipping board 0 because everywhere was bad\n",
      "2022-09-01 22:00:19,591 - lwa_f.blocks.block:snap01 - INFO - adc - FMC 1 Scanning data delays\n"
     ]
    },
    {
     "name": "stderr",
     "output_type": "stream",
     "text": [
      "100% (64 of 64) |########################| Elapsed Time: 0:00:07 Time:  0:00:07\n"
     ]
    },
    {
     "name": "stdout",
     "output_type": "stream",
     "text": [
      "2022-09-01 22:00:26,999 - lwa_f.blocks.block:snap01 - INFO - adc - Bitslipping board 0 because everywhere was bad\n",
      "2022-09-01 22:00:28,126 - lwa_f.blocks.block:snap01 - INFO - adc - FMC 1 Scanning data delays\n"
     ]
    },
    {
     "name": "stderr",
     "output_type": "stream",
     "text": [
      "100% (64 of 64) |########################| Elapsed Time: 0:00:07 Time:  0:00:07\n"
     ]
    },
    {
     "name": "stdout",
     "output_type": "stream",
     "text": [
      "2022-09-01 22:00:35,585 - lwa_f.blocks.block:snap01 - INFO - adc - Bitslipping board 0 chip 0 because nowhere was good\n",
      "2022-09-01 22:00:35,598 - lwa_f.blocks.block:snap01 - INFO - adc - Bitslipping board 0 chip 1 because nowhere was good\n",
      "2022-09-01 22:00:35,611 - lwa_f.blocks.block:snap01 - INFO - adc - Bitslipping board 0 chip 2 because nowhere was good\n",
      "2022-09-01 22:00:35,625 - lwa_f.blocks.block:snap01 - INFO - adc - Bitslipping board 0 chip 3 because nowhere was good\n",
      "2022-09-01 22:00:36,755 - lwa_f.blocks.block:snap01 - INFO - adc - FMC 1 Scanning data delays\n"
     ]
    },
    {
     "name": "stderr",
     "output_type": "stream",
     "text": [
      "100% (64 of 64) |########################| Elapsed Time: 0:00:07 Time:  0:00:07\n"
     ]
    },
    {
     "name": "stdout",
     "output_type": "stream",
     "text": [
      "2022-09-01 22:00:44,071 - lwa_f.blocks.block:snap01 - INFO - adc - Bitslipping board 0 chip 0 because nowhere was good\n",
      "2022-09-01 22:00:44,083 - lwa_f.blocks.block:snap01 - INFO - adc - Bitslipping board 0 chip 1 because nowhere was good\n",
      "2022-09-01 22:00:44,095 - lwa_f.blocks.block:snap01 - INFO - adc - Bitslipping board 0 chip 2 because nowhere was good\n",
      "2022-09-01 22:00:44,107 - lwa_f.blocks.block:snap01 - INFO - adc - Bitslipping board 0 chip 3 because nowhere was good\n",
      "2022-09-01 22:00:45,041 - lwa_f.blocks.block:snap01 - INFO - adc - FMC 1 Scanning data delays\n"
     ]
    },
    {
     "name": "stderr",
     "output_type": "stream",
     "text": [
      "100% (64 of 64) |########################| Elapsed Time: 0:00:07 Time:  0:00:07\n"
     ]
    },
    {
     "name": "stdout",
     "output_type": "stream",
     "text": [
      "2022-09-01 22:00:52,537 - lwa_f.blocks.block:snap01 - INFO - adc - Bitslipping board 0 chip 0 because nowhere was good\n",
      "2022-09-01 22:00:52,550 - lwa_f.blocks.block:snap01 - INFO - adc - Bitslipping board 0 chip 1 because nowhere was good\n",
      "2022-09-01 22:00:52,561 - lwa_f.blocks.block:snap01 - INFO - adc - Bitslipping board 0 chip 2 because nowhere was good\n",
      "2022-09-01 22:00:52,574 - lwa_f.blocks.block:snap01 - INFO - adc - Bitslipping board 0 chip 3 because nowhere was good\n"
     ]
    },
    {
     "name": "stderr",
     "output_type": "stream",
     "text": [
      "WARNING >>>> SPI readback error (FMC 1, chip 7, addr 0x26)\n"
     ]
    },
    {
     "name": "stdout",
     "output_type": "stream",
     "text": [
      "2022-09-01 22:00:54,023 - lwa_f.blocks.block:snap01 - INFO - adc - FMC 1 Scanning data delays\n"
     ]
    },
    {
     "name": "stderr",
     "output_type": "stream",
     "text": [
      "100% (64 of 64) |########################| Elapsed Time: 0:00:07 Time:  0:00:07\n"
     ]
    },
    {
     "name": "stdout",
     "output_type": "stream",
     "text": [
      "2022-09-01 22:01:01,873 - lwa_f.blocks.block:snap01 - INFO - adc - Bitslipping board 0 chip 0 because nowhere was good\n",
      "2022-09-01 22:01:01,886 - lwa_f.blocks.block:snap01 - INFO - adc - Bitslipping board 0 chip 1 because nowhere was good\n",
      "2022-09-01 22:01:01,897 - lwa_f.blocks.block:snap01 - INFO - adc - Bitslipping board 0 chip 2 because nowhere was good\n",
      "2022-09-01 22:01:01,913 - lwa_f.blocks.block:snap01 - INFO - adc - Bitslipping board 0 chip 3 because nowhere was good\n",
      "2022-09-01 22:01:03,266 - lwa_f.blocks.block:snap01 - INFO - adc - FMC 1 Scanning data delays\n"
     ]
    },
    {
     "name": "stderr",
     "output_type": "stream",
     "text": [
      "100% (64 of 64) |########################| Elapsed Time: 0:00:07 Time:  0:00:07\n"
     ]
    },
    {
     "name": "stdout",
     "output_type": "stream",
     "text": [
      "2022-09-01 22:01:10,575 - lwa_f.blocks.block:snap01 - INFO - adc - Bitslipping board 0 chip 0 because nowhere was good\n",
      "2022-09-01 22:01:10,586 - lwa_f.blocks.block:snap01 - INFO - adc - Bitslipping board 0 chip 1 because nowhere was good\n",
      "2022-09-01 22:01:10,599 - lwa_f.blocks.block:snap01 - INFO - adc - Bitslipping board 0 chip 2 because nowhere was good\n",
      "2022-09-01 22:01:10,612 - lwa_f.blocks.block:snap01 - INFO - adc - Bitslipping board 0 chip 3 because nowhere was good\n",
      "2022-09-01 22:01:11,585 - lwa_f.blocks.block:snap01 - INFO - adc - FMC 1 Scanning data delays\n"
     ]
    },
    {
     "name": "stderr",
     "output_type": "stream",
     "text": [
      "100% (64 of 64) |########################| Elapsed Time: 0:00:07 Time:  0:00:07\n"
     ]
    },
    {
     "name": "stdout",
     "output_type": "stream",
     "text": [
      "2022-09-01 22:01:19,009 - lwa_f.blocks.block:snap01 - INFO - adc - FMC 1 data lane delays:\n",
      "[[0, 0, 0, 0, 0, 0, 0, 0], [0, 0, 0, 0, 0, 0, 0, 0], [0, 0, 0, 0, 0, 0, 0, 0], [0, 0, 0, 0, 0, 0, 0, 0], [280, 288, 288, 296, 288, 288, 288, 288], [232, 224, 224, 224, 232, 224, 232, 224], [272, 264, 264, 280, 264, 264, 264, 264], [304, 304, 304, 304, 304, 304, 304, 296]]\n",
      "2022-09-01 22:01:19,010 - lwa_f.blocks.block:snap01 - INFO - adc - FMC 1 data lane slacks:\n",
      "[[0, 0, 0, 0, 0, 0, 0, 0], [0, 0, 0, 0, 0, 0, 0, 0], [0, 0, 0, 0, 0, 0, 0, 0], [0, 0, 0, 0, 0, 0, 0, 0], [40, 40, 48, 40, 40, 40, 40, 40], [40, 40, 32, 40, 40, 40, 40, 32], [32, 32, 32, 40, 32, 32, 32, 32], [40, 40, 40, 40, 40, 40, 40, 32]]\n",
      "2022-09-01 22:01:19,011 - lwa_f.blocks.block:snap01 - WARNING - adc - Delay solutions have small slack\n",
      "2022-09-01 22:01:19,012 - lwa_f.blocks.block:snap01 - INFO - adc - Chip 0, Lane 0:    |XXXXXXXXXXXXXXXXXXXXXXXXXXXXXXXXXXXXXXXXXXXXXXXXXXXXXXXXXXXXXXX\n",
      "2022-09-01 22:01:19,013 - lwa_f.blocks.block:snap01 - INFO - adc - Chip 0, Lane 1:    |XXXXXXXXXXXXXXXXXXXXXXXXXXXXXXXXXXXXXXXXXXXXXXXXXXXXXXXXXXXXXXX\n",
      "2022-09-01 22:01:19,013 - lwa_f.blocks.block:snap01 - INFO - adc - Chip 0, Lane 2:    |XXXXXXXXXXXXXXXXXXXXXXXXXXXXXXXXXXXXXXXXXXXXXXXXXXXXXXXXXXXXXXX\n",
      "2022-09-01 22:01:19,014 - lwa_f.blocks.block:snap01 - INFO - adc - Chip 0, Lane 3:    |XXXXXXXXXXXXXXXXXXXXXXXXXXXXXXXXXXXXXXXXXXXXXXXXXXXXXXXXXXXXXXX\n",
      "2022-09-01 22:01:19,015 - lwa_f.blocks.block:snap01 - INFO - adc - Chip 0, Lane 4:    |XXXXXXXXXXXXXXXXXXXXXXXXXXXXXXXXXXXXXXXXXXXXXXXXXXXXXXXXXXXXXXX\n",
      "2022-09-01 22:01:19,016 - lwa_f.blocks.block:snap01 - INFO - adc - Chip 0, Lane 5:    |XXXXXXXXXXXXXXXXXXXXXXXXXXXXXXXXXXXXXXXXXXXXXXXXXXXXXXXXXXXXXXX\n",
      "2022-09-01 22:01:19,016 - lwa_f.blocks.block:snap01 - INFO - adc - Chip 0, Lane 6:    |XXXXXXXXXXXXXXXXXXXXXXXXXXXXXXXXXXXXXXXXXXXXXXXXXXXXXXXXXXXXXXX\n",
      "2022-09-01 22:01:19,017 - lwa_f.blocks.block:snap01 - INFO - adc - Chip 0, Lane 7:    |XXXXXXXXXXXXXXXXXXXXXXXXXXXXXXXXXXXXXXXXXXXXXXXXXXXXXXXXXXXXXXX\n",
      "2022-09-01 22:01:19,018 - lwa_f.blocks.block:snap01 - INFO - adc - Chip 1, Lane 0:    |XXXXXXXXXXXXXXXXXXXXXXXXXXXXXXXXXXXXXXXXXXXXXXXXXXXXXXXXXXXXXXX\n",
      "2022-09-01 22:01:19,018 - lwa_f.blocks.block:snap01 - INFO - adc - Chip 1, Lane 1:    |XXXXXXXXXXXXXXXXXXXXXXXXXXXXXXXXXXXXXXXXXXXXXXXXXXXXXXXXXXXXXXX\n",
      "2022-09-01 22:01:19,019 - lwa_f.blocks.block:snap01 - INFO - adc - Chip 1, Lane 2:    |XXXXXXXXXXXXXXXXXXXXXXXXXXXXXXXXXXXXXXXXXXXXXXXXXXXXXXXXXXXXXXX\n",
      "2022-09-01 22:01:19,020 - lwa_f.blocks.block:snap01 - INFO - adc - Chip 1, Lane 3:    |XXXXXXXXXXXXXXXXXXXXXXXXXXXXXXXXXXXXXXXXXXXXXXXXXXXXXXXXXXXXXXX\n",
      "2022-09-01 22:01:19,024 - lwa_f.blocks.block:snap01 - INFO - adc - Chip 1, Lane 4:    |XXXXXXXXXXXXXXXXXXXXXXXXXXXXXXXXXXXXXXXXXXXXXXXXXXXXXXXXXXXXXXX\n",
      "2022-09-01 22:01:19,025 - lwa_f.blocks.block:snap01 - INFO - adc - Chip 1, Lane 5:    |XXXXXXXXXXXXXXXXXXXXXXXXXXXXXXXXXXXXXXXXXXXXXXXXXXXXXXXXXXXXXXX\n",
      "2022-09-01 22:01:19,025 - lwa_f.blocks.block:snap01 - INFO - adc - Chip 1, Lane 6:    |XXXXXXXXXXXXXXXXXXXXXXXXXXXXXXXXXXXXXXXXXXXXXXXXXXXXXXXXXXXXXXX\n",
      "2022-09-01 22:01:19,026 - lwa_f.blocks.block:snap01 - INFO - adc - Chip 1, Lane 7:    |XXXXXXXXXXXXXXXXXXXXXXXXXXXXXXXXXXXXXXXXXXXXXXXXXXXXXXXXXXXXXXX\n",
      "2022-09-01 22:01:19,027 - lwa_f.blocks.block:snap01 - INFO - adc - Chip 2, Lane 0:    |XXXXXXXXXXXXXXXXXXXXXXXXXXXXXXXXXXXXXXXXXXXXXXXXXXXXXXXXXXXXXXX\n",
      "2022-09-01 22:01:19,027 - lwa_f.blocks.block:snap01 - INFO - adc - Chip 2, Lane 1:    |XXXXXXXXXXXXXXXXXXXXXXXXXXXXXXXXXXXXXXXXXXXXXXXXXXXXXXXXXXXXXXX\n",
      "2022-09-01 22:01:19,028 - lwa_f.blocks.block:snap01 - INFO - adc - Chip 2, Lane 2:    |XXXXXXXXXXXXXXXXXXXXXXXXXXXXXXXXXXXXXXXXXXXXXXXXXXXXXXXXXXXXXXX\n",
      "2022-09-01 22:01:19,029 - lwa_f.blocks.block:snap01 - INFO - adc - Chip 2, Lane 3:    |XXXXXXXXXXXXXXXXXXXXXXXXXXXXXXXXXXXXXXXXXXXXXXXXXXXXXXXXXXXXXXX\n",
      "2022-09-01 22:01:19,030 - lwa_f.blocks.block:snap01 - INFO - adc - Chip 2, Lane 4:    |XXXXXXXXXXXXXXXXXXXXXXXXXXXXXXXXXXXXXXXXXXXXXXXXXXXXXXXXXXXXXXX\n",
      "2022-09-01 22:01:19,030 - lwa_f.blocks.block:snap01 - INFO - adc - Chip 2, Lane 5:    |XXXXXXXXXXXXXXXXXXXXXXXXXXXXXXXXXXXXXXXXXXXXXXXXXXXXXXXXXXXXXXX\n",
      "2022-09-01 22:01:19,031 - lwa_f.blocks.block:snap01 - INFO - adc - Chip 2, Lane 6:    |XXXXXXXXXXXXXXXXXXXXXXXXXXXXXXXXXXXXXXXXXXXXXXXXXXXXXXXXXXXXXXX\n",
      "2022-09-01 22:01:19,032 - lwa_f.blocks.block:snap01 - INFO - adc - Chip 2, Lane 7:    |XXXXXXXXXXXXXXXXXXXXXXXXXXXXXXXXXXXXXXXXXXXXXXXXXXXXXXXXXXXXXXX\n",
      "2022-09-01 22:01:19,033 - lwa_f.blocks.block:snap01 - INFO - adc - Chip 3, Lane 0:    |XXXXXXXXXXXXXXXXXXXXXXXXXXXXXXXXXXXXXXXXXXXXXXXXXXXXXXXXXXXXXXX\n",
      "2022-09-01 22:01:19,033 - lwa_f.blocks.block:snap01 - INFO - adc - Chip 3, Lane 1:    |XXXXXXXXXXXXXXXXXXXXXXXXXXXXXXXXXXXXXXXXXXXXXXXXXXXXXXXXXXXXXXX\n",
      "2022-09-01 22:01:19,034 - lwa_f.blocks.block:snap01 - INFO - adc - Chip 3, Lane 2:    |XXXXXXXXXXXXXXXXXXXXXXXXXXXXXXXXXXXXXXXXXXXXXXXXXXXXXXXXXXXXXXX\n",
      "2022-09-01 22:01:19,035 - lwa_f.blocks.block:snap01 - INFO - adc - Chip 3, Lane 3:    |XXXXXXXXXXXXXXXXXXXXXXXXXXXXXXXXXXXXXXXXXXXXXXXXXXXXXXXXXXXXXXX\n",
      "2022-09-01 22:01:19,037 - lwa_f.blocks.block:snap01 - INFO - adc - Chip 3, Lane 4:    |XXXXXXXXXXXXXXXXXXXXXXXXXXXXXXXXXXXXXXXXXXXXXXXXXXXXXXXXXXXXXXX\n",
      "2022-09-01 22:01:19,038 - lwa_f.blocks.block:snap01 - INFO - adc - Chip 3, Lane 5:    |XXXXXXXXXXXXXXXXXXXXXXXXXXXXXXXXXXXXXXXXXXXXXXXXXXXXXXXXXXXXXXX\n",
      "2022-09-01 22:01:19,039 - lwa_f.blocks.block:snap01 - INFO - adc - Chip 3, Lane 6:    |XXXXXXXXXXXXXXXXXXXXXXXXXXXXXXXXXXXXXXXXXXXXXXXXXXXXXXXXXXXXXXX\n",
      "2022-09-01 22:01:19,039 - lwa_f.blocks.block:snap01 - INFO - adc - Chip 3, Lane 7:    |XXXXXXXXXXXXXXXXXXXXXXXXXXXXXXXXXXXXXXXXXXXXXXXXXXXXXXXXXXXXXXX\n",
      "2022-09-01 22:01:19,040 - lwa_f.blocks.block:snap01 - INFO - adc - Chip 4, Lane 0:    XXXXXXXXXXXXXXXXXXXXXXXXXXXXXXX----|-----XXXXXXXXXXXXXXXXXXXXXXX\n",
      "2022-09-01 22:01:19,041 - lwa_f.blocks.block:snap01 - INFO - adc - Chip 4, Lane 1:    XXXXXXXXXXXXXXXXXXXXXXXXXXXXXXXX----|-----XXXXXXXXXXXXXXXXXXXXXX\n",
      "2022-09-01 22:01:19,041 - lwa_f.blocks.block:snap01 - INFO - adc - Chip 4, Lane 2:    XXXXXXXXXXXXXXXXXXXXXXXXXXXXXXX-----|-----XXXXXXXXXXXXXXXXXXXXXX\n",
      "2022-09-01 22:01:19,042 - lwa_f.blocks.block:snap01 - INFO - adc - Chip 4, Lane 3:    XXXXXXXXXXXXXXXXXXXXXXXXXXXXXXXXX----|-----XXXXXXXXXXXXXXXXXXXXX\n",
      "2022-09-01 22:01:19,042 - lwa_f.blocks.block:snap01 - INFO - adc - Chip 4, Lane 4:    XXXXXXXXXXXXXXXXXXXXXXXXXXXXXXXX----|-----XXXXXXXXXXXXXXXXXXXXXX\n",
      "2022-09-01 22:01:19,043 - lwa_f.blocks.block:snap01 - INFO - adc - Chip 4, Lane 5:    XXXXXXXXXXXXXXXXXXXXXXXXXXXXXXXX----|----XXXXXXXXXXXXXXXXXXXXXXX\n",
      "2022-09-01 22:01:19,044 - lwa_f.blocks.block:snap01 - INFO - adc - Chip 4, Lane 6:    XXXXXXXXXXXXXXXXXXXXXXXXXXXXXXXX----|----XXXXXXXXXXXXXXXXXXXXXXX\n",
      "2022-09-01 22:01:19,044 - lwa_f.blocks.block:snap01 - INFO - adc - Chip 4, Lane 7:    XXXXXXXXXXXXXXXXXXXXXXXXXXXXXXXX----|----XXXXXXXXXXXXXXXXXXXXXXX\n",
      "2022-09-01 22:01:19,045 - lwa_f.blocks.block:snap01 - INFO - adc - Chip 5, Lane 0:    XXXXXXXXXXXXXXXXXXXXXXXXX----|----XXXXXXXXXXXXXXXXXXXXXXXXXXXXXX\n",
      "2022-09-01 22:01:19,045 - lwa_f.blocks.block:snap01 - INFO - adc - Chip 5, Lane 1:    XXXXXXXXXXXXXXXXXXXXXXXX----|----XXXXXXXXXXXXXXXXXXXXXXXXXXXXXXX\n",
      "2022-09-01 22:01:19,046 - lwa_f.blocks.block:snap01 - INFO - adc - Chip 5, Lane 2:    XXXXXXXXXXXXXXXXXXXXXXXXX---|----XXXXXXXXXXXXXXXXXXXXXXXXXXXXXXX\n",
      "2022-09-01 22:01:19,047 - lwa_f.blocks.block:snap01 - INFO - adc - Chip 5, Lane 3:    XXXXXXXXXXXXXXXXXXXXXXXX----|----XXXXXXXXXXXXXXXXXXXXXXXXXXXXXXX\n",
      "2022-09-01 22:01:19,047 - lwa_f.blocks.block:snap01 - INFO - adc - Chip 5, Lane 4:    XXXXXXXXXXXXXXXXXXXXXXXXX----|----XXXXXXXXXXXXXXXXXXXXXXXXXXXXXX\n",
      "2022-09-01 22:01:19,048 - lwa_f.blocks.block:snap01 - INFO - adc - Chip 5, Lane 5:    XXXXXXXXXXXXXXXXXXXXXXXX----|----XXXXXXXXXXXXXXXXXXXXXXXXXXXXXXX\n",
      "2022-09-01 22:01:19,049 - lwa_f.blocks.block:snap01 - INFO - adc - Chip 5, Lane 6:    XXXXXXXXXXXXXXXXXXXXXXXXX----|----XXXXXXXXXXXXXXXXXXXXXXXXXXXXXX\n",
      "2022-09-01 22:01:19,049 - lwa_f.blocks.block:snap01 - INFO - adc - Chip 5, Lane 7:    XXXXXXXXXXXXXXXXXXXXXXXXX---|----XXXXXXXXXXXXXXXXXXXXXXXXXXXXXXX\n",
      "2022-09-01 22:01:19,050 - lwa_f.blocks.block:snap01 - INFO - adc - Chip 6, Lane 0:    XXXXXXXXXXXXXXXXXXXXXXXXXXXXXXX---|----XXXXXXXXXXXXXXXXXXXXXXXXX\n"
     ]
    },
    {
     "name": "stdout",
     "output_type": "stream",
     "text": [
      "2022-09-01 22:01:19,050 - lwa_f.blocks.block:snap01 - INFO - adc - Chip 6, Lane 1:    XXXXXXXXXXXXXXXXXXXXXXXXXXXXXX---|---XXXXXXXXXXXXXXXXXXXXXXXXXXX\n",
      "2022-09-01 22:01:19,051 - lwa_f.blocks.block:snap01 - INFO - adc - Chip 6, Lane 2:    XXXXXXXXXXXXXXXXXXXXXXXXXXXXXX---|----XXXXXXXXXXXXXXXXXXXXXXXXXX\n",
      "2022-09-01 22:01:19,052 - lwa_f.blocks.block:snap01 - INFO - adc - Chip 6, Lane 3:    XXXXXXXXXXXXXXXXXXXXXXXXXXXXXXX----|----XXXXXXXXXXXXXXXXXXXXXXXX\n",
      "2022-09-01 22:01:19,052 - lwa_f.blocks.block:snap01 - INFO - adc - Chip 6, Lane 4:    XXXXXXXXXXXXXXXXXXXXXXXXXXXXXX---|----XXXXXXXXXXXXXXXXXXXXXXXXXX\n",
      "2022-09-01 22:01:19,053 - lwa_f.blocks.block:snap01 - INFO - adc - Chip 6, Lane 5:    XXXXXXXXXXXXXXXXXXXXXXXXXXXXXX---|----XXXXXXXXXXXXXXXXXXXXXXXXXX\n",
      "2022-09-01 22:01:19,054 - lwa_f.blocks.block:snap01 - INFO - adc - Chip 6, Lane 6:    XXXXXXXXXXXXXXXXXXXXXXXXXXXXXX---|----XXXXXXXXXXXXXXXXXXXXXXXXXX\n",
      "2022-09-01 22:01:19,054 - lwa_f.blocks.block:snap01 - INFO - adc - Chip 6, Lane 7:    XXXXXXXXXXXXXXXXXXXXXXXXXXXXXX---|----XXXXXXXXXXXXXXXXXXXXXXXXXX\n",
      "2022-09-01 22:01:19,055 - lwa_f.blocks.block:snap01 - INFO - adc - Chip 7, Lane 0:    XXXXXXXXXXXXXXXXXXXXXXXXXXXXXXXXXX----|-----XXXXXXXXXXXXXXXXXXXX\n",
      "2022-09-01 22:01:19,055 - lwa_f.blocks.block:snap01 - INFO - adc - Chip 7, Lane 1:    XXXXXXXXXXXXXXXXXXXXXXXXXXXXXXXXXX----|----XXXXXXXXXXXXXXXXXXXXX\n",
      "2022-09-01 22:01:19,056 - lwa_f.blocks.block:snap01 - INFO - adc - Chip 7, Lane 2:    XXXXXXXXXXXXXXXXXXXXXXXXXXXXXXXXXX----|----XXXXXXXXXXXXXXXXXXXXX\n",
      "2022-09-01 22:01:19,057 - lwa_f.blocks.block:snap01 - INFO - adc - Chip 7, Lane 3:    XXXXXXXXXXXXXXXXXXXXXXXXXXXXXXXXXX----|----XXXXXXXXXXXXXXXXXXXXX\n",
      "2022-09-01 22:01:19,057 - lwa_f.blocks.block:snap01 - INFO - adc - Chip 7, Lane 4:    XXXXXXXXXXXXXXXXXXXXXXXXXXXXXXXXXX----|----XXXXXXXXXXXXXXXXXXXXX\n",
      "2022-09-01 22:01:19,058 - lwa_f.blocks.block:snap01 - INFO - adc - Chip 7, Lane 5:    XXXXXXXXXXXXXXXXXXXXXXXXXXXXXXXXXX----|----XXXXXXXXXXXXXXXXXXXXX\n",
      "2022-09-01 22:01:19,058 - lwa_f.blocks.block:snap01 - INFO - adc - Chip 7, Lane 6:    XXXXXXXXXXXXXXXXXXXXXXXXXXXXXXXXXX----|----XXXXXXXXXXXXXXXXXXXXX\n",
      "2022-09-01 22:01:19,059 - lwa_f.blocks.block:snap01 - INFO - adc - Chip 7, Lane 7:    XXXXXXXXXXXXXXXXXXXXXXXXXXXXXXXXXX---|----XXXXXXXXXXXXXXXXXXXXXX\n",
      "2022-09-01 22:01:20,383 - lwa_f.blocks.block:snap01 - ERROR - adc - FMC 1: Data calibration Failure!\n",
      "2022-09-01 22:01:22,416 - lwa_f.snap2_fengine:snap01 - INFO - Initializing block (writable): sync\n",
      "2022-09-01 22:01:22,432 - lwa_f.snap2_fengine:snap01 - INFO - Initializing block (writable): noise\n",
      "2022-09-01 22:01:22,439 - lwa_f.snap2_fengine:snap01 - INFO - Initializing block (writable): input\n",
      "2022-09-01 22:01:22,640 - lwa_f.snap2_fengine:snap01 - INFO - Initializing block (writable): delay\n",
      "2022-09-01 22:01:23,188 - lwa_f.snap2_fengine:snap01 - INFO - Initializing block (writable): pfb\n",
      "2022-09-01 22:01:23,203 - lwa_f.snap2_fengine:snap01 - INFO - Initializing block (writable): eq\n",
      "2022-09-01 22:01:23,574 - lwa_f.snap2_fengine:snap01 - INFO - Initializing block (writable): eqtvg\n",
      "2022-09-01 22:01:24,549 - lwa_f.snap2_fengine:snap01 - INFO - Initializing block (writable): reorder\n",
      "2022-09-01 22:01:24,566 - lwa_f.snap2_fengine:snap01 - INFO - Initializing block (writable): packetizer\n",
      "2022-09-01 22:01:24,566 - lwa_f.snap2_fengine:snap01 - INFO - Initializing block (writable): eth\n",
      "2022-09-01 22:01:24,578 - lwa_f.snap2_fengine:snap01 - INFO - Initializing block (writable): autocorr\n",
      "2022-09-01 22:01:24,581 - lwa_f.snap2_fengine:snap01 - INFO - Initializing block (writable): corr\n",
      "2022-09-01 22:01:24,584 - lwa_f.snap2_fengine:snap01 - INFO - Initializing block (writable): powermon\n",
      "2022-09-01 22:01:24,813 - lwa_f.snap2_fengine:snap01 - INFO - Performing software global reset\n"
     ]
    }
   ],
   "source": [
    "casperbrd.listdev()\n",
    "brd.initialize(read_only=False)\n",
    "brd.sync.arm_sync()\n",
    "brd.sync.sw_sync()"
   ]
  },
  {
   "cell_type": "code",
   "execution_count": 5,
   "metadata": {},
   "outputs": [
    {
     "name": "stdout",
     "output_type": "stream",
     "text": [
      "Data source set to counter\n"
     ]
    }
   ],
   "source": [
    "setup_data_source(casperbrd,\"counter\")"
   ]
  },
  {
   "cell_type": "markdown",
   "metadata": {},
   "source": [
    "The data source is set to a counter. \n",
    "## First test\n",
    "The threshold is set to 511, all antennas have both roles, the antenna number thresholds and the window thresholds are zero.  As expected, all antennas reach the threshold once per 1024 clock cycles, and so there is a trigger and a veto once every 1024 clock cycles, or 262144 times in every time interval between updating the counter register."
   ]
  },
  {
   "cell_type": "code",
   "execution_count": 6,
   "metadata": {},
   "outputs": [
    {
     "name": "stdout",
     "output_type": "stream",
     "text": [
      "Core coincidence:  262144\n",
      "Veto coincidence:  262144\n",
      "262144.0 262144.0\n",
      "262144.0 262144.0\n",
      "262144.0 262144.0\n",
      "268435456\n",
      "262144.0\n"
     ]
    }
   ],
   "source": [
    "#define parameters\n",
    "trigger_power_thresh=511**2\n",
    "veto_power_thresh=511**2\n",
    "trigger_window=100\n",
    "veto_window=200\n",
    "antenna_number_thresh=0\n",
    "veto_number_thresh=0\n",
    "\n",
    "#see notebook subarray_threshold_scans for a function to extract the delays from a text file of delays and antenna names\n",
    "delays=10*np.ones(64,dtype=int)\n",
    "core_roles_array=np.ones(64,dtype=int)\n",
    "veto_roles_array=np.ones(64,dtype=int)\n",
    "\n",
    "setup_coincidencer(trigger_power_thresh,\n",
    "                      veto_power_thresh,\n",
    "                      trigger_window,\n",
    "                      veto_window,\n",
    "                      antenna_number_thresh,\n",
    "                      veto_number_thresh,\n",
    "                      delays,\n",
    "                      core_roles_array,\n",
    "                      veto_roles_array)\n",
    "\n",
    "\n",
    "time.sleep(2.75)  #have to wait for it to update\n",
    "veto_coincidence,core_coincidence=struct.unpack('>2l',casperbrd.read(\"cosmic_ray_core_and_veto_rate\",2*4,0))\n",
    "core,veto = read_threshold_rates(casperbrd) #read each block\n",
    "\n",
    "print(\"Core coincidence: \", core_coincidence)\n",
    "print(\"Veto coincidence: \", veto_coincidence)\n",
    "print(core[0],veto[1])\n",
    "print(min(core),max(core))\n",
    "print(min(veto),max(veto))\n",
    "clockcycles_counted_for=(2**28)  #number of clock cycles that the trigger and veto rate counters counts for before updating\n",
    "number_of_10bit_counter_cycles=clockcycles_counted_for/1024 #number of times the 10 bit counter starts over during the above count\n",
    "print(clockcycles_counted_for)\n",
    "print(number_of_10bit_counter_cycles)"
   ]
  },
  {
   "cell_type": "code",
   "execution_count": 7,
   "metadata": {},
   "outputs": [
    {
     "name": "stdout",
     "output_type": "stream",
     "text": [
      "Core coincidence per 10b cycle:  1.0\n",
      "Veto coincidence per 10b cycle:  1.0\n",
      "Triggers per 10b cycle (roughly) 0.0\n"
     ]
    }
   ],
   "source": [
    "#repeat above, in order to test out the test function\n",
    "trigger_power_thresh=511**2\n",
    "veto_power_thresh=511**2\n",
    "trigger_window=100\n",
    "veto_window=200\n",
    "antenna_number_thresh=0\n",
    "veto_number_thresh=0\n",
    "\n",
    "\n",
    "test_coincidencer(casperbrd,trigger_power_thresh,veto_power_thresh,trigger_window,veto_window,antenna_number_thresh,veto_number_thresh,delays,core_roles_array,veto_roles_array)"
   ]
  },
  {
   "cell_type": "markdown",
   "metadata": {},
   "source": [
    "# Main Tests\n",
    "\n",
    "Trigger and veto power thresholds remain 511, and the core and veto number thresholds remain 2 (at least three antennas required).  The core antennas are signals 0, 1, and 2, and the veto antennas are signals 3, 4, 5.  The next sections go through five scenarios with variants.\n",
    "\n",
    "\n",
    "\n",
    "\n"
   ]
  },
  {
   "cell_type": "code",
   "execution_count": 8,
   "metadata": {},
   "outputs": [],
   "source": [
    "trigger_power_thresh=511**2\n",
    "veto_power_thresh=511**2\n",
    "core_roles_array=np.zeros(64,dtype=int)\n",
    "core_roles_array[0:3]=1\n",
    "veto_roles_array=np.zeros(64,dtype=int)\n",
    "veto_roles_array[3:6]=1\n",
    "antenna_number_thresh=2\n",
    "veto_number_thresh=2"
   ]
  },
  {
   "cell_type": "markdown",
   "metadata": {},
   "source": [
    "## 1. Veto after Core"
   ]
  },
  {
   "cell_type": "markdown",
   "metadata": {},
   "source": [
    "### a) Veto long after"
   ]
  },
  {
   "cell_type": "code",
   "execution_count": 9,
   "metadata": {},
   "outputs": [
    {
     "name": "stdout",
     "output_type": "stream",
     "text": [
      "1) Expect Trigger is vetoed\n",
      "trigger window:  11 veto window:  511\n",
      "Core coincidence per 10b cycle:  1.0\n",
      "Veto coincidence per 10b cycle:  0.0\n",
      "Triggers per 10b cycle (roughly) 0.0\n",
      "\n",
      "trigger window:  50 veto window:  450\n",
      "Core coincidence per 10b cycle:  1.0\n",
      "Veto coincidence per 10b cycle:  0.0\n",
      "Triggers per 10b cycle (roughly) 0.0\n",
      "\n",
      "trigger window:  100 veto window:  400\n",
      "Core coincidence per 10b cycle:  1.0\n",
      "Veto coincidence per 10b cycle:  0.0\n",
      "Triggers per 10b cycle (roughly) 0.0\n",
      "\n",
      "trigger window:  200 veto window:  300\n",
      "Core coincidence per 10b cycle:  1.0\n",
      "Veto coincidence per 10b cycle:  1.0\n",
      "Triggers per 10b cycle (roughly) 0.0\n",
      "\n",
      "trigger window:  300 veto window:  200\n",
      "Core coincidence per 10b cycle:  1.0\n",
      "Veto coincidence per 10b cycle:  1.0\n",
      "Triggers per 10b cycle (roughly) 0.0\n",
      "\n",
      "trigger window:  400 veto window:  100\n",
      "Core coincidence per 10b cycle:  1.0\n",
      "Veto coincidence per 10b cycle:  1.0\n",
      "Triggers per 10b cycle (roughly) 0.0\n",
      "\n",
      "trigger window:  500 veto window:  62\n",
      "Core coincidence per 10b cycle:  1.0\n",
      "Veto coincidence per 10b cycle:  1.0\n",
      "Triggers per 10b cycle (roughly) 0.0\n",
      "\n",
      "\n",
      "2) Expect Veto misses trigger\n",
      "trigger window:  11 veto window:  62\n",
      "Core coincidence per 10b cycle:  1.0\n",
      "Veto coincidence per 10b cycle:  1.0\n",
      "Triggers per 10b cycle (roughly) 0.0\n",
      "\n",
      "trigger window:  20 veto window:  100\n",
      "Core coincidence per 10b cycle:  1.0\n",
      "Veto coincidence per 10b cycle:  1.0\n",
      "Triggers per 10b cycle (roughly) 0.0\n",
      "\n",
      "trigger window:  100 veto window:  300\n",
      "Core coincidence per 10b cycle:  1.0\n",
      "Veto coincidence per 10b cycle:  1.0\n",
      "Triggers per 10b cycle (roughly) 0.0\n",
      "\n",
      "trigger window:  11 veto window:  350\n",
      "Core coincidence per 10b cycle:  1.0\n",
      "Veto coincidence per 10b cycle:  0.0\n",
      "Triggers per 10b cycle (roughly) 0.0\n",
      "\n",
      "\n",
      "3) Expect No trigger or veto\n",
      "trigger window:  10 veto window:  61\n",
      "Core coincidence per 10b cycle:  1.0\n",
      "Veto coincidence per 10b cycle:  1.0\n",
      "Triggers per 10b cycle (roughly) 0.0\n",
      "\n",
      "trigger window:  9 veto window:  60\n",
      "Core coincidence per 10b cycle:  1.0\n",
      "Veto coincidence per 10b cycle:  1.0\n",
      "Triggers per 10b cycle (roughly) 0.0\n",
      "\n",
      "trigger window:  2 veto window:  49\n",
      "Core coincidence per 10b cycle:  1.0\n",
      "Veto coincidence per 10b cycle:  1.0\n",
      "Triggers per 10b cycle (roughly) 0.0\n",
      "\n",
      "\n"
     ]
    }
   ],
   "source": [
    "delays=np.ones(64,dtype=int)\n",
    "delays[0:6]=[1,5,10,450,500,511] #core antennas are first three, veto antennas are second three\n",
    "\n",
    "\n",
    "print(\"1) Expect Trigger is vetoed\")\n",
    "trigger_windows=[11,50,100,200,300,400,500]\n",
    "veto_windows=[511,450,400,300,200,100,62]\n",
    "for i in range(len(trigger_windows)):\n",
    "    trigger_window=trigger_windows[i]\n",
    "    veto_window=veto_window=veto_windows[i]\n",
    "    print(\"trigger window: \", trigger_window, \"veto window: \", veto_window)\n",
    "    test_coincidencer(casperbrd,trigger_power_thresh,veto_power_thresh,trigger_window,veto_window,antenna_number_thresh,veto_number_thresh,delays,core_roles_array,veto_roles_array)\n",
    "    print('')\n",
    "print('')\n",
    "\n",
    "\n",
    "print(\"2) Expect Veto misses trigger\")\n",
    "trigger_windows=[11,20,100,11]\n",
    "veto_windows=[62,100,300,350]\n",
    "for i in range(len(trigger_windows)):\n",
    "    trigger_window=trigger_windows[i]\n",
    "    veto_window=veto_window=veto_windows[i]\n",
    "    print(\"trigger window: \", trigger_window, \"veto window: \", veto_window)\n",
    "    test_coincidencer(casperbrd,trigger_power_thresh,veto_power_thresh,trigger_window,veto_window,antenna_number_thresh,veto_number_thresh,delays,core_roles_array,veto_roles_array)\n",
    "    print('')\n",
    "print('')\n",
    "\n",
    "print(\"3) Expect No trigger or veto\")\n",
    "trigger_windows=[10,9,2]\n",
    "veto_windows=[61,60,49]\n",
    "for i in range(len(trigger_windows)):\n",
    "    trigger_window=trigger_windows[i]\n",
    "    veto_window=veto_window=veto_windows[i]\n",
    "    print(\"trigger window: \", trigger_window, \"veto window: \", veto_window)\n",
    "    test_coincidencer(casperbrd,trigger_power_thresh,veto_power_thresh,trigger_window,veto_window,antenna_number_thresh,veto_number_thresh,delays,core_roles_array,veto_roles_array)\n",
    "    print('')\n",
    "print('')\n"
   ]
  },
  {
   "cell_type": "markdown",
   "metadata": {},
   "source": [
    "### Summarize problems\n",
    "There is never a trigger that makes it to the trigger counter, even when no veto is detected.  In the scenarios where a veto should cancel a core trigger, the veto coincidence does not occur for the largest windows tested: 400, 450, 511.  For scenarios where the veto should miss the trigger, the veto similarly does not occur for the largest window value, 350.  For scenarios where no trigger or veto coincidence is expected, there is always a trigger and a veto.\n",
    "\n",
    "### Troubleshooting\n",
    "What is window length where the veto stops working?  Tests below show that this is 343. Next, I make a new section (at the end of the notebook) running the same tests as I simulated in Simulink."
   ]
  },
  {
   "cell_type": "code",
   "execution_count": 10,
   "metadata": {},
   "outputs": [
    {
     "name": "stdout",
     "output_type": "stream",
     "text": [
      "trigger window:  300 veto window:  300\n",
      "Core coincidence per 10b cycle:  1.0\n",
      "Veto coincidence per 10b cycle:  1.0\n",
      "Triggers per 10b cycle (roughly) 0.0\n",
      "\n",
      "trigger window:  310 veto window:  310\n",
      "Core coincidence per 10b cycle:  1.0\n",
      "Veto coincidence per 10b cycle:  1.0\n",
      "Triggers per 10b cycle (roughly) 0.0\n",
      "\n",
      "trigger window:  330 veto window:  330\n",
      "Core coincidence per 10b cycle:  1.0\n",
      "Veto coincidence per 10b cycle:  1.0\n",
      "Triggers per 10b cycle (roughly) 0.0\n",
      "\n",
      "trigger window:  340 veto window:  340\n",
      "Core coincidence per 10b cycle:  1.0\n",
      "Veto coincidence per 10b cycle:  1.0\n",
      "Triggers per 10b cycle (roughly) 0.0\n",
      "\n",
      "trigger window:  350 veto window:  350\n",
      "Core coincidence per 10b cycle:  1.0\n",
      "Veto coincidence per 10b cycle:  0.0\n",
      "Triggers per 10b cycle (roughly) 0.0\n",
      "\n",
      "\n"
     ]
    }
   ],
   "source": [
    "trigger_windows=[300,310,330,340,350]\n",
    "veto_windows=[300,310,330,340,350]\n",
    "for i in range(len(trigger_windows)):\n",
    "    trigger_window=trigger_windows[i]\n",
    "    veto_window=veto_window=veto_windows[i]\n",
    "    print(\"trigger window: \", trigger_window, \"veto window: \", veto_window)\n",
    "    test_coincidencer(casperbrd,trigger_power_thresh,veto_power_thresh,trigger_window,veto_window,antenna_number_thresh,veto_number_thresh,delays,core_roles_array,veto_roles_array)\n",
    "    print('')\n",
    "print('')"
   ]
  },
  {
   "cell_type": "code",
   "execution_count": 11,
   "metadata": {},
   "outputs": [
    {
     "name": "stdout",
     "output_type": "stream",
     "text": [
      "trigger window:  340 veto window:  340\n",
      "Core coincidence per 10b cycle:  1.0\n",
      "Veto coincidence per 10b cycle:  1.0\n",
      "Triggers per 10b cycle (roughly) 0.0\n",
      "\n",
      "trigger window:  341 veto window:  341\n",
      "Core coincidence per 10b cycle:  1.0\n",
      "Veto coincidence per 10b cycle:  1.0\n",
      "Triggers per 10b cycle (roughly) 0.0\n",
      "\n",
      "trigger window:  342 veto window:  342\n",
      "Core coincidence per 10b cycle:  1.0\n",
      "Veto coincidence per 10b cycle:  0.0\n",
      "Triggers per 10b cycle (roughly) 0.0\n",
      "\n",
      "trigger window:  343 veto window:  343\n",
      "Core coincidence per 10b cycle:  1.0\n",
      "Veto coincidence per 10b cycle:  0.0\n",
      "Triggers per 10b cycle (roughly) 0.0\n",
      "\n",
      "trigger window:  345 veto window:  345\n",
      "Core coincidence per 10b cycle:  1.0\n",
      "Veto coincidence per 10b cycle:  0.0\n",
      "Triggers per 10b cycle (roughly) 0.0\n",
      "\n",
      "trigger window:  347 veto window:  347\n",
      "Core coincidence per 10b cycle:  1.0\n",
      "Veto coincidence per 10b cycle:  0.0\n",
      "Triggers per 10b cycle (roughly) 0.0\n",
      "\n",
      "trigger window:  350 veto window:  350\n",
      "Core coincidence per 10b cycle:  1.0\n",
      "Veto coincidence per 10b cycle:  0.0\n",
      "Triggers per 10b cycle (roughly) 0.0\n",
      "\n",
      "\n"
     ]
    }
   ],
   "source": [
    "trigger_windows=[340,341,342,343,345,347,350]\n",
    "veto_windows=[340,341,342,343,345,347,350]\n",
    "for i in range(len(trigger_windows)):\n",
    "    trigger_window=trigger_windows[i]\n",
    "    veto_window=veto_window=veto_windows[i]\n",
    "    print(\"trigger window: \", trigger_window, \"veto window: \", veto_window)\n",
    "    test_coincidencer(casperbrd,trigger_power_thresh,veto_power_thresh,trigger_window,veto_window,antenna_number_thresh,veto_number_thresh,delays,core_roles_array,veto_roles_array)\n",
    "    print('')\n",
    "print('')"
   ]
  },
  {
   "cell_type": "markdown",
   "metadata": {},
   "source": [
    "### b) Veto Soon after"
   ]
  },
  {
   "cell_type": "markdown",
   "metadata": {},
   "source": [
    "### c) Veto widely arranged"
   ]
  },
  {
   "cell_type": "markdown",
   "metadata": {},
   "source": [
    "## 2. Veto before core"
   ]
  },
  {
   "cell_type": "markdown",
   "metadata": {},
   "source": [
    "### a) Veto long before\n"
   ]
  },
  {
   "cell_type": "markdown",
   "metadata": {},
   "source": [
    "### b) Veto soon before"
   ]
  },
  {
   "cell_type": "markdown",
   "metadata": {},
   "source": [
    "### c) Veto widely arranged"
   ]
  },
  {
   "cell_type": "markdown",
   "metadata": {},
   "source": [
    "## 3. Veto antennas on either side of core"
   ]
  },
  {
   "cell_type": "markdown",
   "metadata": {},
   "source": [
    "## 4. Veto antennas on either side and among core"
   ]
  },
  {
   "cell_type": "markdown",
   "metadata": {},
   "source": [
    "## 5. Veto antennas among core"
   ]
  },
  {
   "cell_type": "markdown",
   "metadata": {},
   "source": [
    "## Match the Simulink tests\n",
    "Repeating all the tests in the August 23 Evernote note, but with the real system instead of Simulink.\n",
    "\n",
    "A couple modifications to make an analogous test work with the 10 bit counter as signal:\n",
    "\n",
    "--Voltage thresholds are always 511.\n",
    "--Delays are 100,110,115,117,120 instead of 1000,1010,1015,1017,1020\n",
    "\n"
   ]
  },
  {
   "cell_type": "code",
   "execution_count": 12,
   "metadata": {},
   "outputs": [],
   "source": [
    "delays=np.ones(64,dtype=int)\n",
    "delays[0:5]=[100,110,115,117,120] #core antennas are first three, veto antennas are second three\n",
    "trigger_power_thresh=511**2\n",
    "veto_power_thresh=511**2"
   ]
  },
  {
   "cell_type": "markdown",
   "metadata": {},
   "source": [
    "### Test A"
   ]
  },
  {
   "cell_type": "code",
   "execution_count": 13,
   "metadata": {},
   "outputs": [
    {
     "name": "stdout",
     "output_type": "stream",
     "text": [
      "Core coincidence per 10b cycle:  1.0\n",
      "Veto coincidence per 10b cycle:  1.0\n",
      "Triggers per 10b cycle (roughly) 0.0\n"
     ]
    }
   ],
   "source": [
    "\n",
    "core_roles_array=np.zeros(64,dtype=int)\n",
    "core_roles_array[0:2]=1\n",
    "veto_roles_array=np.zeros(64,dtype=int)\n",
    "veto_roles_array[2:5]=1\n",
    "antenna_number_thresh=0\n",
    "veto_number_thresh=0\n",
    "trigger_window=20\n",
    "veto_window=7\n",
    "test_coincidencer(casperbrd,trigger_power_thresh,veto_power_thresh,trigger_window,veto_window,antenna_number_thresh,veto_number_thresh,delays,core_roles_array,veto_roles_array)\n"
   ]
  },
  {
   "cell_type": "markdown",
   "metadata": {},
   "source": [
    "Result:  There was a core and veto coincidence, matching the simulation, however there is no final trigger."
   ]
  },
  {
   "cell_type": "markdown",
   "metadata": {},
   "source": [
    "### Test B"
   ]
  },
  {
   "cell_type": "code",
   "execution_count": 14,
   "metadata": {},
   "outputs": [
    {
     "name": "stdout",
     "output_type": "stream",
     "text": [
      "Core coincidence per 10b cycle:  1.0\n",
      "Veto coincidence per 10b cycle:  1.0\n",
      "Triggers per 10b cycle (roughly) 0.0\n"
     ]
    }
   ],
   "source": [
    "core_roles_array=np.zeros(64,dtype=int)\n",
    "core_roles_array[0:2]=1\n",
    "veto_roles_array=np.zeros(64,dtype=int)\n",
    "veto_roles_array[2:5]=1\n",
    "antenna_number_thresh=0\n",
    "veto_number_thresh=0\n",
    "trigger_window=7\n",
    "veto_window=20\n",
    "test_coincidencer(casperbrd,trigger_power_thresh,veto_power_thresh,trigger_window,veto_window,antenna_number_thresh,veto_number_thresh,delays,core_roles_array,veto_roles_array)\n"
   ]
  },
  {
   "cell_type": "markdown",
   "metadata": {},
   "source": [
    "Result:  Core and Veto both had a coincidence, with no final trigger, as expected and matching simulation."
   ]
  },
  {
   "cell_type": "markdown",
   "metadata": {},
   "source": [
    "### Test C"
   ]
  },
  {
   "cell_type": "code",
   "execution_count": 15,
   "metadata": {},
   "outputs": [
    {
     "name": "stdout",
     "output_type": "stream",
     "text": [
      "Core coincidence per 10b cycle:  1.0\n",
      "Veto coincidence per 10b cycle:  1.0\n",
      "Triggers per 10b cycle (roughly) 0.0\n"
     ]
    }
   ],
   "source": [
    "core_roles_array=np.zeros(64,dtype=int)\n",
    "core_roles_array[0:2]=1\n",
    "veto_roles_array=np.zeros(64,dtype=int)\n",
    "veto_roles_array[2:5]=1\n",
    "antenna_number_thresh=1\n",
    "veto_number_thresh=1\n",
    "trigger_window=11\n",
    "veto_window=20\n",
    "test_coincidencer(casperbrd,trigger_power_thresh,veto_power_thresh,trigger_window,veto_window,antenna_number_thresh,veto_number_thresh,delays,core_roles_array,veto_roles_array)\n"
   ]
  },
  {
   "cell_type": "markdown",
   "metadata": {},
   "source": [
    "Result:  Core and Veto both had a coincidence, with no final trigger, as expected and matching simulation."
   ]
  },
  {
   "cell_type": "markdown",
   "metadata": {},
   "source": [
    "### Test D"
   ]
  },
  {
   "cell_type": "code",
   "execution_count": 16,
   "metadata": {},
   "outputs": [
    {
     "name": "stdout",
     "output_type": "stream",
     "text": [
      "Core coincidence per 10b cycle:  1.0\n",
      "Veto coincidence per 10b cycle:  1.0\n",
      "Triggers per 10b cycle (roughly) 0.0\n"
     ]
    }
   ],
   "source": [
    "core_roles_array=np.zeros(64,dtype=int)\n",
    "core_roles_array[0:2]=1\n",
    "veto_roles_array=np.zeros(64,dtype=int)\n",
    "veto_roles_array[2:5]=1\n",
    "antenna_number_thresh=1\n",
    "veto_number_thresh=1\n",
    "trigger_window=11\n",
    "veto_window=12\n",
    "test_coincidencer(casperbrd,trigger_power_thresh,veto_power_thresh,trigger_window,veto_window,antenna_number_thresh,veto_number_thresh,delays,core_roles_array,veto_roles_array)\n"
   ]
  },
  {
   "cell_type": "markdown",
   "metadata": {},
   "source": [
    "Result:  Core and Veto both had a coincidence, with no final trigger, as expected and matching simulation."
   ]
  },
  {
   "cell_type": "markdown",
   "metadata": {},
   "source": [
    "### Test E"
   ]
  },
  {
   "cell_type": "code",
   "execution_count": 21,
   "metadata": {},
   "outputs": [
    {
     "name": "stdout",
     "output_type": "stream",
     "text": [
      "Core coincidence per 10b cycle:  1.0\n",
      "Veto coincidence per 10b cycle:  1.0\n",
      "Triggers per 10b cycle (roughly) 0.0\n"
     ]
    }
   ],
   "source": [
    "core_roles_array=np.zeros(64,dtype=int)\n",
    "core_roles_array[2:5]=1\n",
    "veto_roles_array=np.zeros(64,dtype=int)\n",
    "veto_roles_array[0:2]=1\n",
    "antenna_number_thresh=1\n",
    "veto_number_thresh=1\n",
    "trigger_window=11\n",
    "veto_window=12\n",
    "test_coincidencer(casperbrd,trigger_power_thresh,veto_power_thresh,trigger_window,veto_window,antenna_number_thresh,veto_number_thresh,delays,core_roles_array,veto_roles_array)\n"
   ]
  },
  {
   "cell_type": "markdown",
   "metadata": {},
   "source": [
    "Result:  Core and Veto both had a coincidence, with no final trigger, but the simulation did have a final trigger."
   ]
  },
  {
   "cell_type": "markdown",
   "metadata": {},
   "source": [
    "Next I confirm that the veto stops working beyond 341, even for parameters that are otherwise the same as E."
   ]
  },
  {
   "cell_type": "code",
   "execution_count": 22,
   "metadata": {},
   "outputs": [
    {
     "name": "stdout",
     "output_type": "stream",
     "text": [
      "Core coincidence per 10b cycle:  1.0\n",
      "Veto coincidence per 10b cycle:  0.0\n",
      "Triggers per 10b cycle (roughly) 0.0\n"
     ]
    }
   ],
   "source": [
    "core_roles_array=np.zeros(64,dtype=int)\n",
    "core_roles_array[2:5]=1\n",
    "veto_roles_array=np.zeros(64,dtype=int)\n",
    "veto_roles_array[0:2]=1\n",
    "antenna_number_thresh=1\n",
    "veto_number_thresh=1\n",
    "trigger_window=11\n",
    "veto_window=350\n",
    "test_coincidencer(casperbrd,trigger_power_thresh,veto_power_thresh,trigger_window,veto_window,antenna_number_thresh,veto_number_thresh,delays,core_roles_array,veto_roles_array)\n"
   ]
  },
  {
   "cell_type": "markdown",
   "metadata": {},
   "source": [
    "## More NOtes\n",
    "Antenna number thresholds are greater than. If 3 is set to the register, then four antennas are the minimum for a trigger."
   ]
  },
  {
   "cell_type": "code",
   "execution_count": 23,
   "metadata": {},
   "outputs": [
    {
     "data": {
      "text/plain": [
       "721246"
      ]
     },
     "execution_count": 23,
     "metadata": {},
     "output_type": "execute_result"
    }
   ],
   "source": [
    "(11<<16)+350"
   ]
  },
  {
   "cell_type": "code",
   "execution_count": null,
   "metadata": {},
   "outputs": [],
   "source": []
  }
 ],
 "metadata": {
  "kernelspec": {
   "display_name": "Python 3",
   "language": "python",
   "name": "python3"
  },
  "language_info": {
   "codemirror_mode": {
    "name": "ipython",
    "version": 3
   },
   "file_extension": ".py",
   "mimetype": "text/x-python",
   "name": "python",
   "nbconvert_exporter": "python",
   "pygments_lexer": "ipython3",
   "version": "3.6.10"
  }
 },
 "nbformat": 4,
 "nbformat_minor": 4
}
