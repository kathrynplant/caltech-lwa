{
 "cells": [
  {
   "cell_type": "code",
   "execution_count": 1,
   "metadata": {},
   "outputs": [],
   "source": [
    "import matplotlib.pyplot as plt\n",
    "import numpy as np\n",
    "import casperfpga\n",
    "import time\n",
    "from lwa_f import snap2_fengine\n",
    "from lwa_f import blocks\n",
    "from lwautils import lwa_arx \n",
    "import pandas as pd\n",
    "from cr_functions import *\n",
    "import struct\n",
    "import math\n",
    "from scipy import special as sp\n",
    "from scipy import optimize as oz\n",
    "from scipy import stats as st\n"
   ]
  },
  {
   "cell_type": "markdown",
   "metadata": {},
   "source": [
    "## Summary"
   ]
  },
  {
   "cell_type": "markdown",
   "metadata": {},
   "source": [
    "Vetos and core coincidences were happening in configurations where they weren't expected, and I found that the packantennaroles function had the bit order wrong within each register of 32 antennas. Antenna zero should have been the MSB but it was the LSB, etc.  I have changed the packantennaroles function and I'm saving an html of the notebook now before I re-run the tests with the new function.\n",
    "\n",
    "In this version, I also verified that I was writing delays to the correct antennas. \n",
    "\n",
    "Here are some notes for building towards an observing setup script.\n",
    "1. Set the delays with the setdelays function.\n",
    "2. Set up the trigger and veto parameters with the setup_coincidencer function.\n",
    "3. Do the ethernet setup and enabling.\n",
    "4. Enable the coincidence trigger.\n",
    "5. Remember to turn the coincidencer off before sending a pulse from software.\n",
    "\n",
    "\n",
    "TO DO:\n",
    "Verify that the change to packantennaroles fixes the problems.\n",
    "\n",
    "Internally-triggered ethernet readout is not yet tested. "
   ]
  },
  {
   "cell_type": "code",
   "execution_count": 2,
   "metadata": {},
   "outputs": [],
   "source": [
    "def test_coincidencer(casperbrd,trigger_power_thresh,\n",
    "                      veto_power_thresh,\n",
    "                      trigger_window,\n",
    "                      veto_window,\n",
    "                      antenna_number_thresh,\n",
    "                      veto_number_thresh,\n",
    "                      delays,\n",
    "                      core_roles_array,\n",
    "                      veto_roles_array):\n",
    "\n",
    "    setup_coincidencer(casperbrd,trigger_power_thresh,\n",
    "                          veto_power_thresh,\n",
    "                          trigger_window,\n",
    "                          veto_window,\n",
    "                          antenna_number_thresh,\n",
    "                          veto_number_thresh,\n",
    "                          core_roles_array,\n",
    "                          veto_roles_array)\n",
    "    set_delays(casperbrd,delays)\n",
    "\n",
    "    # reset trigger counter\n",
    "    setvalue(casperbrd,\"trig_debug_reset\",\"cr_registers.xlsx\",1)\n",
    "    time.sleep(0.003)\n",
    "    setvalue(casperbrd,\"trig_debug_reset\",\"cr_registers.xlsx\",0)\n",
    "    internal_trigger_count1=getvalue(casperbrd,\"internal_trigger_count\",\"cr_registers.xlsx\")\n",
    "\n",
    "    time.sleep(2.75)  #have to wait for it to update\n",
    "    trigger_count=getvalue(casperbrd,\"count_triggers\",\"cr_registers.xlsx\")\n",
    "    internal_trigger_count2=getvalue(casperbrd,\"internal_trigger_count\",\"cr_registers.xlsx\")\n",
    "    triggers_leaving_block=(internal_trigger_count2-internal_trigger_count1)\n",
    "    veto_coincidence,core_coincidence=struct.unpack('>2l',casperbrd.read(\"cosmic_ray_core_and_veto_rate\",2*4,0))\n",
    "    #internal_triggers=struct.unpack('>2l',casperbrd.read(\"cosmic_ray_internal_trigger_rate\",2*4,0)) #does not work.\n",
    "    print(\"Core coincidence per 10b cycle: \", core_coincidence/262144.)\n",
    "    print(\"Veto coincidence per 10b cycle: \", veto_coincidence/262144.)\n",
    "    print(\"Triggers at state control \",trigger_count)\n",
    "    #print(\"Triggers leaving coincidence_trigger block per cycle\", internal_triggers) #bram counter doesn't work\n",
    "    print(\"Triggers leaving block\", triggers_leaving_block)\n",
    "\n",
    "    return"
   ]
  },
  {
   "cell_type": "code",
   "execution_count": null,
   "metadata": {},
   "outputs": [],
   "source": []
  },
  {
   "cell_type": "code",
   "execution_count": 3,
   "metadata": {},
   "outputs": [
    {
     "name": "stdout",
     "output_type": "stream",
     "text": [
      "2022-09-13 20:27:25,543 - lwa_f.blocks.block:snap02 - INFO - adc - Detected FMC ADC board on port 0\n",
      "2022-09-13 20:27:26,063 - lwa_f.blocks.block:snap02 - INFO - adc - Detected FMC ADC board on port 1\n"
     ]
    }
   ],
   "source": [
    "fpgfile='/home/ubuntu/kp/caltech-lwa/snap2_f_200msps_64i_4096c/outputs/snap2_f_200msps_64i_4096c_2022-09-02_1527.fpg'\n",
    "brdname='snap02'\n",
    "brd=snap2_fengine.Snap2Fengine(brdname)\n",
    "casperbrd = casperfpga.CasperFpga(brdname, transport=casperfpga.TapcpTransport)"
   ]
  },
  {
   "cell_type": "code",
   "execution_count": 10,
   "metadata": {},
   "outputs": [
    {
     "data": {
      "text/plain": [
       "['aaa_onegbe_one_GbE',\n",
       " 'adc_sync',\n",
       " 'ads5296_controller0_0',\n",
       " 'ads5296_controller0_1',\n",
       " 'ads5296_controller1_0',\n",
       " 'ads5296_controller1_1',\n",
       " 'ads5296_hardware_rst0',\n",
       " 'ads5296_hardware_rst1',\n",
       " 'ads5296_spi_controller0',\n",
       " 'ads5296_spi_controller1',\n",
       " 'ads5296_wb_ram0_0_0',\n",
       " 'ads5296_wb_ram0_0_1',\n",
       " 'ads5296_wb_ram0_0_2',\n",
       " 'ads5296_wb_ram0_0_3',\n",
       " 'ads5296_wb_ram0_1_0',\n",
       " 'ads5296_wb_ram0_1_1',\n",
       " 'ads5296_wb_ram0_1_2',\n",
       " 'ads5296_wb_ram0_1_3',\n",
       " 'ads5296_wb_ram1_0_0',\n",
       " 'ads5296_wb_ram1_0_1',\n",
       " 'ads5296_wb_ram1_0_2',\n",
       " 'ads5296_wb_ram1_0_3',\n",
       " 'ads5296_wb_ram1_1_0',\n",
       " 'ads5296_wb_ram1_1_1',\n",
       " 'ads5296_wb_ram1_1_2',\n",
       " 'ads5296_wb_ram1_1_3',\n",
       " 'autocorr_acc_cnt',\n",
       " 'autocorr_acc_len',\n",
       " 'autocorr_common_dout0_bram',\n",
       " 'autocorr_common_dout1_bram',\n",
       " 'autocorr_common_dout2_bram',\n",
       " 'autocorr_common_dout3_bram',\n",
       " 'autocorr_common_dout4_bram',\n",
       " 'autocorr_common_dout5_bram',\n",
       " 'autocorr_common_dout6_bram',\n",
       " 'autocorr_common_dout7_bram',\n",
       " 'autocorr_mux_sel',\n",
       " 'autocorr_trig',\n",
       " 'chan_reorder_dynamic_map1',\n",
       " 'corr_0_acc_cnt',\n",
       " 'corr_0_acc_len',\n",
       " 'corr_0_dout',\n",
       " 'corr_0_input_sel',\n",
       " 'cosmic_ray_core_and_veto_rate',\n",
       " 'cosmic_ray_cr_dest_ip',\n",
       " 'cosmic_ray_cr_forty_gbe',\n",
       " 'cosmic_ray_cr_forty_gbe_txctr',\n",
       " 'cosmic_ray_cr_forty_gbe_txfullctr',\n",
       " 'cosmic_ray_cr_forty_gbe_txofctr',\n",
       " 'cosmic_ray_cr_forty_gbe_txs0_ss_bram',\n",
       " 'cosmic_ray_cr_forty_gbe_txs0_ss_ctrl',\n",
       " 'cosmic_ray_cr_forty_gbe_txs0_ss_status',\n",
       " 'cosmic_ray_cr_forty_gbe_txs1_ss_bram',\n",
       " 'cosmic_ray_cr_forty_gbe_txs1_ss_ctrl',\n",
       " 'cosmic_ray_cr_forty_gbe_txs1_ss_status',\n",
       " 'cosmic_ray_cr_forty_gbe_txs2_ss_bram',\n",
       " 'cosmic_ray_cr_forty_gbe_txs2_ss_ctrl',\n",
       " 'cosmic_ray_cr_forty_gbe_txs2_ss_status',\n",
       " 'cosmic_ray_cr_forty_gbe_txvldctr',\n",
       " 'cosmic_ray_cr_trigger_power_thresh',\n",
       " 'cosmic_ray_cr_veto_power_thresh',\n",
       " 'cosmic_ray_eth_control',\n",
       " 'cosmic_ray_forty_g_tx_afull',\n",
       " 'cosmic_ray_forty_g_tx_of',\n",
       " 'cosmic_ray_forty_g_up',\n",
       " 'cosmic_ray_quora',\n",
       " 'cosmic_ray_readout_state_timer1',\n",
       " 'cosmic_ray_readout_state_value',\n",
       " 'cosmic_ray_snapshot_counter',\n",
       " 'cosmic_ray_thresh_rate1',\n",
       " 'cosmic_ray_thresh_rate2',\n",
       " 'cosmic_ray_trig_debug_timer',\n",
       " 'cosmic_ray_trig_debug_trig_rec_count',\n",
       " 'cosmic_ray_trigger_antennas1',\n",
       " 'cosmic_ray_trigger_antennas2',\n",
       " 'cosmic_ray_triggercontrol',\n",
       " 'cosmic_ray_tx_count_eof_and_valid',\n",
       " 'cosmic_ray_tx_eof_counter',\n",
       " 'cosmic_ray_version_version',\n",
       " 'cosmic_ray_veto_antennas1',\n",
       " 'cosmic_ray_veto_antennas2',\n",
       " 'cosmic_ray_veto_thresh_rate1',\n",
       " 'cosmic_ray_veto_thresh_rate2',\n",
       " 'cosmic_ray_wait_between_packets',\n",
       " 'cosmic_ray_windows',\n",
       " 'delay_delay0',\n",
       " 'delay_delay1',\n",
       " 'delay_delay_en0',\n",
       " 'delay_delay_en1',\n",
       " 'delay_delay_store0_readout',\n",
       " 'delay_delay_store0_sel',\n",
       " 'delay_delay_store1_readout',\n",
       " 'delay_delay_store1_sel',\n",
       " 'delay_max_delay',\n",
       " 'eq_core0_clip_cnt',\n",
       " 'eq_core0_coeffs',\n",
       " 'eq_core1_clip_cnt',\n",
       " 'eq_core1_coeffs',\n",
       " 'eq_core2_clip_cnt',\n",
       " 'eq_core2_coeffs',\n",
       " 'eq_core3_clip_cnt',\n",
       " 'eq_core3_coeffs',\n",
       " 'eth_ctrl',\n",
       " 'eth_forty_gbe',\n",
       " 'eth_forty_gbe_txctr',\n",
       " 'eth_forty_gbe_txfullctr',\n",
       " 'eth_forty_gbe_txofctr',\n",
       " 'eth_forty_gbe_txvldctr',\n",
       " 'input_bit_stats_histogram_output',\n",
       " 'input_bit_stats_input_sel',\n",
       " 'input_rms_enable',\n",
       " 'input_rms_levels',\n",
       " 'input_source_sel0',\n",
       " 'input_source_sel1',\n",
       " 'input_source_sel2',\n",
       " 'input_source_sel3',\n",
       " 'noise_octal_mux0_sel',\n",
       " 'noise_octal_mux1_sel',\n",
       " 'noise_octal_mux2_sel',\n",
       " 'noise_octal_mux3_sel',\n",
       " 'noise_octal_mux4_sel',\n",
       " 'noise_octal_mux5_sel',\n",
       " 'noise_octal_mux6_sel',\n",
       " 'noise_octal_mux7_sel',\n",
       " 'noise_seeds0',\n",
       " 'packetizer_ants',\n",
       " 'packetizer_chans',\n",
       " 'packetizer_flags',\n",
       " 'packetizer_ips',\n",
       " 'packetizer_n_chans',\n",
       " 'packetizer_n_pols',\n",
       " 'packetizer_ports',\n",
       " 'pfb_ctrl',\n",
       " 'pfb_pfb16x_0_status',\n",
       " 'pfb_pfb16x_1_status',\n",
       " 'pfb_pfb16x_2_status',\n",
       " 'pfb_pfb16x_3_status',\n",
       " 'post_eq_tvg_core0_tv',\n",
       " 'post_eq_tvg_core1_tv',\n",
       " 'post_eq_tvg_core2_tv',\n",
       " 'post_eq_tvg_core3_tv',\n",
       " 'post_eq_tvg_tvg_en',\n",
       " 'powermon_i2c_interface',\n",
       " 'sync_adc_sync_time_lsb',\n",
       " 'sync_adc_sync_time_msb',\n",
       " 'sync_ctrl',\n",
       " 'sync_ext_period_variations',\n",
       " 'sync_ext_pps_period',\n",
       " 'sync_ext_pps_period_variations',\n",
       " 'sync_ext_sync_count',\n",
       " 'sync_ext_sync_period',\n",
       " 'sync_ext_sync_tt_lsb',\n",
       " 'sync_ext_sync_tt_msb',\n",
       " 'sync_int_sync_count',\n",
       " 'sync_int_tt_load_lsb',\n",
       " 'sync_int_tt_load_msb',\n",
       " 'sync_latency',\n",
       " 'sync_latency_variations',\n",
       " 'sync_sync_in_delay_ctrl',\n",
       " 'sync_sync_out_gpio_delay_ctrl',\n",
       " 'sync_tt_load_lsb',\n",
       " 'sync_tt_load_msb',\n",
       " 'sync_tt_lsb',\n",
       " 'sync_tt_mask',\n",
       " 'sync_tt_msb',\n",
       " 'sync_uptime_msb',\n",
       " 'sys_block',\n",
       " 'sys_board_id',\n",
       " 'sys_clkcounter',\n",
       " 'sys_rev',\n",
       " 'sys_rev_rcs',\n",
       " 'sys_scratchpad',\n",
       " 'sysmon',\n",
       " 'version_timestamp',\n",
       " 'version_version']"
      ]
     },
     "execution_count": 10,
     "metadata": {},
     "output_type": "execute_result"
    }
   ],
   "source": [
    "brdname3='snap09'\n",
    "casperbrd3=casperfpga.CasperFpga(brdname3, transport=casperfpga.TapcpTransport)\n",
    "casperbrd3.listdev()"
   ]
  },
  {
   "cell_type": "code",
   "execution_count": 4,
   "metadata": {},
   "outputs": [
    {
     "name": "stdout",
     "output_type": "stream",
     "text": [
      "2022-09-13 20:27:29,388 - lwa_f.snap2_fengine:snap02 - INFO - Loading firmware /home/ubuntu/kp/caltech-lwa/snap2_f_200msps_64i_4096c/outputs/snap2_f_200msps_64i_4096c_2022-09-02_1527.fpg to snap02\n"
     ]
    },
    {
     "name": "stderr",
     "output_type": "stream",
     "text": [
      "100% (588 of 588) |######################| Elapsed Time: 0:04:53 Time:  0:04:53\n"
     ]
    },
    {
     "name": "stdout",
     "output_type": "stream",
     "text": [
      "2022-09-13 20:32:46,099 - lwa_f.blocks.block:snap02 - INFO - adc - Detected FMC ADC board on port 0\n",
      "2022-09-13 20:32:46,309 - lwa_f.blocks.block:snap02 - INFO - adc - Detected FMC ADC board on port 1\n"
     ]
    }
   ],
   "source": [
    "brd.program(fpgfile)\n"
   ]
  },
  {
   "cell_type": "code",
   "execution_count": 56,
   "metadata": {},
   "outputs": [
    {
     "name": "stdout",
     "output_type": "stream",
     "text": [
      "2022-09-12 22:29:23,301 - lwa_f.snap2_fengine:snap01 - INFO - Initializing block (writable): fpga\n",
      "2022-09-12 22:29:23,302 - lwa_f.snap2_fengine:snap01 - INFO - Initializing block (writable): adc\n",
      "2022-09-12 22:29:23,306 - lwa_f.blocks.block:snap01 - INFO - adc - FMC 0 board 0: Setting clock source to 1\n",
      "2022-09-12 22:29:23,314 - lwa_f.blocks.block:snap01 - INFO - adc - FMC 0 board 1: Setting clock source to 1\n",
      "2022-09-12 22:29:23,322 - lwa_f.blocks.block:snap01 - INFO - adc - FMC 1 board 0: Setting clock source to 1\n",
      "2022-09-12 22:29:23,329 - lwa_f.blocks.block:snap01 - INFO - adc - FMC 1 board 1: Setting clock source to 1\n",
      "2022-09-12 22:29:32,922 - lwa_f.blocks.block:snap01 - INFO - adc - FMC 0 board 0 clock rates: [490737826, 98192865, 98261759, 0, 0]\n",
      "2022-09-12 22:29:32,922 - lwa_f.blocks.block:snap01 - INFO - adc - FMC 0 board 0: MMCM locked\n",
      "2022-09-12 22:29:33,933 - lwa_f.blocks.block:snap01 - INFO - adc - FMC 0 board 1 clock rates: [490587512, 98152421, 98234058, 98282185, 0]\n",
      "2022-09-12 22:29:34,942 - lwa_f.blocks.block:snap01 - INFO - adc - FMC 1 board 0 clock rates: [8913, 892, 813, 0, 0]\n",
      "2022-09-12 22:29:34,943 - lwa_f.blocks.block:snap01 - INFO - adc - FMC 1 board 0: MMCM locked\n",
      "2022-09-12 22:29:35,953 - lwa_f.blocks.block:snap01 - INFO - adc - FMC 1 board 1 clock rates: [490793577, 98195518, 98276211, 98318155, 0]\n",
      "2022-09-12 22:29:36,968 - lwa_f.blocks.block:snap01 - INFO - adc - FMC 0 Scanning data delays\n"
     ]
    },
    {
     "name": "stderr",
     "output_type": "stream",
     "text": [
      "100% (64 of 64) |########################| Elapsed Time: 0:00:07 Time:  0:00:07\n"
     ]
    },
    {
     "name": "stdout",
     "output_type": "stream",
     "text": [
      "2022-09-12 22:29:44,101 - lwa_f.blocks.block:snap01 - INFO - adc - FMC 0 data lane delays:\n",
      "[[352, 352, 360, 344, 352, 344, 344, 344], [320, 312, 312, 304, 312, 304, 304, 304], [296, 296, 288, 288, 296, 296, 288, 304], [328, 344, 328, 320, 328, 328, 336, 328], [304, 304, 304, 312, 304, 304, 304, 304], [280, 280, 288, 280, 280, 280, 280, 280], [296, 280, 280, 288, 288, 296, 280, 280], [328, 320, 320, 320, 320, 328, 336, 320]]\n",
      "2022-09-12 22:29:44,102 - lwa_f.blocks.block:snap01 - INFO - adc - FMC 0 data lane slacks:\n",
      "[[32, 40, 40, 48, 40, 32, 40, 32], [40, 48, 48, 40, 48, 40, 40, 40], [48, 40, 40, 40, 40, 40, 40, 40], [40, 40, 40, 40, 40, 40, 40, 40], [40, 40, 40, 40, 40, 40, 40, 40], [40, 40, 40, 40, 40, 40, 48, 40], [40, 40, 40, 40, 40, 32, 40, 40], [40, 40, 40, 40, 40, 40, 40, 40]]\n",
      "2022-09-12 22:29:44,103 - lwa_f.blocks.block:snap01 - INFO - adc - Chip 0, Lane 0:    XXXXXXXXXXXXXXXXXXXXXXXXXXXXXXXXXXXXXXXXX---|----XXXXXXXXXXXXXXX\n",
      "2022-09-12 22:29:44,104 - lwa_f.blocks.block:snap01 - INFO - adc - Chip 0, Lane 1:    XXXXXXXXXXXXXXXXXXXXXXXXXXXXXXXXXXXXXXXX----|----XXXXXXXXXXXXXXX\n",
      "2022-09-12 22:29:44,104 - lwa_f.blocks.block:snap01 - INFO - adc - Chip 0, Lane 2:    XXXXXXXXXXXXXXXXXXXXXXXXXXXXXXXXXXXXXXXXX----|-----XXXXXXXXXXXXX\n",
      "2022-09-12 22:29:44,105 - lwa_f.blocks.block:snap01 - INFO - adc - Chip 0, Lane 3:    XXXXXXXXXXXXXXXXXXXXXXXXXXXXXXXXXXXXXX-----|-----XXXXXXXXXXXXXXX\n",
      "2022-09-12 22:29:44,106 - lwa_f.blocks.block:snap01 - INFO - adc - Chip 0, Lane 4:    XXXXXXXXXXXXXXXXXXXXXXXXXXXXXXXXXXXXXXXX----|----XXXXXXXXXXXXXXX\n",
      "2022-09-12 22:29:44,107 - lwa_f.blocks.block:snap01 - INFO - adc - Chip 0, Lane 5:    XXXXXXXXXXXXXXXXXXXXXXXXXXXXXXXXXXXXXXXX---|----XXXXXXXXXXXXXXXX\n",
      "2022-09-12 22:29:44,107 - lwa_f.blocks.block:snap01 - INFO - adc - Chip 0, Lane 6:    XXXXXXXXXXXXXXXXXXXXXXXXXXXXXXXXXXXXXXX----|----XXXXXXXXXXXXXXXX\n",
      "2022-09-12 22:29:44,108 - lwa_f.blocks.block:snap01 - INFO - adc - Chip 0, Lane 7:    XXXXXXXXXXXXXXXXXXXXXXXXXXXXXXXXXXXXXXXX---|----XXXXXXXXXXXXXXXX\n",
      "2022-09-12 22:29:44,109 - lwa_f.blocks.block:snap01 - INFO - adc - Chip 1, Lane 0:    XXXXXXXXXXXXXXXXXXXXXXXXXXXXXXXXXXXX----|-----XXXXXXXXXXXXXXXXXX\n",
      "2022-09-12 22:29:44,110 - lwa_f.blocks.block:snap01 - INFO - adc - Chip 1, Lane 1:    XXXXXXXXXXXXXXXXXXXXXXXXXXXXXXXXXX-----|-----XXXXXXXXXXXXXXXXXXX\n",
      "2022-09-12 22:29:44,110 - lwa_f.blocks.block:snap01 - INFO - adc - Chip 1, Lane 2:    XXXXXXXXXXXXXXXXXXXXXXXXXXXXXXXXXX-----|-----XXXXXXXXXXXXXXXXXXX\n",
      "2022-09-12 22:29:44,111 - lwa_f.blocks.block:snap01 - INFO - adc - Chip 1, Lane 3:    XXXXXXXXXXXXXXXXXXXXXXXXXXXXXXXXXX----|-----XXXXXXXXXXXXXXXXXXXX\n",
      "2022-09-12 22:29:44,112 - lwa_f.blocks.block:snap01 - INFO - adc - Chip 1, Lane 4:    XXXXXXXXXXXXXXXXXXXXXXXXXXXXXXXXXX-----|-----XXXXXXXXXXXXXXXXXXX\n",
      "2022-09-12 22:29:44,112 - lwa_f.blocks.block:snap01 - INFO - adc - Chip 1, Lane 5:    XXXXXXXXXXXXXXXXXXXXXXXXXXXXXXXXXX----|-----XXXXXXXXXXXXXXXXXXXX\n",
      "2022-09-12 22:29:44,113 - lwa_f.blocks.block:snap01 - INFO - adc - Chip 1, Lane 6:    XXXXXXXXXXXXXXXXXXXXXXXXXXXXXXXXXX----|-----XXXXXXXXXXXXXXXXXXXX\n",
      "2022-09-12 22:29:44,113 - lwa_f.blocks.block:snap01 - INFO - adc - Chip 1, Lane 7:    XXXXXXXXXXXXXXXXXXXXXXXXXXXXXXXXXX----|-----XXXXXXXXXXXXXXXXXXXX\n",
      "2022-09-12 22:29:44,114 - lwa_f.blocks.block:snap01 - INFO - adc - Chip 2, Lane 0:    XXXXXXXXXXXXXXXXXXXXXXXXXXXXXXXX-----|-----XXXXXXXXXXXXXXXXXXXXX\n",
      "2022-09-12 22:29:44,114 - lwa_f.blocks.block:snap01 - INFO - adc - Chip 2, Lane 1:    XXXXXXXXXXXXXXXXXXXXXXXXXXXXXXXXX----|----XXXXXXXXXXXXXXXXXXXXXX\n",
      "2022-09-12 22:29:44,115 - lwa_f.blocks.block:snap01 - INFO - adc - Chip 2, Lane 2:    XXXXXXXXXXXXXXXXXXXXXXXXXXXXXXXX----|-----XXXXXXXXXXXXXXXXXXXXXX\n",
      "2022-09-12 22:29:44,116 - lwa_f.blocks.block:snap01 - INFO - adc - Chip 2, Lane 3:    XXXXXXXXXXXXXXXXXXXXXXXXXXXXXXXX----|-----XXXXXXXXXXXXXXXXXXXXXX\n",
      "2022-09-12 22:29:44,116 - lwa_f.blocks.block:snap01 - INFO - adc - Chip 2, Lane 4:    XXXXXXXXXXXXXXXXXXXXXXXXXXXXXXXXX----|----XXXXXXXXXXXXXXXXXXXXXX\n",
      "2022-09-12 22:29:44,117 - lwa_f.blocks.block:snap01 - INFO - adc - Chip 2, Lane 5:    XXXXXXXXXXXXXXXXXXXXXXXXXXXXXXXXX----|----XXXXXXXXXXXXXXXXXXXXXX\n",
      "2022-09-12 22:29:44,117 - lwa_f.blocks.block:snap01 - INFO - adc - Chip 2, Lane 6:    XXXXXXXXXXXXXXXXXXXXXXXXXXXXXXXX----|-----XXXXXXXXXXXXXXXXXXXXXX\n",
      "2022-09-12 22:29:44,118 - lwa_f.blocks.block:snap01 - INFO - adc - Chip 2, Lane 7:    XXXXXXXXXXXXXXXXXXXXXXXXXXXXXXXXXX----|----XXXXXXXXXXXXXXXXXXXXX\n",
      "2022-09-12 22:29:44,119 - lwa_f.blocks.block:snap01 - INFO - adc - Chip 3, Lane 0:    XXXXXXXXXXXXXXXXXXXXXXXXXXXXXXXXXXXXX----|-----XXXXXXXXXXXXXXXXX\n",
      "2022-09-12 22:29:44,119 - lwa_f.blocks.block:snap01 - INFO - adc - Chip 3, Lane 1:    XXXXXXXXXXXXXXXXXXXXXXXXXXXXXXXXXXXXXXX----|----XXXXXXXXXXXXXXXX\n",
      "2022-09-12 22:29:44,120 - lwa_f.blocks.block:snap01 - INFO - adc - Chip 3, Lane 2:    XXXXXXXXXXXXXXXXXXXXXXXXXXXXXXXXXXXXX----|----XXXXXXXXXXXXXXXXXX\n",
      "2022-09-12 22:29:44,120 - lwa_f.blocks.block:snap01 - INFO - adc - Chip 3, Lane 3:    XXXXXXXXXXXXXXXXXXXXXXXXXXXXXXXXXXXX----|-----XXXXXXXXXXXXXXXXXX\n",
      "2022-09-12 22:29:44,121 - lwa_f.blocks.block:snap01 - INFO - adc - Chip 3, Lane 4:    XXXXXXXXXXXXXXXXXXXXXXXXXXXXXXXXXXXXX----|-----XXXXXXXXXXXXXXXXX\n",
      "2022-09-12 22:29:44,122 - lwa_f.blocks.block:snap01 - INFO - adc - Chip 3, Lane 5:    XXXXXXXXXXXXXXXXXXXXXXXXXXXXXXXXXXXXX----|----XXXXXXXXXXXXXXXXXX\n",
      "2022-09-12 22:29:44,122 - lwa_f.blocks.block:snap01 - INFO - adc - Chip 3, Lane 6:    XXXXXXXXXXXXXXXXXXXXXXXXXXXXXXXXXXXXXX----|----XXXXXXXXXXXXXXXXX\n",
      "2022-09-12 22:29:44,123 - lwa_f.blocks.block:snap01 - INFO - adc - Chip 3, Lane 7:    XXXXXXXXXXXXXXXXXXXXXXXXXXXXXXXXXXXXX----|----XXXXXXXXXXXXXXXXXX\n",
      "2022-09-12 22:29:44,123 - lwa_f.blocks.block:snap01 - INFO - adc - Chip 4, Lane 0:    XXXXXXXXXXXXXXXXXXXXXXXXXXXXXXXXXX----|-----XXXXXXXXXXXXXXXXXXXX\n",
      "2022-09-12 22:29:44,124 - lwa_f.blocks.block:snap01 - INFO - adc - Chip 4, Lane 1:    XXXXXXXXXXXXXXXXXXXXXXXXXXXXXXXXXX----|-----XXXXXXXXXXXXXXXXXXXX\n",
      "2022-09-12 22:29:44,125 - lwa_f.blocks.block:snap01 - INFO - adc - Chip 4, Lane 2:    XXXXXXXXXXXXXXXXXXXXXXXXXXXXXXXXXX----|-----XXXXXXXXXXXXXXXXXXXX\n",
      "2022-09-12 22:29:44,125 - lwa_f.blocks.block:snap01 - INFO - adc - Chip 4, Lane 3:    XXXXXXXXXXXXXXXXXXXXXXXXXXXXXXXXXXX----|-----XXXXXXXXXXXXXXXXXXX\n",
      "2022-09-12 22:29:44,126 - lwa_f.blocks.block:snap01 - INFO - adc - Chip 4, Lane 4:    XXXXXXXXXXXXXXXXXXXXXXXXXXXXXXXXXX----|-----XXXXXXXXXXXXXXXXXXXX\n",
      "2022-09-12 22:29:44,126 - lwa_f.blocks.block:snap01 - INFO - adc - Chip 4, Lane 5:    XXXXXXXXXXXXXXXXXXXXXXXXXXXXXXXXXX----|-----XXXXXXXXXXXXXXXXXXXX\n",
      "2022-09-12 22:29:44,127 - lwa_f.blocks.block:snap01 - INFO - adc - Chip 4, Lane 6:    XXXXXXXXXXXXXXXXXXXXXXXXXXXXXXXXXX----|-----XXXXXXXXXXXXXXXXXXXX\n",
      "2022-09-12 22:29:44,128 - lwa_f.blocks.block:snap01 - INFO - adc - Chip 4, Lane 7:    XXXXXXXXXXXXXXXXXXXXXXXXXXXXXXXXXX----|-----XXXXXXXXXXXXXXXXXXXX\n",
      "2022-09-12 22:29:44,128 - lwa_f.blocks.block:snap01 - INFO - adc - Chip 5, Lane 0:    XXXXXXXXXXXXXXXXXXXXXXXXXXXXXXX----|-----XXXXXXXXXXXXXXXXXXXXXXX\n",
      "2022-09-12 22:29:44,129 - lwa_f.blocks.block:snap01 - INFO - adc - Chip 5, Lane 1:    XXXXXXXXXXXXXXXXXXXXXXXXXXXXXXX----|-----XXXXXXXXXXXXXXXXXXXXXXX\n",
      "2022-09-12 22:29:44,129 - lwa_f.blocks.block:snap01 - INFO - adc - Chip 5, Lane 2:    XXXXXXXXXXXXXXXXXXXXXXXXXXXXXXXX----|-----XXXXXXXXXXXXXXXXXXXXXX\n",
      "2022-09-12 22:29:44,130 - lwa_f.blocks.block:snap01 - INFO - adc - Chip 5, Lane 3:    XXXXXXXXXXXXXXXXXXXXXXXXXXXXXXX----|-----XXXXXXXXXXXXXXXXXXXXXXX\n",
      "2022-09-12 22:29:44,131 - lwa_f.blocks.block:snap01 - INFO - adc - Chip 5, Lane 4:    XXXXXXXXXXXXXXXXXXXXXXXXXXXXXXX----|-----XXXXXXXXXXXXXXXXXXXXXXX\n",
      "2022-09-12 22:29:44,131 - lwa_f.blocks.block:snap01 - INFO - adc - Chip 5, Lane 5:    XXXXXXXXXXXXXXXXXXXXXXXXXXXXXXX----|-----XXXXXXXXXXXXXXXXXXXXXXX\n",
      "2022-09-12 22:29:44,132 - lwa_f.blocks.block:snap01 - INFO - adc - Chip 5, Lane 6:    XXXXXXXXXXXXXXXXXXXXXXXXXXXXXX-----|-----XXXXXXXXXXXXXXXXXXXXXXX\n",
      "2022-09-12 22:29:44,132 - lwa_f.blocks.block:snap01 - INFO - adc - Chip 5, Lane 7:    XXXXXXXXXXXXXXXXXXXXXXXXXXXXXXX----|-----XXXXXXXXXXXXXXXXXXXXXXX\n",
      "2022-09-12 22:29:44,133 - lwa_f.blocks.block:snap01 - INFO - adc - Chip 6, Lane 0:    XXXXXXXXXXXXXXXXXXXXXXXXXXXXXXXXX----|-----XXXXXXXXXXXXXXXXXXXXX\n",
      "2022-09-12 22:29:44,134 - lwa_f.blocks.block:snap01 - INFO - adc - Chip 6, Lane 1:    XXXXXXXXXXXXXXXXXXXXXXXXXXXXXXX----|----XXXXXXXXXXXXXXXXXXXXXXXX\n"
     ]
    },
    {
     "name": "stdout",
     "output_type": "stream",
     "text": [
      "2022-09-12 22:29:44,134 - lwa_f.blocks.block:snap01 - INFO - adc - Chip 6, Lane 2:    XXXXXXXXXXXXXXXXXXXXXXXXXXXXXXX----|-----XXXXXXXXXXXXXXXXXXXXXXX\n",
      "2022-09-12 22:29:44,135 - lwa_f.blocks.block:snap01 - INFO - adc - Chip 6, Lane 3:    XXXXXXXXXXXXXXXXXXXXXXXXXXXXXXXX----|----XXXXXXXXXXXXXXXXXXXXXXX\n",
      "2022-09-12 22:29:44,135 - lwa_f.blocks.block:snap01 - INFO - adc - Chip 6, Lane 4:    XXXXXXXXXXXXXXXXXXXXXXXXXXXXXXXX----|----XXXXXXXXXXXXXXXXXXXXXXX\n",
      "2022-09-12 22:29:44,136 - lwa_f.blocks.block:snap01 - INFO - adc - Chip 6, Lane 5:    XXXXXXXXXXXXXXXXXXXXXXXXXXXXXXXXXX---|----XXXXXXXXXXXXXXXXXXXXXX\n",
      "2022-09-12 22:29:44,136 - lwa_f.blocks.block:snap01 - INFO - adc - Chip 6, Lane 6:    XXXXXXXXXXXXXXXXXXXXXXXXXXXXXXX----|-----XXXXXXXXXXXXXXXXXXXXXXX\n",
      "2022-09-12 22:29:44,137 - lwa_f.blocks.block:snap01 - INFO - adc - Chip 6, Lane 7:    XXXXXXXXXXXXXXXXXXXXXXXXXXXXXXX----|-----XXXXXXXXXXXXXXXXXXXXXXX\n",
      "2022-09-12 22:29:44,138 - lwa_f.blocks.block:snap01 - INFO - adc - Chip 7, Lane 0:    XXXXXXXXXXXXXXXXXXXXXXXXXXXXXXXXXXXXX----|----XXXXXXXXXXXXXXXXXX\n",
      "2022-09-12 22:29:44,138 - lwa_f.blocks.block:snap01 - INFO - adc - Chip 7, Lane 1:    XXXXXXXXXXXXXXXXXXXXXXXXXXXXXXXXXXXX----|-----XXXXXXXXXXXXXXXXXX\n",
      "2022-09-12 22:29:44,139 - lwa_f.blocks.block:snap01 - INFO - adc - Chip 7, Lane 2:    XXXXXXXXXXXXXXXXXXXXXXXXXXXXXXXXXXXX----|-----XXXXXXXXXXXXXXXXXX\n",
      "2022-09-12 22:29:44,139 - lwa_f.blocks.block:snap01 - INFO - adc - Chip 7, Lane 3:    XXXXXXXXXXXXXXXXXXXXXXXXXXXXXXXXXXXX----|-----XXXXXXXXXXXXXXXXXX\n",
      "2022-09-12 22:29:44,140 - lwa_f.blocks.block:snap01 - INFO - adc - Chip 7, Lane 4:    XXXXXXXXXXXXXXXXXXXXXXXXXXXXXXXXXXXX----|-----XXXXXXXXXXXXXXXXXX\n",
      "2022-09-12 22:29:44,141 - lwa_f.blocks.block:snap01 - INFO - adc - Chip 7, Lane 5:    XXXXXXXXXXXXXXXXXXXXXXXXXXXXXXXXXXXXX----|-----XXXXXXXXXXXXXXXXX\n",
      "2022-09-12 22:29:44,141 - lwa_f.blocks.block:snap01 - INFO - adc - Chip 7, Lane 6:    XXXXXXXXXXXXXXXXXXXXXXXXXXXXXXXXXXXXXX----|-----XXXXXXXXXXXXXXXX\n",
      "2022-09-12 22:29:44,142 - lwa_f.blocks.block:snap01 - INFO - adc - Chip 7, Lane 7:    XXXXXXXXXXXXXXXXXXXXXXXXXXXXXXXXXXXX----|----XXXXXXXXXXXXXXXXXXX\n",
      "2022-09-12 22:29:46,398 - lwa_f.blocks.block:snap01 - INFO - adc - FMC 1 Scanning data delays\n"
     ]
    },
    {
     "name": "stderr",
     "output_type": "stream",
     "text": [
      "100% (64 of 64) |########################| Elapsed Time: 0:00:08 Time:  0:00:08\n"
     ]
    },
    {
     "name": "stdout",
     "output_type": "stream",
     "text": [
      "2022-09-12 22:29:54,444 - lwa_f.blocks.block:snap01 - INFO - adc - Bitslipping board 0 because everywhere was bad\n",
      "2022-09-12 22:29:55,805 - lwa_f.blocks.block:snap01 - INFO - adc - FMC 1 Scanning data delays\n"
     ]
    },
    {
     "name": "stderr",
     "output_type": "stream",
     "text": [
      "100% (64 of 64) |########################| Elapsed Time: 0:00:07 Time:  0:00:07\n"
     ]
    },
    {
     "name": "stdout",
     "output_type": "stream",
     "text": [
      "2022-09-12 22:30:03,541 - lwa_f.blocks.block:snap01 - INFO - adc - Bitslipping board 0 because everywhere was bad\n",
      "2022-09-12 22:30:04,531 - lwa_f.blocks.block:snap01 - INFO - adc - FMC 1 Scanning data delays\n"
     ]
    },
    {
     "name": "stderr",
     "output_type": "stream",
     "text": [
      "100% (64 of 64) |########################| Elapsed Time: 0:00:10 Time:  0:00:10\n"
     ]
    },
    {
     "name": "stdout",
     "output_type": "stream",
     "text": [
      "2022-09-12 22:30:14,889 - lwa_f.blocks.block:snap01 - INFO - adc - Bitslipping board 0 chip 0 because nowhere was good\n",
      "2022-09-12 22:30:14,900 - lwa_f.blocks.block:snap01 - INFO - adc - Bitslipping board 0 chip 1 because nowhere was good\n",
      "2022-09-12 22:30:14,914 - lwa_f.blocks.block:snap01 - INFO - adc - Bitslipping board 0 chip 2 because nowhere was good\n",
      "2022-09-12 22:30:14,927 - lwa_f.blocks.block:snap01 - INFO - adc - Bitslipping board 0 chip 3 because nowhere was good\n",
      "2022-09-12 22:30:15,939 - lwa_f.blocks.block:snap01 - INFO - adc - FMC 1 Scanning data delays\n"
     ]
    },
    {
     "name": "stderr",
     "output_type": "stream",
     "text": [
      "100% (64 of 64) |########################| Elapsed Time: 0:00:07 Time:  0:00:07\n"
     ]
    },
    {
     "name": "stdout",
     "output_type": "stream",
     "text": [
      "2022-09-12 22:30:23,315 - lwa_f.blocks.block:snap01 - INFO - adc - Bitslipping board 0 chip 0 because nowhere was good\n",
      "2022-09-12 22:30:23,329 - lwa_f.blocks.block:snap01 - INFO - adc - Bitslipping board 0 chip 1 because nowhere was good\n",
      "2022-09-12 22:30:23,343 - lwa_f.blocks.block:snap01 - INFO - adc - Bitslipping board 0 chip 2 because nowhere was good\n",
      "2022-09-12 22:30:23,358 - lwa_f.blocks.block:snap01 - INFO - adc - Bitslipping board 0 chip 3 because nowhere was good\n",
      "2022-09-12 22:30:24,679 - lwa_f.blocks.block:snap01 - INFO - adc - FMC 1 Scanning data delays\n"
     ]
    },
    {
     "name": "stderr",
     "output_type": "stream",
     "text": [
      "100% (64 of 64) |########################| Elapsed Time: 0:00:07 Time:  0:00:07\n"
     ]
    },
    {
     "name": "stdout",
     "output_type": "stream",
     "text": [
      "2022-09-12 22:30:32,227 - lwa_f.blocks.block:snap01 - INFO - adc - Bitslipping board 0 chip 0 because nowhere was good\n",
      "2022-09-12 22:30:32,243 - lwa_f.blocks.block:snap01 - INFO - adc - Bitslipping board 0 chip 1 because nowhere was good\n",
      "2022-09-12 22:30:32,256 - lwa_f.blocks.block:snap01 - INFO - adc - Bitslipping board 0 chip 2 because nowhere was good\n",
      "2022-09-12 22:30:32,268 - lwa_f.blocks.block:snap01 - INFO - adc - Bitslipping board 0 chip 3 because nowhere was good\n",
      "2022-09-12 22:30:33,397 - lwa_f.blocks.block:snap01 - INFO - adc - FMC 1 Scanning data delays\n"
     ]
    },
    {
     "name": "stderr",
     "output_type": "stream",
     "text": [
      "100% (64 of 64) |########################| Elapsed Time: 0:00:07 Time:  0:00:07\n"
     ]
    },
    {
     "name": "stdout",
     "output_type": "stream",
     "text": [
      "2022-09-12 22:30:40,877 - lwa_f.blocks.block:snap01 - INFO - adc - Bitslipping board 0 chip 0 because nowhere was good\n",
      "2022-09-12 22:30:40,892 - lwa_f.blocks.block:snap01 - INFO - adc - Bitslipping board 0 chip 1 because nowhere was good\n",
      "2022-09-12 22:30:40,905 - lwa_f.blocks.block:snap01 - INFO - adc - Bitslipping board 0 chip 2 because nowhere was good\n",
      "2022-09-12 22:30:40,918 - lwa_f.blocks.block:snap01 - INFO - adc - Bitslipping board 0 chip 3 because nowhere was good\n",
      "2022-09-12 22:30:41,847 - lwa_f.blocks.block:snap01 - INFO - adc - FMC 1 Scanning data delays\n"
     ]
    },
    {
     "name": "stderr",
     "output_type": "stream",
     "text": [
      "100% (64 of 64) |########################| Elapsed Time: 0:00:07 Time:  0:00:07\n"
     ]
    },
    {
     "name": "stdout",
     "output_type": "stream",
     "text": [
      "2022-09-12 22:30:49,111 - lwa_f.blocks.block:snap01 - INFO - adc - Bitslipping board 0 chip 0 because nowhere was good\n",
      "2022-09-12 22:30:49,127 - lwa_f.blocks.block:snap01 - INFO - adc - Bitslipping board 0 chip 1 because nowhere was good\n",
      "2022-09-12 22:30:49,140 - lwa_f.blocks.block:snap01 - INFO - adc - Bitslipping board 0 chip 2 because nowhere was good\n",
      "2022-09-12 22:30:49,152 - lwa_f.blocks.block:snap01 - INFO - adc - Bitslipping board 0 chip 3 because nowhere was good\n",
      "2022-09-12 22:30:50,278 - lwa_f.blocks.block:snap01 - INFO - adc - FMC 1 Scanning data delays\n"
     ]
    },
    {
     "name": "stderr",
     "output_type": "stream",
     "text": [
      "100% (64 of 64) |########################| Elapsed Time: 0:00:07 Time:  0:00:07\n"
     ]
    },
    {
     "name": "stdout",
     "output_type": "stream",
     "text": [
      "2022-09-12 22:30:57,870 - lwa_f.blocks.block:snap01 - INFO - adc - FMC 1 data lane delays:\n",
      "[[0, 0, 0, 0, 0, 0, 0, 0], [0, 0, 0, 0, 0, 0, 0, 0], [0, 0, 0, 0, 0, 0, 0, 0], [0, 0, 0, 0, 0, 0, 0, 0], [304, 312, 304, 320, 312, 304, 304, 304], [248, 248, 248, 240, 256, 240, 256, 240], [296, 280, 288, 304, 288, 280, 280, 288], [328, 328, 328, 320, 328, 328, 328, 320]]\n",
      "2022-09-12 22:30:57,871 - lwa_f.blocks.block:snap01 - INFO - adc - FMC 1 data lane slacks:\n",
      "[[0, 0, 0, 0, 0, 0, 0, 0], [0, 0, 0, 0, 0, 0, 0, 0], [0, 0, 0, 0, 0, 0, 0, 0], [0, 0, 0, 0, 0, 0, 0, 0], [40, 40, 40, 40, 48, 40, 40, 40], [40, 40, 32, 32, 40, 32, 40, 32], [40, 32, 40, 40, 32, 32, 32, 40], [40, 40, 32, 40, 40, 40, 40, 40]]\n",
      "2022-09-12 22:30:57,872 - lwa_f.blocks.block:snap01 - WARNING - adc - Delay solutions have small slack\n",
      "2022-09-12 22:30:57,873 - lwa_f.blocks.block:snap01 - INFO - adc - Chip 0, Lane 0:    |XXXXXXXXXXXXXXXXXXXXXXXXXXXXXXXXXXXXXXXXXXXXXXXXXXXXXXXXXXXXXXX\n",
      "2022-09-12 22:30:57,874 - lwa_f.blocks.block:snap01 - INFO - adc - Chip 0, Lane 1:    |XXXXXXXXXXXXXXXXXXXXXXXXXXXXXXXXXXXXXXXXXXXXXXXXXXXXXXXXXXXXXXX\n",
      "2022-09-12 22:30:57,874 - lwa_f.blocks.block:snap01 - INFO - adc - Chip 0, Lane 2:    |XXXXXXXXXXXXXXXXXXXXXXXXXXXXXXXXXXXXXXXXXXXXXXXXXXXXXXXXXXXXXXX\n",
      "2022-09-12 22:30:57,875 - lwa_f.blocks.block:snap01 - INFO - adc - Chip 0, Lane 3:    |XXXXXXXXXXXXXXXXXXXXXXXXXXXXXXXXXXXXXXXXXXXXXXXXXXXXXXXXXXXXXXX\n",
      "2022-09-12 22:30:57,876 - lwa_f.blocks.block:snap01 - INFO - adc - Chip 0, Lane 4:    |XXXXXXXXXXXXXXXXXXXXXXXXXXXXXXXXXXXXXXXXXXXXXXXXXXXXXXXXXXXXXXX\n",
      "2022-09-12 22:30:57,877 - lwa_f.blocks.block:snap01 - INFO - adc - Chip 0, Lane 5:    |XXXXXXXXXXXXXXXXXXXXXXXXXXXXXXXXXXXXXXXXXXXXXXXXXXXXXXXXXXXXXXX\n",
      "2022-09-12 22:30:57,878 - lwa_f.blocks.block:snap01 - INFO - adc - Chip 0, Lane 6:    |XXXXXXXXXXXXXXXXXXXXXXXXXXXXXXXXXXXXXXXXXXXXXXXXXXXXXXXXXXXXXXX\n",
      "2022-09-12 22:30:57,878 - lwa_f.blocks.block:snap01 - INFO - adc - Chip 0, Lane 7:    |XXXXXXXXXXXXXXXXXXXXXXXXXXXXXXXXXXXXXXXXXXXXXXXXXXXXXXXXXXXXXXX\n",
      "2022-09-12 22:30:57,879 - lwa_f.blocks.block:snap01 - INFO - adc - Chip 1, Lane 0:    |XXXXXXXXXXXXXXXXXXXXXXXXXXXXXXXXXXXXXXXXXXXXXXXXXXXXXXXXXXXXXXX\n",
      "2022-09-12 22:30:57,880 - lwa_f.blocks.block:snap01 - INFO - adc - Chip 1, Lane 1:    |XXXXXXXXXXXXXXXXXXXXXXXXXXXXXXXXXXXXXXXXXXXXXXXXXXXXXXXXXXXXXXX\n",
      "2022-09-12 22:30:57,881 - lwa_f.blocks.block:snap01 - INFO - adc - Chip 1, Lane 2:    |XXXXXXXXXXXXXXXXXXXXXXXXXXXXXXXXXXXXXXXXXXXXXXXXXXXXXXXXXXXXXXX\n",
      "2022-09-12 22:30:57,881 - lwa_f.blocks.block:snap01 - INFO - adc - Chip 1, Lane 3:    |XXXXXXXXXXXXXXXXXXXXXXXXXXXXXXXXXXXXXXXXXXXXXXXXXXXXXXXXXXXXXXX\n",
      "2022-09-12 22:30:57,882 - lwa_f.blocks.block:snap01 - INFO - adc - Chip 1, Lane 4:    |XXXXXXXXXXXXXXXXXXXXXXXXXXXXXXXXXXXXXXXXXXXXXXXXXXXXXXXXXXXXXXX\n",
      "2022-09-12 22:30:57,882 - lwa_f.blocks.block:snap01 - INFO - adc - Chip 1, Lane 5:    |XXXXXXXXXXXXXXXXXXXXXXXXXXXXXXXXXXXXXXXXXXXXXXXXXXXXXXXXXXXXXXX\n",
      "2022-09-12 22:30:57,883 - lwa_f.blocks.block:snap01 - INFO - adc - Chip 1, Lane 6:    |XXXXXXXXXXXXXXXXXXXXXXXXXXXXXXXXXXXXXXXXXXXXXXXXXXXXXXXXXXXXXXX\n",
      "2022-09-12 22:30:57,883 - lwa_f.blocks.block:snap01 - INFO - adc - Chip 1, Lane 7:    |XXXXXXXXXXXXXXXXXXXXXXXXXXXXXXXXXXXXXXXXXXXXXXXXXXXXXXXXXXXXXXX\n",
      "2022-09-12 22:30:57,884 - lwa_f.blocks.block:snap01 - INFO - adc - Chip 2, Lane 0:    |XXXXXXXXXXXXXXXXXXXXXXXXXXXXXXXXXXXXXXXXXXXXXXXXXXXXXXXXXXXXXXX\n",
      "2022-09-12 22:30:57,885 - lwa_f.blocks.block:snap01 - INFO - adc - Chip 2, Lane 1:    |XXXXXXXXXXXXXXXXXXXXXXXXXXXXXXXXXXXXXXXXXXXXXXXXXXXXXXXXXXXXXXX\n",
      "2022-09-12 22:30:57,885 - lwa_f.blocks.block:snap01 - INFO - adc - Chip 2, Lane 2:    |XXXXXXXXXXXXXXXXXXXXXXXXXXXXXXXXXXXXXXXXXXXXXXXXXXXXXXXXXXXXXXX\n",
      "2022-09-12 22:30:57,886 - lwa_f.blocks.block:snap01 - INFO - adc - Chip 2, Lane 3:    |XXXXXXXXXXXXXXXXXXXXXXXXXXXXXXXXXXXXXXXXXXXXXXXXXXXXXXXXXXXXXXX\n",
      "2022-09-12 22:30:57,886 - lwa_f.blocks.block:snap01 - INFO - adc - Chip 2, Lane 4:    |XXXXXXXXXXXXXXXXXXXXXXXXXXXXXXXXXXXXXXXXXXXXXXXXXXXXXXXXXXXXXXX\n",
      "2022-09-12 22:30:57,887 - lwa_f.blocks.block:snap01 - INFO - adc - Chip 2, Lane 5:    |XXXXXXXXXXXXXXXXXXXXXXXXXXXXXXXXXXXXXXXXXXXXXXXXXXXXXXXXXXXXXXX\n",
      "2022-09-12 22:30:57,888 - lwa_f.blocks.block:snap01 - INFO - adc - Chip 2, Lane 6:    |XXXXXXXXXXXXXXXXXXXXXXXXXXXXXXXXXXXXXXXXXXXXXXXXXXXXXXXXXXXXXXX\n",
      "2022-09-12 22:30:57,888 - lwa_f.blocks.block:snap01 - INFO - adc - Chip 2, Lane 7:    |XXXXXXXXXXXXXXXXXXXXXXXXXXXXXXXXXXXXXXXXXXXXXXXXXXXXXXXXXXXXXXX\n",
      "2022-09-12 22:30:57,889 - lwa_f.blocks.block:snap01 - INFO - adc - Chip 3, Lane 0:    |XXXXXXXXXXXXXXXXXXXXXXXXXXXXXXXXXXXXXXXXXXXXXXXXXXXXXXXXXXXXXXX\n",
      "2022-09-12 22:30:57,889 - lwa_f.blocks.block:snap01 - INFO - adc - Chip 3, Lane 1:    |XXXXXXXXXXXXXXXXXXXXXXXXXXXXXXXXXXXXXXXXXXXXXXXXXXXXXXXXXXXXXXX\n",
      "2022-09-12 22:30:57,890 - lwa_f.blocks.block:snap01 - INFO - adc - Chip 3, Lane 2:    |XXXXXXXXXXXXXXXXXXXXXXXXXXXXXXXXXXXXXXXXXXXXXXXXXXXXXXXXXXXXXXX\n",
      "2022-09-12 22:30:57,890 - lwa_f.blocks.block:snap01 - INFO - adc - Chip 3, Lane 3:    |XXXXXXXXXXXXXXXXXXXXXXXXXXXXXXXXXXXXXXXXXXXXXXXXXXXXXXXXXXXXXXX\n",
      "2022-09-12 22:30:57,891 - lwa_f.blocks.block:snap01 - INFO - adc - Chip 3, Lane 4:    |XXXXXXXXXXXXXXXXXXXXXXXXXXXXXXXXXXXXXXXXXXXXXXXXXXXXXXXXXXXXXXX\n",
      "2022-09-12 22:30:57,892 - lwa_f.blocks.block:snap01 - INFO - adc - Chip 3, Lane 5:    |XXXXXXXXXXXXXXXXXXXXXXXXXXXXXXXXXXXXXXXXXXXXXXXXXXXXXXXXXXXXXXX\n",
      "2022-09-12 22:30:57,892 - lwa_f.blocks.block:snap01 - INFO - adc - Chip 3, Lane 6:    |XXXXXXXXXXXXXXXXXXXXXXXXXXXXXXXXXXXXXXXXXXXXXXXXXXXXXXXXXXXXXXX\n",
      "2022-09-12 22:30:57,893 - lwa_f.blocks.block:snap01 - INFO - adc - Chip 3, Lane 7:    |XXXXXXXXXXXXXXXXXXXXXXXXXXXXXXXXXXXXXXXXXXXXXXXXXXXXXXXXXXXXXXX\n",
      "2022-09-12 22:30:57,893 - lwa_f.blocks.block:snap01 - INFO - adc - Chip 4, Lane 0:    XXXXXXXXXXXXXXXXXXXXXXXXXXXXXXXXXX----|-----XXXXXXXXXXXXXXXXXXXX\n",
      "2022-09-12 22:30:57,894 - lwa_f.blocks.block:snap01 - INFO - adc - Chip 4, Lane 1:    XXXXXXXXXXXXXXXXXXXXXXXXXXXXXXXXXXX----|-----XXXXXXXXXXXXXXXXXXX\n",
      "2022-09-12 22:30:57,895 - lwa_f.blocks.block:snap01 - INFO - adc - Chip 4, Lane 2:    XXXXXXXXXXXXXXXXXXXXXXXXXXXXXXXXXX----|-----XXXXXXXXXXXXXXXXXXXX\n",
      "2022-09-12 22:30:57,895 - lwa_f.blocks.block:snap01 - INFO - adc - Chip 4, Lane 3:    XXXXXXXXXXXXXXXXXXXXXXXXXXXXXXXXXXXX----|-----XXXXXXXXXXXXXXXXXX\n",
      "2022-09-12 22:30:57,896 - lwa_f.blocks.block:snap01 - INFO - adc - Chip 4, Lane 4:    XXXXXXXXXXXXXXXXXXXXXXXXXXXXXXXXXX-----|-----XXXXXXXXXXXXXXXXXXX\n",
      "2022-09-12 22:30:57,897 - lwa_f.blocks.block:snap01 - INFO - adc - Chip 4, Lane 5:    XXXXXXXXXXXXXXXXXXXXXXXXXXXXXXXXXX----|-----XXXXXXXXXXXXXXXXXXXX\n",
      "2022-09-12 22:30:57,897 - lwa_f.blocks.block:snap01 - INFO - adc - Chip 4, Lane 6:    XXXXXXXXXXXXXXXXXXXXXXXXXXXXXXXXXX----|-----XXXXXXXXXXXXXXXXXXXX\n",
      "2022-09-12 22:30:57,898 - lwa_f.blocks.block:snap01 - INFO - adc - Chip 4, Lane 7:    XXXXXXXXXXXXXXXXXXXXXXXXXXXXXXXXXX----|-----XXXXXXXXXXXXXXXXXXXX\n",
      "2022-09-12 22:30:57,898 - lwa_f.blocks.block:snap01 - INFO - adc - Chip 5, Lane 0:    XXXXXXXXXXXXXXXXXXXXXXXXXXX----|----XXXXXXXXXXXXXXXXXXXXXXXXXXXX\n",
      "2022-09-12 22:30:57,899 - lwa_f.blocks.block:snap01 - INFO - adc - Chip 5, Lane 1:    XXXXXXXXXXXXXXXXXXXXXXXXXXX----|----XXXXXXXXXXXXXXXXXXXXXXXXXXXX\n",
      "2022-09-12 22:30:57,900 - lwa_f.blocks.block:snap01 - INFO - adc - Chip 5, Lane 2:    XXXXXXXXXXXXXXXXXXXXXXXXXXXX---|----XXXXXXXXXXXXXXXXXXXXXXXXXXXX\n",
      "2022-09-12 22:30:57,900 - lwa_f.blocks.block:snap01 - INFO - adc - Chip 5, Lane 3:    XXXXXXXXXXXXXXXXXXXXXXXXXXX---|----XXXXXXXXXXXXXXXXXXXXXXXXXXXXX\n",
      "2022-09-12 22:30:57,901 - lwa_f.blocks.block:snap01 - INFO - adc - Chip 5, Lane 4:    XXXXXXXXXXXXXXXXXXXXXXXXXXXX----|----XXXXXXXXXXXXXXXXXXXXXXXXXXX\n",
      "2022-09-12 22:30:57,901 - lwa_f.blocks.block:snap01 - INFO - adc - Chip 5, Lane 5:    XXXXXXXXXXXXXXXXXXXXXXXXXXX---|----XXXXXXXXXXXXXXXXXXXXXXXXXXXXX\n",
      "2022-09-12 22:30:57,902 - lwa_f.blocks.block:snap01 - INFO - adc - Chip 5, Lane 6:    XXXXXXXXXXXXXXXXXXXXXXXXXXXX----|----XXXXXXXXXXXXXXXXXXXXXXXXXXX\n",
      "2022-09-12 22:30:57,903 - lwa_f.blocks.block:snap01 - INFO - adc - Chip 5, Lane 7:    XXXXXXXXXXXXXXXXXXXXXXXXXXX---|----XXXXXXXXXXXXXXXXXXXXXXXXXXXXX\n",
      "2022-09-12 22:30:57,903 - lwa_f.blocks.block:snap01 - INFO - adc - Chip 6, Lane 0:    XXXXXXXXXXXXXXXXXXXXXXXXXXXXXXXXX----|----XXXXXXXXXXXXXXXXXXXXXX\n"
     ]
    },
    {
     "name": "stdout",
     "output_type": "stream",
     "text": [
      "2022-09-12 22:30:57,904 - lwa_f.blocks.block:snap01 - INFO - adc - Chip 6, Lane 1:    XXXXXXXXXXXXXXXXXXXXXXXXXXXXXXXX---|----XXXXXXXXXXXXXXXXXXXXXXXX\n",
      "2022-09-12 22:30:57,904 - lwa_f.blocks.block:snap01 - INFO - adc - Chip 6, Lane 2:    XXXXXXXXXXXXXXXXXXXXXXXXXXXXXXXX----|----XXXXXXXXXXXXXXXXXXXXXXX\n",
      "2022-09-12 22:30:57,905 - lwa_f.blocks.block:snap01 - INFO - adc - Chip 6, Lane 3:    XXXXXXXXXXXXXXXXXXXXXXXXXXXXXXXXXX----|----XXXXXXXXXXXXXXXXXXXXX\n",
      "2022-09-12 22:30:57,906 - lwa_f.blocks.block:snap01 - INFO - adc - Chip 6, Lane 4:    XXXXXXXXXXXXXXXXXXXXXXXXXXXXXXXXX---|----XXXXXXXXXXXXXXXXXXXXXXX\n",
      "2022-09-12 22:30:57,906 - lwa_f.blocks.block:snap01 - INFO - adc - Chip 6, Lane 5:    XXXXXXXXXXXXXXXXXXXXXXXXXXXXXXXX---|----XXXXXXXXXXXXXXXXXXXXXXXX\n",
      "2022-09-12 22:30:57,907 - lwa_f.blocks.block:snap01 - INFO - adc - Chip 6, Lane 6:    XXXXXXXXXXXXXXXXXXXXXXXXXXXXXXXX---|----XXXXXXXXXXXXXXXXXXXXXXXX\n",
      "2022-09-12 22:30:57,907 - lwa_f.blocks.block:snap01 - INFO - adc - Chip 6, Lane 7:    XXXXXXXXXXXXXXXXXXXXXXXXXXXXXXXX----|----XXXXXXXXXXXXXXXXXXXXXXX\n",
      "2022-09-12 22:30:57,908 - lwa_f.blocks.block:snap01 - INFO - adc - Chip 7, Lane 0:    XXXXXXXXXXXXXXXXXXXXXXXXXXXXXXXXXXXXX----|-----XXXXXXXXXXXXXXXXX\n",
      "2022-09-12 22:30:57,909 - lwa_f.blocks.block:snap01 - INFO - adc - Chip 7, Lane 1:    XXXXXXXXXXXXXXXXXXXXXXXXXXXXXXXXXXXXX----|----XXXXXXXXXXXXXXXXXX\n",
      "2022-09-12 22:30:57,909 - lwa_f.blocks.block:snap01 - INFO - adc - Chip 7, Lane 2:    XXXXXXXXXXXXXXXXXXXXXXXXXXXXXXXXXXXXXX---|----XXXXXXXXXXXXXXXXXX\n",
      "2022-09-12 22:30:57,910 - lwa_f.blocks.block:snap01 - INFO - adc - Chip 7, Lane 3:    XXXXXXXXXXXXXXXXXXXXXXXXXXXXXXXXXXXX----|-----XXXXXXXXXXXXXXXXXX\n",
      "2022-09-12 22:30:57,910 - lwa_f.blocks.block:snap01 - INFO - adc - Chip 7, Lane 4:    XXXXXXXXXXXXXXXXXXXXXXXXXXXXXXXXXXXXX----|----XXXXXXXXXXXXXXXXXX\n",
      "2022-09-12 22:30:57,911 - lwa_f.blocks.block:snap01 - INFO - adc - Chip 7, Lane 5:    XXXXXXXXXXXXXXXXXXXXXXXXXXXXXXXXXXXXX----|----XXXXXXXXXXXXXXXXXX\n",
      "2022-09-12 22:30:57,912 - lwa_f.blocks.block:snap01 - INFO - adc - Chip 7, Lane 6:    XXXXXXXXXXXXXXXXXXXXXXXXXXXXXXXXXXXXX----|----XXXXXXXXXXXXXXXXXX\n",
      "2022-09-12 22:30:57,912 - lwa_f.blocks.block:snap01 - INFO - adc - Chip 7, Lane 7:    XXXXXXXXXXXXXXXXXXXXXXXXXXXXXXXXXXXX----|----XXXXXXXXXXXXXXXXXXX\n",
      "2022-09-12 22:30:59,664 - lwa_f.blocks.block:snap01 - ERROR - adc - FMC 1: Data calibration Failure!\n",
      "2022-09-12 22:31:01,520 - lwa_f.snap2_fengine:snap01 - INFO - Initializing block (writable): sync\n",
      "2022-09-12 22:31:01,531 - lwa_f.snap2_fengine:snap01 - INFO - Initializing block (writable): noise\n",
      "2022-09-12 22:31:01,536 - lwa_f.snap2_fengine:snap01 - INFO - Initializing block (writable): input\n",
      "2022-09-12 22:31:01,691 - lwa_f.snap2_fengine:snap01 - INFO - Initializing block (writable): delay\n",
      "2022-09-12 22:31:02,104 - lwa_f.snap2_fengine:snap01 - INFO - Initializing block (writable): pfb\n",
      "2022-09-12 22:31:02,116 - lwa_f.snap2_fengine:snap01 - INFO - Initializing block (writable): eq\n",
      "2022-09-12 22:31:02,443 - lwa_f.snap2_fengine:snap01 - INFO - Initializing block (writable): eqtvg\n",
      "2022-09-12 22:31:03,368 - lwa_f.snap2_fengine:snap01 - INFO - Initializing block (writable): reorder\n",
      "2022-09-12 22:31:03,384 - lwa_f.snap2_fengine:snap01 - INFO - Initializing block (writable): packetizer\n",
      "2022-09-12 22:31:03,384 - lwa_f.snap2_fengine:snap01 - INFO - Initializing block (writable): eth\n",
      "2022-09-12 22:31:03,394 - lwa_f.snap2_fengine:snap01 - INFO - Initializing block (writable): autocorr\n",
      "2022-09-12 22:31:03,396 - lwa_f.snap2_fengine:snap01 - INFO - Initializing block (writable): corr\n",
      "2022-09-12 22:31:03,399 - lwa_f.snap2_fengine:snap01 - INFO - Initializing block (writable): powermon\n",
      "2022-09-12 22:31:03,634 - lwa_f.snap2_fengine:snap01 - INFO - Performing software global reset\n"
     ]
    }
   ],
   "source": [
    "casperbrd.listdev()\n",
    "brd.initialize(read_only=False)\n",
    "brd.sync.arm_sync()\n",
    "brd.sync.sw_sync()"
   ]
  },
  {
   "cell_type": "code",
   "execution_count": 57,
   "metadata": {},
   "outputs": [
    {
     "name": "stdout",
     "output_type": "stream",
     "text": [
      "Data source set to adc\n"
     ]
    }
   ],
   "source": [
    "setup_data_source(casperbrd,\"adc\")  #set it to adc here, and then set the counter test signal BEFORE the cosmic ray block"
   ]
  },
  {
   "cell_type": "code",
   "execution_count": 58,
   "metadata": {},
   "outputs": [
    {
     "name": "stdout",
     "output_type": "stream",
     "text": [
      "0\n",
      "1\n"
     ]
    }
   ],
   "source": [
    "print(casperbrd.read_int('set_counter_test_signal'))\n",
    "casperbrd.write_int('set_counter_test_signal',1)\n",
    "print(casperbrd.read_int('set_counter_test_signal'))\n",
    "\n",
    "setvalue(casperbrd,\"enable_coinc_trig\",\"cr_registers.xlsx\",1)\n"
   ]
  },
  {
   "cell_type": "markdown",
   "metadata": {},
   "source": [
    "The data source is set to a counter, before the delay block. \n",
    "## First test\n",
    "The threshold is set to 511, all antennas have both roles, the antenna number thresholds and the window thresholds are zero.  As expected, all antennas reach the threshold once per 1024 clock cycles, and so there is a trigger and a veto once every 1024 clock cycles, or 262144 times in every time interval between updating the counter register."
   ]
  },
  {
   "cell_type": "code",
   "execution_count": 6,
   "metadata": {},
   "outputs": [
    {
     "name": "stdout",
     "output_type": "stream",
     "text": [
      "Core coincidence:  262144\n",
      "Veto coincidence:  262144\n",
      "262144.0 262144.0\n",
      "262144.0 262144.0\n",
      "262144.0 262144.0\n",
      "Clock cycles counted for  268435456\n",
      "Time counted for  1.34217728\n",
      "262144.0\n"
     ]
    }
   ],
   "source": [
    "#define parameters\n",
    "trigger_power_thresh=511**2\n",
    "veto_power_thresh=511**2\n",
    "trigger_window=100\n",
    "veto_window=200\n",
    "antenna_number_thresh=0\n",
    "veto_number_thresh=0\n",
    "\n",
    "#see notebook subarray_threshold_scans for a function to extract the delays from a text file of delays and antenna names\n",
    "delays=10*np.ones(64,dtype=int)\n",
    "core_roles_array=np.ones(64,dtype=int)\n",
    "veto_roles_array=np.ones(64,dtype=int)\n",
    "\n",
    "setup_coincidencer(casperbrd,trigger_power_thresh,\n",
    "                      veto_power_thresh,\n",
    "                      trigger_window,\n",
    "                      veto_window,\n",
    "                      antenna_number_thresh,\n",
    "                      veto_number_thresh,\n",
    "                      core_roles_array,\n",
    "                      veto_roles_array)\n",
    "set_delays(casperbrd,delays)\n",
    "\n",
    "time.sleep(2.75)  #have to wait for it to update.  The wait is this long because the current cycle will have a mix of settings. It has to finish.  Then the next cycle has to finish to get all good data.\n",
    "veto_coincidence,core_coincidence=struct.unpack('>2l',casperbrd.read(\"cosmic_ray_core_and_veto_rate\",2*4,0))\n",
    "core,veto = read_threshold_rates(casperbrd) #read each block\n",
    "\n",
    "print(\"Core coincidence: \", core_coincidence)\n",
    "print(\"Veto coincidence: \", veto_coincidence)\n",
    "print(core[0],veto[1])\n",
    "print(min(core),max(core))\n",
    "print(min(veto),max(veto))\n",
    "clockcycles_counted_for=(2**28)  #number of clock cycles that the trigger and veto rate counters counts for before updating\n",
    "number_of_10bit_counter_cycles=clockcycles_counted_for/1024 #number of times the 10 bit counter starts over during the above count\n",
    "print(\"Clock cycles counted for \", clockcycles_counted_for)\n",
    "print(\"Time counted for \", clockcycles_counted_for*5e-9)\n",
    "\n",
    "print(number_of_10bit_counter_cycles)"
   ]
  },
  {
   "cell_type": "code",
   "execution_count": 7,
   "metadata": {},
   "outputs": [
    {
     "name": "stdout",
     "output_type": "stream",
     "text": [
      "Core coincidence per 10b cycle:  1.0\n",
      "Veto coincidence per 10b cycle:  1.0\n",
      "Triggers at state control  0\n",
      "Triggers leaving block 0\n"
     ]
    }
   ],
   "source": [
    "#repeat above, in order to test out the test function\n",
    "trigger_power_thresh=511**2\n",
    "veto_power_thresh=511**2\n",
    "trigger_window=100\n",
    "veto_window=200\n",
    "antenna_number_thresh=0\n",
    "veto_number_thresh=0\n",
    "\n",
    "test_coincidencer(casperbrd,trigger_power_thresh,veto_power_thresh,trigger_window,veto_window,antenna_number_thresh,veto_number_thresh,delays,core_roles_array,veto_roles_array)"
   ]
  },
  {
   "cell_type": "markdown",
   "metadata": {},
   "source": [
    "## Send a snapshot to verify that the delays are applied as expected\n",
    "I saved two snapshots, one after applying delays where the delays count up from 0 to 63 and the other where delays count down.  The snapshots show that the delays are applied as expected. "
   ]
  },
  {
   "cell_type": "code",
   "execution_count": 122,
   "metadata": {},
   "outputs": [
    {
     "name": "stdout",
     "output_type": "stream",
     "text": [
      "------------------------\n",
      "snap01:cosmic_ray_cr_forty_gbe configuration:\n",
      "MAC:  02:02:02:01:01:01\n",
      "Gateway:  0.0.0.1\n",
      "IP:  10.41.0.201\n",
      "Fabric port: \n",
      "11111\n",
      "Fabric interface is currently: Enabled\n",
      "\tbase_ip: 255.255.255.255\n",
      "\tip_mask: 255.255.255.255\n",
      "\trx_ips: []\n",
      "ARP Table: \n",
      "IP: 10.41.0. 58: MAC: 04:3F:72:DF:C2:F8\n",
      "Setting wait between packets to 100\n",
      "Packetizer formed 64 packets\n",
      "Board successfully returned to listening state after readout\n",
      "Readout took 22848 clock cycles\n",
      "Packetizer never overflowed\n",
      "Ethernet block almost-full counter incremented by 0\n"
     ]
    }
   ],
   "source": [
    "setvalue(casperbrd,\"enable_coinc_trig\",\"cr_registers.xlsx\",0)\n",
    "delays=64-np.asarray(range(64))\n",
    "set_delays(casperbrd,delays)\n",
    "\n",
    "setup_ethernet(brdname,casperbrd,fpgfile,'lwacr',100)\n",
    "setvalue(casperbrd,'brd_id','cr_registers.xlsx',7)\n",
    "\n",
    "#enable ethernet\n",
    "setvalue(casperbrd,'eth_enable','cr_registers.xlsx',1)\n",
    "#send trigger\n",
    "software_trigger(casperbrd,1)"
   ]
  },
  {
   "cell_type": "code",
   "execution_count": null,
   "metadata": {},
   "outputs": [],
   "source": []
  },
  {
   "cell_type": "code",
   "execution_count": 8,
   "metadata": {},
   "outputs": [
    {
     "data": {
      "text/plain": [
       "Text(0, 0.5, 'value')"
      ]
     },
     "execution_count": 8,
     "metadata": {},
     "output_type": "execute_result"
    },
    {
     "data": {
      "image/png": "[encoded data removed]",
      "text/plain": [
       "<Figure size 432x288 with 1 Axes>"
      ]
     },
     "metadata": {
      "needs_background": "light"
     },
     "output_type": "display_data"
    },
    {
     "data": {
      "image/png": "[encoded data removed]",
      "text/plain": [
       "<Figure size 432x288 with 1 Axes>"
      ]
     },
     "metadata": {
      "needs_background": "light"
     },
     "output_type": "display_data"
    }
   ],
   "source": [
    "snapshotfname='/home/ubuntu/kp/caltech-lwa/cosmic_ray_scripts/data_capture/snapshots/single_board_snapshot1662926949.397944_0_0.npy'\n",
    "snapshot=np.load(snapshotfname)\n",
    "\n",
    "chanmap=np.loadtxt('channelmap.txt')\n",
    "plt.figure()\n",
    "timesample=2500\n",
    "plt.plot(chanmap[1,:],snapshot[timesample,4:],'.')\n",
    "plt.xlim(0,10)\n",
    "plt.xlabel('Channel')\n",
    "plt.ylabel('value')\n",
    "\n",
    "snapshotfname='/home/ubuntu/kp/caltech-lwa/cosmic_ray_scripts/data_capture/snapshots/single_board_snapshot1662929772.1028724_0_0.npy'\n",
    "snapshot=np.load(snapshotfname)\n",
    "\n",
    "plt.figure()\n",
    "timesample=2500\n",
    "plt.plot(chanmap[1,:],snapshot[timesample,4:],'.')\n",
    "plt.xlim(0,10)\n",
    "plt.xlabel('Channel')\n",
    "plt.ylabel('value')"
   ]
  },
  {
   "cell_type": "code",
   "execution_count": 9,
   "metadata": {},
   "outputs": [],
   "source": [
    "#disable ethernet and enable internal trigger\n",
    "setvalue(casperbrd,'eth_enable','cr_registers.xlsx',0)\n",
    "\n",
    "setvalue(casperbrd,\"enable_coinc_trig\",\"cr_registers.xlsx\",1)\n"
   ]
  },
  {
   "cell_type": "markdown",
   "metadata": {},
   "source": [
    "## Are the antenna roles being set to the correct channels?\n",
    "In the previous version of this notebook I found that packantennaroles had the wrong bit order and I changed that. Here I'm testing whether the new version works. \n",
    "\n",
    "I'm testing the trigger and veto simultaneously with the same approach:  All the antennas are set to participate, and then one is turned off and delayed outside the window.  The threshold is set to 62. If the delayed antenna is not the turned-off antenna, there won't be enough antennas for a coincidence detected."
   ]
  },
  {
   "cell_type": "code",
   "execution_count": 15,
   "metadata": {},
   "outputs": [],
   "source": [
    "#initial setup\n",
    "trigger_power_thresh=511**2\n",
    "veto_power_thresh=511**2\n",
    "core_roles_array=np.ones(64,dtype=int)\n",
    "veto_roles_array=np.ones(64,dtype=int)\n",
    "\n",
    "antenna_number_thresh=62\n",
    "veto_number_thresh=62\n",
    "veto_window=15\n",
    "trigger_window=10\n",
    "delays=np.zeros(64,dtype=int)\n"
   ]
  },
  {
   "cell_type": "markdown",
   "metadata": {},
   "source": [
    "Test before turning one antenna off. There should be a coincidence and there is.\n"
   ]
  },
  {
   "cell_type": "code",
   "execution_count": 16,
   "metadata": {},
   "outputs": [
    {
     "name": "stdout",
     "output_type": "stream",
     "text": [
      "Core coincidence per 10b cycle:  1.0\n",
      "Veto coincidence per 10b cycle:  1.0\n",
      "Triggers at state control  0\n",
      "Triggers leaving block 0\n"
     ]
    }
   ],
   "source": [
    "#test before turning one antenna off. There should be a coincidence\n",
    "test_coincidencer(casperbrd,trigger_power_thresh,veto_power_thresh,trigger_window,veto_window,antenna_number_thresh,veto_number_thresh,delays,core_roles_array,veto_roles_array)\n"
   ]
  },
  {
   "cell_type": "markdown",
   "metadata": {},
   "source": [
    "Turn one antenna off but don't delay it. There should still be a coincidence even if the antenna roles go to the wrong antennas, and there is."
   ]
  },
  {
   "cell_type": "code",
   "execution_count": 17,
   "metadata": {},
   "outputs": [
    {
     "name": "stdout",
     "output_type": "stream",
     "text": [
      "Core coincidence per 10b cycle:  1.0\n",
      "Veto coincidence per 10b cycle:  1.0\n",
      "Triggers at state control  0\n",
      "Triggers leaving block 0\n"
     ]
    }
   ],
   "source": [
    "core_roles_array=np.ones(64,dtype=int)\n",
    "veto_roles_array=np.ones(64,dtype=int)\n",
    "core_roles_array[0]=0\n",
    "veto_roles_array[0]=0\n",
    "test_coincidencer(casperbrd,trigger_power_thresh,veto_power_thresh,trigger_window,veto_window,antenna_number_thresh,veto_number_thresh,delays,core_roles_array,veto_roles_array)\n"
   ]
  },
  {
   "cell_type": "markdown",
   "metadata": {},
   "source": [
    "Delay the turned-off antenna.  There's a coincidence.\n",
    "Repeat for all the antennas."
   ]
  },
  {
   "cell_type": "code",
   "execution_count": 21,
   "metadata": {},
   "outputs": [
    {
     "name": "stdout",
     "output_type": "stream",
     "text": [
      "Testing Antenna 0\n",
      "Core coincidence per 10b cycle:  1.0\n",
      "Veto coincidence per 10b cycle:  1.0\n",
      "Triggers at state control  0\n",
      "Triggers leaving block 0\n",
      "Testing Antenna 1\n",
      "Core coincidence per 10b cycle:  1.0\n",
      "Veto coincidence per 10b cycle:  1.0\n",
      "Triggers at state control  0\n",
      "Triggers leaving block 0\n",
      "Testing Antenna 2\n",
      "Core coincidence per 10b cycle:  1.0\n",
      "Veto coincidence per 10b cycle:  1.0\n",
      "Triggers at state control  0\n",
      "Triggers leaving block 0\n",
      "Testing Antenna 3\n",
      "Core coincidence per 10b cycle:  1.0\n",
      "Veto coincidence per 10b cycle:  1.0\n",
      "Triggers at state control  0\n",
      "Triggers leaving block 0\n",
      "Testing Antenna 4\n",
      "Core coincidence per 10b cycle:  1.0\n",
      "Veto coincidence per 10b cycle:  1.0\n",
      "Triggers at state control  0\n",
      "Triggers leaving block 0\n",
      "Testing Antenna 5\n",
      "Core coincidence per 10b cycle:  1.0\n",
      "Veto coincidence per 10b cycle:  1.0\n",
      "Triggers at state control  0\n",
      "Triggers leaving block 0\n",
      "Testing Antenna 6\n",
      "Core coincidence per 10b cycle:  1.0\n",
      "Veto coincidence per 10b cycle:  1.0\n",
      "Triggers at state control  0\n",
      "Triggers leaving block 0\n",
      "Testing Antenna 7\n",
      "Core coincidence per 10b cycle:  1.0\n",
      "Veto coincidence per 10b cycle:  1.0\n",
      "Triggers at state control  0\n",
      "Triggers leaving block 0\n",
      "Testing Antenna 8\n",
      "Core coincidence per 10b cycle:  1.0\n",
      "Veto coincidence per 10b cycle:  1.0\n",
      "Triggers at state control  0\n",
      "Triggers leaving block 0\n",
      "Testing Antenna 9\n",
      "Core coincidence per 10b cycle:  1.0\n",
      "Veto coincidence per 10b cycle:  1.0\n",
      "Triggers at state control  0\n",
      "Triggers leaving block 0\n",
      "Testing Antenna 10\n",
      "Core coincidence per 10b cycle:  1.0\n",
      "Veto coincidence per 10b cycle:  1.0\n",
      "Triggers at state control  0\n",
      "Triggers leaving block 0\n",
      "Testing Antenna 11\n",
      "Core coincidence per 10b cycle:  1.0\n",
      "Veto coincidence per 10b cycle:  1.0\n",
      "Triggers at state control  0\n",
      "Triggers leaving block 0\n",
      "Testing Antenna 12\n",
      "Core coincidence per 10b cycle:  1.0\n",
      "Veto coincidence per 10b cycle:  1.0\n",
      "Triggers at state control  0\n",
      "Triggers leaving block 0\n",
      "Testing Antenna 13\n",
      "Core coincidence per 10b cycle:  1.0\n",
      "Veto coincidence per 10b cycle:  1.0\n",
      "Triggers at state control  0\n",
      "Triggers leaving block 0\n",
      "Testing Antenna 14\n",
      "Core coincidence per 10b cycle:  1.0\n",
      "Veto coincidence per 10b cycle:  1.0\n",
      "Triggers at state control  0\n",
      "Triggers leaving block 0\n",
      "Testing Antenna 15\n",
      "Core coincidence per 10b cycle:  1.0\n",
      "Veto coincidence per 10b cycle:  1.0\n",
      "Triggers at state control  0\n",
      "Triggers leaving block 0\n",
      "Testing Antenna 16\n",
      "Core coincidence per 10b cycle:  1.0\n",
      "Veto coincidence per 10b cycle:  1.0\n",
      "Triggers at state control  0\n",
      "Triggers leaving block 0\n",
      "Testing Antenna 17\n",
      "Core coincidence per 10b cycle:  1.0\n",
      "Veto coincidence per 10b cycle:  1.0\n",
      "Triggers at state control  0\n",
      "Triggers leaving block 0\n",
      "Testing Antenna 18\n",
      "Core coincidence per 10b cycle:  1.0\n",
      "Veto coincidence per 10b cycle:  1.0\n",
      "Triggers at state control  0\n",
      "Triggers leaving block 0\n",
      "Testing Antenna 19\n",
      "Core coincidence per 10b cycle:  1.0\n",
      "Veto coincidence per 10b cycle:  1.0\n",
      "Triggers at state control  0\n",
      "Triggers leaving block 0\n",
      "Testing Antenna 20\n",
      "Core coincidence per 10b cycle:  1.0\n",
      "Veto coincidence per 10b cycle:  1.0\n",
      "Triggers at state control  0\n",
      "Triggers leaving block 0\n",
      "Testing Antenna 21\n",
      "Core coincidence per 10b cycle:  1.0\n",
      "Veto coincidence per 10b cycle:  1.0\n",
      "Triggers at state control  0\n",
      "Triggers leaving block 0\n",
      "Testing Antenna 22\n",
      "Core coincidence per 10b cycle:  1.0\n",
      "Veto coincidence per 10b cycle:  1.0\n",
      "Triggers at state control  0\n",
      "Triggers leaving block 0\n",
      "Testing Antenna 23\n",
      "Core coincidence per 10b cycle:  1.0\n",
      "Veto coincidence per 10b cycle:  1.0\n",
      "Triggers at state control  0\n",
      "Triggers leaving block 0\n",
      "Testing Antenna 24\n",
      "Core coincidence per 10b cycle:  1.0\n",
      "Veto coincidence per 10b cycle:  1.0\n",
      "Triggers at state control  0\n",
      "Triggers leaving block 0\n",
      "Testing Antenna 25\n",
      "Core coincidence per 10b cycle:  1.0\n",
      "Veto coincidence per 10b cycle:  1.0\n",
      "Triggers at state control  0\n",
      "Triggers leaving block 0\n",
      "Testing Antenna 26\n",
      "Core coincidence per 10b cycle:  1.0\n",
      "Veto coincidence per 10b cycle:  1.0\n",
      "Triggers at state control  0\n",
      "Triggers leaving block 0\n",
      "Testing Antenna 27\n",
      "Core coincidence per 10b cycle:  1.0\n",
      "Veto coincidence per 10b cycle:  1.0\n",
      "Triggers at state control  0\n",
      "Triggers leaving block 0\n",
      "Testing Antenna 28\n",
      "Core coincidence per 10b cycle:  1.0\n",
      "Veto coincidence per 10b cycle:  1.0\n",
      "Triggers at state control  0\n",
      "Triggers leaving block 0\n",
      "Testing Antenna 29\n",
      "Core coincidence per 10b cycle:  1.0\n",
      "Veto coincidence per 10b cycle:  1.0\n",
      "Triggers at state control  0\n",
      "Triggers leaving block 0\n",
      "Testing Antenna 30\n",
      "Core coincidence per 10b cycle:  1.0\n",
      "Veto coincidence per 10b cycle:  1.0\n",
      "Triggers at state control  0\n",
      "Triggers leaving block 0\n",
      "Testing Antenna 31\n",
      "Core coincidence per 10b cycle:  1.0\n",
      "Veto coincidence per 10b cycle:  1.0\n",
      "Triggers at state control  0\n",
      "Triggers leaving block 0\n",
      "Testing Antenna 32\n",
      "Core coincidence per 10b cycle:  1.0\n",
      "Veto coincidence per 10b cycle:  1.0\n",
      "Triggers at state control  0\n",
      "Triggers leaving block 0\n",
      "Testing Antenna 33\n",
      "Core coincidence per 10b cycle:  1.0\n",
      "Veto coincidence per 10b cycle:  1.0\n",
      "Triggers at state control  0\n",
      "Triggers leaving block 0\n",
      "Testing Antenna 34\n",
      "Core coincidence per 10b cycle:  1.0\n",
      "Veto coincidence per 10b cycle:  1.0\n",
      "Triggers at state control  0\n",
      "Triggers leaving block 0\n",
      "Testing Antenna 35\n",
      "Core coincidence per 10b cycle:  1.0\n",
      "Veto coincidence per 10b cycle:  1.0\n",
      "Triggers at state control  0\n",
      "Triggers leaving block 0\n",
      "Testing Antenna 36\n",
      "Core coincidence per 10b cycle:  1.0\n",
      "Veto coincidence per 10b cycle:  1.0\n",
      "Triggers at state control  0\n",
      "Triggers leaving block 0\n",
      "Testing Antenna 37\n",
      "Core coincidence per 10b cycle:  1.0\n",
      "Veto coincidence per 10b cycle:  1.0\n",
      "Triggers at state control  0\n",
      "Triggers leaving block 0\n",
      "Testing Antenna 38\n",
      "Core coincidence per 10b cycle:  1.0\n",
      "Veto coincidence per 10b cycle:  1.0\n",
      "Triggers at state control  0\n",
      "Triggers leaving block 0\n",
      "Testing Antenna 39\n",
      "Core coincidence per 10b cycle:  1.0\n",
      "Veto coincidence per 10b cycle:  1.0\n",
      "Triggers at state control  0\n",
      "Triggers leaving block 0\n",
      "Testing Antenna 40\n",
      "Core coincidence per 10b cycle:  1.0\n",
      "Veto coincidence per 10b cycle:  1.0\n",
      "Triggers at state control  0\n",
      "Triggers leaving block 0\n",
      "Testing Antenna 41\n",
      "Core coincidence per 10b cycle:  1.0\n",
      "Veto coincidence per 10b cycle:  1.0\n",
      "Triggers at state control  0\n",
      "Triggers leaving block 0\n",
      "Testing Antenna 42\n",
      "Core coincidence per 10b cycle:  1.0\n",
      "Veto coincidence per 10b cycle:  1.0\n",
      "Triggers at state control  0\n",
      "Triggers leaving block 0\n",
      "Testing Antenna 43\n",
      "Core coincidence per 10b cycle:  1.0\n",
      "Veto coincidence per 10b cycle:  1.0\n",
      "Triggers at state control  0\n",
      "Triggers leaving block 0\n",
      "Testing Antenna 44\n",
      "Core coincidence per 10b cycle:  1.0\n",
      "Veto coincidence per 10b cycle:  1.0\n",
      "Triggers at state control  0\n",
      "Triggers leaving block 0\n",
      "Testing Antenna 45\n",
      "Core coincidence per 10b cycle:  1.0\n",
      "Veto coincidence per 10b cycle:  1.0\n",
      "Triggers at state control  0\n",
      "Triggers leaving block 0\n",
      "Testing Antenna 46\n",
      "Core coincidence per 10b cycle:  1.0\n",
      "Veto coincidence per 10b cycle:  1.0\n",
      "Triggers at state control  0\n",
      "Triggers leaving block 0\n",
      "Testing Antenna 47\n",
      "Core coincidence per 10b cycle:  1.0\n",
      "Veto coincidence per 10b cycle:  1.0\n",
      "Triggers at state control  0\n",
      "Triggers leaving block 0\n",
      "Testing Antenna 48\n",
      "Core coincidence per 10b cycle:  1.0\n",
      "Veto coincidence per 10b cycle:  1.0\n",
      "Triggers at state control  0\n",
      "Triggers leaving block 0\n",
      "Testing Antenna 49\n",
      "Core coincidence per 10b cycle:  1.0\n",
      "Veto coincidence per 10b cycle:  1.0\n",
      "Triggers at state control  0\n",
      "Triggers leaving block 0\n",
      "Testing Antenna 50\n",
      "Core coincidence per 10b cycle:  1.0\n",
      "Veto coincidence per 10b cycle:  1.0\n",
      "Triggers at state control  0\n",
      "Triggers leaving block 0\n",
      "Testing Antenna 51\n",
      "Core coincidence per 10b cycle:  1.0\n",
      "Veto coincidence per 10b cycle:  1.0\n",
      "Triggers at state control  0\n",
      "Triggers leaving block 0\n",
      "Testing Antenna 52\n",
      "Core coincidence per 10b cycle:  1.0\n",
      "Veto coincidence per 10b cycle:  1.0\n",
      "Triggers at state control  0\n",
      "Triggers leaving block 0\n",
      "Testing Antenna 53\n",
      "Core coincidence per 10b cycle:  1.0\n",
      "Veto coincidence per 10b cycle:  1.0\n",
      "Triggers at state control  0\n",
      "Triggers leaving block 0\n",
      "Testing Antenna 54\n",
      "Core coincidence per 10b cycle:  1.0\n",
      "Veto coincidence per 10b cycle:  1.0\n",
      "Triggers at state control  0\n",
      "Triggers leaving block 0\n",
      "Testing Antenna 55\n",
      "Core coincidence per 10b cycle:  1.0\n",
      "Veto coincidence per 10b cycle:  1.0\n",
      "Triggers at state control  0\n",
      "Triggers leaving block 0\n",
      "Testing Antenna 56\n"
     ]
    },
    {
     "name": "stdout",
     "output_type": "stream",
     "text": [
      "Core coincidence per 10b cycle:  1.0\n",
      "Veto coincidence per 10b cycle:  1.0\n",
      "Triggers at state control  0\n",
      "Triggers leaving block 0\n",
      "Testing Antenna 57\n",
      "Core coincidence per 10b cycle:  1.0\n",
      "Veto coincidence per 10b cycle:  1.0\n",
      "Triggers at state control  0\n",
      "Triggers leaving block 0\n",
      "Testing Antenna 58\n",
      "Core coincidence per 10b cycle:  1.0\n",
      "Veto coincidence per 10b cycle:  1.0\n",
      "Triggers at state control  0\n",
      "Triggers leaving block 0\n",
      "Testing Antenna 59\n",
      "Core coincidence per 10b cycle:  1.0\n",
      "Veto coincidence per 10b cycle:  1.0\n",
      "Triggers at state control  0\n",
      "Triggers leaving block 0\n",
      "Testing Antenna 60\n",
      "Core coincidence per 10b cycle:  1.0\n",
      "Veto coincidence per 10b cycle:  1.0\n",
      "Triggers at state control  0\n",
      "Triggers leaving block 0\n",
      "Testing Antenna 61\n",
      "Core coincidence per 10b cycle:  1.0\n",
      "Veto coincidence per 10b cycle:  1.0\n",
      "Triggers at state control  0\n",
      "Triggers leaving block 0\n",
      "Testing Antenna 62\n",
      "Core coincidence per 10b cycle:  1.0\n",
      "Veto coincidence per 10b cycle:  1.0\n",
      "Triggers at state control  0\n",
      "Triggers leaving block 0\n",
      "Testing Antenna 63\n",
      "Core coincidence per 10b cycle:  1.0\n",
      "Veto coincidence per 10b cycle:  1.0\n",
      "Triggers at state control  0\n",
      "Triggers leaving block 0\n"
     ]
    }
   ],
   "source": [
    "for i in range(64):\n",
    "    print(\"Testing Antenna \" + str(i))\n",
    "    core_roles_array=np.ones(64,dtype=int)\n",
    "    veto_roles_array=np.ones(64,dtype=int)\n",
    "    core_roles_array[i]=0\n",
    "    veto_roles_array[i]=0\n",
    "    delays=np.zeros(64,dtype=int)\n",
    "    delays[i]=100\n",
    "    test_coincidencer(casperbrd,trigger_power_thresh,veto_power_thresh,trigger_window,veto_window,antenna_number_thresh,veto_number_thresh,delays,core_roles_array,veto_roles_array)\n"
   ]
  },
  {
   "cell_type": "code",
   "execution_count": 23,
   "metadata": {},
   "outputs": [
    {
     "name": "stdout",
     "output_type": "stream",
     "text": [
      "0b11111111111111111111111111111111\n",
      "0b11111111111111111111111111111110\n",
      "0b11111111111111111111111111111111\n",
      "0b11111111111111111111111111111110\n"
     ]
    }
   ],
   "source": [
    "triggerantennas1=getvalue(casperbrd,'trigger_antennas1','cr_registers.xlsx')\n",
    "print(bin(triggerantennas1))\n",
    "triggerantennas2=getvalue(casperbrd,'trigger_antennas2','cr_registers.xlsx')\n",
    "print(bin(triggerantennas2))\n",
    "\n",
    "\n",
    "vetoantennas1=getvalue(casperbrd,'veto_antennas1','cr_registers.xlsx')\n",
    "print(bin(vetoantennas1))\n",
    "vetoantennas2=getvalue(casperbrd,'veto_antennas2','cr_registers.xlsx')\n",
    "print(bin(vetoantennas2))\n"
   ]
  },
  {
   "cell_type": "markdown",
   "metadata": {},
   "source": [
    "The bit-order problem with the packantennaroles function appears to be resolved successfully.  "
   ]
  },
  {
   "cell_type": "code",
   "execution_count": null,
   "metadata": {},
   "outputs": [],
   "source": []
  },
  {
   "cell_type": "markdown",
   "metadata": {},
   "source": [
    "## Simple tests"
   ]
  },
  {
   "cell_type": "code",
   "execution_count": 24,
   "metadata": {},
   "outputs": [
    {
     "name": "stdout",
     "output_type": "stream",
     "text": [
      "Core coincidence per 10b cycle:  1.0\n",
      "Veto coincidence per 10b cycle:  0.0\n",
      "Triggers at state control  544815\n",
      "Triggers leaving block 538430\n",
      "Core coincidence per 10b cycle:  1.0\n",
      "Veto coincidence per 10b cycle:  0.0\n",
      "Triggers at state control  544992\n",
      "Triggers leaving block 537906\n",
      "Core coincidence per 10b cycle:  0.0\n",
      "Veto coincidence per 10b cycle:  0.0\n",
      "Triggers at state control  0\n",
      "Triggers leaving block 0\n",
      "Core coincidence per 10b cycle:  0.0\n",
      "Veto coincidence per 10b cycle:  0.0\n",
      "Triggers at state control  0\n",
      "Triggers leaving block 0\n",
      "Core coincidence per 10b cycle:  0.0\n",
      "Veto coincidence per 10b cycle:  0.0\n",
      "Triggers at state control  0\n",
      "Triggers leaving block 0\n"
     ]
    }
   ],
   "source": [
    "#no veto antennas used, only trigger\n",
    "trigger_power_thresh=511**2\n",
    "veto_power_thresh=511**2\n",
    "core_roles_array=np.zeros(64,dtype=int)\n",
    "core_roles_array[0:2]=1\n",
    "veto_roles_array=np.zeros(64,dtype=int)\n",
    "antenna_number_thresh=1\n",
    "veto_number_thresh=0\n",
    "veto_window=0\n",
    "\n",
    "trigger_window=10\n",
    "delays=np.zeros(64,dtype=int)\n",
    "delays[0]=1\n",
    "delays[1]=2 \n",
    "\n",
    "test_coincidencer(casperbrd,trigger_power_thresh,veto_power_thresh,trigger_window,veto_window,antenna_number_thresh,veto_number_thresh,delays,core_roles_array,veto_roles_array)\n",
    "\n",
    "delays[1]=8 \n",
    "test_coincidencer(casperbrd,trigger_power_thresh,veto_power_thresh,trigger_window,veto_window,antenna_number_thresh,veto_number_thresh,delays,core_roles_array,veto_roles_array)\n",
    "\n",
    "delays[1]=11 \n",
    "test_coincidencer(casperbrd,trigger_power_thresh,veto_power_thresh,trigger_window,veto_window,antenna_number_thresh,veto_number_thresh,delays,core_roles_array,veto_roles_array)\n",
    "\n",
    "delays[1]=12\n",
    "test_coincidencer(casperbrd,trigger_power_thresh,veto_power_thresh,trigger_window,veto_window,antenna_number_thresh,veto_number_thresh,delays,core_roles_array,veto_roles_array)\n",
    "\n",
    "delays[1]=200\n",
    "test_coincidencer(casperbrd,trigger_power_thresh,veto_power_thresh,trigger_window,veto_window,antenna_number_thresh,veto_number_thresh,delays,core_roles_array,veto_roles_array)\n"
   ]
  },
  {
   "cell_type": "code",
   "execution_count": null,
   "metadata": {},
   "outputs": [],
   "source": []
  },
  {
   "cell_type": "code",
   "execution_count": 42,
   "metadata": {},
   "outputs": [
    {
     "name": "stdout",
     "output_type": "stream",
     "text": [
      "Core coincidence per 10b cycle:  1.0\n",
      "Veto coincidence per 10b cycle:  1.0\n",
      "Triggers at state control  0\n",
      "Triggers leaving block 0\n",
      "Core coincidence per 10b cycle:  1.0\n",
      "Veto coincidence per 10b cycle:  1.0\n",
      "Triggers at state control  0\n",
      "Triggers leaving block 0\n",
      "Core coincidence per 10b cycle:  1.0\n",
      "Veto coincidence per 10b cycle:  0.0\n",
      "Triggers at state control  545614\n",
      "Triggers leaving block 538895\n",
      "Core coincidence per 10b cycle:  1.0\n",
      "Veto coincidence per 10b cycle:  0.0\n",
      "Triggers at state control  544937\n",
      "Triggers leaving block 537858\n",
      "Core coincidence per 10b cycle:  1.0\n",
      "Veto coincidence per 10b cycle:  0.0\n",
      "Triggers at state control  544597\n",
      "Triggers leaving block 538266\n"
     ]
    }
   ],
   "source": [
    "#test the veto by itself. All these have a core trigger.\n",
    "trigger_power_thresh=511**2\n",
    "veto_power_thresh=511**2\n",
    "core_roles_array=np.zeros(64,dtype=int)\n",
    "core_roles_array[0]=1\n",
    "core_roles_array[1]=1\n",
    "veto_roles_array=np.zeros(64,dtype=int)\n",
    "veto_roles_array[2]=1\n",
    "veto_roles_array[3]=1\n",
    "\n",
    "antenna_number_thresh=1\n",
    "veto_number_thresh=1\n",
    "veto_window=15\n",
    "trigger_window=10\n",
    "delays=np.zeros(64,dtype=int)\n",
    "delays[0]=1\n",
    "delays[1]=2 \n",
    "delays[2]=1\n",
    "delays[3]=2 \n",
    "\n",
    "test_coincidencer(casperbrd,trigger_power_thresh,veto_power_thresh,trigger_window,veto_window,antenna_number_thresh,veto_number_thresh,delays,core_roles_array,veto_roles_array)\n",
    "\n",
    "delays[3]=12\n",
    "test_coincidencer(casperbrd,trigger_power_thresh,veto_power_thresh,trigger_window,veto_window,antenna_number_thresh,veto_number_thresh,delays,core_roles_array,veto_roles_array)\n",
    "\n",
    "delays[3]=16\n",
    "test_coincidencer(casperbrd,trigger_power_thresh,veto_power_thresh,trigger_window,veto_window,antenna_number_thresh,veto_number_thresh,delays,core_roles_array,veto_roles_array)\n",
    "\n",
    "delays[3]=20\n",
    "test_coincidencer(casperbrd,trigger_power_thresh,veto_power_thresh,trigger_window,veto_window,antenna_number_thresh,veto_number_thresh,delays,core_roles_array,veto_roles_array)\n",
    "\n",
    "delays[3]=100\n",
    "test_coincidencer(casperbrd,trigger_power_thresh,veto_power_thresh,trigger_window,veto_window,antenna_number_thresh,veto_number_thresh,delays,core_roles_array,veto_roles_array)\n"
   ]
  },
  {
   "cell_type": "code",
   "execution_count": null,
   "metadata": {},
   "outputs": [],
   "source": []
  },
  {
   "cell_type": "code",
   "execution_count": null,
   "metadata": {},
   "outputs": [],
   "source": []
  },
  {
   "cell_type": "code",
   "execution_count": null,
   "metadata": {},
   "outputs": [],
   "source": []
  },
  {
   "cell_type": "code",
   "execution_count": null,
   "metadata": {},
   "outputs": [],
   "source": []
  },
  {
   "cell_type": "code",
   "execution_count": null,
   "metadata": {},
   "outputs": [],
   "source": []
  },
  {
   "cell_type": "markdown",
   "metadata": {},
   "source": [
    "# Main Tests\n",
    "\n",
    "Trigger and veto power thresholds remain 511, and the core and veto number thresholds remain 2 (at least three antennas required).  The core antennas are signals 0, 1, and 2, and the veto antennas are signals 3, 4, 5.  The next sections go through five scenarios with variants.\n",
    "\n",
    "\n",
    "\n",
    "\n"
   ]
  },
  {
   "cell_type": "code",
   "execution_count": 60,
   "metadata": {},
   "outputs": [],
   "source": [
    "\n",
    "trigger_power_thresh=511**2\n",
    "veto_power_thresh=511**2\n",
    "core_roles_array=np.zeros(64,dtype=int)\n",
    "core_roles_array[0:3]=1\n",
    "veto_roles_array=np.zeros(64,dtype=int)\n",
    "veto_roles_array[3:6]=1\n",
    "antenna_number_thresh=2\n",
    "veto_number_thresh=2\n",
    "\n"
   ]
  },
  {
   "cell_type": "markdown",
   "metadata": {},
   "source": [
    "## 1. Veto after Core -- first try"
   ]
  },
  {
   "cell_type": "markdown",
   "metadata": {},
   "source": [
    "### a) Veto long after"
   ]
  },
  {
   "cell_type": "code",
   "execution_count": 46,
   "metadata": {
    "scrolled": false
   },
   "outputs": [
    {
     "name": "stdout",
     "output_type": "stream",
     "text": [
      "1) Expect Trigger is vetoed\n",
      "trigger window:  11 veto window:  511\n",
      "Core coincidence per 10b cycle:  1.0\n",
      "Veto coincidence per 10b cycle:  0.5\n",
      "Triggers at state control  0\n",
      "Triggers leaving block 0\n",
      "\n",
      "trigger window:  50 veto window:  450\n",
      "Core coincidence per 10b cycle:  1.0\n",
      "Veto coincidence per 10b cycle:  1.0\n",
      "Triggers at state control  545336\n",
      "Triggers leaving block 538195\n",
      "\n",
      "trigger window:  100 veto window:  400\n",
      "Core coincidence per 10b cycle:  1.0\n",
      "Veto coincidence per 10b cycle:  1.0\n",
      "Triggers at state control  544798\n",
      "Triggers leaving block 538054\n",
      "\n",
      "trigger window:  200 veto window:  300\n",
      "Core coincidence per 10b cycle:  1.0\n",
      "Veto coincidence per 10b cycle:  1.0\n",
      "Triggers at state control  545545\n",
      "Triggers leaving block 538211\n",
      "\n",
      "trigger window:  300 veto window:  200\n",
      "Core coincidence per 10b cycle:  1.0\n",
      "Veto coincidence per 10b cycle:  1.0\n",
      "Triggers at state control  546150\n",
      "Triggers leaving block 537962\n",
      "\n",
      "trigger window:  400 veto window:  100\n",
      "Core coincidence per 10b cycle:  1.0\n",
      "Veto coincidence per 10b cycle:  1.0\n",
      "Triggers at state control  545623\n",
      "Triggers leaving block 538428\n",
      "\n",
      "trigger window:  500 veto window:  62\n",
      "Core coincidence per 10b cycle:  1.0\n",
      "Veto coincidence per 10b cycle:  1.0\n",
      "Triggers at state control  545729\n",
      "Triggers leaving block 538328\n",
      "\n",
      "\n",
      "2) Expect Veto misses trigger\n",
      "trigger window:  11 veto window:  62\n",
      "Core coincidence per 10b cycle:  1.0\n",
      "Veto coincidence per 10b cycle:  1.0\n",
      "Triggers at state control  545214\n",
      "Triggers leaving block 538001\n",
      "\n",
      "trigger window:  20 veto window:  100\n",
      "Core coincidence per 10b cycle:  1.0\n",
      "Veto coincidence per 10b cycle:  1.0\n",
      "Triggers at state control  545003\n",
      "Triggers leaving block 537897\n",
      "\n",
      "trigger window:  100 veto window:  300\n",
      "Core coincidence per 10b cycle:  1.0\n",
      "Veto coincidence per 10b cycle:  1.0\n",
      "Triggers at state control  545764\n",
      "Triggers leaving block 538759\n",
      "\n",
      "trigger window:  11 veto window:  350\n",
      "Core coincidence per 10b cycle:  1.0\n",
      "Veto coincidence per 10b cycle:  1.0\n",
      "Triggers at state control  545301\n",
      "Triggers leaving block 538453\n",
      "\n",
      "\n",
      "3) Expect No trigger or veto\n",
      "trigger window:  9 veto window:  61\n",
      "Core coincidence per 10b cycle:  0.0\n",
      "Veto coincidence per 10b cycle:  0.0\n",
      "Triggers at state control  0\n",
      "Triggers leaving block 0\n",
      "\n",
      "trigger window:  9 veto window:  60\n",
      "Core coincidence per 10b cycle:  0.0\n",
      "Veto coincidence per 10b cycle:  0.0\n",
      "Triggers at state control  0\n",
      "Triggers leaving block 0\n",
      "\n",
      "trigger window:  2 veto window:  49\n",
      "Core coincidence per 10b cycle:  0.0\n",
      "Veto coincidence per 10b cycle:  0.0\n",
      "Triggers at state control  0\n",
      "Triggers leaving block 0\n",
      "\n",
      "\n"
     ]
    }
   ],
   "source": [
    "delays=np.ones(64,dtype=int)\n",
    "delays[0:6]=[1,5,10,450,500,511] #core antennas are first three, veto antennas are second three\n",
    "set_delays(casperbrd,delays)\n",
    "\n",
    "\n",
    "print(\"1) Expect Trigger is vetoed\")\n",
    "trigger_windows=[11,50,100,200,300,400,500]\n",
    "veto_windows=[511,450,400,300,200,100,62]\n",
    "for i in range(len(trigger_windows)):\n",
    "    trigger_window=trigger_windows[i]\n",
    "    veto_window=veto_windows[i]\n",
    "    print(\"trigger window: \", trigger_window, \"veto window: \", veto_window)\n",
    "    test_coincidencer(casperbrd,trigger_power_thresh,veto_power_thresh,trigger_window,veto_window,antenna_number_thresh,veto_number_thresh,delays,core_roles_array,veto_roles_array)\n",
    "    print('')\n",
    "print('')\n",
    "\n",
    "\n",
    "print(\"2) Expect Veto misses trigger\")\n",
    "trigger_windows=[11,20,100,11]\n",
    "veto_windows=[62,100,300,350]\n",
    "for i in range(len(trigger_windows)):\n",
    "    trigger_window=trigger_windows[i]\n",
    "    veto_window=veto_windows[i]\n",
    "    print(\"trigger window: \", trigger_window, \"veto window: \", veto_window)\n",
    "    test_coincidencer(casperbrd,trigger_power_thresh,veto_power_thresh,trigger_window,veto_window,antenna_number_thresh,veto_number_thresh,delays,core_roles_array,veto_roles_array)\n",
    "    print('')\n",
    "print('')\n",
    "\n",
    "print(\"3) Expect No trigger or veto\")\n",
    "trigger_windows=[9,9,2]\n",
    "veto_windows=[61,60,49]\n",
    "for i in range(len(trigger_windows)):\n",
    "    trigger_window=trigger_windows[i]\n",
    "    veto_window=veto_windows[i]\n",
    "    print(\"trigger window: \", trigger_window, \"veto window: \", veto_window)\n",
    "    test_coincidencer(casperbrd,trigger_power_thresh,veto_power_thresh,trigger_window,veto_window,antenna_number_thresh,veto_number_thresh,delays,core_roles_array,veto_roles_array)\n",
    "    print('')\n",
    "print('')\n"
   ]
  },
  {
   "cell_type": "markdown",
   "metadata": {},
   "source": [
    "### Summary\n",
    "There was always a trigger and a veto when expected and never when not expected.\n",
    "\n",
    "There were some cases where a that should have cancelled a trigger didn't.  This is not a concern for the cases where the trigger window was longer than the veto; the system is known not to work in that scenario and it's not a realistic set up. The problems are these combinations: trigger 50 and veto 450, trigger 100 veto 400, trigger 200 veto 300.\n",
    "\n",
    "### Troubleshooting\n",
    "Is there a specific window length where the veto starts to miss the trigger?"
   ]
  },
  {
   "cell_type": "code",
   "execution_count": 50,
   "metadata": {},
   "outputs": [
    {
     "name": "stdout",
     "output_type": "stream",
     "text": [
      "trigger window:  50 veto window:  460\n",
      "Core coincidence per 10b cycle:  1.0\n",
      "Veto coincidence per 10b cycle:  1.0\n",
      "Triggers at state control  544804\n",
      "Triggers leaving block 538999\n",
      "\n",
      "trigger window:  50 veto window:  470\n",
      "Core coincidence per 10b cycle:  1.0\n",
      "Veto coincidence per 10b cycle:  1.0\n",
      "Triggers at state control  544568\n",
      "Triggers leaving block 537983\n",
      "\n",
      "trigger window:  50 veto window:  480\n",
      "Core coincidence per 10b cycle:  1.0\n",
      "Veto coincidence per 10b cycle:  1.0\n",
      "Triggers at state control  545629\n",
      "Triggers leaving block 537965\n",
      "\n",
      "trigger window:  50 veto window:  490\n",
      "Core coincidence per 10b cycle:  1.0\n",
      "Veto coincidence per 10b cycle:  1.0\n",
      "Triggers at state control  544854\n",
      "Triggers leaving block 537840\n",
      "\n",
      "trigger window:  50 veto window:  500\n",
      "Core coincidence per 10b cycle:  1.0\n",
      "Veto coincidence per 10b cycle:  1.0\n",
      "Triggers at state control  545079\n",
      "Triggers leaving block 538020\n",
      "\n",
      "trigger window:  50 veto window:  501\n",
      "Core coincidence per 10b cycle:  1.0\n",
      "Veto coincidence per 10b cycle:  1.0\n",
      "Triggers at state control  545002\n",
      "Triggers leaving block 537972\n",
      "\n",
      "\n"
     ]
    }
   ],
   "source": [
    "#delays[0:6]=[1,5,10,450,500,511] #core antennas are first three, veto antennas are second three\n",
    "#trigger_windows=[50,100,200]\n",
    "#veto_windows=[450,400,300]\n",
    "\n",
    "trigger_windows=[50,50,50,50,50,50]\n",
    "veto_windows=[460,470,480,490,500,501]\n",
    "for i in range(len(trigger_windows)):\n",
    "    trigger_window=trigger_windows[i]\n",
    "    veto_window=veto_windows[i]\n",
    "    print(\"trigger window: \", trigger_window, \"veto window: \", veto_window)\n",
    "    test_coincidencer(casperbrd,trigger_power_thresh,veto_power_thresh,trigger_window,veto_window,antenna_number_thresh,veto_number_thresh,delays,core_roles_array,veto_roles_array)\n",
    "    print('')\n",
    "print('')\n"
   ]
  },
  {
   "cell_type": "code",
   "execution_count": 51,
   "metadata": {},
   "outputs": [
    {
     "name": "stdout",
     "output_type": "stream",
     "text": [
      "trigger window:  50 veto window:  501\n",
      "Core coincidence per 10b cycle:  1.0\n",
      "Veto coincidence per 10b cycle:  1.0\n",
      "Triggers at state control  545258\n",
      "Triggers leaving block 538208\n",
      "\n",
      "trigger window:  50 veto window:  502\n",
      "Core coincidence per 10b cycle:  1.0\n",
      "Veto coincidence per 10b cycle:  1.0\n",
      "Triggers at state control  544368\n",
      "Triggers leaving block 538298\n",
      "\n",
      "trigger window:  50 veto window:  503\n",
      "Core coincidence per 10b cycle:  1.0\n",
      "Veto coincidence per 10b cycle:  1.0\n",
      "Triggers at state control  0\n",
      "Triggers leaving block 0\n",
      "\n",
      "trigger window:  50 veto window:  504\n",
      "Core coincidence per 10b cycle:  1.0\n",
      "Veto coincidence per 10b cycle:  1.0\n",
      "Triggers at state control  0\n",
      "Triggers leaving block 0\n",
      "\n",
      "trigger window:  50 veto window:  505\n",
      "Core coincidence per 10b cycle:  1.0\n",
      "Veto coincidence per 10b cycle:  1.0\n",
      "Triggers at state control  0\n",
      "Triggers leaving block 0\n",
      "\n",
      "trigger window:  50 veto window:  506\n",
      "Core coincidence per 10b cycle:  1.0\n",
      "Veto coincidence per 10b cycle:  1.0\n",
      "Triggers at state control  0\n",
      "Triggers leaving block 0\n",
      "\n",
      "\n"
     ]
    }
   ],
   "source": [
    "trigger_windows=[50,50,50,50,50,50]\n",
    "veto_windows=[501,502,503,504,505,506]\n",
    "for i in range(len(trigger_windows)):\n",
    "    trigger_window=trigger_windows[i]\n",
    "    veto_window=veto_windows[i]\n",
    "    print(\"trigger window: \", trigger_window, \"veto window: \", veto_window)\n",
    "    test_coincidencer(casperbrd,trigger_power_thresh,veto_power_thresh,trigger_window,veto_window,antenna_number_thresh,veto_number_thresh,delays,core_roles_array,veto_roles_array)\n",
    "    print('')\n",
    "print('')"
   ]
  },
  {
   "cell_type": "markdown",
   "metadata": {},
   "source": [
    "Conclusion:  I was calculating the time between core and veto wrong.  If the veto requires Nv antennas and the core requires Nc antennas, then the veto cancels the core if $ |t_{nv} - t_{nc}| < W_v $ where $W_v$ is the veto window, $t_{nc}$ is the time that the $Nc^{th}$ core antenna receives the signal, and t_{nv} is the time that the $Nv^{th}$ veto antenna receives the signal. Note LESS than not less or equal to."
   ]
  },
  {
   "cell_type": "markdown",
   "metadata": {},
   "source": [
    "## Veto after Core\n",
    "### a) Veto long after"
   ]
  },
  {
   "cell_type": "code",
   "execution_count": 61,
   "metadata": {},
   "outputs": [
    {
     "name": "stdout",
     "output_type": "stream",
     "text": [
      "1) Expect Trigger is vetoed\n",
      "trigger window:  11 veto window:  511\n",
      "Core coincidence per 10b cycle:  1.0\n",
      "Veto coincidence per 10b cycle:  0.5\n",
      "Triggers at state control  0\n",
      "Triggers leaving block 0\n",
      "\n",
      "trigger window:  11 veto window:  502\n",
      "Core coincidence per 10b cycle:  1.0\n",
      "Veto coincidence per 10b cycle:  1.0\n",
      "Triggers at state control  545577\n",
      "Triggers leaving block 538007\n",
      "\n",
      "trigger window:  100 veto window:  505\n",
      "Core coincidence per 10b cycle:  1.0\n",
      "Veto coincidence per 10b cycle:  1.0\n",
      "Triggers at state control  0\n",
      "Triggers leaving block 0\n",
      "\n",
      "trigger window:  100 veto window:  502\n",
      "Core coincidence per 10b cycle:  1.0\n",
      "Veto coincidence per 10b cycle:  1.0\n",
      "Triggers at state control  544962\n",
      "Triggers leaving block 538828\n",
      "\n",
      "trigger window:  300 veto window:  502\n",
      "Core coincidence per 10b cycle:  1.0\n",
      "Veto coincidence per 10b cycle:  1.0\n",
      "Triggers at state control  544664\n",
      "Triggers leaving block 538484\n",
      "\n",
      "\n",
      "2) Expect Veto misses trigger\n",
      "trigger window:  11 veto window:  62\n",
      "Core coincidence per 10b cycle:  1.0\n",
      "Veto coincidence per 10b cycle:  1.0\n",
      "Triggers at state control  545582\n",
      "Triggers leaving block 538459\n",
      "\n",
      "trigger window:  11 veto window:  501\n",
      "Core coincidence per 10b cycle:  1.0\n",
      "Veto coincidence per 10b cycle:  1.0\n",
      "Triggers at state control  545402\n",
      "Triggers leaving block 538840\n",
      "\n",
      "trigger window:  100 veto window:  501\n",
      "Core coincidence per 10b cycle:  1.0\n",
      "Veto coincidence per 10b cycle:  1.0\n",
      "Triggers at state control  544639\n",
      "Triggers leaving block 538015\n",
      "\n",
      "trigger window:  300 veto window:  501\n",
      "Core coincidence per 10b cycle:  1.0\n",
      "Veto coincidence per 10b cycle:  1.0\n",
      "Triggers at state control  544951\n",
      "Triggers leaving block 538625\n",
      "\n",
      "trigger window:  300 veto window:  350\n",
      "Core coincidence per 10b cycle:  1.0\n",
      "Veto coincidence per 10b cycle:  1.0\n",
      "Triggers at state control  545102\n",
      "Triggers leaving block 538492\n",
      "\n",
      "\n",
      "3) Expect No trigger or veto\n",
      "trigger window:  9 veto window:  61\n",
      "Core coincidence per 10b cycle:  0.0\n",
      "Veto coincidence per 10b cycle:  0.0\n",
      "Triggers at state control  0\n",
      "Triggers leaving block 0\n",
      "\n",
      "trigger window:  9 veto window:  60\n",
      "Core coincidence per 10b cycle:  0.0\n",
      "Veto coincidence per 10b cycle:  0.0\n",
      "Triggers at state control  0\n",
      "Triggers leaving block 0\n",
      "\n",
      "trigger window:  2 veto window:  49\n",
      "Core coincidence per 10b cycle:  0.0\n",
      "Veto coincidence per 10b cycle:  0.0\n",
      "Triggers at state control  0\n",
      "Triggers leaving block 0\n",
      "\n",
      "\n"
     ]
    }
   ],
   "source": [
    "delays=np.ones(64,dtype=int)\n",
    "delays[0:6]=[1,5,10,450,500,511] #core antennas are first three, veto antennas are second three\n",
    "set_delays(casperbrd,delays)\n",
    "\n",
    "\n",
    "print(\"1) Expect Trigger is vetoed\")\n",
    "trigger_windows=[11,11,100,100,300]\n",
    "veto_windows=[511,502,505,502,502]\n",
    "for i in range(len(trigger_windows)):\n",
    "    trigger_window=trigger_windows[i]\n",
    "    veto_window=veto_windows[i]\n",
    "    print(\"trigger window: \", trigger_window, \"veto window: \", veto_window)\n",
    "    test_coincidencer(casperbrd,trigger_power_thresh,veto_power_thresh,trigger_window,veto_window,antenna_number_thresh,veto_number_thresh,delays,core_roles_array,veto_roles_array)\n",
    "    print('')\n",
    "print('')\n",
    "\n",
    "\n",
    "print(\"2) Expect Veto misses trigger\")\n",
    "trigger_windows=[11,11,100,300,300]\n",
    "veto_windows=[62,501,501,501,350]\n",
    "for i in range(len(trigger_windows)):\n",
    "    trigger_window=trigger_windows[i]\n",
    "    veto_window=veto_windows[i]\n",
    "    print(\"trigger window: \", trigger_window, \"veto window: \", veto_window)\n",
    "    test_coincidencer(casperbrd,trigger_power_thresh,veto_power_thresh,trigger_window,veto_window,antenna_number_thresh,veto_number_thresh,delays,core_roles_array,veto_roles_array)\n",
    "    print('')\n",
    "print('')\n",
    "\n",
    "print(\"3) Expect No trigger or veto\")\n",
    "trigger_windows=[9,9,2]\n",
    "veto_windows=[61,60,49]\n",
    "for i in range(len(trigger_windows)):\n",
    "    trigger_window=trigger_windows[i]\n",
    "    veto_window=veto_windows[i]\n",
    "    print(\"trigger window: \", trigger_window, \"veto window: \", veto_window)\n",
    "    test_coincidencer(casperbrd,trigger_power_thresh,veto_power_thresh,trigger_window,veto_window,antenna_number_thresh,veto_number_thresh,delays,core_roles_array,veto_roles_array)\n",
    "    print('')\n",
    "print('')\n"
   ]
  },
  {
   "cell_type": "markdown",
   "metadata": {},
   "source": [
    "### b) Veto Soon after"
   ]
  },
  {
   "cell_type": "markdown",
   "metadata": {},
   "source": [
    "### c) Veto widely arranged"
   ]
  },
  {
   "cell_type": "markdown",
   "metadata": {},
   "source": [
    "## 2. Veto before core"
   ]
  },
  {
   "cell_type": "markdown",
   "metadata": {},
   "source": [
    "### a) Veto long before\n"
   ]
  },
  {
   "cell_type": "markdown",
   "metadata": {},
   "source": [
    "### b) Veto soon before"
   ]
  },
  {
   "cell_type": "markdown",
   "metadata": {},
   "source": [
    "### c) Veto widely arranged"
   ]
  },
  {
   "cell_type": "markdown",
   "metadata": {},
   "source": [
    "## 3. Veto antennas on either side of core"
   ]
  },
  {
   "cell_type": "markdown",
   "metadata": {},
   "source": [
    "## 4. Veto antennas on either side and among core"
   ]
  },
  {
   "cell_type": "markdown",
   "metadata": {},
   "source": [
    "## 5. Veto antennas among core"
   ]
  },
  {
   "cell_type": "markdown",
   "metadata": {},
   "source": [
    "## Match the Simulink tests\n",
    "Repeating all the tests in the August 23 Evernote note, but with the real system instead of Simulink.\n",
    "\n",
    "A couple modifications to make an analogous test work with the 10 bit counter as signal:\n",
    "\n",
    "--Voltage thresholds are always 511.\n",
    "--Delays are 100,110,115,117,120 instead of 1000,1010,1015,1017,1020\n",
    "\n"
   ]
  },
  {
   "cell_type": "code",
   "execution_count": 188,
   "metadata": {},
   "outputs": [
    {
     "data": {
      "text/plain": [
       "'delays=np.ones(64,dtype=int)\\ndelays[0:5]=[100,110,115,117,120] #core antennas are first three, veto antennas are second three\\ntrigger_power_thresh=511**2\\nveto_power_thresh=511**2'"
      ]
     },
     "execution_count": 188,
     "metadata": {},
     "output_type": "execute_result"
    }
   ],
   "source": [
    "'''delays=np.ones(64,dtype=int)\n",
    "delays[0:5]=[100,110,115,117,120] #core antennas are first three, veto antennas are second three\n",
    "trigger_power_thresh=511**2\n",
    "veto_power_thresh=511**2'''"
   ]
  },
  {
   "cell_type": "markdown",
   "metadata": {},
   "source": [
    "### Test A"
   ]
  },
  {
   "cell_type": "code",
   "execution_count": 190,
   "metadata": {},
   "outputs": [
    {
     "data": {
      "text/plain": [
       "'\\ncore_roles_array=np.zeros(64,dtype=int)\\ncore_roles_array[0:2]=1\\nveto_roles_array=np.zeros(64,dtype=int)\\nveto_roles_array[2:5]=1\\nantenna_number_thresh=0\\nveto_number_thresh=0\\ntrigger_window=20\\nveto_window=7\\ntest_coincidencer(casperbrd,trigger_power_thresh,veto_power_thresh,trigger_window,veto_window,antenna_number_thresh,veto_number_thresh,delays,core_roles_array,veto_roles_array)\\n'"
      ]
     },
     "execution_count": 190,
     "metadata": {},
     "output_type": "execute_result"
    }
   ],
   "source": [
    "'''\n",
    "core_roles_array=np.zeros(64,dtype=int)\n",
    "core_roles_array[0:2]=1\n",
    "veto_roles_array=np.zeros(64,dtype=int)\n",
    "veto_roles_array[2:5]=1\n",
    "antenna_number_thresh=0\n",
    "veto_number_thresh=0\n",
    "trigger_window=20\n",
    "veto_window=7\n",
    "test_coincidencer(casperbrd,trigger_power_thresh,veto_power_thresh,trigger_window,veto_window,antenna_number_thresh,veto_number_thresh,delays,core_roles_array,veto_roles_array)\n",
    "'''"
   ]
  },
  {
   "cell_type": "markdown",
   "metadata": {},
   "source": [
    "Result:  There was a core and veto coincidence, matching the simulation, however there is no final trigger."
   ]
  },
  {
   "cell_type": "markdown",
   "metadata": {},
   "source": [
    "### Test B"
   ]
  },
  {
   "cell_type": "code",
   "execution_count": 191,
   "metadata": {},
   "outputs": [
    {
     "data": {
      "text/plain": [
       "'core_roles_array=np.zeros(64,dtype=int)\\ncore_roles_array[0:2]=1\\nveto_roles_array=np.zeros(64,dtype=int)\\nveto_roles_array[2:5]=1\\nantenna_number_thresh=0\\nveto_number_thresh=0\\ntrigger_window=7\\nveto_window=20\\ntest_coincidencer(casperbrd,trigger_power_thresh,veto_power_thresh,trigger_window,veto_window,antenna_number_thresh,veto_number_thresh,delays,core_roles_array,veto_roles_array)\\n'"
      ]
     },
     "execution_count": 191,
     "metadata": {},
     "output_type": "execute_result"
    }
   ],
   "source": [
    "'''core_roles_array=np.zeros(64,dtype=int)\n",
    "core_roles_array[0:2]=1\n",
    "veto_roles_array=np.zeros(64,dtype=int)\n",
    "veto_roles_array[2:5]=1\n",
    "antenna_number_thresh=0\n",
    "veto_number_thresh=0\n",
    "trigger_window=7\n",
    "veto_window=20\n",
    "test_coincidencer(casperbrd,trigger_power_thresh,veto_power_thresh,trigger_window,veto_window,antenna_number_thresh,veto_number_thresh,delays,core_roles_array,veto_roles_array)\n",
    "'''"
   ]
  },
  {
   "cell_type": "markdown",
   "metadata": {},
   "source": [
    "Result:  Core and Veto both had a coincidence, with no final trigger, as expected and matching simulation."
   ]
  },
  {
   "cell_type": "markdown",
   "metadata": {},
   "source": [
    "### Test C"
   ]
  },
  {
   "cell_type": "code",
   "execution_count": 192,
   "metadata": {},
   "outputs": [
    {
     "data": {
      "text/plain": [
       "'core_roles_array=np.zeros(64,dtype=int)\\ncore_roles_array[0:2]=1\\nveto_roles_array=np.zeros(64,dtype=int)\\nveto_roles_array[2:5]=1\\nantenna_number_thresh=1\\nveto_number_thresh=1\\ntrigger_window=11\\nveto_window=20\\ntest_coincidencer(casperbrd,trigger_power_thresh,veto_power_thresh,trigger_window,veto_window,antenna_number_thresh,veto_number_thresh,delays,core_roles_array,veto_roles_array)\\n'"
      ]
     },
     "execution_count": 192,
     "metadata": {},
     "output_type": "execute_result"
    }
   ],
   "source": [
    "'''core_roles_array=np.zeros(64,dtype=int)\n",
    "core_roles_array[0:2]=1\n",
    "veto_roles_array=np.zeros(64,dtype=int)\n",
    "veto_roles_array[2:5]=1\n",
    "antenna_number_thresh=1\n",
    "veto_number_thresh=1\n",
    "trigger_window=11\n",
    "veto_window=20\n",
    "test_coincidencer(casperbrd,trigger_power_thresh,veto_power_thresh,trigger_window,veto_window,antenna_number_thresh,veto_number_thresh,delays,core_roles_array,veto_roles_array)\n",
    "'''"
   ]
  },
  {
   "cell_type": "markdown",
   "metadata": {},
   "source": [
    "Result:  Core and Veto both had a coincidence, with no final trigger, as expected and matching simulation."
   ]
  },
  {
   "cell_type": "markdown",
   "metadata": {},
   "source": [
    "### Test D"
   ]
  },
  {
   "cell_type": "code",
   "execution_count": 193,
   "metadata": {},
   "outputs": [
    {
     "data": {
      "text/plain": [
       "'core_roles_array=np.zeros(64,dtype=int)\\ncore_roles_array[0:2]=1\\nveto_roles_array=np.zeros(64,dtype=int)\\nveto_roles_array[2:5]=1\\nantenna_number_thresh=1\\nveto_number_thresh=1\\ntrigger_window=11\\nveto_window=12\\ntest_coincidencer(casperbrd,trigger_power_thresh,veto_power_thresh,trigger_window,veto_window,antenna_number_thresh,veto_number_thresh,delays,core_roles_array,veto_roles_array)\\n'"
      ]
     },
     "execution_count": 193,
     "metadata": {},
     "output_type": "execute_result"
    }
   ],
   "source": [
    "'''core_roles_array=np.zeros(64,dtype=int)\n",
    "core_roles_array[0:2]=1\n",
    "veto_roles_array=np.zeros(64,dtype=int)\n",
    "veto_roles_array[2:5]=1\n",
    "antenna_number_thresh=1\n",
    "veto_number_thresh=1\n",
    "trigger_window=11\n",
    "veto_window=12\n",
    "test_coincidencer(casperbrd,trigger_power_thresh,veto_power_thresh,trigger_window,veto_window,antenna_number_thresh,veto_number_thresh,delays,core_roles_array,veto_roles_array)\n",
    "'''"
   ]
  },
  {
   "cell_type": "markdown",
   "metadata": {},
   "source": [
    "Result:  Core and Veto both had a coincidence, with no final trigger, as expected and matching simulation."
   ]
  },
  {
   "cell_type": "markdown",
   "metadata": {},
   "source": [
    "### Test E"
   ]
  },
  {
   "cell_type": "code",
   "execution_count": 194,
   "metadata": {},
   "outputs": [
    {
     "data": {
      "text/plain": [
       "'core_roles_array=np.zeros(64,dtype=int)\\ncore_roles_array[2:5]=1\\nveto_roles_array=np.zeros(64,dtype=int)\\nveto_roles_array[0:2]=1\\nantenna_number_thresh=1\\nveto_number_thresh=1\\ntrigger_window=11\\nveto_window=12\\ntest_coincidencer(casperbrd,trigger_power_thresh,veto_power_thresh,trigger_window,veto_window,antenna_number_thresh,veto_number_thresh,delays,core_roles_array,veto_roles_array)\\n'"
      ]
     },
     "execution_count": 194,
     "metadata": {},
     "output_type": "execute_result"
    }
   ],
   "source": [
    "'''core_roles_array=np.zeros(64,dtype=int)\n",
    "core_roles_array[2:5]=1\n",
    "veto_roles_array=np.zeros(64,dtype=int)\n",
    "veto_roles_array[0:2]=1\n",
    "antenna_number_thresh=1\n",
    "veto_number_thresh=1\n",
    "trigger_window=11\n",
    "veto_window=12\n",
    "test_coincidencer(casperbrd,trigger_power_thresh,veto_power_thresh,trigger_window,veto_window,antenna_number_thresh,veto_number_thresh,delays,core_roles_array,veto_roles_array)\n",
    "'''"
   ]
  },
  {
   "cell_type": "markdown",
   "metadata": {},
   "source": [
    "Result:  Core and Veto both had a coincidence, with no final trigger, but the simulation did have a final trigger."
   ]
  },
  {
   "cell_type": "markdown",
   "metadata": {},
   "source": [
    "### Is there a trigger when I turn off the veto?"
   ]
  },
  {
   "cell_type": "code",
   "execution_count": 195,
   "metadata": {},
   "outputs": [
    {
     "data": {
      "text/plain": [
       "'core_roles_array=np.zeros(64,dtype=int)\\ncore_roles_array[0:3]=1\\nveto_roles_array=np.zeros(64,dtype=int)\\ntrigger_window=11\\nveto_window=100\\ntest_coincidencer(casperbrd,trigger_power_thresh,veto_power_thresh,trigger_window,veto_window,antenna_number_thresh,veto_number_thresh,delays,core_roles_array,veto_roles_array)\\n'"
      ]
     },
     "execution_count": 195,
     "metadata": {},
     "output_type": "execute_result"
    }
   ],
   "source": [
    "'''core_roles_array=np.zeros(64,dtype=int)\n",
    "core_roles_array[0:3]=1\n",
    "veto_roles_array=np.zeros(64,dtype=int)\n",
    "trigger_window=11\n",
    "veto_window=100\n",
    "test_coincidencer(casperbrd,trigger_power_thresh,veto_power_thresh,trigger_window,veto_window,antenna_number_thresh,veto_number_thresh,delays,core_roles_array,veto_roles_array)\n",
    "'''"
   ]
  },
  {
   "cell_type": "markdown",
   "metadata": {},
   "source": [
    "## More NOtes\n",
    "Antenna number thresholds are greater than. If 3 is set to the register, then four antennas are the minimum for a trigger."
   ]
  },
  {
   "cell_type": "code",
   "execution_count": null,
   "metadata": {},
   "outputs": [],
   "source": []
  },
  {
   "cell_type": "code",
   "execution_count": null,
   "metadata": {},
   "outputs": [],
   "source": []
  }
 ],
 "metadata": {
  "kernelspec": {
   "display_name": "Python 3",
   "language": "python",
   "name": "python3"
  },
  "language_info": {
   "codemirror_mode": {
    "name": "ipython",
    "version": 3
   },
   "file_extension": ".py",
   "mimetype": "text/x-python",
   "name": "python",
   "nbconvert_exporter": "python",
   "pygments_lexer": "ipython3",
   "version": "3.6.10"
  }
 },
 "nbformat": 4,
 "nbformat_minor": 4
}
