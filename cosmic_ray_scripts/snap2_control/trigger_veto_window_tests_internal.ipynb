{
 "cells": [
  {
   "cell_type": "code",
   "execution_count": 152,
   "metadata": {},
   "outputs": [],
   "source": [
    "import matplotlib.pyplot as plt\n",
    "import numpy as np\n",
    "import casperfpga\n",
    "import time\n",
    "from lwa_f import snap2_fengine\n",
    "from lwa_f import blocks\n",
    "from lwautils import lwa_arx \n",
    "import pandas as pd\n",
    "from cr_functions import *\n",
    "import struct\n",
    "import math\n",
    "from scipy import special as sp\n",
    "from scipy import optimize as oz\n",
    "from scipy import stats as st\n"
   ]
  },
  {
   "cell_type": "markdown",
   "metadata": {},
   "source": [
    "## Summary"
   ]
  },
  {
   "cell_type": "markdown",
   "metadata": {},
   "source": [
    "This notebook tests the trigger and veto logic with internally-generated signals. The following tests are carried out. See the requirements document for more details.  The September 14 version of the firmware passes all the tests except that ethernet data capture does not work.\n",
    "\n",
    "### Contents \n",
    "1. Functions and Setup\n",
    "2. Initial test without delays\n",
    "3. Use a snapshot to test that I'm writing delays to the correct antennas\n",
    "4. Test that antenna roles are set to the correct channels\n",
    "5. Simple tests of trigger and veto individually\n",
    "6. Main tests-- see requirements document for discription of scenarios\n",
    "7. Match simulink tests\n",
    "8. Test readout over ethernet from internal trigger.\n",
    "\n",
    "\n",
    "##### Here are some notes for building towards an observing setup script.\n",
    "1. Set the delays with the setdelays function.\n",
    "2. Set up the trigger and veto parameters with the setup_coincidencer function.\n",
    "3. Do the ethernet setup and enabling.\n",
    "4. Enable the coincidence trigger.\n",
    "5. Remember to turn the coincidencer off before sending a pulse from software.\n",
    "\n",
    "\n",
    "TO DO:\n",
    "\n",
    "\n",
    "Internally-triggered ethernet readout is not yet tested. "
   ]
  },
  {
   "cell_type": "markdown",
   "metadata": {},
   "source": [
    "## Functions setup"
   ]
  },
  {
   "cell_type": "code",
   "execution_count": 153,
   "metadata": {},
   "outputs": [],
   "source": [
    "def test_coincidencer(casperbrd,trigger_power_thresh,\n",
    "                      veto_power_thresh,\n",
    "                      trigger_window,\n",
    "                      veto_window,\n",
    "                      antenna_number_thresh,\n",
    "                      veto_number_thresh,\n",
    "                      delays,\n",
    "                      core_roles_array,\n",
    "                      veto_roles_array):\n",
    "\n",
    "    setup_coincidencer(casperbrd,trigger_power_thresh,\n",
    "                          veto_power_thresh,\n",
    "                          trigger_window,\n",
    "                          veto_window,\n",
    "                          antenna_number_thresh,\n",
    "                          veto_number_thresh,\n",
    "                          core_roles_array,\n",
    "                          veto_roles_array)\n",
    "    set_delays(casperbrd,delays)\n",
    "\n",
    "    # reset trigger counter\n",
    "    setvalue(casperbrd,\"trig_debug_reset\",\"cr_registers.xlsx\",1)\n",
    "    time.sleep(0.003)\n",
    "    setvalue(casperbrd,\"trig_debug_reset\",\"cr_registers.xlsx\",0)\n",
    "    internal_trigger_count1=getvalue(casperbrd,\"internal_trigger_count\",\"cr_registers.xlsx\")\n",
    "\n",
    "    time.sleep(2.75)  #have to wait for it to update\n",
    "    trigger_count=getvalue(casperbrd,\"count_triggers\",\"cr_registers.xlsx\")\n",
    "    internal_trigger_count2=getvalue(casperbrd,\"internal_trigger_count\",\"cr_registers.xlsx\")\n",
    "    triggers_leaving_block=(internal_trigger_count2-internal_trigger_count1)\n",
    "    veto_coincidence,core_coincidence=struct.unpack('>2l',casperbrd.read(\"cosmic_ray_core_and_veto_rate\",2*4,0))\n",
    "    #internal_triggers=struct.unpack('>2l',casperbrd.read(\"cosmic_ray_internal_trigger_rate\",2*4,0)) #does not work.\n",
    "    print(\"Core coincidence per 10b cycle: \", core_coincidence/262144.)\n",
    "    print(\"Veto coincidence per 10b cycle: \", veto_coincidence/262144.)\n",
    "    print(\"Triggers at state control \",trigger_count)\n",
    "    #print(\"Triggers leaving coincidence_trigger block per cycle\", internal_triggers) #bram counter doesn't work\n",
    "    print(\"Triggers leaving block\", triggers_leaving_block)\n",
    "\n",
    "    return"
   ]
  },
  {
   "cell_type": "code",
   "execution_count": 154,
   "metadata": {},
   "outputs": [
    {
     "name": "stdout",
     "output_type": "stream",
     "text": [
      "2022-12-31 20:20:31,561 - lwa_f.blocks.block:snap01 - INFO - adc - Detected FMC ADC board on port 0\n",
      "2022-12-31 20:20:31,898 - lwa_f.blocks.block:snap01 - INFO - adc - Detected FMC ADC board on port 1\n"
     ]
    }
   ],
   "source": [
    "#fpgfile='/home/ubuntu/kp/caltech-lwa/snap2_f_200msps_64i_4096c/outputs/snap2_f_200msps_64i_4096c_2022-09-02_1527.fpg'\n",
    "#fpgfile='/home/ubuntu/kp/caltech-lwa/snap2_f_200msps_64i_4096c/outputs/snap2_f_200msps_64i_4096c_2022-09-13_2121.fpg'\n",
    "fpgfile='/home/ubuntu/kp/caltech-lwa/snap2_f_200msps_64i_4096c/outputs/snap2_f_200msps_64i_4096c_2022-09-20_1316.fpg'\n",
    "brdname='snap01'\n",
    "brd=snap2_fengine.Snap2Fengine(brdname)\n",
    "casperbrd = casperfpga.CasperFpga(brdname, transport=casperfpga.TapcpTransport)"
   ]
  },
  {
   "cell_type": "code",
   "execution_count": null,
   "metadata": {},
   "outputs": [],
   "source": []
  },
  {
   "cell_type": "code",
   "execution_count": 155,
   "metadata": {},
   "outputs": [
    {
     "name": "stdout",
     "output_type": "stream",
     "text": [
      "2022-12-31 20:20:36,629 - lwa_f.snap2_fengine:snap01 - INFO - Loading firmware /home/ubuntu/kp/caltech-lwa/snap2_f_200msps_64i_4096c/outputs/snap2_f_200msps_64i_4096c_2022-09-20_1316.fpg to snap01\n"
     ]
    },
    {
     "name": "stderr",
     "output_type": "stream",
     "text": [
      "100% (600 of 600) |######################| Elapsed Time: 0:05:31 Time:  0:05:31\n"
     ]
    },
    {
     "name": "stdout",
     "output_type": "stream",
     "text": [
      "2022-12-31 20:26:30,519 - lwa_f.blocks.block:snap01 - INFO - adc - Detected FMC ADC board on port 0\n",
      "2022-12-31 20:26:30,754 - lwa_f.blocks.block:snap01 - INFO - adc - Detected FMC ADC board on port 1\n"
     ]
    }
   ],
   "source": [
    "brd.program(fpgfile)\n"
   ]
  },
  {
   "cell_type": "code",
   "execution_count": 156,
   "metadata": {},
   "outputs": [
    {
     "name": "stdout",
     "output_type": "stream",
     "text": [
      "2022-12-31 20:55:54,337 - lwa_f.snap2_fengine:snap01 - INFO - Initializing block (writable): fpga\n",
      "2022-12-31 20:55:54,338 - lwa_f.snap2_fengine:snap01 - INFO - Initializing block (writable): adc\n",
      "2022-12-31 20:55:54,341 - lwa_f.blocks.block:snap01 - INFO - adc - FMC 0 board 0: Setting clock source to 1\n",
      "2022-12-31 20:55:54,348 - lwa_f.blocks.block:snap01 - INFO - adc - FMC 0 board 1: Setting clock source to 1\n",
      "2022-12-31 20:55:54,356 - lwa_f.blocks.block:snap01 - INFO - adc - FMC 1 board 0: Setting clock source to 1\n",
      "2022-12-31 20:55:54,364 - lwa_f.blocks.block:snap01 - INFO - adc - FMC 1 board 1: Setting clock source to 1\n",
      "2022-12-31 20:56:08,286 - lwa_f.blocks.block:snap01 - INFO - adc - FMC 0 board 0 clock rates: [490713622, 98213758, 98285369, 0, 0]\n",
      "2022-12-31 20:56:08,287 - lwa_f.blocks.block:snap01 - INFO - adc - FMC 0 board 0: MMCM locked\n",
      "2022-12-31 20:56:09,298 - lwa_f.blocks.block:snap01 - INFO - adc - FMC 0 board 1 clock rates: [490658961, 98155253, 98223696, 98246529, 0]\n",
      "2022-12-31 20:56:10,308 - lwa_f.blocks.block:snap01 - INFO - adc - FMC 1 board 0 clock rates: [8201, 820, 750, 0, 0]\n",
      "2022-12-31 20:56:10,309 - lwa_f.blocks.block:snap01 - INFO - adc - FMC 1 board 0: MMCM locked\n",
      "2022-12-31 20:56:11,318 - lwa_f.blocks.block:snap01 - INFO - adc - FMC 1 board 1 clock rates: [490575349, 98122912, 98148858, 98180510, 0]\n",
      "2022-12-31 20:56:15,474 - lwa_f.blocks.block:snap01 - INFO - adc - FMC 0 Scanning data delays\n"
     ]
    },
    {
     "name": "stderr",
     "output_type": "stream",
     "text": [
      "100% (64 of 64) |########################| Elapsed Time: 0:00:09 Time:  0:00:09\n"
     ]
    },
    {
     "name": "stdout",
     "output_type": "stream",
     "text": [
      "2022-12-31 20:56:24,555 - lwa_f.blocks.block:snap01 - INFO - adc - FMC 0 data lane delays:\n",
      "[[400, 392, 400, 384, 384, 384, 384, 384], [368, 352, 352, 344, 352, 352, 344, 344], [336, 336, 336, 336, 336, 336, 336, 344], [368, 384, 360, 360, 368, 368, 368, 360], [352, 344, 352, 352, 352, 352, 352, 344], [320, 328, 328, 328, 320, 320, 320, 320], [344, 320, 328, 328, 328, 344, 320, 328], [368, 368, 368, 360, 360, 368, 376, 360]]\n",
      "2022-12-31 20:56:24,556 - lwa_f.blocks.block:snap01 - INFO - adc - FMC 0 data lane slacks:\n",
      "[[40, 40, 40, 40, 32, 32, 32, 32], [40, 40, 40, 40, 40, 40, 40, 32], [40, 40, 40, 40, 40, 32, 40, 32], [32, 32, 32, 32, 32, 32, 32, 32], [40, 40, 40, 32, 32, 40, 40, 32], [40, 40, 32, 40, 40, 40, 40, 40], [40, 32, 40, 32, 32, 32, 32, 40], [40, 40, 40, 32, 32, 32, 32, 32]]\n",
      "2022-12-31 20:56:24,557 - lwa_f.blocks.block:snap01 - INFO - adc - Chip 0, Lane 0:    XXXXXXXXXXXXXXXXXXXXXXXXXXXXXXXXXXXXXXXXXXXXXX----|----XXXXXXXXX\n",
      "2022-12-31 20:56:24,558 - lwa_f.blocks.block:snap01 - INFO - adc - Chip 0, Lane 1:    XXXXXXXXXXXXXXXXXXXXXXXXXXXXXXXXXXXXXXXXXXXXX----|----XXXXXXXXXX\n",
      "2022-12-31 20:56:24,558 - lwa_f.blocks.block:snap01 - INFO - adc - Chip 0, Lane 2:    XXXXXXXXXXXXXXXXXXXXXXXXXXXXXXXXXXXXXXXXXXXXXX----|----XXXXXXXXX\n",
      "2022-12-31 20:56:24,559 - lwa_f.blocks.block:snap01 - INFO - adc - Chip 0, Lane 3:    XXXXXXXXXXXXXXXXXXXXXXXXXXXXXXXXXXXXXXXXXXXX----|----XXXXXXXXXXX\n",
      "2022-12-31 20:56:24,560 - lwa_f.blocks.block:snap01 - INFO - adc - Chip 0, Lane 4:    XXXXXXXXXXXXXXXXXXXXXXXXXXXXXXXXXXXXXXXXXXXXX---|----XXXXXXXXXXX\n",
      "2022-12-31 20:56:24,561 - lwa_f.blocks.block:snap01 - INFO - adc - Chip 0, Lane 5:    XXXXXXXXXXXXXXXXXXXXXXXXXXXXXXXXXXXXXXXXXXXXX---|----XXXXXXXXXXX\n",
      "2022-12-31 20:56:24,562 - lwa_f.blocks.block:snap01 - INFO - adc - Chip 0, Lane 6:    XXXXXXXXXXXXXXXXXXXXXXXXXXXXXXXXXXXXXXXXXXXXX---|----XXXXXXXXXXX\n",
      "2022-12-31 20:56:24,562 - lwa_f.blocks.block:snap01 - INFO - adc - Chip 0, Lane 7:    XXXXXXXXXXXXXXXXXXXXXXXXXXXXXXXXXXXXXXXXXXXXX---|----XXXXXXXXXXX\n",
      "2022-12-31 20:56:24,563 - lwa_f.blocks.block:snap01 - INFO - adc - Chip 1, Lane 0:    XXXXXXXXXXXXXXXXXXXXXXXXXXXXXXXXXXXXXXXXXX----|----XXXXXXXXXXXXX\n",
      "2022-12-31 20:56:24,564 - lwa_f.blocks.block:snap01 - INFO - adc - Chip 1, Lane 1:    XXXXXXXXXXXXXXXXXXXXXXXXXXXXXXXXXXXXXXXX----|-----XXXXXXXXXXXXXX\n",
      "2022-12-31 20:56:24,565 - lwa_f.blocks.block:snap01 - INFO - adc - Chip 1, Lane 2:    XXXXXXXXXXXXXXXXXXXXXXXXXXXXXXXXXXXXXXXX----|----XXXXXXXXXXXXXXX\n",
      "2022-12-31 20:56:24,569 - lwa_f.blocks.block:snap01 - INFO - adc - Chip 1, Lane 3:    XXXXXXXXXXXXXXXXXXXXXXXXXXXXXXXXXXXXXXX----|-----XXXXXXXXXXXXXXX\n",
      "2022-12-31 20:56:24,570 - lwa_f.blocks.block:snap01 - INFO - adc - Chip 1, Lane 4:    XXXXXXXXXXXXXXXXXXXXXXXXXXXXXXXXXXXXXXXX----|----XXXXXXXXXXXXXXX\n",
      "2022-12-31 20:56:24,570 - lwa_f.blocks.block:snap01 - INFO - adc - Chip 1, Lane 5:    XXXXXXXXXXXXXXXXXXXXXXXXXXXXXXXXXXXXXXXX----|----XXXXXXXXXXXXXXX\n",
      "2022-12-31 20:56:24,571 - lwa_f.blocks.block:snap01 - INFO - adc - Chip 1, Lane 6:    XXXXXXXXXXXXXXXXXXXXXXXXXXXXXXXXXXXXXXX----|----XXXXXXXXXXXXXXXX\n",
      "2022-12-31 20:56:24,571 - lwa_f.blocks.block:snap01 - INFO - adc - Chip 1, Lane 7:    XXXXXXXXXXXXXXXXXXXXXXXXXXXXXXXXXXXXXXXX---|----XXXXXXXXXXXXXXXX\n",
      "2022-12-31 20:56:24,572 - lwa_f.blocks.block:snap01 - INFO - adc - Chip 2, Lane 0:    XXXXXXXXXXXXXXXXXXXXXXXXXXXXXXXXXXXXXX----|-----XXXXXXXXXXXXXXXX\n",
      "2022-12-31 20:56:24,573 - lwa_f.blocks.block:snap01 - INFO - adc - Chip 2, Lane 1:    XXXXXXXXXXXXXXXXXXXXXXXXXXXXXXXXXXXXXX----|----XXXXXXXXXXXXXXXXX\n",
      "2022-12-31 20:56:24,573 - lwa_f.blocks.block:snap01 - INFO - adc - Chip 2, Lane 2:    XXXXXXXXXXXXXXXXXXXXXXXXXXXXXXXXXXXXXX----|----XXXXXXXXXXXXXXXXX\n",
      "2022-12-31 20:56:24,574 - lwa_f.blocks.block:snap01 - INFO - adc - Chip 2, Lane 3:    XXXXXXXXXXXXXXXXXXXXXXXXXXXXXXXXXXXXXX----|----XXXXXXXXXXXXXXXXX\n",
      "2022-12-31 20:56:24,574 - lwa_f.blocks.block:snap01 - INFO - adc - Chip 2, Lane 4:    XXXXXXXXXXXXXXXXXXXXXXXXXXXXXXXXXXXXXX----|----XXXXXXXXXXXXXXXXX\n",
      "2022-12-31 20:56:24,575 - lwa_f.blocks.block:snap01 - INFO - adc - Chip 2, Lane 5:    XXXXXXXXXXXXXXXXXXXXXXXXXXXXXXXXXXXXXXX---|---XXXXXXXXXXXXXXXXXX\n",
      "2022-12-31 20:56:24,576 - lwa_f.blocks.block:snap01 - INFO - adc - Chip 2, Lane 6:    XXXXXXXXXXXXXXXXXXXXXXXXXXXXXXXXXXXXXX----|----XXXXXXXXXXXXXXXXX\n",
      "2022-12-31 20:56:24,576 - lwa_f.blocks.block:snap01 - INFO - adc - Chip 2, Lane 7:    XXXXXXXXXXXXXXXXXXXXXXXXXXXXXXXXXXXXXXXX---|----XXXXXXXXXXXXXXXX\n",
      "2022-12-31 20:56:24,577 - lwa_f.blocks.block:snap01 - INFO - adc - Chip 3, Lane 0:    XXXXXXXXXXXXXXXXXXXXXXXXXXXXXXXXXXXXXXXXXXX---|----XXXXXXXXXXXXX\n",
      "2022-12-31 20:56:24,577 - lwa_f.blocks.block:snap01 - INFO - adc - Chip 3, Lane 1:    XXXXXXXXXXXXXXXXXXXXXXXXXXXXXXXXXXXXXXXXXXXXX---|---XXXXXXXXXXXX\n",
      "2022-12-31 20:56:24,578 - lwa_f.blocks.block:snap01 - INFO - adc - Chip 3, Lane 2:    XXXXXXXXXXXXXXXXXXXXXXXXXXXXXXXXXXXXXXXXXX---|----XXXXXXXXXXXXXX\n",
      "2022-12-31 20:56:24,579 - lwa_f.blocks.block:snap01 - INFO - adc - Chip 3, Lane 3:    XXXXXXXXXXXXXXXXXXXXXXXXXXXXXXXXXXXXXXXXXX---|----XXXXXXXXXXXXXX\n",
      "2022-12-31 20:56:24,579 - lwa_f.blocks.block:snap01 - INFO - adc - Chip 3, Lane 4:    XXXXXXXXXXXXXXXXXXXXXXXXXXXXXXXXXXXXXXXXXXX---|----XXXXXXXXXXXXX\n",
      "2022-12-31 20:56:24,580 - lwa_f.blocks.block:snap01 - INFO - adc - Chip 3, Lane 5:    XXXXXXXXXXXXXXXXXXXXXXXXXXXXXXXXXXXXXXXXXXX---|---XXXXXXXXXXXXXX\n",
      "2022-12-31 20:56:24,580 - lwa_f.blocks.block:snap01 - INFO - adc - Chip 3, Lane 6:    XXXXXXXXXXXXXXXXXXXXXXXXXXXXXXXXXXXXXXXXXXX---|----XXXXXXXXXXXXX\n",
      "2022-12-31 20:56:24,581 - lwa_f.blocks.block:snap01 - INFO - adc - Chip 3, Lane 7:    XXXXXXXXXXXXXXXXXXXXXXXXXXXXXXXXXXXXXXXXXX---|----XXXXXXXXXXXXXX\n",
      "2022-12-31 20:56:24,582 - lwa_f.blocks.block:snap01 - INFO - adc - Chip 4, Lane 0:    XXXXXXXXXXXXXXXXXXXXXXXXXXXXXXXXXXXXXXXX----|----XXXXXXXXXXXXXXX\n",
      "2022-12-31 20:56:24,582 - lwa_f.blocks.block:snap01 - INFO - adc - Chip 4, Lane 1:    XXXXXXXXXXXXXXXXXXXXXXXXXXXXXXXXXXXXXXX----|-----XXXXXXXXXXXXXXX\n",
      "2022-12-31 20:56:24,583 - lwa_f.blocks.block:snap01 - INFO - adc - Chip 4, Lane 2:    XXXXXXXXXXXXXXXXXXXXXXXXXXXXXXXXXXXXXXXX----|----XXXXXXXXXXXXXXX\n",
      "2022-12-31 20:56:24,583 - lwa_f.blocks.block:snap01 - INFO - adc - Chip 4, Lane 3:    XXXXXXXXXXXXXXXXXXXXXXXXXXXXXXXXXXXXXXXXX---|----XXXXXXXXXXXXXXX\n",
      "2022-12-31 20:56:24,584 - lwa_f.blocks.block:snap01 - INFO - adc - Chip 4, Lane 4:    XXXXXXXXXXXXXXXXXXXXXXXXXXXXXXXXXXXXXXXXX---|----XXXXXXXXXXXXXXX\n",
      "2022-12-31 20:56:24,585 - lwa_f.blocks.block:snap01 - INFO - adc - Chip 4, Lane 5:    XXXXXXXXXXXXXXXXXXXXXXXXXXXXXXXXXXXXXXXX----|----XXXXXXXXXXXXXXX\n",
      "2022-12-31 20:56:24,585 - lwa_f.blocks.block:snap01 - INFO - adc - Chip 4, Lane 6:    XXXXXXXXXXXXXXXXXXXXXXXXXXXXXXXXXXXXXXXX----|----XXXXXXXXXXXXXXX\n",
      "2022-12-31 20:56:24,586 - lwa_f.blocks.block:snap01 - INFO - adc - Chip 4, Lane 7:    XXXXXXXXXXXXXXXXXXXXXXXXXXXXXXXXXXXXXXXX---|----XXXXXXXXXXXXXXXX\n",
      "2022-12-31 20:56:24,586 - lwa_f.blocks.block:snap01 - INFO - adc - Chip 5, Lane 0:    XXXXXXXXXXXXXXXXXXXXXXXXXXXXXXXXXXXX----|-----XXXXXXXXXXXXXXXXXX\n",
      "2022-12-31 20:56:24,587 - lwa_f.blocks.block:snap01 - INFO - adc - Chip 5, Lane 1:    XXXXXXXXXXXXXXXXXXXXXXXXXXXXXXXXXXXXX----|----XXXXXXXXXXXXXXXXXX\n",
      "2022-12-31 20:56:24,588 - lwa_f.blocks.block:snap01 - INFO - adc - Chip 5, Lane 2:    XXXXXXXXXXXXXXXXXXXXXXXXXXXXXXXXXXXXXX---|----XXXXXXXXXXXXXXXXXX\n",
      "2022-12-31 20:56:24,588 - lwa_f.blocks.block:snap01 - INFO - adc - Chip 5, Lane 3:    XXXXXXXXXXXXXXXXXXXXXXXXXXXXXXXXXXXXX----|----XXXXXXXXXXXXXXXXXX\n",
      "2022-12-31 20:56:24,589 - lwa_f.blocks.block:snap01 - INFO - adc - Chip 5, Lane 4:    XXXXXXXXXXXXXXXXXXXXXXXXXXXXXXXXXXXX----|-----XXXXXXXXXXXXXXXXXX\n",
      "2022-12-31 20:56:24,590 - lwa_f.blocks.block:snap01 - INFO - adc - Chip 5, Lane 5:    XXXXXXXXXXXXXXXXXXXXXXXXXXXXXXXXXXXX----|-----XXXXXXXXXXXXXXXXXX\n",
      "2022-12-31 20:56:24,590 - lwa_f.blocks.block:snap01 - INFO - adc - Chip 5, Lane 6:    XXXXXXXXXXXXXXXXXXXXXXXXXXXXXXXXXXXX----|-----XXXXXXXXXXXXXXXXXX\n",
      "2022-12-31 20:56:24,591 - lwa_f.blocks.block:snap01 - INFO - adc - Chip 5, Lane 7:    XXXXXXXXXXXXXXXXXXXXXXXXXXXXXXXXXXXX----|-----XXXXXXXXXXXXXXXXXX\n",
      "2022-12-31 20:56:24,592 - lwa_f.blocks.block:snap01 - INFO - adc - Chip 6, Lane 0:    XXXXXXXXXXXXXXXXXXXXXXXXXXXXXXXXXXXXXXX----|----XXXXXXXXXXXXXXXX\n",
      "2022-12-31 20:56:24,592 - lwa_f.blocks.block:snap01 - INFO - adc - Chip 6, Lane 1:    XXXXXXXXXXXXXXXXXXXXXXXXXXXXXXXXXXXXX---|----XXXXXXXXXXXXXXXXXXX\n"
     ]
    },
    {
     "name": "stdout",
     "output_type": "stream",
     "text": [
      "2022-12-31 20:56:24,593 - lwa_f.blocks.block:snap01 - INFO - adc - Chip 6, Lane 2:    XXXXXXXXXXXXXXXXXXXXXXXXXXXXXXXXXXXXX----|----XXXXXXXXXXXXXXXXXX\n",
      "2022-12-31 20:56:24,594 - lwa_f.blocks.block:snap01 - INFO - adc - Chip 6, Lane 3:    XXXXXXXXXXXXXXXXXXXXXXXXXXXXXXXXXXXXXX---|----XXXXXXXXXXXXXXXXXX\n",
      "2022-12-31 20:56:24,594 - lwa_f.blocks.block:snap01 - INFO - adc - Chip 6, Lane 4:    XXXXXXXXXXXXXXXXXXXXXXXXXXXXXXXXXXXXXX---|----XXXXXXXXXXXXXXXXXX\n",
      "2022-12-31 20:56:24,595 - lwa_f.blocks.block:snap01 - INFO - adc - Chip 6, Lane 5:    XXXXXXXXXXXXXXXXXXXXXXXXXXXXXXXXXXXXXXXX---|---XXXXXXXXXXXXXXXXX\n",
      "2022-12-31 20:56:24,596 - lwa_f.blocks.block:snap01 - INFO - adc - Chip 6, Lane 6:    XXXXXXXXXXXXXXXXXXXXXXXXXXXXXXXXXXXXX---|----XXXXXXXXXXXXXXXXXXX\n",
      "2022-12-31 20:56:24,596 - lwa_f.blocks.block:snap01 - INFO - adc - Chip 6, Lane 7:    XXXXXXXXXXXXXXXXXXXXXXXXXXXXXXXXXXXXX----|----XXXXXXXXXXXXXXXXXX\n",
      "2022-12-31 20:56:24,597 - lwa_f.blocks.block:snap01 - INFO - adc - Chip 7, Lane 0:    XXXXXXXXXXXXXXXXXXXXXXXXXXXXXXXXXXXXXXXXXX----|----XXXXXXXXXXXXX\n",
      "2022-12-31 20:56:24,597 - lwa_f.blocks.block:snap01 - INFO - adc - Chip 7, Lane 1:    XXXXXXXXXXXXXXXXXXXXXXXXXXXXXXXXXXXXXXXXXX----|----XXXXXXXXXXXXX\n",
      "2022-12-31 20:56:24,598 - lwa_f.blocks.block:snap01 - INFO - adc - Chip 7, Lane 2:    XXXXXXXXXXXXXXXXXXXXXXXXXXXXXXXXXXXXXXXXXX----|----XXXXXXXXXXXXX\n",
      "2022-12-31 20:56:24,599 - lwa_f.blocks.block:snap01 - INFO - adc - Chip 7, Lane 3:    XXXXXXXXXXXXXXXXXXXXXXXXXXXXXXXXXXXXXXXXXX---|----XXXXXXXXXXXXXX\n",
      "2022-12-31 20:56:24,599 - lwa_f.blocks.block:snap01 - INFO - adc - Chip 7, Lane 4:    XXXXXXXXXXXXXXXXXXXXXXXXXXXXXXXXXXXXXXXXXX---|----XXXXXXXXXXXXXX\n",
      "2022-12-31 20:56:24,600 - lwa_f.blocks.block:snap01 - INFO - adc - Chip 7, Lane 5:    XXXXXXXXXXXXXXXXXXXXXXXXXXXXXXXXXXXXXXXXXXX---|----XXXXXXXXXXXXX\n",
      "2022-12-31 20:56:24,601 - lwa_f.blocks.block:snap01 - INFO - adc - Chip 7, Lane 6:    XXXXXXXXXXXXXXXXXXXXXXXXXXXXXXXXXXXXXXXXXXXX---|----XXXXXXXXXXXX\n",
      "2022-12-31 20:56:24,601 - lwa_f.blocks.block:snap01 - INFO - adc - Chip 7, Lane 7:    XXXXXXXXXXXXXXXXXXXXXXXXXXXXXXXXXXXXXXXXXX---|----XXXXXXXXXXXXXX\n",
      "2022-12-31 20:56:27,755 - lwa_f.blocks.block:snap01 - INFO - adc - FMC 1 Scanning data delays\n"
     ]
    },
    {
     "name": "stderr",
     "output_type": "stream",
     "text": [
      "100% (64 of 64) |########################| Elapsed Time: 0:00:11 Time:  0:00:11\n"
     ]
    },
    {
     "name": "stdout",
     "output_type": "stream",
     "text": [
      "2022-12-31 20:56:39,025 - lwa_f.blocks.block:snap01 - INFO - adc - Bitslipping board 0 because everywhere was bad\n",
      "2022-12-31 20:56:40,309 - lwa_f.blocks.block:snap01 - INFO - adc - FMC 1 Scanning data delays\n"
     ]
    },
    {
     "name": "stderr",
     "output_type": "stream",
     "text": [
      "100% (64 of 64) |########################| Elapsed Time: 0:00:08 Time:  0:00:08\n"
     ]
    },
    {
     "name": "stdout",
     "output_type": "stream",
     "text": [
      "2022-12-31 20:56:48,716 - lwa_f.blocks.block:snap01 - INFO - adc - Bitslipping board 0 because everywhere was bad\n",
      "2022-12-31 20:56:49,848 - lwa_f.blocks.block:snap01 - INFO - adc - FMC 1 Scanning data delays\n"
     ]
    },
    {
     "name": "stderr",
     "output_type": "stream",
     "text": [
      "100% (64 of 64) |########################| Elapsed Time: 0:00:08 Time:  0:00:08\n"
     ]
    },
    {
     "name": "stdout",
     "output_type": "stream",
     "text": [
      "2022-12-31 20:56:58,788 - lwa_f.blocks.block:snap01 - INFO - adc - Bitslipping board 0 chip 0 because nowhere was good\n",
      "2022-12-31 20:56:58,800 - lwa_f.blocks.block:snap01 - INFO - adc - Bitslipping board 0 chip 1 because nowhere was good\n",
      "2022-12-31 20:56:58,812 - lwa_f.blocks.block:snap01 - INFO - adc - Bitslipping board 0 chip 2 because nowhere was good\n",
      "2022-12-31 20:56:58,928 - lwa_f.blocks.block:snap01 - INFO - adc - Bitslipping board 0 chip 3 because nowhere was good\n",
      "2022-12-31 20:57:00,684 - lwa_f.blocks.block:snap01 - INFO - adc - FMC 1 Scanning data delays\n"
     ]
    },
    {
     "name": "stderr",
     "output_type": "stream",
     "text": [
      "100% (64 of 64) |########################| Elapsed Time: 0:00:10 Time:  0:00:10\n"
     ]
    },
    {
     "name": "stdout",
     "output_type": "stream",
     "text": [
      "2022-12-31 20:57:11,581 - lwa_f.blocks.block:snap01 - INFO - adc - Bitslipping board 0 chip 0 because nowhere was good\n",
      "2022-12-31 20:57:11,595 - lwa_f.blocks.block:snap01 - INFO - adc - Bitslipping board 0 chip 1 because nowhere was good\n",
      "2022-12-31 20:57:11,609 - lwa_f.blocks.block:snap01 - INFO - adc - Bitslipping board 0 chip 2 because nowhere was good\n",
      "2022-12-31 20:57:11,624 - lwa_f.blocks.block:snap01 - INFO - adc - Bitslipping board 0 chip 3 because nowhere was good\n",
      "2022-12-31 20:57:12,731 - lwa_f.blocks.block:snap01 - INFO - adc - FMC 1 Scanning data delays\n"
     ]
    },
    {
     "name": "stderr",
     "output_type": "stream",
     "text": [
      "100% (64 of 64) |########################| Elapsed Time: 0:00:14 Time:  0:00:14\n"
     ]
    },
    {
     "name": "stdout",
     "output_type": "stream",
     "text": [
      "2022-12-31 20:57:27,039 - lwa_f.blocks.block:snap01 - INFO - adc - Bitslipping board 0 chip 0 because nowhere was good\n",
      "2022-12-31 20:57:27,055 - lwa_f.blocks.block:snap01 - INFO - adc - Bitslipping board 0 chip 1 because nowhere was good\n",
      "2022-12-31 20:57:27,069 - lwa_f.blocks.block:snap01 - INFO - adc - Bitslipping board 0 chip 2 because nowhere was good\n",
      "2022-12-31 20:57:27,083 - lwa_f.blocks.block:snap01 - INFO - adc - Bitslipping board 0 chip 3 because nowhere was good\n",
      "2022-12-31 20:57:28,270 - lwa_f.blocks.block:snap01 - INFO - adc - FMC 1 Scanning data delays\n"
     ]
    },
    {
     "name": "stderr",
     "output_type": "stream",
     "text": [
      "100% (64 of 64) |########################| Elapsed Time: 0:00:08 Time:  0:00:08\n"
     ]
    },
    {
     "name": "stdout",
     "output_type": "stream",
     "text": [
      "2022-12-31 20:57:36,796 - lwa_f.blocks.block:snap01 - INFO - adc - Bitslipping board 0 chip 0 because nowhere was good\n",
      "2022-12-31 20:57:36,811 - lwa_f.blocks.block:snap01 - INFO - adc - Bitslipping board 0 chip 1 because nowhere was good\n",
      "2022-12-31 20:57:36,824 - lwa_f.blocks.block:snap01 - INFO - adc - Bitslipping board 0 chip 2 because nowhere was good\n",
      "2022-12-31 20:57:36,837 - lwa_f.blocks.block:snap01 - INFO - adc - Bitslipping board 0 chip 3 because nowhere was good\n",
      "2022-12-31 20:57:37,867 - lwa_f.blocks.block:snap01 - INFO - adc - FMC 1 Scanning data delays\n"
     ]
    },
    {
     "name": "stderr",
     "output_type": "stream",
     "text": [
      "100% (64 of 64) |########################| Elapsed Time: 0:00:13 Time:  0:00:13\n"
     ]
    },
    {
     "name": "stdout",
     "output_type": "stream",
     "text": [
      "2022-12-31 20:57:51,628 - lwa_f.blocks.block:snap01 - INFO - adc - Bitslipping board 0 chip 0 because nowhere was good\n",
      "2022-12-31 20:57:51,644 - lwa_f.blocks.block:snap01 - INFO - adc - Bitslipping board 0 chip 1 because nowhere was good\n",
      "2022-12-31 20:57:51,657 - lwa_f.blocks.block:snap01 - INFO - adc - Bitslipping board 0 chip 2 because nowhere was good\n",
      "2022-12-31 20:57:51,668 - lwa_f.blocks.block:snap01 - INFO - adc - Bitslipping board 0 chip 3 because nowhere was good\n",
      "2022-12-31 20:57:52,821 - lwa_f.blocks.block:snap01 - INFO - adc - FMC 1 Scanning data delays\n"
     ]
    },
    {
     "name": "stderr",
     "output_type": "stream",
     "text": [
      "100% (64 of 64) |########################| Elapsed Time: 0:00:11 Time:  0:00:11\n"
     ]
    },
    {
     "name": "stdout",
     "output_type": "stream",
     "text": [
      "2022-12-31 20:58:04,099 - lwa_f.blocks.block:snap01 - INFO - adc - FMC 1 data lane delays:\n",
      "[[0, 0, 0, 0, 0, 0, 0, 0], [0, 0, 0, 0, 0, 0, 0, 0], [0, 0, 0, 0, 0, 0, 0, 0], [0, 0, 0, 0, 0, 0, 0, 0], [312, 312, 312, 320, 312, 312, 312, 312], [248, 248, 248, 240, 256, 240, 256, 240], [296, 288, 296, 304, 296, 280, 288, 296], [336, 328, 328, 328, 328, 328, 328, 320]]\n",
      "2022-12-31 20:58:04,100 - lwa_f.blocks.block:snap01 - INFO - adc - FMC 1 data lane slacks:\n",
      "[[0, 0, 0, 0, 0, 0, 0, 0], [0, 0, 0, 0, 0, 0, 0, 0], [0, 0, 0, 0, 0, 0, 0, 0], [0, 0, 0, 0, 0, 0, 0, 0], [48, 40, 40, 40, 40, 40, 40, 40], [40, 32, 32, 32, 40, 32, 40, 32], [32, 32, 32, 32, 32, 32, 32, 32], [40, 32, 32, 40, 32, 32, 32, 32]]\n",
      "2022-12-31 20:58:04,100 - lwa_f.blocks.block:snap01 - WARNING - adc - Delay solutions have small slack\n",
      "2022-12-31 20:58:04,101 - lwa_f.blocks.block:snap01 - INFO - adc - Chip 0, Lane 0:    |XXXXXXXXXXXXXXXXXXXXXXXXXXXXXXXXXXXXXXXXXXXXXXXXXXXXXXXXXXXXXXX\n",
      "2022-12-31 20:58:04,102 - lwa_f.blocks.block:snap01 - INFO - adc - Chip 0, Lane 1:    |XXXXXXXXXXXXXXXXXXXXXXXXXXXXXXXXXXXXXXXXXXXXXXXXXXXXXXXXXXXXXXX\n",
      "2022-12-31 20:58:04,103 - lwa_f.blocks.block:snap01 - INFO - adc - Chip 0, Lane 2:    |XXXXXXXXXXXXXXXXXXXXXXXXXXXXXXXXXXXXXXXXXXXXXXXXXXXXXXXXXXXXXXX\n",
      "2022-12-31 20:58:04,104 - lwa_f.blocks.block:snap01 - INFO - adc - Chip 0, Lane 3:    |XXXXXXXXXXXXXXXXXXXXXXXXXXXXXXXXXXXXXXXXXXXXXXXXXXXXXXXXXXXXXXX\n",
      "2022-12-31 20:58:04,104 - lwa_f.blocks.block:snap01 - INFO - adc - Chip 0, Lane 4:    |XXXXXXXXXXXXXXXXXXXXXXXXXXXXXXXXXXXXXXXXXXXXXXXXXXXXXXXXXXXXXXX\n",
      "2022-12-31 20:58:04,105 - lwa_f.blocks.block:snap01 - INFO - adc - Chip 0, Lane 5:    |XXXXXXXXXXXXXXXXXXXXXXXXXXXXXXXXXXXXXXXXXXXXXXXXXXXXXXXXXXXXXXX\n",
      "2022-12-31 20:58:04,106 - lwa_f.blocks.block:snap01 - INFO - adc - Chip 0, Lane 6:    |XXXXXXXXXXXXXXXXXXXXXXXXXXXXXXXXXXXXXXXXXXXXXXXXXXXXXXXXXXXXXXX\n",
      "2022-12-31 20:58:04,107 - lwa_f.blocks.block:snap01 - INFO - adc - Chip 0, Lane 7:    |XXXXXXXXXXXXXXXXXXXXXXXXXXXXXXXXXXXXXXXXXXXXXXXXXXXXXXXXXXXXXXX\n",
      "2022-12-31 20:58:04,107 - lwa_f.blocks.block:snap01 - INFO - adc - Chip 1, Lane 0:    |XXXXXXXXXXXXXXXXXXXXXXXXXXXXXXXXXXXXXXXXXXXXXXXXXXXXXXXXXXXXXXX\n",
      "2022-12-31 20:58:04,108 - lwa_f.blocks.block:snap01 - INFO - adc - Chip 1, Lane 1:    |XXXXXXXXXXXXXXXXXXXXXXXXXXXXXXXXXXXXXXXXXXXXXXXXXXXXXXXXXXXXXXX\n",
      "2022-12-31 20:58:04,109 - lwa_f.blocks.block:snap01 - INFO - adc - Chip 1, Lane 2:    |XXXXXXXXXXXXXXXXXXXXXXXXXXXXXXXXXXXXXXXXXXXXXXXXXXXXXXXXXXXXXXX\n",
      "2022-12-31 20:58:04,110 - lwa_f.blocks.block:snap01 - INFO - adc - Chip 1, Lane 3:    |XXXXXXXXXXXXXXXXXXXXXXXXXXXXXXXXXXXXXXXXXXXXXXXXXXXXXXXXXXXXXXX\n",
      "2022-12-31 20:58:04,110 - lwa_f.blocks.block:snap01 - INFO - adc - Chip 1, Lane 4:    |XXXXXXXXXXXXXXXXXXXXXXXXXXXXXXXXXXXXXXXXXXXXXXXXXXXXXXXXXXXXXXX\n",
      "2022-12-31 20:58:04,111 - lwa_f.blocks.block:snap01 - INFO - adc - Chip 1, Lane 5:    |XXXXXXXXXXXXXXXXXXXXXXXXXXXXXXXXXXXXXXXXXXXXXXXXXXXXXXXXXXXXXXX\n",
      "2022-12-31 20:58:04,112 - lwa_f.blocks.block:snap01 - INFO - adc - Chip 1, Lane 6:    |XXXXXXXXXXXXXXXXXXXXXXXXXXXXXXXXXXXXXXXXXXXXXXXXXXXXXXXXXXXXXXX\n",
      "2022-12-31 20:58:04,112 - lwa_f.blocks.block:snap01 - INFO - adc - Chip 1, Lane 7:    |XXXXXXXXXXXXXXXXXXXXXXXXXXXXXXXXXXXXXXXXXXXXXXXXXXXXXXXXXXXXXXX\n",
      "2022-12-31 20:58:04,113 - lwa_f.blocks.block:snap01 - INFO - adc - Chip 2, Lane 0:    |XXXXXXXXXXXXXXXXXXXXXXXXXXXXXXXXXXXXXXXXXXXXXXXXXXXXXXXXXXXXXXX\n",
      "2022-12-31 20:58:04,113 - lwa_f.blocks.block:snap01 - INFO - adc - Chip 2, Lane 1:    |XXXXXXXXXXXXXXXXXXXXXXXXXXXXXXXXXXXXXXXXXXXXXXXXXXXXXXXXXXXXXXX\n",
      "2022-12-31 20:58:04,114 - lwa_f.blocks.block:snap01 - INFO - adc - Chip 2, Lane 2:    |XXXXXXXXXXXXXXXXXXXXXXXXXXXXXXXXXXXXXXXXXXXXXXXXXXXXXXXXXXXXXXX\n",
      "2022-12-31 20:58:04,115 - lwa_f.blocks.block:snap01 - INFO - adc - Chip 2, Lane 3:    |XXXXXXXXXXXXXXXXXXXXXXXXXXXXXXXXXXXXXXXXXXXXXXXXXXXXXXXXXXXXXXX\n",
      "2022-12-31 20:58:04,115 - lwa_f.blocks.block:snap01 - INFO - adc - Chip 2, Lane 4:    |XXXXXXXXXXXXXXXXXXXXXXXXXXXXXXXXXXXXXXXXXXXXXXXXXXXXXXXXXXXXXXX\n",
      "2022-12-31 20:58:04,116 - lwa_f.blocks.block:snap01 - INFO - adc - Chip 2, Lane 5:    |XXXXXXXXXXXXXXXXXXXXXXXXXXXXXXXXXXXXXXXXXXXXXXXXXXXXXXXXXXXXXXX\n",
      "2022-12-31 20:58:04,116 - lwa_f.blocks.block:snap01 - INFO - adc - Chip 2, Lane 6:    |XXXXXXXXXXXXXXXXXXXXXXXXXXXXXXXXXXXXXXXXXXXXXXXXXXXXXXXXXXXXXXX\n",
      "2022-12-31 20:58:04,117 - lwa_f.blocks.block:snap01 - INFO - adc - Chip 2, Lane 7:    |XXXXXXXXXXXXXXXXXXXXXXXXXXXXXXXXXXXXXXXXXXXXXXXXXXXXXXXXXXXXXXX\n",
      "2022-12-31 20:58:04,118 - lwa_f.blocks.block:snap01 - INFO - adc - Chip 3, Lane 0:    |XXXXXXXXXXXXXXXXXXXXXXXXXXXXXXXXXXXXXXXXXXXXXXXXXXXXXXXXXXXXXXX\n",
      "2022-12-31 20:58:04,118 - lwa_f.blocks.block:snap01 - INFO - adc - Chip 3, Lane 1:    |XXXXXXXXXXXXXXXXXXXXXXXXXXXXXXXXXXXXXXXXXXXXXXXXXXXXXXXXXXXXXXX\n",
      "2022-12-31 20:58:04,119 - lwa_f.blocks.block:snap01 - INFO - adc - Chip 3, Lane 2:    |XXXXXXXXXXXXXXXXXXXXXXXXXXXXXXXXXXXXXXXXXXXXXXXXXXXXXXXXXXXXXXX\n",
      "2022-12-31 20:58:04,119 - lwa_f.blocks.block:snap01 - INFO - adc - Chip 3, Lane 3:    |XXXXXXXXXXXXXXXXXXXXXXXXXXXXXXXXXXXXXXXXXXXXXXXXXXXXXXXXXXXXXXX\n",
      "2022-12-31 20:58:04,120 - lwa_f.blocks.block:snap01 - INFO - adc - Chip 3, Lane 4:    |XXXXXXXXXXXXXXXXXXXXXXXXXXXXXXXXXXXXXXXXXXXXXXXXXXXXXXXXXXXXXXX\n",
      "2022-12-31 20:58:04,121 - lwa_f.blocks.block:snap01 - INFO - adc - Chip 3, Lane 5:    |XXXXXXXXXXXXXXXXXXXXXXXXXXXXXXXXXXXXXXXXXXXXXXXXXXXXXXXXXXXXXXX\n",
      "2022-12-31 20:58:04,121 - lwa_f.blocks.block:snap01 - INFO - adc - Chip 3, Lane 6:    |XXXXXXXXXXXXXXXXXXXXXXXXXXXXXXXXXXXXXXXXXXXXXXXXXXXXXXXXXXXXXXX\n",
      "2022-12-31 20:58:04,122 - lwa_f.blocks.block:snap01 - INFO - adc - Chip 3, Lane 7:    |XXXXXXXXXXXXXXXXXXXXXXXXXXXXXXXXXXXXXXXXXXXXXXXXXXXXXXXXXXXXXXX\n",
      "2022-12-31 20:58:04,122 - lwa_f.blocks.block:snap01 - INFO - adc - Chip 4, Lane 0:    XXXXXXXXXXXXXXXXXXXXXXXXXXXXXXXXXX-----|-----XXXXXXXXXXXXXXXXXXX\n",
      "2022-12-31 20:58:04,123 - lwa_f.blocks.block:snap01 - INFO - adc - Chip 4, Lane 1:    XXXXXXXXXXXXXXXXXXXXXXXXXXXXXXXXXXX----|-----XXXXXXXXXXXXXXXXXXX\n",
      "2022-12-31 20:58:04,124 - lwa_f.blocks.block:snap01 - INFO - adc - Chip 4, Lane 2:    XXXXXXXXXXXXXXXXXXXXXXXXXXXXXXXXXXX----|-----XXXXXXXXXXXXXXXXXXX\n",
      "2022-12-31 20:58:04,124 - lwa_f.blocks.block:snap01 - INFO - adc - Chip 4, Lane 3:    XXXXXXXXXXXXXXXXXXXXXXXXXXXXXXXXXXXX----|-----XXXXXXXXXXXXXXXXXX\n",
      "2022-12-31 20:58:04,125 - lwa_f.blocks.block:snap01 - INFO - adc - Chip 4, Lane 4:    XXXXXXXXXXXXXXXXXXXXXXXXXXXXXXXXXXX----|-----XXXXXXXXXXXXXXXXXXX\n",
      "2022-12-31 20:58:04,125 - lwa_f.blocks.block:snap01 - INFO - adc - Chip 4, Lane 5:    XXXXXXXXXXXXXXXXXXXXXXXXXXXXXXXXXXX----|----XXXXXXXXXXXXXXXXXXXX\n",
      "2022-12-31 20:58:04,126 - lwa_f.blocks.block:snap01 - INFO - adc - Chip 4, Lane 6:    XXXXXXXXXXXXXXXXXXXXXXXXXXXXXXXXXXX----|----XXXXXXXXXXXXXXXXXXXX\n",
      "2022-12-31 20:58:04,127 - lwa_f.blocks.block:snap01 - INFO - adc - Chip 4, Lane 7:    XXXXXXXXXXXXXXXXXXXXXXXXXXXXXXXXXXX----|----XXXXXXXXXXXXXXXXXXXX\n",
      "2022-12-31 20:58:04,127 - lwa_f.blocks.block:snap01 - INFO - adc - Chip 5, Lane 0:    XXXXXXXXXXXXXXXXXXXXXXXXXXX----|----XXXXXXXXXXXXXXXXXXXXXXXXXXXX\n",
      "2022-12-31 20:58:04,128 - lwa_f.blocks.block:snap01 - INFO - adc - Chip 5, Lane 1:    XXXXXXXXXXXXXXXXXXXXXXXXXXXX---|----XXXXXXXXXXXXXXXXXXXXXXXXXXXX\n",
      "2022-12-31 20:58:04,128 - lwa_f.blocks.block:snap01 - INFO - adc - Chip 5, Lane 2:    XXXXXXXXXXXXXXXXXXXXXXXXXXXX---|---XXXXXXXXXXXXXXXXXXXXXXXXXXXXX\n",
      "2022-12-31 20:58:04,129 - lwa_f.blocks.block:snap01 - INFO - adc - Chip 5, Lane 3:    XXXXXXXXXXXXXXXXXXXXXXXXXXX---|----XXXXXXXXXXXXXXXXXXXXXXXXXXXXX\n",
      "2022-12-31 20:58:04,130 - lwa_f.blocks.block:snap01 - INFO - adc - Chip 5, Lane 4:    XXXXXXXXXXXXXXXXXXXXXXXXXXXX----|----XXXXXXXXXXXXXXXXXXXXXXXXXXX\n",
      "2022-12-31 20:58:04,130 - lwa_f.blocks.block:snap01 - INFO - adc - Chip 5, Lane 5:    XXXXXXXXXXXXXXXXXXXXXXXXXXX---|----XXXXXXXXXXXXXXXXXXXXXXXXXXXXX\n",
      "2022-12-31 20:58:04,131 - lwa_f.blocks.block:snap01 - INFO - adc - Chip 5, Lane 6:    XXXXXXXXXXXXXXXXXXXXXXXXXXXX----|----XXXXXXXXXXXXXXXXXXXXXXXXXXX\n",
      "2022-12-31 20:58:04,131 - lwa_f.blocks.block:snap01 - INFO - adc - Chip 5, Lane 7:    XXXXXXXXXXXXXXXXXXXXXXXXXXX---|----XXXXXXXXXXXXXXXXXXXXXXXXXXXXX\n",
      "2022-12-31 20:58:04,132 - lwa_f.blocks.block:snap01 - INFO - adc - Chip 6, Lane 0:    XXXXXXXXXXXXXXXXXXXXXXXXXXXXXXXXXX---|----XXXXXXXXXXXXXXXXXXXXXX\n"
     ]
    },
    {
     "name": "stdout",
     "output_type": "stream",
     "text": [
      "2022-12-31 20:58:04,132 - lwa_f.blocks.block:snap01 - INFO - adc - Chip 6, Lane 1:    XXXXXXXXXXXXXXXXXXXXXXXXXXXXXXXXX---|---XXXXXXXXXXXXXXXXXXXXXXXX\n",
      "2022-12-31 20:58:04,133 - lwa_f.blocks.block:snap01 - INFO - adc - Chip 6, Lane 2:    XXXXXXXXXXXXXXXXXXXXXXXXXXXXXXXXXX---|----XXXXXXXXXXXXXXXXXXXXXX\n",
      "2022-12-31 20:58:04,134 - lwa_f.blocks.block:snap01 - INFO - adc - Chip 6, Lane 3:    XXXXXXXXXXXXXXXXXXXXXXXXXXXXXXXXXXX---|----XXXXXXXXXXXXXXXXXXXXX\n",
      "2022-12-31 20:58:04,134 - lwa_f.blocks.block:snap01 - INFO - adc - Chip 6, Lane 4:    XXXXXXXXXXXXXXXXXXXXXXXXXXXXXXXXXX---|----XXXXXXXXXXXXXXXXXXXXXX\n",
      "2022-12-31 20:58:04,135 - lwa_f.blocks.block:snap01 - INFO - adc - Chip 6, Lane 5:    XXXXXXXXXXXXXXXXXXXXXXXXXXXXXXXX---|----XXXXXXXXXXXXXXXXXXXXXXXX\n",
      "2022-12-31 20:58:04,135 - lwa_f.blocks.block:snap01 - INFO - adc - Chip 6, Lane 6:    XXXXXXXXXXXXXXXXXXXXXXXXXXXXXXXXX---|---XXXXXXXXXXXXXXXXXXXXXXXX\n",
      "2022-12-31 20:58:04,136 - lwa_f.blocks.block:snap01 - INFO - adc - Chip 6, Lane 7:    XXXXXXXXXXXXXXXXXXXXXXXXXXXXXXXXXX---|----XXXXXXXXXXXXXXXXXXXXXX\n",
      "2022-12-31 20:58:04,137 - lwa_f.blocks.block:snap01 - INFO - adc - Chip 7, Lane 0:    XXXXXXXXXXXXXXXXXXXXXXXXXXXXXXXXXXXXXX----|----XXXXXXXXXXXXXXXXX\n",
      "2022-12-31 20:58:04,137 - lwa_f.blocks.block:snap01 - INFO - adc - Chip 7, Lane 1:    XXXXXXXXXXXXXXXXXXXXXXXXXXXXXXXXXXXXXX---|----XXXXXXXXXXXXXXXXXX\n",
      "2022-12-31 20:58:04,138 - lwa_f.blocks.block:snap01 - INFO - adc - Chip 7, Lane 2:    XXXXXXXXXXXXXXXXXXXXXXXXXXXXXXXXXXXXXX---|----XXXXXXXXXXXXXXXXXX\n",
      "2022-12-31 20:58:04,138 - lwa_f.blocks.block:snap01 - INFO - adc - Chip 7, Lane 3:    XXXXXXXXXXXXXXXXXXXXXXXXXXXXXXXXXXXXX----|----XXXXXXXXXXXXXXXXXX\n",
      "2022-12-31 20:58:04,139 - lwa_f.blocks.block:snap01 - INFO - adc - Chip 7, Lane 4:    XXXXXXXXXXXXXXXXXXXXXXXXXXXXXXXXXXXXXX---|----XXXXXXXXXXXXXXXXXX\n",
      "2022-12-31 20:58:04,140 - lwa_f.blocks.block:snap01 - INFO - adc - Chip 7, Lane 5:    XXXXXXXXXXXXXXXXXXXXXXXXXXXXXXXXXXXXXX---|----XXXXXXXXXXXXXXXXXX\n",
      "2022-12-31 20:58:04,140 - lwa_f.blocks.block:snap01 - INFO - adc - Chip 7, Lane 6:    XXXXXXXXXXXXXXXXXXXXXXXXXXXXXXXXXXXXXX---|----XXXXXXXXXXXXXXXXXX\n",
      "2022-12-31 20:58:04,141 - lwa_f.blocks.block:snap01 - INFO - adc - Chip 7, Lane 7:    XXXXXXXXXXXXXXXXXXXXXXXXXXXXXXXXXXXXX---|----XXXXXXXXXXXXXXXXXXX\n",
      "2022-12-31 20:58:05,581 - lwa_f.blocks.block:snap01 - ERROR - adc - FMC 1: Data calibration Failure!\n",
      "2022-12-31 20:58:10,803 - lwa_f.snap2_fengine:snap01 - INFO - Initializing block (writable): sync\n",
      "2022-12-31 20:58:10,921 - lwa_f.snap2_fengine:snap01 - INFO - Initializing block (writable): noise\n",
      "2022-12-31 20:58:10,928 - lwa_f.snap2_fengine:snap01 - INFO - Initializing block (writable): input\n",
      "2022-12-31 20:58:11,097 - lwa_f.snap2_fengine:snap01 - INFO - Initializing block (writable): delay\n",
      "2022-12-31 20:58:11,684 - lwa_f.snap2_fengine:snap01 - INFO - Initializing block (writable): pfb\n",
      "2022-12-31 20:58:11,700 - lwa_f.snap2_fengine:snap01 - INFO - Initializing block (writable): eq\n",
      "2022-12-31 20:58:12,053 - lwa_f.snap2_fengine:snap01 - INFO - Initializing block (writable): eqtvg\n",
      "2022-12-31 20:58:13,224 - lwa_f.snap2_fengine:snap01 - INFO - Initializing block (writable): reorder\n",
      "2022-12-31 20:58:13,241 - lwa_f.snap2_fengine:snap01 - INFO - Initializing block (writable): packetizer\n",
      "2022-12-31 20:58:13,242 - lwa_f.snap2_fengine:snap01 - INFO - Initializing block (writable): eth\n",
      "2022-12-31 20:58:13,252 - lwa_f.snap2_fengine:snap01 - INFO - Initializing block (writable): autocorr\n",
      "2022-12-31 20:58:13,255 - lwa_f.snap2_fengine:snap01 - INFO - Initializing block (writable): corr\n",
      "2022-12-31 20:58:13,258 - lwa_f.snap2_fengine:snap01 - INFO - Initializing block (writable): powermon\n",
      "2022-12-31 20:58:16,512 - lwa_f.snap2_fengine:snap01 - INFO - Performing software global reset\n"
     ]
    }
   ],
   "source": [
    "casperbrd.listdev()\n",
    "brd.initialize(read_only=False)\n",
    "brd.sync.arm_sync()\n",
    "brd.sync.sw_sync()"
   ]
  },
  {
   "cell_type": "code",
   "execution_count": 157,
   "metadata": {},
   "outputs": [
    {
     "name": "stdout",
     "output_type": "stream",
     "text": [
      "Data source set to adc\n"
     ]
    }
   ],
   "source": [
    "setup_data_source(casperbrd,\"adc\")  #set it to adc here, and then set the counter test signal BEFORE the cosmic ray block"
   ]
  },
  {
   "cell_type": "code",
   "execution_count": 158,
   "metadata": {},
   "outputs": [
    {
     "name": "stdout",
     "output_type": "stream",
     "text": [
      "0\n",
      "1\n"
     ]
    }
   ],
   "source": [
    "print(casperbrd.read_int('set_counter_test_signal'))\n",
    "casperbrd.write_int('set_counter_test_signal',1)\n",
    "print(casperbrd.read_int('set_counter_test_signal'))\n",
    "\n",
    "setvalue(casperbrd,\"enable_coinc_trig\",\"cr_registers.xlsx\",1)\n"
   ]
  },
  {
   "cell_type": "markdown",
   "metadata": {},
   "source": [
    "The data source is set to a counter, before the delay block. \n",
    "## Initial test without setting delays\n",
    "The threshold is set to 511, all antennas have both roles, the antenna number thresholds and the window thresholds are zero.  As expected, all antennas reach the threshold once per 1024 clock cycles, and so there is a trigger and a veto once every 1024 clock cycles, or 262144 times in every time interval between updating the counter register."
   ]
  },
  {
   "cell_type": "code",
   "execution_count": 159,
   "metadata": {},
   "outputs": [
    {
     "name": "stdout",
     "output_type": "stream",
     "text": [
      "Core coincidence:  262144\n",
      "Veto coincidence:  262144\n",
      "262144.0 262144.0\n",
      "262144.0 262144.0\n",
      "262144.0 262144.0\n",
      "Clock cycles counted for  268435456\n",
      "Time counted for  1.34217728\n",
      "262144.0\n"
     ]
    }
   ],
   "source": [
    "#define parameters\n",
    "trigger_power_thresh=511**2\n",
    "veto_power_thresh=511**2\n",
    "trigger_window=100\n",
    "veto_window=200\n",
    "antenna_number_thresh=0\n",
    "veto_number_thresh=0\n",
    "\n",
    "#see notebook subarray_threshold_scans for a function to extract the delays from a text file of delays and antenna names\n",
    "delays=10*np.ones(64,dtype=int)\n",
    "core_roles_array=np.ones(64,dtype=int)\n",
    "veto_roles_array=np.ones(64,dtype=int)\n",
    "\n",
    "setup_coincidencer(casperbrd,trigger_power_thresh,\n",
    "                      veto_power_thresh,\n",
    "                      trigger_window,\n",
    "                      veto_window,\n",
    "                      antenna_number_thresh,\n",
    "                      veto_number_thresh,\n",
    "                      core_roles_array,\n",
    "                      veto_roles_array)\n",
    "set_delays(casperbrd,delays)\n",
    "\n",
    "time.sleep(2.75)  #have to wait for it to update.  The wait is this long because the current cycle will have a mix of settings. It has to finish.  Then the next cycle has to finish to get all good data.\n",
    "veto_coincidence,core_coincidence=struct.unpack('>2l',casperbrd.read(\"cosmic_ray_core_and_veto_rate\",2*4,0))\n",
    "core,veto = read_threshold_rates(casperbrd) #read each block\n",
    "\n",
    "print(\"Core coincidence: \", core_coincidence)\n",
    "print(\"Veto coincidence: \", veto_coincidence)\n",
    "print(core[0],veto[1])\n",
    "print(min(core),max(core))\n",
    "print(min(veto),max(veto))\n",
    "clockcycles_counted_for=(2**28)  #number of clock cycles that the trigger and veto rate counters counts for before updating\n",
    "number_of_10bit_counter_cycles=clockcycles_counted_for/1024 #number of times the 10 bit counter starts over during the above count\n",
    "print(\"Clock cycles counted for \", clockcycles_counted_for)\n",
    "print(\"Time counted for \", clockcycles_counted_for*5e-9)\n",
    "\n",
    "print(number_of_10bit_counter_cycles)"
   ]
  },
  {
   "cell_type": "code",
   "execution_count": 160,
   "metadata": {},
   "outputs": [
    {
     "name": "stdout",
     "output_type": "stream",
     "text": [
      "Core coincidence per 10b cycle:  1.0\n",
      "Veto coincidence per 10b cycle:  1.0\n",
      "Triggers at state control  0\n",
      "Triggers leaving block 0\n"
     ]
    }
   ],
   "source": [
    "#repeat above, in order to test out the test function\n",
    "trigger_power_thresh=511**2\n",
    "veto_power_thresh=511**2\n",
    "trigger_window=100\n",
    "veto_window=200\n",
    "antenna_number_thresh=0\n",
    "veto_number_thresh=0\n",
    "\n",
    "test_coincidencer(casperbrd,trigger_power_thresh,veto_power_thresh,trigger_window,veto_window,antenna_number_thresh,veto_number_thresh,delays,core_roles_array,veto_roles_array)"
   ]
  },
  {
   "cell_type": "markdown",
   "metadata": {},
   "source": [
    "## 3. Use a snapshot to test that I'm writing delays to the correct antennas\n",
    "\n",
    "I saved two snapshots, one after applying delays where the delays count up from 0 to 63 and the other where delays count down.  In a previous version, the snapshots show that the delays are applied as expected. Here, they are both counting up but since this passes all the other tests I need to confirm that it isn't part of a larger readout problem."
   ]
  },
  {
   "cell_type": "code",
   "execution_count": 187,
   "metadata": {},
   "outputs": [
    {
     "name": "stdout",
     "output_type": "stream",
     "text": [
      "------------------------\n",
      "snap01:cosmic_ray_cr_forty_gbe configuration:\n",
      "MAC:  02:02:02:01:01:01\n",
      "Gateway:  0.0.0.1\n",
      "IP:  10.41.0.201\n",
      "Fabric port: \n",
      "11111\n",
      "Fabric interface is currently: Enabled\n",
      "\tbase_ip: 255.255.255.255\n",
      "\tip_mask: 255.255.255.255\n",
      "\trx_ips: []\n",
      "ARP Table: \n",
      "IP: 10.41.0. 58: MAC: 04:3F:72:DF:C2:F8\n",
      "Setting wait between packets to 100\n",
      "Packetizer formed 64 packets\n",
      "Board successfully returned to listening state after readout\n",
      "Readout took 22848 clock cycles\n",
      "Packetizer never overflowed\n",
      "Ethernet block almost-full counter incremented by 0\n",
      "Packetizer formed 64 packets\n",
      "Board successfully returned to listening state after readout\n",
      "Readout took 22848 clock cycles\n",
      "Packetizer never overflowed\n",
      "Ethernet block almost-full counter incremented by 0\n"
     ]
    }
   ],
   "source": [
    "setvalue(casperbrd,\"enable_coinc_trig\",\"cr_registers.xlsx\",0)\n",
    "delays=64-np.asarray(range(64))\n",
    "set_delays(casperbrd,delays)\n",
    "\n",
    "setup_ethernet(brdname,casperbrd,fpgfile,'lwacr',100)\n",
    "setvalue(casperbrd,'brd_id','cr_registers.xlsx',1)\n",
    "\n",
    "#enable ethernet\n",
    "setvalue(casperbrd,'eth_enable','cr_registers.xlsx',1)\n",
    "#send trigger\n",
    "software_trigger(casperbrd,1)\n",
    "\n",
    "#set delays counting up\n",
    "delays=np.asarray(range(64))\n",
    "set_delays(casperbrd,delays)\n",
    "software_trigger(casperbrd,1)\n"
   ]
  },
  {
   "cell_type": "code",
   "execution_count": null,
   "metadata": {},
   "outputs": [],
   "source": []
  },
  {
   "cell_type": "code",
   "execution_count": 188,
   "metadata": {},
   "outputs": [
    {
     "data": {
      "text/plain": [
       "Text(0, 0.5, 'value')"
      ]
     },
     "execution_count": 188,
     "metadata": {},
     "output_type": "execute_result"
    },
    {
     "data": {
      "image/png": "[encoded data removed]",
      "text/plain": [
       "<Figure size 432x288 with 1 Axes>"
      ]
     },
     "metadata": {
      "needs_background": "light"
     },
     "output_type": "display_data"
    },
    {
     "data": {
      "image/png": "[encoded data removed]",
      "text/plain": [
       "<Figure size 432x288 with 1 Axes>"
      ]
     },
     "metadata": {
      "needs_background": "light"
     },
     "output_type": "display_data"
    }
   ],
   "source": [
    "#old snapshotfname='/home/ubuntu/kp/caltech-lwa/cosmic_ray_scripts/data_capture/snapshots/single_board_snapshot1662926949.397944_0_0.npy'\n",
    "#snapshotfname='/home/ubuntu/kp/caltech-lwa/cosmic_ray_scripts/data_capture/snapshots/single_board_snapshot1672524669.2956147_0_0.npy'\n",
    "#snapshotfname='/home/ubuntu/kp/caltech-lwa/cosmic_ray_scripts/data_capture/snapshots/single_board_snapshot1672525117.9031954_0_0.npy'\n",
    "snapshotfname='/home/ubuntu/kp/caltech-lwa/cosmic_ray_scripts/data_capture/snapshots/single_board_snapshot1672599026.9217265_0_0.npy'\n",
    "\n",
    "snapshot=np.load(snapshotfname)\n",
    "\n",
    "chanmap=np.loadtxt('channelmap.txt')\n",
    "plt.figure()\n",
    "timesample=2500\n",
    "plt.plot(chanmap[1,:],snapshot[timesample,4:],'.')\n",
    "plt.xlim(0,10)\n",
    "plt.xlabel('Channel')\n",
    "plt.ylabel('value')\n",
    "\n",
    "#old snapshotfname='/home/ubuntu/kp/caltech-lwa/cosmic_ray_scripts/data_capture/snapshots/single_board_snapshot1662929772.1028724_0_0.npy'\n",
    "#snapshotfname='/home/ubuntu/kp/caltech-lwa/cosmic_ray_scripts/data_capture/snapshots/single_board_snapshot1672524670.9214463_0_0.npy'\n",
    "#snapshotfname='/home/ubuntu/kp/caltech-lwa/cosmic_ray_scripts/data_capture/snapshots/single_board_snapshot1672525119.523457_0_0.npy'\n",
    "snapshotfname='/home/ubuntu/kp/caltech-lwa/cosmic_ray_scripts/data_capture/snapshots/single_board_snapshot1672599028.608758_0_0.npy'\n",
    "\n",
    "snapshot=np.load(snapshotfname)\n",
    "\n",
    "plt.figure()\n",
    "timesample=2500\n",
    "plt.plot(chanmap[1,:],snapshot[timesample,4:],'.')\n",
    "plt.xlim(0,10)\n",
    "plt.xlabel('Channel')\n",
    "plt.ylabel('value')"
   ]
  },
  {
   "cell_type": "code",
   "execution_count": 162,
   "metadata": {},
   "outputs": [],
   "source": [
    "#disable ethernet and enable internal trigger\n",
    "setvalue(casperbrd,'eth_enable','cr_registers.xlsx',0)\n",
    "\n",
    "setvalue(casperbrd,\"enable_coinc_trig\",\"cr_registers.xlsx\",1)\n"
   ]
  },
  {
   "cell_type": "markdown",
   "metadata": {},
   "source": [
    "## Are the antenna roles being set to the correct channels?\n",
    "In a previous version of this notebook I found that packantennaroles had the wrong bit order and I changed that. Here I'm testing whether the new version works. \n",
    "\n",
    "I'm testing the trigger and veto simultaneously with the same approach:  All the antennas are set to participate, and then one is turned off and delayed outside the window.  The threshold is set to 62. If the delayed antenna is not the turned-off antenna, there won't be enough antennas for a coincidence detected."
   ]
  },
  {
   "cell_type": "code",
   "execution_count": 163,
   "metadata": {},
   "outputs": [],
   "source": [
    "#initial setup\n",
    "trigger_power_thresh=511**2\n",
    "veto_power_thresh=511**2\n",
    "core_roles_array=np.ones(64,dtype=int)\n",
    "veto_roles_array=np.ones(64,dtype=int)\n",
    "\n",
    "antenna_number_thresh=62\n",
    "veto_number_thresh=62\n",
    "veto_window=15\n",
    "trigger_window=10\n",
    "delays=np.zeros(64,dtype=int)\n"
   ]
  },
  {
   "cell_type": "markdown",
   "metadata": {},
   "source": [
    "Test before turning one antenna off. There should be a coincidence and there is.\n"
   ]
  },
  {
   "cell_type": "code",
   "execution_count": 164,
   "metadata": {},
   "outputs": [
    {
     "name": "stdout",
     "output_type": "stream",
     "text": [
      "Core coincidence per 10b cycle:  1.0\n",
      "Veto coincidence per 10b cycle:  1.0\n",
      "Triggers at state control  0\n",
      "Triggers leaving block 0\n"
     ]
    }
   ],
   "source": [
    "#test before turning one antenna off. There should be a coincidence\n",
    "test_coincidencer(casperbrd,trigger_power_thresh,veto_power_thresh,trigger_window,veto_window,antenna_number_thresh,veto_number_thresh,delays,core_roles_array,veto_roles_array)\n"
   ]
  },
  {
   "cell_type": "markdown",
   "metadata": {},
   "source": [
    "Turn one antenna off but don't delay it. There should still be a coincidence even if the antenna roles go to the wrong antennas, and there is."
   ]
  },
  {
   "cell_type": "code",
   "execution_count": 165,
   "metadata": {},
   "outputs": [
    {
     "name": "stdout",
     "output_type": "stream",
     "text": [
      "Core coincidence per 10b cycle:  1.0\n",
      "Veto coincidence per 10b cycle:  1.0\n",
      "Triggers at state control  0\n",
      "Triggers leaving block 0\n"
     ]
    }
   ],
   "source": [
    "core_roles_array=np.ones(64,dtype=int)\n",
    "veto_roles_array=np.ones(64,dtype=int)\n",
    "core_roles_array[0]=0\n",
    "veto_roles_array[0]=0\n",
    "test_coincidencer(casperbrd,trigger_power_thresh,veto_power_thresh,trigger_window,veto_window,antenna_number_thresh,veto_number_thresh,delays,core_roles_array,veto_roles_array)\n"
   ]
  },
  {
   "cell_type": "markdown",
   "metadata": {},
   "source": [
    "Delay the turned-off antenna.  There's a coincidence.\n",
    "Repeat for all the antennas."
   ]
  },
  {
   "cell_type": "code",
   "execution_count": 166,
   "metadata": {},
   "outputs": [
    {
     "name": "stdout",
     "output_type": "stream",
     "text": [
      "Testing Antenna 0\n",
      "Core coincidence per 10b cycle:  1.0\n",
      "Veto coincidence per 10b cycle:  1.0\n",
      "Triggers at state control  0\n",
      "Triggers leaving block 0\n",
      "Testing Antenna 1\n",
      "Core coincidence per 10b cycle:  1.0\n",
      "Veto coincidence per 10b cycle:  1.0\n",
      "Triggers at state control  0\n",
      "Triggers leaving block 0\n",
      "Testing Antenna 2\n",
      "Core coincidence per 10b cycle:  1.0\n",
      "Veto coincidence per 10b cycle:  1.0\n",
      "Triggers at state control  0\n",
      "Triggers leaving block 0\n",
      "Testing Antenna 3\n",
      "Core coincidence per 10b cycle:  1.0\n",
      "Veto coincidence per 10b cycle:  1.0\n",
      "Triggers at state control  0\n",
      "Triggers leaving block 0\n",
      "Testing Antenna 4\n",
      "Core coincidence per 10b cycle:  1.0\n",
      "Veto coincidence per 10b cycle:  1.0\n",
      "Triggers at state control  0\n",
      "Triggers leaving block 0\n",
      "Testing Antenna 5\n",
      "Core coincidence per 10b cycle:  1.0\n",
      "Veto coincidence per 10b cycle:  1.0\n",
      "Triggers at state control  0\n",
      "Triggers leaving block 0\n",
      "Testing Antenna 6\n",
      "Core coincidence per 10b cycle:  1.0\n",
      "Veto coincidence per 10b cycle:  1.0\n",
      "Triggers at state control  0\n",
      "Triggers leaving block 0\n",
      "Testing Antenna 7\n",
      "Core coincidence per 10b cycle:  1.0\n",
      "Veto coincidence per 10b cycle:  1.0\n",
      "Triggers at state control  0\n",
      "Triggers leaving block 0\n",
      "Testing Antenna 8\n",
      "Core coincidence per 10b cycle:  1.0\n",
      "Veto coincidence per 10b cycle:  1.0\n",
      "Triggers at state control  0\n",
      "Triggers leaving block 0\n",
      "Testing Antenna 9\n",
      "Core coincidence per 10b cycle:  1.0\n",
      "Veto coincidence per 10b cycle:  1.0\n",
      "Triggers at state control  0\n",
      "Triggers leaving block 0\n",
      "Testing Antenna 10\n",
      "Core coincidence per 10b cycle:  1.0\n",
      "Veto coincidence per 10b cycle:  1.0\n",
      "Triggers at state control  0\n",
      "Triggers leaving block 0\n",
      "Testing Antenna 11\n",
      "Core coincidence per 10b cycle:  1.0\n",
      "Veto coincidence per 10b cycle:  1.0\n",
      "Triggers at state control  0\n",
      "Triggers leaving block 0\n",
      "Testing Antenna 12\n",
      "Core coincidence per 10b cycle:  1.0\n",
      "Veto coincidence per 10b cycle:  1.0\n",
      "Triggers at state control  0\n",
      "Triggers leaving block 0\n",
      "Testing Antenna 13\n",
      "Core coincidence per 10b cycle:  1.0\n",
      "Veto coincidence per 10b cycle:  1.0\n",
      "Triggers at state control  0\n",
      "Triggers leaving block 0\n",
      "Testing Antenna 14\n",
      "Core coincidence per 10b cycle:  1.0\n",
      "Veto coincidence per 10b cycle:  1.0\n",
      "Triggers at state control  0\n",
      "Triggers leaving block 0\n",
      "Testing Antenna 15\n",
      "Core coincidence per 10b cycle:  1.0\n",
      "Veto coincidence per 10b cycle:  1.0\n",
      "Triggers at state control  0\n",
      "Triggers leaving block 0\n",
      "Testing Antenna 16\n",
      "Core coincidence per 10b cycle:  1.0\n",
      "Veto coincidence per 10b cycle:  1.0\n",
      "Triggers at state control  0\n",
      "Triggers leaving block 0\n",
      "Testing Antenna 17\n",
      "Core coincidence per 10b cycle:  1.0\n",
      "Veto coincidence per 10b cycle:  1.0\n",
      "Triggers at state control  0\n",
      "Triggers leaving block 0\n",
      "Testing Antenna 18\n",
      "Core coincidence per 10b cycle:  1.0\n",
      "Veto coincidence per 10b cycle:  1.0\n",
      "Triggers at state control  0\n",
      "Triggers leaving block 0\n",
      "Testing Antenna 19\n",
      "Core coincidence per 10b cycle:  1.0\n",
      "Veto coincidence per 10b cycle:  1.0\n",
      "Triggers at state control  0\n",
      "Triggers leaving block 0\n",
      "Testing Antenna 20\n",
      "Core coincidence per 10b cycle:  1.0\n",
      "Veto coincidence per 10b cycle:  1.0\n",
      "Triggers at state control  0\n",
      "Triggers leaving block 0\n",
      "Testing Antenna 21\n",
      "Core coincidence per 10b cycle:  1.0\n",
      "Veto coincidence per 10b cycle:  1.0\n",
      "Triggers at state control  0\n",
      "Triggers leaving block 0\n",
      "Testing Antenna 22\n",
      "Core coincidence per 10b cycle:  1.0\n",
      "Veto coincidence per 10b cycle:  1.0\n",
      "Triggers at state control  0\n",
      "Triggers leaving block 0\n",
      "Testing Antenna 23\n",
      "Core coincidence per 10b cycle:  1.0\n",
      "Veto coincidence per 10b cycle:  1.0\n",
      "Triggers at state control  0\n",
      "Triggers leaving block 0\n",
      "Testing Antenna 24\n",
      "Core coincidence per 10b cycle:  1.0\n",
      "Veto coincidence per 10b cycle:  1.0\n",
      "Triggers at state control  0\n",
      "Triggers leaving block 0\n",
      "Testing Antenna 25\n",
      "Core coincidence per 10b cycle:  1.0\n",
      "Veto coincidence per 10b cycle:  1.0\n",
      "Triggers at state control  0\n",
      "Triggers leaving block 0\n",
      "Testing Antenna 26\n",
      "Core coincidence per 10b cycle:  1.0\n",
      "Veto coincidence per 10b cycle:  1.0\n",
      "Triggers at state control  0\n",
      "Triggers leaving block 0\n",
      "Testing Antenna 27\n",
      "Core coincidence per 10b cycle:  1.0\n",
      "Veto coincidence per 10b cycle:  1.0\n",
      "Triggers at state control  0\n",
      "Triggers leaving block 0\n",
      "Testing Antenna 28\n",
      "Core coincidence per 10b cycle:  1.0\n",
      "Veto coincidence per 10b cycle:  1.0\n",
      "Triggers at state control  0\n",
      "Triggers leaving block 0\n",
      "Testing Antenna 29\n",
      "Core coincidence per 10b cycle:  1.0\n",
      "Veto coincidence per 10b cycle:  1.0\n",
      "Triggers at state control  0\n",
      "Triggers leaving block 0\n",
      "Testing Antenna 30\n",
      "Core coincidence per 10b cycle:  1.0\n",
      "Veto coincidence per 10b cycle:  1.0\n",
      "Triggers at state control  0\n",
      "Triggers leaving block 0\n",
      "Testing Antenna 31\n",
      "Core coincidence per 10b cycle:  1.0\n",
      "Veto coincidence per 10b cycle:  1.0\n",
      "Triggers at state control  0\n",
      "Triggers leaving block 0\n",
      "Testing Antenna 32\n",
      "Core coincidence per 10b cycle:  1.0\n",
      "Veto coincidence per 10b cycle:  1.0\n",
      "Triggers at state control  0\n",
      "Triggers leaving block 0\n",
      "Testing Antenna 33\n",
      "Core coincidence per 10b cycle:  1.0\n",
      "Veto coincidence per 10b cycle:  1.0\n",
      "Triggers at state control  0\n",
      "Triggers leaving block 0\n",
      "Testing Antenna 34\n",
      "Core coincidence per 10b cycle:  1.0\n",
      "Veto coincidence per 10b cycle:  1.0\n",
      "Triggers at state control  0\n",
      "Triggers leaving block 0\n",
      "Testing Antenna 35\n",
      "Core coincidence per 10b cycle:  1.0\n",
      "Veto coincidence per 10b cycle:  1.0\n",
      "Triggers at state control  0\n",
      "Triggers leaving block 0\n",
      "Testing Antenna 36\n",
      "Core coincidence per 10b cycle:  1.0\n",
      "Veto coincidence per 10b cycle:  1.0\n",
      "Triggers at state control  0\n",
      "Triggers leaving block 0\n",
      "Testing Antenna 37\n",
      "Core coincidence per 10b cycle:  1.0\n",
      "Veto coincidence per 10b cycle:  1.0\n",
      "Triggers at state control  0\n",
      "Triggers leaving block 0\n",
      "Testing Antenna 38\n",
      "Core coincidence per 10b cycle:  1.0\n",
      "Veto coincidence per 10b cycle:  1.0\n",
      "Triggers at state control  0\n",
      "Triggers leaving block 0\n",
      "Testing Antenna 39\n",
      "Core coincidence per 10b cycle:  1.0\n",
      "Veto coincidence per 10b cycle:  1.0\n",
      "Triggers at state control  0\n",
      "Triggers leaving block 0\n",
      "Testing Antenna 40\n",
      "Core coincidence per 10b cycle:  1.0\n",
      "Veto coincidence per 10b cycle:  1.0\n",
      "Triggers at state control  0\n",
      "Triggers leaving block 0\n",
      "Testing Antenna 41\n",
      "Core coincidence per 10b cycle:  1.0\n",
      "Veto coincidence per 10b cycle:  1.0\n",
      "Triggers at state control  0\n",
      "Triggers leaving block 0\n",
      "Testing Antenna 42\n",
      "Core coincidence per 10b cycle:  1.0\n",
      "Veto coincidence per 10b cycle:  1.0\n",
      "Triggers at state control  0\n",
      "Triggers leaving block 0\n",
      "Testing Antenna 43\n",
      "Core coincidence per 10b cycle:  1.0\n",
      "Veto coincidence per 10b cycle:  1.0\n",
      "Triggers at state control  0\n",
      "Triggers leaving block 0\n",
      "Testing Antenna 44\n",
      "Core coincidence per 10b cycle:  1.0\n",
      "Veto coincidence per 10b cycle:  1.0\n",
      "Triggers at state control  0\n",
      "Triggers leaving block 0\n",
      "Testing Antenna 45\n",
      "Core coincidence per 10b cycle:  1.0\n",
      "Veto coincidence per 10b cycle:  1.0\n",
      "Triggers at state control  0\n",
      "Triggers leaving block 0\n",
      "Testing Antenna 46\n",
      "Core coincidence per 10b cycle:  1.0\n",
      "Veto coincidence per 10b cycle:  1.0\n",
      "Triggers at state control  0\n",
      "Triggers leaving block 0\n",
      "Testing Antenna 47\n",
      "Core coincidence per 10b cycle:  1.0\n",
      "Veto coincidence per 10b cycle:  1.0\n",
      "Triggers at state control  0\n",
      "Triggers leaving block 0\n",
      "Testing Antenna 48\n",
      "Core coincidence per 10b cycle:  1.0\n",
      "Veto coincidence per 10b cycle:  1.0\n",
      "Triggers at state control  0\n",
      "Triggers leaving block 0\n",
      "Testing Antenna 49\n",
      "Core coincidence per 10b cycle:  1.0\n",
      "Veto coincidence per 10b cycle:  1.0\n",
      "Triggers at state control  0\n",
      "Triggers leaving block 0\n",
      "Testing Antenna 50\n",
      "Core coincidence per 10b cycle:  1.0\n",
      "Veto coincidence per 10b cycle:  1.0\n",
      "Triggers at state control  0\n",
      "Triggers leaving block 0\n",
      "Testing Antenna 51\n",
      "Core coincidence per 10b cycle:  1.0\n",
      "Veto coincidence per 10b cycle:  1.0\n",
      "Triggers at state control  0\n",
      "Triggers leaving block 0\n",
      "Testing Antenna 52\n",
      "Core coincidence per 10b cycle:  1.0\n",
      "Veto coincidence per 10b cycle:  1.0\n",
      "Triggers at state control  0\n",
      "Triggers leaving block 0\n",
      "Testing Antenna 53\n",
      "Core coincidence per 10b cycle:  1.0\n",
      "Veto coincidence per 10b cycle:  1.0\n",
      "Triggers at state control  0\n",
      "Triggers leaving block 0\n",
      "Testing Antenna 54\n",
      "Core coincidence per 10b cycle:  1.0\n",
      "Veto coincidence per 10b cycle:  1.0\n",
      "Triggers at state control  0\n",
      "Triggers leaving block 0\n",
      "Testing Antenna 55\n",
      "Core coincidence per 10b cycle:  1.0\n",
      "Veto coincidence per 10b cycle:  1.0\n",
      "Triggers at state control  0\n",
      "Triggers leaving block 0\n",
      "Testing Antenna 56\n"
     ]
    },
    {
     "name": "stdout",
     "output_type": "stream",
     "text": [
      "Core coincidence per 10b cycle:  1.0\n",
      "Veto coincidence per 10b cycle:  1.0\n",
      "Triggers at state control  0\n",
      "Triggers leaving block 0\n",
      "Testing Antenna 57\n",
      "Core coincidence per 10b cycle:  1.0\n",
      "Veto coincidence per 10b cycle:  1.0\n",
      "Triggers at state control  0\n",
      "Triggers leaving block 0\n",
      "Testing Antenna 58\n",
      "Core coincidence per 10b cycle:  1.0\n",
      "Veto coincidence per 10b cycle:  1.0\n",
      "Triggers at state control  0\n",
      "Triggers leaving block 0\n",
      "Testing Antenna 59\n",
      "Core coincidence per 10b cycle:  1.0\n",
      "Veto coincidence per 10b cycle:  1.0\n",
      "Triggers at state control  0\n",
      "Triggers leaving block 0\n",
      "Testing Antenna 60\n",
      "Core coincidence per 10b cycle:  1.0\n",
      "Veto coincidence per 10b cycle:  1.0\n",
      "Triggers at state control  0\n",
      "Triggers leaving block 0\n",
      "Testing Antenna 61\n",
      "Core coincidence per 10b cycle:  1.0\n",
      "Veto coincidence per 10b cycle:  1.0\n",
      "Triggers at state control  0\n",
      "Triggers leaving block 0\n",
      "Testing Antenna 62\n",
      "Core coincidence per 10b cycle:  1.0\n",
      "Veto coincidence per 10b cycle:  1.0\n",
      "Triggers at state control  0\n",
      "Triggers leaving block 0\n",
      "Testing Antenna 63\n",
      "Core coincidence per 10b cycle:  1.0\n",
      "Veto coincidence per 10b cycle:  1.0\n",
      "Triggers at state control  0\n",
      "Triggers leaving block 0\n"
     ]
    }
   ],
   "source": [
    "for i in range(64):\n",
    "    print(\"Testing Antenna \" + str(i))\n",
    "    core_roles_array=np.ones(64,dtype=int)\n",
    "    veto_roles_array=np.ones(64,dtype=int)\n",
    "    core_roles_array[i]=0\n",
    "    veto_roles_array[i]=0\n",
    "    delays=np.zeros(64,dtype=int)\n",
    "    delays[i]=100\n",
    "    test_coincidencer(casperbrd,trigger_power_thresh,veto_power_thresh,trigger_window,veto_window,antenna_number_thresh,veto_number_thresh,delays,core_roles_array,veto_roles_array)\n"
   ]
  },
  {
   "cell_type": "code",
   "execution_count": 167,
   "metadata": {},
   "outputs": [
    {
     "name": "stdout",
     "output_type": "stream",
     "text": [
      "0b11111111111111111111111111111111\n",
      "0b11111111111111111111111111111110\n",
      "0b11111111111111111111111111111111\n",
      "0b11111111111111111111111111111110\n"
     ]
    }
   ],
   "source": [
    "triggerantennas1=getvalue(casperbrd,'trigger_antennas1','cr_registers.xlsx')\n",
    "print(bin(triggerantennas1))\n",
    "triggerantennas2=getvalue(casperbrd,'trigger_antennas2','cr_registers.xlsx')\n",
    "print(bin(triggerantennas2))\n",
    "\n",
    "\n",
    "vetoantennas1=getvalue(casperbrd,'veto_antennas1','cr_registers.xlsx')\n",
    "print(bin(vetoantennas1))\n",
    "vetoantennas2=getvalue(casperbrd,'veto_antennas2','cr_registers.xlsx')\n",
    "print(bin(vetoantennas2))\n"
   ]
  },
  {
   "cell_type": "markdown",
   "metadata": {},
   "source": [
    "The bit-order problem with the packantennaroles function appears to be resolved successfully.  "
   ]
  },
  {
   "cell_type": "code",
   "execution_count": null,
   "metadata": {},
   "outputs": [],
   "source": []
  },
  {
   "cell_type": "markdown",
   "metadata": {},
   "source": [
    "## Simple tests -- test trigger and veto individually\n",
    "\n",
    "The expected output of the following cell is*:\n",
    "\n",
    "Core coincidence per 10b cycle:  1.0\n",
    "\n",
    "Veto coincidence per 10b cycle:  0.0\n",
    "\n",
    "Triggers at state control  544611\n",
    "\n",
    "Triggers leaving block 538585\n",
    "\n",
    "Core coincidence per 10b cycle:  1.0\n",
    "\n",
    "Veto coincidence per 10b cycle:  0.0\n",
    "\n",
    "Triggers at state control  545631\n",
    "\n",
    "Triggers leaving block 538397\n",
    "\n",
    "Core coincidence per 10b cycle:  0.0\n",
    "\n",
    "Veto coincidence per 10b cycle:  0.0\n",
    "\n",
    "Triggers at state control  0\n",
    "\n",
    "Triggers leaving block 0\n",
    "\n",
    "Core coincidence per 10b cycle:  0.0\n",
    "\n",
    "Veto coincidence per 10b cycle:  0.0\n",
    "\n",
    "Triggers at state control  0\n",
    "\n",
    "Triggers leaving block 0\n",
    "\n",
    "Core coincidence per 10b cycle:  0.0\n",
    "\n",
    "Veto coincidence per 10b cycle:  0.0\n",
    "\n",
    "Triggers at state control  0\n",
    "\n",
    "Triggers leaving block 0\n",
    "\n",
    "*Trigger counts can vary slightly due to the time to read the register, coincidence counts should be exactly correct."
   ]
  },
  {
   "cell_type": "code",
   "execution_count": 168,
   "metadata": {},
   "outputs": [
    {
     "name": "stdout",
     "output_type": "stream",
     "text": [
      "Core coincidence per 10b cycle:  1.0\n",
      "Veto coincidence per 10b cycle:  0.0\n",
      "Triggers at state control  545073\n",
      "Triggers leaving block 538682\n",
      "Core coincidence per 10b cycle:  1.0\n",
      "Veto coincidence per 10b cycle:  0.0\n",
      "Triggers at state control  545826\n",
      "Triggers leaving block 539053\n",
      "Core coincidence per 10b cycle:  0.0\n",
      "Veto coincidence per 10b cycle:  0.0\n",
      "Triggers at state control  0\n",
      "Triggers leaving block 0\n",
      "Core coincidence per 10b cycle:  0.0\n",
      "Veto coincidence per 10b cycle:  0.0\n",
      "Triggers at state control  0\n",
      "Triggers leaving block 0\n",
      "Core coincidence per 10b cycle:  0.0\n",
      "Veto coincidence per 10b cycle:  0.0\n",
      "Triggers at state control  0\n",
      "Triggers leaving block 0\n"
     ]
    }
   ],
   "source": [
    "#no veto antennas used, only trigger\n",
    "trigger_power_thresh=511**2\n",
    "veto_power_thresh=511**2\n",
    "core_roles_array=np.zeros(64,dtype=int)\n",
    "core_roles_array[0:2]=1\n",
    "veto_roles_array=np.zeros(64,dtype=int)\n",
    "antenna_number_thresh=1\n",
    "veto_number_thresh=0\n",
    "veto_window=0\n",
    "\n",
    "trigger_window=10\n",
    "delays=np.zeros(64,dtype=int)\n",
    "delays[0]=1\n",
    "delays[1]=2 \n",
    "\n",
    "test_coincidencer(casperbrd,trigger_power_thresh,veto_power_thresh,trigger_window,veto_window,antenna_number_thresh,veto_number_thresh,delays,core_roles_array,veto_roles_array)\n",
    "\n",
    "delays[1]=8 \n",
    "test_coincidencer(casperbrd,trigger_power_thresh,veto_power_thresh,trigger_window,veto_window,antenna_number_thresh,veto_number_thresh,delays,core_roles_array,veto_roles_array)\n",
    "\n",
    "delays[1]=11 \n",
    "test_coincidencer(casperbrd,trigger_power_thresh,veto_power_thresh,trigger_window,veto_window,antenna_number_thresh,veto_number_thresh,delays,core_roles_array,veto_roles_array)\n",
    "\n",
    "delays[1]=12\n",
    "test_coincidencer(casperbrd,trigger_power_thresh,veto_power_thresh,trigger_window,veto_window,antenna_number_thresh,veto_number_thresh,delays,core_roles_array,veto_roles_array)\n",
    "\n",
    "delays[1]=200\n",
    "test_coincidencer(casperbrd,trigger_power_thresh,veto_power_thresh,trigger_window,veto_window,antenna_number_thresh,veto_number_thresh,delays,core_roles_array,veto_roles_array)\n"
   ]
  },
  {
   "cell_type": "markdown",
   "metadata": {},
   "source": [
    "### Test the veto by itself. All these have a core trigger.\n",
    "The expected output is*:\n",
    "\n",
    "Core coincidence per 10b cycle:  1.0 \n",
    "\n",
    "Veto coincidence per 10b cycle:  1.0\n",
    "\n",
    "Triggers at state control  0\n",
    "\n",
    "Triggers leaving block 0\n",
    "\n",
    "Core coincidence per 10b cycle:  1.0\n",
    "\n",
    "Veto coincidence per 10b cycle:  1.0\n",
    "\n",
    "Triggers at state control  0\n",
    "\n",
    "Triggers leaving block 0\n",
    "\n",
    "Core coincidence per 10b cycle:  1.0\n",
    "\n",
    "Veto coincidence per 10b cycle:  0.0\n",
    "\n",
    "Triggers at state control  546062\n",
    "\n",
    "Triggers leaving block 537924\n",
    "\n",
    "Core coincidence per 10b cycle:  1.0\n",
    "\n",
    "Veto coincidence per 10b cycle:  0.0\n",
    "\n",
    "Triggers at state control  545295\n",
    "\n",
    "Triggers leaving block 538346\n",
    "\n",
    "Core coincidence per 10b cycle:  1.0\n",
    "\n",
    "Veto coincidence per 10b cycle:  0.0\n",
    "\n",
    "Triggers at state control  559426\n",
    "\n",
    "Triggers leaving block 552852\n",
    "\n",
    "\n",
    "*Trigger counts can vary slightly due to the time to read the register, coincidence counts should be exactly correct."
   ]
  },
  {
   "cell_type": "code",
   "execution_count": 169,
   "metadata": {},
   "outputs": [
    {
     "name": "stdout",
     "output_type": "stream",
     "text": [
      "Core coincidence per 10b cycle:  1.0\n",
      "Veto coincidence per 10b cycle:  1.0\n",
      "Triggers at state control  0\n",
      "Triggers leaving block 0\n",
      "Core coincidence per 10b cycle:  1.0\n",
      "Veto coincidence per 10b cycle:  1.0\n",
      "Triggers at state control  0\n",
      "Triggers leaving block 0\n",
      "Core coincidence per 10b cycle:  1.0\n",
      "Veto coincidence per 10b cycle:  0.0\n",
      "Triggers at state control  545236\n",
      "Triggers leaving block 539815\n",
      "Core coincidence per 10b cycle:  1.0\n",
      "Veto coincidence per 10b cycle:  0.0\n",
      "Triggers at state control  564442\n",
      "Triggers leaving block 538366\n",
      "Core coincidence per 10b cycle:  1.0\n",
      "Veto coincidence per 10b cycle:  0.0\n",
      "Triggers at state control  582917\n",
      "Triggers leaving block 538475\n"
     ]
    }
   ],
   "source": [
    "#test the veto by itself. All these have a core trigger.\n",
    "trigger_power_thresh=511**2\n",
    "veto_power_thresh=511**2\n",
    "core_roles_array=np.zeros(64,dtype=int)\n",
    "core_roles_array[0]=1\n",
    "core_roles_array[1]=1\n",
    "veto_roles_array=np.zeros(64,dtype=int)\n",
    "veto_roles_array[2]=1\n",
    "veto_roles_array[3]=1\n",
    "\n",
    "antenna_number_thresh=1\n",
    "veto_number_thresh=1\n",
    "veto_window=15\n",
    "trigger_window=10\n",
    "delays=np.zeros(64,dtype=int)\n",
    "delays[0]=1\n",
    "delays[1]=2 \n",
    "delays[2]=1\n",
    "delays[3]=2 \n",
    "\n",
    "test_coincidencer(casperbrd,trigger_power_thresh,veto_power_thresh,trigger_window,veto_window,antenna_number_thresh,veto_number_thresh,delays,core_roles_array,veto_roles_array)\n",
    "\n",
    "delays[3]=12\n",
    "test_coincidencer(casperbrd,trigger_power_thresh,veto_power_thresh,trigger_window,veto_window,antenna_number_thresh,veto_number_thresh,delays,core_roles_array,veto_roles_array)\n",
    "\n",
    "delays[3]=16\n",
    "test_coincidencer(casperbrd,trigger_power_thresh,veto_power_thresh,trigger_window,veto_window,antenna_number_thresh,veto_number_thresh,delays,core_roles_array,veto_roles_array)\n",
    "\n",
    "delays[3]=20\n",
    "test_coincidencer(casperbrd,trigger_power_thresh,veto_power_thresh,trigger_window,veto_window,antenna_number_thresh,veto_number_thresh,delays,core_roles_array,veto_roles_array)\n",
    "\n",
    "delays[3]=100\n",
    "test_coincidencer(casperbrd,trigger_power_thresh,veto_power_thresh,trigger_window,veto_window,antenna_number_thresh,veto_number_thresh,delays,core_roles_array,veto_roles_array)\n"
   ]
  },
  {
   "cell_type": "code",
   "execution_count": null,
   "metadata": {},
   "outputs": [],
   "source": []
  },
  {
   "cell_type": "code",
   "execution_count": null,
   "metadata": {},
   "outputs": [],
   "source": []
  },
  {
   "cell_type": "code",
   "execution_count": null,
   "metadata": {},
   "outputs": [],
   "source": []
  },
  {
   "cell_type": "code",
   "execution_count": null,
   "metadata": {},
   "outputs": [],
   "source": []
  },
  {
   "cell_type": "code",
   "execution_count": null,
   "metadata": {},
   "outputs": [],
   "source": []
  },
  {
   "cell_type": "markdown",
   "metadata": {},
   "source": [
    "# Main Tests\n",
    "\n",
    "Trigger and veto power thresholds remain 511, and the core and veto number thresholds remain 2 (at least three antennas required).  The core antennas are signals 0, 1, and 2, and the veto antennas are signals 3, 4, 5.  The next sections go through five scenarios with variants.\n",
    "\n",
    "\n",
    "\n",
    "\n"
   ]
  },
  {
   "cell_type": "code",
   "execution_count": 170,
   "metadata": {},
   "outputs": [],
   "source": [
    "\n",
    "trigger_power_thresh=511**2\n",
    "veto_power_thresh=511**2\n",
    "core_roles_array=np.zeros(64,dtype=int)\n",
    "core_roles_array[0:3]=1\n",
    "veto_roles_array=np.zeros(64,dtype=int)\n",
    "veto_roles_array[3:6]=1\n",
    "antenna_number_thresh=2\n",
    "veto_number_thresh=2\n",
    "\n"
   ]
  },
  {
   "cell_type": "markdown",
   "metadata": {},
   "source": []
  },
  {
   "cell_type": "markdown",
   "metadata": {},
   "source": []
  },
  {
   "cell_type": "code",
   "execution_count": null,
   "metadata": {
    "scrolled": false
   },
   "outputs": [],
   "source": [
    "\n"
   ]
  },
  {
   "cell_type": "markdown",
   "metadata": {},
   "source": []
  },
  {
   "cell_type": "code",
   "execution_count": null,
   "metadata": {},
   "outputs": [],
   "source": []
  },
  {
   "cell_type": "markdown",
   "metadata": {},
   "source": [
    " If the veto requires Nv antennas and the core requires Nc antennas, then the veto cancels the core if $ |t_{nv} - t_{nc} -2| < W_v +1$ where $W_v$ is the veto window, $t_{nc}$ is the time that the $Nc^{th}$ core antenna receives the signal, and t_{nv} is the time that the $Nv^{th}$ veto antenna receives the signal. Note LESS than not less or equal.  The -2 and the +1 are due to relative clock cycle differences within the firmware logic (e.g. net affect of the latency of different blocks)."
   ]
  },
  {
   "cell_type": "markdown",
   "metadata": {},
   "source": [
    "## Veto after Core\n",
    "### a) Veto long after"
   ]
  },
  {
   "cell_type": "code",
   "execution_count": null,
   "metadata": {},
   "outputs": [],
   "source": []
  },
  {
   "cell_type": "code",
   "execution_count": 171,
   "metadata": {},
   "outputs": [
    {
     "name": "stdout",
     "output_type": "stream",
     "text": [
      "1) Expect Trigger is vetoed\n",
      "trigger window:  11 veto window:  510\n",
      "Core coincidence per 10b cycle:  1.0\n",
      "Veto coincidence per 10b cycle:  1.0\n",
      "Triggers at state control  0\n",
      "Triggers leaving block 0\n",
      "\n",
      "trigger window:  11 veto window:  500\n",
      "Core coincidence per 10b cycle:  1.0\n",
      "Veto coincidence per 10b cycle:  1.0\n",
      "Triggers at state control  0\n",
      "Triggers leaving block 0\n",
      "\n",
      "trigger window:  100 veto window:  500\n",
      "Core coincidence per 10b cycle:  1.0\n",
      "Veto coincidence per 10b cycle:  1.0\n",
      "Triggers at state control  0\n",
      "Triggers leaving block 0\n",
      "\n",
      "trigger window:  100 veto window:  503\n",
      "Core coincidence per 10b cycle:  1.0\n",
      "Veto coincidence per 10b cycle:  1.0\n",
      "Triggers at state control  0\n",
      "Triggers leaving block 0\n",
      "\n",
      "trigger window:  300 veto window:  500\n",
      "Core coincidence per 10b cycle:  1.0\n",
      "Veto coincidence per 10b cycle:  1.0\n",
      "Triggers at state control  0\n",
      "Triggers leaving block 0\n",
      "\n",
      "\n",
      "2) Expect Veto misses trigger\n",
      "trigger window:  11 veto window:  62\n",
      "Core coincidence per 10b cycle:  1.0\n",
      "Veto coincidence per 10b cycle:  1.0\n",
      "Triggers at state control  545869\n",
      "Triggers leaving block 538305\n",
      "\n",
      "trigger window:  11 veto window:  499\n",
      "Core coincidence per 10b cycle:  1.0\n",
      "Veto coincidence per 10b cycle:  1.0\n",
      "Triggers at state control  545808\n",
      "Triggers leaving block 539609\n",
      "\n",
      "trigger window:  100 veto window:  499\n",
      "Core coincidence per 10b cycle:  1.0\n",
      "Veto coincidence per 10b cycle:  1.0\n",
      "Triggers at state control  545005\n",
      "Triggers leaving block 537825\n",
      "\n",
      "trigger window:  300 veto window:  499\n",
      "Core coincidence per 10b cycle:  1.0\n",
      "Veto coincidence per 10b cycle:  1.0\n",
      "Triggers at state control  545205\n",
      "Triggers leaving block 538154\n",
      "\n",
      "trigger window:  300 veto window:  350\n",
      "Core coincidence per 10b cycle:  1.0\n",
      "Veto coincidence per 10b cycle:  1.0\n",
      "Triggers at state control  544571\n",
      "Triggers leaving block 538481\n",
      "\n",
      "\n",
      "3) Expect No trigger or veto\n",
      "trigger window:  9 veto window:  58\n",
      "Core coincidence per 10b cycle:  0.0\n",
      "Veto coincidence per 10b cycle:  0.0\n",
      "Triggers at state control  0\n",
      "Triggers leaving block 0\n",
      "\n",
      "trigger window:  9 veto window:  55\n",
      "Core coincidence per 10b cycle:  0.0\n",
      "Veto coincidence per 10b cycle:  0.0\n",
      "Triggers at state control  0\n",
      "Triggers leaving block 0\n",
      "\n",
      "trigger window:  2 veto window:  49\n",
      "Core coincidence per 10b cycle:  0.0\n",
      "Veto coincidence per 10b cycle:  0.0\n",
      "Triggers at state control  0\n",
      "Triggers leaving block 0\n",
      "\n",
      "\n"
     ]
    }
   ],
   "source": [
    "delays=np.ones(64,dtype=int)\n",
    "delays[0:6]=[1,5,10,450,500,508] #core antennas are first three, veto antennas are second three\n",
    "set_delays(casperbrd,delays)\n",
    "\n",
    "\n",
    "print(\"1) Expect Trigger is vetoed\")\n",
    "trigger_windows=[11,11,100,100,300]\n",
    "veto_windows=[510,500,500,503,500]\n",
    "for i in range(len(trigger_windows)):\n",
    "    trigger_window=trigger_windows[i]\n",
    "    veto_window=veto_windows[i]\n",
    "    print(\"trigger window: \", trigger_window, \"veto window: \", veto_window)\n",
    "    test_coincidencer(casperbrd,trigger_power_thresh,veto_power_thresh,trigger_window,veto_window,antenna_number_thresh,veto_number_thresh,delays,core_roles_array,veto_roles_array)\n",
    "    print('')\n",
    "print('')\n",
    "\n",
    "\n",
    "print(\"2) Expect Veto misses trigger\")\n",
    "trigger_windows=[11,11,100,300,300]\n",
    "veto_windows=[62,499,499,499,350]\n",
    "for i in range(len(trigger_windows)):\n",
    "    trigger_window=trigger_windows[i]\n",
    "    veto_window=veto_windows[i]\n",
    "    print(\"trigger window: \", trigger_window, \"veto window: \", veto_window)\n",
    "    test_coincidencer(casperbrd,trigger_power_thresh,veto_power_thresh,trigger_window,veto_window,antenna_number_thresh,veto_number_thresh,delays,core_roles_array,veto_roles_array)\n",
    "    print('')\n",
    "print('')\n",
    "\n",
    "print(\"3) Expect No trigger or veto\")\n",
    "trigger_windows=[9,9,2]\n",
    "veto_windows=[58,55,49]\n",
    "for i in range(len(trigger_windows)):\n",
    "    trigger_window=trigger_windows[i]\n",
    "    veto_window=veto_windows[i]\n",
    "    print(\"trigger window: \", trigger_window, \"veto window: \", veto_window)\n",
    "    test_coincidencer(casperbrd,trigger_power_thresh,veto_power_thresh,trigger_window,veto_window,antenna_number_thresh,veto_number_thresh,delays,core_roles_array,veto_roles_array)\n",
    "    print('')\n",
    "print('')\n"
   ]
  },
  {
   "cell_type": "markdown",
   "metadata": {},
   "source": [
    "### b) Veto Soon after"
   ]
  },
  {
   "cell_type": "code",
   "execution_count": 173,
   "metadata": {},
   "outputs": [
    {
     "name": "stdout",
     "output_type": "stream",
     "text": [
      "1) Expect Trigger is vetoed\n",
      "trigger window:  10 veto window:  48\n",
      "Core coincidence per 10b cycle:  1.0\n",
      "Veto coincidence per 10b cycle:  1.0\n",
      "Triggers at state control  0\n",
      "Triggers leaving block 0\n",
      "\n",
      "trigger window:  10 veto window:  503\n",
      "Core coincidence per 10b cycle:  1.0\n",
      "Veto coincidence per 10b cycle:  1.0\n",
      "Triggers at state control  0\n",
      "Triggers leaving block 0\n",
      "\n",
      "trigger window:  100 veto window:  48\n",
      "Core coincidence per 10b cycle:  1.0\n",
      "Veto coincidence per 10b cycle:  1.0\n",
      "Triggers at state control  0\n",
      "Triggers leaving block 0\n",
      "\n",
      "trigger window:  100 veto window:  503\n",
      "Core coincidence per 10b cycle:  1.0\n",
      "Veto coincidence per 10b cycle:  1.0\n",
      "Triggers at state control  0\n",
      "Triggers leaving block 0\n",
      "\n",
      "trigger window:  300 veto window:  450\n",
      "Core coincidence per 10b cycle:  1.0\n",
      "Veto coincidence per 10b cycle:  1.0\n",
      "Triggers at state control  0\n",
      "Triggers leaving block 0\n",
      "\n",
      "\n",
      "2) Expect Veto misses trigger\n",
      "trigger window:  11 veto window:  47\n",
      "Core coincidence per 10b cycle:  1.0\n",
      "Veto coincidence per 10b cycle:  1.0\n",
      "Triggers at state control  563935\n",
      "Triggers leaving block 538293\n",
      "\n",
      "trigger window:  11 veto window:  36\n",
      "Core coincidence per 10b cycle:  1.0\n",
      "Veto coincidence per 10b cycle:  1.0\n",
      "Triggers at state control  544837\n",
      "Triggers leaving block 538393\n",
      "\n",
      "trigger window:  40 veto window:  47\n",
      "Core coincidence per 10b cycle:  1.0\n",
      "Veto coincidence per 10b cycle:  1.0\n",
      "Triggers at state control  545112\n",
      "Triggers leaving block 538434\n",
      "\n",
      "trigger window:  11 veto window:  44\n",
      "Core coincidence per 10b cycle:  1.0\n",
      "Veto coincidence per 10b cycle:  1.0\n",
      "Triggers at state control  546080\n",
      "Triggers leaving block 539236\n",
      "\n",
      "trigger window:  30 veto window:  36\n",
      "Core coincidence per 10b cycle:  1.0\n",
      "Veto coincidence per 10b cycle:  1.0\n",
      "Triggers at state control  544818\n",
      "Triggers leaving block 539331\n",
      "\n",
      "\n",
      "3) Expect No trigger or veto\n",
      "trigger window:  8 veto window:  34\n",
      "Core coincidence per 10b cycle:  0.0\n",
      "Veto coincidence per 10b cycle:  0.0\n",
      "Triggers at state control  0\n",
      "Triggers leaving block 0\n",
      "\n",
      "trigger window:  8 veto window:  20\n",
      "Core coincidence per 10b cycle:  0.0\n",
      "Veto coincidence per 10b cycle:  0.0\n",
      "Triggers at state control  0\n",
      "Triggers leaving block 0\n",
      "\n",
      "trigger window:  2 veto window:  35\n",
      "Core coincidence per 10b cycle:  0.0\n",
      "Veto coincidence per 10b cycle:  0.0\n",
      "Triggers at state control  0\n",
      "Triggers leaving block 0\n",
      "\n",
      "\n"
     ]
    }
   ],
   "source": [
    "delays=np.ones(64,dtype=int)\n",
    "delays[0:6]=[1,5,9,20,50,55] #core antennas are first three, veto antennas are second three\n",
    "set_delays(casperbrd,delays)\n",
    "\n",
    "\n",
    "print(\"1) Expect Trigger is vetoed\")\n",
    "trigger_windows=[10,10,100,100,300]\n",
    "veto_windows=[48,503,48,503,450]\n",
    "for i in range(len(trigger_windows)):\n",
    "    trigger_window=trigger_windows[i]\n",
    "    veto_window=veto_windows[i]\n",
    "    print(\"trigger window: \", trigger_window, \"veto window: \", veto_window)\n",
    "    test_coincidencer(casperbrd,trigger_power_thresh,veto_power_thresh,trigger_window,veto_window,antenna_number_thresh,veto_number_thresh,delays,core_roles_array,veto_roles_array)\n",
    "    print('')\n",
    "print('')\n",
    "\n",
    "\n",
    "print(\"2) Expect Veto misses trigger\")\n",
    "trigger_windows=[11,11,40,11,30]\n",
    "veto_windows=[47,36,47,44,36]\n",
    "for i in range(len(trigger_windows)):\n",
    "    trigger_window=trigger_windows[i]\n",
    "    veto_window=veto_windows[i]\n",
    "    print(\"trigger window: \", trigger_window, \"veto window: \", veto_window)\n",
    "    test_coincidencer(casperbrd,trigger_power_thresh,veto_power_thresh,trigger_window,veto_window,antenna_number_thresh,veto_number_thresh,delays,core_roles_array,veto_roles_array)\n",
    "    print('')\n",
    "print('')\n",
    "\n",
    "print(\"3) Expect No trigger or veto\")\n",
    "trigger_windows=[8,8,2]\n",
    "veto_windows=[34,20,35]\n",
    "for i in range(len(trigger_windows)):\n",
    "    trigger_window=trigger_windows[i]\n",
    "    veto_window=veto_windows[i]\n",
    "    print(\"trigger window: \", trigger_window, \"veto window: \", veto_window)\n",
    "    test_coincidencer(casperbrd,trigger_power_thresh,veto_power_thresh,trigger_window,veto_window,antenna_number_thresh,veto_number_thresh,delays,core_roles_array,veto_roles_array)\n",
    "    print('')\n",
    "print('')\n"
   ]
  },
  {
   "cell_type": "code",
   "execution_count": null,
   "metadata": {},
   "outputs": [],
   "source": [
    "\n"
   ]
  },
  {
   "cell_type": "markdown",
   "metadata": {},
   "source": [
    "### c) Veto widely arranged\n",
    "The scenario where the veto misses the trigger isn't possible here because the minimum window to have a trigger is longer than the minimum window for the veto to cancel the core."
   ]
  },
  {
   "cell_type": "code",
   "execution_count": 174,
   "metadata": {},
   "outputs": [
    {
     "name": "stdout",
     "output_type": "stream",
     "text": [
      "1) Expect Trigger is vetoed\n",
      "trigger window:  11 veto window:  501\n",
      "Core coincidence per 10b cycle:  1.0\n",
      "Veto coincidence per 10b cycle:  1.0\n",
      "Triggers at state control  0\n",
      "Triggers leaving block 0\n",
      "\n",
      "trigger window:  11 veto window:  500\n",
      "Core coincidence per 10b cycle:  1.0\n",
      "Veto coincidence per 10b cycle:  1.0\n",
      "Triggers at state control  0\n",
      "Triggers leaving block 0\n",
      "\n",
      "trigger window:  100 veto window:  500\n",
      "Core coincidence per 10b cycle:  1.0\n",
      "Veto coincidence per 10b cycle:  1.0\n",
      "Triggers at state control  0\n",
      "Triggers leaving block 0\n",
      "\n",
      "trigger window:  100 veto window:  501\n",
      "Core coincidence per 10b cycle:  1.0\n",
      "Veto coincidence per 10b cycle:  1.0\n",
      "Triggers at state control  0\n",
      "Triggers leaving block 0\n",
      "\n",
      "trigger window:  300 veto window:  500\n",
      "Core coincidence per 10b cycle:  1.0\n",
      "Veto coincidence per 10b cycle:  1.0\n",
      "Triggers at state control  0\n",
      "Triggers leaving block 0\n",
      "\n",
      "\n",
      "2) Expect Veto misses trigger\n",
      "trigger window:  11 veto window:  499\n",
      "Core coincidence per 10b cycle:  1.0\n",
      "Veto coincidence per 10b cycle:  1.0\n",
      "Triggers at state control  545446\n",
      "Triggers leaving block 539152\n",
      "\n",
      "trigger window:  11 veto window:  498\n",
      "Core coincidence per 10b cycle:  1.0\n",
      "Veto coincidence per 10b cycle:  1.0\n",
      "Triggers at state control  545820\n",
      "Triggers leaving block 538676\n",
      "\n",
      "trigger window:  40 veto window:  499\n",
      "Core coincidence per 10b cycle:  1.0\n",
      "Veto coincidence per 10b cycle:  1.0\n",
      "Triggers at state control  545435\n",
      "Triggers leaving block 538974\n",
      "\n",
      "trigger window:  11 veto window:  490\n",
      "Core coincidence per 10b cycle:  1.0\n",
      "Veto coincidence per 10b cycle:  1.0\n",
      "Triggers at state control  545199\n",
      "Triggers leaving block 538439\n",
      "\n",
      "trigger window:  30 veto window:  496\n",
      "Core coincidence per 10b cycle:  1.0\n",
      "Veto coincidence per 10b cycle:  1.0\n",
      "Triggers at state control  544915\n",
      "Triggers leaving block 538146\n",
      "\n",
      "\n",
      "3) Expect No trigger or veto\n",
      "trigger window:  9 veto window:  488\n",
      "Core coincidence per 10b cycle:  0.0\n",
      "Veto coincidence per 10b cycle:  0.0\n",
      "Triggers at state control  0\n",
      "Triggers leaving block 0\n",
      "\n",
      "trigger window:  9 veto window:  483\n",
      "Core coincidence per 10b cycle:  0.0\n",
      "Veto coincidence per 10b cycle:  0.0\n",
      "Triggers at state control  0\n",
      "Triggers leaving block 0\n",
      "\n",
      "trigger window:  2 veto window:  20\n",
      "Core coincidence per 10b cycle:  0.0\n",
      "Veto coincidence per 10b cycle:  0.0\n",
      "Triggers at state control  0\n",
      "Triggers leaving block 0\n",
      "\n",
      "\n"
     ]
    }
   ],
   "source": [
    "delays=np.ones(64,dtype=int)\n",
    "delays[0:6]=[1,5,10,20,300,508] #core antennas are first three, veto antennas are second three\n",
    "set_delays(casperbrd,delays)\n",
    "\n",
    "\n",
    "print(\"1) Expect Trigger is vetoed\")\n",
    "trigger_windows=[11,11,100,100,300]\n",
    "veto_windows=[501,500,500,501,500]\n",
    "for i in range(len(trigger_windows)):\n",
    "    trigger_window=trigger_windows[i]\n",
    "    veto_window=veto_windows[i]\n",
    "    print(\"trigger window: \", trigger_window, \"veto window: \", veto_window)\n",
    "    test_coincidencer(casperbrd,trigger_power_thresh,veto_power_thresh,trigger_window,veto_window,antenna_number_thresh,veto_number_thresh,delays,core_roles_array,veto_roles_array)\n",
    "    print('')\n",
    "print('')\n",
    "\n",
    "\n",
    "print(\"2) Expect Veto misses trigger\")\n",
    "trigger_windows=[11,11,40,11,30]\n",
    "veto_windows=[499,498,499,490,496]\n",
    "for i in range(len(trigger_windows)):\n",
    "    trigger_window=trigger_windows[i]\n",
    "    veto_window=veto_windows[i]\n",
    "    print(\"trigger window: \", trigger_window, \"veto window: \", veto_window)\n",
    "    test_coincidencer(casperbrd,trigger_power_thresh,veto_power_thresh,trigger_window,veto_window,antenna_number_thresh,veto_number_thresh,delays,core_roles_array,veto_roles_array)\n",
    "    print('')\n",
    "print('')\n",
    "\n",
    "print(\"3) Expect No trigger or veto\")\n",
    "trigger_windows=[9,9,2]\n",
    "veto_windows=[488,483,20]\n",
    "for i in range(len(trigger_windows)):\n",
    "    trigger_window=trigger_windows[i]\n",
    "    veto_window=veto_windows[i]\n",
    "    print(\"trigger window: \", trigger_window, \"veto window: \", veto_window)\n",
    "    test_coincidencer(casperbrd,trigger_power_thresh,veto_power_thresh,trigger_window,veto_window,antenna_number_thresh,veto_number_thresh,delays,core_roles_array,veto_roles_array)\n",
    "    print('')\n",
    "print('')"
   ]
  },
  {
   "cell_type": "markdown",
   "metadata": {},
   "source": [
    "## 2. Veto before core"
   ]
  },
  {
   "cell_type": "code",
   "execution_count": null,
   "metadata": {},
   "outputs": [],
   "source": []
  },
  {
   "cell_type": "markdown",
   "metadata": {},
   "source": [
    "### a) Veto long before\n"
   ]
  },
  {
   "cell_type": "code",
   "execution_count": 175,
   "metadata": {},
   "outputs": [
    {
     "name": "stdout",
     "output_type": "stream",
     "text": [
      "1) Expect Trigger is vetoed\n",
      "trigger window:  20 veto window:  495\n",
      "Core coincidence per 10b cycle:  1.0\n",
      "Veto coincidence per 10b cycle:  1.0\n",
      "Triggers at state control  0\n",
      "Triggers leaving block 0\n",
      "\n",
      "trigger window:  20 veto window:  496\n",
      "Core coincidence per 10b cycle:  1.0\n",
      "Veto coincidence per 10b cycle:  1.0\n",
      "Triggers at state control  0\n",
      "Triggers leaving block 0\n",
      "\n",
      "trigger window:  100 veto window:  495\n",
      "Core coincidence per 10b cycle:  1.0\n",
      "Veto coincidence per 10b cycle:  1.0\n",
      "Triggers at state control  0\n",
      "Triggers leaving block 0\n",
      "\n",
      "trigger window:  100 veto window:  499\n",
      "Core coincidence per 10b cycle:  1.0\n",
      "Veto coincidence per 10b cycle:  1.0\n",
      "Triggers at state control  0\n",
      "Triggers leaving block 0\n",
      "\n",
      "trigger window:  300 veto window:  495\n",
      "Core coincidence per 10b cycle:  1.0\n",
      "Veto coincidence per 10b cycle:  1.0\n",
      "Triggers at state control  0\n",
      "Triggers leaving block 0\n",
      "\n",
      "\n",
      "2) Expect Veto misses trigger\n",
      "trigger window:  20 veto window:  494\n",
      "Core coincidence per 10b cycle:  1.0\n",
      "Veto coincidence per 10b cycle:  1.0\n",
      "Triggers at state control  545519\n",
      "Triggers leaving block 538729\n",
      "\n",
      "trigger window:  21 veto window:  477\n",
      "Core coincidence per 10b cycle:  1.0\n",
      "Veto coincidence per 10b cycle:  1.0\n",
      "Triggers at state control  545371\n",
      "Triggers leaving block 538516\n",
      "\n",
      "trigger window:  40 veto window:  494\n",
      "Core coincidence per 10b cycle:  1.0\n",
      "Veto coincidence per 10b cycle:  1.0\n",
      "Triggers at state control  545884\n",
      "Triggers leaving block 538443\n",
      "\n",
      "trigger window:  38 veto window:  475\n",
      "Core coincidence per 10b cycle:  1.0\n",
      "Veto coincidence per 10b cycle:  1.0\n",
      "Triggers at state control  546481\n",
      "Triggers leaving block 539038\n",
      "\n",
      "trigger window:  30 veto window:  478\n",
      "Core coincidence per 10b cycle:  1.0\n",
      "Veto coincidence per 10b cycle:  1.0\n",
      "Triggers at state control  545421\n",
      "Triggers leaving block 538217\n",
      "\n",
      "\n",
      "3) Expect No trigger or veto\n",
      "trigger window:  9 veto window:  9\n",
      "Core coincidence per 10b cycle:  0.0\n",
      "Veto coincidence per 10b cycle:  0.0\n",
      "Triggers at state control  0\n",
      "Triggers leaving block 0\n",
      "\n",
      "trigger window:  9 veto window:  8\n",
      "Core coincidence per 10b cycle:  0.0\n",
      "Veto coincidence per 10b cycle:  0.0\n",
      "Triggers at state control  0\n",
      "Triggers leaving block 0\n",
      "\n",
      "trigger window:  2 veto window:  9\n",
      "Core coincidence per 10b cycle:  0.0\n",
      "Veto coincidence per 10b cycle:  0.0\n",
      "Triggers at state control  0\n",
      "Triggers leaving block 0\n",
      "\n",
      "\n"
     ]
    }
   ],
   "source": [
    "delays=np.ones(64,dtype=int)\n",
    "delays[0:6]=[508,498,490,1,7,10] #core antennas are first three, veto antennas are second three\n",
    "set_delays(casperbrd,delays)\n",
    "\n",
    "\n",
    "print(\"1) Expect Trigger is vetoed\")\n",
    "trigger_windows=[20,20,100,100,300]\n",
    "veto_windows=[495,496,495,499,495]\n",
    "for i in range(len(trigger_windows)):\n",
    "    trigger_window=trigger_windows[i]\n",
    "    veto_window=veto_windows[i]\n",
    "    print(\"trigger window: \", trigger_window, \"veto window: \", veto_window)\n",
    "    test_coincidencer(casperbrd,trigger_power_thresh,veto_power_thresh,trigger_window,veto_window,antenna_number_thresh,veto_number_thresh,delays,core_roles_array,veto_roles_array)\n",
    "    print('')\n",
    "print('')\n",
    "\n",
    "\n",
    "print(\"2) Expect Veto misses trigger\")\n",
    "trigger_windows=[20,21,40,38,30]\n",
    "veto_windows=[494,477,494,475,478]\n",
    "for i in range(len(trigger_windows)):\n",
    "    trigger_window=trigger_windows[i]\n",
    "    veto_window=veto_windows[i]\n",
    "    print(\"trigger window: \", trigger_window, \"veto window: \", veto_window)\n",
    "    test_coincidencer(casperbrd,trigger_power_thresh,veto_power_thresh,trigger_window,veto_window,antenna_number_thresh,veto_number_thresh,delays,core_roles_array,veto_roles_array)\n",
    "    print('')\n",
    "print('')\n",
    "\n",
    "print(\"3) Expect No trigger or veto\")\n",
    "trigger_windows=[9,9,2]\n",
    "veto_windows=[9,8,9]\n",
    "for i in range(len(trigger_windows)):\n",
    "    trigger_window=trigger_windows[i]\n",
    "    veto_window=veto_windows[i]\n",
    "    print(\"trigger window: \", trigger_window, \"veto window: \", veto_window)\n",
    "    test_coincidencer(casperbrd,trigger_power_thresh,veto_power_thresh,trigger_window,veto_window,antenna_number_thresh,veto_number_thresh,delays,core_roles_array,veto_roles_array)\n",
    "    print('')\n",
    "print('')"
   ]
  },
  {
   "cell_type": "code",
   "execution_count": null,
   "metadata": {},
   "outputs": [],
   "source": []
  },
  {
   "cell_type": "markdown",
   "metadata": {},
   "source": [
    "### b) Veto soon before"
   ]
  },
  {
   "cell_type": "code",
   "execution_count": 176,
   "metadata": {},
   "outputs": [
    {
     "name": "stdout",
     "output_type": "stream",
     "text": [
      "1) Expect Trigger is vetoed\n",
      "trigger window:  12 veto window:  10\n",
      "Core coincidence per 10b cycle:  1.0\n",
      "Veto coincidence per 10b cycle:  1.0\n",
      "Triggers at state control  0\n",
      "Triggers leaving block 0\n",
      "\n",
      "trigger window:  12 veto window:  480\n",
      "Core coincidence per 10b cycle:  1.0\n",
      "Veto coincidence per 10b cycle:  1.0\n",
      "Triggers at state control  0\n",
      "Triggers leaving block 0\n",
      "\n",
      "trigger window:  100 veto window:  18\n",
      "Core coincidence per 10b cycle:  1.0\n",
      "Veto coincidence per 10b cycle:  1.0\n",
      "Triggers at state control  0\n",
      "Triggers leaving block 0\n",
      "\n",
      "trigger window:  100 veto window:  10\n",
      "Core coincidence per 10b cycle:  1.0\n",
      "Veto coincidence per 10b cycle:  1.0\n",
      "Triggers at state control  0\n",
      "Triggers leaving block 0\n",
      "\n",
      "trigger window:  300 veto window:  300\n",
      "Core coincidence per 10b cycle:  1.0\n",
      "Veto coincidence per 10b cycle:  1.0\n",
      "Triggers at state control  0\n",
      "Triggers leaving block 0\n",
      "\n",
      "\n",
      "2) Expect Veto misses trigger\n",
      "trigger window:  12 veto window:  9\n",
      "Core coincidence per 10b cycle:  1.0\n",
      "Veto coincidence per 10b cycle:  1.0\n",
      "Triggers at state control  545258\n",
      "Triggers leaving block 538234\n",
      "\n",
      "trigger window:  13 veto window:  9\n",
      "Core coincidence per 10b cycle:  1.0\n",
      "Veto coincidence per 10b cycle:  1.0\n",
      "Triggers at state control  544603\n",
      "Triggers leaving block 538973\n",
      "\n",
      "trigger window:  40 veto window:  9\n",
      "Core coincidence per 10b cycle:  1.0\n",
      "Veto coincidence per 10b cycle:  1.0\n",
      "Triggers at state control  545795\n",
      "Triggers leaving block 538139\n",
      "\n",
      "trigger window:  20 veto window:  9\n",
      "Core coincidence per 10b cycle:  1.0\n",
      "Veto coincidence per 10b cycle:  1.0\n",
      "Triggers at state control  545996\n",
      "Triggers leaving block 537976\n",
      "\n",
      "trigger window:  30 veto window:  9\n",
      "Core coincidence per 10b cycle:  1.0\n",
      "Veto coincidence per 10b cycle:  1.0\n",
      "Triggers at state control  545793\n",
      "Triggers leaving block 538428\n",
      "\n",
      "\n",
      "3) Expect No trigger or veto\n",
      "trigger window:  2 veto window:  6\n",
      "Core coincidence per 10b cycle:  0.0\n",
      "Veto coincidence per 10b cycle:  0.0\n",
      "Triggers at state control  0\n",
      "Triggers leaving block 0\n",
      "\n",
      "trigger window:  1 veto window:  5\n",
      "Core coincidence per 10b cycle:  0.0\n",
      "Veto coincidence per 10b cycle:  0.0\n",
      "Triggers at state control  0\n",
      "Triggers leaving block 0\n",
      "\n",
      "trigger window:  1 veto window:  6\n",
      "Core coincidence per 10b cycle:  0.0\n",
      "Veto coincidence per 10b cycle:  0.0\n",
      "Triggers at state control  0\n",
      "Triggers leaving block 0\n",
      "\n",
      "\n"
     ]
    }
   ],
   "source": [
    "delays=np.ones(64,dtype=int)\n",
    "delays[0:6]=[501,498,490,488,480,482] #core antennas are first three, veto antennas are second three\n",
    "set_delays(casperbrd,delays)\n",
    "\n",
    "\n",
    "print(\"1) Expect Trigger is vetoed\")\n",
    "trigger_windows=[12,12,100,100,300]\n",
    "veto_windows=[10,480,18,10,300]\n",
    "for i in range(len(trigger_windows)):\n",
    "    trigger_window=trigger_windows[i]\n",
    "    veto_window=veto_windows[i]\n",
    "    print(\"trigger window: \", trigger_window, \"veto window: \", veto_window)\n",
    "    test_coincidencer(casperbrd,trigger_power_thresh,veto_power_thresh,trigger_window,veto_window,antenna_number_thresh,veto_number_thresh,delays,core_roles_array,veto_roles_array)\n",
    "    print('')\n",
    "print('')\n",
    "\n",
    "\n",
    "print(\"2) Expect Veto misses trigger\")\n",
    "trigger_windows=[12,13,40,20,30]\n",
    "veto_windows=[9,9,9,9,9]\n",
    "for i in range(len(trigger_windows)):\n",
    "    trigger_window=trigger_windows[i]\n",
    "    veto_window=veto_windows[i]\n",
    "    print(\"trigger window: \", trigger_window, \"veto window: \", veto_window)\n",
    "    test_coincidencer(casperbrd,trigger_power_thresh,veto_power_thresh,trigger_window,veto_window,antenna_number_thresh,veto_number_thresh,delays,core_roles_array,veto_roles_array)\n",
    "    print('')\n",
    "print('')\n",
    "\n",
    "print(\"3) Expect No trigger or veto\")\n",
    "trigger_windows=[2,1,1]\n",
    "veto_windows=[6,5,6]\n",
    "for i in range(len(trigger_windows)):\n",
    "    trigger_window=trigger_windows[i]\n",
    "    veto_window=veto_windows[i]\n",
    "    print(\"trigger window: \", trigger_window, \"veto window: \", veto_window)\n",
    "    test_coincidencer(casperbrd,trigger_power_thresh,veto_power_thresh,trigger_window,veto_window,antenna_number_thresh,veto_number_thresh,delays,core_roles_array,veto_roles_array)\n",
    "    print('')\n",
    "print('')"
   ]
  },
  {
   "cell_type": "markdown",
   "metadata": {},
   "source": [
    "### c) Veto widely arranged"
   ]
  },
  {
   "cell_type": "code",
   "execution_count": 177,
   "metadata": {},
   "outputs": [
    {
     "name": "stdout",
     "output_type": "stream",
     "text": [
      "1) Expect Trigger is vetoed\n",
      "trigger window:  19 veto window:  479\n",
      "Core coincidence per 10b cycle:  1.0\n",
      "Veto coincidence per 10b cycle:  1.0\n",
      "Triggers at state control  0\n",
      "Triggers leaving block 0\n",
      "\n",
      "trigger window:  19 veto window:  480\n",
      "Core coincidence per 10b cycle:  1.0\n",
      "Veto coincidence per 10b cycle:  1.0\n",
      "Triggers at state control  0\n",
      "Triggers leaving block 0\n",
      "\n",
      "trigger window:  100 veto window:  479\n",
      "Core coincidence per 10b cycle:  1.0\n",
      "Veto coincidence per 10b cycle:  1.0\n",
      "Triggers at state control  0\n",
      "Triggers leaving block 0\n",
      "\n",
      "trigger window:  100 veto window:  500\n",
      "Core coincidence per 10b cycle:  1.0\n",
      "Veto coincidence per 10b cycle:  1.0\n",
      "Triggers at state control  0\n",
      "Triggers leaving block 0\n",
      "\n",
      "trigger window:  300 veto window:  501\n",
      "Core coincidence per 10b cycle:  1.0\n",
      "Veto coincidence per 10b cycle:  1.0\n",
      "Triggers at state control  0\n",
      "Triggers leaving block 0\n",
      "\n",
      "\n",
      "3) Expect No trigger or veto\n",
      "trigger window:  2 veto window:  6\n",
      "Core coincidence per 10b cycle:  0.0\n",
      "Veto coincidence per 10b cycle:  0.0\n",
      "Triggers at state control  0\n",
      "Triggers leaving block 0\n",
      "\n",
      "trigger window:  1 veto window:  5\n",
      "Core coincidence per 10b cycle:  0.0\n",
      "Veto coincidence per 10b cycle:  0.0\n",
      "Triggers at state control  0\n",
      "Triggers leaving block 0\n",
      "\n",
      "trigger window:  1 veto window:  6\n",
      "Core coincidence per 10b cycle:  0.0\n",
      "Veto coincidence per 10b cycle:  0.0\n",
      "Triggers at state control  0\n",
      "Triggers leaving block 0\n",
      "\n",
      "\n"
     ]
    }
   ],
   "source": [
    "delays=np.ones(64,dtype=int)\n",
    "delays[0:6]=[508,498,490,488,200,10] #core antennas are first three, veto antennas are second three\n",
    "set_delays(casperbrd,delays)\n",
    "\n",
    "\n",
    "print(\"1) Expect Trigger is vetoed\")\n",
    "trigger_windows=[19,19,100,100,300]\n",
    "veto_windows=[479,480,479,500,501]\n",
    "for i in range(len(trigger_windows)):\n",
    "    trigger_window=trigger_windows[i]\n",
    "    veto_window=veto_windows[i]\n",
    "    print(\"trigger window: \", trigger_window, \"veto window: \", veto_window)\n",
    "    test_coincidencer(casperbrd,trigger_power_thresh,veto_power_thresh,trigger_window,veto_window,antenna_number_thresh,veto_number_thresh,delays,core_roles_array,veto_roles_array)\n",
    "    print('')\n",
    "print('')\n",
    "\n",
    "\n",
    "\n",
    "print(\"3) Expect No trigger or veto\")\n",
    "trigger_windows=[2,1,1]\n",
    "veto_windows=[6,5,6]\n",
    "for i in range(len(trigger_windows)):\n",
    "    trigger_window=trigger_windows[i]\n",
    "    veto_window=veto_windows[i]\n",
    "    print(\"trigger window: \", trigger_window, \"veto window: \", veto_window)\n",
    "    test_coincidencer(casperbrd,trigger_power_thresh,veto_power_thresh,trigger_window,veto_window,antenna_number_thresh,veto_number_thresh,delays,core_roles_array,veto_roles_array)\n",
    "    print('')\n",
    "print('')"
   ]
  },
  {
   "cell_type": "markdown",
   "metadata": {},
   "source": [
    "## 3. Veto antennas on either side of core\n",
    "The remaining scenarios don't include having the veto miss the core because the minimum window for the veto to occur usually is longer than the window for the veto to catch the core."
   ]
  },
  {
   "cell_type": "code",
   "execution_count": 178,
   "metadata": {},
   "outputs": [
    {
     "name": "stdout",
     "output_type": "stream",
     "text": [
      "1) Expect Trigger is vetoed\n",
      "trigger window:  6 veto window:  253\n",
      "Core coincidence per 10b cycle:  1.0\n",
      "Veto coincidence per 10b cycle:  1.0\n",
      "Triggers at state control  0\n",
      "Triggers leaving block 0\n",
      "\n",
      "trigger window:  12 veto window:  480\n",
      "Core coincidence per 10b cycle:  1.0\n",
      "Veto coincidence per 10b cycle:  1.0\n",
      "Triggers at state control  0\n",
      "Triggers leaving block 0\n",
      "\n",
      "trigger window:  100 veto window:  253\n",
      "Core coincidence per 10b cycle:  1.0\n",
      "Veto coincidence per 10b cycle:  1.0\n",
      "Triggers at state control  0\n",
      "Triggers leaving block 0\n",
      "\n",
      "trigger window:  100 veto window:  265\n",
      "Core coincidence per 10b cycle:  1.0\n",
      "Veto coincidence per 10b cycle:  1.0\n",
      "Triggers at state control  0\n",
      "Triggers leaving block 0\n",
      "\n",
      "trigger window:  300 veto window:  300\n",
      "Core coincidence per 10b cycle:  1.0\n",
      "Veto coincidence per 10b cycle:  1.0\n",
      "Triggers at state control  0\n",
      "Triggers leaving block 0\n",
      "\n",
      "\n",
      "3) Expect No trigger or veto\n",
      "trigger window:  2 veto window:  251\n",
      "Core coincidence per 10b cycle:  0.0\n",
      "Veto coincidence per 10b cycle:  0.0\n",
      "Triggers at state control  0\n",
      "Triggers leaving block 0\n",
      "\n",
      "trigger window:  1 veto window:  5\n",
      "Core coincidence per 10b cycle:  0.0\n",
      "Veto coincidence per 10b cycle:  0.0\n",
      "Triggers at state control  0\n",
      "Triggers leaving block 0\n",
      "\n",
      "trigger window:  1 veto window:  251\n",
      "Core coincidence per 10b cycle:  0.0\n",
      "Veto coincidence per 10b cycle:  0.0\n",
      "Triggers at state control  0\n",
      "Triggers leaving block 0\n",
      "\n",
      "\n"
     ]
    }
   ],
   "source": [
    "delays=np.ones(64,dtype=int)\n",
    "delays[0:6]=[250,252,255,249,490,500] #core antennas are first three, veto antennas are second three\n",
    "set_delays(casperbrd,delays)\n",
    "\n",
    "\n",
    "print(\"1) Expect Trigger is vetoed\")\n",
    "trigger_windows=[6,12,100,100,300]\n",
    "veto_windows=[253,480,253,265,300]\n",
    "for i in range(len(trigger_windows)):\n",
    "    trigger_window=trigger_windows[i]\n",
    "    veto_window=veto_windows[i]\n",
    "    print(\"trigger window: \", trigger_window, \"veto window: \", veto_window)\n",
    "    test_coincidencer(casperbrd,trigger_power_thresh,veto_power_thresh,trigger_window,veto_window,antenna_number_thresh,veto_number_thresh,delays,core_roles_array,veto_roles_array)\n",
    "    print('')\n",
    "print('')\n",
    "\n",
    "\n",
    "\n",
    "print(\"3) Expect No trigger or veto\")\n",
    "trigger_windows=[2,1,1]\n",
    "veto_windows=[251,5,251]\n",
    "for i in range(len(trigger_windows)):\n",
    "    trigger_window=trigger_windows[i]\n",
    "    veto_window=veto_windows[i]\n",
    "    print(\"trigger window: \", trigger_window, \"veto window: \", veto_window)\n",
    "    test_coincidencer(casperbrd,trigger_power_thresh,veto_power_thresh,trigger_window,veto_window,antenna_number_thresh,veto_number_thresh,delays,core_roles_array,veto_roles_array)\n",
    "    print('')\n",
    "print('')"
   ]
  },
  {
   "cell_type": "markdown",
   "metadata": {},
   "source": [
    "## 4. Veto antennas on either side and among core"
   ]
  },
  {
   "cell_type": "code",
   "execution_count": 180,
   "metadata": {},
   "outputs": [
    {
     "name": "stdout",
     "output_type": "stream",
     "text": [
      "1) Expect Trigger is vetoed\n",
      "trigger window:  6 veto window:  253\n",
      "Core coincidence per 10b cycle:  1.0\n",
      "Veto coincidence per 10b cycle:  1.0\n",
      "Triggers at state control  0\n",
      "Triggers leaving block 0\n",
      "\n",
      "trigger window:  12 veto window:  480\n",
      "Core coincidence per 10b cycle:  1.0\n",
      "Veto coincidence per 10b cycle:  1.0\n",
      "Triggers at state control  0\n",
      "Triggers leaving block 0\n",
      "\n",
      "trigger window:  100 veto window:  253\n",
      "Core coincidence per 10b cycle:  1.0\n",
      "Veto coincidence per 10b cycle:  1.0\n",
      "Triggers at state control  0\n",
      "Triggers leaving block 0\n",
      "\n",
      "trigger window:  100 veto window:  265\n",
      "Core coincidence per 10b cycle:  1.0\n",
      "Veto coincidence per 10b cycle:  1.0\n",
      "Triggers at state control  0\n",
      "Triggers leaving block 0\n",
      "\n",
      "trigger window:  300 veto window:  300\n",
      "Core coincidence per 10b cycle:  1.0\n",
      "Veto coincidence per 10b cycle:  1.0\n",
      "Triggers at state control  0\n",
      "Triggers leaving block 0\n",
      "\n",
      "\n",
      "3) Expect No trigger or veto\n",
      "trigger window:  2 veto window:  251\n",
      "Core coincidence per 10b cycle:  0.0\n",
      "Veto coincidence per 10b cycle:  0.0\n",
      "Triggers at state control  0\n",
      "Triggers leaving block 0\n",
      "\n",
      "trigger window:  1 veto window:  5\n",
      "Core coincidence per 10b cycle:  0.0\n",
      "Veto coincidence per 10b cycle:  0.0\n",
      "Triggers at state control  0\n",
      "Triggers leaving block 0\n",
      "\n",
      "trigger window:  1 veto window:  251\n",
      "Core coincidence per 10b cycle:  0.0\n",
      "Veto coincidence per 10b cycle:  0.0\n",
      "Triggers at state control  0\n",
      "Triggers leaving block 0\n",
      "\n",
      "\n"
     ]
    }
   ],
   "source": [
    "delays=np.ones(64,dtype=int)\n",
    "delays[0:6]=[250,252,255,249,253,500] #core antennas are first three, veto antennas are second three\n",
    "set_delays(casperbrd,delays)\n",
    "\n",
    "\n",
    "print(\"1) Expect Trigger is vetoed\")\n",
    "trigger_windows=[6,12,100,100,300]\n",
    "veto_windows=[253,480,253,265,300]\n",
    "for i in range(len(trigger_windows)):\n",
    "    trigger_window=trigger_windows[i]\n",
    "    veto_window=veto_windows[i]\n",
    "    print(\"trigger window: \", trigger_window, \"veto window: \", veto_window)\n",
    "    test_coincidencer(casperbrd,trigger_power_thresh,veto_power_thresh,trigger_window,veto_window,antenna_number_thresh,veto_number_thresh,delays,core_roles_array,veto_roles_array)\n",
    "    print('')\n",
    "print('')\n",
    "\n",
    "\n",
    "print(\"3) Expect No trigger or veto\")\n",
    "trigger_windows=[2,1,1]\n",
    "veto_windows=[251,5,251]\n",
    "for i in range(len(trigger_windows)):\n",
    "    trigger_window=trigger_windows[i]\n",
    "    veto_window=veto_windows[i]\n",
    "    print(\"trigger window: \", trigger_window, \"veto window: \", veto_window)\n",
    "    test_coincidencer(casperbrd,trigger_power_thresh,veto_power_thresh,trigger_window,veto_window,antenna_number_thresh,veto_number_thresh,delays,core_roles_array,veto_roles_array)\n",
    "    print('')\n",
    "print('')"
   ]
  },
  {
   "cell_type": "markdown",
   "metadata": {},
   "source": [
    "## 5. Veto antennas among core\n",
    "Again, having a veto miss the core isn't possible."
   ]
  },
  {
   "cell_type": "code",
   "execution_count": null,
   "metadata": {},
   "outputs": [],
   "source": []
  },
  {
   "cell_type": "code",
   "execution_count": 182,
   "metadata": {},
   "outputs": [
    {
     "name": "stdout",
     "output_type": "stream",
     "text": [
      "1) Expect Trigger is vetoed\n",
      "trigger window:  21 veto window:  22\n",
      "Core coincidence per 10b cycle:  1.0\n",
      "Veto coincidence per 10b cycle:  1.0\n",
      "Triggers at state control  0\n",
      "Triggers leaving block 0\n",
      "\n",
      "trigger window:  22 veto window:  480\n",
      "Core coincidence per 10b cycle:  1.0\n",
      "Veto coincidence per 10b cycle:  1.0\n",
      "Triggers at state control  0\n",
      "Triggers leaving block 0\n",
      "\n",
      "trigger window:  100 veto window:  22\n",
      "Core coincidence per 10b cycle:  1.0\n",
      "Veto coincidence per 10b cycle:  1.0\n",
      "Triggers at state control  0\n",
      "Triggers leaving block 0\n",
      "\n",
      "trigger window:  100 veto window:  265\n",
      "Core coincidence per 10b cycle:  1.0\n",
      "Veto coincidence per 10b cycle:  1.0\n",
      "Triggers at state control  0\n",
      "Triggers leaving block 0\n",
      "\n",
      "trigger window:  300 veto window:  22\n",
      "Core coincidence per 10b cycle:  1.0\n",
      "Veto coincidence per 10b cycle:  1.0\n",
      "Triggers at state control  0\n",
      "Triggers leaving block 0\n",
      "\n",
      "\n",
      "2) Expect Trigger and no veto\n",
      "trigger window:  21 veto window:  21\n",
      "Core coincidence per 10b cycle:  1.0\n",
      "Veto coincidence per 10b cycle:  0.0\n",
      "Triggers at state control  545905\n",
      "Triggers leaving block 539494\n",
      "\n",
      "trigger window:  22 veto window:  21\n",
      "Core coincidence per 10b cycle:  1.0\n",
      "Veto coincidence per 10b cycle:  0.0\n",
      "Triggers at state control  545316\n",
      "Triggers leaving block 539136\n",
      "\n",
      "trigger window:  100 veto window:  21\n",
      "Core coincidence per 10b cycle:  1.0\n",
      "Veto coincidence per 10b cycle:  0.0\n",
      "Triggers at state control  545273\n",
      "Triggers leaving block 538783\n",
      "\n",
      "trigger window:  150 veto window:  21\n",
      "Core coincidence per 10b cycle:  1.0\n",
      "Veto coincidence per 10b cycle:  0.0\n",
      "Triggers at state control  545709\n",
      "Triggers leaving block 538238\n",
      "\n",
      "trigger window:  300 veto window:  21\n",
      "Core coincidence per 10b cycle:  1.0\n",
      "Veto coincidence per 10b cycle:  0.0\n",
      "Triggers at state control  545235\n",
      "Triggers leaving block 538366\n",
      "\n",
      "\n",
      "3) Expect No trigger or veto\n",
      "trigger window:  2 veto window:  19\n",
      "Core coincidence per 10b cycle:  0.0\n",
      "Veto coincidence per 10b cycle:  0.0\n",
      "Triggers at state control  0\n",
      "Triggers leaving block 0\n",
      "\n",
      "trigger window:  1 veto window:  5\n",
      "Core coincidence per 10b cycle:  0.0\n",
      "Veto coincidence per 10b cycle:  0.0\n",
      "Triggers at state control  0\n",
      "Triggers leaving block 0\n",
      "\n",
      "trigger window:  1 veto window:  19\n",
      "Core coincidence per 10b cycle:  0.0\n",
      "Veto coincidence per 10b cycle:  0.0\n",
      "Triggers at state control  0\n",
      "Triggers leaving block 0\n",
      "\n",
      "\n"
     ]
    }
   ],
   "source": [
    "delays=np.ones(64,dtype=int)\n",
    "delays[0:6]=[10,15,30,29,29,50] #core antennas are first three, veto antennas are second three\n",
    "set_delays(casperbrd,delays)\n",
    "\n",
    "\n",
    "print(\"1) Expect Trigger is vetoed\")\n",
    "trigger_windows=[21,22,100,100,300]\n",
    "veto_windows=[22,480,22,265,22]\n",
    "for i in range(len(trigger_windows)):\n",
    "    trigger_window=trigger_windows[i]\n",
    "    veto_window=veto_windows[i]\n",
    "    print(\"trigger window: \", trigger_window, \"veto window: \", veto_window)\n",
    "    test_coincidencer(casperbrd,trigger_power_thresh,veto_power_thresh,trigger_window,veto_window,antenna_number_thresh,veto_number_thresh,delays,core_roles_array,veto_roles_array)\n",
    "    print('')\n",
    "print('')\n",
    "\n",
    "\n",
    "\n",
    "print(\"2) Expect Trigger and no veto\")\n",
    "trigger_windows=[21,22,100,150,300]\n",
    "veto_windows=[21,21,21,21,21]\n",
    "for i in range(len(trigger_windows)):\n",
    "    trigger_window=trigger_windows[i]\n",
    "    veto_window=veto_windows[i]\n",
    "    print(\"trigger window: \", trigger_window, \"veto window: \", veto_window)\n",
    "    test_coincidencer(casperbrd,trigger_power_thresh,veto_power_thresh,trigger_window,veto_window,antenna_number_thresh,veto_number_thresh,delays,core_roles_array,veto_roles_array)\n",
    "    print('')\n",
    "print('')\n",
    "\n",
    "\n",
    "\n",
    "print(\"3) Expect No trigger or veto\")\n",
    "trigger_windows=[2,1,1]\n",
    "veto_windows=[19,5,19]\n",
    "for i in range(len(trigger_windows)):\n",
    "    trigger_window=trigger_windows[i]\n",
    "    veto_window=veto_windows[i]\n",
    "    print(\"trigger window: \", trigger_window, \"veto window: \", veto_window)\n",
    "    test_coincidencer(casperbrd,trigger_power_thresh,veto_power_thresh,trigger_window,veto_window,antenna_number_thresh,veto_number_thresh,delays,core_roles_array,veto_roles_array)\n",
    "    print('')\n",
    "print('')"
   ]
  },
  {
   "cell_type": "markdown",
   "metadata": {},
   "source": [
    "## Match the Simulink tests\n",
    "Repeating all the tests in the August 23 Evernote note, but with the real system instead of Simulink.\n",
    "\n",
    "A couple modifications to make an analogous test work with the 10 bit counter as signal:\n",
    "\n",
    "--Voltage thresholds are always 511.\n",
    "--Delays are 100,110,115,117,120 instead of 1000,1010,1015,1017,1020\n",
    "\n"
   ]
  },
  {
   "cell_type": "code",
   "execution_count": 188,
   "metadata": {},
   "outputs": [
    {
     "data": {
      "text/plain": [
       "'delays=np.ones(64,dtype=int)\\ndelays[0:5]=[100,110,115,117,120] #core antennas are first three, veto antennas are second three\\ntrigger_power_thresh=511**2\\nveto_power_thresh=511**2'"
      ]
     },
     "execution_count": 188,
     "metadata": {},
     "output_type": "execute_result"
    }
   ],
   "source": [
    "'''delays=np.ones(64,dtype=int)\n",
    "delays[0:5]=[100,110,115,117,120] #core antennas are first three, veto antennas are second three\n",
    "trigger_power_thresh=511**2\n",
    "veto_power_thresh=511**2'''"
   ]
  },
  {
   "cell_type": "markdown",
   "metadata": {},
   "source": [
    "### Test A"
   ]
  },
  {
   "cell_type": "code",
   "execution_count": 190,
   "metadata": {},
   "outputs": [
    {
     "data": {
      "text/plain": [
       "'\\ncore_roles_array=np.zeros(64,dtype=int)\\ncore_roles_array[0:2]=1\\nveto_roles_array=np.zeros(64,dtype=int)\\nveto_roles_array[2:5]=1\\nantenna_number_thresh=0\\nveto_number_thresh=0\\ntrigger_window=20\\nveto_window=7\\ntest_coincidencer(casperbrd,trigger_power_thresh,veto_power_thresh,trigger_window,veto_window,antenna_number_thresh,veto_number_thresh,delays,core_roles_array,veto_roles_array)\\n'"
      ]
     },
     "execution_count": 190,
     "metadata": {},
     "output_type": "execute_result"
    }
   ],
   "source": [
    "'''\n",
    "core_roles_array=np.zeros(64,dtype=int)\n",
    "core_roles_array[0:2]=1\n",
    "veto_roles_array=np.zeros(64,dtype=int)\n",
    "veto_roles_array[2:5]=1\n",
    "antenna_number_thresh=0\n",
    "veto_number_thresh=0\n",
    "trigger_window=20\n",
    "veto_window=7\n",
    "test_coincidencer(casperbrd,trigger_power_thresh,veto_power_thresh,trigger_window,veto_window,antenna_number_thresh,veto_number_thresh,delays,core_roles_array,veto_roles_array)\n",
    "'''"
   ]
  },
  {
   "cell_type": "markdown",
   "metadata": {},
   "source": [
    "Result:  There was a core and veto coincidence, matching the simulation, however there is no final trigger."
   ]
  },
  {
   "cell_type": "markdown",
   "metadata": {},
   "source": [
    "### Test B"
   ]
  },
  {
   "cell_type": "code",
   "execution_count": 191,
   "metadata": {},
   "outputs": [
    {
     "data": {
      "text/plain": [
       "'core_roles_array=np.zeros(64,dtype=int)\\ncore_roles_array[0:2]=1\\nveto_roles_array=np.zeros(64,dtype=int)\\nveto_roles_array[2:5]=1\\nantenna_number_thresh=0\\nveto_number_thresh=0\\ntrigger_window=7\\nveto_window=20\\ntest_coincidencer(casperbrd,trigger_power_thresh,veto_power_thresh,trigger_window,veto_window,antenna_number_thresh,veto_number_thresh,delays,core_roles_array,veto_roles_array)\\n'"
      ]
     },
     "execution_count": 191,
     "metadata": {},
     "output_type": "execute_result"
    }
   ],
   "source": [
    "'''core_roles_array=np.zeros(64,dtype=int)\n",
    "core_roles_array[0:2]=1\n",
    "veto_roles_array=np.zeros(64,dtype=int)\n",
    "veto_roles_array[2:5]=1\n",
    "antenna_number_thresh=0\n",
    "veto_number_thresh=0\n",
    "trigger_window=7\n",
    "veto_window=20\n",
    "test_coincidencer(casperbrd,trigger_power_thresh,veto_power_thresh,trigger_window,veto_window,antenna_number_thresh,veto_number_thresh,delays,core_roles_array,veto_roles_array)\n",
    "'''"
   ]
  },
  {
   "cell_type": "markdown",
   "metadata": {},
   "source": [
    "Result:  Core and Veto both had a coincidence, with no final trigger, as expected and matching simulation."
   ]
  },
  {
   "cell_type": "markdown",
   "metadata": {},
   "source": [
    "### Test C"
   ]
  },
  {
   "cell_type": "code",
   "execution_count": 192,
   "metadata": {},
   "outputs": [
    {
     "data": {
      "text/plain": [
       "'core_roles_array=np.zeros(64,dtype=int)\\ncore_roles_array[0:2]=1\\nveto_roles_array=np.zeros(64,dtype=int)\\nveto_roles_array[2:5]=1\\nantenna_number_thresh=1\\nveto_number_thresh=1\\ntrigger_window=11\\nveto_window=20\\ntest_coincidencer(casperbrd,trigger_power_thresh,veto_power_thresh,trigger_window,veto_window,antenna_number_thresh,veto_number_thresh,delays,core_roles_array,veto_roles_array)\\n'"
      ]
     },
     "execution_count": 192,
     "metadata": {},
     "output_type": "execute_result"
    }
   ],
   "source": [
    "'''core_roles_array=np.zeros(64,dtype=int)\n",
    "core_roles_array[0:2]=1\n",
    "veto_roles_array=np.zeros(64,dtype=int)\n",
    "veto_roles_array[2:5]=1\n",
    "antenna_number_thresh=1\n",
    "veto_number_thresh=1\n",
    "trigger_window=11\n",
    "veto_window=20\n",
    "test_coincidencer(casperbrd,trigger_power_thresh,veto_power_thresh,trigger_window,veto_window,antenna_number_thresh,veto_number_thresh,delays,core_roles_array,veto_roles_array)\n",
    "'''"
   ]
  },
  {
   "cell_type": "markdown",
   "metadata": {},
   "source": [
    "Result:  Core and Veto both had a coincidence, with no final trigger, as expected and matching simulation."
   ]
  },
  {
   "cell_type": "markdown",
   "metadata": {},
   "source": [
    "### Test D"
   ]
  },
  {
   "cell_type": "code",
   "execution_count": 193,
   "metadata": {},
   "outputs": [
    {
     "data": {
      "text/plain": [
       "'core_roles_array=np.zeros(64,dtype=int)\\ncore_roles_array[0:2]=1\\nveto_roles_array=np.zeros(64,dtype=int)\\nveto_roles_array[2:5]=1\\nantenna_number_thresh=1\\nveto_number_thresh=1\\ntrigger_window=11\\nveto_window=12\\ntest_coincidencer(casperbrd,trigger_power_thresh,veto_power_thresh,trigger_window,veto_window,antenna_number_thresh,veto_number_thresh,delays,core_roles_array,veto_roles_array)\\n'"
      ]
     },
     "execution_count": 193,
     "metadata": {},
     "output_type": "execute_result"
    }
   ],
   "source": [
    "'''core_roles_array=np.zeros(64,dtype=int)\n",
    "core_roles_array[0:2]=1\n",
    "veto_roles_array=np.zeros(64,dtype=int)\n",
    "veto_roles_array[2:5]=1\n",
    "antenna_number_thresh=1\n",
    "veto_number_thresh=1\n",
    "trigger_window=11\n",
    "veto_window=12\n",
    "test_coincidencer(casperbrd,trigger_power_thresh,veto_power_thresh,trigger_window,veto_window,antenna_number_thresh,veto_number_thresh,delays,core_roles_array,veto_roles_array)\n",
    "'''"
   ]
  },
  {
   "cell_type": "markdown",
   "metadata": {},
   "source": [
    "Result:  Core and Veto both had a coincidence, with no final trigger, as expected and matching simulation."
   ]
  },
  {
   "cell_type": "markdown",
   "metadata": {},
   "source": [
    "### Test E"
   ]
  },
  {
   "cell_type": "code",
   "execution_count": 194,
   "metadata": {},
   "outputs": [
    {
     "data": {
      "text/plain": [
       "'core_roles_array=np.zeros(64,dtype=int)\\ncore_roles_array[2:5]=1\\nveto_roles_array=np.zeros(64,dtype=int)\\nveto_roles_array[0:2]=1\\nantenna_number_thresh=1\\nveto_number_thresh=1\\ntrigger_window=11\\nveto_window=12\\ntest_coincidencer(casperbrd,trigger_power_thresh,veto_power_thresh,trigger_window,veto_window,antenna_number_thresh,veto_number_thresh,delays,core_roles_array,veto_roles_array)\\n'"
      ]
     },
     "execution_count": 194,
     "metadata": {},
     "output_type": "execute_result"
    }
   ],
   "source": [
    "'''core_roles_array=np.zeros(64,dtype=int)\n",
    "core_roles_array[2:5]=1\n",
    "veto_roles_array=np.zeros(64,dtype=int)\n",
    "veto_roles_array[0:2]=1\n",
    "antenna_number_thresh=1\n",
    "veto_number_thresh=1\n",
    "trigger_window=11\n",
    "veto_window=12\n",
    "test_coincidencer(casperbrd,trigger_power_thresh,veto_power_thresh,trigger_window,veto_window,antenna_number_thresh,veto_number_thresh,delays,core_roles_array,veto_roles_array)\n",
    "'''"
   ]
  },
  {
   "cell_type": "markdown",
   "metadata": {},
   "source": [
    "Result:  Core and Veto both had a coincidence, with no final trigger, but the simulation did have a final trigger."
   ]
  },
  {
   "cell_type": "markdown",
   "metadata": {},
   "source": [
    "### Is there a trigger when I turn off the veto?"
   ]
  },
  {
   "cell_type": "code",
   "execution_count": 195,
   "metadata": {},
   "outputs": [
    {
     "data": {
      "text/plain": [
       "'core_roles_array=np.zeros(64,dtype=int)\\ncore_roles_array[0:3]=1\\nveto_roles_array=np.zeros(64,dtype=int)\\ntrigger_window=11\\nveto_window=100\\ntest_coincidencer(casperbrd,trigger_power_thresh,veto_power_thresh,trigger_window,veto_window,antenna_number_thresh,veto_number_thresh,delays,core_roles_array,veto_roles_array)\\n'"
      ]
     },
     "execution_count": 195,
     "metadata": {},
     "output_type": "execute_result"
    }
   ],
   "source": [
    "'''core_roles_array=np.zeros(64,dtype=int)\n",
    "core_roles_array[0:3]=1\n",
    "veto_roles_array=np.zeros(64,dtype=int)\n",
    "trigger_window=11\n",
    "veto_window=100\n",
    "test_coincidencer(casperbrd,trigger_power_thresh,veto_power_thresh,trigger_window,veto_window,antenna_number_thresh,veto_number_thresh,delays,core_roles_array,veto_roles_array)\n",
    "'''"
   ]
  },
  {
   "cell_type": "markdown",
   "metadata": {},
   "source": [
    "## More NOtes\n",
    "Antenna number thresholds are greater than. If 3 is set to the register, then four antennas are the minimum for a trigger."
   ]
  },
  {
   "cell_type": "markdown",
   "metadata": {},
   "source": [
    "## Make sure the internal trigger can cause a snapshot to be sent over ethernet\n",
    "There is now a separate notebook for this"
   ]
  },
  {
   "cell_type": "code",
   "execution_count": null,
   "metadata": {},
   "outputs": [],
   "source": []
  },
  {
   "cell_type": "code",
   "execution_count": 148,
   "metadata": {},
   "outputs": [
    {
     "name": "stdout",
     "output_type": "stream",
     "text": [
      "------------------------\n",
      "snap01:cosmic_ray_cr_forty_gbe configuration:\n",
      "MAC:  02:02:02:01:01:01\n",
      "Gateway:  0.0.0.1\n",
      "IP:  10.41.0.201\n",
      "Fabric port: \n",
      "11111\n",
      "Fabric interface is currently: Enabled\n",
      "\tbase_ip: 255.255.255.255\n",
      "\tip_mask: 255.255.255.255\n",
      "\trx_ips: []\n",
      "ARP Table: \n",
      "IP: 10.41.0. 58: MAC: 04:3F:72:DF:C2:F8\n",
      "Setting wait between packets to 1000\n",
      "Packetizer formed 64 packets\n",
      "Board successfully returned to listening state after readout\n",
      "Readout took 80448 clock cycles\n",
      "Packetizer never overflowed\n",
      "Ethernet block almost-full counter incremented by 0\n"
     ]
    }
   ],
   "source": [
    "'''#disable trigger before setting up ethernet\n",
    "setvalue(casperbrd,\"enable_coinc_trig\",\"cr_registers.xlsx\",0)\n",
    "setup_ethernet(brdname,casperbrd,fpgfile,'lwacr',1000)\n",
    "#enable ethernet\n",
    "setvalue(casperbrd,'eth_enable','cr_registers.xlsx',1)\n",
    "\n",
    "\n",
    "software_trigger(casperbrd,1)\n",
    "'''"
   ]
  },
  {
   "cell_type": "code",
   "execution_count": null,
   "metadata": {},
   "outputs": [],
   "source": [
    "'''#enable trigger \n",
    "#setvalue(casperbrd,\"enable_coinc_trig\",\"cr_registers.xlsx\",1)'''"
   ]
  },
  {
   "cell_type": "code",
   "execution_count": 146,
   "metadata": {},
   "outputs": [
    {
     "name": "stdout",
     "output_type": "stream",
     "text": [
      "Core coincidence per 10b cycle:  1.0\n",
      "Veto coincidence per 10b cycle:  1.0\n",
      "Triggers at state control  0\n",
      "Triggers leaving block 537982\n"
     ]
    }
   ],
   "source": [
    "'''#set up a scenario where there should be triggers\n",
    "delays=np.ones(64,dtype=int)\n",
    "delays[0:6]=[1,5,10,20,300,508] #core antennas are first three, veto antennas are second three\n",
    "set_delays(casperbrd,delays)\n",
    "\n",
    "trigger_power_thresh=511**2\n",
    "veto_power_thresh=511**2\n",
    "core_roles_array=np.zeros(64,dtype=int)\n",
    "core_roles_array[0:3]=1\n",
    "veto_roles_array=np.zeros(64,dtype=int)\n",
    "veto_roles_array[3:6]=1\n",
    "antenna_number_thresh=2\n",
    "veto_number_thresh=2\n",
    "trigger_window=11\n",
    "veto_window=499\n",
    "\n",
    "test_coincidencer(casperbrd,trigger_power_thresh,veto_power_thresh,trigger_window,veto_window,antenna_number_thresh,veto_number_thresh,delays,core_roles_array,veto_roles_array)\n",
    "'''"
   ]
  },
  {
   "cell_type": "code",
   "execution_count": null,
   "metadata": {},
   "outputs": [],
   "source": [
    "'''setvalue(casperbrd,\"enable_coinc_trig\",\"cr_registers.xlsx\",1)\n",
    "'''"
   ]
  },
  {
   "cell_type": "code",
   "execution_count": 149,
   "metadata": {},
   "outputs": [],
   "source": [
    "'''setvalue(casperbrd,'eth_enable','cr_registers.xlsx',0)\n",
    "'''"
   ]
  },
  {
   "cell_type": "code",
   "execution_count": 134,
   "metadata": {},
   "outputs": [],
   "source": []
  },
  {
   "cell_type": "code",
   "execution_count": null,
   "metadata": {},
   "outputs": [],
   "source": []
  }
 ],
 "metadata": {
  "kernelspec": {
   "display_name": "Python 3",
   "language": "python",
   "name": "python3"
  },
  "language_info": {
   "codemirror_mode": {
    "name": "ipython",
    "version": 3
   },
   "file_extension": ".py",
   "mimetype": "text/x-python",
   "name": "python",
   "nbconvert_exporter": "python",
   "pygments_lexer": "ipython3",
   "version": "3.6.10"
  }
 },
 "nbformat": 4,
 "nbformat_minor": 4
}
