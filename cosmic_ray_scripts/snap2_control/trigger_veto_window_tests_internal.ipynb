{
 "cells": [
  {
   "cell_type": "code",
   "execution_count": null,
   "metadata": {},
   "outputs": [],
   "source": [
    "import matplotlib.pyplot as plt\n",
    "import numpy as np\n",
    "import casperfpga\n",
    "import time\n",
    "from lwa_f import snap2_fengine\n",
    "from lwa_f import blocks\n",
    "from lwautils import lwa_arx \n",
    "import pandas as pd\n",
    "from cr_functions import *\n",
    "import struct\n",
    "import math\n",
    "from scipy import special as sp\n",
    "from scipy import optimize as oz\n",
    "from scipy import stats as st\n"
   ]
  },
  {
   "cell_type": "markdown",
   "metadata": {},
   "source": [
    "## Summary"
   ]
  },
  {
   "cell_type": "markdown",
   "metadata": {},
   "source": [
    "I used this version of the notebook after updating the firmware to have an edge detect in the veto, to keep the effective window from being longer than desired.  I also added a register and a shared BRAM for monitoring the trigger rate right out of the coincidencer block, since I couldn't figure out why the received triggers register stayed zero.  In doing this set of tests with the new firmware, I realized that since the delays are set right after the ADC output, using the counter signal in the cosmic ray block always has all signals counting in sync no matter what delay I apply, so many of the tests below are not doing the intended test.  I am now compiling a new design with a counter test signal before the delay.  I should however be able to test the that triggers make it out of the block, by having no veto antennas, and I don't yet understand why this isn't working."
   ]
  },
  {
   "cell_type": "code",
   "execution_count": 38,
   "metadata": {},
   "outputs": [],
   "source": [
    "'''\n",
    "def packantennaroles(roles_array):\n",
    "    #turn an array of 64 ones and zeros into two 32 bit integers, one for the first half and one for the second\n",
    "    output1=0\n",
    "    output2=0\n",
    "    for i in range(32):\n",
    "        output1+=roles_array[i]<<i\n",
    "        output2+=roles_array[i+32]<<i\n",
    "\n",
    "    return output1, output2\n",
    "\n",
    "def setup_coincidencer(casperbrd,trigger_power_thresh,\n",
    "                      veto_power_thresh,\n",
    "                      trigger_window,\n",
    "                      veto_window,\n",
    "                      antenna_number_thresh,\n",
    "                      veto_number_thresh,\n",
    "                      core_roles_array,\n",
    "                      veto_roles_array):\n",
    "    # set parameters\n",
    "    setvalue(casperbrd,\"trigger_power_thresh\",\"cr_registers.xlsx\",trigger_power_thresh)\n",
    "    setvalue(casperbrd,\"veto_power_thresh\",\"cr_registers.xlsx\",veto_power_thresh)\n",
    "    setvalue(casperbrd,'trigger_window','cr_registers.xlsx',trigger_window) \n",
    "    setvalue(casperbrd,'veto_window','cr_registers.xlsx',veto_window) \n",
    "    setvalue(casperbrd,'antenna_number_thresh','cr_registers.xlsx',antenna_number_thresh) \n",
    "    setvalue(casperbrd,'veto_number_thresh','cr_registers.xlsx',veto_number_thresh) \n",
    "    #set the antenna roles\n",
    "    core_roles1,core_roles2=packantennaroles(core_roles_array)\n",
    "    veto_roles1,veto_roles2=packantennaroles(veto_roles_array)\n",
    "    setvalue(casperbrd,'trigger_antennas1','cr_registers.xlsx',core_roles1)\n",
    "    setvalue(casperbrd,'trigger_antennas2','cr_registers.xlsx',core_roles2)\n",
    "    setvalue(casperbrd,'veto_antennas1','cr_registers.xlsx',veto_roles1)\n",
    "    setvalue(casperbrd,'veto_antennas2','cr_registers.xlsx',veto_roles2)\n",
    "\n",
    "    return\n",
    "\n",
    "def set_delays(casperbrd,delays):\n",
    "#see notebook subarray_threshold_scans for a function to extract the delays from a text file of delays and antenna names\n",
    "    delayblock=blocks.delay.Delay(casperbrd, 'delay', n_streams=64, logger=None)\n",
    "    delayblock.initialize()\n",
    "    for i in range(64):\n",
    "        z=delays[i]\n",
    "        delayblock.set_delay(i,z)\n",
    "'''\n",
    "def test_coincidencer(casperbrd,trigger_power_thresh,\n",
    "                      veto_power_thresh,\n",
    "                      trigger_window,\n",
    "                      veto_window,\n",
    "                      antenna_number_thresh,\n",
    "                      veto_number_thresh,\n",
    "                      delays,\n",
    "                      core_roles_array,\n",
    "                      veto_roles_array):\n",
    "\n",
    "    setup_coincidencer(casperbrd,trigger_power_thresh,\n",
    "                          veto_power_thresh,\n",
    "                          trigger_window,\n",
    "                          veto_window,\n",
    "                          antenna_number_thresh,\n",
    "                          veto_number_thresh,\n",
    "                          core_roles_array,\n",
    "                          veto_roles_array)\n",
    "    set_delays(casperbrd,delays)\n",
    "\n",
    "    # reset trigger counter\n",
    "    setvalue(casperbrd,\"trig_debug_reset\",\"cr_registers.xlsx\",1)\n",
    "    time.sleep(0.003)\n",
    "    setvalue(casperbrd,\"trig_debug_reset\",\"cr_registers.xlsx\",0)\n",
    "    internal_trigger_count1=getvalue(casperbrd,\"count_triggers\",\"cr_registers.xlsx\")\n",
    "\n",
    "    time.sleep(2.75)  #have to wait for it to update\n",
    "    trigger_count=getvalue(casperbrd,\"count_triggers\",\"cr_registers.xlsx\")\n",
    "    internal_trigger_count2=getvalue(casperbrd,\"count_triggers\",\"cr_registers.xlsx\")\n",
    "    triggers_leaving_block=(internal_trigger_count1-internal_trigger_count2)\n",
    "    veto_coincidence,core_coincidence=struct.unpack('>2l',casperbrd.read(\"cosmic_ray_core_and_veto_rate\",2*4,0))\n",
    "    internal_triggers=struct.unpack('>2l',casperbrd.read(\"cosmic_ray_internal_trigger_rate\",2*4,0))\n",
    "    print(internal_triggers)\n",
    "    print(\"Core coincidence per 10b cycle: \", core_coincidence/262144.)\n",
    "    print(\"Veto coincidence per 10b cycle: \", veto_coincidence/262144.)\n",
    "    print(\"Triggers per 10b cycle (roughly)\",trigger_count/262144.)\n",
    "    print(\"Triggers leaving coincidence_trigger block per cycle\", internal_triggers)\n",
    "    print(\"Triggers leaving block\", triggers_leaving_block)\n",
    "    return"
   ]
  },
  {
   "cell_type": "code",
   "execution_count": 36,
   "metadata": {},
   "outputs": [
    {
     "data": {
      "text/plain": [
       "0.55"
      ]
     },
     "execution_count": 36,
     "metadata": {},
     "output_type": "execute_result"
    }
   ],
   "source": []
  },
  {
   "cell_type": "code",
   "execution_count": 3,
   "metadata": {},
   "outputs": [
    {
     "name": "stdout",
     "output_type": "stream",
     "text": [
      "2022-09-02 21:05:09,507 - lwa_f.blocks.block:snap01 - INFO - adc - Detected FMC ADC board on port 0\n",
      "2022-09-02 21:05:09,719 - lwa_f.blocks.block:snap01 - INFO - adc - Detected FMC ADC board on port 1\n"
     ]
    }
   ],
   "source": [
    "fpgfile='/home/ubuntu/kp/caltech-lwa/snap2_f_200msps_64i_4096c/outputs/snap2_f_200msps_64i_4096c_2022-09-01_1917.fpg'\n",
    "brdname='snap01'\n",
    "brd=snap2_fengine.Snap2Fengine(brdname)\n",
    "casperbrd = casperfpga.CasperFpga(brdname, transport=casperfpga.TapcpTransport)"
   ]
  },
  {
   "cell_type": "code",
   "execution_count": 4,
   "metadata": {},
   "outputs": [
    {
     "name": "stdout",
     "output_type": "stream",
     "text": [
      "2022-09-02 21:05:09,740 - lwa_f.snap2_fengine:snap01 - INFO - Loading firmware /home/ubuntu/kp/caltech-lwa/snap2_f_200msps_64i_4096c/outputs/snap2_f_200msps_64i_4096c_2022-09-01_1917.fpg to snap01\n",
      "2022-09-02 21:05:32,301 - lwa_f.blocks.block:snap01 - INFO - adc - Detected FMC ADC board on port 0\n",
      "2022-09-02 21:05:32,622 - lwa_f.blocks.block:snap01 - INFO - adc - Detected FMC ADC board on port 1\n"
     ]
    }
   ],
   "source": [
    "brd.program(fpgfile)\n"
   ]
  },
  {
   "cell_type": "code",
   "execution_count": 5,
   "metadata": {},
   "outputs": [
    {
     "name": "stdout",
     "output_type": "stream",
     "text": [
      "2022-09-02 21:05:32,647 - lwa_f.snap2_fengine:snap01 - INFO - Initializing block (writable): fpga\n",
      "2022-09-02 21:05:32,648 - lwa_f.snap2_fengine:snap01 - INFO - Initializing block (writable): adc\n",
      "2022-09-02 21:05:32,651 - lwa_f.blocks.block:snap01 - INFO - adc - FMC 0 board 0: Setting clock source to 1\n",
      "2022-09-02 21:05:32,659 - lwa_f.blocks.block:snap01 - INFO - adc - FMC 0 board 1: Setting clock source to 1\n",
      "2022-09-02 21:05:32,665 - lwa_f.blocks.block:snap01 - INFO - adc - FMC 1 board 0: Setting clock source to 1\n",
      "2022-09-02 21:05:32,672 - lwa_f.blocks.block:snap01 - INFO - adc - FMC 1 board 1: Setting clock source to 1\n",
      "2022-09-02 21:05:41,278 - lwa_f.blocks.block:snap01 - INFO - adc - FMC 0 board 0 clock rates: [490926768, 98278734, 98369334, 0, 0]\n",
      "2022-09-02 21:05:41,279 - lwa_f.blocks.block:snap01 - INFO - adc - FMC 0 board 0: MMCM locked\n",
      "2022-09-02 21:05:42,290 - lwa_f.blocks.block:snap01 - INFO - adc - FMC 0 board 1 clock rates: [490693885, 98191102, 98264715, 98281232, 0]\n",
      "2022-09-02 21:05:43,301 - lwa_f.blocks.block:snap01 - INFO - adc - FMC 1 board 0 clock rates: [8806, 881, 807, 0, 0]\n",
      "2022-09-02 21:05:43,302 - lwa_f.blocks.block:snap01 - INFO - adc - FMC 1 board 0: MMCM locked\n",
      "2022-09-02 21:05:44,311 - lwa_f.blocks.block:snap01 - INFO - adc - FMC 1 board 1 clock rates: [490659164, 98159672, 98201197, 98262541, 0]\n",
      "2022-09-02 21:05:45,364 - lwa_f.blocks.block:snap01 - INFO - adc - FMC 0 Scanning data delays\n"
     ]
    },
    {
     "name": "stderr",
     "output_type": "stream",
     "text": [
      "100% (64 of 64) |########################| Elapsed Time: 0:00:07 Time:  0:00:07\n"
     ]
    },
    {
     "name": "stdout",
     "output_type": "stream",
     "text": [
      "2022-09-02 21:05:52,688 - lwa_f.blocks.block:snap01 - INFO - adc - FMC 0 data lane delays:\n",
      "[[360, 352, 360, 344, 352, 344, 344, 344], [328, 312, 312, 312, 312, 304, 304, 312], [296, 296, 296, 296, 296, 288, 296, 304], [328, 344, 328, 328, 328, 328, 328, 328], [312, 312, 312, 320, 312, 312, 312, 304], [280, 288, 296, 288, 288, 280, 280, 280], [304, 280, 288, 288, 288, 304, 288, 288], [328, 328, 328, 328, 328, 336, 336, 320]]\n",
      "2022-09-02 21:05:52,688 - lwa_f.blocks.block:snap01 - INFO - adc - FMC 0 data lane slacks:\n",
      "[[40, 40, 40, 40, 40, 40, 40, 32], [40, 40, 40, 40, 40, 32, 32, 40], [40, 40, 40, 40, 40, 32, 40, 32], [40, 40, 40, 40, 40, 32, 40, 32], [40, 40, 40, 40, 40, 40, 40, 32], [40, 40, 40, 40, 40, 40, 40, 40], [40, 32, 40, 32, 32, 32, 40, 40], [40, 40, 40, 40, 40, 40, 40, 32]]\n",
      "2022-09-02 21:05:52,689 - lwa_f.blocks.block:snap01 - INFO - adc - Chip 0, Lane 0:    XXXXXXXXXXXXXXXXXXXXXXXXXXXXXXXXXXXXXXXXX----|----XXXXXXXXXXXXXX\n",
      "2022-09-02 21:05:52,690 - lwa_f.blocks.block:snap01 - INFO - adc - Chip 0, Lane 1:    XXXXXXXXXXXXXXXXXXXXXXXXXXXXXXXXXXXXXXXX----|----XXXXXXXXXXXXXXX\n",
      "2022-09-02 21:05:52,691 - lwa_f.blocks.block:snap01 - INFO - adc - Chip 0, Lane 2:    XXXXXXXXXXXXXXXXXXXXXXXXXXXXXXXXXXXXXXXXX----|----XXXXXXXXXXXXXX\n",
      "2022-09-02 21:05:52,692 - lwa_f.blocks.block:snap01 - INFO - adc - Chip 0, Lane 3:    XXXXXXXXXXXXXXXXXXXXXXXXXXXXXXXXXXXXXXX----|----XXXXXXXXXXXXXXXX\n",
      "2022-09-02 21:05:52,693 - lwa_f.blocks.block:snap01 - INFO - adc - Chip 0, Lane 4:    XXXXXXXXXXXXXXXXXXXXXXXXXXXXXXXXXXXXXXXX----|----XXXXXXXXXXXXXXX\n",
      "2022-09-02 21:05:52,693 - lwa_f.blocks.block:snap01 - INFO - adc - Chip 0, Lane 5:    XXXXXXXXXXXXXXXXXXXXXXXXXXXXXXXXXXXXXXX----|----XXXXXXXXXXXXXXXX\n",
      "2022-09-02 21:05:52,694 - lwa_f.blocks.block:snap01 - INFO - adc - Chip 0, Lane 6:    XXXXXXXXXXXXXXXXXXXXXXXXXXXXXXXXXXXXXXX----|----XXXXXXXXXXXXXXXX\n",
      "2022-09-02 21:05:52,695 - lwa_f.blocks.block:snap01 - INFO - adc - Chip 0, Lane 7:    XXXXXXXXXXXXXXXXXXXXXXXXXXXXXXXXXXXXXXXX---|----XXXXXXXXXXXXXXXX\n",
      "2022-09-02 21:05:52,696 - lwa_f.blocks.block:snap01 - INFO - adc - Chip 1, Lane 0:    XXXXXXXXXXXXXXXXXXXXXXXXXXXXXXXXXXXXX----|----XXXXXXXXXXXXXXXXXX\n",
      "2022-09-02 21:05:52,696 - lwa_f.blocks.block:snap01 - INFO - adc - Chip 1, Lane 1:    XXXXXXXXXXXXXXXXXXXXXXXXXXXXXXXXXXX----|-----XXXXXXXXXXXXXXXXXXX\n",
      "2022-09-02 21:05:52,697 - lwa_f.blocks.block:snap01 - INFO - adc - Chip 1, Lane 2:    XXXXXXXXXXXXXXXXXXXXXXXXXXXXXXXXXXX----|----XXXXXXXXXXXXXXXXXXXX\n",
      "2022-09-02 21:05:52,698 - lwa_f.blocks.block:snap01 - INFO - adc - Chip 1, Lane 3:    XXXXXXXXXXXXXXXXXXXXXXXXXXXXXXXXXXX----|----XXXXXXXXXXXXXXXXXXXX\n",
      "2022-09-02 21:05:52,699 - lwa_f.blocks.block:snap01 - INFO - adc - Chip 1, Lane 4:    XXXXXXXXXXXXXXXXXXXXXXXXXXXXXXXXXXX----|----XXXXXXXXXXXXXXXXXXXX\n",
      "2022-09-02 21:05:52,699 - lwa_f.blocks.block:snap01 - INFO - adc - Chip 1, Lane 5:    XXXXXXXXXXXXXXXXXXXXXXXXXXXXXXXXXXX---|----XXXXXXXXXXXXXXXXXXXXX\n",
      "2022-09-02 21:05:52,700 - lwa_f.blocks.block:snap01 - INFO - adc - Chip 1, Lane 6:    XXXXXXXXXXXXXXXXXXXXXXXXXXXXXXXXXXX---|----XXXXXXXXXXXXXXXXXXXXX\n",
      "2022-09-02 21:05:52,701 - lwa_f.blocks.block:snap01 - INFO - adc - Chip 1, Lane 7:    XXXXXXXXXXXXXXXXXXXXXXXXXXXXXXXXXXX----|----XXXXXXXXXXXXXXXXXXXX\n",
      "2022-09-02 21:05:52,702 - lwa_f.blocks.block:snap01 - INFO - adc - Chip 2, Lane 0:    XXXXXXXXXXXXXXXXXXXXXXXXXXXXXXXXX----|-----XXXXXXXXXXXXXXXXXXXXX\n",
      "2022-09-02 21:05:52,702 - lwa_f.blocks.block:snap01 - INFO - adc - Chip 2, Lane 1:    XXXXXXXXXXXXXXXXXXXXXXXXXXXXXXXXX----|----XXXXXXXXXXXXXXXXXXXXXX\n",
      "2022-09-02 21:05:52,703 - lwa_f.blocks.block:snap01 - INFO - adc - Chip 2, Lane 2:    XXXXXXXXXXXXXXXXXXXXXXXXXXXXXXXXX----|----XXXXXXXXXXXXXXXXXXXXXX\n",
      "2022-09-02 21:05:52,704 - lwa_f.blocks.block:snap01 - INFO - adc - Chip 2, Lane 3:    XXXXXXXXXXXXXXXXXXXXXXXXXXXXXXXXX----|----XXXXXXXXXXXXXXXXXXXXXX\n",
      "2022-09-02 21:05:52,705 - lwa_f.blocks.block:snap01 - INFO - adc - Chip 2, Lane 4:    XXXXXXXXXXXXXXXXXXXXXXXXXXXXXXXXX----|----XXXXXXXXXXXXXXXXXXXXXX\n",
      "2022-09-02 21:05:52,705 - lwa_f.blocks.block:snap01 - INFO - adc - Chip 2, Lane 5:    XXXXXXXXXXXXXXXXXXXXXXXXXXXXXXXXX---|----XXXXXXXXXXXXXXXXXXXXXXX\n",
      "2022-09-02 21:05:52,706 - lwa_f.blocks.block:snap01 - INFO - adc - Chip 2, Lane 6:    XXXXXXXXXXXXXXXXXXXXXXXXXXXXXXXXX----|----XXXXXXXXXXXXXXXXXXXXXX\n",
      "2022-09-02 21:05:52,707 - lwa_f.blocks.block:snap01 - INFO - adc - Chip 2, Lane 7:    XXXXXXXXXXXXXXXXXXXXXXXXXXXXXXXXXXX---|----XXXXXXXXXXXXXXXXXXXXX\n",
      "2022-09-02 21:05:52,707 - lwa_f.blocks.block:snap01 - INFO - adc - Chip 3, Lane 0:    XXXXXXXXXXXXXXXXXXXXXXXXXXXXXXXXXXXXX----|-----XXXXXXXXXXXXXXXXX\n",
      "2022-09-02 21:05:52,708 - lwa_f.blocks.block:snap01 - INFO - adc - Chip 3, Lane 1:    XXXXXXXXXXXXXXXXXXXXXXXXXXXXXXXXXXXXXXX----|----XXXXXXXXXXXXXXXX\n",
      "2022-09-02 21:05:52,709 - lwa_f.blocks.block:snap01 - INFO - adc - Chip 3, Lane 2:    XXXXXXXXXXXXXXXXXXXXXXXXXXXXXXXXXXXXX----|----XXXXXXXXXXXXXXXXXX\n",
      "2022-09-02 21:05:52,709 - lwa_f.blocks.block:snap01 - INFO - adc - Chip 3, Lane 3:    XXXXXXXXXXXXXXXXXXXXXXXXXXXXXXXXXXXXX----|----XXXXXXXXXXXXXXXXXX\n",
      "2022-09-02 21:05:52,710 - lwa_f.blocks.block:snap01 - INFO - adc - Chip 3, Lane 4:    XXXXXXXXXXXXXXXXXXXXXXXXXXXXXXXXXXXXX----|----XXXXXXXXXXXXXXXXXX\n",
      "2022-09-02 21:05:52,710 - lwa_f.blocks.block:snap01 - INFO - adc - Chip 3, Lane 5:    XXXXXXXXXXXXXXXXXXXXXXXXXXXXXXXXXXXXXX---|----XXXXXXXXXXXXXXXXXX\n",
      "2022-09-02 21:05:52,711 - lwa_f.blocks.block:snap01 - INFO - adc - Chip 3, Lane 6:    XXXXXXXXXXXXXXXXXXXXXXXXXXXXXXXXXXXXX----|----XXXXXXXXXXXXXXXXXX\n",
      "2022-09-02 21:05:52,712 - lwa_f.blocks.block:snap01 - INFO - adc - Chip 3, Lane 7:    XXXXXXXXXXXXXXXXXXXXXXXXXXXXXXXXXXXXXX---|----XXXXXXXXXXXXXXXXXX\n",
      "2022-09-02 21:05:52,712 - lwa_f.blocks.block:snap01 - INFO - adc - Chip 4, Lane 0:    XXXXXXXXXXXXXXXXXXXXXXXXXXXXXXXXXXX----|----XXXXXXXXXXXXXXXXXXXX\n",
      "2022-09-02 21:05:52,713 - lwa_f.blocks.block:snap01 - INFO - adc - Chip 4, Lane 1:    XXXXXXXXXXXXXXXXXXXXXXXXXXXXXXXXXXX----|----XXXXXXXXXXXXXXXXXXXX\n",
      "2022-09-02 21:05:52,713 - lwa_f.blocks.block:snap01 - INFO - adc - Chip 4, Lane 2:    XXXXXXXXXXXXXXXXXXXXXXXXXXXXXXXXXXX----|----XXXXXXXXXXXXXXXXXXXX\n",
      "2022-09-02 21:05:52,714 - lwa_f.blocks.block:snap01 - INFO - adc - Chip 4, Lane 3:    XXXXXXXXXXXXXXXXXXXXXXXXXXXXXXXXXXXX----|----XXXXXXXXXXXXXXXXXXX\n",
      "2022-09-02 21:05:52,715 - lwa_f.blocks.block:snap01 - INFO - adc - Chip 4, Lane 4:    XXXXXXXXXXXXXXXXXXXXXXXXXXXXXXXXXXX----|----XXXXXXXXXXXXXXXXXXXX\n",
      "2022-09-02 21:05:52,715 - lwa_f.blocks.block:snap01 - INFO - adc - Chip 4, Lane 5:    XXXXXXXXXXXXXXXXXXXXXXXXXXXXXXXXXXX----|----XXXXXXXXXXXXXXXXXXXX\n",
      "2022-09-02 21:05:52,716 - lwa_f.blocks.block:snap01 - INFO - adc - Chip 4, Lane 6:    XXXXXXXXXXXXXXXXXXXXXXXXXXXXXXXXXXX----|----XXXXXXXXXXXXXXXXXXXX\n",
      "2022-09-02 21:05:52,716 - lwa_f.blocks.block:snap01 - INFO - adc - Chip 4, Lane 7:    XXXXXXXXXXXXXXXXXXXXXXXXXXXXXXXXXXX---|----XXXXXXXXXXXXXXXXXXXXX\n",
      "2022-09-02 21:05:52,717 - lwa_f.blocks.block:snap01 - INFO - adc - Chip 5, Lane 0:    XXXXXXXXXXXXXXXXXXXXXXXXXXXXXXX----|-----XXXXXXXXXXXXXXXXXXXXXXX\n",
      "2022-09-02 21:05:52,718 - lwa_f.blocks.block:snap01 - INFO - adc - Chip 5, Lane 1:    XXXXXXXXXXXXXXXXXXXXXXXXXXXXXXXX----|----XXXXXXXXXXXXXXXXXXXXXXX\n",
      "2022-09-02 21:05:52,718 - lwa_f.blocks.block:snap01 - INFO - adc - Chip 5, Lane 2:    XXXXXXXXXXXXXXXXXXXXXXXXXXXXXXXXX----|----XXXXXXXXXXXXXXXXXXXXXX\n",
      "2022-09-02 21:05:52,719 - lwa_f.blocks.block:snap01 - INFO - adc - Chip 5, Lane 3:    XXXXXXXXXXXXXXXXXXXXXXXXXXXXXXXX----|----XXXXXXXXXXXXXXXXXXXXXXX\n",
      "2022-09-02 21:05:52,719 - lwa_f.blocks.block:snap01 - INFO - adc - Chip 5, Lane 4:    XXXXXXXXXXXXXXXXXXXXXXXXXXXXXXXX----|----XXXXXXXXXXXXXXXXXXXXXXX\n",
      "2022-09-02 21:05:52,720 - lwa_f.blocks.block:snap01 - INFO - adc - Chip 5, Lane 5:    XXXXXXXXXXXXXXXXXXXXXXXXXXXXXXX----|-----XXXXXXXXXXXXXXXXXXXXXXX\n",
      "2022-09-02 21:05:52,721 - lwa_f.blocks.block:snap01 - INFO - adc - Chip 5, Lane 6:    XXXXXXXXXXXXXXXXXXXXXXXXXXXXXXX----|-----XXXXXXXXXXXXXXXXXXXXXXX\n",
      "2022-09-02 21:05:52,721 - lwa_f.blocks.block:snap01 - INFO - adc - Chip 5, Lane 7:    XXXXXXXXXXXXXXXXXXXXXXXXXXXXXXX----|----XXXXXXXXXXXXXXXXXXXXXXXX\n",
      "2022-09-02 21:05:52,722 - lwa_f.blocks.block:snap01 - INFO - adc - Chip 6, Lane 0:    XXXXXXXXXXXXXXXXXXXXXXXXXXXXXXXXXX----|----XXXXXXXXXXXXXXXXXXXXX\n",
      "2022-09-02 21:05:52,722 - lwa_f.blocks.block:snap01 - INFO - adc - Chip 6, Lane 1:    XXXXXXXXXXXXXXXXXXXXXXXXXXXXXXXX---|----XXXXXXXXXXXXXXXXXXXXXXXX\n"
     ]
    },
    {
     "name": "stdout",
     "output_type": "stream",
     "text": [
      "2022-09-02 21:05:52,723 - lwa_f.blocks.block:snap01 - INFO - adc - Chip 6, Lane 2:    XXXXXXXXXXXXXXXXXXXXXXXXXXXXXXXX----|----XXXXXXXXXXXXXXXXXXXXXXX\n",
      "2022-09-02 21:05:52,724 - lwa_f.blocks.block:snap01 - INFO - adc - Chip 6, Lane 3:    XXXXXXXXXXXXXXXXXXXXXXXXXXXXXXXXX---|----XXXXXXXXXXXXXXXXXXXXXXX\n",
      "2022-09-02 21:05:52,724 - lwa_f.blocks.block:snap01 - INFO - adc - Chip 6, Lane 4:    XXXXXXXXXXXXXXXXXXXXXXXXXXXXXXXXX---|----XXXXXXXXXXXXXXXXXXXXXXX\n",
      "2022-09-02 21:05:52,725 - lwa_f.blocks.block:snap01 - INFO - adc - Chip 6, Lane 5:    XXXXXXXXXXXXXXXXXXXXXXXXXXXXXXXXXXX---|---XXXXXXXXXXXXXXXXXXXXXX\n",
      "2022-09-02 21:05:52,725 - lwa_f.blocks.block:snap01 - INFO - adc - Chip 6, Lane 6:    XXXXXXXXXXXXXXXXXXXXXXXXXXXXXXXX----|----XXXXXXXXXXXXXXXXXXXXXXX\n",
      "2022-09-02 21:05:52,726 - lwa_f.blocks.block:snap01 - INFO - adc - Chip 6, Lane 7:    XXXXXXXXXXXXXXXXXXXXXXXXXXXXXXXX----|----XXXXXXXXXXXXXXXXXXXXXXX\n",
      "2022-09-02 21:05:52,727 - lwa_f.blocks.block:snap01 - INFO - adc - Chip 7, Lane 0:    XXXXXXXXXXXXXXXXXXXXXXXXXXXXXXXXXXXXX----|-----XXXXXXXXXXXXXXXXX\n",
      "2022-09-02 21:05:52,727 - lwa_f.blocks.block:snap01 - INFO - adc - Chip 7, Lane 1:    XXXXXXXXXXXXXXXXXXXXXXXXXXXXXXXXXXXXX----|----XXXXXXXXXXXXXXXXXX\n",
      "2022-09-02 21:05:52,728 - lwa_f.blocks.block:snap01 - INFO - adc - Chip 7, Lane 2:    XXXXXXXXXXXXXXXXXXXXXXXXXXXXXXXXXXXXX----|----XXXXXXXXXXXXXXXXXX\n",
      "2022-09-02 21:05:52,728 - lwa_f.blocks.block:snap01 - INFO - adc - Chip 7, Lane 3:    XXXXXXXXXXXXXXXXXXXXXXXXXXXXXXXXXXXXX----|----XXXXXXXXXXXXXXXXXX\n",
      "2022-09-02 21:05:52,729 - lwa_f.blocks.block:snap01 - INFO - adc - Chip 7, Lane 4:    XXXXXXXXXXXXXXXXXXXXXXXXXXXXXXXXXXXXX----|----XXXXXXXXXXXXXXXXXX\n",
      "2022-09-02 21:05:52,730 - lwa_f.blocks.block:snap01 - INFO - adc - Chip 7, Lane 5:    XXXXXXXXXXXXXXXXXXXXXXXXXXXXXXXXXXXXXX----|----XXXXXXXXXXXXXXXXX\n",
      "2022-09-02 21:05:52,730 - lwa_f.blocks.block:snap01 - INFO - adc - Chip 7, Lane 6:    XXXXXXXXXXXXXXXXXXXXXXXXXXXXXXXXXXXXXX----|----XXXXXXXXXXXXXXXXX\n",
      "2022-09-02 21:05:52,731 - lwa_f.blocks.block:snap01 - INFO - adc - Chip 7, Lane 7:    XXXXXXXXXXXXXXXXXXXXXXXXXXXXXXXXXXXXX---|----XXXXXXXXXXXXXXXXXXX\n",
      "2022-09-02 21:05:54,950 - lwa_f.blocks.block:snap01 - INFO - adc - FMC 1 Scanning data delays\n"
     ]
    },
    {
     "name": "stderr",
     "output_type": "stream",
     "text": [
      "100% (64 of 64) |########################| Elapsed Time: 0:00:08 Time:  0:00:08\n"
     ]
    },
    {
     "name": "stdout",
     "output_type": "stream",
     "text": [
      "2022-09-02 21:06:03,136 - lwa_f.blocks.block:snap01 - INFO - adc - Bitslipping board 0 because everywhere was bad\n",
      "2022-09-02 21:06:04,069 - lwa_f.blocks.block:snap01 - INFO - adc - FMC 1 Scanning data delays\n"
     ]
    },
    {
     "name": "stderr",
     "output_type": "stream",
     "text": [
      "100% (64 of 64) |########################| Elapsed Time: 0:00:07 Time:  0:00:07\n"
     ]
    },
    {
     "name": "stdout",
     "output_type": "stream",
     "text": [
      "2022-09-02 21:06:11,440 - lwa_f.blocks.block:snap01 - INFO - adc - Bitslipping board 0 because everywhere was bad\n",
      "2022-09-02 21:06:12,535 - lwa_f.blocks.block:snap01 - INFO - adc - FMC 1 Scanning data delays\n"
     ]
    },
    {
     "name": "stderr",
     "output_type": "stream",
     "text": [
      "100% (64 of 64) |########################| Elapsed Time: 0:00:07 Time:  0:00:07\n"
     ]
    },
    {
     "name": "stdout",
     "output_type": "stream",
     "text": [
      "2022-09-02 21:06:19,790 - lwa_f.blocks.block:snap01 - INFO - adc - Bitslipping board 0 chip 0 because nowhere was good\n",
      "2022-09-02 21:06:19,800 - lwa_f.blocks.block:snap01 - INFO - adc - Bitslipping board 0 chip 1 because nowhere was good\n",
      "2022-09-02 21:06:19,811 - lwa_f.blocks.block:snap01 - INFO - adc - Bitslipping board 0 chip 2 because nowhere was good\n",
      "2022-09-02 21:06:19,821 - lwa_f.blocks.block:snap01 - INFO - adc - Bitslipping board 0 chip 3 because nowhere was good\n",
      "2022-09-02 21:06:20,751 - lwa_f.blocks.block:snap01 - INFO - adc - FMC 1 Scanning data delays\n"
     ]
    },
    {
     "name": "stderr",
     "output_type": "stream",
     "text": [
      "100% (64 of 64) |########################| Elapsed Time: 0:00:07 Time:  0:00:07\n"
     ]
    },
    {
     "name": "stdout",
     "output_type": "stream",
     "text": [
      "2022-09-02 21:06:27,815 - lwa_f.blocks.block:snap01 - INFO - adc - Bitslipping board 0 chip 0 because nowhere was good\n",
      "2022-09-02 21:06:27,830 - lwa_f.blocks.block:snap01 - INFO - adc - Bitslipping board 0 chip 1 because nowhere was good\n",
      "2022-09-02 21:06:27,842 - lwa_f.blocks.block:snap01 - INFO - adc - Bitslipping board 0 chip 2 because nowhere was good\n",
      "2022-09-02 21:06:27,854 - lwa_f.blocks.block:snap01 - INFO - adc - Bitslipping board 0 chip 3 because nowhere was good\n",
      "2022-09-02 21:06:28,830 - lwa_f.blocks.block:snap01 - INFO - adc - FMC 1 Scanning data delays\n"
     ]
    },
    {
     "name": "stderr",
     "output_type": "stream",
     "text": [
      "100% (64 of 64) |########################| Elapsed Time: 0:00:07 Time:  0:00:07\n"
     ]
    },
    {
     "name": "stdout",
     "output_type": "stream",
     "text": [
      "2022-09-02 21:06:36,455 - lwa_f.blocks.block:snap01 - INFO - adc - Bitslipping board 0 chip 0 because nowhere was good\n",
      "2022-09-02 21:06:36,468 - lwa_f.blocks.block:snap01 - INFO - adc - Bitslipping board 0 chip 1 because nowhere was good\n",
      "2022-09-02 21:06:36,483 - lwa_f.blocks.block:snap01 - INFO - adc - Bitslipping board 0 chip 2 because nowhere was good\n",
      "2022-09-02 21:06:36,496 - lwa_f.blocks.block:snap01 - INFO - adc - Bitslipping board 0 chip 3 because nowhere was good\n",
      "2022-09-02 21:06:37,489 - lwa_f.blocks.block:snap01 - INFO - adc - FMC 1 Scanning data delays\n"
     ]
    },
    {
     "name": "stderr",
     "output_type": "stream",
     "text": [
      "100% (64 of 64) |########################| Elapsed Time: 0:00:07 Time:  0:00:07\n"
     ]
    },
    {
     "name": "stdout",
     "output_type": "stream",
     "text": [
      "2022-09-02 21:06:44,823 - lwa_f.blocks.block:snap01 - INFO - adc - Bitslipping board 0 chip 0 because nowhere was good\n",
      "2022-09-02 21:06:44,836 - lwa_f.blocks.block:snap01 - INFO - adc - Bitslipping board 0 chip 1 because nowhere was good\n",
      "2022-09-02 21:06:44,847 - lwa_f.blocks.block:snap01 - INFO - adc - Bitslipping board 0 chip 2 because nowhere was good\n",
      "2022-09-02 21:06:44,857 - lwa_f.blocks.block:snap01 - INFO - adc - Bitslipping board 0 chip 3 because nowhere was good\n",
      "2022-09-02 21:06:45,851 - lwa_f.blocks.block:snap01 - INFO - adc - FMC 1 Scanning data delays\n"
     ]
    },
    {
     "name": "stderr",
     "output_type": "stream",
     "text": [
      "100% (64 of 64) |########################| Elapsed Time: 0:00:07 Time:  0:00:07\n"
     ]
    },
    {
     "name": "stdout",
     "output_type": "stream",
     "text": [
      "2022-09-02 21:06:53,259 - lwa_f.blocks.block:snap01 - INFO - adc - Bitslipping board 0 chip 0 because nowhere was good\n",
      "2022-09-02 21:06:53,271 - lwa_f.blocks.block:snap01 - INFO - adc - Bitslipping board 0 chip 1 because nowhere was good\n",
      "2022-09-02 21:06:53,284 - lwa_f.blocks.block:snap01 - INFO - adc - Bitslipping board 0 chip 2 because nowhere was good\n",
      "2022-09-02 21:06:53,295 - lwa_f.blocks.block:snap01 - INFO - adc - Bitslipping board 0 chip 3 because nowhere was good\n",
      "2022-09-02 21:06:54,436 - lwa_f.blocks.block:snap01 - INFO - adc - FMC 1 Scanning data delays\n"
     ]
    },
    {
     "name": "stderr",
     "output_type": "stream",
     "text": [
      "100% (64 of 64) |########################| Elapsed Time: 0:00:07 Time:  0:00:07\n"
     ]
    },
    {
     "name": "stdout",
     "output_type": "stream",
     "text": [
      "2022-09-02 21:07:02,456 - lwa_f.blocks.block:snap01 - INFO - adc - FMC 1 data lane delays:\n",
      "[[0, 0, 0, 0, 0, 0, 0, 0], [0, 0, 0, 0, 0, 0, 0, 0], [0, 0, 0, 0, 0, 0, 0, 0], [0, 0, 0, 0, 0, 0, 0, 0], [304, 312, 312, 320, 312, 312, 304, 312], [248, 248, 248, 240, 256, 240, 256, 240], [296, 288, 296, 304, 296, 288, 288, 296], [328, 328, 328, 328, 328, 328, 328, 320]]\n",
      "2022-09-02 21:07:02,457 - lwa_f.blocks.block:snap01 - INFO - adc - FMC 1 data lane slacks:\n",
      "[[0, 0, 0, 0, 0, 0, 0, 0], [0, 0, 0, 0, 0, 0, 0, 0], [0, 0, 0, 0, 0, 0, 0, 0], [0, 0, 0, 0, 0, 0, 0, 0], [40, 40, 40, 40, 40, 40, 32, 40], [40, 40, 32, 32, 40, 32, 40, 32], [32, 32, 32, 32, 32, 32, 32, 32], [40, 32, 32, 40, 32, 40, 32, 32]]\n",
      "2022-09-02 21:07:02,458 - lwa_f.blocks.block:snap01 - WARNING - adc - Delay solutions have small slack\n",
      "2022-09-02 21:07:02,459 - lwa_f.blocks.block:snap01 - INFO - adc - Chip 0, Lane 0:    |XXXXXXXXXXXXXXXXXXXXXXXXXXXXXXXXXXXXXXXXXXXXXXXXXXXXXXXXXXXXXXX\n",
      "2022-09-02 21:07:02,460 - lwa_f.blocks.block:snap01 - INFO - adc - Chip 0, Lane 1:    |XXXXXXXXXXXXXXXXXXXXXXXXXXXXXXXXXXXXXXXXXXXXXXXXXXXXXXXXXXXXXXX\n",
      "2022-09-02 21:07:02,461 - lwa_f.blocks.block:snap01 - INFO - adc - Chip 0, Lane 2:    |XXXXXXXXXXXXXXXXXXXXXXXXXXXXXXXXXXXXXXXXXXXXXXXXXXXXXXXXXXXXXXX\n",
      "2022-09-02 21:07:02,462 - lwa_f.blocks.block:snap01 - INFO - adc - Chip 0, Lane 3:    |XXXXXXXXXXXXXXXXXXXXXXXXXXXXXXXXXXXXXXXXXXXXXXXXXXXXXXXXXXXXXXX\n",
      "2022-09-02 21:07:02,465 - lwa_f.blocks.block:snap01 - INFO - adc - Chip 0, Lane 4:    |XXXXXXXXXXXXXXXXXXXXXXXXXXXXXXXXXXXXXXXXXXXXXXXXXXXXXXXXXXXXXXX\n",
      "2022-09-02 21:07:02,466 - lwa_f.blocks.block:snap01 - INFO - adc - Chip 0, Lane 5:    |XXXXXXXXXXXXXXXXXXXXXXXXXXXXXXXXXXXXXXXXXXXXXXXXXXXXXXXXXXXXXXX\n",
      "2022-09-02 21:07:02,467 - lwa_f.blocks.block:snap01 - INFO - adc - Chip 0, Lane 6:    |XXXXXXXXXXXXXXXXXXXXXXXXXXXXXXXXXXXXXXXXXXXXXXXXXXXXXXXXXXXXXXX\n",
      "2022-09-02 21:07:02,468 - lwa_f.blocks.block:snap01 - INFO - adc - Chip 0, Lane 7:    |XXXXXXXXXXXXXXXXXXXXXXXXXXXXXXXXXXXXXXXXXXXXXXXXXXXXXXXXXXXXXXX\n",
      "2022-09-02 21:07:02,469 - lwa_f.blocks.block:snap01 - INFO - adc - Chip 1, Lane 0:    |XXXXXXXXXXXXXXXXXXXXXXXXXXXXXXXXXXXXXXXXXXXXXXXXXXXXXXXXXXXXXXX\n",
      "2022-09-02 21:07:02,469 - lwa_f.blocks.block:snap01 - INFO - adc - Chip 1, Lane 1:    |XXXXXXXXXXXXXXXXXXXXXXXXXXXXXXXXXXXXXXXXXXXXXXXXXXXXXXXXXXXXXXX\n",
      "2022-09-02 21:07:02,470 - lwa_f.blocks.block:snap01 - INFO - adc - Chip 1, Lane 2:    |XXXXXXXXXXXXXXXXXXXXXXXXXXXXXXXXXXXXXXXXXXXXXXXXXXXXXXXXXXXXXXX\n",
      "2022-09-02 21:07:02,471 - lwa_f.blocks.block:snap01 - INFO - adc - Chip 1, Lane 3:    |XXXXXXXXXXXXXXXXXXXXXXXXXXXXXXXXXXXXXXXXXXXXXXXXXXXXXXXXXXXXXXX\n",
      "2022-09-02 21:07:02,472 - lwa_f.blocks.block:snap01 - INFO - adc - Chip 1, Lane 4:    |XXXXXXXXXXXXXXXXXXXXXXXXXXXXXXXXXXXXXXXXXXXXXXXXXXXXXXXXXXXXXXX\n",
      "2022-09-02 21:07:02,473 - lwa_f.blocks.block:snap01 - INFO - adc - Chip 1, Lane 5:    |XXXXXXXXXXXXXXXXXXXXXXXXXXXXXXXXXXXXXXXXXXXXXXXXXXXXXXXXXXXXXXX\n",
      "2022-09-02 21:07:02,473 - lwa_f.blocks.block:snap01 - INFO - adc - Chip 1, Lane 6:    |XXXXXXXXXXXXXXXXXXXXXXXXXXXXXXXXXXXXXXXXXXXXXXXXXXXXXXXXXXXXXXX\n",
      "2022-09-02 21:07:02,474 - lwa_f.blocks.block:snap01 - INFO - adc - Chip 1, Lane 7:    |XXXXXXXXXXXXXXXXXXXXXXXXXXXXXXXXXXXXXXXXXXXXXXXXXXXXXXXXXXXXXXX\n",
      "2022-09-02 21:07:02,475 - lwa_f.blocks.block:snap01 - INFO - adc - Chip 2, Lane 0:    |XXXXXXXXXXXXXXXXXXXXXXXXXXXXXXXXXXXXXXXXXXXXXXXXXXXXXXXXXXXXXXX\n",
      "2022-09-02 21:07:02,475 - lwa_f.blocks.block:snap01 - INFO - adc - Chip 2, Lane 1:    |XXXXXXXXXXXXXXXXXXXXXXXXXXXXXXXXXXXXXXXXXXXXXXXXXXXXXXXXXXXXXXX\n",
      "2022-09-02 21:07:02,476 - lwa_f.blocks.block:snap01 - INFO - adc - Chip 2, Lane 2:    |XXXXXXXXXXXXXXXXXXXXXXXXXXXXXXXXXXXXXXXXXXXXXXXXXXXXXXXXXXXXXXX\n",
      "2022-09-02 21:07:02,479 - lwa_f.blocks.block:snap01 - INFO - adc - Chip 2, Lane 3:    |XXXXXXXXXXXXXXXXXXXXXXXXXXXXXXXXXXXXXXXXXXXXXXXXXXXXXXXXXXXXXXX\n",
      "2022-09-02 21:07:02,479 - lwa_f.blocks.block:snap01 - INFO - adc - Chip 2, Lane 4:    |XXXXXXXXXXXXXXXXXXXXXXXXXXXXXXXXXXXXXXXXXXXXXXXXXXXXXXXXXXXXXXX\n",
      "2022-09-02 21:07:02,480 - lwa_f.blocks.block:snap01 - INFO - adc - Chip 2, Lane 5:    |XXXXXXXXXXXXXXXXXXXXXXXXXXXXXXXXXXXXXXXXXXXXXXXXXXXXXXXXXXXXXXX\n",
      "2022-09-02 21:07:02,481 - lwa_f.blocks.block:snap01 - INFO - adc - Chip 2, Lane 6:    |XXXXXXXXXXXXXXXXXXXXXXXXXXXXXXXXXXXXXXXXXXXXXXXXXXXXXXXXXXXXXXX\n",
      "2022-09-02 21:07:02,481 - lwa_f.blocks.block:snap01 - INFO - adc - Chip 2, Lane 7:    |XXXXXXXXXXXXXXXXXXXXXXXXXXXXXXXXXXXXXXXXXXXXXXXXXXXXXXXXXXXXXXX\n",
      "2022-09-02 21:07:02,482 - lwa_f.blocks.block:snap01 - INFO - adc - Chip 3, Lane 0:    |XXXXXXXXXXXXXXXXXXXXXXXXXXXXXXXXXXXXXXXXXXXXXXXXXXXXXXXXXXXXXXX\n",
      "2022-09-02 21:07:02,483 - lwa_f.blocks.block:snap01 - INFO - adc - Chip 3, Lane 1:    |XXXXXXXXXXXXXXXXXXXXXXXXXXXXXXXXXXXXXXXXXXXXXXXXXXXXXXXXXXXXXXX\n",
      "2022-09-02 21:07:02,483 - lwa_f.blocks.block:snap01 - INFO - adc - Chip 3, Lane 2:    |XXXXXXXXXXXXXXXXXXXXXXXXXXXXXXXXXXXXXXXXXXXXXXXXXXXXXXXXXXXXXXX\n",
      "2022-09-02 21:07:02,484 - lwa_f.blocks.block:snap01 - INFO - adc - Chip 3, Lane 3:    |XXXXXXXXXXXXXXXXXXXXXXXXXXXXXXXXXXXXXXXXXXXXXXXXXXXXXXXXXXXXXXX\n",
      "2022-09-02 21:07:02,485 - lwa_f.blocks.block:snap01 - INFO - adc - Chip 3, Lane 4:    |XXXXXXXXXXXXXXXXXXXXXXXXXXXXXXXXXXXXXXXXXXXXXXXXXXXXXXXXXXXXXXX\n",
      "2022-09-02 21:07:02,485 - lwa_f.blocks.block:snap01 - INFO - adc - Chip 3, Lane 5:    |XXXXXXXXXXXXXXXXXXXXXXXXXXXXXXXXXXXXXXXXXXXXXXXXXXXXXXXXXXXXXXX\n",
      "2022-09-02 21:07:02,486 - lwa_f.blocks.block:snap01 - INFO - adc - Chip 3, Lane 6:    |XXXXXXXXXXXXXXXXXXXXXXXXXXXXXXXXXXXXXXXXXXXXXXXXXXXXXXXXXXXXXXX\n",
      "2022-09-02 21:07:02,487 - lwa_f.blocks.block:snap01 - INFO - adc - Chip 3, Lane 7:    |XXXXXXXXXXXXXXXXXXXXXXXXXXXXXXXXXXXXXXXXXXXXXXXXXXXXXXXXXXXXXXX\n",
      "2022-09-02 21:07:02,487 - lwa_f.blocks.block:snap01 - INFO - adc - Chip 4, Lane 0:    XXXXXXXXXXXXXXXXXXXXXXXXXXXXXXXXXX----|-----XXXXXXXXXXXXXXXXXXXX\n",
      "2022-09-02 21:07:02,488 - lwa_f.blocks.block:snap01 - INFO - adc - Chip 4, Lane 1:    XXXXXXXXXXXXXXXXXXXXXXXXXXXXXXXXXXX----|----XXXXXXXXXXXXXXXXXXXX\n",
      "2022-09-02 21:07:02,491 - lwa_f.blocks.block:snap01 - INFO - adc - Chip 4, Lane 2:    XXXXXXXXXXXXXXXXXXXXXXXXXXXXXXXXXXX----|----XXXXXXXXXXXXXXXXXXXX\n",
      "2022-09-02 21:07:02,491 - lwa_f.blocks.block:snap01 - INFO - adc - Chip 4, Lane 3:    XXXXXXXXXXXXXXXXXXXXXXXXXXXXXXXXXXXX----|-----XXXXXXXXXXXXXXXXXX\n",
      "2022-09-02 21:07:02,492 - lwa_f.blocks.block:snap01 - INFO - adc - Chip 4, Lane 4:    XXXXXXXXXXXXXXXXXXXXXXXXXXXXXXXXXXX----|----XXXXXXXXXXXXXXXXXXXX\n",
      "2022-09-02 21:07:02,493 - lwa_f.blocks.block:snap01 - INFO - adc - Chip 4, Lane 5:    XXXXXXXXXXXXXXXXXXXXXXXXXXXXXXXXXXX----|----XXXXXXXXXXXXXXXXXXXX\n",
      "2022-09-02 21:07:02,493 - lwa_f.blocks.block:snap01 - INFO - adc - Chip 4, Lane 6:    XXXXXXXXXXXXXXXXXXXXXXXXXXXXXXXXXXX---|----XXXXXXXXXXXXXXXXXXXXX\n",
      "2022-09-02 21:07:02,494 - lwa_f.blocks.block:snap01 - INFO - adc - Chip 4, Lane 7:    XXXXXXXXXXXXXXXXXXXXXXXXXXXXXXXXXXX----|----XXXXXXXXXXXXXXXXXXXX\n",
      "2022-09-02 21:07:02,495 - lwa_f.blocks.block:snap01 - INFO - adc - Chip 5, Lane 0:    XXXXXXXXXXXXXXXXXXXXXXXXXXX----|----XXXXXXXXXXXXXXXXXXXXXXXXXXXX\n",
      "2022-09-02 21:07:02,496 - lwa_f.blocks.block:snap01 - INFO - adc - Chip 5, Lane 1:    XXXXXXXXXXXXXXXXXXXXXXXXXXX----|----XXXXXXXXXXXXXXXXXXXXXXXXXXXX\n",
      "2022-09-02 21:07:02,497 - lwa_f.blocks.block:snap01 - INFO - adc - Chip 5, Lane 2:    XXXXXXXXXXXXXXXXXXXXXXXXXXXX---|----XXXXXXXXXXXXXXXXXXXXXXXXXXXX\n",
      "2022-09-02 21:07:02,497 - lwa_f.blocks.block:snap01 - INFO - adc - Chip 5, Lane 3:    XXXXXXXXXXXXXXXXXXXXXXXXXXX---|----XXXXXXXXXXXXXXXXXXXXXXXXXXXXX\n",
      "2022-09-02 21:07:02,498 - lwa_f.blocks.block:snap01 - INFO - adc - Chip 5, Lane 4:    XXXXXXXXXXXXXXXXXXXXXXXXXXXX----|----XXXXXXXXXXXXXXXXXXXXXXXXXXX\n",
      "2022-09-02 21:07:02,499 - lwa_f.blocks.block:snap01 - INFO - adc - Chip 5, Lane 5:    XXXXXXXXXXXXXXXXXXXXXXXXXXX---|----XXXXXXXXXXXXXXXXXXXXXXXXXXXXX\n",
      "2022-09-02 21:07:02,500 - lwa_f.blocks.block:snap01 - INFO - adc - Chip 5, Lane 6:    XXXXXXXXXXXXXXXXXXXXXXXXXXXX----|----XXXXXXXXXXXXXXXXXXXXXXXXXXX\n",
      "2022-09-02 21:07:02,500 - lwa_f.blocks.block:snap01 - INFO - adc - Chip 5, Lane 7:    XXXXXXXXXXXXXXXXXXXXXXXXXXX---|----XXXXXXXXXXXXXXXXXXXXXXXXXXXXX\n",
      "2022-09-02 21:07:02,501 - lwa_f.blocks.block:snap01 - INFO - adc - Chip 6, Lane 0:    XXXXXXXXXXXXXXXXXXXXXXXXXXXXXXXXXX---|----XXXXXXXXXXXXXXXXXXXXXX\n"
     ]
    },
    {
     "name": "stdout",
     "output_type": "stream",
     "text": [
      "2022-09-02 21:07:02,501 - lwa_f.blocks.block:snap01 - INFO - adc - Chip 6, Lane 1:    XXXXXXXXXXXXXXXXXXXXXXXXXXXXXXXXX---|---XXXXXXXXXXXXXXXXXXXXXXXX\n",
      "2022-09-02 21:07:02,502 - lwa_f.blocks.block:snap01 - INFO - adc - Chip 6, Lane 2:    XXXXXXXXXXXXXXXXXXXXXXXXXXXXXXXXXX---|---XXXXXXXXXXXXXXXXXXXXXXX\n",
      "2022-09-02 21:07:02,503 - lwa_f.blocks.block:snap01 - INFO - adc - Chip 6, Lane 3:    XXXXXXXXXXXXXXXXXXXXXXXXXXXXXXXXXXX---|---XXXXXXXXXXXXXXXXXXXXXX\n",
      "2022-09-02 21:07:02,503 - lwa_f.blocks.block:snap01 - INFO - adc - Chip 6, Lane 4:    XXXXXXXXXXXXXXXXXXXXXXXXXXXXXXXXXX---|---XXXXXXXXXXXXXXXXXXXXXXX\n",
      "2022-09-02 21:07:02,504 - lwa_f.blocks.block:snap01 - INFO - adc - Chip 6, Lane 5:    XXXXXXXXXXXXXXXXXXXXXXXXXXXXXXXXX---|---XXXXXXXXXXXXXXXXXXXXXXXX\n",
      "2022-09-02 21:07:02,505 - lwa_f.blocks.block:snap01 - INFO - adc - Chip 6, Lane 6:    XXXXXXXXXXXXXXXXXXXXXXXXXXXXXXXXX---|---XXXXXXXXXXXXXXXXXXXXXXXX\n",
      "2022-09-02 21:07:02,506 - lwa_f.blocks.block:snap01 - INFO - adc - Chip 6, Lane 7:    XXXXXXXXXXXXXXXXXXXXXXXXXXXXXXXXXX---|---XXXXXXXXXXXXXXXXXXXXXXX\n",
      "2022-09-02 21:07:02,506 - lwa_f.blocks.block:snap01 - INFO - adc - Chip 7, Lane 0:    XXXXXXXXXXXXXXXXXXXXXXXXXXXXXXXXXXXXX----|----XXXXXXXXXXXXXXXXXX\n",
      "2022-09-02 21:07:02,507 - lwa_f.blocks.block:snap01 - INFO - adc - Chip 7, Lane 1:    XXXXXXXXXXXXXXXXXXXXXXXXXXXXXXXXXXXXXX---|----XXXXXXXXXXXXXXXXXX\n",
      "2022-09-02 21:07:02,508 - lwa_f.blocks.block:snap01 - INFO - adc - Chip 7, Lane 2:    XXXXXXXXXXXXXXXXXXXXXXXXXXXXXXXXXXXXXX---|----XXXXXXXXXXXXXXXXXX\n",
      "2022-09-02 21:07:02,508 - lwa_f.blocks.block:snap01 - INFO - adc - Chip 7, Lane 3:    XXXXXXXXXXXXXXXXXXXXXXXXXXXXXXXXXXXXX----|----XXXXXXXXXXXXXXXXXX\n",
      "2022-09-02 21:07:02,509 - lwa_f.blocks.block:snap01 - INFO - adc - Chip 7, Lane 4:    XXXXXXXXXXXXXXXXXXXXXXXXXXXXXXXXXXXXXX---|----XXXXXXXXXXXXXXXXXX\n",
      "2022-09-02 21:07:02,510 - lwa_f.blocks.block:snap01 - INFO - adc - Chip 7, Lane 5:    XXXXXXXXXXXXXXXXXXXXXXXXXXXXXXXXXXXXX----|----XXXXXXXXXXXXXXXXXX\n",
      "2022-09-02 21:07:02,511 - lwa_f.blocks.block:snap01 - INFO - adc - Chip 7, Lane 6:    XXXXXXXXXXXXXXXXXXXXXXXXXXXXXXXXXXXXXX---|----XXXXXXXXXXXXXXXXXX\n",
      "2022-09-02 21:07:02,511 - lwa_f.blocks.block:snap01 - INFO - adc - Chip 7, Lane 7:    XXXXXXXXXXXXXXXXXXXXXXXXXXXXXXXXXXXXX---|----XXXXXXXXXXXXXXXXXXX\n",
      "2022-09-02 21:07:04,563 - lwa_f.blocks.block:snap01 - ERROR - adc - FMC 1: Data calibration Failure!\n",
      "2022-09-02 21:07:07,282 - lwa_f.snap2_fengine:snap01 - INFO - Initializing block (writable): sync\n",
      "2022-09-02 21:07:07,297 - lwa_f.snap2_fengine:snap01 - INFO - Initializing block (writable): noise\n",
      "2022-09-02 21:07:07,304 - lwa_f.snap2_fengine:snap01 - INFO - Initializing block (writable): input\n",
      "2022-09-02 21:07:07,498 - lwa_f.snap2_fengine:snap01 - INFO - Initializing block (writable): delay\n",
      "2022-09-02 21:07:08,026 - lwa_f.snap2_fengine:snap01 - INFO - Initializing block (writable): pfb\n",
      "2022-09-02 21:07:08,041 - lwa_f.snap2_fengine:snap01 - INFO - Initializing block (writable): eq\n",
      "2022-09-02 21:07:08,367 - lwa_f.snap2_fengine:snap01 - INFO - Initializing block (writable): eqtvg\n",
      "2022-09-02 21:07:09,347 - lwa_f.snap2_fengine:snap01 - INFO - Initializing block (writable): reorder\n",
      "2022-09-02 21:07:09,363 - lwa_f.snap2_fengine:snap01 - INFO - Initializing block (writable): packetizer\n",
      "2022-09-02 21:07:09,363 - lwa_f.snap2_fengine:snap01 - INFO - Initializing block (writable): eth\n",
      "2022-09-02 21:07:09,373 - lwa_f.snap2_fengine:snap01 - INFO - Initializing block (writable): autocorr\n",
      "2022-09-02 21:07:09,376 - lwa_f.snap2_fengine:snap01 - INFO - Initializing block (writable): corr\n",
      "2022-09-02 21:07:09,379 - lwa_f.snap2_fengine:snap01 - INFO - Initializing block (writable): powermon\n",
      "2022-09-02 21:07:09,573 - lwa_f.snap2_fengine:snap01 - INFO - Performing software global reset\n"
     ]
    }
   ],
   "source": [
    "casperbrd.listdev()\n",
    "brd.initialize(read_only=False)\n",
    "brd.sync.arm_sync()\n",
    "brd.sync.sw_sync()"
   ]
  },
  {
   "cell_type": "code",
   "execution_count": 6,
   "metadata": {},
   "outputs": [
    {
     "name": "stdout",
     "output_type": "stream",
     "text": [
      "Data source set to counter\n"
     ]
    }
   ],
   "source": [
    "setup_data_source(casperbrd,\"counter\")"
   ]
  },
  {
   "cell_type": "markdown",
   "metadata": {},
   "source": [
    "The data source is set to a counter. \n",
    "## First test\n",
    "The threshold is set to 511, all antennas have both roles, the antenna number thresholds and the window thresholds are zero.  As expected, all antennas reach the threshold once per 1024 clock cycles, and so there is a trigger and a veto once every 1024 clock cycles, or 262144 times in every time interval between updating the counter register."
   ]
  },
  {
   "cell_type": "code",
   "execution_count": 39,
   "metadata": {},
   "outputs": [
    {
     "name": "stdout",
     "output_type": "stream",
     "text": [
      "Core coincidence:  262144\n",
      "Veto coincidence:  262144\n",
      "262144.0 262144.0\n",
      "262144.0 262144.0\n",
      "262144.0 262144.0\n",
      "268435456\n",
      "262144.0\n"
     ]
    }
   ],
   "source": [
    "#define parameters\n",
    "trigger_power_thresh=511**2\n",
    "veto_power_thresh=511**2\n",
    "trigger_window=100\n",
    "veto_window=200\n",
    "antenna_number_thresh=0\n",
    "veto_number_thresh=0\n",
    "\n",
    "#see notebook subarray_threshold_scans for a function to extract the delays from a text file of delays and antenna names\n",
    "delays=10*np.ones(64,dtype=int)\n",
    "core_roles_array=np.ones(64,dtype=int)\n",
    "veto_roles_array=np.ones(64,dtype=int)\n",
    "\n",
    "setup_coincidencer(casperbrd,trigger_power_thresh,\n",
    "                      veto_power_thresh,\n",
    "                      trigger_window,\n",
    "                      veto_window,\n",
    "                      antenna_number_thresh,\n",
    "                      veto_number_thresh,\n",
    "                      core_roles_array,\n",
    "                      veto_roles_array)\n",
    "set_delays(casperbrd,delays)\n",
    "\n",
    "time.sleep(2.75)  #have to wait for it to update\n",
    "veto_coincidence,core_coincidence=struct.unpack('>2l',casperbrd.read(\"cosmic_ray_core_and_veto_rate\",2*4,0))\n",
    "core,veto = read_threshold_rates(casperbrd) #read each block\n",
    "\n",
    "print(\"Core coincidence: \", core_coincidence)\n",
    "print(\"Veto coincidence: \", veto_coincidence)\n",
    "print(core[0],veto[1])\n",
    "print(min(core),max(core))\n",
    "print(min(veto),max(veto))\n",
    "clockcycles_counted_for=(2**28)  #number of clock cycles that the trigger and veto rate counters counts for before updating\n",
    "number_of_10bit_counter_cycles=clockcycles_counted_for/1024 #number of times the 10 bit counter starts over during the above count\n",
    "print(clockcycles_counted_for)\n",
    "print(number_of_10bit_counter_cycles)"
   ]
  },
  {
   "cell_type": "code",
   "execution_count": 40,
   "metadata": {},
   "outputs": [
    {
     "name": "stdout",
     "output_type": "stream",
     "text": [
      "(0, 0)\n",
      "Core coincidence per 10b cycle:  1.0\n",
      "Veto coincidence per 10b cycle:  1.0\n",
      "Triggers per 10b cycle (roughly) 0.0\n",
      "Triggers leaving coincidence_trigger block per cycle (0, 0)\n",
      "Triggers leaving block 0\n"
     ]
    }
   ],
   "source": [
    "#repeat above, in order to test out the test function\n",
    "trigger_power_thresh=511**2\n",
    "veto_power_thresh=511**2\n",
    "trigger_window=100\n",
    "veto_window=200\n",
    "antenna_number_thresh=0\n",
    "veto_number_thresh=0\n",
    "\n",
    "set_delays(casperbrd,delays)\n",
    "test_coincidencer(casperbrd,trigger_power_thresh,veto_power_thresh,trigger_window,veto_window,antenna_number_thresh,veto_number_thresh,delays,core_roles_array,veto_roles_array)"
   ]
  },
  {
   "cell_type": "markdown",
   "metadata": {},
   "source": [
    "# Main Tests\n",
    "\n",
    "Trigger and veto power thresholds remain 511, and the core and veto number thresholds remain 2 (at least three antennas required).  The core antennas are signals 0, 1, and 2, and the veto antennas are signals 3, 4, 5.  The next sections go through five scenarios with variants.\n",
    "\n",
    "\n",
    "\n",
    "\n"
   ]
  },
  {
   "cell_type": "code",
   "execution_count": 41,
   "metadata": {},
   "outputs": [],
   "source": [
    "trigger_power_thresh=511**2\n",
    "veto_power_thresh=511**2\n",
    "core_roles_array=np.zeros(64,dtype=int)\n",
    "core_roles_array[0:3]=1\n",
    "veto_roles_array=np.zeros(64,dtype=int)\n",
    "veto_roles_array[3:6]=1\n",
    "antenna_number_thresh=2\n",
    "veto_number_thresh=2"
   ]
  },
  {
   "cell_type": "markdown",
   "metadata": {},
   "source": [
    "## 1. Veto after Core"
   ]
  },
  {
   "cell_type": "markdown",
   "metadata": {},
   "source": [
    "### a) Veto long after"
   ]
  },
  {
   "cell_type": "code",
   "execution_count": 42,
   "metadata": {
    "scrolled": false
   },
   "outputs": [
    {
     "name": "stdout",
     "output_type": "stream",
     "text": [
      "1) Expect Trigger is vetoed\n",
      "trigger window:  11 veto window:  511\n",
      "(0, 0)\n",
      "Core coincidence per 10b cycle:  1.0\n",
      "Veto coincidence per 10b cycle:  0.5\n",
      "Triggers per 10b cycle (roughly) 0.0\n",
      "Triggers leaving coincidence_trigger block per cycle (0, 0)\n",
      "Triggers leaving block 0\n",
      "\n",
      "trigger window:  50 veto window:  450\n",
      "(0, 0)\n",
      "Core coincidence per 10b cycle:  1.0\n",
      "Veto coincidence per 10b cycle:  1.0\n",
      "Triggers per 10b cycle (roughly) 0.0\n",
      "Triggers leaving coincidence_trigger block per cycle (0, 0)\n",
      "Triggers leaving block 0\n",
      "\n",
      "trigger window:  100 veto window:  400\n",
      "(0, 0)\n",
      "Core coincidence per 10b cycle:  1.0\n",
      "Veto coincidence per 10b cycle:  1.0\n",
      "Triggers per 10b cycle (roughly) 0.0\n",
      "Triggers leaving coincidence_trigger block per cycle (0, 0)\n",
      "Triggers leaving block 0\n",
      "\n",
      "trigger window:  200 veto window:  300\n",
      "(0, 0)\n",
      "Core coincidence per 10b cycle:  1.0\n",
      "Veto coincidence per 10b cycle:  1.0\n",
      "Triggers per 10b cycle (roughly) 0.0\n",
      "Triggers leaving coincidence_trigger block per cycle (0, 0)\n",
      "Triggers leaving block 0\n",
      "\n",
      "trigger window:  300 veto window:  200\n",
      "(0, 0)\n",
      "Core coincidence per 10b cycle:  1.0\n",
      "Veto coincidence per 10b cycle:  1.0\n",
      "Triggers per 10b cycle (roughly) 0.0\n",
      "Triggers leaving coincidence_trigger block per cycle (0, 0)\n",
      "Triggers leaving block 0\n",
      "\n",
      "trigger window:  400 veto window:  100\n",
      "(0, 0)\n",
      "Core coincidence per 10b cycle:  1.0\n",
      "Veto coincidence per 10b cycle:  1.0\n",
      "Triggers per 10b cycle (roughly) 0.0\n",
      "Triggers leaving coincidence_trigger block per cycle (0, 0)\n",
      "Triggers leaving block 0\n",
      "\n",
      "trigger window:  500 veto window:  62\n",
      "(0, 0)\n",
      "Core coincidence per 10b cycle:  1.0\n",
      "Veto coincidence per 10b cycle:  1.0\n",
      "Triggers per 10b cycle (roughly) 0.0\n",
      "Triggers leaving coincidence_trigger block per cycle (0, 0)\n",
      "Triggers leaving block 0\n",
      "\n",
      "\n",
      "2) Expect Veto misses trigger\n",
      "trigger window:  11 veto window:  62\n",
      "(0, 0)\n",
      "Core coincidence per 10b cycle:  1.0\n",
      "Veto coincidence per 10b cycle:  1.0\n",
      "Triggers per 10b cycle (roughly) 0.0\n",
      "Triggers leaving coincidence_trigger block per cycle (0, 0)\n",
      "Triggers leaving block 0\n",
      "\n",
      "trigger window:  20 veto window:  100\n",
      "(0, 0)\n",
      "Core coincidence per 10b cycle:  1.0\n",
      "Veto coincidence per 10b cycle:  1.0\n",
      "Triggers per 10b cycle (roughly) 0.0\n",
      "Triggers leaving coincidence_trigger block per cycle (0, 0)\n",
      "Triggers leaving block 0\n",
      "\n",
      "trigger window:  100 veto window:  300\n",
      "(0, 0)\n",
      "Core coincidence per 10b cycle:  1.0\n",
      "Veto coincidence per 10b cycle:  1.0\n",
      "Triggers per 10b cycle (roughly) 0.0\n",
      "Triggers leaving coincidence_trigger block per cycle (0, 0)\n",
      "Triggers leaving block 0\n",
      "\n",
      "trigger window:  11 veto window:  350\n",
      "(0, 0)\n",
      "Core coincidence per 10b cycle:  1.0\n",
      "Veto coincidence per 10b cycle:  1.0\n",
      "Triggers per 10b cycle (roughly) 0.0\n",
      "Triggers leaving coincidence_trigger block per cycle (0, 0)\n",
      "Triggers leaving block 0\n",
      "\n",
      "\n",
      "3) Expect No trigger or veto\n",
      "trigger window:  10 veto window:  61\n",
      "(0, 0)\n",
      "Core coincidence per 10b cycle:  1.0\n",
      "Veto coincidence per 10b cycle:  1.0\n",
      "Triggers per 10b cycle (roughly) 0.0\n",
      "Triggers leaving coincidence_trigger block per cycle (0, 0)\n",
      "Triggers leaving block 0\n",
      "\n",
      "trigger window:  9 veto window:  60\n",
      "(0, 0)\n",
      "Core coincidence per 10b cycle:  1.0\n",
      "Veto coincidence per 10b cycle:  1.0\n",
      "Triggers per 10b cycle (roughly) 0.0\n",
      "Triggers leaving coincidence_trigger block per cycle (0, 0)\n",
      "Triggers leaving block 0\n",
      "\n",
      "trigger window:  2 veto window:  49\n",
      "(0, 0)\n",
      "Core coincidence per 10b cycle:  1.0\n",
      "Veto coincidence per 10b cycle:  1.0\n",
      "Triggers per 10b cycle (roughly) 0.0\n",
      "Triggers leaving coincidence_trigger block per cycle (0, 0)\n",
      "Triggers leaving block 0\n",
      "\n",
      "\n"
     ]
    }
   ],
   "source": [
    "delays=np.ones(64,dtype=int)\n",
    "delays[0:6]=[1,5,10,450,500,511] #core antennas are first three, veto antennas are second three\n",
    "set_delays(casperbrd,delays)\n",
    "\n",
    "\n",
    "print(\"1) Expect Trigger is vetoed\")\n",
    "trigger_windows=[11,50,100,200,300,400,500]\n",
    "veto_windows=[511,450,400,300,200,100,62]\n",
    "for i in range(len(trigger_windows)):\n",
    "    trigger_window=trigger_windows[i]\n",
    "    veto_window=veto_window=veto_windows[i]\n",
    "    print(\"trigger window: \", trigger_window, \"veto window: \", veto_window)\n",
    "    test_coincidencer(casperbrd,trigger_power_thresh,veto_power_thresh,trigger_window,veto_window,antenna_number_thresh,veto_number_thresh,delays,core_roles_array,veto_roles_array)\n",
    "    print('')\n",
    "print('')\n",
    "\n",
    "\n",
    "print(\"2) Expect Veto misses trigger\")\n",
    "trigger_windows=[11,20,100,11]\n",
    "veto_windows=[62,100,300,350]\n",
    "for i in range(len(trigger_windows)):\n",
    "    trigger_window=trigger_windows[i]\n",
    "    veto_window=veto_window=veto_windows[i]\n",
    "    print(\"trigger window: \", trigger_window, \"veto window: \", veto_window)\n",
    "    test_coincidencer(casperbrd,trigger_power_thresh,veto_power_thresh,trigger_window,veto_window,antenna_number_thresh,veto_number_thresh,delays,core_roles_array,veto_roles_array)\n",
    "    print('')\n",
    "print('')\n",
    "\n",
    "print(\"3) Expect No trigger or veto\")\n",
    "trigger_windows=[10,9,2]\n",
    "veto_windows=[61,60,49]\n",
    "for i in range(len(trigger_windows)):\n",
    "    trigger_window=trigger_windows[i]\n",
    "    veto_window=veto_window=veto_windows[i]\n",
    "    print(\"trigger window: \", trigger_window, \"veto window: \", veto_window)\n",
    "    test_coincidencer(casperbrd,trigger_power_thresh,veto_power_thresh,trigger_window,veto_window,antenna_number_thresh,veto_number_thresh,delays,core_roles_array,veto_roles_array)\n",
    "    print('')\n",
    "print('')\n"
   ]
  },
  {
   "cell_type": "markdown",
   "metadata": {},
   "source": [
    "### Summary\n",
    "There is never a trigger that makes it to the trigger counter, even when no veto is detected.  A trigger and a veto always ocurr, even when the window should be too short.  The first test puzzlingly has a veto half the time, maybe because the veto window nearly reaches the next cycle?\n",
    "\n",
    "### Troubleshooting\n"
   ]
  },
  {
   "cell_type": "code",
   "execution_count": 29,
   "metadata": {},
   "outputs": [
    {
     "name": "stdout",
     "output_type": "stream",
     "text": [
      "(0, 0)\n"
     ]
    }
   ],
   "source": []
  },
  {
   "cell_type": "code",
   "execution_count": 45,
   "metadata": {},
   "outputs": [
    {
     "name": "stdout",
     "output_type": "stream",
     "text": [
      "trigger window:  505 veto window:  505\n",
      "(0, 0)\n",
      "Core coincidence per 10b cycle:  1.0\n",
      "Veto coincidence per 10b cycle:  1.0\n",
      "Triggers per 10b cycle (roughly) 0.0\n",
      "Triggers leaving coincidence_trigger block per cycle (0, 0)\n",
      "Triggers leaving block 0\n",
      "\n",
      "trigger window:  506 veto window:  506\n",
      "(0, 0)\n",
      "Core coincidence per 10b cycle:  1.0\n",
      "Veto coincidence per 10b cycle:  1.0\n",
      "Triggers per 10b cycle (roughly) 0.0\n",
      "Triggers leaving coincidence_trigger block per cycle (0, 0)\n",
      "Triggers leaving block 0\n",
      "\n",
      "trigger window:  507 veto window:  507\n",
      "(0, 0)\n",
      "Core coincidence per 10b cycle:  1.0\n",
      "Veto coincidence per 10b cycle:  1.0\n",
      "Triggers per 10b cycle (roughly) 0.0\n",
      "Triggers leaving coincidence_trigger block per cycle (0, 0)\n",
      "Triggers leaving block 0\n",
      "\n",
      "trigger window:  508 veto window:  508\n",
      "(0, 0)\n",
      "Core coincidence per 10b cycle:  1.0\n",
      "Veto coincidence per 10b cycle:  1.0\n",
      "Triggers per 10b cycle (roughly) 0.0\n",
      "Triggers leaving coincidence_trigger block per cycle (0, 0)\n",
      "Triggers leaving block 0\n",
      "\n",
      "trigger window:  509 veto window:  509\n",
      "(0, 0)\n",
      "Core coincidence per 10b cycle:  1.0\n",
      "Veto coincidence per 10b cycle:  1.0\n",
      "Triggers per 10b cycle (roughly) 0.0\n",
      "Triggers leaving coincidence_trigger block per cycle (0, 0)\n",
      "Triggers leaving block 0\n",
      "\n",
      "trigger window:  510 veto window:  510\n",
      "(0, 0)\n",
      "Core coincidence per 10b cycle:  1.0\n",
      "Veto coincidence per 10b cycle:  1.0\n",
      "Triggers per 10b cycle (roughly) 0.0\n",
      "Triggers leaving coincidence_trigger block per cycle (0, 0)\n",
      "Triggers leaving block 0\n",
      "\n",
      "trigger window:  511 veto window:  511\n",
      "(0, 0)\n",
      "Core coincidence per 10b cycle:  1.0\n",
      "Veto coincidence per 10b cycle:  0.5\n",
      "Triggers per 10b cycle (roughly) 0.0\n",
      "Triggers leaving coincidence_trigger block per cycle (0, 0)\n",
      "Triggers leaving block 0\n",
      "\n",
      "\n"
     ]
    }
   ],
   "source": [
    "trigger_windows=[505,506,507,508,509,510,511]\n",
    "veto_windows=[505,506,507,508,509,510,511]\n",
    "for i in range(len(trigger_windows)):\n",
    "    trigger_window=trigger_windows[i]\n",
    "    veto_window=veto_window=veto_windows[i]\n",
    "    print(\"trigger window: \", trigger_window, \"veto window: \", veto_window)\n",
    "    test_coincidencer(casperbrd,trigger_power_thresh,veto_power_thresh,trigger_window,veto_window,antenna_number_thresh,veto_number_thresh,delays,core_roles_array,veto_roles_array)\n",
    "    print('')\n",
    "print('')"
   ]
  },
  {
   "cell_type": "code",
   "execution_count": 12,
   "metadata": {},
   "outputs": [
    {
     "name": "stdout",
     "output_type": "stream",
     "text": [
      "trigger window:  340 veto window:  340\n",
      "Core coincidence per 10b cycle:  1.0\n",
      "Veto coincidence per 10b cycle:  1.0\n",
      "Triggers per 10b cycle (roughly) 0.0\n",
      "\n",
      "trigger window:  341 veto window:  341\n",
      "Core coincidence per 10b cycle:  1.0\n",
      "Veto coincidence per 10b cycle:  1.0\n",
      "Triggers per 10b cycle (roughly) 0.0\n",
      "\n",
      "trigger window:  342 veto window:  342\n",
      "Core coincidence per 10b cycle:  1.0\n",
      "Veto coincidence per 10b cycle:  1.0\n",
      "Triggers per 10b cycle (roughly) 0.0\n",
      "\n",
      "trigger window:  343 veto window:  343\n",
      "Core coincidence per 10b cycle:  1.0\n",
      "Veto coincidence per 10b cycle:  1.0\n",
      "Triggers per 10b cycle (roughly) 0.0\n",
      "\n",
      "trigger window:  345 veto window:  345\n",
      "Core coincidence per 10b cycle:  1.0\n",
      "Veto coincidence per 10b cycle:  1.0\n",
      "Triggers per 10b cycle (roughly) 0.0\n",
      "\n",
      "trigger window:  347 veto window:  347\n",
      "Core coincidence per 10b cycle:  1.0\n",
      "Veto coincidence per 10b cycle:  1.0\n",
      "Triggers per 10b cycle (roughly) 0.0\n",
      "\n",
      "trigger window:  350 veto window:  350\n",
      "Core coincidence per 10b cycle:  1.0\n",
      "Veto coincidence per 10b cycle:  1.0\n",
      "Triggers per 10b cycle (roughly) 0.0\n",
      "\n",
      "\n"
     ]
    }
   ],
   "source": [
    "trigger_windows=[340,341,342,343,345,347,350]\n",
    "veto_windows=[340,341,342,343,345,347,350]\n",
    "for i in range(len(trigger_windows)):\n",
    "    trigger_window=trigger_windows[i]\n",
    "    veto_window=veto_window=veto_windows[i]\n",
    "    print(\"trigger window: \", trigger_window, \"veto window: \", veto_window)\n",
    "    test_coincidencer(casperbrd,trigger_power_thresh,veto_power_thresh,trigger_window,veto_window,antenna_number_thresh,veto_number_thresh,delays,core_roles_array,veto_roles_array)\n",
    "    print('')\n",
    "print('')"
   ]
  },
  {
   "cell_type": "markdown",
   "metadata": {},
   "source": [
    "### b) Veto Soon after"
   ]
  },
  {
   "cell_type": "markdown",
   "metadata": {},
   "source": [
    "### c) Veto widely arranged"
   ]
  },
  {
   "cell_type": "markdown",
   "metadata": {},
   "source": [
    "## 2. Veto before core"
   ]
  },
  {
   "cell_type": "markdown",
   "metadata": {},
   "source": [
    "### a) Veto long before\n"
   ]
  },
  {
   "cell_type": "markdown",
   "metadata": {},
   "source": [
    "### b) Veto soon before"
   ]
  },
  {
   "cell_type": "markdown",
   "metadata": {},
   "source": [
    "### c) Veto widely arranged"
   ]
  },
  {
   "cell_type": "markdown",
   "metadata": {},
   "source": [
    "## 3. Veto antennas on either side of core"
   ]
  },
  {
   "cell_type": "markdown",
   "metadata": {},
   "source": [
    "## 4. Veto antennas on either side and among core"
   ]
  },
  {
   "cell_type": "markdown",
   "metadata": {},
   "source": [
    "## 5. Veto antennas among core"
   ]
  },
  {
   "cell_type": "markdown",
   "metadata": {},
   "source": [
    "## Match the Simulink tests\n",
    "Repeating all the tests in the August 23 Evernote note, but with the real system instead of Simulink.\n",
    "\n",
    "A couple modifications to make an analogous test work with the 10 bit counter as signal:\n",
    "\n",
    "--Voltage thresholds are always 511.\n",
    "--Delays are 100,110,115,117,120 instead of 1000,1010,1015,1017,1020\n",
    "\n"
   ]
  },
  {
   "cell_type": "code",
   "execution_count": 13,
   "metadata": {},
   "outputs": [],
   "source": [
    "delays=np.ones(64,dtype=int)\n",
    "delays[0:5]=[100,110,115,117,120] #core antennas are first three, veto antennas are second three\n",
    "trigger_power_thresh=511**2\n",
    "veto_power_thresh=511**2"
   ]
  },
  {
   "cell_type": "markdown",
   "metadata": {},
   "source": [
    "### Test A"
   ]
  },
  {
   "cell_type": "code",
   "execution_count": 14,
   "metadata": {},
   "outputs": [
    {
     "name": "stdout",
     "output_type": "stream",
     "text": [
      "Core coincidence per 10b cycle:  1.0\n",
      "Veto coincidence per 10b cycle:  1.0\n",
      "Triggers per 10b cycle (roughly) 0.0\n"
     ]
    }
   ],
   "source": [
    "\n",
    "core_roles_array=np.zeros(64,dtype=int)\n",
    "core_roles_array[0:2]=1\n",
    "veto_roles_array=np.zeros(64,dtype=int)\n",
    "veto_roles_array[2:5]=1\n",
    "antenna_number_thresh=0\n",
    "veto_number_thresh=0\n",
    "trigger_window=20\n",
    "veto_window=7\n",
    "test_coincidencer(casperbrd,trigger_power_thresh,veto_power_thresh,trigger_window,veto_window,antenna_number_thresh,veto_number_thresh,delays,core_roles_array,veto_roles_array)\n"
   ]
  },
  {
   "cell_type": "markdown",
   "metadata": {},
   "source": [
    "Result:  There was a core and veto coincidence, matching the simulation, however there is no final trigger."
   ]
  },
  {
   "cell_type": "markdown",
   "metadata": {},
   "source": [
    "### Test B"
   ]
  },
  {
   "cell_type": "code",
   "execution_count": 15,
   "metadata": {},
   "outputs": [
    {
     "name": "stdout",
     "output_type": "stream",
     "text": [
      "Core coincidence per 10b cycle:  1.0\n",
      "Veto coincidence per 10b cycle:  1.0\n",
      "Triggers per 10b cycle (roughly) 0.0\n"
     ]
    }
   ],
   "source": [
    "core_roles_array=np.zeros(64,dtype=int)\n",
    "core_roles_array[0:2]=1\n",
    "veto_roles_array=np.zeros(64,dtype=int)\n",
    "veto_roles_array[2:5]=1\n",
    "antenna_number_thresh=0\n",
    "veto_number_thresh=0\n",
    "trigger_window=7\n",
    "veto_window=20\n",
    "test_coincidencer(casperbrd,trigger_power_thresh,veto_power_thresh,trigger_window,veto_window,antenna_number_thresh,veto_number_thresh,delays,core_roles_array,veto_roles_array)\n"
   ]
  },
  {
   "cell_type": "markdown",
   "metadata": {},
   "source": [
    "Result:  Core and Veto both had a coincidence, with no final trigger, as expected and matching simulation."
   ]
  },
  {
   "cell_type": "markdown",
   "metadata": {},
   "source": [
    "### Test C"
   ]
  },
  {
   "cell_type": "code",
   "execution_count": 16,
   "metadata": {},
   "outputs": [
    {
     "name": "stdout",
     "output_type": "stream",
     "text": [
      "Core coincidence per 10b cycle:  1.0\n",
      "Veto coincidence per 10b cycle:  1.0\n",
      "Triggers per 10b cycle (roughly) 0.0\n"
     ]
    }
   ],
   "source": [
    "core_roles_array=np.zeros(64,dtype=int)\n",
    "core_roles_array[0:2]=1\n",
    "veto_roles_array=np.zeros(64,dtype=int)\n",
    "veto_roles_array[2:5]=1\n",
    "antenna_number_thresh=1\n",
    "veto_number_thresh=1\n",
    "trigger_window=11\n",
    "veto_window=20\n",
    "test_coincidencer(casperbrd,trigger_power_thresh,veto_power_thresh,trigger_window,veto_window,antenna_number_thresh,veto_number_thresh,delays,core_roles_array,veto_roles_array)\n"
   ]
  },
  {
   "cell_type": "markdown",
   "metadata": {},
   "source": [
    "Result:  Core and Veto both had a coincidence, with no final trigger, as expected and matching simulation."
   ]
  },
  {
   "cell_type": "markdown",
   "metadata": {},
   "source": [
    "### Test D"
   ]
  },
  {
   "cell_type": "code",
   "execution_count": 17,
   "metadata": {},
   "outputs": [
    {
     "name": "stdout",
     "output_type": "stream",
     "text": [
      "Core coincidence per 10b cycle:  1.0\n",
      "Veto coincidence per 10b cycle:  1.0\n",
      "Triggers per 10b cycle (roughly) 0.0\n"
     ]
    }
   ],
   "source": [
    "core_roles_array=np.zeros(64,dtype=int)\n",
    "core_roles_array[0:2]=1\n",
    "veto_roles_array=np.zeros(64,dtype=int)\n",
    "veto_roles_array[2:5]=1\n",
    "antenna_number_thresh=1\n",
    "veto_number_thresh=1\n",
    "trigger_window=11\n",
    "veto_window=12\n",
    "test_coincidencer(casperbrd,trigger_power_thresh,veto_power_thresh,trigger_window,veto_window,antenna_number_thresh,veto_number_thresh,delays,core_roles_array,veto_roles_array)\n"
   ]
  },
  {
   "cell_type": "markdown",
   "metadata": {},
   "source": [
    "Result:  Core and Veto both had a coincidence, with no final trigger, as expected and matching simulation."
   ]
  },
  {
   "cell_type": "markdown",
   "metadata": {},
   "source": [
    "### Test E"
   ]
  },
  {
   "cell_type": "code",
   "execution_count": 18,
   "metadata": {},
   "outputs": [
    {
     "name": "stdout",
     "output_type": "stream",
     "text": [
      "Core coincidence per 10b cycle:  1.0\n",
      "Veto coincidence per 10b cycle:  1.0\n",
      "Triggers per 10b cycle (roughly) 0.0\n"
     ]
    }
   ],
   "source": [
    "core_roles_array=np.zeros(64,dtype=int)\n",
    "core_roles_array[2:5]=1\n",
    "veto_roles_array=np.zeros(64,dtype=int)\n",
    "veto_roles_array[0:2]=1\n",
    "antenna_number_thresh=1\n",
    "veto_number_thresh=1\n",
    "trigger_window=11\n",
    "veto_window=12\n",
    "test_coincidencer(casperbrd,trigger_power_thresh,veto_power_thresh,trigger_window,veto_window,antenna_number_thresh,veto_number_thresh,delays,core_roles_array,veto_roles_array)\n"
   ]
  },
  {
   "cell_type": "markdown",
   "metadata": {},
   "source": [
    "Result:  Core and Veto both had a coincidence, with no final trigger, but the simulation did have a final trigger."
   ]
  },
  {
   "cell_type": "markdown",
   "metadata": {},
   "source": [
    "### Is there a trigger when I turn off the veto?"
   ]
  },
  {
   "cell_type": "code",
   "execution_count": 47,
   "metadata": {},
   "outputs": [
    {
     "name": "stdout",
     "output_type": "stream",
     "text": [
      "(0, 0)\n",
      "Core coincidence per 10b cycle:  1.0\n",
      "Veto coincidence per 10b cycle:  0.0\n",
      "Triggers per 10b cycle (roughly) 0.0\n",
      "Triggers leaving coincidence_trigger block per cycle (0, 0)\n",
      "Triggers leaving block 0\n"
     ]
    }
   ],
   "source": [
    "core_roles_array=np.zeros(64,dtype=int)\n",
    "core_roles_array[0:3]=1\n",
    "veto_roles_array=np.zeros(64,dtype=int)\n",
    "trigger_window=11\n",
    "veto_window=100\n",
    "test_coincidencer(casperbrd,trigger_power_thresh,veto_power_thresh,trigger_window,veto_window,antenna_number_thresh,veto_number_thresh,delays,core_roles_array,veto_roles_array)\n"
   ]
  },
  {
   "cell_type": "markdown",
   "metadata": {},
   "source": [
    "## More NOtes\n",
    "Antenna number thresholds are greater than. If 3 is set to the register, then four antennas are the minimum for a trigger."
   ]
  },
  {
   "cell_type": "code",
   "execution_count": 20,
   "metadata": {},
   "outputs": [
    {
     "data": {
      "text/plain": [
       "721246"
      ]
     },
     "execution_count": 20,
     "metadata": {},
     "output_type": "execute_result"
    }
   ],
   "source": [
    "(11<<16)+350"
   ]
  },
  {
   "cell_type": "code",
   "execution_count": null,
   "metadata": {},
   "outputs": [],
   "source": []
  }
 ],
 "metadata": {
  "kernelspec": {
   "display_name": "Python 3",
   "language": "python",
   "name": "python3"
  },
  "language_info": {
   "codemirror_mode": {
    "name": "ipython",
    "version": 3
   },
   "file_extension": ".py",
   "mimetype": "text/x-python",
   "name": "python",
   "nbconvert_exporter": "python",
   "pygments_lexer": "ipython3",
   "version": "3.6.10"
  }
 },
 "nbformat": 4,
 "nbformat_minor": 4
}
