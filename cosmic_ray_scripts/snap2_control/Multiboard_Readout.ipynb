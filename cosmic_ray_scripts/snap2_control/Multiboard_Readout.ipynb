{
 "cells": [
  {
   "cell_type": "code",
   "execution_count": 1,
   "id": "e2cd5783",
   "metadata": {},
   "outputs": [
    {
     "name": "stdout",
     "output_type": "stream",
     "text": [
      "dsautils.cnf not found. skipping...\n",
      "Read antpos from etcd\n"
     ]
    }
   ],
   "source": [
    "import matplotlib.pyplot as plt\n",
    "import numpy as np\n",
    "import casperfpga\n",
    "import time\n",
    "from lwa_f import snap2_fengine\n",
    "from lwa_f import blocks\n",
    "import pandas as pd\n",
    "from cr_functions import *\n",
    "import struct\n",
    "import math\n",
    "from scipy import special as sp\n",
    "from scipy import optimize as oz\n",
    "from scipy import stats as st\n",
    "from lwa_antpos import mapping"
   ]
  },
  {
   "cell_type": "code",
   "execution_count": 2,
   "id": "1b148465",
   "metadata": {},
   "outputs": [
    {
     "name": "stdout",
     "output_type": "stream",
     "text": [
      "Data source set to adc\n",
      "------------------------\n",
      "snap01:cosmic_ray_cr_forty_gbe configuration:\n",
      "MAC:  02:02:02:01:01:01\n",
      "Gateway:  0.0.0.1\n",
      "IP:  10.41.0.201\n",
      "Fabric port: \n",
      "11111\n",
      "Fabric interface is currently: Enabled\n",
      "\tbase_ip: 255.255.255.255\n",
      "\tip_mask: 255.255.255.255\n",
      "\trx_ips: []\n",
      "ARP Table: \n",
      "IP: 10.41.0. 58: MAC: 04:3F:72:DF:C2:F8\n",
      "Setting wait between packets to 6000\n",
      "Data source set to adc\n",
      "------------------------\n",
      "snap02:cosmic_ray_cr_forty_gbe configuration:\n",
      "MAC:  02:02:02:02:02:02\n",
      "Gateway:  0.0.0.1\n",
      "IP:  10.41.0.202\n",
      "Fabric port: \n",
      "11111\n",
      "Fabric interface is currently: Enabled\n",
      "\tbase_ip: 255.255.255.255\n",
      "\tip_mask: 255.255.255.255\n",
      "\trx_ips: []\n",
      "ARP Table: \n",
      "IP: 10.41.0. 58: MAC: 04:3F:72:DF:C2:F8\n",
      "Setting wait between packets to 6000\n",
      "Data source set to adc\n",
      "------------------------\n",
      "snap03:cosmic_ray_cr_forty_gbe configuration:\n",
      "MAC:  02:02:02:03:03:03\n",
      "Gateway:  0.0.0.1\n",
      "IP:  10.41.0.203\n",
      "Fabric port: \n",
      "11111\n",
      "Fabric interface is currently: Enabled\n",
      "\tbase_ip: 255.255.255.255\n",
      "\tip_mask: 255.255.255.255\n",
      "\trx_ips: []\n",
      "ARP Table: \n",
      "IP: 10.41.0. 58: MAC: 04:3F:72:DF:C2:F8\n",
      "Setting wait between packets to 6000\n",
      "Data source set to adc\n",
      "------------------------\n",
      "snap04:cosmic_ray_cr_forty_gbe configuration:\n",
      "MAC:  02:02:02:04:04:04\n",
      "Gateway:  0.0.0.1\n",
      "IP:  10.41.0.204\n",
      "Fabric port: \n",
      "11111\n",
      "Fabric interface is currently: Enabled\n",
      "\tbase_ip: 255.255.255.255\n",
      "\tip_mask: 255.255.255.255\n",
      "\trx_ips: []\n",
      "ARP Table: \n",
      "IP: 10.41.0. 58: MAC: 04:3F:72:DF:C2:F8\n",
      "Setting wait between packets to 6000\n",
      "Data source set to adc\n",
      "------------------------\n",
      "snap05:cosmic_ray_cr_forty_gbe configuration:\n",
      "MAC:  02:02:02:05:05:05\n",
      "Gateway:  0.0.0.1\n",
      "IP:  10.41.0.205\n",
      "Fabric port: \n",
      "11111\n",
      "Fabric interface is currently: Enabled\n",
      "\tbase_ip: 255.255.255.255\n",
      "\tip_mask: 255.255.255.255\n",
      "\trx_ips: []\n",
      "ARP Table: \n",
      "IP: 10.41.0. 58: MAC: 04:3F:72:DF:C2:F8\n",
      "Setting wait between packets to 6000\n",
      "Data source set to adc\n",
      "------------------------\n",
      "snap06:cosmic_ray_cr_forty_gbe configuration:\n",
      "MAC:  02:02:02:06:06:06\n",
      "Gateway:  0.0.0.1\n",
      "IP:  10.41.0.206\n",
      "Fabric port: \n",
      "11111\n",
      "Fabric interface is currently: Enabled\n",
      "\tbase_ip: 255.255.255.255\n",
      "\tip_mask: 255.255.255.255\n",
      "\trx_ips: []\n",
      "ARP Table: \n",
      "IP: 10.41.0. 58: MAC: 04:3F:72:DF:C2:F8\n",
      "Setting wait between packets to 6000\n",
      "Data source set to adc\n",
      "------------------------\n",
      "snap07:cosmic_ray_cr_forty_gbe configuration:\n",
      "MAC:  02:02:02:07:07:07\n",
      "Gateway:  0.0.0.1\n",
      "IP:  10.41.0.207\n",
      "Fabric port: \n",
      "11111\n",
      "Fabric interface is currently: Enabled\n",
      "\tbase_ip: 255.255.255.255\n",
      "\tip_mask: 255.255.255.255\n",
      "\trx_ips: []\n",
      "ARP Table: \n",
      "IP: 10.41.0. 58: MAC: 04:3F:72:DF:C2:F8\n",
      "Setting wait between packets to 6000\n",
      "Data source set to adc\n",
      "------------------------\n",
      "snap08:cosmic_ray_cr_forty_gbe configuration:\n",
      "MAC:  02:02:02:08:08:08\n",
      "Gateway:  0.0.0.1\n",
      "IP:  10.41.0.208\n",
      "Fabric port: \n",
      "11111\n",
      "Fabric interface is currently: Enabled\n",
      "\tbase_ip: 255.255.255.255\n",
      "\tip_mask: 255.255.255.255\n",
      "\trx_ips: []\n",
      "ARP Table: \n",
      "IP: 10.41.0. 58: MAC: 04:3F:72:DF:C2:F8\n",
      "Setting wait between packets to 6000\n",
      "Data source set to adc\n",
      "------------------------\n",
      "snap09:cosmic_ray_cr_forty_gbe configuration:\n",
      "MAC:  02:02:02:09:09:09\n",
      "Gateway:  0.0.0.1\n",
      "IP:  10.41.0.209\n",
      "Fabric port: \n",
      "11111\n",
      "Fabric interface is currently: Enabled\n",
      "\tbase_ip: 255.255.255.255\n",
      "\tip_mask: 255.255.255.255\n",
      "\trx_ips: []\n",
      "ARP Table: \n",
      "IP: 10.41.0. 58: MAC: 04:3F:72:DF:C2:F8\n",
      "Setting wait between packets to 6000\n",
      "Data source set to adc\n",
      "------------------------\n",
      "snap10:cosmic_ray_cr_forty_gbe configuration:\n",
      "MAC:  02:02:02:10:10:10\n",
      "Gateway:  0.0.0.1\n",
      "IP:  10.41.0.210\n",
      "Fabric port: \n",
      "11111\n",
      "Fabric interface is currently: Enabled\n",
      "\tbase_ip: 255.255.255.255\n",
      "\tip_mask: 255.255.255.255\n",
      "\trx_ips: []\n",
      "ARP Table: \n",
      "IP: 10.41.0. 58: MAC: 04:3F:72:DF:C2:F8\n",
      "Setting wait between packets to 6000\n",
      "Data source set to adc\n",
      "------------------------\n",
      "snap11:cosmic_ray_cr_forty_gbe configuration:\n",
      "MAC:  02:02:02:11:11:11\n",
      "Gateway:  0.0.0.1\n",
      "IP:  10.41.0.211\n",
      "Fabric port: \n",
      "11111\n",
      "Fabric interface is currently: Enabled\n",
      "\tbase_ip: 255.255.255.255\n",
      "\tip_mask: 255.255.255.255\n",
      "\trx_ips: []\n",
      "ARP Table: \n",
      "IP: 10.41.0. 58: MAC: 04:3F:72:DF:C2:F8\n",
      "Setting wait between packets to 6000\n"
     ]
    }
   ],
   "source": [
    "brdnames=['snap01','snap02','snap03','snap04','snap05','snap06','snap07','snap08','snap09','snap10','snap11']\n",
    "casperbrds = [casperfpga.CasperFpga(brdname, transport=casperfpga.TapcpTransport) for brdname in brdnames]\n",
    "fpgfile='/home/ubuntu/kp/caltech-lwa/snap2_f_200msps_64i_4096c/outputs/snap2_f_200msps_64i_4096c_2023-03-23_1851.fpg'\n",
    "\n",
    "packetwait=6000 # go really slow at first\n",
    "for i,brdname in enumerate(brdnames):\n",
    "    casperbrd=casperbrds[i]\n",
    "    #prepare to send a snapshot\n",
    "    setup_data_source(casperbrd,\"adc\")\n",
    "    setup_ethernet(brdname,casperbrd,fpgfile,'lwacr',packetwait)\n",
    "    setvalue(casperbrd,'brd_id','cr_registers.xlsx',int(brdname[-2:]))\n",
    "    #enable ethernet\n",
    "    setvalue(casperbrd,'eth_enable','cr_registers.xlsx',1)\n"
   ]
  },
  {
   "cell_type": "code",
   "execution_count": 8,
   "id": "841f172c",
   "metadata": {},
   "outputs": [
    {
     "name": "stdout",
     "output_type": "stream",
     "text": [
      "Packetizer formed 64 packets\n",
      "Board successfully returned to listening state after readout\n",
      "Readout took 515269 clock cycles\n",
      "Packetizer never overflowed\n",
      "Ethernet block almost-full counter incremented by 0\n"
     ]
    }
   ],
   "source": [
    "#send trigger\n",
    "software_trigger(casperbrds[3],1)"
   ]
  },
  {
   "cell_type": "code",
   "execution_count": 41,
   "id": "0a1ec743",
   "metadata": {},
   "outputs": [
    {
     "data": {
      "text/plain": [
       "17.908061226272103"
      ]
     },
     "execution_count": 41,
     "metadata": {},
     "output_type": "execute_result"
    }
   ],
   "source": [
    "(256*256*64*11/(515269*5e-9))/1e9"
   ]
  },
  {
   "cell_type": "code",
   "execution_count": 31,
   "id": "d01a1c4b",
   "metadata": {},
   "outputs": [
    {
     "data": {
      "text/plain": [
       "1"
      ]
     },
     "execution_count": 31,
     "metadata": {},
     "output_type": "execute_result"
    }
   ],
   "source": [
    "getvalue(casperbrds[0],'eth_enable','cr_registers.xlsx')\n"
   ]
  },
  {
   "cell_type": "code",
   "execution_count": null,
   "id": "04146cec",
   "metadata": {},
   "outputs": [],
   "source": []
  }
 ],
 "metadata": {
  "kernelspec": {
   "display_name": "Python 3",
   "language": "python",
   "name": "python3"
  },
  "language_info": {
   "codemirror_mode": {
    "name": "ipython",
    "version": 3
   },
   "file_extension": ".py",
   "mimetype": "text/x-python",
   "name": "python",
   "nbconvert_exporter": "python",
   "pygments_lexer": "ipython3",
   "version": "3.6.10"
  }
 },
 "nbformat": 4,
 "nbformat_minor": 5
}
