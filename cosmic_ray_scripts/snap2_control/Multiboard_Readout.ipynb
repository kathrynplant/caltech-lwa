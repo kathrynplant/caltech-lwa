{
 "cells": [
  {
   "cell_type": "code",
   "execution_count": 35,
   "id": "e2cd5783",
   "metadata": {},
   "outputs": [],
   "source": [
    "import matplotlib.pyplot as plt\n",
    "import numpy as np\n",
    "import casperfpga\n",
    "import time\n",
    "from lwa_f import snap2_fengine\n",
    "from lwa_f import blocks\n",
    "import pandas as pd\n",
    "from cr_functions import *\n",
    "import struct\n",
    "import math\n",
    "from scipy import special as sp\n",
    "from scipy import optimize as oz\n",
    "from scipy import stats as st\n",
    "from lwa_antpos import mapping"
   ]
  },
  {
   "cell_type": "markdown",
   "id": "217ee3cc",
   "metadata": {},
   "source": [
    "## Connect to all boards"
   ]
  },
  {
   "cell_type": "code",
   "execution_count": 36,
   "id": "0da46268",
   "metadata": {},
   "outputs": [],
   "source": [
    "brdnames=['snap01','snap02','snap03','snap04','snap05','snap06','snap07','snap08','snap09','snap10','snap11']\n",
    "casperbrds = [casperfpga.CasperFpga(brdname, transport=casperfpga.TapcpTransport) for brdname in brdnames]\n",
    "fpgfile='/home/ubuntu/kp/caltech-lwa/snap2_f_200msps_64i_4096c/outputs/snap2_f_200msps_64i_4096c_2023-03-23_1851.fpg'\n"
   ]
  },
  {
   "cell_type": "markdown",
   "id": "3251904c",
   "metadata": {},
   "source": [
    "## Set up the ethernet on all boards and then send a single trigger to one board\n",
    "All the boards should read out their data. I repeated this test many times with different packet wait times."
   ]
  },
  {
   "cell_type": "code",
   "execution_count": 37,
   "id": "1b148465",
   "metadata": {},
   "outputs": [
    {
     "name": "stdout",
     "output_type": "stream",
     "text": [
      "Data source set to adc\n",
      "------------------------\n",
      "snap01:cosmic_ray_cr_forty_gbe configuration:\n",
      "MAC:  02:02:02:01:01:01\n",
      "Gateway:  0.0.0.1\n",
      "IP:  10.41.0.201\n",
      "Fabric port: \n",
      "11111\n",
      "Fabric interface is currently: Enabled\n",
      "\tbase_ip: 255.255.255.255\n",
      "\tip_mask: 255.255.255.255\n",
      "\trx_ips: []\n",
      "ARP Table: \n",
      "IP: 10.41.0. 58: MAC: 04:3F:72:DF:C2:F8\n",
      "Setting wait between packets to 100\n",
      "Data source set to adc\n",
      "------------------------\n",
      "snap02:cosmic_ray_cr_forty_gbe configuration:\n",
      "MAC:  02:02:02:02:02:02\n",
      "Gateway:  0.0.0.1\n",
      "IP:  10.41.0.202\n",
      "Fabric port: \n",
      "11111\n",
      "Fabric interface is currently: Enabled\n",
      "\tbase_ip: 255.255.255.255\n",
      "\tip_mask: 255.255.255.255\n",
      "\trx_ips: []\n",
      "ARP Table: \n",
      "IP: 10.41.0. 58: MAC: 04:3F:72:DF:C2:F8\n",
      "Setting wait between packets to 100\n",
      "Data source set to adc\n",
      "------------------------\n",
      "snap03:cosmic_ray_cr_forty_gbe configuration:\n",
      "MAC:  02:02:02:03:03:03\n",
      "Gateway:  0.0.0.1\n",
      "IP:  10.41.0.203\n",
      "Fabric port: \n",
      "11111\n",
      "Fabric interface is currently: Enabled\n",
      "\tbase_ip: 255.255.255.255\n",
      "\tip_mask: 255.255.255.255\n",
      "\trx_ips: []\n",
      "ARP Table: \n",
      "IP: 10.41.0. 58: MAC: 04:3F:72:DF:C2:F8\n",
      "Setting wait between packets to 100\n",
      "Data source set to adc\n",
      "------------------------\n",
      "snap04:cosmic_ray_cr_forty_gbe configuration:\n",
      "MAC:  02:02:02:04:04:04\n",
      "Gateway:  0.0.0.1\n",
      "IP:  10.41.0.204\n",
      "Fabric port: \n",
      "11111\n",
      "Fabric interface is currently: Enabled\n",
      "\tbase_ip: 255.255.255.255\n",
      "\tip_mask: 255.255.255.255\n",
      "\trx_ips: []\n",
      "ARP Table: \n",
      "IP: 10.41.0. 58: MAC: 04:3F:72:DF:C2:F8\n",
      "Setting wait between packets to 100\n",
      "Data source set to adc\n",
      "------------------------\n",
      "snap05:cosmic_ray_cr_forty_gbe configuration:\n",
      "MAC:  02:02:02:05:05:05\n",
      "Gateway:  0.0.0.1\n",
      "IP:  10.41.0.205\n",
      "Fabric port: \n",
      "11111\n",
      "Fabric interface is currently: Enabled\n",
      "\tbase_ip: 255.255.255.255\n",
      "\tip_mask: 255.255.255.255\n",
      "\trx_ips: []\n",
      "ARP Table: \n",
      "IP: 10.41.0. 58: MAC: 04:3F:72:DF:C2:F8\n",
      "Setting wait between packets to 100\n",
      "Data source set to adc\n",
      "------------------------\n",
      "snap06:cosmic_ray_cr_forty_gbe configuration:\n",
      "MAC:  02:02:02:06:06:06\n",
      "Gateway:  0.0.0.1\n",
      "IP:  10.41.0.206\n",
      "Fabric port: \n",
      "11111\n",
      "Fabric interface is currently: Enabled\n",
      "\tbase_ip: 255.255.255.255\n",
      "\tip_mask: 255.255.255.255\n",
      "\trx_ips: []\n",
      "ARP Table: \n",
      "IP: 10.41.0. 58: MAC: 04:3F:72:DF:C2:F8\n",
      "Setting wait between packets to 100\n",
      "Data source set to adc\n",
      "------------------------\n",
      "snap07:cosmic_ray_cr_forty_gbe configuration:\n",
      "MAC:  02:02:02:07:07:07\n",
      "Gateway:  0.0.0.1\n",
      "IP:  10.41.0.207\n",
      "Fabric port: \n",
      "11111\n",
      "Fabric interface is currently: Enabled\n",
      "\tbase_ip: 255.255.255.255\n",
      "\tip_mask: 255.255.255.255\n",
      "\trx_ips: []\n",
      "ARP Table: \n",
      "IP: 10.41.0. 58: MAC: 04:3F:72:DF:C2:F8\n",
      "Setting wait between packets to 100\n",
      "Data source set to adc\n",
      "------------------------\n",
      "snap08:cosmic_ray_cr_forty_gbe configuration:\n",
      "MAC:  02:02:02:08:08:08\n",
      "Gateway:  0.0.0.1\n",
      "IP:  10.41.0.208\n",
      "Fabric port: \n",
      "11111\n",
      "Fabric interface is currently: Enabled\n",
      "\tbase_ip: 255.255.255.255\n",
      "\tip_mask: 255.255.255.255\n",
      "\trx_ips: []\n",
      "ARP Table: \n",
      "IP: 10.41.0. 58: MAC: 04:3F:72:DF:C2:F8\n",
      "Setting wait between packets to 100\n",
      "Data source set to adc\n",
      "------------------------\n",
      "snap09:cosmic_ray_cr_forty_gbe configuration:\n",
      "MAC:  02:02:02:09:09:09\n",
      "Gateway:  0.0.0.1\n",
      "IP:  10.41.0.209\n",
      "Fabric port: \n",
      "11111\n",
      "Fabric interface is currently: Enabled\n",
      "\tbase_ip: 255.255.255.255\n",
      "\tip_mask: 255.255.255.255\n",
      "\trx_ips: []\n",
      "ARP Table: \n",
      "IP: 10.41.0. 58: MAC: 04:3F:72:DF:C2:F8\n",
      "Setting wait between packets to 100\n",
      "Data source set to adc\n",
      "------------------------\n",
      "snap10:cosmic_ray_cr_forty_gbe configuration:\n",
      "MAC:  02:02:02:10:10:10\n",
      "Gateway:  0.0.0.1\n",
      "IP:  10.41.0.210\n",
      "Fabric port: \n",
      "11111\n",
      "Fabric interface is currently: Enabled\n",
      "\tbase_ip: 255.255.255.255\n",
      "\tip_mask: 255.255.255.255\n",
      "\trx_ips: []\n",
      "ARP Table: \n",
      "IP: 10.41.0. 58: MAC: 04:3F:72:DF:C2:F8\n",
      "Setting wait between packets to 100\n",
      "Data source set to adc\n",
      "------------------------\n",
      "snap11:cosmic_ray_cr_forty_gbe configuration:\n",
      "MAC:  02:02:02:11:11:11\n",
      "Gateway:  0.0.0.1\n",
      "IP:  10.41.0.211\n",
      "Fabric port: \n",
      "11111\n",
      "Fabric interface is currently: Enabled\n",
      "\tbase_ip: 255.255.255.255\n",
      "\tip_mask: 255.255.255.255\n",
      "\trx_ips: []\n",
      "ARP Table: \n",
      "IP: 10.41.0. 58: MAC: 04:3F:72:DF:C2:F8\n",
      "Setting wait between packets to 100\n"
     ]
    }
   ],
   "source": [
    "\n",
    "packetwait=100 #clock cycles between packets\n",
    "wait_after_readout=200 #time [clock cycles] to wait for other boards to finish readout\n",
    "for i,brdname in enumerate(brdnames):\n",
    "    casperbrd=casperbrds[i]\n",
    "    #prepare to send a snapshot\n",
    "    \n",
    "    setup_data_source(casperbrd,\"adc\") #set the data source to ADC\n",
    "    setup_ethernet(brdname,casperbrd,fpgfile,'lwacr',packetwait) #set up the ethernet packetizer and ethernet block\n",
    "    setvalue(casperbrd,'wait_after_readout','cr_registers.xlsx',wait_after_readout) #set the wait time after readout before new internally-generated triggers are accepted\n",
    "    setvalue(casperbrd,'brd_id','cr_registers.xlsx',int(brdname[-2:])) #set the board id\n",
    "    setvalue(casperbrd,'eth_enable','cr_registers.xlsx',1)  #enable ethernet\n"
   ]
  },
  {
   "cell_type": "code",
   "execution_count": 38,
   "id": "841f172c",
   "metadata": {},
   "outputs": [
    {
     "name": "stdout",
     "output_type": "stream",
     "text": [
      "Packetizer formed 64 packets\n",
      "Board successfully returned to listening state after readout\n",
      "Readout took 137669 clock cycles\n",
      "Packetizer never overflowed\n",
      "Ethernet block almost-full counter incremented by 0\n"
     ]
    }
   ],
   "source": [
    "#send trigger\n",
    "software_trigger(casperbrds[3],1)"
   ]
  },
  {
   "cell_type": "code",
   "execution_count": 26,
   "id": "858366e7",
   "metadata": {},
   "outputs": [
    {
     "data": {
      "text/plain": [
       "1408000"
      ]
     },
     "execution_count": 26,
     "metadata": {},
     "output_type": "execute_result"
    }
   ],
   "source": [
    "704*200*10"
   ]
  },
  {
   "cell_type": "markdown",
   "id": "23779048",
   "metadata": {},
   "source": [
    "## Send repeated triggers to test data rate\n",
    "### First, send repeat triggers from software."
   ]
  },
  {
   "cell_type": "code",
   "execution_count": 15,
   "id": "26e48a55",
   "metadata": {},
   "outputs": [
    {
     "name": "stdout",
     "output_type": "stream",
     "text": [
      "107\n",
      "[107 107 107 214 107 107 107 107 107 107 107]\n",
      "[6848 6848 6848 6848 6848 6848 6848 6848 6848 6848 6848]\n",
      "total packets  75328\n"
     ]
    }
   ],
   "source": [
    "#check packet and trigger stats before starting\n",
    "packet_count1=np.asarray([getvalue(brd,\"eof_and_valid\",\"cr_registers.xlsx\") for brd in casperbrds])\n",
    "trigger_count1=np.asarray([getvalue(brd,\"count_triggers\",\"cr_registers.xlsx\") for brd in casperbrds])\n",
    "\n",
    "#try repeated triggers from software. It turns out not to be fast enough.\n",
    "t_run=10\n",
    "t_start=time.time()\n",
    "t_since_start=time.time()-t_start\n",
    "count=0\n",
    "while t_since_start<t_run:\n",
    "    count+=1\n",
    "    software_trigger(casperbrds[3],0)  #the stats argument is False because by not reading various stats registers it can go faster\n",
    "    t_since_start=time.time()-t_start\n",
    "print(count)\n",
    "\n",
    "#check packet and trigger statistics after finishing\n",
    "packet_count2=np.asarray([getvalue(brd,\"eof_and_valid\",\"cr_registers.xlsx\") for brd in casperbrds])\n",
    "trigger_count2=np.asarray([getvalue(brd,\"count_triggers\",\"cr_registers.xlsx\") for brd in casperbrds])\n",
    "\n",
    "#report summary stats\n",
    "newtriggers=trigger_count2-trigger_count1\n",
    "newpackets=packet_count2-packet_count1\n",
    "print(newtriggers) \n",
    "print(newpackets)\n",
    "print('total packets ',np.sum(newpackets))\n",
    "if (np.min(newpackets)!=np.max(newpackets)):\n",
    "    print(\"Uh oh! Different boards did different things!\")\n"
   ]
  },
  {
   "cell_type": "code",
   "execution_count": 16,
   "id": "1e05623a",
   "metadata": {},
   "outputs": [
    {
     "data": {
      "text/plain": [
       "77440"
      ]
     },
     "execution_count": 16,
     "metadata": {},
     "output_type": "execute_result"
    }
   ],
   "source": [
    "704*110"
   ]
  },
  {
   "cell_type": "markdown",
   "id": "afc405d6",
   "metadata": {},
   "source": [
    "\n",
    "### Run Test with internally-generated triggers"
   ]
  },
  {
   "cell_type": "code",
   "execution_count": 27,
   "id": "d01a1c4b",
   "metadata": {},
   "outputs": [
    {
     "data": {
      "text/plain": [
       "[None, None, None, None, None, None, None, None, None, None, None]"
      ]
     },
     "execution_count": 27,
     "metadata": {},
     "output_type": "execute_result"
    }
   ],
   "source": [
    "[setvalue(casperbrd,\"enable_coinc_trig\",\"cr_registers.xlsx\",0) for casperbrd in casperbrds]\n"
   ]
  },
  {
   "cell_type": "code",
   "execution_count": 28,
   "id": "360528ee",
   "metadata": {},
   "outputs": [
    {
     "name": "stdout",
     "output_type": "stream",
     "text": [
      "Data source set to longcounter\n"
     ]
    }
   ],
   "source": [
    "#define parameters\n",
    "trigger_power_thresh=511**2\n",
    "veto_power_thresh=511**2\n",
    "core_roles_array=np.zeros(64,dtype=int)\n",
    "core_roles_array[62]=1\n",
    "veto_roles_array=np.zeros(64,dtype=int)\n",
    "antenna_number_thresh=0\n",
    "veto_number_thresh=0\n",
    "trigger_window=10\n",
    "veto_window=10\n",
    "\n",
    "\n",
    "\n",
    "\n",
    "#set up the coincidencer on ONE board only\n",
    "casperbrd=casperbrds[3]\n",
    "setup_data_source(casperbrd,\"longcounter\") #set the data source to long counter\n",
    "\n",
    "setup_coincidencer(casperbrd,trigger_power_thresh,\n",
    "                          veto_power_thresh,\n",
    "                          trigger_window,\n",
    "                          veto_window,\n",
    "                          antenna_number_thresh,\n",
    "                          veto_number_thresh,\n",
    "                          core_roles_array,\n",
    "                          veto_roles_array)"
   ]
  },
  {
   "cell_type": "code",
   "execution_count": 34,
   "id": "57727ad3",
   "metadata": {},
   "outputs": [
    {
     "name": "stdout",
     "output_type": "stream",
     "text": [
      "[1874 1874 1874 3748 1874 1874 1874 1874 1874 1874 1874]\n",
      "[119936 119936 119936 119936 119936 119936 119936 119936 119936 119936\n",
      " 119936]\n",
      "total packets  1319296\n"
     ]
    }
   ],
   "source": [
    "\n",
    "#check packet and trigger stats before starting\n",
    "packet_count1=np.asarray([getvalue(brd,\"eof_and_valid\",\"cr_registers.xlsx\") for brd in casperbrds])\n",
    "trigger_count1=np.asarray([getvalue(brd,\"count_triggers\",\"cr_registers.xlsx\") for brd in casperbrds])\n",
    "\n",
    "#do test\n",
    "setvalue(casperbrd,\"enable_coinc_trig\",\"cr_registers.xlsx\",1)\n",
    "time.sleep(10)\n",
    "setvalue(casperbrd,\"enable_coinc_trig\",\"cr_registers.xlsx\",0)\n",
    "\n",
    "#check packet and trigger statistics after finishing\n",
    "packet_count2=np.asarray([getvalue(brd,\"eof_and_valid\",\"cr_registers.xlsx\") for brd in casperbrds])\n",
    "trigger_count2=np.asarray([getvalue(brd,\"count_triggers\",\"cr_registers.xlsx\") for brd in casperbrds])\n",
    "\n",
    "#report summary stats\n",
    "newtriggers=trigger_count2-trigger_count1\n",
    "newpackets=packet_count2-packet_count1\n",
    "print(newtriggers) \n",
    "print(newpackets)\n",
    "print('total packets ',np.sum(newpackets))\n",
    "if (np.min(newpackets)!=np.max(newpackets)):\n",
    "    print(\"Uh oh! Different boards did different things!\")\n"
   ]
  },
  {
   "cell_type": "markdown",
   "id": "d46d046a",
   "metadata": {},
   "source": [
    "### Internal triggers generated by all boards at once"
   ]
  },
  {
   "cell_type": "code",
   "execution_count": 63,
   "id": "16e20a00",
   "metadata": {},
   "outputs": [
    {
     "name": "stdout",
     "output_type": "stream",
     "text": [
      "Data source set to longcounter\n",
      "Data source set to longcounter\n",
      "Data source set to longcounter\n",
      "Data source set to longcounter\n",
      "Data source set to longcounter\n",
      "Data source set to longcounter\n",
      "Data source set to longcounter\n",
      "Data source set to longcounter\n",
      "Data source set to longcounter\n",
      "Data source set to longcounter\n",
      "Data source set to longcounter\n",
      "[3872 3873 3872 3873 3873 3872 3872 3872 3872 3872 3872]\n",
      "[124928 124928 124928 124928 124928 124928 124928 124928 124928 124928\n",
      " 124928]\n",
      "total packets  1374208\n"
     ]
    }
   ],
   "source": [
    "#define parameters\n",
    "trigger_power_thresh=511**2\n",
    "veto_power_thresh=511**2\n",
    "core_roles_array=np.zeros(64,dtype=int)\n",
    "core_roles_array[62]=1\n",
    "veto_roles_array=np.zeros(64,dtype=int)\n",
    "antenna_number_thresh=0\n",
    "veto_number_thresh=0\n",
    "trigger_window=10\n",
    "veto_window=10\n",
    "\n",
    "\n",
    "\n",
    "\n",
    "#set up the coincidencer on ALL boards\n",
    "[setup_data_source(brd,\"longcounter\") for brd in casperbrds] #set the data source to long counter\n",
    "\n",
    "[setup_coincidencer(brd,trigger_power_thresh,\n",
    "                          veto_power_thresh,\n",
    "                          trigger_window,\n",
    "                          veto_window,\n",
    "                          antenna_number_thresh,\n",
    "                          veto_number_thresh,\n",
    "                          core_roles_array,\n",
    "                          veto_roles_array) for brd in casperbrds]\n",
    "\n",
    "\n",
    "\n",
    "#check packet and trigger stats before starting\n",
    "packet_count1=np.asarray([getvalue(brd,\"eof_and_valid\",\"cr_registers.xlsx\") for brd in casperbrds])\n",
    "trigger_count1=np.asarray([getvalue(brd,\"count_triggers\",\"cr_registers.xlsx\") for brd in casperbrds])\n",
    "\n",
    "#do test\n",
    "[setvalue(brd,\"enable_coinc_trig\",\"cr_registers.xlsx\",1) for brd in casperbrds]\n",
    "time.sleep(10)\n",
    "[setvalue(brd,\"enable_coinc_trig\",\"cr_registers.xlsx\",0) for brd in casperbrds]\n",
    "\n",
    "#check packet and trigger statistics after finishing\n",
    "packet_count2=np.asarray([getvalue(brd,\"eof_and_valid\",\"cr_registers.xlsx\") for brd in casperbrds])\n",
    "trigger_count2=np.asarray([getvalue(brd,\"count_triggers\",\"cr_registers.xlsx\") for brd in casperbrds])\n",
    "\n",
    "#report summary stats\n",
    "newtriggers=trigger_count2-trigger_count1\n",
    "newpackets=packet_count2-packet_count1\n",
    "print(newtriggers) \n",
    "print(newpackets)\n",
    "print('total packets ',np.sum(newpackets))\n",
    "if (np.min(newpackets)!=np.max(newpackets)):\n",
    "    print(\"Uh oh! Different boards did different things!\")\n"
   ]
  },
  {
   "cell_type": "code",
   "execution_count": 66,
   "id": "9f9a8334",
   "metadata": {},
   "outputs": [
    {
     "name": "stdout",
     "output_type": "stream",
     "text": [
      "1936.1363636363637\n"
     ]
    }
   ],
   "source": [
    "print(np.mean(newtriggers)/2)"
   ]
  },
  {
   "cell_type": "code",
   "execution_count": null,
   "id": "d963578e",
   "metadata": {},
   "outputs": [],
   "source": []
  }
 ],
 "metadata": {
  "kernelspec": {
   "display_name": "Python 3",
   "language": "python",
   "name": "python3"
  },
  "language_info": {
   "codemirror_mode": {
    "name": "ipython",
    "version": 3
   },
   "file_extension": ".py",
   "mimetype": "text/x-python",
   "name": "python",
   "nbconvert_exporter": "python",
   "pygments_lexer": "ipython3",
   "version": "3.6.10"
  }
 },
 "nbformat": 4,
 "nbformat_minor": 5
}
