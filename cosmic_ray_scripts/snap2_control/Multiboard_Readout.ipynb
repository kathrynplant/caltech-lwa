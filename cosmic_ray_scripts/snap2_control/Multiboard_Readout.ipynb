{
 "cells": [
  {
   "cell_type": "code",
   "execution_count": 2,
   "id": "e2cd5783",
   "metadata": {},
   "outputs": [
    {
     "name": "stdout",
     "output_type": "stream",
     "text": [
      "dsautils.cnf not found. skipping...\n",
      "Read antpos from etcd\n"
     ]
    }
   ],
   "source": [
    "import matplotlib.pyplot as plt\n",
    "import numpy as np\n",
    "import casperfpga\n",
    "import time\n",
    "from lwa_f import snap2_fengine\n",
    "from lwa_f import blocks\n",
    "import pandas as pd\n",
    "from cr_functions import *\n",
    "import struct\n",
    "import math\n",
    "from scipy import special as sp\n",
    "from scipy import optimize as oz\n",
    "from scipy import stats as st\n",
    "from lwa_antpos import mapping"
   ]
  },
  {
   "cell_type": "markdown",
   "id": "79791313",
   "metadata": {},
   "source": [
    "## Connect to all boards"
   ]
  },
  {
   "cell_type": "code",
   "execution_count": 3,
   "id": "556d2b68",
   "metadata": {},
   "outputs": [],
   "source": [
    "brdnames=['snap01','snap02','snap03','snap04','snap05','snap06','snap07','snap08','snap09','snap10','snap11']\n",
    "casperbrds = [casperfpga.CasperFpga(brdname, transport=casperfpga.TapcpTransport) for brdname in brdnames]\n",
    "fpgfile='/home/ubuntu/kp/caltech-lwa/snap2_f_200msps_64i_4096c/outputs/snap2_f_200msps_64i_4096c_2023-03-23_1851.fpg'\n"
   ]
  },
  {
   "cell_type": "markdown",
   "id": "6af278ef",
   "metadata": {},
   "source": [
    "## Set up the ethernet on all boards and then send a single trigger to one board\n",
    "All the boards should read out their data. I repeated this test many times with different packet wait times."
   ]
  },
  {
   "cell_type": "code",
   "execution_count": 66,
   "id": "1b148465",
   "metadata": {},
   "outputs": [
    {
     "name": "stdout",
     "output_type": "stream",
     "text": [
      "Data source set to adc\n",
      "------------------------\n",
      "snap01:cosmic_ray_cr_forty_gbe configuration:\n",
      "MAC:  02:02:02:01:01:01\n",
      "Gateway:  0.0.0.1\n",
      "IP:  10.41.0.201\n",
      "Fabric port: \n",
      "11111\n",
      "Fabric interface is currently: Enabled\n",
      "\tbase_ip: 255.255.255.255\n",
      "\tip_mask: 255.255.255.255\n",
      "\trx_ips: []\n",
      "ARP Table: \n",
      "IP: 10.41.0. 58: MAC: 04:3F:72:DF:C2:F8\n",
      "Setting wait between packets to 100\n",
      "Data source set to adc\n",
      "------------------------\n",
      "snap02:cosmic_ray_cr_forty_gbe configuration:\n",
      "MAC:  02:02:02:02:02:02\n",
      "Gateway:  0.0.0.1\n",
      "IP:  10.41.0.202\n",
      "Fabric port: \n",
      "11111\n",
      "Fabric interface is currently: Enabled\n",
      "\tbase_ip: 255.255.255.255\n",
      "\tip_mask: 255.255.255.255\n",
      "\trx_ips: []\n",
      "ARP Table: \n",
      "IP: 10.41.0. 58: MAC: 04:3F:72:DF:C2:F8\n",
      "Setting wait between packets to 100\n",
      "Data source set to adc\n",
      "------------------------\n",
      "snap03:cosmic_ray_cr_forty_gbe configuration:\n",
      "MAC:  02:02:02:03:03:03\n",
      "Gateway:  0.0.0.1\n",
      "IP:  10.41.0.203\n",
      "Fabric port: \n",
      "11111\n",
      "Fabric interface is currently: Enabled\n",
      "\tbase_ip: 255.255.255.255\n",
      "\tip_mask: 255.255.255.255\n",
      "\trx_ips: []\n",
      "ARP Table: \n",
      "IP: 10.41.0. 58: MAC: 04:3F:72:DF:C2:F8\n",
      "Setting wait between packets to 100\n",
      "Data source set to adc\n",
      "------------------------\n",
      "snap04:cosmic_ray_cr_forty_gbe configuration:\n",
      "MAC:  02:02:02:04:04:04\n",
      "Gateway:  0.0.0.1\n",
      "IP:  10.41.0.204\n",
      "Fabric port: \n",
      "11111\n",
      "Fabric interface is currently: Enabled\n",
      "\tbase_ip: 255.255.255.255\n",
      "\tip_mask: 255.255.255.255\n",
      "\trx_ips: []\n",
      "ARP Table: \n",
      "IP: 10.41.0. 58: MAC: 04:3F:72:DF:C2:F8\n",
      "Setting wait between packets to 100\n",
      "Data source set to adc\n",
      "------------------------\n",
      "snap05:cosmic_ray_cr_forty_gbe configuration:\n",
      "MAC:  02:02:02:05:05:05\n",
      "Gateway:  0.0.0.1\n",
      "IP:  10.41.0.205\n",
      "Fabric port: \n",
      "11111\n",
      "Fabric interface is currently: Enabled\n",
      "\tbase_ip: 255.255.255.255\n",
      "\tip_mask: 255.255.255.255\n",
      "\trx_ips: []\n",
      "ARP Table: \n",
      "IP: 10.41.0. 58: MAC: 04:3F:72:DF:C2:F8\n",
      "Setting wait between packets to 100\n",
      "Data source set to adc\n",
      "------------------------\n",
      "snap06:cosmic_ray_cr_forty_gbe configuration:\n",
      "MAC:  02:02:02:06:06:06\n",
      "Gateway:  0.0.0.1\n",
      "IP:  10.41.0.206\n",
      "Fabric port: \n",
      "11111\n",
      "Fabric interface is currently: Enabled\n",
      "\tbase_ip: 255.255.255.255\n",
      "\tip_mask: 255.255.255.255\n",
      "\trx_ips: []\n",
      "ARP Table: \n",
      "IP: 10.41.0. 58: MAC: 04:3F:72:DF:C2:F8\n",
      "Setting wait between packets to 100\n",
      "Data source set to adc\n",
      "------------------------\n",
      "snap07:cosmic_ray_cr_forty_gbe configuration:\n",
      "MAC:  02:02:02:07:07:07\n",
      "Gateway:  0.0.0.1\n",
      "IP:  10.41.0.207\n",
      "Fabric port: \n",
      "11111\n",
      "Fabric interface is currently: Enabled\n",
      "\tbase_ip: 255.255.255.255\n",
      "\tip_mask: 255.255.255.255\n",
      "\trx_ips: []\n",
      "ARP Table: \n",
      "IP: 10.41.0. 58: MAC: 04:3F:72:DF:C2:F8\n",
      "Setting wait between packets to 100\n",
      "Data source set to adc\n",
      "------------------------\n",
      "snap08:cosmic_ray_cr_forty_gbe configuration:\n",
      "MAC:  02:02:02:08:08:08\n",
      "Gateway:  0.0.0.1\n",
      "IP:  10.41.0.208\n",
      "Fabric port: \n",
      "11111\n",
      "Fabric interface is currently: Enabled\n",
      "\tbase_ip: 255.255.255.255\n",
      "\tip_mask: 255.255.255.255\n",
      "\trx_ips: []\n",
      "ARP Table: \n",
      "IP: 10.41.0. 58: MAC: 04:3F:72:DF:C2:F8\n",
      "Setting wait between packets to 100\n",
      "Data source set to adc\n",
      "------------------------\n",
      "snap09:cosmic_ray_cr_forty_gbe configuration:\n",
      "MAC:  02:02:02:09:09:09\n",
      "Gateway:  0.0.0.1\n",
      "IP:  10.41.0.209\n",
      "Fabric port: \n",
      "11111\n",
      "Fabric interface is currently: Enabled\n",
      "\tbase_ip: 255.255.255.255\n",
      "\tip_mask: 255.255.255.255\n",
      "\trx_ips: []\n",
      "ARP Table: \n",
      "IP: 10.41.0. 58: MAC: 04:3F:72:DF:C2:F8\n",
      "Setting wait between packets to 100\n",
      "Data source set to adc\n",
      "------------------------\n",
      "snap10:cosmic_ray_cr_forty_gbe configuration:\n",
      "MAC:  02:02:02:10:10:10\n",
      "Gateway:  0.0.0.1\n",
      "IP:  10.41.0.210\n",
      "Fabric port: \n",
      "11111\n",
      "Fabric interface is currently: Enabled\n",
      "\tbase_ip: 255.255.255.255\n",
      "\tip_mask: 255.255.255.255\n",
      "\trx_ips: []\n",
      "ARP Table: \n",
      "IP: 10.41.0. 58: MAC: 04:3F:72:DF:C2:F8\n",
      "Setting wait between packets to 100\n",
      "Data source set to adc\n",
      "------------------------\n",
      "snap11:cosmic_ray_cr_forty_gbe configuration:\n",
      "MAC:  02:02:02:11:11:11\n",
      "Gateway:  0.0.0.1\n",
      "IP:  10.41.0.211\n",
      "Fabric port: \n",
      "11111\n",
      "Fabric interface is currently: Enabled\n",
      "\tbase_ip: 255.255.255.255\n",
      "\tip_mask: 255.255.255.255\n",
      "\trx_ips: []\n",
      "ARP Table: \n",
      "IP: 10.41.0. 58: MAC: 04:3F:72:DF:C2:F8\n",
      "Setting wait between packets to 100\n"
     ]
    }
   ],
   "source": [
    "\n",
    "packetwait=100\n",
    "for i,brdname in enumerate(brdnames):\n",
    "    casperbrd=casperbrds[i]\n",
    "    #prepare to send a snapshot\n",
    "    setup_data_source(casperbrd,\"adc\")\n",
    "    setup_ethernet(brdname,casperbrd,fpgfile,'lwacr',packetwait)\n",
    "    setvalue(casperbrd,'brd_id','cr_registers.xlsx',int(brdname[-2:]))\n",
    "    #enable ethernet\n",
    "    setvalue(casperbrd,'eth_enable','cr_registers.xlsx',1)\n"
   ]
  },
  {
   "cell_type": "code",
   "execution_count": 68,
   "id": "841f172c",
   "metadata": {},
   "outputs": [
    {
     "name": "stdout",
     "output_type": "stream",
     "text": [
      "Packetizer formed 64 packets\n",
      "Board successfully returned to listening state after readout\n",
      "Readout took 137669 clock cycles\n",
      "Packetizer never overflowed\n",
      "Ethernet block almost-full counter incremented by 0\n"
     ]
    }
   ],
   "source": [
    "#send trigger\n",
    "software_trigger(casperbrds[3],1)"
   ]
  },
  {
   "cell_type": "markdown",
   "id": "0faf420d",
   "metadata": {},
   "source": [
    "## Send repeated triggers to test data rate"
   ]
  },
  {
   "cell_type": "code",
   "execution_count": 45,
   "id": "491f4594",
   "metadata": {},
   "outputs": [
    {
     "name": "stdout",
     "output_type": "stream",
     "text": [
      "105\n"
     ]
    }
   ],
   "source": [
    "#try repeated triggers from software. It turns out not to be fast enough.\n",
    "t_run=10\n",
    "t_start=time.time()\n",
    "t_since_start=time.time()-t_start\n",
    "count=0\n",
    "while t_since_start<t_run:\n",
    "    count+=1\n",
    "    software_trigger(casperbrds[3],0)  #the stats argument is False because by not reading various stats registers it can go faster\n",
    "    t_since_start=time.time()-t_start\n",
    "\n",
    "print(count)"
   ]
  },
  {
   "cell_type": "markdown",
   "id": "82739449",
   "metadata": {},
   "source": [
    "\n",
    "### Run Test with internally-generated triggers"
   ]
  },
  {
   "cell_type": "code",
   "execution_count": 59,
   "id": "d01a1c4b",
   "metadata": {},
   "outputs": [
    {
     "name": "stdout",
     "output_type": "stream",
     "text": [
      "Data source set to adc\n",
      "------------------------\n",
      "snap01:cosmic_ray_cr_forty_gbe configuration:\n",
      "MAC:  02:02:02:01:01:01\n",
      "Gateway:  0.0.0.1\n",
      "IP:  10.41.0.201\n",
      "Fabric port: \n",
      "11111\n",
      "Fabric interface is currently: Enabled\n",
      "\tbase_ip: 255.255.255.255\n",
      "\tip_mask: 255.255.255.255\n",
      "\trx_ips: []\n",
      "ARP Table: \n",
      "IP: 10.41.0. 58: MAC: 04:3F:72:DF:C2:F8\n",
      "Setting wait between packets to 10000\n",
      "Data source set to adc\n",
      "------------------------\n",
      "snap02:cosmic_ray_cr_forty_gbe configuration:\n",
      "MAC:  02:02:02:02:02:02\n",
      "Gateway:  0.0.0.1\n",
      "IP:  10.41.0.202\n",
      "Fabric port: \n",
      "11111\n",
      "Fabric interface is currently: Enabled\n",
      "\tbase_ip: 255.255.255.255\n",
      "\tip_mask: 255.255.255.255\n",
      "\trx_ips: []\n",
      "ARP Table: \n",
      "IP: 10.41.0. 58: MAC: 04:3F:72:DF:C2:F8\n",
      "Setting wait between packets to 10000\n",
      "Data source set to adc\n",
      "------------------------\n",
      "snap03:cosmic_ray_cr_forty_gbe configuration:\n",
      "MAC:  02:02:02:03:03:03\n",
      "Gateway:  0.0.0.1\n",
      "IP:  10.41.0.203\n",
      "Fabric port: \n",
      "11111\n",
      "Fabric interface is currently: Enabled\n",
      "\tbase_ip: 255.255.255.255\n",
      "\tip_mask: 255.255.255.255\n",
      "\trx_ips: []\n",
      "ARP Table: \n",
      "IP: 10.41.0. 58: MAC: 04:3F:72:DF:C2:F8\n",
      "Setting wait between packets to 10000\n",
      "Data source set to adc\n",
      "------------------------\n",
      "snap04:cosmic_ray_cr_forty_gbe configuration:\n",
      "MAC:  02:02:02:04:04:04\n",
      "Gateway:  0.0.0.1\n",
      "IP:  10.41.0.204\n",
      "Fabric port: \n",
      "11111\n",
      "Fabric interface is currently: Enabled\n",
      "\tbase_ip: 255.255.255.255\n",
      "\tip_mask: 255.255.255.255\n",
      "\trx_ips: []\n",
      "ARP Table: \n",
      "IP: 10.41.0. 58: MAC: 04:3F:72:DF:C2:F8\n",
      "Setting wait between packets to 10000\n",
      "Data source set to adc\n",
      "------------------------\n",
      "snap05:cosmic_ray_cr_forty_gbe configuration:\n",
      "MAC:  02:02:02:05:05:05\n",
      "Gateway:  0.0.0.1\n",
      "IP:  10.41.0.205\n",
      "Fabric port: \n",
      "11111\n",
      "Fabric interface is currently: Enabled\n",
      "\tbase_ip: 255.255.255.255\n",
      "\tip_mask: 255.255.255.255\n",
      "\trx_ips: []\n",
      "ARP Table: \n",
      "IP: 10.41.0. 58: MAC: 04:3F:72:DF:C2:F8\n",
      "Setting wait between packets to 10000\n",
      "Data source set to adc\n",
      "------------------------\n",
      "snap06:cosmic_ray_cr_forty_gbe configuration:\n",
      "MAC:  02:02:02:06:06:06\n",
      "Gateway:  0.0.0.1\n",
      "IP:  10.41.0.206\n",
      "Fabric port: \n",
      "11111\n",
      "Fabric interface is currently: Enabled\n",
      "\tbase_ip: 255.255.255.255\n",
      "\tip_mask: 255.255.255.255\n",
      "\trx_ips: []\n",
      "ARP Table: \n",
      "IP: 10.41.0. 58: MAC: 04:3F:72:DF:C2:F8\n",
      "Setting wait between packets to 10000\n",
      "Data source set to adc\n",
      "------------------------\n",
      "snap07:cosmic_ray_cr_forty_gbe configuration:\n",
      "MAC:  02:02:02:07:07:07\n",
      "Gateway:  0.0.0.1\n",
      "IP:  10.41.0.207\n",
      "Fabric port: \n",
      "11111\n",
      "Fabric interface is currently: Enabled\n",
      "\tbase_ip: 255.255.255.255\n",
      "\tip_mask: 255.255.255.255\n",
      "\trx_ips: []\n",
      "ARP Table: \n",
      "IP: 10.41.0. 58: MAC: 04:3F:72:DF:C2:F8\n",
      "Setting wait between packets to 10000\n",
      "Data source set to adc\n",
      "------------------------\n",
      "snap08:cosmic_ray_cr_forty_gbe configuration:\n",
      "MAC:  02:02:02:08:08:08\n",
      "Gateway:  0.0.0.1\n",
      "IP:  10.41.0.208\n",
      "Fabric port: \n",
      "11111\n",
      "Fabric interface is currently: Enabled\n",
      "\tbase_ip: 255.255.255.255\n",
      "\tip_mask: 255.255.255.255\n",
      "\trx_ips: []\n",
      "ARP Table: \n",
      "IP: 10.41.0. 58: MAC: 04:3F:72:DF:C2:F8\n",
      "Setting wait between packets to 10000\n",
      "Data source set to adc\n",
      "------------------------\n",
      "snap09:cosmic_ray_cr_forty_gbe configuration:\n",
      "MAC:  02:02:02:09:09:09\n",
      "Gateway:  0.0.0.1\n",
      "IP:  10.41.0.209\n",
      "Fabric port: \n",
      "11111\n",
      "Fabric interface is currently: Enabled\n",
      "\tbase_ip: 255.255.255.255\n",
      "\tip_mask: 255.255.255.255\n",
      "\trx_ips: []\n",
      "ARP Table: \n",
      "IP: 10.41.0. 58: MAC: 04:3F:72:DF:C2:F8\n",
      "Setting wait between packets to 10000\n",
      "Data source set to adc\n",
      "------------------------\n",
      "snap10:cosmic_ray_cr_forty_gbe configuration:\n",
      "MAC:  02:02:02:10:10:10\n",
      "Gateway:  0.0.0.1\n",
      "IP:  10.41.0.210\n",
      "Fabric port: \n",
      "11111\n",
      "Fabric interface is currently: Enabled\n",
      "\tbase_ip: 255.255.255.255\n",
      "\tip_mask: 255.255.255.255\n",
      "\trx_ips: []\n",
      "ARP Table: \n",
      "IP: 10.41.0. 58: MAC: 04:3F:72:DF:C2:F8\n",
      "Setting wait between packets to 10000\n",
      "Data source set to adc\n",
      "------------------------\n",
      "snap11:cosmic_ray_cr_forty_gbe configuration:\n",
      "MAC:  02:02:02:11:11:11\n",
      "Gateway:  0.0.0.1\n",
      "IP:  10.41.0.211\n",
      "Fabric port: \n",
      "11111\n",
      "Fabric interface is currently: Enabled\n",
      "\tbase_ip: 255.255.255.255\n",
      "\tip_mask: 255.255.255.255\n",
      "\trx_ips: []\n",
      "ARP Table: \n",
      "IP: 10.41.0. 58: MAC: 04:3F:72:DF:C2:F8\n",
      "Setting wait between packets to 10000\n"
     ]
    }
   ],
   "source": [
    "# repeat the ethernet setup from above\n",
    "packetwait=6000\n",
    "for i,brdname in enumerate(brdnames):\n",
    "    casperbrd=casperbrds[i]\n",
    "    #prepare to send a snapshot\n",
    "    setup_data_source(casperbrd,\"adc\")\n",
    "    setup_ethernet(brdname,casperbrd,fpgfile,'lwacr',packetwait)\n",
    "    setvalue(casperbrd,'brd_id','cr_registers.xlsx',int(brdname[-2:]))\n",
    "    #enable ethernet\n",
    "    setvalue(casperbrd,'eth_enable','cr_registers.xlsx',1)"
   ]
  },
  {
   "cell_type": "code",
   "execution_count": 66,
   "id": "c5887eb6",
   "metadata": {},
   "outputs": [
    {
     "name": "stdout",
     "output_type": "stream",
     "text": [
      "Data source set to longcounter\n"
     ]
    }
   ],
   "source": [
    "#define parameters\n",
    "trigger_power_thresh=511**2\n",
    "veto_power_thresh=511**2\n",
    "core_roles_array=np.zeros(64,dtype=int)\n",
    "core_roles_array[62]=1\n",
    "veto_roles_array=np.zeros(64,dtype=int)\n",
    "antenna_number_thresh=0\n",
    "veto_number_thresh=0\n",
    "trigger_window=10\n",
    "veto_window=10\n",
    "\n",
    "\n",
    "\n",
    "\n",
    "#set up the coincidencer on ONE board only\n",
    "casperbrd=casperbrds[3]\n",
    "setup_data_source(casperbrd,\"longcounter\") #set the data source to long counter\n",
    "\n",
    "setup_coincidencer(casperbrd,trigger_power_thresh,\n",
    "                          veto_power_thresh,\n",
    "                          trigger_window,\n",
    "                          veto_window,\n",
    "                          antenna_number_thresh,\n",
    "                          veto_number_thresh,\n",
    "                          core_roles_array,\n",
    "                          veto_roles_array)"
   ]
  },
  {
   "cell_type": "code",
   "execution_count": 65,
   "id": "c5fd95fe",
   "metadata": {},
   "outputs": [
    {
     "name": "stdout",
     "output_type": "stream",
     "text": [
      "4\n",
      "2.0\n"
     ]
    }
   ],
   "source": [
    "packet_count1=getvalue(casperbrd,\"eof_and_valid\",\"cr_registers.xlsx\")\n",
    "trigger_count1=getvalue(casperbrd,\"count_triggers\",\"cr_registers.xlsx\")\n",
    "setvalue(casperbrd,\"enable_coinc_trig\",\"cr_registers.xlsx\",1)\n",
    "time.sleep(10)\n",
    "setvalue(casperbrd,\"enable_coinc_trig\",\"cr_registers.xlsx\",0)\n",
    "packet_count2=getvalue(casperbrd,\"eof_and_valid\",\"cr_registers.xlsx\")\n",
    "trigger_count2=getvalue(casperbrd,\"count_triggers\",\"cr_registers.xlsx\")\n",
    "print(trigger_count2-trigger_count1)\n",
    "print((packet_count2-packet_count1)/64)"
   ]
  },
  {
   "cell_type": "code",
   "execution_count": 46,
   "id": "64bcd050",
   "metadata": {},
   "outputs": [
    {
     "data": {
      "text/plain": [
       "1321875.0"
      ]
     },
     "execution_count": 46,
     "metadata": {},
     "output_type": "execute_result"
    }
   ],
   "source": [
    "1875.0*705"
   ]
  },
  {
   "cell_type": "code",
   "execution_count": 49,
   "id": "9c87566c",
   "metadata": {},
   "outputs": [
    {
     "data": {
      "text/plain": [
       "8.66304"
      ]
     },
     "execution_count": 49,
     "metadata": {},
     "output_type": "execute_result"
    }
   ],
   "source": [
    "(1321875.0*(256*256)/10)*1e-9"
   ]
  },
  {
   "cell_type": "code",
   "execution_count": 47,
   "id": "a72f43ed",
   "metadata": {},
   "outputs": [
    {
     "data": {
      "text/plain": [
       "65536"
      ]
     },
     "execution_count": 47,
     "metadata": {},
     "output_type": "execute_result"
    }
   ],
   "source": []
  },
  {
   "cell_type": "code",
   "execution_count": null,
   "id": "5ad261a8",
   "metadata": {},
   "outputs": [],
   "source": []
  }
 ],
 "metadata": {
  "kernelspec": {
   "display_name": "Python 3",
   "language": "python",
   "name": "python3"
  },
  "language_info": {
   "codemirror_mode": {
    "name": "ipython",
    "version": 3
   },
   "file_extension": ".py",
   "mimetype": "text/x-python",
   "name": "python",
   "nbconvert_exporter": "python",
   "pygments_lexer": "ipython3",
   "version": "3.6.10"
  }
 },
 "nbformat": 4,
 "nbformat_minor": 5
}
