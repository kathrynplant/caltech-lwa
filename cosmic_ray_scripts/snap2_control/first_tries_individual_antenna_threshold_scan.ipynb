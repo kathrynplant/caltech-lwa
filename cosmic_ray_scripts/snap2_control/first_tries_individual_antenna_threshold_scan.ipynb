{
 "cells": [
  {
   "cell_type": "markdown",
   "metadata": {},
   "source": [
    "# Notebook Overview\n",
    "The sections at the top of this notebook test several different firmware versions in the process of getting the SBRAM to store the correct values in the correct antenna order.  The sections at the end of the notebook are a first try for a threshold scan that I did with the first version of the firmware (whose SBRAM format issues didn't prevent some basic threshold scans).\n",
    "\n",
    "After I finished debugging the firmware, I started a new notebook called individual_antenna_threshold_scan_main to consolidate the main tests.\n",
    "\n",
    "## Summary of changes between firmware versions\n",
    "Changes from v2.0 to v2.1\n",
    "\n",
    "change sbram named cosmic_ray_veto_thresh_rate3 to cosmic_ray_veto_thresh_rate2\n",
    "\n",
    "change sbram named cosmic_ray_core_ant_veto_rate to cosmic_ray_core_and_veto_rate\n",
    "\n",
    "Make SBRAM address widths 5 not 6 and 1 not 2.\n",
    "\n",
    "Add 1 delay before data output of threshold counting blocks.\n",
    "\n",
    "Changes from v2.1 to v2.2\n",
    "The 1 delay before data output of threshold counting blocks made worse problems.  The relative delay between the data, addr, and we outputs was correct in v2.0 but the address was ahead of what it should have been. It didn't need to start incrementing earlier, it needed to start on an earlier value (wait at 32 between cycles instead of waiting at zero).  In v2.2, I subtract one from the address before the output port, and delay the data and we by one to account for the 1 delay in the subtract.\n",
    "\n",
    "Change from v2.2 to v2.3 -- make counter 28 bits again not 7 bits which was left from simulation"
   ]
  },
  {
   "cell_type": "code",
   "execution_count": 132,
   "metadata": {},
   "outputs": [],
   "source": [
    "import matplotlib.pyplot as plt\n",
    "import numpy as np\n",
    "import casperfpga\n",
    "import time\n",
    "from lwa_f import snap2_fengine\n",
    "import pandas as pd\n",
    "from cr_functions import *\n",
    "import struct\n",
    "import math"
   ]
  },
  {
   "cell_type": "markdown",
   "metadata": {},
   "source": [
    "# Testing Cosmic Ray System Version 2.3\n",
    "I'm putting version 2.3 on SNAP01 and keeping 2.1 on SNAP03.  Not comparing to 2.2 because only difference should be counter size."
   ]
  },
  {
   "cell_type": "markdown",
   "metadata": {},
   "source": [
    "### Load firmware"
   ]
  },
  {
   "cell_type": "code",
   "execution_count": 135,
   "metadata": {},
   "outputs": [
    {
     "name": "stdout",
     "output_type": "stream",
     "text": [
      "2021-10-05 21:00:30,595 - lwa_f.blocks.block:snap03 - WARNING -  - hostname (10.40.0.188) couldn't be turned into integer serial\n",
      "2021-10-05 21:00:30,917 - lwa_f.blocks.block:snap03 - INFO - adc - Detected FMC ADC board on port 0\n",
      "2021-10-05 21:00:31,251 - lwa_f.blocks.block:snap03 - INFO - adc - Detected FMC ADC board on port 1\n",
      "2021-10-05 21:00:31,267 - lwa_f.snap2_fengine:snap03 - INFO - Loading firmware /home/ubuntu/kplant/caltech-lwa/snap2_f_200msps_64i_4096c/outputs/snap2_f_200msps_64i_4096c_2021-09-30_1121.fpg to snap03\n",
      "2021-10-05 21:00:56,516 - lwa_f.blocks.block:snap03 - WARNING -  - hostname (10.40.0.188) couldn't be turned into integer serial\n",
      "2021-10-05 21:00:56,814 - lwa_f.blocks.block:snap03 - INFO - adc - Detected FMC ADC board on port 0\n",
      "2021-10-05 21:00:57,144 - lwa_f.blocks.block:snap03 - INFO - adc - Detected FMC ADC board on port 1\n",
      "2021-10-05 21:00:57,159 - lwa_f.snap2_fengine:snap03 - INFO - Initializing block (writable): fpga\n",
      "2021-10-05 21:00:57,160 - lwa_f.snap2_fengine:snap03 - INFO - Initializing block (writable): adc\n",
      "2021-10-05 21:00:57,164 - lwa_f.blocks.block:snap03 - INFO - adc - FMC 0 board 0: Setting clock source to 1\n",
      "2021-10-05 21:00:57,173 - lwa_f.blocks.block:snap03 - INFO - adc - FMC 0 board 1: Setting clock source to 1\n",
      "2021-10-05 21:00:57,181 - lwa_f.blocks.block:snap03 - INFO - adc - FMC 1 board 0: Setting clock source to 1\n",
      "2021-10-05 21:00:57,189 - lwa_f.blocks.block:snap03 - INFO - adc - FMC 1 board 1: Setting clock source to 1\n",
      "2021-10-05 21:01:06,749 - lwa_f.blocks.block:snap03 - INFO - adc - FMC 0 board 0 clock rates: [490690227, 98158335, 98170655, 0, 0]\n",
      "2021-10-05 21:01:06,750 - lwa_f.blocks.block:snap03 - INFO - adc - FMC 0 board 0: MMCM locked\n",
      "2021-10-05 21:01:07,760 - lwa_f.blocks.block:snap03 - INFO - adc - FMC 0 board 1 clock rates: [490738084, 98177817, 98204715, 98239635, 0]\n",
      "2021-10-05 21:01:08,769 - lwa_f.blocks.block:snap03 - INFO - adc - FMC 1 board 0 clock rates: [490629818, 98168430, 98175980, 0, 0]\n",
      "2021-10-05 21:01:08,770 - lwa_f.blocks.block:snap03 - INFO - adc - FMC 1 board 0: MMCM locked\n",
      "2021-10-05 21:01:09,780 - lwa_f.blocks.block:snap03 - INFO - adc - FMC 1 board 1 clock rates: [490626036, 98152995, 98177533, 98214813, 0]\n",
      "2021-10-05 21:01:11,037 - lwa_f.blocks.block:snap03 - INFO - adc - FMC 0 Scanning data delays\n"
     ]
    },
    {
     "name": "stderr",
     "output_type": "stream",
     "text": [
      "100% |########################################################################|\r"
     ]
    },
    {
     "name": "stdout",
     "output_type": "stream",
     "text": [
      "2021-10-05 21:01:19,494 - lwa_f.blocks.block:snap03 - INFO - adc - FMC 0 data lane delays:\n",
      "[[288, 280, 288, 272, 280, 280, 280, 280], [320, 312, 312, 304, 320, 304, 312, 320], [264, 264, 272, 264, 264, 272, 264, 280], [312, 320, 304, 304, 304, 304, 312, 304], [264, 264, 264, 264, 264, 264, 264, 264], [248, 248, 264, 248, 248, 248, 248, 248], [280, 256, 256, 264, 264, 280, 256, 264], [272, 272, 272, 272, 272, 288, 280, 272]]\n",
      "2021-10-05 21:01:19,494 - lwa_f.blocks.block:snap03 - INFO - adc - FMC 0 data lane slacks:\n",
      "[[40, 40, 40, 40, 48, 48, 48, 48], [40, 40, 40, 40, 48, 40, 40, 40], [40, 40, 40, 40, 40, 40, 40, 40], [40, 40, 32, 40, 32, 32, 40, 32], [40, 48, 48, 48, 48, 40, 48, 40], [40, 40, 40, 40, 40, 40, 40, 40], [40, 40, 40, 40, 40, 40, 40, 40], [40, 40, 40, 40, 40, 40, 32, 40]]\n",
      "2021-10-05 21:01:19,495 - lwa_f.blocks.block:snap03 - INFO - adc - Chip 0, Lane 0:    XXXXXXXXXXXXXXXXXXXXXXXXXXXXXXXX----|-----XXXXXXXXXXXXXXXXXXXXXX\n",
      "2021-10-05 21:01:19,496 - lwa_f.blocks.block:snap03 - INFO - adc - Chip 0, Lane 1:    XXXXXXXXXXXXXXXXXXXXXXXXXXXXXXX----|-----XXXXXXXXXXXXXXXXXXXXXXX\n",
      "2021-10-05 21:01:19,497 - lwa_f.blocks.block:snap03 - INFO - adc - Chip 0, Lane 2:    XXXXXXXXXXXXXXXXXXXXXXXXXXXXXXXX----|-----XXXXXXXXXXXXXXXXXXXXXX\n",
      "2021-10-05 21:01:19,497 - lwa_f.blocks.block:snap03 - INFO - adc - Chip 0, Lane 3:    XXXXXXXXXXXXXXXXXXXXXXXXXXXXXX----|-----XXXXXXXXXXXXXXXXXXXXXXXX\n",
      "2021-10-05 21:01:19,498 - lwa_f.blocks.block:snap03 - INFO - adc - Chip 0, Lane 4:    XXXXXXXXXXXXXXXXXXXXXXXXXXXXXX-----|-----XXXXXXXXXXXXXXXXXXXXXXX\n",
      "2021-10-05 21:01:19,499 - lwa_f.blocks.block:snap03 - INFO - adc - Chip 0, Lane 5:    XXXXXXXXXXXXXXXXXXXXXXXXXXXXXX-----|-----XXXXXXXXXXXXXXXXXXXXXXX\n",
      "2021-10-05 21:01:19,499 - lwa_f.blocks.block:snap03 - INFO - adc - Chip 0, Lane 6:    XXXXXXXXXXXXXXXXXXXXXXXXXXXXXX-----|-----XXXXXXXXXXXXXXXXXXXXXXX\n",
      "2021-10-05 21:01:19,500 - lwa_f.blocks.block:snap03 - INFO - adc - Chip 0, Lane 7:    XXXXXXXXXXXXXXXXXXXXXXXXXXXXXX-----|-----XXXXXXXXXXXXXXXXXXXXXXX\n",
      "2021-10-05 21:01:19,501 - lwa_f.blocks.block:snap03 - INFO - adc - Chip 1, Lane 0:    XXXXXXXXXXXXXXXXXXXXXXXXXXXXXXXXXXXX----|-----XXXXXXXXXXXXXXXXXX\n",
      "2021-10-05 21:01:19,502 - lwa_f.blocks.block:snap03 - INFO - adc - Chip 1, Lane 1:    XXXXXXXXXXXXXXXXXXXXXXXXXXXXXXXXXXX----|-----XXXXXXXXXXXXXXXXXXX\n",
      "2021-10-05 21:01:19,502 - lwa_f.blocks.block:snap03 - INFO - adc - Chip 1, Lane 2:    XXXXXXXXXXXXXXXXXXXXXXXXXXXXXXXXXXX----|-----XXXXXXXXXXXXXXXXXXX\n",
      "2021-10-05 21:01:19,503 - lwa_f.blocks.block:snap03 - INFO - adc - Chip 1, Lane 3:    XXXXXXXXXXXXXXXXXXXXXXXXXXXXXXXXXX----|----XXXXXXXXXXXXXXXXXXXXX\n",
      "2021-10-05 21:01:19,504 - lwa_f.blocks.block:snap03 - INFO - adc - Chip 1, Lane 4:    XXXXXXXXXXXXXXXXXXXXXXXXXXXXXXXXXXX-----|-----XXXXXXXXXXXXXXXXXX\n",
      "2021-10-05 21:01:19,504 - lwa_f.blocks.block:snap03 - INFO - adc - Chip 1, Lane 5:    XXXXXXXXXXXXXXXXXXXXXXXXXXXXXXXXXX----|-----XXXXXXXXXXXXXXXXXXXX\n",
      "2021-10-05 21:01:19,505 - lwa_f.blocks.block:snap03 - INFO - adc - Chip 1, Lane 6:    XXXXXXXXXXXXXXXXXXXXXXXXXXXXXXXXXXX----|----XXXXXXXXXXXXXXXXXXXX\n",
      "2021-10-05 21:01:19,506 - lwa_f.blocks.block:snap03 - INFO - adc - Chip 1, Lane 7:    XXXXXXXXXXXXXXXXXXXXXXXXXXXXXXXXXXXX----|----XXXXXXXXXXXXXXXXXXX\n",
      "2021-10-05 21:01:19,506 - lwa_f.blocks.block:snap03 - INFO - adc - Chip 2, Lane 0:    XXXXXXXXXXXXXXXXXXXXXXXXXXXXX----|-----XXXXXXXXXXXXXXXXXXXXXXXXX\n",
      "2021-10-05 21:01:19,507 - lwa_f.blocks.block:snap03 - INFO - adc - Chip 2, Lane 1:    XXXXXXXXXXXXXXXXXXXXXXXXXXXXX----|-----XXXXXXXXXXXXXXXXXXXXXXXXX\n",
      "2021-10-05 21:01:19,507 - lwa_f.blocks.block:snap03 - INFO - adc - Chip 2, Lane 2:    XXXXXXXXXXXXXXXXXXXXXXXXXXXXXX----|----XXXXXXXXXXXXXXXXXXXXXXXXX\n",
      "2021-10-05 21:01:19,508 - lwa_f.blocks.block:snap03 - INFO - adc - Chip 2, Lane 3:    XXXXXXXXXXXXXXXXXXXXXXXXXXXXX----|-----XXXXXXXXXXXXXXXXXXXXXXXXX\n",
      "2021-10-05 21:01:19,509 - lwa_f.blocks.block:snap03 - INFO - adc - Chip 2, Lane 4:    XXXXXXXXXXXXXXXXXXXXXXXXXXXXX----|-----XXXXXXXXXXXXXXXXXXXXXXXXX\n",
      "2021-10-05 21:01:19,509 - lwa_f.blocks.block:snap03 - INFO - adc - Chip 2, Lane 5:    XXXXXXXXXXXXXXXXXXXXXXXXXXXXXX----|----XXXXXXXXXXXXXXXXXXXXXXXXX\n",
      "2021-10-05 21:01:19,510 - lwa_f.blocks.block:snap03 - INFO - adc - Chip 2, Lane 6:    XXXXXXXXXXXXXXXXXXXXXXXXXXXXX----|-----XXXXXXXXXXXXXXXXXXXXXXXXX\n",
      "2021-10-05 21:01:19,510 - lwa_f.blocks.block:snap03 - INFO - adc - Chip 2, Lane 7:    XXXXXXXXXXXXXXXXXXXXXXXXXXXXXXX----|----XXXXXXXXXXXXXXXXXXXXXXXX\n",
      "2021-10-05 21:01:19,511 - lwa_f.blocks.block:snap03 - INFO - adc - Chip 3, Lane 0:    XXXXXXXXXXXXXXXXXXXXXXXXXXXXXXXXXXX----|----XXXXXXXXXXXXXXXXXXXX\n",
      "2021-10-05 21:01:19,511 - lwa_f.blocks.block:snap03 - INFO - adc - Chip 3, Lane 1:    XXXXXXXXXXXXXXXXXXXXXXXXXXXXXXXXXXXX----|----XXXXXXXXXXXXXXXXXXX\n",
      "2021-10-05 21:01:19,512 - lwa_f.blocks.block:snap03 - INFO - adc - Chip 3, Lane 2:    XXXXXXXXXXXXXXXXXXXXXXXXXXXXXXXXXXX---|----XXXXXXXXXXXXXXXXXXXXX\n",
      "2021-10-05 21:01:19,513 - lwa_f.blocks.block:snap03 - INFO - adc - Chip 3, Lane 3:    XXXXXXXXXXXXXXXXXXXXXXXXXXXXXXXXXX----|----XXXXXXXXXXXXXXXXXXXXX\n",
      "2021-10-05 21:01:19,513 - lwa_f.blocks.block:snap03 - INFO - adc - Chip 3, Lane 4:    XXXXXXXXXXXXXXXXXXXXXXXXXXXXXXXXXXX---|----XXXXXXXXXXXXXXXXXXXXX\n",
      "2021-10-05 21:01:19,514 - lwa_f.blocks.block:snap03 - INFO - adc - Chip 3, Lane 5:    XXXXXXXXXXXXXXXXXXXXXXXXXXXXXXXXXXX---|----XXXXXXXXXXXXXXXXXXXXX\n",
      "2021-10-05 21:01:19,514 - lwa_f.blocks.block:snap03 - INFO - adc - Chip 3, Lane 6:    XXXXXXXXXXXXXXXXXXXXXXXXXXXXXXXXXXX----|----XXXXXXXXXXXXXXXXXXXX\n",
      "2021-10-05 21:01:19,515 - lwa_f.blocks.block:snap03 - INFO - adc - Chip 3, Lane 7:    XXXXXXXXXXXXXXXXXXXXXXXXXXXXXXXXXXX---|----XXXXXXXXXXXXXXXXXXXXX\n",
      "2021-10-05 21:01:19,516 - lwa_f.blocks.block:snap03 - INFO - adc - Chip 4, Lane 0:    XXXXXXXXXXXXXXXXXXXXXXXXXXXXX----|-----XXXXXXXXXXXXXXXXXXXXXXXXX\n",
      "2021-10-05 21:01:19,516 - lwa_f.blocks.block:snap03 - INFO - adc - Chip 4, Lane 1:    XXXXXXXXXXXXXXXXXXXXXXXXXXXX-----|-----XXXXXXXXXXXXXXXXXXXXXXXXX\n",
      "2021-10-05 21:01:19,517 - lwa_f.blocks.block:snap03 - INFO - adc - Chip 4, Lane 2:    XXXXXXXXXXXXXXXXXXXXXXXXXXXX-----|-----XXXXXXXXXXXXXXXXXXXXXXXXX\n",
      "2021-10-05 21:01:19,517 - lwa_f.blocks.block:snap03 - INFO - adc - Chip 4, Lane 3:    XXXXXXXXXXXXXXXXXXXXXXXXXXXX-----|-----XXXXXXXXXXXXXXXXXXXXXXXXX\n",
      "2021-10-05 21:01:19,518 - lwa_f.blocks.block:snap03 - INFO - adc - Chip 4, Lane 4:    XXXXXXXXXXXXXXXXXXXXXXXXXXXX-----|-----XXXXXXXXXXXXXXXXXXXXXXXXX\n",
      "2021-10-05 21:01:19,519 - lwa_f.blocks.block:snap03 - INFO - adc - Chip 4, Lane 5:    XXXXXXXXXXXXXXXXXXXXXXXXXXXXX----|-----XXXXXXXXXXXXXXXXXXXXXXXXX\n",
      "2021-10-05 21:01:19,519 - lwa_f.blocks.block:snap03 - INFO - adc - Chip 4, Lane 6:    XXXXXXXXXXXXXXXXXXXXXXXXXXXX-----|-----XXXXXXXXXXXXXXXXXXXXXXXXX\n",
      "2021-10-05 21:01:19,520 - lwa_f.blocks.block:snap03 - INFO - adc - Chip 4, Lane 7:    XXXXXXXXXXXXXXXXXXXXXXXXXXXXX----|-----XXXXXXXXXXXXXXXXXXXXXXXXX\n",
      "2021-10-05 21:01:19,520 - lwa_f.blocks.block:snap03 - INFO - adc - Chip 5, Lane 0:    XXXXXXXXXXXXXXXXXXXXXXXXXXX----|-----XXXXXXXXXXXXXXXXXXXXXXXXXXX\n",
      "2021-10-05 21:01:19,521 - lwa_f.blocks.block:snap03 - INFO - adc - Chip 5, Lane 1:    XXXXXXXXXXXXXXXXXXXXXXXXXXX----|-----XXXXXXXXXXXXXXXXXXXXXXXXXXX\n",
      "2021-10-05 21:01:19,522 - lwa_f.blocks.block:snap03 - INFO - adc - Chip 5, Lane 2:    XXXXXXXXXXXXXXXXXXXXXXXXXXXXX----|-----XXXXXXXXXXXXXXXXXXXXXXXXX\n",
      "2021-10-05 21:01:19,522 - lwa_f.blocks.block:snap03 - INFO - adc - Chip 5, Lane 3:    XXXXXXXXXXXXXXXXXXXXXXXXXXX----|----XXXXXXXXXXXXXXXXXXXXXXXXXXXX\n",
      "2021-10-05 21:01:19,523 - lwa_f.blocks.block:snap03 - INFO - adc - Chip 5, Lane 4:    XXXXXXXXXXXXXXXXXXXXXXXXXXX----|-----XXXXXXXXXXXXXXXXXXXXXXXXXXX\n",
      "2021-10-05 21:01:19,523 - lwa_f.blocks.block:snap03 - INFO - adc - Chip 5, Lane 5:    XXXXXXXXXXXXXXXXXXXXXXXXXXX----|-----XXXXXXXXXXXXXXXXXXXXXXXXXXX\n",
      "2021-10-05 21:01:19,524 - lwa_f.blocks.block:snap03 - INFO - adc - Chip 5, Lane 6:    XXXXXXXXXXXXXXXXXXXXXXXXXXX----|-----XXXXXXXXXXXXXXXXXXXXXXXXXXX\n",
      "2021-10-05 21:01:19,525 - lwa_f.blocks.block:snap03 - INFO - adc - Chip 5, Lane 7:    XXXXXXXXXXXXXXXXXXXXXXXXXXX----|-----XXXXXXXXXXXXXXXXXXXXXXXXXXX\n",
      "2021-10-05 21:01:19,525 - lwa_f.blocks.block:snap03 - INFO - adc - Chip 6, Lane 0:    XXXXXXXXXXXXXXXXXXXXXXXXXXXXXXX----|-----XXXXXXXXXXXXXXXXXXXXXXX\n",
      "2021-10-05 21:01:19,526 - lwa_f.blocks.block:snap03 - INFO - adc - Chip 6, Lane 1:    XXXXXXXXXXXXXXXXXXXXXXXXXXXX----|----XXXXXXXXXXXXXXXXXXXXXXXXXXX\n"
     ]
    },
    {
     "name": "stdout",
     "output_type": "stream",
     "text": [
      "2021-10-05 21:01:19,526 - lwa_f.blocks.block:snap03 - INFO - adc - Chip 6, Lane 2:    XXXXXXXXXXXXXXXXXXXXXXXXXXXX----|-----XXXXXXXXXXXXXXXXXXXXXXXXXX\n",
      "2021-10-05 21:01:19,527 - lwa_f.blocks.block:snap03 - INFO - adc - Chip 6, Lane 3:    XXXXXXXXXXXXXXXXXXXXXXXXXXXXX----|----XXXXXXXXXXXXXXXXXXXXXXXXXX\n",
      "2021-10-05 21:01:19,527 - lwa_f.blocks.block:snap03 - INFO - adc - Chip 6, Lane 4:    XXXXXXXXXXXXXXXXXXXXXXXXXXXXX----|----XXXXXXXXXXXXXXXXXXXXXXXXXX\n",
      "2021-10-05 21:01:19,528 - lwa_f.blocks.block:snap03 - INFO - adc - Chip 6, Lane 5:    XXXXXXXXXXXXXXXXXXXXXXXXXXXXXXX----|----XXXXXXXXXXXXXXXXXXXXXXXX\n",
      "2021-10-05 21:01:19,529 - lwa_f.blocks.block:snap03 - INFO - adc - Chip 6, Lane 6:    XXXXXXXXXXXXXXXXXXXXXXXXXXXX----|-----XXXXXXXXXXXXXXXXXXXXXXXXXX\n"
     ]
    },
    {
     "name": "stderr",
     "output_type": "stream",
     "text": [
      "\n"
     ]
    },
    {
     "name": "stdout",
     "output_type": "stream",
     "text": [
      "2021-10-05 21:01:19,529 - lwa_f.blocks.block:snap03 - INFO - adc - Chip 6, Lane 7:    XXXXXXXXXXXXXXXXXXXXXXXXXXXXX----|----XXXXXXXXXXXXXXXXXXXXXXXXXX\n",
      "2021-10-05 21:01:19,530 - lwa_f.blocks.block:snap03 - INFO - adc - Chip 7, Lane 0:    XXXXXXXXXXXXXXXXXXXXXXXXXXXXXX----|-----XXXXXXXXXXXXXXXXXXXXXXXX\n",
      "2021-10-05 21:01:19,531 - lwa_f.blocks.block:snap03 - INFO - adc - Chip 7, Lane 1:    XXXXXXXXXXXXXXXXXXXXXXXXXXXXXX----|----XXXXXXXXXXXXXXXXXXXXXXXXX\n",
      "2021-10-05 21:01:19,531 - lwa_f.blocks.block:snap03 - INFO - adc - Chip 7, Lane 2:    XXXXXXXXXXXXXXXXXXXXXXXXXXXXXX----|----XXXXXXXXXXXXXXXXXXXXXXXXX\n",
      "2021-10-05 21:01:19,532 - lwa_f.blocks.block:snap03 - INFO - adc - Chip 7, Lane 3:    XXXXXXXXXXXXXXXXXXXXXXXXXXXXXX----|----XXXXXXXXXXXXXXXXXXXXXXXXX\n",
      "2021-10-05 21:01:19,532 - lwa_f.blocks.block:snap03 - INFO - adc - Chip 7, Lane 4:    XXXXXXXXXXXXXXXXXXXXXXXXXXXXXX----|----XXXXXXXXXXXXXXXXXXXXXXXXX\n",
      "2021-10-05 21:01:19,533 - lwa_f.blocks.block:snap03 - INFO - adc - Chip 7, Lane 5:    XXXXXXXXXXXXXXXXXXXXXXXXXXXXXXXX----|----XXXXXXXXXXXXXXXXXXXXXXX\n",
      "2021-10-05 21:01:19,534 - lwa_f.blocks.block:snap03 - INFO - adc - Chip 7, Lane 6:    XXXXXXXXXXXXXXXXXXXXXXXXXXXXXXXX---|----XXXXXXXXXXXXXXXXXXXXXXXX\n",
      "2021-10-05 21:01:19,534 - lwa_f.blocks.block:snap03 - INFO - adc - Chip 7, Lane 7:    XXXXXXXXXXXXXXXXXXXXXXXXXXXXXX----|----XXXXXXXXXXXXXXXXXXXXXXXXX\n",
      "2021-10-05 21:01:22,500 - lwa_f.blocks.block:snap03 - INFO - adc - FMC 1 Scanning data delays\n"
     ]
    },
    {
     "name": "stderr",
     "output_type": "stream",
     "text": [
      "100% |########################################################################|\r"
     ]
    },
    {
     "name": "stdout",
     "output_type": "stream",
     "text": [
      "2021-10-05 21:01:30,983 - lwa_f.blocks.block:snap03 - INFO - adc - FMC 1 data lane delays:\n",
      "[[272, 272, 272, 280, 264, 264, 264, 272], [272, 272, 264, 272, 272, 280, 272, 264], [264, 264, 272, 280, 264, 272, 264, 256], [272, 288, 272, 272, 272, 280, 272, 272], [288, 288, 296, 304, 296, 288, 288, 288], [240, 232, 232, 232, 240, 232, 240, 232], [264, 256, 256, 272, 256, 256, 256, 256], [280, 280, 280, 280, 280, 280, 280, 280]]\n",
      "2021-10-05 21:01:30,984 - lwa_f.blocks.block:snap03 - INFO - adc - FMC 1 data lane slacks:\n",
      "[[40, 40, 40, 40, 40, 40, 40, 40], [40, 40, 40, 40, 40, 32, 40, 32], [32, 32, 40, 32, 32, 32, 40, 32], [40, 40, 40, 40, 40, 40, 40, 40], [40, 40, 48, 40, 40, 40, 40, 40], [40, 40, 32, 40, 32, 32, 40, 40], [40, 40, 40, 40, 40, 40, 40, 40], [40, 40, 40, 40, 40, 40, 40, 40]]\n",
      "2021-10-05 21:01:30,985 - lwa_f.blocks.block:snap03 - INFO - adc - Chip 0, Lane 0:    XXXXXXXXXXXXXXXXXXXXXXXXXXXXXX----|----XXXXXXXXXXXXXXXXXXXXXXXXX\n",
      "2021-10-05 21:01:30,986 - lwa_f.blocks.block:snap03 - INFO - adc - Chip 0, Lane 1:    XXXXXXXXXXXXXXXXXXXXXXXXXXXXXX----|----XXXXXXXXXXXXXXXXXXXXXXXXX\n",
      "2021-10-05 21:01:30,986 - lwa_f.blocks.block:snap03 - INFO - adc - Chip 0, Lane 2:    XXXXXXXXXXXXXXXXXXXXXXXXXXXXXX----|----XXXXXXXXXXXXXXXXXXXXXXXXX\n",
      "2021-10-05 21:01:30,987 - lwa_f.blocks.block:snap03 - INFO - adc - Chip 0, Lane 3:    XXXXXXXXXXXXXXXXXXXXXXXXXXXXXXX----|----XXXXXXXXXXXXXXXXXXXXXXXX\n",
      "2021-10-05 21:01:30,988 - lwa_f.blocks.block:snap03 - INFO - adc - Chip 0, Lane 4:    XXXXXXXXXXXXXXXXXXXXXXXXXXXXX----|-----XXXXXXXXXXXXXXXXXXXXXXXXX\n",
      "2021-10-05 21:01:30,989 - lwa_f.blocks.block:snap03 - INFO - adc - Chip 0, Lane 5:    XXXXXXXXXXXXXXXXXXXXXXXXXXXXX----|-----XXXXXXXXXXXXXXXXXXXXXXXXX\n",
      "2021-10-05 21:01:30,990 - lwa_f.blocks.block:snap03 - INFO - adc - Chip 0, Lane 6:    XXXXXXXXXXXXXXXXXXXXXXXXXXXXX----|-----XXXXXXXXXXXXXXXXXXXXXXXXX\n",
      "2021-10-05 21:01:30,991 - lwa_f.blocks.block:snap03 - INFO - adc - Chip 0, Lane 7:    XXXXXXXXXXXXXXXXXXXXXXXXXXXXXX----|-----XXXXXXXXXXXXXXXXXXXXXXXX\n",
      "2021-10-05 21:01:30,991 - lwa_f.blocks.block:snap03 - INFO - adc - Chip 1, Lane 0:    XXXXXXXXXXXXXXXXXXXXXXXXXXXXXX----|----XXXXXXXXXXXXXXXXXXXXXXXXX\n",
      "2021-10-05 21:01:30,992 - lwa_f.blocks.block:snap03 - INFO - adc - Chip 1, Lane 1:    XXXXXXXXXXXXXXXXXXXXXXXXXXXXXX----|----XXXXXXXXXXXXXXXXXXXXXXXXX\n",
      "2021-10-05 21:01:30,993 - lwa_f.blocks.block:snap03 - INFO - adc - Chip 1, Lane 2:    XXXXXXXXXXXXXXXXXXXXXXXXXXXXX----|-----XXXXXXXXXXXXXXXXXXXXXXXXX\n",
      "2021-10-05 21:01:30,994 - lwa_f.blocks.block:snap03 - INFO - adc - Chip 1, Lane 3:    XXXXXXXXXXXXXXXXXXXXXXXXXXXXXX----|----XXXXXXXXXXXXXXXXXXXXXXXXX\n",
      "2021-10-05 21:01:30,995 - lwa_f.blocks.block:snap03 - INFO - adc - Chip 1, Lane 4:    XXXXXXXXXXXXXXXXXXXXXXXXXXXXXX----|----XXXXXXXXXXXXXXXXXXXXXXXXX\n",
      "2021-10-05 21:01:30,995 - lwa_f.blocks.block:snap03 - INFO - adc - Chip 1, Lane 5:    XXXXXXXXXXXXXXXXXXXXXXXXXXXXXXXX---|----XXXXXXXXXXXXXXXXXXXXXXXX\n",
      "2021-10-05 21:01:30,996 - lwa_f.blocks.block:snap03 - INFO - adc - Chip 1, Lane 6:    XXXXXXXXXXXXXXXXXXXXXXXXXXXXXX----|----XXXXXXXXXXXXXXXXXXXXXXXXX\n",
      "2021-10-05 21:01:30,996 - lwa_f.blocks.block:snap03 - INFO - adc - Chip 1, Lane 7:    XXXXXXXXXXXXXXXXXXXXXXXXXXXXXX---|----XXXXXXXXXXXXXXXXXXXXXXXXXX\n",
      "2021-10-05 21:01:30,997 - lwa_f.blocks.block:snap03 - INFO - adc - Chip 2, Lane 0:    XXXXXXXXXXXXXXXXXXXXXXXXXXXXXX---|---XXXXXXXXXXXXXXXXXXXXXXXXXXX\n",
      "2021-10-05 21:01:30,997 - lwa_f.blocks.block:snap03 - INFO - adc - Chip 2, Lane 1:    XXXXXXXXXXXXXXXXXXXXXXXXXXXXXX---|----XXXXXXXXXXXXXXXXXXXXXXXXXX\n",
      "2021-10-05 21:01:30,998 - lwa_f.blocks.block:snap03 - INFO - adc - Chip 2, Lane 2:    XXXXXXXXXXXXXXXXXXXXXXXXXXXXXX----|----XXXXXXXXXXXXXXXXXXXXXXXXX\n",
      "2021-10-05 21:01:30,999 - lwa_f.blocks.block:snap03 - INFO - adc - Chip 2, Lane 3:    XXXXXXXXXXXXXXXXXXXXXXXXXXXXXXXX---|----XXXXXXXXXXXXXXXXXXXXXXXX\n",
      "2021-10-05 21:01:30,999 - lwa_f.blocks.block:snap03 - INFO - adc - Chip 2, Lane 4:    XXXXXXXXXXXXXXXXXXXXXXXXXXXXXX---|----XXXXXXXXXXXXXXXXXXXXXXXXXX\n",
      "2021-10-05 21:01:31,000 - lwa_f.blocks.block:snap03 - INFO - adc - Chip 2, Lane 5:    XXXXXXXXXXXXXXXXXXXXXXXXXXXXXXX---|----XXXXXXXXXXXXXXXXXXXXXXXXX\n",
      "2021-10-05 21:01:31,000 - lwa_f.blocks.block:snap03 - INFO - adc - Chip 2, Lane 6:    XXXXXXXXXXXXXXXXXXXXXXXXXXXXX----|-----XXXXXXXXXXXXXXXXXXXXXXXXX\n",
      "2021-10-05 21:01:31,001 - lwa_f.blocks.block:snap03 - INFO - adc - Chip 2, Lane 7:    XXXXXXXXXXXXXXXXXXXXXXXXXXXXX---|----XXXXXXXXXXXXXXXXXXXXXXXXXXX\n",
      "2021-10-05 21:01:31,002 - lwa_f.blocks.block:snap03 - INFO - adc - Chip 3, Lane 0:    XXXXXXXXXXXXXXXXXXXXXXXXXXXXXX----|-----XXXXXXXXXXXXXXXXXXXXXXXX\n",
      "2021-10-05 21:01:31,002 - lwa_f.blocks.block:snap03 - INFO - adc - Chip 3, Lane 1:    XXXXXXXXXXXXXXXXXXXXXXXXXXXXXXXX----|----XXXXXXXXXXXXXXXXXXXXXXX\n",
      "2021-10-05 21:01:31,003 - lwa_f.blocks.block:snap03 - INFO - adc - Chip 3, Lane 2:    XXXXXXXXXXXXXXXXXXXXXXXXXXXXXX----|-----XXXXXXXXXXXXXXXXXXXXXXXX\n",
      "2021-10-05 21:01:31,003 - lwa_f.blocks.block:snap03 - INFO - adc - Chip 3, Lane 3:    XXXXXXXXXXXXXXXXXXXXXXXXXXXXXX----|-----XXXXXXXXXXXXXXXXXXXXXXXX\n",
      "2021-10-05 21:01:31,004 - lwa_f.blocks.block:snap03 - INFO - adc - Chip 3, Lane 4:    XXXXXXXXXXXXXXXXXXXXXXXXXXXXXX----|-----XXXXXXXXXXXXXXXXXXXXXXXX\n",
      "2021-10-05 21:01:31,005 - lwa_f.blocks.block:snap03 - INFO - adc - Chip 3, Lane 5:    XXXXXXXXXXXXXXXXXXXXXXXXXXXXXXX----|----XXXXXXXXXXXXXXXXXXXXXXXX\n",
      "2021-10-05 21:01:31,005 - lwa_f.blocks.block:snap03 - INFO - adc - Chip 3, Lane 6:    XXXXXXXXXXXXXXXXXXXXXXXXXXXXXX----|-----XXXXXXXXXXXXXXXXXXXXXXXX\n",
      "2021-10-05 21:01:31,006 - lwa_f.blocks.block:snap03 - INFO - adc - Chip 3, Lane 7:    XXXXXXXXXXXXXXXXXXXXXXXXXXXXXX----|-----XXXXXXXXXXXXXXXXXXXXXXXX\n",
      "2021-10-05 21:01:31,006 - lwa_f.blocks.block:snap03 - INFO - adc - Chip 4, Lane 0:    XXXXXXXXXXXXXXXXXXXXXXXXXXXXXXXX----|-----XXXXXXXXXXXXXXXXXXXXXX\n",
      "2021-10-05 21:01:31,007 - lwa_f.blocks.block:snap03 - INFO - adc - Chip 4, Lane 1:    XXXXXXXXXXXXXXXXXXXXXXXXXXXXXXXX----|-----XXXXXXXXXXXXXXXXXXXXXX\n",
      "2021-10-05 21:01:31,007 - lwa_f.blocks.block:snap03 - INFO - adc - Chip 4, Lane 2:    XXXXXXXXXXXXXXXXXXXXXXXXXXXXXXXX-----|-----XXXXXXXXXXXXXXXXXXXXX\n",
      "2021-10-05 21:01:31,008 - lwa_f.blocks.block:snap03 - INFO - adc - Chip 4, Lane 3:    XXXXXXXXXXXXXXXXXXXXXXXXXXXXXXXXXX----|-----XXXXXXXXXXXXXXXXXXXX\n",
      "2021-10-05 21:01:31,009 - lwa_f.blocks.block:snap03 - INFO - adc - Chip 4, Lane 4:    XXXXXXXXXXXXXXXXXXXXXXXXXXXXXXXXX----|-----XXXXXXXXXXXXXXXXXXXXX\n",
      "2021-10-05 21:01:31,009 - lwa_f.blocks.block:snap03 - INFO - adc - Chip 4, Lane 5:    XXXXXXXXXXXXXXXXXXXXXXXXXXXXXXXX----|-----XXXXXXXXXXXXXXXXXXXXXX\n",
      "2021-10-05 21:01:31,010 - lwa_f.blocks.block:snap03 - INFO - adc - Chip 4, Lane 6:    XXXXXXXXXXXXXXXXXXXXXXXXXXXXXXXX----|-----XXXXXXXXXXXXXXXXXXXXXX\n",
      "2021-10-05 21:01:31,010 - lwa_f.blocks.block:snap03 - INFO - adc - Chip 4, Lane 7:    XXXXXXXXXXXXXXXXXXXXXXXXXXXXXXXX----|-----XXXXXXXXXXXXXXXXXXXXXX\n",
      "2021-10-05 21:01:31,011 - lwa_f.blocks.block:snap03 - INFO - adc - Chip 5, Lane 0:    XXXXXXXXXXXXXXXXXXXXXXXXXX----|----XXXXXXXXXXXXXXXXXXXXXXXXXXXXX\n",
      "2021-10-05 21:01:31,012 - lwa_f.blocks.block:snap03 - INFO - adc - Chip 5, Lane 1:    XXXXXXXXXXXXXXXXXXXXXXXXX----|-----XXXXXXXXXXXXXXXXXXXXXXXXXXXXX\n",
      "2021-10-05 21:01:31,012 - lwa_f.blocks.block:snap03 - INFO - adc - Chip 5, Lane 2:    XXXXXXXXXXXXXXXXXXXXXXXXXX---|----XXXXXXXXXXXXXXXXXXXXXXXXXXXXXX\n",
      "2021-10-05 21:01:31,013 - lwa_f.blocks.block:snap03 - INFO - adc - Chip 5, Lane 3:    XXXXXXXXXXXXXXXXXXXXXXXXX----|----XXXXXXXXXXXXXXXXXXXXXXXXXXXXXX\n",
      "2021-10-05 21:01:31,013 - lwa_f.blocks.block:snap03 - INFO - adc - Chip 5, Lane 4:    XXXXXXXXXXXXXXXXXXXXXXXXXXX---|---XXXXXXXXXXXXXXXXXXXXXXXXXXXXXX\n",
      "2021-10-05 21:01:31,014 - lwa_f.blocks.block:snap03 - INFO - adc - Chip 5, Lane 5:    XXXXXXXXXXXXXXXXXXXXXXXXXX---|----XXXXXXXXXXXXXXXXXXXXXXXXXXXXXX\n",
      "2021-10-05 21:01:31,015 - lwa_f.blocks.block:snap03 - INFO - adc - Chip 5, Lane 6:    XXXXXXXXXXXXXXXXXXXXXXXXXX----|----XXXXXXXXXXXXXXXXXXXXXXXXXXXXX\n",
      "2021-10-05 21:01:31,015 - lwa_f.blocks.block:snap03 - INFO - adc - Chip 5, Lane 7:    XXXXXXXXXXXXXXXXXXXXXXXXX----|----XXXXXXXXXXXXXXXXXXXXXXXXXXXXXX\n",
      "2021-10-05 21:01:31,016 - lwa_f.blocks.block:snap03 - INFO - adc - Chip 6, Lane 0:    XXXXXXXXXXXXXXXXXXXXXXXXXXXXX----|-----XXXXXXXXXXXXXXXXXXXXXXXXX\n",
      "2021-10-05 21:01:31,016 - lwa_f.blocks.block:snap03 - INFO - adc - Chip 6, Lane 1:    XXXXXXXXXXXXXXXXXXXXXXXXXXXX----|----XXXXXXXXXXXXXXXXXXXXXXXXXXX\n"
     ]
    },
    {
     "name": "stdout",
     "output_type": "stream",
     "text": [
      "2021-10-05 21:01:31,017 - lwa_f.blocks.block:snap03 - INFO - adc - Chip 6, Lane 2:    XXXXXXXXXXXXXXXXXXXXXXXXXXXX----|----XXXXXXXXXXXXXXXXXXXXXXXXXXX\n",
      "2021-10-05 21:01:31,018 - lwa_f.blocks.block:snap03 - INFO - adc - Chip 6, Lane 3:    XXXXXXXXXXXXXXXXXXXXXXXXXXXXXX----|----XXXXXXXXXXXXXXXXXXXXXXXXX\n",
      "2021-10-05 21:01:31,018 - lwa_f.blocks.block:snap03 - INFO - adc - Chip 6, Lane 4:    XXXXXXXXXXXXXXXXXXXXXXXXXXXX----|----XXXXXXXXXXXXXXXXXXXXXXXXXXX\n",
      "2021-10-05 21:01:31,019 - lwa_f.blocks.block:snap03 - INFO - adc - Chip 6, Lane 5:    XXXXXXXXXXXXXXXXXXXXXXXXXXXX----|----XXXXXXXXXXXXXXXXXXXXXXXXXXX\n"
     ]
    },
    {
     "name": "stderr",
     "output_type": "stream",
     "text": [
      "\n"
     ]
    },
    {
     "name": "stdout",
     "output_type": "stream",
     "text": [
      "2021-10-05 21:01:31,019 - lwa_f.blocks.block:snap03 - INFO - adc - Chip 6, Lane 6:    XXXXXXXXXXXXXXXXXXXXXXXXXXXX----|----XXXXXXXXXXXXXXXXXXXXXXXXXXX\n",
      "2021-10-05 21:01:31,020 - lwa_f.blocks.block:snap03 - INFO - adc - Chip 6, Lane 7:    XXXXXXXXXXXXXXXXXXXXXXXXXXXX----|-----XXXXXXXXXXXXXXXXXXXXXXXXXX\n",
      "2021-10-05 21:01:31,021 - lwa_f.blocks.block:snap03 - INFO - adc - Chip 7, Lane 0:    XXXXXXXXXXXXXXXXXXXXXXXXXXXXXXX----|----XXXXXXXXXXXXXXXXXXXXXXXX\n",
      "2021-10-05 21:01:31,021 - lwa_f.blocks.block:snap03 - INFO - adc - Chip 7, Lane 1:    XXXXXXXXXXXXXXXXXXXXXXXXXXXXXXX----|----XXXXXXXXXXXXXXXXXXXXXXXX\n",
      "2021-10-05 21:01:31,022 - lwa_f.blocks.block:snap03 - INFO - adc - Chip 7, Lane 2:    XXXXXXXXXXXXXXXXXXXXXXXXXXXXXXX----|----XXXXXXXXXXXXXXXXXXXXXXXX\n",
      "2021-10-05 21:01:31,023 - lwa_f.blocks.block:snap03 - INFO - adc - Chip 7, Lane 3:    XXXXXXXXXXXXXXXXXXXXXXXXXXXXXXX----|----XXXXXXXXXXXXXXXXXXXXXXXX\n",
      "2021-10-05 21:01:31,023 - lwa_f.blocks.block:snap03 - INFO - adc - Chip 7, Lane 4:    XXXXXXXXXXXXXXXXXXXXXXXXXXXXXXX----|----XXXXXXXXXXXXXXXXXXXXXXXX\n",
      "2021-10-05 21:01:31,024 - lwa_f.blocks.block:snap03 - INFO - adc - Chip 7, Lane 5:    XXXXXXXXXXXXXXXXXXXXXXXXXXXXXXX----|----XXXXXXXXXXXXXXXXXXXXXXXX\n",
      "2021-10-05 21:01:31,024 - lwa_f.blocks.block:snap03 - INFO - adc - Chip 7, Lane 6:    XXXXXXXXXXXXXXXXXXXXXXXXXXXXXXX----|----XXXXXXXXXXXXXXXXXXXXXXXX\n",
      "2021-10-05 21:01:31,025 - lwa_f.blocks.block:snap03 - INFO - adc - Chip 7, Lane 7:    XXXXXXXXXXXXXXXXXXXXXXXXXXXXXXX----|----XXXXXXXXXXXXXXXXXXXXXXXX\n",
      "2021-10-05 21:01:35,264 - lwa_f.snap2_fengine:snap03 - INFO - Initializing block (writable): sync\n",
      "2021-10-05 21:01:35,281 - lwa_f.snap2_fengine:snap03 - INFO - Initializing block (writable): noise\n",
      "2021-10-05 21:01:35,289 - lwa_f.snap2_fengine:snap03 - INFO - Initializing block (writable): input\n",
      "2021-10-05 21:01:35,510 - lwa_f.snap2_fengine:snap03 - INFO - Initializing block (writable): delay\n",
      "2021-10-05 21:01:36,127 - lwa_f.snap2_fengine:snap03 - INFO - Initializing block (writable): pfb\n",
      "2021-10-05 21:01:36,144 - lwa_f.snap2_fengine:snap03 - INFO - Initializing block (writable): eq\n",
      "2021-10-05 21:01:36,545 - lwa_f.snap2_fengine:snap03 - INFO - Initializing block (writable): eqtvg\n",
      "2021-10-05 21:01:37,620 - lwa_f.snap2_fengine:snap03 - INFO - Initializing block (writable): reorder\n",
      "2021-10-05 21:01:37,638 - lwa_f.snap2_fengine:snap03 - INFO - Initializing block (writable): packetizer\n",
      "2021-10-05 21:01:37,639 - lwa_f.snap2_fengine:snap03 - INFO - Initializing block (writable): eth\n",
      "2021-10-05 21:01:37,649 - lwa_f.snap2_fengine:snap03 - INFO - Initializing block (writable): autocorr\n",
      "2021-10-05 21:01:37,652 - lwa_f.snap2_fengine:snap03 - INFO - Initializing block (writable): corr\n",
      "2021-10-05 21:01:37,655 - lwa_f.snap2_fengine:snap03 - INFO - Initializing block (writable): powermon\n",
      "2021-10-05 21:01:37,910 - lwa_f.snap2_fengine:snap03 - INFO - Performing software global reset\n",
      "2021-10-05 21:01:38,296 - lwa_f.blocks.block:snap01 - WARNING -  - hostname (10.40.0.157) couldn't be turned into integer serial\n",
      "2021-10-05 21:01:38,587 - lwa_f.blocks.block:snap01 - INFO - adc - Detected FMC ADC board on port 0\n",
      "2021-10-05 21:01:38,874 - lwa_f.blocks.block:snap01 - INFO - adc - Detected FMC ADC board on port 1\n",
      "2021-10-05 21:01:38,889 - lwa_f.snap2_fengine:snap01 - INFO - Loading firmware /home/ubuntu/kplant/caltech-lwa/snap2_f_200msps_64i_4096c/outputs/snap2_f_200msps_64i_4096c_2021-10-04_1837.fpg to snap01\n"
     ]
    },
    {
     "name": "stderr",
     "output_type": "stream",
     "text": [
      "100% |########################################################################|\n"
     ]
    },
    {
     "name": "stdout",
     "output_type": "stream",
     "text": [
      "2021-10-05 21:06:52,699 - lwa_f.blocks.block:snap01 - WARNING -  - hostname (10.40.0.157) couldn't be turned into integer serial\n",
      "2021-10-05 21:06:52,993 - lwa_f.blocks.block:snap01 - INFO - adc - Detected FMC ADC board on port 0\n",
      "2021-10-05 21:06:53,274 - lwa_f.blocks.block:snap01 - INFO - adc - Detected FMC ADC board on port 1\n",
      "2021-10-05 21:06:53,287 - lwa_f.snap2_fengine:snap01 - INFO - Initializing block (writable): fpga\n",
      "2021-10-05 21:06:53,288 - lwa_f.snap2_fengine:snap01 - INFO - Initializing block (writable): adc\n",
      "2021-10-05 21:06:53,291 - lwa_f.blocks.block:snap01 - INFO - adc - FMC 0 board 0: Setting clock source to 1\n",
      "2021-10-05 21:06:53,298 - lwa_f.blocks.block:snap01 - INFO - adc - FMC 0 board 1: Setting clock source to 1\n",
      "2021-10-05 21:06:53,306 - lwa_f.blocks.block:snap01 - INFO - adc - FMC 1 board 0: Setting clock source to 1\n",
      "2021-10-05 21:06:53,313 - lwa_f.blocks.block:snap01 - INFO - adc - FMC 1 board 1: Setting clock source to 1\n",
      "2021-10-05 21:07:02,451 - lwa_f.blocks.block:snap01 - INFO - adc - FMC 0 board 0 clock rates: [490710681, 98186966, 98230375, 0, 0]\n",
      "2021-10-05 21:07:02,453 - lwa_f.blocks.block:snap01 - INFO - adc - FMC 0 board 0: MMCM locked\n",
      "2021-10-05 21:07:03,463 - lwa_f.blocks.block:snap01 - INFO - adc - FMC 0 board 1 clock rates: [490708998, 98199368, 98240896, 98287140, 0]\n",
      "2021-10-05 21:07:04,474 - lwa_f.blocks.block:snap01 - INFO - adc - FMC 1 board 0 clock rates: [490754085, 98193286, 98258405, 0, 0]\n",
      "2021-10-05 21:07:04,475 - lwa_f.blocks.block:snap01 - INFO - adc - FMC 1 board 0: MMCM locked\n",
      "2021-10-05 21:07:05,485 - lwa_f.blocks.block:snap01 - INFO - adc - FMC 1 board 1 clock rates: [490686335, 98192004, 98244858, 98286853, 0]\n",
      "2021-10-05 21:07:06,761 - lwa_f.blocks.block:snap01 - INFO - adc - FMC 0 Scanning data delays\n"
     ]
    },
    {
     "name": "stderr",
     "output_type": "stream",
     "text": [
      "100% |########################################################################|\r"
     ]
    },
    {
     "name": "stdout",
     "output_type": "stream",
     "text": [
      "2021-10-05 21:07:15,039 - lwa_f.blocks.block:snap01 - INFO - adc - Bitslipping board 0 because delay end too small\n",
      "2021-10-05 21:07:15,042 - lwa_f.blocks.block:snap01 - INFO - adc - Bitslipping board 1 because delay end too small\n"
     ]
    },
    {
     "name": "stderr",
     "output_type": "stream",
     "text": [
      "\n"
     ]
    },
    {
     "name": "stdout",
     "output_type": "stream",
     "text": [
      "2021-10-05 21:07:16,329 - lwa_f.blocks.block:snap01 - INFO - adc - FMC 0 Scanning data delays\n"
     ]
    },
    {
     "name": "stderr",
     "output_type": "stream",
     "text": [
      "100% |########################################################################|\r"
     ]
    },
    {
     "name": "stdout",
     "output_type": "stream",
     "text": [
      "2021-10-05 21:07:24,721 - lwa_f.blocks.block:snap01 - INFO - adc - FMC 0 data lane delays:\n",
      "[[184, 184, 184, 176, 176, 176, 176, 176], [176, 168, 168, 160, 168, 168, 160, 160], [160, 160, 152, 152, 152, 152, 152, 168], [176, 176, 160, 160, 168, 160, 160, 160], [160, 152, 160, 160, 160, 160, 160, 160], [152, 152, 168, 152, 152, 152, 152, 152], [184, 160, 168, 176, 176, 176, 160, 160], [224, 224, 224, 224, 224, 232, 240, 216]]\n",
      "2021-10-05 21:07:24,722 - lwa_f.blocks.block:snap01 - INFO - adc - FMC 0 data lane slacks:\n",
      "[[32, 40, 32, 40, 32, 32, 40, 40], [32, 32, 32, 40, 32, 32, 32, 32], [40, 40, 32, 32, 32, 32, 32, 32], [40, 32, 32, 32, 32, 32, 32, 32], [40, 40, 40, 40, 40, 40, 40, 40], [40, 40, 40, 40, 40, 40, 40, 40], [40, 32, 40, 40, 40, 32, 32, 32], [40, 40, 40, 40, 40, 40, 40, 32]]\n",
      "2021-10-05 21:07:24,722 - lwa_f.blocks.block:snap01 - INFO - adc - Chip 0, Lane 0:    XXXXXXXXXXXXXXXXXXXX---|----XXXXXXXXXXXXXXXXXXXXXXXXXXXXXXXXXXXX\n",
      "2021-10-05 21:07:24,723 - lwa_f.blocks.block:snap01 - INFO - adc - Chip 0, Lane 1:    XXXXXXXXXXXXXXXXXXX----|----XXXXXXXXXXXXXXXXXXXXXXXXXXXXXXXXXXXX\n",
      "2021-10-05 21:07:24,724 - lwa_f.blocks.block:snap01 - INFO - adc - Chip 0, Lane 2:    XXXXXXXXXXXXXXXXXXXX---|----XXXXXXXXXXXXXXXXXXXXXXXXXXXXXXXXXXXX\n",
      "2021-10-05 21:07:24,725 - lwa_f.blocks.block:snap01 - INFO - adc - Chip 0, Lane 3:    XXXXXXXXXXXXXXXXXX----|----XXXXXXXXXXXXXXXXXXXXXXXXXXXXXXXXXXXXX\n",
      "2021-10-05 21:07:24,725 - lwa_f.blocks.block:snap01 - INFO - adc - Chip 0, Lane 4:    XXXXXXXXXXXXXXXXXXX---|----XXXXXXXXXXXXXXXXXXXXXXXXXXXXXXXXXXXXX\n",
      "2021-10-05 21:07:24,726 - lwa_f.blocks.block:snap01 - INFO - adc - Chip 0, Lane 5:    XXXXXXXXXXXXXXXXXXX---|----XXXXXXXXXXXXXXXXXXXXXXXXXXXXXXXXXXXXX\n",
      "2021-10-05 21:07:24,727 - lwa_f.blocks.block:snap01 - INFO - adc - Chip 0, Lane 6:    XXXXXXXXXXXXXXXXXX----|----XXXXXXXXXXXXXXXXXXXXXXXXXXXXXXXXXXXXX\n",
      "2021-10-05 21:07:24,727 - lwa_f.blocks.block:snap01 - INFO - adc - Chip 0, Lane 7:    XXXXXXXXXXXXXXXXXX----|----XXXXXXXXXXXXXXXXXXXXXXXXXXXXXXXXXXXXX\n",
      "2021-10-05 21:07:24,728 - lwa_f.blocks.block:snap01 - INFO - adc - Chip 1, Lane 0:    XXXXXXXXXXXXXXXXXXX---|----XXXXXXXXXXXXXXXXXXXXXXXXXXXXXXXXXXXXX\n",
      "2021-10-05 21:07:24,728 - lwa_f.blocks.block:snap01 - INFO - adc - Chip 1, Lane 1:    XXXXXXXXXXXXXXXXXX---|----XXXXXXXXXXXXXXXXXXXXXXXXXXXXXXXXXXXXXX\n",
      "2021-10-05 21:07:24,729 - lwa_f.blocks.block:snap01 - INFO - adc - Chip 1, Lane 2:    XXXXXXXXXXXXXXXXXX---|---XXXXXXXXXXXXXXXXXXXXXXXXXXXXXXXXXXXXXXX\n",
      "2021-10-05 21:07:24,730 - lwa_f.blocks.block:snap01 - INFO - adc - Chip 1, Lane 3:    XXXXXXXXXXXXXXXX----|----XXXXXXXXXXXXXXXXXXXXXXXXXXXXXXXXXXXXXXX\n",
      "2021-10-05 21:07:24,730 - lwa_f.blocks.block:snap01 - INFO - adc - Chip 1, Lane 4:    XXXXXXXXXXXXXXXXXX---|---XXXXXXXXXXXXXXXXXXXXXXXXXXXXXXXXXXXXXXX\n",
      "2021-10-05 21:07:24,731 - lwa_f.blocks.block:snap01 - INFO - adc - Chip 1, Lane 5:    XXXXXXXXXXXXXXXXXX---|---XXXXXXXXXXXXXXXXXXXXXXXXXXXXXXXXXXXXXXX\n",
      "2021-10-05 21:07:24,731 - lwa_f.blocks.block:snap01 - INFO - adc - Chip 1, Lane 6:    XXXXXXXXXXXXXXXXX---|----XXXXXXXXXXXXXXXXXXXXXXXXXXXXXXXXXXXXXXX\n",
      "2021-10-05 21:07:24,732 - lwa_f.blocks.block:snap01 - INFO - adc - Chip 1, Lane 7:    XXXXXXXXXXXXXXXXX---|----XXXXXXXXXXXXXXXXXXXXXXXXXXXXXXXXXXXXXXX\n",
      "2021-10-05 21:07:24,732 - lwa_f.blocks.block:snap01 - INFO - adc - Chip 2, Lane 0:    XXXXXXXXXXXXXXXX----|----XXXXXXXXXXXXXXXXXXXXXXXXXXXXXXXXXXXXXXX\n",
      "2021-10-05 21:07:24,733 - lwa_f.blocks.block:snap01 - INFO - adc - Chip 2, Lane 1:    XXXXXXXXXXXXXXXX----|----XXXXXXXXXXXXXXXXXXXXXXXXXXXXXXXXXXXXXXX\n",
      "2021-10-05 21:07:24,733 - lwa_f.blocks.block:snap01 - INFO - adc - Chip 2, Lane 2:    XXXXXXXXXXXXXXXX---|----XXXXXXXXXXXXXXXXXXXXXXXXXXXXXXXXXXXXXXXX\n",
      "2021-10-05 21:07:24,734 - lwa_f.blocks.block:snap01 - INFO - adc - Chip 2, Lane 3:    XXXXXXXXXXXXXXXX---|----XXXXXXXXXXXXXXXXXXXXXXXXXXXXXXXXXXXXXXXX\n",
      "2021-10-05 21:07:24,735 - lwa_f.blocks.block:snap01 - INFO - adc - Chip 2, Lane 4:    XXXXXXXXXXXXXXXX---|----XXXXXXXXXXXXXXXXXXXXXXXXXXXXXXXXXXXXXXXX\n",
      "2021-10-05 21:07:24,735 - lwa_f.blocks.block:snap01 - INFO - adc - Chip 2, Lane 5:    XXXXXXXXXXXXXXXX---|----XXXXXXXXXXXXXXXXXXXXXXXXXXXXXXXXXXXXXXXX\n",
      "2021-10-05 21:07:24,736 - lwa_f.blocks.block:snap01 - INFO - adc - Chip 2, Lane 6:    XXXXXXXXXXXXXXXX---|----XXXXXXXXXXXXXXXXXXXXXXXXXXXXXXXXXXXXXXXX\n",
      "2021-10-05 21:07:24,736 - lwa_f.blocks.block:snap01 - INFO - adc - Chip 2, Lane 7:    XXXXXXXXXXXXXXXXXX---|---XXXXXXXXXXXXXXXXXXXXXXXXXXXXXXXXXXXXXXX\n",
      "2021-10-05 21:07:24,737 - lwa_f.blocks.block:snap01 - INFO - adc - Chip 3, Lane 0:    XXXXXXXXXXXXXXXXXX----|----XXXXXXXXXXXXXXXXXXXXXXXXXXXXXXXXXXXXX\n",
      "2021-10-05 21:07:24,737 - lwa_f.blocks.block:snap01 - INFO - adc - Chip 3, Lane 1:    XXXXXXXXXXXXXXXXXXX---|----XXXXXXXXXXXXXXXXXXXXXXXXXXXXXXXXXXXXX\n",
      "2021-10-05 21:07:24,738 - lwa_f.blocks.block:snap01 - INFO - adc - Chip 3, Lane 2:    XXXXXXXXXXXXXXXXX---|----XXXXXXXXXXXXXXXXXXXXXXXXXXXXXXXXXXXXXXX\n",
      "2021-10-05 21:07:24,738 - lwa_f.blocks.block:snap01 - INFO - adc - Chip 3, Lane 3:    XXXXXXXXXXXXXXXXX---|----XXXXXXXXXXXXXXXXXXXXXXXXXXXXXXXXXXXXXXX\n",
      "2021-10-05 21:07:24,739 - lwa_f.blocks.block:snap01 - INFO - adc - Chip 3, Lane 4:    XXXXXXXXXXXXXXXXXX---|---XXXXXXXXXXXXXXXXXXXXXXXXXXXXXXXXXXXXXXX\n",
      "2021-10-05 21:07:24,740 - lwa_f.blocks.block:snap01 - INFO - adc - Chip 3, Lane 5:    XXXXXXXXXXXXXXXXX---|----XXXXXXXXXXXXXXXXXXXXXXXXXXXXXXXXXXXXXXX\n",
      "2021-10-05 21:07:24,740 - lwa_f.blocks.block:snap01 - INFO - adc - Chip 3, Lane 6:    XXXXXXXXXXXXXXXXX---|----XXXXXXXXXXXXXXXXXXXXXXXXXXXXXXXXXXXXXXX\n",
      "2021-10-05 21:07:24,741 - lwa_f.blocks.block:snap01 - INFO - adc - Chip 3, Lane 7:    XXXXXXXXXXXXXXXXX---|----XXXXXXXXXXXXXXXXXXXXXXXXXXXXXXXXXXXXXXX\n",
      "2021-10-05 21:07:24,741 - lwa_f.blocks.block:snap01 - INFO - adc - Chip 4, Lane 0:    XXXXXXXXXXXXXXXX----|----XXXXXXXXXXXXXXXXXXXXXXXXXXXXXXXXXXXXXXX\n",
      "2021-10-05 21:07:24,742 - lwa_f.blocks.block:snap01 - INFO - adc - Chip 4, Lane 1:    XXXXXXXXXXXXXXX----|----XXXXXXXXXXXXXXXXXXXXXXXXXXXXXXXXXXXXXXXX\n",
      "2021-10-05 21:07:24,742 - lwa_f.blocks.block:snap01 - INFO - adc - Chip 4, Lane 2:    XXXXXXXXXXXXXXXX----|----XXXXXXXXXXXXXXXXXXXXXXXXXXXXXXXXXXXXXXX\n",
      "2021-10-05 21:07:24,743 - lwa_f.blocks.block:snap01 - INFO - adc - Chip 4, Lane 3:    XXXXXXXXXXXXXXXX----|----XXXXXXXXXXXXXXXXXXXXXXXXXXXXXXXXXXXXXXX\n",
      "2021-10-05 21:07:24,743 - lwa_f.blocks.block:snap01 - INFO - adc - Chip 4, Lane 4:    XXXXXXXXXXXXXXXX----|----XXXXXXXXXXXXXXXXXXXXXXXXXXXXXXXXXXXXXXX\n",
      "2021-10-05 21:07:24,744 - lwa_f.blocks.block:snap01 - INFO - adc - Chip 4, Lane 5:    XXXXXXXXXXXXXXXX----|----XXXXXXXXXXXXXXXXXXXXXXXXXXXXXXXXXXXXXXX\n",
      "2021-10-05 21:07:24,745 - lwa_f.blocks.block:snap01 - INFO - adc - Chip 4, Lane 6:    XXXXXXXXXXXXXXXX----|----XXXXXXXXXXXXXXXXXXXXXXXXXXXXXXXXXXXXXXX\n",
      "2021-10-05 21:07:24,745 - lwa_f.blocks.block:snap01 - INFO - adc - Chip 4, Lane 7:    XXXXXXXXXXXXXXXX----|----XXXXXXXXXXXXXXXXXXXXXXXXXXXXXXXXXXXXXXX\n",
      "2021-10-05 21:07:24,746 - lwa_f.blocks.block:snap01 - INFO - adc - Chip 5, Lane 0:    XXXXXXXXXXXXXXX----|-----XXXXXXXXXXXXXXXXXXXXXXXXXXXXXXXXXXXXXXX\n",
      "2021-10-05 21:07:24,746 - lwa_f.blocks.block:snap01 - INFO - adc - Chip 5, Lane 1:    XXXXXXXXXXXXXXX----|-----XXXXXXXXXXXXXXXXXXXXXXXXXXXXXXXXXXXXXXX\n",
      "2021-10-05 21:07:24,747 - lwa_f.blocks.block:snap01 - INFO - adc - Chip 5, Lane 2:    XXXXXXXXXXXXXXXXX----|----XXXXXXXXXXXXXXXXXXXXXXXXXXXXXXXXXXXXXX\n",
      "2021-10-05 21:07:24,747 - lwa_f.blocks.block:snap01 - INFO - adc - Chip 5, Lane 3:    XXXXXXXXXXXXXXX----|-----XXXXXXXXXXXXXXXXXXXXXXXXXXXXXXXXXXXXXXX\n",
      "2021-10-05 21:07:24,748 - lwa_f.blocks.block:snap01 - INFO - adc - Chip 5, Lane 4:    XXXXXXXXXXXXXXX----|----XXXXXXXXXXXXXXXXXXXXXXXXXXXXXXXXXXXXXXXX\n",
      "2021-10-05 21:07:24,748 - lwa_f.blocks.block:snap01 - INFO - adc - Chip 5, Lane 5:    XXXXXXXXXXXXXXX----|----XXXXXXXXXXXXXXXXXXXXXXXXXXXXXXXXXXXXXXXX\n",
      "2021-10-05 21:07:24,749 - lwa_f.blocks.block:snap01 - INFO - adc - Chip 5, Lane 6:    XXXXXXXXXXXXXXX----|----XXXXXXXXXXXXXXXXXXXXXXXXXXXXXXXXXXXXXXXX\n",
      "2021-10-05 21:07:24,749 - lwa_f.blocks.block:snap01 - INFO - adc - Chip 5, Lane 7:    XXXXXXXXXXXXXXX----|----XXXXXXXXXXXXXXXXXXXXXXXXXXXXXXXXXXXXXXXX\n",
      "2021-10-05 21:07:24,750 - lwa_f.blocks.block:snap01 - INFO - adc - Chip 6, Lane 0:    XXXXXXXXXXXXXXXXXXX----|----XXXXXXXXXXXXXXXXXXXXXXXXXXXXXXXXXXXX\n",
      "2021-10-05 21:07:24,751 - lwa_f.blocks.block:snap01 - INFO - adc - Chip 6, Lane 1:    XXXXXXXXXXXXXXXXX---|----XXXXXXXXXXXXXXXXXXXXXXXXXXXXXXXXXXXXXXX\n"
     ]
    },
    {
     "name": "stdout",
     "output_type": "stream",
     "text": [
      "2021-10-05 21:07:24,751 - lwa_f.blocks.block:snap01 - INFO - adc - Chip 6, Lane 2:    XXXXXXXXXXXXXXXXX----|----XXXXXXXXXXXXXXXXXXXXXXXXXXXXXXXXXXXXXX\n",
      "2021-10-05 21:07:24,752 - lwa_f.blocks.block:snap01 - INFO - adc - Chip 6, Lane 3:    XXXXXXXXXXXXXXXXXX----|----XXXXXXXXXXXXXXXXXXXXXXXXXXXXXXXXXXXXX\n",
      "2021-10-05 21:07:24,752 - lwa_f.blocks.block:snap01 - INFO - adc - Chip 6, Lane 4:    XXXXXXXXXXXXXXXXXX----|----XXXXXXXXXXXXXXXXXXXXXXXXXXXXXXXXXXXXX\n",
      "2021-10-05 21:07:24,753 - lwa_f.blocks.block:snap01 - INFO - adc - Chip 6, Lane 5:    XXXXXXXXXXXXXXXXXXX---|----XXXXXXXXXXXXXXXXXXXXXXXXXXXXXXXXXXXXX\n",
      "2021-10-05 21:07:24,753 - lwa_f.blocks.block:snap01 - INFO - adc - Chip 6, Lane 6:    XXXXXXXXXXXXXXXXX---|----XXXXXXXXXXXXXXXXXXXXXXXXXXXXXXXXXXXXXXX\n",
      "2021-10-05 21:07:24,754 - lwa_f.blocks.block:snap01 - INFO - adc - Chip 6, Lane 7:    XXXXXXXXXXXXXXXXX---|----XXXXXXXXXXXXXXXXXXXXXXXXXXXXXXXXXXXXXXX\n",
      "2021-10-05 21:07:24,754 - lwa_f.blocks.block:snap01 - INFO - adc - Chip 7, Lane 0:    XXXXXXXXXXXXXXXXXXXXXXXX----|-----XXXXXXXXXXXXXXXXXXXXXXXXXXXXXX\n",
      "2021-10-05 21:07:24,755 - lwa_f.blocks.block:snap01 - INFO - adc - Chip 7, Lane 1:    XXXXXXXXXXXXXXXXXXXXXXXX----|----XXXXXXXXXXXXXXXXXXXXXXXXXXXXXXX\n",
      "2021-10-05 21:07:24,756 - lwa_f.blocks.block:snap01 - INFO - adc - Chip 7, Lane 2:    XXXXXXXXXXXXXXXXXXXXXXXX----|----XXXXXXXXXXXXXXXXXXXXXXXXXXXXXXX\n",
      "2021-10-05 21:07:24,756 - lwa_f.blocks.block:snap01 - INFO - adc - Chip 7, Lane 3:    XXXXXXXXXXXXXXXXXXXXXXXX----|----XXXXXXXXXXXXXXXXXXXXXXXXXXXXXXX\n",
      "2021-10-05 21:07:24,757 - lwa_f.blocks.block:snap01 - INFO - adc - Chip 7, Lane 4:    XXXXXXXXXXXXXXXXXXXXXXXX----|----XXXXXXXXXXXXXXXXXXXXXXXXXXXXXXX\n",
      "2021-10-05 21:07:24,757 - lwa_f.blocks.block:snap01 - INFO - adc - Chip 7, Lane 5:    XXXXXXXXXXXXXXXXXXXXXXXXX----|----XXXXXXXXXXXXXXXXXXXXXXXXXXXXXX\n",
      "2021-10-05 21:07:24,758 - lwa_f.blocks.block:snap01 - INFO - adc - Chip 7, Lane 6:    XXXXXXXXXXXXXXXXXXXXXXXXXX----|----XXXXXXXXXXXXXXXXXXXXXXXXXXXXX\n",
      "2021-10-05 21:07:24,758 - lwa_f.blocks.block:snap01 - INFO - adc - Chip 7, Lane 7:    XXXXXXXXXXXXXXXXXXXXXXXX---|----XXXXXXXXXXXXXXXXXXXXXXXXXXXXXXXX\n"
     ]
    },
    {
     "name": "stderr",
     "output_type": "stream",
     "text": [
      "\n"
     ]
    },
    {
     "name": "stdout",
     "output_type": "stream",
     "text": [
      "2021-10-05 21:07:27,645 - lwa_f.blocks.block:snap01 - INFO - adc - FMC 1 Scanning data delays\n"
     ]
    },
    {
     "name": "stderr",
     "output_type": "stream",
     "text": [
      "100% |########################################################################|\r"
     ]
    },
    {
     "name": "stdout",
     "output_type": "stream",
     "text": [
      "2021-10-05 21:07:36,244 - lwa_f.blocks.block:snap01 - INFO - adc - FMC 1 data lane delays:\n",
      "[[296, 304, 296, 312, 288, 288, 288, 304], [280, 288, 280, 280, 288, 296, 280, 280], [296, 280, 296, 304, 288, 296, 296, 280], [328, 344, 328, 328, 328, 336, 328, 328], [280, 280, 280, 288, 280, 280, 280, 280], [328, 320, 320, 320, 328, 320, 328, 320], [288, 272, 280, 288, 280, 272, 272, 280], [272, 272, 272, 272, 272, 272, 272, 272]]\n",
      "2021-10-05 21:07:36,244 - lwa_f.blocks.block:snap01 - INFO - adc - FMC 1 data lane slacks:\n",
      "[[40, 48, 40, 48, 40, 40, 40, 40], [40, 40, 40, 40, 40, 32, 40, 40], [40, 40, 40, 40, 32, 32, 40, 40], [40, 40, 40, 40, 40, 40, 40, 40], [48, 48, 48, 40, 40, 40, 48, 40], [40, 32, 32, 32, 40, 32, 40, 32], [40, 32, 40, 32, 32, 32, 32, 32], [40, 40, 40, 40, 40, 40, 40, 40]]\n",
      "2021-10-05 21:07:36,245 - lwa_f.blocks.block:snap01 - INFO - adc - Chip 0, Lane 0:    XXXXXXXXXXXXXXXXXXXXXXXXXXXXXXXXX----|-----XXXXXXXXXXXXXXXXXXXXX\n",
      "2021-10-05 21:07:36,246 - lwa_f.blocks.block:snap01 - INFO - adc - Chip 0, Lane 1:    XXXXXXXXXXXXXXXXXXXXXXXXXXXXXXXXX-----|-----XXXXXXXXXXXXXXXXXXXX\n",
      "2021-10-05 21:07:36,246 - lwa_f.blocks.block:snap01 - INFO - adc - Chip 0, Lane 2:    XXXXXXXXXXXXXXXXXXXXXXXXXXXXXXXXX----|-----XXXXXXXXXXXXXXXXXXXXX\n",
      "2021-10-05 21:07:36,247 - lwa_f.blocks.block:snap01 - INFO - adc - Chip 0, Lane 3:    XXXXXXXXXXXXXXXXXXXXXXXXXXXXXXXXXX-----|-----XXXXXXXXXXXXXXXXXXX\n",
      "2021-10-05 21:07:36,248 - lwa_f.blocks.block:snap01 - INFO - adc - Chip 0, Lane 4:    XXXXXXXXXXXXXXXXXXXXXXXXXXXXXXXX----|-----XXXXXXXXXXXXXXXXXXXXXX\n",
      "2021-10-05 21:07:36,248 - lwa_f.blocks.block:snap01 - INFO - adc - Chip 0, Lane 5:    XXXXXXXXXXXXXXXXXXXXXXXXXXXXXXXX----|-----XXXXXXXXXXXXXXXXXXXXXX\n",
      "2021-10-05 21:07:36,249 - lwa_f.blocks.block:snap01 - INFO - adc - Chip 0, Lane 6:    XXXXXXXXXXXXXXXXXXXXXXXXXXXXXXXX----|----XXXXXXXXXXXXXXXXXXXXXXX\n",
      "2021-10-05 21:07:36,250 - lwa_f.blocks.block:snap01 - INFO - adc - Chip 0, Lane 7:    XXXXXXXXXXXXXXXXXXXXXXXXXXXXXXXXXX----|-----XXXXXXXXXXXXXXXXXXXX\n",
      "2021-10-05 21:07:36,250 - lwa_f.blocks.block:snap01 - INFO - adc - Chip 1, Lane 0:    XXXXXXXXXXXXXXXXXXXXXXXXXXXXXXX----|-----XXXXXXXXXXXXXXXXXXXXXXX\n",
      "2021-10-05 21:07:36,251 - lwa_f.blocks.block:snap01 - INFO - adc - Chip 1, Lane 1:    XXXXXXXXXXXXXXXXXXXXXXXXXXXXXXXX----|----XXXXXXXXXXXXXXXXXXXXXXX\n",
      "2021-10-05 21:07:36,252 - lwa_f.blocks.block:snap01 - INFO - adc - Chip 1, Lane 2:    XXXXXXXXXXXXXXXXXXXXXXXXXXXXXXX----|-----XXXXXXXXXXXXXXXXXXXXXXX\n",
      "2021-10-05 21:07:36,252 - lwa_f.blocks.block:snap01 - INFO - adc - Chip 1, Lane 3:    XXXXXXXXXXXXXXXXXXXXXXXXXXXXXXX----|-----XXXXXXXXXXXXXXXXXXXXXXX\n",
      "2021-10-05 21:07:36,253 - lwa_f.blocks.block:snap01 - INFO - adc - Chip 1, Lane 4:    XXXXXXXXXXXXXXXXXXXXXXXXXXXXXXXX----|----XXXXXXXXXXXXXXXXXXXXXXX\n",
      "2021-10-05 21:07:36,254 - lwa_f.blocks.block:snap01 - INFO - adc - Chip 1, Lane 5:    XXXXXXXXXXXXXXXXXXXXXXXXXXXXXXXXXX---|----XXXXXXXXXXXXXXXXXXXXXX\n",
      "2021-10-05 21:07:36,255 - lwa_f.blocks.block:snap01 - INFO - adc - Chip 1, Lane 6:    XXXXXXXXXXXXXXXXXXXXXXXXXXXXXXX----|-----XXXXXXXXXXXXXXXXXXXXXXX\n",
      "2021-10-05 21:07:36,255 - lwa_f.blocks.block:snap01 - INFO - adc - Chip 1, Lane 7:    XXXXXXXXXXXXXXXXXXXXXXXXXXXXXXX----|-----XXXXXXXXXXXXXXXXXXXXXXX\n",
      "2021-10-05 21:07:36,256 - lwa_f.blocks.block:snap01 - INFO - adc - Chip 2, Lane 0:    XXXXXXXXXXXXXXXXXXXXXXXXXXXXXXXXX----|----XXXXXXXXXXXXXXXXXXXXXX\n",
      "2021-10-05 21:07:36,257 - lwa_f.blocks.block:snap01 - INFO - adc - Chip 2, Lane 1:    XXXXXXXXXXXXXXXXXXXXXXXXXXXXXXX----|-----XXXXXXXXXXXXXXXXXXXXXXX\n",
      "2021-10-05 21:07:36,257 - lwa_f.blocks.block:snap01 - INFO - adc - Chip 2, Lane 2:    XXXXXXXXXXXXXXXXXXXXXXXXXXXXXXXXX----|----XXXXXXXXXXXXXXXXXXXXXX\n",
      "2021-10-05 21:07:36,258 - lwa_f.blocks.block:snap01 - INFO - adc - Chip 2, Lane 3:    XXXXXXXXXXXXXXXXXXXXXXXXXXXXXXXXXX----|----XXXXXXXXXXXXXXXXXXXXX\n",
      "2021-10-05 21:07:36,259 - lwa_f.blocks.block:snap01 - INFO - adc - Chip 2, Lane 4:    XXXXXXXXXXXXXXXXXXXXXXXXXXXXXXXXX---|----XXXXXXXXXXXXXXXXXXXXXXX\n",
      "2021-10-05 21:07:36,259 - lwa_f.blocks.block:snap01 - INFO - adc - Chip 2, Lane 5:    XXXXXXXXXXXXXXXXXXXXXXXXXXXXXXXXXX---|----XXXXXXXXXXXXXXXXXXXXXX\n",
      "2021-10-05 21:07:36,260 - lwa_f.blocks.block:snap01 - INFO - adc - Chip 2, Lane 6:    XXXXXXXXXXXXXXXXXXXXXXXXXXXXXXXXX----|----XXXXXXXXXXXXXXXXXXXXXX\n",
      "2021-10-05 21:07:36,261 - lwa_f.blocks.block:snap01 - INFO - adc - Chip 2, Lane 7:    XXXXXXXXXXXXXXXXXXXXXXXXXXXXXXX----|-----XXXXXXXXXXXXXXXXXXXXXXX\n",
      "2021-10-05 21:07:36,262 - lwa_f.blocks.block:snap01 - INFO - adc - Chip 3, Lane 0:    XXXXXXXXXXXXXXXXXXXXXXXXXXXXXXXXXXXXX----|----XXXXXXXXXXXXXXXXXX\n",
      "2021-10-05 21:07:36,262 - lwa_f.blocks.block:snap01 - INFO - adc - Chip 3, Lane 1:    XXXXXXXXXXXXXXXXXXXXXXXXXXXXXXXXXXXXXXX----|----XXXXXXXXXXXXXXXX\n",
      "2021-10-05 21:07:36,263 - lwa_f.blocks.block:snap01 - INFO - adc - Chip 3, Lane 2:    XXXXXXXXXXXXXXXXXXXXXXXXXXXXXXXXXXXXX----|-----XXXXXXXXXXXXXXXXX\n",
      "2021-10-05 21:07:36,263 - lwa_f.blocks.block:snap01 - INFO - adc - Chip 3, Lane 3:    XXXXXXXXXXXXXXXXXXXXXXXXXXXXXXXXXXXXX----|-----XXXXXXXXXXXXXXXXX\n",
      "2021-10-05 21:07:36,264 - lwa_f.blocks.block:snap01 - INFO - adc - Chip 3, Lane 4:    XXXXXXXXXXXXXXXXXXXXXXXXXXXXXXXXXXXXX----|-----XXXXXXXXXXXXXXXXX\n",
      "2021-10-05 21:07:36,264 - lwa_f.blocks.block:snap01 - INFO - adc - Chip 3, Lane 5:    XXXXXXXXXXXXXXXXXXXXXXXXXXXXXXXXXXXXXX----|----XXXXXXXXXXXXXXXXX\n",
      "2021-10-05 21:07:36,265 - lwa_f.blocks.block:snap01 - INFO - adc - Chip 3, Lane 6:    XXXXXXXXXXXXXXXXXXXXXXXXXXXXXXXXXXXXX----|-----XXXXXXXXXXXXXXXXX\n",
      "2021-10-05 21:07:36,266 - lwa_f.blocks.block:snap01 - INFO - adc - Chip 3, Lane 7:    XXXXXXXXXXXXXXXXXXXXXXXXXXXXXXXXXXXXX----|-----XXXXXXXXXXXXXXXXX\n",
      "2021-10-05 21:07:36,266 - lwa_f.blocks.block:snap01 - INFO - adc - Chip 4, Lane 0:    XXXXXXXXXXXXXXXXXXXXXXXXXXXXXX-----|-----XXXXXXXXXXXXXXXXXXXXXXX\n",
      "2021-10-05 21:07:36,267 - lwa_f.blocks.block:snap01 - INFO - adc - Chip 4, Lane 1:    XXXXXXXXXXXXXXXXXXXXXXXXXXXXXX-----|-----XXXXXXXXXXXXXXXXXXXXXXX\n",
      "2021-10-05 21:07:36,267 - lwa_f.blocks.block:snap01 - INFO - adc - Chip 4, Lane 2:    XXXXXXXXXXXXXXXXXXXXXXXXXXXXXX-----|-----XXXXXXXXXXXXXXXXXXXXXXX\n",
      "2021-10-05 21:07:36,268 - lwa_f.blocks.block:snap01 - INFO - adc - Chip 4, Lane 3:    XXXXXXXXXXXXXXXXXXXXXXXXXXXXXXXX----|-----XXXXXXXXXXXXXXXXXXXXXX\n",
      "2021-10-05 21:07:36,268 - lwa_f.blocks.block:snap01 - INFO - adc - Chip 4, Lane 4:    XXXXXXXXXXXXXXXXXXXXXXXXXXXXXXX----|-----XXXXXXXXXXXXXXXXXXXXXXX\n",
      "2021-10-05 21:07:36,269 - lwa_f.blocks.block:snap01 - INFO - adc - Chip 4, Lane 5:    XXXXXXXXXXXXXXXXXXXXXXXXXXXXXXX----|-----XXXXXXXXXXXXXXXXXXXXXXX\n",
      "2021-10-05 21:07:36,270 - lwa_f.blocks.block:snap01 - INFO - adc - Chip 4, Lane 6:    XXXXXXXXXXXXXXXXXXXXXXXXXXXXXX-----|-----XXXXXXXXXXXXXXXXXXXXXXX\n",
      "2021-10-05 21:07:36,270 - lwa_f.blocks.block:snap01 - INFO - adc - Chip 4, Lane 7:    XXXXXXXXXXXXXXXXXXXXXXXXXXXXXXX----|-----XXXXXXXXXXXXXXXXXXXXXXX\n",
      "2021-10-05 21:07:36,271 - lwa_f.blocks.block:snap01 - INFO - adc - Chip 5, Lane 0:    XXXXXXXXXXXXXXXXXXXXXXXXXXXXXXXXXXXXX----|----XXXXXXXXXXXXXXXXXX\n",
      "2021-10-05 21:07:36,271 - lwa_f.blocks.block:snap01 - INFO - adc - Chip 5, Lane 1:    XXXXXXXXXXXXXXXXXXXXXXXXXXXXXXXXXXXXX---|----XXXXXXXXXXXXXXXXXXX\n",
      "2021-10-05 21:07:36,272 - lwa_f.blocks.block:snap01 - INFO - adc - Chip 5, Lane 2:    XXXXXXXXXXXXXXXXXXXXXXXXXXXXXXXXXXXXX---|----XXXXXXXXXXXXXXXXXXX\n",
      "2021-10-05 21:07:36,272 - lwa_f.blocks.block:snap01 - INFO - adc - Chip 5, Lane 3:    XXXXXXXXXXXXXXXXXXXXXXXXXXXXXXXXXXXXX---|----XXXXXXXXXXXXXXXXXXX\n",
      "2021-10-05 21:07:36,273 - lwa_f.blocks.block:snap01 - INFO - adc - Chip 5, Lane 4:    XXXXXXXXXXXXXXXXXXXXXXXXXXXXXXXXXXXXX----|----XXXXXXXXXXXXXXXXXX\n",
      "2021-10-05 21:07:36,274 - lwa_f.blocks.block:snap01 - INFO - adc - Chip 5, Lane 5:    XXXXXXXXXXXXXXXXXXXXXXXXXXXXXXXXXXXXX---|----XXXXXXXXXXXXXXXXXXX\n",
      "2021-10-05 21:07:36,274 - lwa_f.blocks.block:snap01 - INFO - adc - Chip 5, Lane 6:    XXXXXXXXXXXXXXXXXXXXXXXXXXXXXXXXXXXXX----|----XXXXXXXXXXXXXXXXXX\n",
      "2021-10-05 21:07:36,275 - lwa_f.blocks.block:snap01 - INFO - adc - Chip 5, Lane 7:    XXXXXXXXXXXXXXXXXXXXXXXXXXXXXXXXXXXXX---|----XXXXXXXXXXXXXXXXXXX\n",
      "2021-10-05 21:07:36,275 - lwa_f.blocks.block:snap01 - INFO - adc - Chip 6, Lane 0:    XXXXXXXXXXXXXXXXXXXXXXXXXXXXXXXX----|----XXXXXXXXXXXXXXXXXXXXXXX\n",
      "2021-10-05 21:07:36,276 - lwa_f.blocks.block:snap01 - INFO - adc - Chip 6, Lane 1:    XXXXXXXXXXXXXXXXXXXXXXXXXXXXXXX---|----XXXXXXXXXXXXXXXXXXXXXXXXX\n"
     ]
    },
    {
     "name": "stdout",
     "output_type": "stream",
     "text": [
      "2021-10-05 21:07:36,276 - lwa_f.blocks.block:snap01 - INFO - adc - Chip 6, Lane 2:    XXXXXXXXXXXXXXXXXXXXXXXXXXXXXXX----|----XXXXXXXXXXXXXXXXXXXXXXXX\n",
      "2021-10-05 21:07:36,277 - lwa_f.blocks.block:snap01 - INFO - adc - Chip 6, Lane 3:    XXXXXXXXXXXXXXXXXXXXXXXXXXXXXXXXX---|----XXXXXXXXXXXXXXXXXXXXXXX\n",
      "2021-10-05 21:07:36,277 - lwa_f.blocks.block:snap01 - INFO - adc - Chip 6, Lane 4:    XXXXXXXXXXXXXXXXXXXXXXXXXXXXXXXX---|----XXXXXXXXXXXXXXXXXXXXXXXX\n",
      "2021-10-05 21:07:36,278 - lwa_f.blocks.block:snap01 - INFO - adc - Chip 6, Lane 5:    XXXXXXXXXXXXXXXXXXXXXXXXXXXXXXX---|----XXXXXXXXXXXXXXXXXXXXXXXXX\n",
      "2021-10-05 21:07:36,279 - lwa_f.blocks.block:snap01 - INFO - adc - Chip 6, Lane 6:    XXXXXXXXXXXXXXXXXXXXXXXXXXXXXXX---|----XXXXXXXXXXXXXXXXXXXXXXXXX\n",
      "2021-10-05 21:07:36,279 - lwa_f.blocks.block:snap01 - INFO - adc - Chip 6, Lane 7:    XXXXXXXXXXXXXXXXXXXXXXXXXXXXXXXX---|----XXXXXXXXXXXXXXXXXXXXXXXX\n",
      "2021-10-05 21:07:36,280 - lwa_f.blocks.block:snap01 - INFO - adc - Chip 7, Lane 0:    XXXXXXXXXXXXXXXXXXXXXXXXXXXXXX----|-----XXXXXXXXXXXXXXXXXXXXXXXX\n",
      "2021-10-05 21:07:36,280 - lwa_f.blocks.block:snap01 - INFO - adc - Chip 7, Lane 1:    XXXXXXXXXXXXXXXXXXXXXXXXXXXXXX----|-----XXXXXXXXXXXXXXXXXXXXXXXX\n",
      "2021-10-05 21:07:36,281 - lwa_f.blocks.block:snap01 - INFO - adc - Chip 7, Lane 2:    XXXXXXXXXXXXXXXXXXXXXXXXXXXXXX----|-----XXXXXXXXXXXXXXXXXXXXXXXX\n",
      "2021-10-05 21:07:36,281 - lwa_f.blocks.block:snap01 - INFO - adc - Chip 7, Lane 3:    XXXXXXXXXXXXXXXXXXXXXXXXXXXXXX----|-----XXXXXXXXXXXXXXXXXXXXXXXX\n",
      "2021-10-05 21:07:36,282 - lwa_f.blocks.block:snap01 - INFO - adc - Chip 7, Lane 4:    XXXXXXXXXXXXXXXXXXXXXXXXXXXXXX----|-----XXXXXXXXXXXXXXXXXXXXXXXX\n",
      "2021-10-05 21:07:36,283 - lwa_f.blocks.block:snap01 - INFO - adc - Chip 7, Lane 5:    XXXXXXXXXXXXXXXXXXXXXXXXXXXXXX----|-----XXXXXXXXXXXXXXXXXXXXXXXX\n",
      "2021-10-05 21:07:36,283 - lwa_f.blocks.block:snap01 - INFO - adc - Chip 7, Lane 6:    XXXXXXXXXXXXXXXXXXXXXXXXXXXXXX----|-----XXXXXXXXXXXXXXXXXXXXXXXX\n",
      "2021-10-05 21:07:36,284 - lwa_f.blocks.block:snap01 - INFO - adc - Chip 7, Lane 7:    XXXXXXXXXXXXXXXXXXXXXXXXXXXXXX----|----XXXXXXXXXXXXXXXXXXXXXXXXX\n"
     ]
    },
    {
     "name": "stderr",
     "output_type": "stream",
     "text": [
      "\n"
     ]
    },
    {
     "name": "stdout",
     "output_type": "stream",
     "text": [
      "2021-10-05 21:07:40,383 - lwa_f.snap2_fengine:snap01 - INFO - Initializing block (writable): sync\n",
      "2021-10-05 21:07:40,397 - lwa_f.snap2_fengine:snap01 - INFO - Initializing block (writable): noise\n",
      "2021-10-05 21:07:40,404 - lwa_f.snap2_fengine:snap01 - INFO - Initializing block (writable): input\n",
      "2021-10-05 21:07:40,603 - lwa_f.snap2_fengine:snap01 - INFO - Initializing block (writable): delay\n",
      "2021-10-05 21:07:41,212 - lwa_f.snap2_fengine:snap01 - INFO - Initializing block (writable): pfb\n",
      "2021-10-05 21:07:41,229 - lwa_f.snap2_fengine:snap01 - INFO - Initializing block (writable): eq\n",
      "2021-10-05 21:07:41,627 - lwa_f.snap2_fengine:snap01 - INFO - Initializing block (writable): eqtvg\n",
      "2021-10-05 21:07:42,639 - lwa_f.snap2_fengine:snap01 - INFO - Initializing block (writable): reorder\n",
      "2021-10-05 21:07:42,656 - lwa_f.snap2_fengine:snap01 - INFO - Initializing block (writable): packetizer\n",
      "2021-10-05 21:07:42,657 - lwa_f.snap2_fengine:snap01 - INFO - Initializing block (writable): eth\n",
      "2021-10-05 21:07:42,667 - lwa_f.snap2_fengine:snap01 - INFO - Initializing block (writable): autocorr\n",
      "2021-10-05 21:07:42,669 - lwa_f.snap2_fengine:snap01 - INFO - Initializing block (writable): corr\n",
      "2021-10-05 21:07:42,672 - lwa_f.snap2_fengine:snap01 - INFO - Initializing block (writable): powermon\n",
      "2021-10-05 21:07:42,923 - lwa_f.snap2_fengine:snap01 - INFO - Performing software global reset\n"
     ]
    }
   ],
   "source": [
    "fpgfile=\"/home/ubuntu/kplant/caltech-lwa/snap2_f_200msps_64i_4096c/outputs/snap2_f_200msps_64i_4096c_2021-09-30_1121.fpg\"\n",
    "brdname3='snap03'\n",
    "#load firmware and initialize etc\n",
    "brd=snap2_fengine.Snap2Fengine(brdname3)\n",
    "brd.program(fpgfile)\n",
    "brd.initialize(read_only=False)\n",
    "brd.sync.arm_sync()\n",
    "brd.sync.sw_sync()\n",
    "casperbrd3 = casperfpga.CasperFpga(brdname3, transport=casperfpga.TapcpTransport)\n",
    "\n",
    "fpgfile=\"/home/ubuntu/kplant/caltech-lwa/snap2_f_200msps_64i_4096c/outputs/snap2_f_200msps_64i_4096c_2021-10-04_1837.fpg\"\n",
    "brdname='snap01'\n",
    "#load firmware and initialize etc\n",
    "brd=snap2_fengine.Snap2Fengine(brdname)\n",
    "brd.program(fpgfile)\n",
    "brd.initialize(read_only=False)\n",
    "brd.sync.arm_sync()\n",
    "brd.sync.sw_sync()\n",
    "casperbrd = casperfpga.CasperFpga(brdname, transport=casperfpga.TapcpTransport)"
   ]
  },
  {
   "cell_type": "markdown",
   "metadata": {},
   "source": [
    "### Check that new version counts for 10^28 cycles"
   ]
  },
  {
   "cell_type": "code",
   "execution_count": 143,
   "metadata": {},
   "outputs": [
    {
     "name": "stdout",
     "output_type": "stream",
     "text": [
      "Data source set to constant\n",
      "268435455\n",
      "268435456\n",
      "-1\n"
     ]
    }
   ],
   "source": [
    "setup_data_source(casperbrd,\"constant\")\n",
    "time.sleep(3)\n",
    "values=struct.unpack('>32l',casperbrd.read(\"cosmic_ray_thresh_rate1\",32*4,0))\n",
    "print(values[1])\n",
    "print(2**28)\n",
    "print(values[1]-2**28)"
   ]
  },
  {
   "cell_type": "markdown",
   "metadata": {},
   "source": [
    "### Check antenna ordering -- all good!   "
   ]
  },
  {
   "cell_type": "code",
   "execution_count": 158,
   "metadata": {},
   "outputs": [
    {
     "name": "stdout",
     "output_type": "stream",
     "text": [
      "Data source set to constant\n",
      "Data source set to constant\n"
     ]
    },
    {
     "data": {
      "text/plain": [
       "(60, 65)"
      ]
     },
     "execution_count": 158,
     "metadata": {},
     "output_type": "execute_result"
    },
    {
     "data": {
      "image/png": "[encoded data removed]",
      "text/plain": [
       "<Figure size 432x288 with 2 Axes>"
      ]
     },
     "metadata": {
      "needs_background": "light"
     },
     "output_type": "display_data"
    },
    {
     "data": {
      "image/png": "[encoded data removed]",
      "text/plain": [
       "<Figure size 432x288 with 2 Axes>"
      ]
     },
     "metadata": {
      "needs_background": "light"
     },
     "output_type": "display_data"
    }
   ],
   "source": [
    "n=62\n",
    "setup_data_source(casperbrd,\"constant\")\n",
    "#check mapping on board 1\n",
    "#version 2.3\n",
    "setvalue(casperbrd,\"trigger_power_thresh\",\"cr_registers.xlsx\",n**2)\n",
    "setvalue(casperbrd,\"veto_power_thresh\",\"cr_registers.xlsx\",n**2)\n",
    "\n",
    "\n",
    "time.sleep(3)  \n",
    "plt.figure()\n",
    "plt.subplot(121)\n",
    "values1=struct.unpack('>32l',casperbrd.read(\"cosmic_ray_veto_thresh_rate1\",32*4,0))\n",
    "values2=struct.unpack('>32l',casperbrd.read(\"cosmic_ray_veto_thresh_rate2\",32*4,0))\n",
    "plt.plot(np.concatenate((values1,values2)))\n",
    "\n",
    "plt.subplot(122)\n",
    "plt.plot(np.concatenate((values1,values2)))\n",
    "plt.xlim(60,65)\n",
    "\n",
    "\n",
    "# check mapping on board 3, version 2.1\n",
    "setup_data_source(casperbrd3,\"constant\")\n",
    "\n",
    "setvalue(casperbrd3,\"trigger_power_thresh\",\"cr_registers.xlsx\",n**2)\n",
    "setvalue(casperbrd3,\"veto_power_thresh\",\"cr_registers.xlsx\",n**2)\n",
    "\n",
    "time.sleep(3)  \n",
    "\n",
    "plt.figure()\n",
    "plt.subplot(121)\n",
    "values1=struct.unpack('>32l',casperbrd3.read(\"cosmic_ray_thresh_rate1\",32*4,0))\n",
    "values2=struct.unpack('>32l',casperbrd3.read(\"cosmic_ray_thresh_rate2\",32*4,0))\n",
    "plt.plot(np.concatenate((values1,values2)))\n",
    "\n",
    "plt.subplot(122)\n",
    "plt.plot(np.concatenate((values1,values2)))\n",
    "plt.xlim(60,65)\n",
    "\n"
   ]
  },
  {
   "cell_type": "markdown",
   "metadata": {},
   "source": [
    "### Check that read_threshold_rates function works with this firmware version -- it does!"
   ]
  },
  {
   "cell_type": "code",
   "execution_count": 162,
   "metadata": {},
   "outputs": [
    {
     "data": {
      "text/plain": [
       "(0, 5)"
      ]
     },
     "execution_count": 162,
     "metadata": {},
     "output_type": "execute_result"
    },
    {
     "data": {
      "image/png": "[encoded data removed]",
      "text/plain": [
       "<Figure size 432x288 with 2 Axes>"
      ]
     },
     "metadata": {
      "needs_background": "light"
     },
     "output_type": "display_data"
    }
   ],
   "source": [
    "n=3\n",
    "setvalue(casperbrd,\"trigger_power_thresh\",\"cr_registers.xlsx\",n**2)\n",
    "setvalue(casperbrd,\"veto_power_thresh\",\"cr_registers.xlsx\",n**2)\n",
    "\n",
    "\n",
    "time.sleep(3) \n",
    "\n",
    "core,veto = read_threshold_rates(casperbrd)\n",
    "plt.subplot(121)\n",
    "plt.plot(core)\n",
    "plt.xlim(0,5)\n",
    "\n",
    "plt.subplot(122)\n",
    "plt.plot(veto)\n",
    "plt.xlim(0,5)\n",
    "\n"
   ]
  },
  {
   "cell_type": "markdown",
   "metadata": {},
   "source": [
    "# Testing Cosmic Ray System Version 2.2\n",
    "I'm loading version 2.1 on snap03 and version 2.2 on snap01."
   ]
  },
  {
   "cell_type": "markdown",
   "metadata": {},
   "source": [
    "### Load firmware"
   ]
  },
  {
   "cell_type": "code",
   "execution_count": 95,
   "metadata": {},
   "outputs": [
    {
     "name": "stdout",
     "output_type": "stream",
     "text": [
      "2021-10-05 00:09:12,130 - lwa_f.blocks.block:snap03 - WARNING -  - hostname (10.40.0.188) couldn't be turned into integer serial\n",
      "2021-10-05 00:09:12,398 - lwa_f.blocks.block:snap03 - INFO - adc - Detected FMC ADC board on port 0\n",
      "2021-10-05 00:09:12,728 - lwa_f.blocks.block:snap03 - INFO - adc - Detected FMC ADC board on port 1\n",
      "2021-10-05 00:09:12,743 - lwa_f.snap2_fengine:snap03 - INFO - Loading firmware /home/ubuntu/kplant/caltech-lwa/snap2_f_200msps_64i_4096c/outputs/snap2_f_200msps_64i_4096c_2021-09-30_1121.fpg to snap03\n"
     ]
    },
    {
     "name": "stderr",
     "output_type": "stream",
     "text": [
      "100% |########################################################################|\n"
     ]
    },
    {
     "name": "stdout",
     "output_type": "stream",
     "text": [
      "2021-10-05 00:14:30,803 - lwa_f.blocks.block:snap03 - WARNING -  - hostname (10.40.0.188) couldn't be turned into integer serial\n",
      "2021-10-05 00:14:31,096 - lwa_f.blocks.block:snap03 - INFO - adc - Detected FMC ADC board on port 0\n",
      "2021-10-05 00:14:31,384 - lwa_f.blocks.block:snap03 - INFO - adc - Detected FMC ADC board on port 1\n",
      "2021-10-05 00:14:31,400 - lwa_f.snap2_fengine:snap03 - INFO - Initializing block (writable): fpga\n",
      "2021-10-05 00:14:31,400 - lwa_f.snap2_fengine:snap03 - INFO - Initializing block (writable): adc\n",
      "2021-10-05 00:14:31,404 - lwa_f.blocks.block:snap03 - INFO - adc - FMC 0 board 0: Setting clock source to 1\n",
      "2021-10-05 00:14:31,411 - lwa_f.blocks.block:snap03 - INFO - adc - FMC 0 board 1: Setting clock source to 1\n",
      "2021-10-05 00:14:31,418 - lwa_f.blocks.block:snap03 - INFO - adc - FMC 1 board 0: Setting clock source to 1\n",
      "2021-10-05 00:14:31,425 - lwa_f.blocks.block:snap03 - INFO - adc - FMC 1 board 1: Setting clock source to 1\n",
      "2021-10-05 00:14:40,350 - lwa_f.blocks.block:snap03 - INFO - adc - FMC 0 board 0 clock rates: [490704388, 98175799, 98203166, 0, 0]\n",
      "2021-10-05 00:14:40,352 - lwa_f.blocks.block:snap03 - INFO - adc - FMC 0 board 0: MMCM locked\n",
      "2021-10-05 00:14:41,363 - lwa_f.blocks.block:snap03 - INFO - adc - FMC 0 board 1 clock rates: [490627218, 98161306, 98194811, 98217932, 0]\n",
      "2021-10-05 00:14:42,375 - lwa_f.blocks.block:snap03 - INFO - adc - FMC 1 board 0 clock rates: [490528377, 98138706, 98132100, 0, 0]\n",
      "2021-10-05 00:14:42,376 - lwa_f.blocks.block:snap03 - INFO - adc - FMC 1 board 0: MMCM locked\n",
      "2021-10-05 00:14:43,387 - lwa_f.blocks.block:snap03 - INFO - adc - FMC 1 board 1 clock rates: [490724897, 98218589, 98284652, 98345052, 0]\n",
      "2021-10-05 00:14:44,752 - lwa_f.blocks.block:snap03 - INFO - adc - FMC 0 Scanning data delays\n"
     ]
    },
    {
     "name": "stderr",
     "output_type": "stream",
     "text": [
      "100% |########################################################################|\r"
     ]
    },
    {
     "name": "stdout",
     "output_type": "stream",
     "text": [
      "2021-10-05 00:14:53,435 - lwa_f.blocks.block:snap03 - INFO - adc - FMC 0 data lane delays:\n",
      "[[288, 280, 288, 272, 280, 280, 280, 280], [320, 312, 312, 312, 312, 312, 312, 320], [264, 264, 272, 272, 272, 272, 264, 280], [312, 320, 312, 304, 312, 304, 312, 312], [272, 264, 264, 264, 264, 272, 264, 272], [256, 256, 264, 248, 256, 256, 256, 256], [280, 264, 264, 264, 264, 280, 264, 264], [272, 272, 272, 272, 272, 280, 280, 272]]\n",
      "2021-10-05 00:14:53,435 - lwa_f.blocks.block:snap03 - INFO - adc - FMC 0 data lane slacks:\n",
      "[[40, 40, 40, 40, 48, 40, 48, 48], [40, 40, 40, 40, 40, 40, 40, 40], [40, 40, 40, 48, 40, 40, 40, 40], [40, 40, 40, 40, 40, 32, 40, 40], [48, 40, 40, 40, 40, 48, 40, 48], [40, 40, 40, 40, 40, 40, 40, 40], [40, 40, 40, 40, 40, 40, 40, 40], [40, 40, 40, 40, 40, 32, 32, 40]]\n",
      "2021-10-05 00:14:53,436 - lwa_f.blocks.block:snap03 - INFO - adc - Chip 0, Lane 0:    XXXXXXXXXXXXXXXXXXXXXXXXXXXXXXXX----|-----XXXXXXXXXXXXXXXXXXXXXX\n",
      "2021-10-05 00:14:53,437 - lwa_f.blocks.block:snap03 - INFO - adc - Chip 0, Lane 1:    XXXXXXXXXXXXXXXXXXXXXXXXXXXXXXX----|-----XXXXXXXXXXXXXXXXXXXXXXX\n",
      "2021-10-05 00:14:53,438 - lwa_f.blocks.block:snap03 - INFO - adc - Chip 0, Lane 2:    XXXXXXXXXXXXXXXXXXXXXXXXXXXXXXXX----|-----XXXXXXXXXXXXXXXXXXXXXX\n",
      "2021-10-05 00:14:53,439 - lwa_f.blocks.block:snap03 - INFO - adc - Chip 0, Lane 3:    XXXXXXXXXXXXXXXXXXXXXXXXXXXXXX----|-----XXXXXXXXXXXXXXXXXXXXXXXX\n",
      "2021-10-05 00:14:53,440 - lwa_f.blocks.block:snap03 - INFO - adc - Chip 0, Lane 4:    XXXXXXXXXXXXXXXXXXXXXXXXXXXXXX-----|-----XXXXXXXXXXXXXXXXXXXXXXX\n",
      "2021-10-05 00:14:53,441 - lwa_f.blocks.block:snap03 - INFO - adc - Chip 0, Lane 5:    XXXXXXXXXXXXXXXXXXXXXXXXXXXXXXX----|-----XXXXXXXXXXXXXXXXXXXXXXX\n",
      "2021-10-05 00:14:53,442 - lwa_f.blocks.block:snap03 - INFO - adc - Chip 0, Lane 6:    XXXXXXXXXXXXXXXXXXXXXXXXXXXXXX-----|-----XXXXXXXXXXXXXXXXXXXXXXX\n",
      "2021-10-05 00:14:53,442 - lwa_f.blocks.block:snap03 - INFO - adc - Chip 0, Lane 7:    XXXXXXXXXXXXXXXXXXXXXXXXXXXXXX-----|-----XXXXXXXXXXXXXXXXXXXXXXX\n",
      "2021-10-05 00:14:53,443 - lwa_f.blocks.block:snap03 - INFO - adc - Chip 1, Lane 0:    XXXXXXXXXXXXXXXXXXXXXXXXXXXXXXXXXXXX----|-----XXXXXXXXXXXXXXXXXX\n",
      "2021-10-05 00:14:53,444 - lwa_f.blocks.block:snap03 - INFO - adc - Chip 1, Lane 1:    XXXXXXXXXXXXXXXXXXXXXXXXXXXXXXXXXXX----|-----XXXXXXXXXXXXXXXXXXX\n",
      "2021-10-05 00:14:53,444 - lwa_f.blocks.block:snap03 - INFO - adc - Chip 1, Lane 2:    XXXXXXXXXXXXXXXXXXXXXXXXXXXXXXXXXXX----|-----XXXXXXXXXXXXXXXXXXX\n",
      "2021-10-05 00:14:53,445 - lwa_f.blocks.block:snap03 - INFO - adc - Chip 1, Lane 3:    XXXXXXXXXXXXXXXXXXXXXXXXXXXXXXXXXXX----|----XXXXXXXXXXXXXXXXXXXX\n",
      "2021-10-05 00:14:53,446 - lwa_f.blocks.block:snap03 - INFO - adc - Chip 1, Lane 4:    XXXXXXXXXXXXXXXXXXXXXXXXXXXXXXXXXXX----|-----XXXXXXXXXXXXXXXXXXX\n",
      "2021-10-05 00:14:53,447 - lwa_f.blocks.block:snap03 - INFO - adc - Chip 1, Lane 5:    XXXXXXXXXXXXXXXXXXXXXXXXXXXXXXXXXXX----|----XXXXXXXXXXXXXXXXXXXX\n",
      "2021-10-05 00:14:53,448 - lwa_f.blocks.block:snap03 - INFO - adc - Chip 1, Lane 6:    XXXXXXXXXXXXXXXXXXXXXXXXXXXXXXXXXXX----|----XXXXXXXXXXXXXXXXXXXX\n",
      "2021-10-05 00:14:53,449 - lwa_f.blocks.block:snap03 - INFO - adc - Chip 1, Lane 7:    XXXXXXXXXXXXXXXXXXXXXXXXXXXXXXXXXXXX----|----XXXXXXXXXXXXXXXXXXX\n",
      "2021-10-05 00:14:53,449 - lwa_f.blocks.block:snap03 - INFO - adc - Chip 2, Lane 0:    XXXXXXXXXXXXXXXXXXXXXXXXXXXXX----|-----XXXXXXXXXXXXXXXXXXXXXXXXX\n",
      "2021-10-05 00:14:53,450 - lwa_f.blocks.block:snap03 - INFO - adc - Chip 2, Lane 1:    XXXXXXXXXXXXXXXXXXXXXXXXXXXXX----|-----XXXXXXXXXXXXXXXXXXXXXXXXX\n",
      "2021-10-05 00:14:53,451 - lwa_f.blocks.block:snap03 - INFO - adc - Chip 2, Lane 2:    XXXXXXXXXXXXXXXXXXXXXXXXXXXXXX----|-----XXXXXXXXXXXXXXXXXXXXXXXX\n",
      "2021-10-05 00:14:53,452 - lwa_f.blocks.block:snap03 - INFO - adc - Chip 2, Lane 3:    XXXXXXXXXXXXXXXXXXXXXXXXXXXXX-----|-----XXXXXXXXXXXXXXXXXXXXXXXX\n",
      "2021-10-05 00:14:53,453 - lwa_f.blocks.block:snap03 - INFO - adc - Chip 2, Lane 4:    XXXXXXXXXXXXXXXXXXXXXXXXXXXXXX----|----XXXXXXXXXXXXXXXXXXXXXXXXX\n",
      "2021-10-05 00:14:53,453 - lwa_f.blocks.block:snap03 - INFO - adc - Chip 2, Lane 5:    XXXXXXXXXXXXXXXXXXXXXXXXXXXXXX----|----XXXXXXXXXXXXXXXXXXXXXXXXX\n",
      "2021-10-05 00:14:53,454 - lwa_f.blocks.block:snap03 - INFO - adc - Chip 2, Lane 6:    XXXXXXXXXXXXXXXXXXXXXXXXXXXXX----|-----XXXXXXXXXXXXXXXXXXXXXXXXX\n",
      "2021-10-05 00:14:53,455 - lwa_f.blocks.block:snap03 - INFO - adc - Chip 2, Lane 7:    XXXXXXXXXXXXXXXXXXXXXXXXXXXXXXX----|----XXXXXXXXXXXXXXXXXXXXXXXX\n",
      "2021-10-05 00:14:53,455 - lwa_f.blocks.block:snap03 - INFO - adc - Chip 3, Lane 0:    XXXXXXXXXXXXXXXXXXXXXXXXXXXXXXXXXXX----|----XXXXXXXXXXXXXXXXXXXX\n",
      "2021-10-05 00:14:53,456 - lwa_f.blocks.block:snap03 - INFO - adc - Chip 3, Lane 1:    XXXXXXXXXXXXXXXXXXXXXXXXXXXXXXXXXXXX----|----XXXXXXXXXXXXXXXXXXX\n",
      "2021-10-05 00:14:53,457 - lwa_f.blocks.block:snap03 - INFO - adc - Chip 3, Lane 2:    XXXXXXXXXXXXXXXXXXXXXXXXXXXXXXXXXXX----|----XXXXXXXXXXXXXXXXXXXX\n",
      "2021-10-05 00:14:53,457 - lwa_f.blocks.block:snap03 - INFO - adc - Chip 3, Lane 3:    XXXXXXXXXXXXXXXXXXXXXXXXXXXXXXXXXX----|----XXXXXXXXXXXXXXXXXXXXX\n",
      "2021-10-05 00:14:53,458 - lwa_f.blocks.block:snap03 - INFO - adc - Chip 3, Lane 4:    XXXXXXXXXXXXXXXXXXXXXXXXXXXXXXXXXXX----|----XXXXXXXXXXXXXXXXXXXX\n",
      "2021-10-05 00:14:53,459 - lwa_f.blocks.block:snap03 - INFO - adc - Chip 3, Lane 5:    XXXXXXXXXXXXXXXXXXXXXXXXXXXXXXXXXXX---|----XXXXXXXXXXXXXXXXXXXXX\n",
      "2021-10-05 00:14:53,459 - lwa_f.blocks.block:snap03 - INFO - adc - Chip 3, Lane 6:    XXXXXXXXXXXXXXXXXXXXXXXXXXXXXXXXXXX----|----XXXXXXXXXXXXXXXXXXXX\n",
      "2021-10-05 00:14:53,460 - lwa_f.blocks.block:snap03 - INFO - adc - Chip 3, Lane 7:    XXXXXXXXXXXXXXXXXXXXXXXXXXXXXXXXXXX----|----XXXXXXXXXXXXXXXXXXXX\n",
      "2021-10-05 00:14:53,461 - lwa_f.blocks.block:snap03 - INFO - adc - Chip 4, Lane 0:    XXXXXXXXXXXXXXXXXXXXXXXXXXXXX-----|-----XXXXXXXXXXXXXXXXXXXXXXXX\n",
      "2021-10-05 00:14:53,461 - lwa_f.blocks.block:snap03 - INFO - adc - Chip 4, Lane 1:    XXXXXXXXXXXXXXXXXXXXXXXXXXXXX----|----XXXXXXXXXXXXXXXXXXXXXXXXXX\n",
      "2021-10-05 00:14:53,462 - lwa_f.blocks.block:snap03 - INFO - adc - Chip 4, Lane 2:    XXXXXXXXXXXXXXXXXXXXXXXXXXXXX----|----XXXXXXXXXXXXXXXXXXXXXXXXXX\n",
      "2021-10-05 00:14:53,463 - lwa_f.blocks.block:snap03 - INFO - adc - Chip 4, Lane 3:    XXXXXXXXXXXXXXXXXXXXXXXXXXXXX----|-----XXXXXXXXXXXXXXXXXXXXXXXXX\n",
      "2021-10-05 00:14:53,463 - lwa_f.blocks.block:snap03 - INFO - adc - Chip 4, Lane 4:    XXXXXXXXXXXXXXXXXXXXXXXXXXXXX----|-----XXXXXXXXXXXXXXXXXXXXXXXXX\n",
      "2021-10-05 00:14:53,464 - lwa_f.blocks.block:snap03 - INFO - adc - Chip 4, Lane 5:    XXXXXXXXXXXXXXXXXXXXXXXXXXXXX-----|-----XXXXXXXXXXXXXXXXXXXXXXXX\n",
      "2021-10-05 00:14:53,465 - lwa_f.blocks.block:snap03 - INFO - adc - Chip 4, Lane 6:    XXXXXXXXXXXXXXXXXXXXXXXXXXXXX----|-----XXXXXXXXXXXXXXXXXXXXXXXXX\n",
      "2021-10-05 00:14:53,465 - lwa_f.blocks.block:snap03 - INFO - adc - Chip 4, Lane 7:    XXXXXXXXXXXXXXXXXXXXXXXXXXXXX-----|-----XXXXXXXXXXXXXXXXXXXXXXXX\n",
      "2021-10-05 00:14:53,466 - lwa_f.blocks.block:snap03 - INFO - adc - Chip 5, Lane 0:    XXXXXXXXXXXXXXXXXXXXXXXXXXXX----|-----XXXXXXXXXXXXXXXXXXXXXXXXXX\n",
      "2021-10-05 00:14:53,467 - lwa_f.blocks.block:snap03 - INFO - adc - Chip 5, Lane 1:    XXXXXXXXXXXXXXXXXXXXXXXXXXXX----|-----XXXXXXXXXXXXXXXXXXXXXXXXXX\n",
      "2021-10-05 00:14:53,468 - lwa_f.blocks.block:snap03 - INFO - adc - Chip 5, Lane 2:    XXXXXXXXXXXXXXXXXXXXXXXXXXXXX----|-----XXXXXXXXXXXXXXXXXXXXXXXXX\n",
      "2021-10-05 00:14:53,468 - lwa_f.blocks.block:snap03 - INFO - adc - Chip 5, Lane 3:    XXXXXXXXXXXXXXXXXXXXXXXXXXX----|-----XXXXXXXXXXXXXXXXXXXXXXXXXXX\n",
      "2021-10-05 00:14:53,469 - lwa_f.blocks.block:snap03 - INFO - adc - Chip 5, Lane 4:    XXXXXXXXXXXXXXXXXXXXXXXXXXXX----|-----XXXXXXXXXXXXXXXXXXXXXXXXXX\n",
      "2021-10-05 00:14:53,470 - lwa_f.blocks.block:snap03 - INFO - adc - Chip 5, Lane 5:    XXXXXXXXXXXXXXXXXXXXXXXXXXXX----|-----XXXXXXXXXXXXXXXXXXXXXXXXXX\n",
      "2021-10-05 00:14:53,470 - lwa_f.blocks.block:snap03 - INFO - adc - Chip 5, Lane 6:    XXXXXXXXXXXXXXXXXXXXXXXXXXXX----|-----XXXXXXXXXXXXXXXXXXXXXXXXXX\n"
     ]
    },
    {
     "name": "stderr",
     "output_type": "stream",
     "text": [
      "\n"
     ]
    },
    {
     "name": "stdout",
     "output_type": "stream",
     "text": [
      "2021-10-05 00:14:53,471 - lwa_f.blocks.block:snap03 - INFO - adc - Chip 5, Lane 7:    XXXXXXXXXXXXXXXXXXXXXXXXXXXX----|----XXXXXXXXXXXXXXXXXXXXXXXXXXX\n",
      "2021-10-05 00:14:53,472 - lwa_f.blocks.block:snap03 - INFO - adc - Chip 6, Lane 0:    XXXXXXXXXXXXXXXXXXXXXXXXXXXXXXX----|----XXXXXXXXXXXXXXXXXXXXXXXX\n",
      "2021-10-05 00:14:53,473 - lwa_f.blocks.block:snap03 - INFO - adc - Chip 6, Lane 1:    XXXXXXXXXXXXXXXXXXXXXXXXXXXXX----|----XXXXXXXXXXXXXXXXXXXXXXXXXX\n",
      "2021-10-05 00:14:53,473 - lwa_f.blocks.block:snap03 - INFO - adc - Chip 6, Lane 2:    XXXXXXXXXXXXXXXXXXXXXXXXXXXXX----|----XXXXXXXXXXXXXXXXXXXXXXXXXX\n",
      "2021-10-05 00:14:53,474 - lwa_f.blocks.block:snap03 - INFO - adc - Chip 6, Lane 3:    XXXXXXXXXXXXXXXXXXXXXXXXXXXXX----|----XXXXXXXXXXXXXXXXXXXXXXXXXX\n",
      "2021-10-05 00:14:53,475 - lwa_f.blocks.block:snap03 - INFO - adc - Chip 6, Lane 4:    XXXXXXXXXXXXXXXXXXXXXXXXXXXXX----|----XXXXXXXXXXXXXXXXXXXXXXXXXX\n",
      "2021-10-05 00:14:53,475 - lwa_f.blocks.block:snap03 - INFO - adc - Chip 6, Lane 5:    XXXXXXXXXXXXXXXXXXXXXXXXXXXXXXX----|----XXXXXXXXXXXXXXXXXXXXXXXX\n",
      "2021-10-05 00:14:53,476 - lwa_f.blocks.block:snap03 - INFO - adc - Chip 6, Lane 6:    XXXXXXXXXXXXXXXXXXXXXXXXXXXXX----|----XXXXXXXXXXXXXXXXXXXXXXXXXX\n",
      "2021-10-05 00:14:53,477 - lwa_f.blocks.block:snap03 - INFO - adc - Chip 6, Lane 7:    XXXXXXXXXXXXXXXXXXXXXXXXXXXXX----|----XXXXXXXXXXXXXXXXXXXXXXXXXX\n",
      "2021-10-05 00:14:53,477 - lwa_f.blocks.block:snap03 - INFO - adc - Chip 7, Lane 0:    XXXXXXXXXXXXXXXXXXXXXXXXXXXXXX----|-----XXXXXXXXXXXXXXXXXXXXXXXX\n",
      "2021-10-05 00:14:53,478 - lwa_f.blocks.block:snap03 - INFO - adc - Chip 7, Lane 1:    XXXXXXXXXXXXXXXXXXXXXXXXXXXXXX----|----XXXXXXXXXXXXXXXXXXXXXXXXX\n",
      "2021-10-05 00:14:53,479 - lwa_f.blocks.block:snap03 - INFO - adc - Chip 7, Lane 2:    XXXXXXXXXXXXXXXXXXXXXXXXXXXXXX----|----XXXXXXXXXXXXXXXXXXXXXXXXX\n",
      "2021-10-05 00:14:53,479 - lwa_f.blocks.block:snap03 - INFO - adc - Chip 7, Lane 3:    XXXXXXXXXXXXXXXXXXXXXXXXXXXXXX----|----XXXXXXXXXXXXXXXXXXXXXXXXX\n",
      "2021-10-05 00:14:53,480 - lwa_f.blocks.block:snap03 - INFO - adc - Chip 7, Lane 4:    XXXXXXXXXXXXXXXXXXXXXXXXXXXXXX----|----XXXXXXXXXXXXXXXXXXXXXXXXX\n",
      "2021-10-05 00:14:53,481 - lwa_f.blocks.block:snap03 - INFO - adc - Chip 7, Lane 5:    XXXXXXXXXXXXXXXXXXXXXXXXXXXXXXXX---|----XXXXXXXXXXXXXXXXXXXXXXXX\n",
      "2021-10-05 00:14:53,481 - lwa_f.blocks.block:snap03 - INFO - adc - Chip 7, Lane 6:    XXXXXXXXXXXXXXXXXXXXXXXXXXXXXXXX---|----XXXXXXXXXXXXXXXXXXXXXXXX\n",
      "2021-10-05 00:14:53,482 - lwa_f.blocks.block:snap03 - INFO - adc - Chip 7, Lane 7:    XXXXXXXXXXXXXXXXXXXXXXXXXXXXXX----|----XXXXXXXXXXXXXXXXXXXXXXXXX\n",
      "2021-10-05 00:14:56,546 - lwa_f.blocks.block:snap03 - INFO - adc - FMC 1 Scanning data delays\n"
     ]
    },
    {
     "name": "stderr",
     "output_type": "stream",
     "text": [
      "100% |########################################################################|\r"
     ]
    },
    {
     "name": "stdout",
     "output_type": "stream",
     "text": [
      "2021-10-05 00:15:05,201 - lwa_f.blocks.block:snap03 - INFO - adc - FMC 1 data lane delays:\n",
      "[[264, 264, 272, 280, 264, 264, 264, 272], [272, 272, 264, 272, 272, 288, 272, 272], [264, 264, 264, 272, 264, 272, 264, 256], [272, 280, 272, 272, 272, 280, 272, 272], [288, 288, 296, 304, 296, 288, 280, 288], [232, 232, 232, 232, 240, 232, 240, 232], [264, 256, 256, 264, 256, 256, 256, 256], [280, 280, 280, 280, 280, 272, 280, 280]]\n",
      "2021-10-05 00:15:05,202 - lwa_f.blocks.block:snap03 - INFO - adc - FMC 1 data lane slacks:\n",
      "[[40, 40, 40, 40, 40, 40, 40, 40], [40, 40, 40, 40, 40, 40, 40, 40], [40, 32, 40, 32, 32, 40, 40, 40], [40, 40, 40, 40, 40, 40, 40, 40], [40, 40, 40, 40, 40, 40, 40, 40], [40, 40, 40, 40, 32, 32, 40, 40], [32, 40, 40, 32, 40, 40, 40, 40], [40, 40, 40, 40, 40, 32, 40, 40]]\n",
      "2021-10-05 00:15:05,203 - lwa_f.blocks.block:snap03 - INFO - adc - Chip 0, Lane 0:    XXXXXXXXXXXXXXXXXXXXXXXXXXXXX----|-----XXXXXXXXXXXXXXXXXXXXXXXXX\n",
      "2021-10-05 00:15:05,204 - lwa_f.blocks.block:snap03 - INFO - adc - Chip 0, Lane 1:    XXXXXXXXXXXXXXXXXXXXXXXXXXXXX----|-----XXXXXXXXXXXXXXXXXXXXXXXXX\n",
      "2021-10-05 00:15:05,205 - lwa_f.blocks.block:snap03 - INFO - adc - Chip 0, Lane 2:    XXXXXXXXXXXXXXXXXXXXXXXXXXXXXX----|----XXXXXXXXXXXXXXXXXXXXXXXXX\n",
      "2021-10-05 00:15:05,206 - lwa_f.blocks.block:snap03 - INFO - adc - Chip 0, Lane 3:    XXXXXXXXXXXXXXXXXXXXXXXXXXXXXXX----|----XXXXXXXXXXXXXXXXXXXXXXXX\n",
      "2021-10-05 00:15:05,206 - lwa_f.blocks.block:snap03 - INFO - adc - Chip 0, Lane 4:    XXXXXXXXXXXXXXXXXXXXXXXXXXXXX----|-----XXXXXXXXXXXXXXXXXXXXXXXXX\n",
      "2021-10-05 00:15:05,207 - lwa_f.blocks.block:snap03 - INFO - adc - Chip 0, Lane 5:    XXXXXXXXXXXXXXXXXXXXXXXXXXXXX----|----XXXXXXXXXXXXXXXXXXXXXXXXXX\n",
      "2021-10-05 00:15:05,208 - lwa_f.blocks.block:snap03 - INFO - adc - Chip 0, Lane 6:    XXXXXXXXXXXXXXXXXXXXXXXXXXXXX----|----XXXXXXXXXXXXXXXXXXXXXXXXXX\n",
      "2021-10-05 00:15:05,208 - lwa_f.blocks.block:snap03 - INFO - adc - Chip 0, Lane 7:    XXXXXXXXXXXXXXXXXXXXXXXXXXXXXX----|-----XXXXXXXXXXXXXXXXXXXXXXXX\n",
      "2021-10-05 00:15:05,209 - lwa_f.blocks.block:snap03 - INFO - adc - Chip 1, Lane 0:    XXXXXXXXXXXXXXXXXXXXXXXXXXXXXX----|-----XXXXXXXXXXXXXXXXXXXXXXXX\n",
      "2021-10-05 00:15:05,209 - lwa_f.blocks.block:snap03 - INFO - adc - Chip 1, Lane 1:    XXXXXXXXXXXXXXXXXXXXXXXXXXXXXX----|-----XXXXXXXXXXXXXXXXXXXXXXXX\n",
      "2021-10-05 00:15:05,210 - lwa_f.blocks.block:snap03 - INFO - adc - Chip 1, Lane 2:    XXXXXXXXXXXXXXXXXXXXXXXXXXXXX----|-----XXXXXXXXXXXXXXXXXXXXXXXXX\n",
      "2021-10-05 00:15:05,211 - lwa_f.blocks.block:snap03 - INFO - adc - Chip 1, Lane 3:    XXXXXXXXXXXXXXXXXXXXXXXXXXXXXX----|-----XXXXXXXXXXXXXXXXXXXXXXXX\n",
      "2021-10-05 00:15:05,212 - lwa_f.blocks.block:snap03 - INFO - adc - Chip 1, Lane 4:    XXXXXXXXXXXXXXXXXXXXXXXXXXXXXX----|----XXXXXXXXXXXXXXXXXXXXXXXXX\n",
      "2021-10-05 00:15:05,215 - lwa_f.blocks.block:snap03 - INFO - adc - Chip 1, Lane 5:    XXXXXXXXXXXXXXXXXXXXXXXXXXXXXXXX----|----XXXXXXXXXXXXXXXXXXXXXXX\n",
      "2021-10-05 00:15:05,216 - lwa_f.blocks.block:snap03 - INFO - adc - Chip 1, Lane 6:    XXXXXXXXXXXXXXXXXXXXXXXXXXXXXX----|-----XXXXXXXXXXXXXXXXXXXXXXXX\n",
      "2021-10-05 00:15:05,216 - lwa_f.blocks.block:snap03 - INFO - adc - Chip 1, Lane 7:    XXXXXXXXXXXXXXXXXXXXXXXXXXXXXX----|----XXXXXXXXXXXXXXXXXXXXXXXXX\n",
      "2021-10-05 00:15:05,217 - lwa_f.blocks.block:snap03 - INFO - adc - Chip 2, Lane 0:    XXXXXXXXXXXXXXXXXXXXXXXXXXXXX----|----XXXXXXXXXXXXXXXXXXXXXXXXXX\n",
      "2021-10-05 00:15:05,218 - lwa_f.blocks.block:snap03 - INFO - adc - Chip 2, Lane 1:    XXXXXXXXXXXXXXXXXXXXXXXXXXXXXX---|----XXXXXXXXXXXXXXXXXXXXXXXXXX\n",
      "2021-10-05 00:15:05,219 - lwa_f.blocks.block:snap03 - INFO - adc - Chip 2, Lane 2:    XXXXXXXXXXXXXXXXXXXXXXXXXXXXX----|-----XXXXXXXXXXXXXXXXXXXXXXXXX\n",
      "2021-10-05 00:15:05,220 - lwa_f.blocks.block:snap03 - INFO - adc - Chip 2, Lane 3:    XXXXXXXXXXXXXXXXXXXXXXXXXXXXXXX---|----XXXXXXXXXXXXXXXXXXXXXXXXX\n",
      "2021-10-05 00:15:05,220 - lwa_f.blocks.block:snap03 - INFO - adc - Chip 2, Lane 4:    XXXXXXXXXXXXXXXXXXXXXXXXXXXXXX---|----XXXXXXXXXXXXXXXXXXXXXXXXXX\n",
      "2021-10-05 00:15:05,221 - lwa_f.blocks.block:snap03 - INFO - adc - Chip 2, Lane 5:    XXXXXXXXXXXXXXXXXXXXXXXXXXXXXX----|----XXXXXXXXXXXXXXXXXXXXXXXXX\n",
      "2021-10-05 00:15:05,222 - lwa_f.blocks.block:snap03 - INFO - adc - Chip 2, Lane 6:    XXXXXXXXXXXXXXXXXXXXXXXXXXXXX----|-----XXXXXXXXXXXXXXXXXXXXXXXXX\n",
      "2021-10-05 00:15:05,222 - lwa_f.blocks.block:snap03 - INFO - adc - Chip 2, Lane 7:    XXXXXXXXXXXXXXXXXXXXXXXXXXXX----|----XXXXXXXXXXXXXXXXXXXXXXXXXXX\n",
      "2021-10-05 00:15:05,223 - lwa_f.blocks.block:snap03 - INFO - adc - Chip 3, Lane 0:    XXXXXXXXXXXXXXXXXXXXXXXXXXXXXX----|----XXXXXXXXXXXXXXXXXXXXXXXXX\n",
      "2021-10-05 00:15:05,224 - lwa_f.blocks.block:snap03 - INFO - adc - Chip 3, Lane 1:    XXXXXXXXXXXXXXXXXXXXXXXXXXXXXXX----|-----XXXXXXXXXXXXXXXXXXXXXXX\n",
      "2021-10-05 00:15:05,225 - lwa_f.blocks.block:snap03 - INFO - adc - Chip 3, Lane 2:    XXXXXXXXXXXXXXXXXXXXXXXXXXXXXX----|----XXXXXXXXXXXXXXXXXXXXXXXXX\n",
      "2021-10-05 00:15:05,226 - lwa_f.blocks.block:snap03 - INFO - adc - Chip 3, Lane 3:    XXXXXXXXXXXXXXXXXXXXXXXXXXXXXX----|-----XXXXXXXXXXXXXXXXXXXXXXXX\n",
      "2021-10-05 00:15:05,227 - lwa_f.blocks.block:snap03 - INFO - adc - Chip 3, Lane 4:    XXXXXXXXXXXXXXXXXXXXXXXXXXXXXX----|-----XXXXXXXXXXXXXXXXXXXXXXXX\n",
      "2021-10-05 00:15:05,228 - lwa_f.blocks.block:snap03 - INFO - adc - Chip 3, Lane 5:    XXXXXXXXXXXXXXXXXXXXXXXXXXXXXXX----|----XXXXXXXXXXXXXXXXXXXXXXXX\n",
      "2021-10-05 00:15:05,229 - lwa_f.blocks.block:snap03 - INFO - adc - Chip 3, Lane 6:    XXXXXXXXXXXXXXXXXXXXXXXXXXXXXX----|-----XXXXXXXXXXXXXXXXXXXXXXXX\n",
      "2021-10-05 00:15:05,230 - lwa_f.blocks.block:snap03 - INFO - adc - Chip 3, Lane 7:    XXXXXXXXXXXXXXXXXXXXXXXXXXXXXX----|-----XXXXXXXXXXXXXXXXXXXXXXXX\n",
      "2021-10-05 00:15:05,231 - lwa_f.blocks.block:snap03 - INFO - adc - Chip 4, Lane 0:    XXXXXXXXXXXXXXXXXXXXXXXXXXXXXXXX----|-----XXXXXXXXXXXXXXXXXXXXXX\n",
      "2021-10-05 00:15:05,234 - lwa_f.blocks.block:snap03 - INFO - adc - Chip 4, Lane 1:    XXXXXXXXXXXXXXXXXXXXXXXXXXXXXXXX----|-----XXXXXXXXXXXXXXXXXXXXXX\n",
      "2021-10-05 00:15:05,234 - lwa_f.blocks.block:snap03 - INFO - adc - Chip 4, Lane 2:    XXXXXXXXXXXXXXXXXXXXXXXXXXXXXXXXX----|-----XXXXXXXXXXXXXXXXXXXXX\n"
     ]
    },
    {
     "name": "stderr",
     "output_type": "stream",
     "text": [
      "\n"
     ]
    },
    {
     "name": "stdout",
     "output_type": "stream",
     "text": [
      "2021-10-05 00:15:05,235 - lwa_f.blocks.block:snap03 - INFO - adc - Chip 4, Lane 3:    XXXXXXXXXXXXXXXXXXXXXXXXXXXXXXXXXX----|-----XXXXXXXXXXXXXXXXXXXX\n",
      "2021-10-05 00:15:05,236 - lwa_f.blocks.block:snap03 - INFO - adc - Chip 4, Lane 4:    XXXXXXXXXXXXXXXXXXXXXXXXXXXXXXXXX----|-----XXXXXXXXXXXXXXXXXXXXX\n",
      "2021-10-05 00:15:05,237 - lwa_f.blocks.block:snap03 - INFO - adc - Chip 4, Lane 5:    XXXXXXXXXXXXXXXXXXXXXXXXXXXXXXXX----|-----XXXXXXXXXXXXXXXXXXXXXX\n",
      "2021-10-05 00:15:05,237 - lwa_f.blocks.block:snap03 - INFO - adc - Chip 4, Lane 6:    XXXXXXXXXXXXXXXXXXXXXXXXXXXXXXX----|-----XXXXXXXXXXXXXXXXXXXXXXX\n",
      "2021-10-05 00:15:05,238 - lwa_f.blocks.block:snap03 - INFO - adc - Chip 4, Lane 7:    XXXXXXXXXXXXXXXXXXXXXXXXXXXXXXXX----|-----XXXXXXXXXXXXXXXXXXXXXX\n",
      "2021-10-05 00:15:05,239 - lwa_f.blocks.block:snap03 - INFO - adc - Chip 5, Lane 0:    XXXXXXXXXXXXXXXXXXXXXXXXX----|-----XXXXXXXXXXXXXXXXXXXXXXXXXXXXX\n",
      "2021-10-05 00:15:05,239 - lwa_f.blocks.block:snap03 - INFO - adc - Chip 5, Lane 1:    XXXXXXXXXXXXXXXXXXXXXXXXX----|-----XXXXXXXXXXXXXXXXXXXXXXXXXXXXX\n",
      "2021-10-05 00:15:05,240 - lwa_f.blocks.block:snap03 - INFO - adc - Chip 5, Lane 2:    XXXXXXXXXXXXXXXXXXXXXXXXX----|----XXXXXXXXXXXXXXXXXXXXXXXXXXXXXX\n",
      "2021-10-05 00:15:05,241 - lwa_f.blocks.block:snap03 - INFO - adc - Chip 5, Lane 3:    XXXXXXXXXXXXXXXXXXXXXXXXX----|----XXXXXXXXXXXXXXXXXXXXXXXXXXXXXX\n",
      "2021-10-05 00:15:05,242 - lwa_f.blocks.block:snap03 - INFO - adc - Chip 5, Lane 4:    XXXXXXXXXXXXXXXXXXXXXXXXXXX---|----XXXXXXXXXXXXXXXXXXXXXXXXXXXXX\n",
      "2021-10-05 00:15:05,242 - lwa_f.blocks.block:snap03 - INFO - adc - Chip 5, Lane 5:    XXXXXXXXXXXXXXXXXXXXXXXXXX---|----XXXXXXXXXXXXXXXXXXXXXXXXXXXXXX\n",
      "2021-10-05 00:15:05,243 - lwa_f.blocks.block:snap03 - INFO - adc - Chip 5, Lane 6:    XXXXXXXXXXXXXXXXXXXXXXXXXX----|-----XXXXXXXXXXXXXXXXXXXXXXXXXXXX\n",
      "2021-10-05 00:15:05,244 - lwa_f.blocks.block:snap03 - INFO - adc - Chip 5, Lane 7:    XXXXXXXXXXXXXXXXXXXXXXXXX----|----XXXXXXXXXXXXXXXXXXXXXXXXXXXXXX\n",
      "2021-10-05 00:15:05,244 - lwa_f.blocks.block:snap03 - INFO - adc - Chip 6, Lane 0:    XXXXXXXXXXXXXXXXXXXXXXXXXXXXXX---|----XXXXXXXXXXXXXXXXXXXXXXXXXX\n",
      "2021-10-05 00:15:05,245 - lwa_f.blocks.block:snap03 - INFO - adc - Chip 6, Lane 1:    XXXXXXXXXXXXXXXXXXXXXXXXXXXX----|----XXXXXXXXXXXXXXXXXXXXXXXXXXX\n",
      "2021-10-05 00:15:05,246 - lwa_f.blocks.block:snap03 - INFO - adc - Chip 6, Lane 2:    XXXXXXXXXXXXXXXXXXXXXXXXXXXX----|----XXXXXXXXXXXXXXXXXXXXXXXXXXX\n",
      "2021-10-05 00:15:05,246 - lwa_f.blocks.block:snap03 - INFO - adc - Chip 6, Lane 3:    XXXXXXXXXXXXXXXXXXXXXXXXXXXXXX---|----XXXXXXXXXXXXXXXXXXXXXXXXXX\n",
      "2021-10-05 00:15:05,247 - lwa_f.blocks.block:snap03 - INFO - adc - Chip 6, Lane 4:    XXXXXXXXXXXXXXXXXXXXXXXXXXXX----|----XXXXXXXXXXXXXXXXXXXXXXXXXXX\n",
      "2021-10-05 00:15:05,248 - lwa_f.blocks.block:snap03 - INFO - adc - Chip 6, Lane 5:    XXXXXXXXXXXXXXXXXXXXXXXXXXXX----|----XXXXXXXXXXXXXXXXXXXXXXXXXXX\n",
      "2021-10-05 00:15:05,248 - lwa_f.blocks.block:snap03 - INFO - adc - Chip 6, Lane 6:    XXXXXXXXXXXXXXXXXXXXXXXXXXXX----|----XXXXXXXXXXXXXXXXXXXXXXXXXXX\n",
      "2021-10-05 00:15:05,249 - lwa_f.blocks.block:snap03 - INFO - adc - Chip 6, Lane 7:    XXXXXXXXXXXXXXXXXXXXXXXXXXXX----|-----XXXXXXXXXXXXXXXXXXXXXXXXXX\n",
      "2021-10-05 00:15:05,250 - lwa_f.blocks.block:snap03 - INFO - adc - Chip 7, Lane 0:    XXXXXXXXXXXXXXXXXXXXXXXXXXXXXXX----|----XXXXXXXXXXXXXXXXXXXXXXXX\n",
      "2021-10-05 00:15:05,251 - lwa_f.blocks.block:snap03 - INFO - adc - Chip 7, Lane 1:    XXXXXXXXXXXXXXXXXXXXXXXXXXXXXXX----|-----XXXXXXXXXXXXXXXXXXXXXXX\n",
      "2021-10-05 00:15:05,251 - lwa_f.blocks.block:snap03 - INFO - adc - Chip 7, Lane 2:    XXXXXXXXXXXXXXXXXXXXXXXXXXXXXXX----|-----XXXXXXXXXXXXXXXXXXXXXXX\n",
      "2021-10-05 00:15:05,252 - lwa_f.blocks.block:snap03 - INFO - adc - Chip 7, Lane 3:    XXXXXXXXXXXXXXXXXXXXXXXXXXXXXXX----|----XXXXXXXXXXXXXXXXXXXXXXXX\n",
      "2021-10-05 00:15:05,253 - lwa_f.blocks.block:snap03 - INFO - adc - Chip 7, Lane 4:    XXXXXXXXXXXXXXXXXXXXXXXXXXXXXXX----|----XXXXXXXXXXXXXXXXXXXXXXXX\n",
      "2021-10-05 00:15:05,253 - lwa_f.blocks.block:snap03 - INFO - adc - Chip 7, Lane 5:    XXXXXXXXXXXXXXXXXXXXXXXXXXXXXXX---|----XXXXXXXXXXXXXXXXXXXXXXXXX\n",
      "2021-10-05 00:15:05,254 - lwa_f.blocks.block:snap03 - INFO - adc - Chip 7, Lane 6:    XXXXXXXXXXXXXXXXXXXXXXXXXXXXXXX----|----XXXXXXXXXXXXXXXXXXXXXXXX\n",
      "2021-10-05 00:15:05,255 - lwa_f.blocks.block:snap03 - INFO - adc - Chip 7, Lane 7:    XXXXXXXXXXXXXXXXXXXXXXXXXXXXXXX----|----XXXXXXXXXXXXXXXXXXXXXXXX\n",
      "2021-10-05 00:15:09,456 - lwa_f.snap2_fengine:snap03 - INFO - Initializing block (writable): sync\n",
      "2021-10-05 00:15:09,470 - lwa_f.snap2_fengine:snap03 - INFO - Initializing block (writable): noise\n",
      "2021-10-05 00:15:09,478 - lwa_f.snap2_fengine:snap03 - INFO - Initializing block (writable): input\n",
      "2021-10-05 00:15:09,701 - lwa_f.snap2_fengine:snap03 - INFO - Initializing block (writable): delay\n",
      "2021-10-05 00:15:10,347 - lwa_f.snap2_fengine:snap03 - INFO - Initializing block (writable): pfb\n",
      "2021-10-05 00:15:10,365 - lwa_f.snap2_fengine:snap03 - INFO - Initializing block (writable): eq\n",
      "2021-10-05 00:15:10,794 - lwa_f.snap2_fengine:snap03 - INFO - Initializing block (writable): eqtvg\n",
      "2021-10-05 00:15:11,870 - lwa_f.snap2_fengine:snap03 - INFO - Initializing block (writable): reorder\n",
      "2021-10-05 00:15:11,891 - lwa_f.snap2_fengine:snap03 - INFO - Initializing block (writable): packetizer\n",
      "2021-10-05 00:15:11,892 - lwa_f.snap2_fengine:snap03 - INFO - Initializing block (writable): eth\n",
      "2021-10-05 00:15:11,903 - lwa_f.snap2_fengine:snap03 - INFO - Initializing block (writable): autocorr\n",
      "2021-10-05 00:15:11,906 - lwa_f.snap2_fengine:snap03 - INFO - Initializing block (writable): corr\n",
      "2021-10-05 00:15:11,910 - lwa_f.snap2_fengine:snap03 - INFO - Initializing block (writable): powermon\n",
      "2021-10-05 00:15:12,196 - lwa_f.snap2_fengine:snap03 - INFO - Performing software global reset\n",
      "2021-10-05 00:15:12,603 - lwa_f.blocks.block:snap01 - WARNING -  - hostname (10.40.0.157) couldn't be turned into integer serial\n",
      "2021-10-05 00:15:12,904 - lwa_f.blocks.block:snap01 - INFO - adc - Detected FMC ADC board on port 0\n",
      "2021-10-05 00:15:13,188 - lwa_f.blocks.block:snap01 - INFO - adc - Detected FMC ADC board on port 1\n",
      "2021-10-05 00:15:13,203 - lwa_f.snap2_fengine:snap01 - INFO - Loading firmware /home/ubuntu/kplant/caltech-lwa/snap2_f_200msps_64i_4096c/outputs/snap2_f_200msps_64i_4096c_2021-10-01_1312.fpg to snap01\n"
     ]
    },
    {
     "name": "stderr",
     "output_type": "stream",
     "text": [
      "100% |########################################################################|\n"
     ]
    },
    {
     "name": "stdout",
     "output_type": "stream",
     "text": [
      "2021-10-05 00:20:29,827 - lwa_f.blocks.block:snap01 - WARNING -  - hostname (10.40.0.157) couldn't be turned into integer serial\n",
      "2021-10-05 00:20:36,217 - lwa_f.blocks.block:snap01 - INFO - adc - Detected FMC ADC board on port 0\n",
      "2021-10-05 00:20:36,496 - lwa_f.blocks.block:snap01 - INFO - adc - Detected FMC ADC board on port 1\n",
      "2021-10-05 00:20:36,510 - lwa_f.snap2_fengine:snap01 - INFO - Initializing block (writable): fpga\n",
      "2021-10-05 00:20:36,511 - lwa_f.snap2_fengine:snap01 - INFO - Initializing block (writable): adc\n",
      "2021-10-05 00:20:36,515 - lwa_f.blocks.block:snap01 - INFO - adc - FMC 0 board 0: Setting clock source to 1\n",
      "2021-10-05 00:20:36,522 - lwa_f.blocks.block:snap01 - INFO - adc - FMC 0 board 1: Setting clock source to 1\n",
      "2021-10-05 00:20:36,529 - lwa_f.blocks.block:snap01 - INFO - adc - FMC 1 board 0: Setting clock source to 1\n",
      "2021-10-05 00:20:36,536 - lwa_f.blocks.block:snap01 - INFO - adc - FMC 1 board 1: Setting clock source to 1\n",
      "2021-10-05 00:20:44,999 - lwa_f.blocks.block:snap01 - INFO - adc - FMC 0 board 0 clock rates: [490679491, 98209982, 98228856, 0, 0]\n",
      "2021-10-05 00:20:45,000 - lwa_f.blocks.block:snap01 - INFO - adc - FMC 0 board 0: MMCM locked\n",
      "2021-10-05 00:20:46,011 - lwa_f.blocks.block:snap01 - INFO - adc - FMC 0 board 1 clock rates: [490640056, 98205399, 98241261, 98282312, 0]\n",
      "2021-10-05 00:20:47,021 - lwa_f.blocks.block:snap01 - INFO - adc - FMC 1 board 0 clock rates: [490673331, 98162508, 98232816, 0, 0]\n",
      "2021-10-05 00:20:47,022 - lwa_f.blocks.block:snap01 - INFO - adc - FMC 1 board 0: MMCM locked\n",
      "2021-10-05 00:20:48,033 - lwa_f.blocks.block:snap01 - INFO - adc - FMC 1 board 1 clock rates: [490721209, 98192373, 98274949, 98328273, 0]\n",
      "2021-10-05 00:20:49,297 - lwa_f.blocks.block:snap01 - INFO - adc - FMC 0 Scanning data delays\n"
     ]
    },
    {
     "name": "stderr",
     "output_type": "stream",
     "text": [
      "100% |########################################################################|\r"
     ]
    },
    {
     "name": "stdout",
     "output_type": "stream",
     "text": [
      "2021-10-05 00:20:57,759 - lwa_f.blocks.block:snap01 - INFO - adc - FMC 0 data lane delays:\n",
      "[[352, 344, 360, 336, 344, 344, 336, 336], [344, 336, 328, 320, 336, 328, 320, 320], [320, 320, 320, 320, 320, 320, 320, 328], [336, 344, 328, 328, 328, 328, 328, 328], [328, 312, 320, 328, 320, 320, 312, 320], [320, 320, 328, 320, 312, 312, 312, 312], [344, 328, 336, 336, 336, 344, 328, 328], [384, 384, 384, 384, 384, 392, 400, 376]]\n",
      "2021-10-05 00:20:57,760 - lwa_f.blocks.block:snap01 - INFO - adc - FMC 0 data lane slacks:\n",
      "[[40, 40, 40, 40, 40, 40, 32, 32], [40, 40, 32, 32, 40, 32, 32, 32], [32, 32, 32, 32, 40, 32, 32, 32], [40, 32, 32, 32, 32, 32, 32, 32], [40, 32, 40, 40, 32, 40, 32, 32], [40, 40, 32, 40, 32, 32, 32, 32], [40, 32, 40, 32, 32, 32, 32, 32], [40, 40, 40, 40, 40, 32, 40, 32]]\n",
      "2021-10-05 00:20:57,761 - lwa_f.blocks.block:snap01 - INFO - adc - Chip 0, Lane 0:    XXXXXXXXXXXXXXXXXXXXXXXXXXXXXXXXXXXXXXXX----|-----XXXXXXXXXXXXXX\n",
      "2021-10-05 00:20:57,762 - lwa_f.blocks.block:snap01 - INFO - adc - Chip 0, Lane 1:    XXXXXXXXXXXXXXXXXXXXXXXXXXXXXXXXXXXXXXX----|-----XXXXXXXXXXXXXXX\n",
      "2021-10-05 00:20:57,763 - lwa_f.blocks.block:snap01 - INFO - adc - Chip 0, Lane 2:    XXXXXXXXXXXXXXXXXXXXXXXXXXXXXXXXXXXXXXXXX----|----XXXXXXXXXXXXXX\n",
      "2021-10-05 00:20:57,763 - lwa_f.blocks.block:snap01 - INFO - adc - Chip 0, Lane 3:    XXXXXXXXXXXXXXXXXXXXXXXXXXXXXXXXXXXXXX----|-----XXXXXXXXXXXXXXXX\n",
      "2021-10-05 00:20:57,764 - lwa_f.blocks.block:snap01 - INFO - adc - Chip 0, Lane 4:    XXXXXXXXXXXXXXXXXXXXXXXXXXXXXXXXXXXXXXX----|----XXXXXXXXXXXXXXXX\n",
      "2021-10-05 00:20:57,765 - lwa_f.blocks.block:snap01 - INFO - adc - Chip 0, Lane 5:    XXXXXXXXXXXXXXXXXXXXXXXXXXXXXXXXXXXXXXX----|----XXXXXXXXXXXXXXXX\n",
      "2021-10-05 00:20:57,766 - lwa_f.blocks.block:snap01 - INFO - adc - Chip 0, Lane 6:    XXXXXXXXXXXXXXXXXXXXXXXXXXXXXXXXXXXXXXX---|----XXXXXXXXXXXXXXXXX\n",
      "2021-10-05 00:20:57,766 - lwa_f.blocks.block:snap01 - INFO - adc - Chip 0, Lane 7:    XXXXXXXXXXXXXXXXXXXXXXXXXXXXXXXXXXXXXXX---|----XXXXXXXXXXXXXXXXX\n",
      "2021-10-05 00:20:57,767 - lwa_f.blocks.block:snap01 - INFO - adc - Chip 1, Lane 0:    XXXXXXXXXXXXXXXXXXXXXXXXXXXXXXXXXXXXXXX----|----XXXXXXXXXXXXXXXX\n",
      "2021-10-05 00:20:57,768 - lwa_f.blocks.block:snap01 - INFO - adc - Chip 1, Lane 1:    XXXXXXXXXXXXXXXXXXXXXXXXXXXXXXXXXXXXXX----|----XXXXXXXXXXXXXXXXX\n",
      "2021-10-05 00:20:57,768 - lwa_f.blocks.block:snap01 - INFO - adc - Chip 1, Lane 2:    XXXXXXXXXXXXXXXXXXXXXXXXXXXXXXXXXXXXXX---|----XXXXXXXXXXXXXXXXXX\n",
      "2021-10-05 00:20:57,769 - lwa_f.blocks.block:snap01 - INFO - adc - Chip 1, Lane 3:    XXXXXXXXXXXXXXXXXXXXXXXXXXXXXXXXXXXXX---|----XXXXXXXXXXXXXXXXXXX\n",
      "2021-10-05 00:20:57,770 - lwa_f.blocks.block:snap01 - INFO - adc - Chip 1, Lane 4:    XXXXXXXXXXXXXXXXXXXXXXXXXXXXXXXXXXXXXX----|----XXXXXXXXXXXXXXXXX\n",
      "2021-10-05 00:20:57,770 - lwa_f.blocks.block:snap01 - INFO - adc - Chip 1, Lane 5:    XXXXXXXXXXXXXXXXXXXXXXXXXXXXXXXXXXXXXX---|---XXXXXXXXXXXXXXXXXXX\n",
      "2021-10-05 00:20:57,771 - lwa_f.blocks.block:snap01 - INFO - adc - Chip 1, Lane 6:    XXXXXXXXXXXXXXXXXXXXXXXXXXXXXXXXXXXXX---|----XXXXXXXXXXXXXXXXXXX\n",
      "2021-10-05 00:20:57,771 - lwa_f.blocks.block:snap01 - INFO - adc - Chip 1, Lane 7:    XXXXXXXXXXXXXXXXXXXXXXXXXXXXXXXXXXXXX---|----XXXXXXXXXXXXXXXXXXX\n",
      "2021-10-05 00:20:57,772 - lwa_f.blocks.block:snap01 - INFO - adc - Chip 2, Lane 0:    XXXXXXXXXXXXXXXXXXXXXXXXXXXXXXXXXXXXX---|----XXXXXXXXXXXXXXXXXXX\n",
      "2021-10-05 00:20:57,772 - lwa_f.blocks.block:snap01 - INFO - adc - Chip 2, Lane 1:    XXXXXXXXXXXXXXXXXXXXXXXXXXXXXXXXXXXXX---|----XXXXXXXXXXXXXXXXXXX\n",
      "2021-10-05 00:20:57,773 - lwa_f.blocks.block:snap01 - INFO - adc - Chip 2, Lane 2:    XXXXXXXXXXXXXXXXXXXXXXXXXXXXXXXXXXXXX---|----XXXXXXXXXXXXXXXXXXX\n",
      "2021-10-05 00:20:57,774 - lwa_f.blocks.block:snap01 - INFO - adc - Chip 2, Lane 3:    XXXXXXXXXXXXXXXXXXXXXXXXXXXXXXXXXXXXX---|---XXXXXXXXXXXXXXXXXXXX\n",
      "2021-10-05 00:20:57,774 - lwa_f.blocks.block:snap01 - INFO - adc - Chip 2, Lane 4:    XXXXXXXXXXXXXXXXXXXXXXXXXXXXXXXXXXXX----|----XXXXXXXXXXXXXXXXXXX\n",
      "2021-10-05 00:20:57,775 - lwa_f.blocks.block:snap01 - INFO - adc - Chip 2, Lane 5:    XXXXXXXXXXXXXXXXXXXXXXXXXXXXXXXXXXXXX---|---XXXXXXXXXXXXXXXXXXXX\n",
      "2021-10-05 00:20:57,775 - lwa_f.blocks.block:snap01 - INFO - adc - Chip 2, Lane 6:    XXXXXXXXXXXXXXXXXXXXXXXXXXXXXXXXXXXXX---|----XXXXXXXXXXXXXXXXXXX\n",
      "2021-10-05 00:20:57,776 - lwa_f.blocks.block:snap01 - INFO - adc - Chip 2, Lane 7:    XXXXXXXXXXXXXXXXXXXXXXXXXXXXXXXXXXXXXX---|----XXXXXXXXXXXXXXXXXX\n",
      "2021-10-05 00:20:57,776 - lwa_f.blocks.block:snap01 - INFO - adc - Chip 3, Lane 0:    XXXXXXXXXXXXXXXXXXXXXXXXXXXXXXXXXXXXXX----|----XXXXXXXXXXXXXXXXX\n",
      "2021-10-05 00:20:57,777 - lwa_f.blocks.block:snap01 - INFO - adc - Chip 3, Lane 1:    XXXXXXXXXXXXXXXXXXXXXXXXXXXXXXXXXXXXXXXX---|----XXXXXXXXXXXXXXXX\n",
      "2021-10-05 00:20:57,778 - lwa_f.blocks.block:snap01 - INFO - adc - Chip 3, Lane 2:    XXXXXXXXXXXXXXXXXXXXXXXXXXXXXXXXXXXXXX---|----XXXXXXXXXXXXXXXXXX\n",
      "2021-10-05 00:20:57,778 - lwa_f.blocks.block:snap01 - INFO - adc - Chip 3, Lane 3:    XXXXXXXXXXXXXXXXXXXXXXXXXXXXXXXXXXXXXX---|----XXXXXXXXXXXXXXXXXX\n",
      "2021-10-05 00:20:57,779 - lwa_f.blocks.block:snap01 - INFO - adc - Chip 3, Lane 4:    XXXXXXXXXXXXXXXXXXXXXXXXXXXXXXXXXXXXXX---|----XXXXXXXXXXXXXXXXXX\n",
      "2021-10-05 00:20:57,779 - lwa_f.blocks.block:snap01 - INFO - adc - Chip 3, Lane 5:    XXXXXXXXXXXXXXXXXXXXXXXXXXXXXXXXXXXXXX---|---XXXXXXXXXXXXXXXXXXX\n",
      "2021-10-05 00:20:57,780 - lwa_f.blocks.block:snap01 - INFO - adc - Chip 3, Lane 6:    XXXXXXXXXXXXXXXXXXXXXXXXXXXXXXXXXXXXXX---|----XXXXXXXXXXXXXXXXXX\n",
      "2021-10-05 00:20:57,781 - lwa_f.blocks.block:snap01 - INFO - adc - Chip 3, Lane 7:    XXXXXXXXXXXXXXXXXXXXXXXXXXXXXXXXXXXXXX---|---XXXXXXXXXXXXXXXXXXX\n",
      "2021-10-05 00:20:57,781 - lwa_f.blocks.block:snap01 - INFO - adc - Chip 4, Lane 0:    XXXXXXXXXXXXXXXXXXXXXXXXXXXXXXXXXXXXX----|----XXXXXXXXXXXXXXXXXX\n",
      "2021-10-05 00:20:57,782 - lwa_f.blocks.block:snap01 - INFO - adc - Chip 4, Lane 1:    XXXXXXXXXXXXXXXXXXXXXXXXXXXXXXXXXXXX---|----XXXXXXXXXXXXXXXXXXXX\n",
      "2021-10-05 00:20:57,782 - lwa_f.blocks.block:snap01 - INFO - adc - Chip 4, Lane 2:    XXXXXXXXXXXXXXXXXXXXXXXXXXXXXXXXXXXX----|----XXXXXXXXXXXXXXXXXXX\n",
      "2021-10-05 00:20:57,783 - lwa_f.blocks.block:snap01 - INFO - adc - Chip 4, Lane 3:    XXXXXXXXXXXXXXXXXXXXXXXXXXXXXXXXXXXXX----|----XXXXXXXXXXXXXXXXXX\n",
      "2021-10-05 00:20:57,784 - lwa_f.blocks.block:snap01 - INFO - adc - Chip 4, Lane 4:    XXXXXXXXXXXXXXXXXXXXXXXXXXXXXXXXXXXXX---|----XXXXXXXXXXXXXXXXXXX\n",
      "2021-10-05 00:20:57,784 - lwa_f.blocks.block:snap01 - INFO - adc - Chip 4, Lane 5:    XXXXXXXXXXXXXXXXXXXXXXXXXXXXXXXXXXXX----|----XXXXXXXXXXXXXXXXXXX\n",
      "2021-10-05 00:20:57,785 - lwa_f.blocks.block:snap01 - INFO - adc - Chip 4, Lane 6:    XXXXXXXXXXXXXXXXXXXXXXXXXXXXXXXXXXXX---|----XXXXXXXXXXXXXXXXXXXX\n",
      "2021-10-05 00:20:57,785 - lwa_f.blocks.block:snap01 - INFO - adc - Chip 4, Lane 7:    XXXXXXXXXXXXXXXXXXXXXXXXXXXXXXXXXXXXX---|----XXXXXXXXXXXXXXXXXXX\n",
      "2021-10-05 00:20:57,786 - lwa_f.blocks.block:snap01 - INFO - adc - Chip 5, Lane 0:    XXXXXXXXXXXXXXXXXXXXXXXXXXXXXXXXXXXX----|----XXXXXXXXXXXXXXXXXXX\n",
      "2021-10-05 00:20:57,787 - lwa_f.blocks.block:snap01 - INFO - adc - Chip 5, Lane 1:    XXXXXXXXXXXXXXXXXXXXXXXXXXXXXXXXXXXX----|-----XXXXXXXXXXXXXXXXXX\n",
      "2021-10-05 00:20:57,787 - lwa_f.blocks.block:snap01 - INFO - adc - Chip 5, Lane 2:    XXXXXXXXXXXXXXXXXXXXXXXXXXXXXXXXXXXXXX---|----XXXXXXXXXXXXXXXXXX\n",
      "2021-10-05 00:20:57,788 - lwa_f.blocks.block:snap01 - INFO - adc - Chip 5, Lane 3:    XXXXXXXXXXXXXXXXXXXXXXXXXXXXXXXXXXXX----|----XXXXXXXXXXXXXXXXXXX\n",
      "2021-10-05 00:20:57,788 - lwa_f.blocks.block:snap01 - INFO - adc - Chip 5, Lane 4:    XXXXXXXXXXXXXXXXXXXXXXXXXXXXXXXXXXXX---|----XXXXXXXXXXXXXXXXXXXX\n",
      "2021-10-05 00:20:57,789 - lwa_f.blocks.block:snap01 - INFO - adc - Chip 5, Lane 5:    XXXXXXXXXXXXXXXXXXXXXXXXXXXXXXXXXXXX---|----XXXXXXXXXXXXXXXXXXXX\n",
      "2021-10-05 00:20:57,790 - lwa_f.blocks.block:snap01 - INFO - adc - Chip 5, Lane 6:    XXXXXXXXXXXXXXXXXXXXXXXXXXXXXXXXXXXX---|----XXXXXXXXXXXXXXXXXXXX\n",
      "2021-10-05 00:20:57,790 - lwa_f.blocks.block:snap01 - INFO - adc - Chip 5, Lane 7:    XXXXXXXXXXXXXXXXXXXXXXXXXXXXXXXXXXXX---|----XXXXXXXXXXXXXXXXXXXX\n",
      "2021-10-05 00:20:57,791 - lwa_f.blocks.block:snap01 - INFO - adc - Chip 6, Lane 0:    XXXXXXXXXXXXXXXXXXXXXXXXXXXXXXXXXXXXXXX----|-----XXXXXXXXXXXXXXX\n",
      "2021-10-05 00:20:57,791 - lwa_f.blocks.block:snap01 - INFO - adc - Chip 6, Lane 1:    XXXXXXXXXXXXXXXXXXXXXXXXXXXXXXXXXXXXXX---|----XXXXXXXXXXXXXXXXXX\n"
     ]
    },
    {
     "name": "stdout",
     "output_type": "stream",
     "text": [
      "2021-10-05 00:20:57,792 - lwa_f.blocks.block:snap01 - INFO - adc - Chip 6, Lane 2:    XXXXXXXXXXXXXXXXXXXXXXXXXXXXXXXXXXXXXX----|----XXXXXXXXXXXXXXXXX\n",
      "2021-10-05 00:20:57,793 - lwa_f.blocks.block:snap01 - INFO - adc - Chip 6, Lane 3:    XXXXXXXXXXXXXXXXXXXXXXXXXXXXXXXXXXXXXXX---|----XXXXXXXXXXXXXXXXX\n",
      "2021-10-05 00:20:57,793 - lwa_f.blocks.block:snap01 - INFO - adc - Chip 6, Lane 4:    XXXXXXXXXXXXXXXXXXXXXXXXXXXXXXXXXXXXXXX---|----XXXXXXXXXXXXXXXXX\n",
      "2021-10-05 00:20:57,794 - lwa_f.blocks.block:snap01 - INFO - adc - Chip 6, Lane 5:    XXXXXXXXXXXXXXXXXXXXXXXXXXXXXXXXXXXXXXXX---|----XXXXXXXXXXXXXXXX\n",
      "2021-10-05 00:20:57,799 - lwa_f.blocks.block:snap01 - INFO - adc - Chip 6, Lane 6:    XXXXXXXXXXXXXXXXXXXXXXXXXXXXXXXXXXXXXX---|----XXXXXXXXXXXXXXXXXX\n",
      "2021-10-05 00:20:57,799 - lwa_f.blocks.block:snap01 - INFO - adc - Chip 6, Lane 7:    XXXXXXXXXXXXXXXXXXXXXXXXXXXXXXXXXXXXXX---|----XXXXXXXXXXXXXXXXXX\n"
     ]
    },
    {
     "name": "stderr",
     "output_type": "stream",
     "text": [
      "\n"
     ]
    },
    {
     "name": "stdout",
     "output_type": "stream",
     "text": [
      "2021-10-05 00:20:57,800 - lwa_f.blocks.block:snap01 - INFO - adc - Chip 7, Lane 0:    XXXXXXXXXXXXXXXXXXXXXXXXXXXXXXXXXXXXXXXXXXXX----|-----XXXXXXXXXX\n",
      "2021-10-05 00:20:57,801 - lwa_f.blocks.block:snap01 - INFO - adc - Chip 7, Lane 1:    XXXXXXXXXXXXXXXXXXXXXXXXXXXXXXXXXXXXXXXXXXXX----|----XXXXXXXXXXX\n",
      "2021-10-05 00:20:57,801 - lwa_f.blocks.block:snap01 - INFO - adc - Chip 7, Lane 2:    XXXXXXXXXXXXXXXXXXXXXXXXXXXXXXXXXXXXXXXXXXXX----|-----XXXXXXXXXX\n",
      "2021-10-05 00:20:57,802 - lwa_f.blocks.block:snap01 - INFO - adc - Chip 7, Lane 3:    XXXXXXXXXXXXXXXXXXXXXXXXXXXXXXXXXXXXXXXXXXXX----|----XXXXXXXXXXX\n",
      "2021-10-05 00:20:57,803 - lwa_f.blocks.block:snap01 - INFO - adc - Chip 7, Lane 4:    XXXXXXXXXXXXXXXXXXXXXXXXXXXXXXXXXXXXXXXXXXXX----|----XXXXXXXXXXX\n",
      "2021-10-05 00:20:57,803 - lwa_f.blocks.block:snap01 - INFO - adc - Chip 7, Lane 5:    XXXXXXXXXXXXXXXXXXXXXXXXXXXXXXXXXXXXXXXXXXXXXX---|----XXXXXXXXXX\n",
      "2021-10-05 00:20:57,804 - lwa_f.blocks.block:snap01 - INFO - adc - Chip 7, Lane 6:    XXXXXXXXXXXXXXXXXXXXXXXXXXXXXXXXXXXXXXXXXXXXXX----|----XXXXXXXXX\n",
      "2021-10-05 00:20:57,805 - lwa_f.blocks.block:snap01 - INFO - adc - Chip 7, Lane 7:    XXXXXXXXXXXXXXXXXXXXXXXXXXXXXXXXXXXXXXXXXXXX---|----XXXXXXXXXXXX\n",
      "2021-10-05 00:21:01,034 - lwa_f.blocks.block:snap01 - INFO - adc - FMC 1 Scanning data delays\n"
     ]
    },
    {
     "name": "stderr",
     "output_type": "stream",
     "text": [
      "100% |########################################################################|\r"
     ]
    },
    {
     "name": "stdout",
     "output_type": "stream",
     "text": [
      "2021-10-05 00:21:09,726 - lwa_f.blocks.block:snap01 - INFO - adc - FMC 1 data lane delays:\n",
      "[[304, 304, 304, 312, 296, 296, 296, 304], [296, 288, 288, 288, 288, 304, 288, 288], [296, 288, 296, 304, 296, 304, 296, 280], [328, 344, 328, 336, 336, 344, 336, 336], [280, 280, 280, 296, 288, 288, 280, 288], [328, 328, 328, 328, 328, 328, 336, 328], [288, 280, 288, 296, 288, 280, 280, 288], [280, 280, 280, 280, 280, 280, 280, 280]]\n",
      "2021-10-05 00:21:09,727 - lwa_f.blocks.block:snap01 - INFO - adc - FMC 1 data lane slacks:\n",
      "[[40, 40, 40, 40, 40, 40, 40, 40], [40, 32, 40, 32, 32, 40, 32, 40], [40, 40, 40, 40, 40, 40, 40, 40], [40, 40, 40, 40, 40, 40, 40, 40], [40, 40, 40, 40, 40, 40, 40, 40], [40, 40, 32, 40, 32, 40, 40, 40], [32, 40, 40, 40, 40, 40, 40, 40], [40, 40, 40, 40, 40, 40, 40, 40]]\n",
      "2021-10-05 00:21:09,728 - lwa_f.blocks.block:snap01 - INFO - adc - Chip 0, Lane 0:    XXXXXXXXXXXXXXXXXXXXXXXXXXXXXXXXXX----|----XXXXXXXXXXXXXXXXXXXXX\n",
      "2021-10-05 00:21:09,729 - lwa_f.blocks.block:snap01 - INFO - adc - Chip 0, Lane 1:    XXXXXXXXXXXXXXXXXXXXXXXXXXXXXXXXXX----|-----XXXXXXXXXXXXXXXXXXXX\n",
      "2021-10-05 00:21:09,729 - lwa_f.blocks.block:snap01 - INFO - adc - Chip 0, Lane 2:    XXXXXXXXXXXXXXXXXXXXXXXXXXXXXXXXXX----|-----XXXXXXXXXXXXXXXXXXXX\n",
      "2021-10-05 00:21:09,730 - lwa_f.blocks.block:snap01 - INFO - adc - Chip 0, Lane 3:    XXXXXXXXXXXXXXXXXXXXXXXXXXXXXXXXXXX----|-----XXXXXXXXXXXXXXXXXXX\n",
      "2021-10-05 00:21:09,731 - lwa_f.blocks.block:snap01 - INFO - adc - Chip 0, Lane 4:    XXXXXXXXXXXXXXXXXXXXXXXXXXXXXXXXX----|-----XXXXXXXXXXXXXXXXXXXXX\n",
      "2021-10-05 00:21:09,732 - lwa_f.blocks.block:snap01 - INFO - adc - Chip 0, Lane 5:    XXXXXXXXXXXXXXXXXXXXXXXXXXXXXXXXX----|-----XXXXXXXXXXXXXXXXXXXXX\n",
      "2021-10-05 00:21:09,733 - lwa_f.blocks.block:snap01 - INFO - adc - Chip 0, Lane 6:    XXXXXXXXXXXXXXXXXXXXXXXXXXXXXXXXX----|----XXXXXXXXXXXXXXXXXXXXXX\n",
      "2021-10-05 00:21:09,733 - lwa_f.blocks.block:snap01 - INFO - adc - Chip 0, Lane 7:    XXXXXXXXXXXXXXXXXXXXXXXXXXXXXXXXXX----|-----XXXXXXXXXXXXXXXXXXXX\n",
      "2021-10-05 00:21:09,734 - lwa_f.blocks.block:snap01 - INFO - adc - Chip 1, Lane 0:    XXXXXXXXXXXXXXXXXXXXXXXXXXXXXXXXX----|----XXXXXXXXXXXXXXXXXXXXXX\n",
      "2021-10-05 00:21:09,735 - lwa_f.blocks.block:snap01 - INFO - adc - Chip 1, Lane 1:    XXXXXXXXXXXXXXXXXXXXXXXXXXXXXXXXX---|----XXXXXXXXXXXXXXXXXXXXXXX\n",
      "2021-10-05 00:21:09,735 - lwa_f.blocks.block:snap01 - INFO - adc - Chip 1, Lane 2:    XXXXXXXXXXXXXXXXXXXXXXXXXXXXXXXX----|----XXXXXXXXXXXXXXXXXXXXXXX\n",
      "2021-10-05 00:21:09,736 - lwa_f.blocks.block:snap01 - INFO - adc - Chip 1, Lane 3:    XXXXXXXXXXXXXXXXXXXXXXXXXXXXXXXXX---|----XXXXXXXXXXXXXXXXXXXXXXX\n",
      "2021-10-05 00:21:09,737 - lwa_f.blocks.block:snap01 - INFO - adc - Chip 1, Lane 4:    XXXXXXXXXXXXXXXXXXXXXXXXXXXXXXXXX---|----XXXXXXXXXXXXXXXXXXXXXXX\n",
      "2021-10-05 00:21:09,738 - lwa_f.blocks.block:snap01 - INFO - adc - Chip 1, Lane 5:    XXXXXXXXXXXXXXXXXXXXXXXXXXXXXXXXXX----|----XXXXXXXXXXXXXXXXXXXXX\n",
      "2021-10-05 00:21:09,738 - lwa_f.blocks.block:snap01 - INFO - adc - Chip 1, Lane 6:    XXXXXXXXXXXXXXXXXXXXXXXXXXXXXXXXX---|----XXXXXXXXXXXXXXXXXXXXXXX\n",
      "2021-10-05 00:21:09,739 - lwa_f.blocks.block:snap01 - INFO - adc - Chip 1, Lane 7:    XXXXXXXXXXXXXXXXXXXXXXXXXXXXXXXX----|----XXXXXXXXXXXXXXXXXXXXXXX\n",
      "2021-10-05 00:21:09,740 - lwa_f.blocks.block:snap01 - INFO - adc - Chip 2, Lane 0:    XXXXXXXXXXXXXXXXXXXXXXXXXXXXXXXXX----|-----XXXXXXXXXXXXXXXXXXXXX\n",
      "2021-10-05 00:21:09,741 - lwa_f.blocks.block:snap01 - INFO - adc - Chip 2, Lane 1:    XXXXXXXXXXXXXXXXXXXXXXXXXXXXXXXX----|-----XXXXXXXXXXXXXXXXXXXXXX\n",
      "2021-10-05 00:21:09,741 - lwa_f.blocks.block:snap01 - INFO - adc - Chip 2, Lane 2:    XXXXXXXXXXXXXXXXXXXXXXXXXXXXXXXXX----|-----XXXXXXXXXXXXXXXXXXXXX\n",
      "2021-10-05 00:21:09,742 - lwa_f.blocks.block:snap01 - INFO - adc - Chip 2, Lane 3:    XXXXXXXXXXXXXXXXXXXXXXXXXXXXXXXXXX----|-----XXXXXXXXXXXXXXXXXXXX\n",
      "2021-10-05 00:21:09,743 - lwa_f.blocks.block:snap01 - INFO - adc - Chip 2, Lane 4:    XXXXXXXXXXXXXXXXXXXXXXXXXXXXXXXXX----|----XXXXXXXXXXXXXXXXXXXXXX\n",
      "2021-10-05 00:21:09,744 - lwa_f.blocks.block:snap01 - INFO - adc - Chip 2, Lane 5:    XXXXXXXXXXXXXXXXXXXXXXXXXXXXXXXXXX----|----XXXXXXXXXXXXXXXXXXXXX\n",
      "2021-10-05 00:21:09,744 - lwa_f.blocks.block:snap01 - INFO - adc - Chip 2, Lane 6:    XXXXXXXXXXXXXXXXXXXXXXXXXXXXXXXXX----|----XXXXXXXXXXXXXXXXXXXXXX\n",
      "2021-10-05 00:21:09,745 - lwa_f.blocks.block:snap01 - INFO - adc - Chip 2, Lane 7:    XXXXXXXXXXXXXXXXXXXXXXXXXXXXXXX----|-----XXXXXXXXXXXXXXXXXXXXXXX\n",
      "2021-10-05 00:21:09,745 - lwa_f.blocks.block:snap01 - INFO - adc - Chip 3, Lane 0:    XXXXXXXXXXXXXXXXXXXXXXXXXXXXXXXXXXXXX----|----XXXXXXXXXXXXXXXXXX\n",
      "2021-10-05 00:21:09,746 - lwa_f.blocks.block:snap01 - INFO - adc - Chip 3, Lane 1:    XXXXXXXXXXXXXXXXXXXXXXXXXXXXXXXXXXXXXXX----|-----XXXXXXXXXXXXXXX\n",
      "2021-10-05 00:21:09,747 - lwa_f.blocks.block:snap01 - INFO - adc - Chip 3, Lane 2:    XXXXXXXXXXXXXXXXXXXXXXXXXXXXXXXXXXXXX----|----XXXXXXXXXXXXXXXXXX\n",
      "2021-10-05 00:21:09,747 - lwa_f.blocks.block:snap01 - INFO - adc - Chip 3, Lane 3:    XXXXXXXXXXXXXXXXXXXXXXXXXXXXXXXXXXXXXX----|-----XXXXXXXXXXXXXXXX\n",
      "2021-10-05 00:21:09,748 - lwa_f.blocks.block:snap01 - INFO - adc - Chip 3, Lane 4:    XXXXXXXXXXXXXXXXXXXXXXXXXXXXXXXXXXXXXX----|----XXXXXXXXXXXXXXXXX\n",
      "2021-10-05 00:21:09,748 - lwa_f.blocks.block:snap01 - INFO - adc - Chip 3, Lane 5:    XXXXXXXXXXXXXXXXXXXXXXXXXXXXXXXXXXXXXXX----|----XXXXXXXXXXXXXXXX\n",
      "2021-10-05 00:21:09,749 - lwa_f.blocks.block:snap01 - INFO - adc - Chip 3, Lane 6:    XXXXXXXXXXXXXXXXXXXXXXXXXXXXXXXXXXXXXX----|----XXXXXXXXXXXXXXXXX\n",
      "2021-10-05 00:21:09,749 - lwa_f.blocks.block:snap01 - INFO - adc - Chip 3, Lane 7:    XXXXXXXXXXXXXXXXXXXXXXXXXXXXXXXXXXXXXX----|----XXXXXXXXXXXXXXXXX\n",
      "2021-10-05 00:21:09,750 - lwa_f.blocks.block:snap01 - INFO - adc - Chip 4, Lane 0:    XXXXXXXXXXXXXXXXXXXXXXXXXXXXXXX----|-----XXXXXXXXXXXXXXXXXXXXXXX\n",
      "2021-10-05 00:21:09,751 - lwa_f.blocks.block:snap01 - INFO - adc - Chip 4, Lane 1:    XXXXXXXXXXXXXXXXXXXXXXXXXXXXXXX----|-----XXXXXXXXXXXXXXXXXXXXXXX\n",
      "2021-10-05 00:21:09,751 - lwa_f.blocks.block:snap01 - INFO - adc - Chip 4, Lane 2:    XXXXXXXXXXXXXXXXXXXXXXXXXXXXXXX----|-----XXXXXXXXXXXXXXXXXXXXXXX\n",
      "2021-10-05 00:21:09,752 - lwa_f.blocks.block:snap01 - INFO - adc - Chip 4, Lane 3:    XXXXXXXXXXXXXXXXXXXXXXXXXXXXXXXXX----|----XXXXXXXXXXXXXXXXXXXXXX\n",
      "2021-10-05 00:21:09,752 - lwa_f.blocks.block:snap01 - INFO - adc - Chip 4, Lane 4:    XXXXXXXXXXXXXXXXXXXXXXXXXXXXXXXX----|-----XXXXXXXXXXXXXXXXXXXXXX\n",
      "2021-10-05 00:21:09,753 - lwa_f.blocks.block:snap01 - INFO - adc - Chip 4, Lane 5:    XXXXXXXXXXXXXXXXXXXXXXXXXXXXXXXX----|----XXXXXXXXXXXXXXXXXXXXXXX\n",
      "2021-10-05 00:21:09,754 - lwa_f.blocks.block:snap01 - INFO - adc - Chip 4, Lane 6:    XXXXXXXXXXXXXXXXXXXXXXXXXXXXXXX----|-----XXXXXXXXXXXXXXXXXXXXXXX\n",
      "2021-10-05 00:21:09,754 - lwa_f.blocks.block:snap01 - INFO - adc - Chip 4, Lane 7:    XXXXXXXXXXXXXXXXXXXXXXXXXXXXXXXX----|----XXXXXXXXXXXXXXXXXXXXXXX\n",
      "2021-10-05 00:21:09,755 - lwa_f.blocks.block:snap01 - INFO - adc - Chip 5, Lane 0:    XXXXXXXXXXXXXXXXXXXXXXXXXXXXXXXXXXXXX----|----XXXXXXXXXXXXXXXXXX\n",
      "2021-10-05 00:21:09,755 - lwa_f.blocks.block:snap01 - INFO - adc - Chip 5, Lane 1:    XXXXXXXXXXXXXXXXXXXXXXXXXXXXXXXXXXXXX----|----XXXXXXXXXXXXXXXXXX\n",
      "2021-10-05 00:21:09,756 - lwa_f.blocks.block:snap01 - INFO - adc - Chip 5, Lane 2:    XXXXXXXXXXXXXXXXXXXXXXXXXXXXXXXXXXXXXX---|----XXXXXXXXXXXXXXXXXX\n",
      "2021-10-05 00:21:09,757 - lwa_f.blocks.block:snap01 - INFO - adc - Chip 5, Lane 3:    XXXXXXXXXXXXXXXXXXXXXXXXXXXXXXXXXXXXX----|----XXXXXXXXXXXXXXXXXX\n",
      "2021-10-05 00:21:09,757 - lwa_f.blocks.block:snap01 - INFO - adc - Chip 5, Lane 4:    XXXXXXXXXXXXXXXXXXXXXXXXXXXXXXXXXXXXXX---|----XXXXXXXXXXXXXXXXXX\n",
      "2021-10-05 00:21:09,758 - lwa_f.blocks.block:snap01 - INFO - adc - Chip 5, Lane 5:    XXXXXXXXXXXXXXXXXXXXXXXXXXXXXXXXXXXXX----|----XXXXXXXXXXXXXXXXXX\n",
      "2021-10-05 00:21:09,758 - lwa_f.blocks.block:snap01 - INFO - adc - Chip 5, Lane 6:    XXXXXXXXXXXXXXXXXXXXXXXXXXXXXXXXXXXXXX----|----XXXXXXXXXXXXXXXXX\n",
      "2021-10-05 00:21:09,759 - lwa_f.blocks.block:snap01 - INFO - adc - Chip 5, Lane 7:    XXXXXXXXXXXXXXXXXXXXXXXXXXXXXXXXXXXXX----|----XXXXXXXXXXXXXXXXXX\n",
      "2021-10-05 00:21:09,759 - lwa_f.blocks.block:snap01 - INFO - adc - Chip 6, Lane 0:    XXXXXXXXXXXXXXXXXXXXXXXXXXXXXXXXX---|----XXXXXXXXXXXXXXXXXXXXXXX\n",
      "2021-10-05 00:21:09,760 - lwa_f.blocks.block:snap01 - INFO - adc - Chip 6, Lane 1:    XXXXXXXXXXXXXXXXXXXXXXXXXXXXXXX----|----XXXXXXXXXXXXXXXXXXXXXXXX\n"
     ]
    },
    {
     "name": "stdout",
     "output_type": "stream",
     "text": [
      "2021-10-05 00:21:09,761 - lwa_f.blocks.block:snap01 - INFO - adc - Chip 6, Lane 2:    XXXXXXXXXXXXXXXXXXXXXXXXXXXXXXXX----|----XXXXXXXXXXXXXXXXXXXXXXX\n",
      "2021-10-05 00:21:09,761 - lwa_f.blocks.block:snap01 - INFO - adc - Chip 6, Lane 3:    XXXXXXXXXXXXXXXXXXXXXXXXXXXXXXXXX----|----XXXXXXXXXXXXXXXXXXXXXX\n",
      "2021-10-05 00:21:09,762 - lwa_f.blocks.block:snap01 - INFO - adc - Chip 6, Lane 4:    XXXXXXXXXXXXXXXXXXXXXXXXXXXXXXXX----|----XXXXXXXXXXXXXXXXXXXXXXX\n",
      "2021-10-05 00:21:09,762 - lwa_f.blocks.block:snap01 - INFO - adc - Chip 6, Lane 5:    XXXXXXXXXXXXXXXXXXXXXXXXXXXXXXX----|----XXXXXXXXXXXXXXXXXXXXXXXX\n",
      "2021-10-05 00:21:09,763 - lwa_f.blocks.block:snap01 - INFO - adc - Chip 6, Lane 6:    XXXXXXXXXXXXXXXXXXXXXXXXXXXXXXX----|----XXXXXXXXXXXXXXXXXXXXXXXX\n",
      "2021-10-05 00:21:09,764 - lwa_f.blocks.block:snap01 - INFO - adc - Chip 6, Lane 7:    XXXXXXXXXXXXXXXXXXXXXXXXXXXXXXXX----|----XXXXXXXXXXXXXXXXXXXXXXX\n"
     ]
    },
    {
     "name": "stderr",
     "output_type": "stream",
     "text": [
      "\n"
     ]
    },
    {
     "name": "stdout",
     "output_type": "stream",
     "text": [
      "2021-10-05 00:21:09,764 - lwa_f.blocks.block:snap01 - INFO - adc - Chip 7, Lane 0:    XXXXXXXXXXXXXXXXXXXXXXXXXXXXXXX----|-----XXXXXXXXXXXXXXXXXXXXXXX\n",
      "2021-10-05 00:21:09,765 - lwa_f.blocks.block:snap01 - INFO - adc - Chip 7, Lane 1:    XXXXXXXXXXXXXXXXXXXXXXXXXXXXXXX----|-----XXXXXXXXXXXXXXXXXXXXXXX\n",
      "2021-10-05 00:21:09,766 - lwa_f.blocks.block:snap01 - INFO - adc - Chip 7, Lane 2:    XXXXXXXXXXXXXXXXXXXXXXXXXXXXXXX----|-----XXXXXXXXXXXXXXXXXXXXXXX\n",
      "2021-10-05 00:21:09,766 - lwa_f.blocks.block:snap01 - INFO - adc - Chip 7, Lane 3:    XXXXXXXXXXXXXXXXXXXXXXXXXXXXXXX----|----XXXXXXXXXXXXXXXXXXXXXXXX\n",
      "2021-10-05 00:21:09,767 - lwa_f.blocks.block:snap01 - INFO - adc - Chip 7, Lane 4:    XXXXXXXXXXXXXXXXXXXXXXXXXXXXXXX----|-----XXXXXXXXXXXXXXXXXXXXXXX\n",
      "2021-10-05 00:21:09,767 - lwa_f.blocks.block:snap01 - INFO - adc - Chip 7, Lane 5:    XXXXXXXXXXXXXXXXXXXXXXXXXXXXXXX----|----XXXXXXXXXXXXXXXXXXXXXXXX\n",
      "2021-10-05 00:21:09,768 - lwa_f.blocks.block:snap01 - INFO - adc - Chip 7, Lane 6:    XXXXXXXXXXXXXXXXXXXXXXXXXXXXXXX----|-----XXXXXXXXXXXXXXXXXXXXXXX\n",
      "2021-10-05 00:21:09,768 - lwa_f.blocks.block:snap01 - INFO - adc - Chip 7, Lane 7:    XXXXXXXXXXXXXXXXXXXXXXXXXXXXXXX----|----XXXXXXXXXXXXXXXXXXXXXXXX\n",
      "2021-10-05 00:21:13,908 - lwa_f.snap2_fengine:snap01 - INFO - Initializing block (writable): sync\n",
      "2021-10-05 00:21:13,925 - lwa_f.snap2_fengine:snap01 - INFO - Initializing block (writable): noise\n",
      "2021-10-05 00:21:13,932 - lwa_f.snap2_fengine:snap01 - INFO - Initializing block (writable): input\n",
      "2021-10-05 00:21:14,150 - lwa_f.snap2_fengine:snap01 - INFO - Initializing block (writable): delay\n",
      "2021-10-05 00:21:14,771 - lwa_f.snap2_fengine:snap01 - INFO - Initializing block (writable): pfb\n",
      "2021-10-05 00:21:14,788 - lwa_f.snap2_fengine:snap01 - INFO - Initializing block (writable): eq\n",
      "2021-10-05 00:21:15,138 - lwa_f.snap2_fengine:snap01 - INFO - Initializing block (writable): eqtvg\n",
      "2021-10-05 00:21:16,173 - lwa_f.snap2_fengine:snap01 - INFO - Initializing block (writable): reorder\n",
      "2021-10-05 00:21:16,192 - lwa_f.snap2_fengine:snap01 - INFO - Initializing block (writable): packetizer\n",
      "2021-10-05 00:21:16,193 - lwa_f.snap2_fengine:snap01 - INFO - Initializing block (writable): eth\n",
      "2021-10-05 00:21:16,205 - lwa_f.snap2_fengine:snap01 - INFO - Initializing block (writable): autocorr\n",
      "2021-10-05 00:21:16,208 - lwa_f.snap2_fengine:snap01 - INFO - Initializing block (writable): corr\n",
      "2021-10-05 00:21:16,210 - lwa_f.snap2_fengine:snap01 - INFO - Initializing block (writable): powermon\n",
      "2021-10-05 00:21:16,508 - lwa_f.snap2_fengine:snap01 - INFO - Performing software global reset\n"
     ]
    }
   ],
   "source": [
    "fpgfile=\"/home/ubuntu/kplant/caltech-lwa/snap2_f_200msps_64i_4096c/outputs/snap2_f_200msps_64i_4096c_2021-09-30_1121.fpg\"\n",
    "brdname3='snap03'\n",
    "#load firmware and initialize etc\n",
    "brd=snap2_fengine.Snap2Fengine(brdname3)\n",
    "brd.program(fpgfile)\n",
    "brd.initialize(read_only=False)\n",
    "brd.sync.arm_sync()\n",
    "brd.sync.sw_sync()\n",
    "casperbrd3 = casperfpga.CasperFpga(brdname3, transport=casperfpga.TapcpTransport)\n",
    "\n",
    "fpgfile=\"/home/ubuntu/kplant/caltech-lwa/snap2_f_200msps_64i_4096c/outputs/snap2_f_200msps_64i_4096c_2021-10-01_1312.fpg\"\n",
    "brdname='snap01'\n",
    "#load firmware and initialize etc\n",
    "brd=snap2_fengine.Snap2Fengine(brdname)\n",
    "brd.program(fpgfile)\n",
    "brd.initialize(read_only=False)\n",
    "brd.sync.arm_sync()\n",
    "brd.sync.sw_sync()\n",
    "casperbrd = casperfpga.CasperFpga(brdname, transport=casperfpga.TapcpTransport)"
   ]
  },
  {
   "cell_type": "markdown",
   "metadata": {},
   "source": [
    "### Check that new version still counts for 10^28 cycles-- problem: It's 127 clock cycles, left over from simulation"
   ]
  },
  {
   "cell_type": "code",
   "execution_count": 97,
   "metadata": {},
   "outputs": [
    {
     "name": "stdout",
     "output_type": "stream",
     "text": [
      "Data source set to counter\n",
      "127\n",
      "268435456\n",
      "-268435329\n"
     ]
    }
   ],
   "source": [
    "setup_data_source(casperbrd,\"counter\")\n",
    "values=struct.unpack('>32l',casperbrd.read(\"cosmic_ray_thresh_rate1\",32*4,0))\n",
    "print(values[1])\n",
    "print(2**28)\n",
    "print(values[1]-2**28)"
   ]
  },
  {
   "cell_type": "markdown",
   "metadata": {},
   "source": [
    "### Check antenna ordering"
   ]
  },
  {
   "cell_type": "code",
   "execution_count": 131,
   "metadata": {},
   "outputs": [
    {
     "name": "stdout",
     "output_type": "stream",
     "text": [
      "Data source set to constant\n",
      "Data source set to constant\n"
     ]
    },
    {
     "data": {
      "text/plain": [
       "(0, 5)"
      ]
     },
     "execution_count": 131,
     "metadata": {},
     "output_type": "execute_result"
    },
    {
     "data": {
      "image/png": "[encoded data removed]",
      "text/plain": [
       "<Figure size 432x288 with 2 Axes>"
      ]
     },
     "metadata": {
      "needs_background": "light"
     },
     "output_type": "display_data"
    },
    {
     "data": {
      "image/png": "[encoded data removed]",
      "text/plain": [
       "<Figure size 432x288 with 2 Axes>"
      ]
     },
     "metadata": {
      "needs_background": "light"
     },
     "output_type": "display_data"
    }
   ],
   "source": [
    "n=1\n",
    "setup_data_source(casperbrd,\"constant\")\n",
    "#check mapping on board 1\n",
    "#version 2.2\n",
    "setvalue(casperbrd,\"trigger_power_thresh\",\"cr_registers.xlsx\",n**2)\n",
    "setvalue(casperbrd,\"veto_power_thresh\",\"cr_registers.xlsx\",n**2)\n",
    "\n",
    "\n",
    "time.sleep(2)  \n",
    "plt.figure()\n",
    "plt.subplot(121)\n",
    "values1=struct.unpack('>32l',casperbrd.read(\"cosmic_ray_veto_thresh_rate1\",32*4,0))\n",
    "values2=struct.unpack('>32l',casperbrd.read(\"cosmic_ray_veto_thresh_rate2\",32*4,0))\n",
    "plt.plot(np.concatenate((values1,values2)))\n",
    "\n",
    "plt.subplot(122)\n",
    "plt.plot(np.concatenate((values1,values2)))\n",
    "plt.xlim(-1,2)\n",
    "\n",
    "\n",
    "# check mapping on board 3, version 2.1\n",
    "setup_data_source(casperbrd3,\"constant\")\n",
    "\n",
    "setvalue(casperbrd3,\"trigger_power_thresh\",\"cr_registers.xlsx\",n**2)\n",
    "setvalue(casperbrd3,\"veto_power_thresh\",\"cr_registers.xlsx\",n**2)\n",
    "\n",
    "time.sleep(2)  \n",
    "\n",
    "plt.figure()\n",
    "plt.subplot(121)\n",
    "values1=struct.unpack('>32l',casperbrd3.read(\"cosmic_ray_thresh_rate1\",32*4,0))\n",
    "values2=struct.unpack('>32l',casperbrd3.read(\"cosmic_ray_thresh_rate2\",32*4,0))\n",
    "plt.plot(np.concatenate((values1,values2)))\n",
    "\n",
    "plt.subplot(122)\n",
    "plt.plot(np.concatenate((values1,values2)))\n",
    "plt.xlim(0,5)\n",
    "\n"
   ]
  },
  {
   "cell_type": "markdown",
   "metadata": {},
   "source": [
    "# Testing cosmic ray system version 2.1"
   ]
  },
  {
   "cell_type": "code",
   "execution_count": 55,
   "metadata": {},
   "outputs": [
    {
     "name": "stdout",
     "output_type": "stream",
     "text": [
      "2021-10-01 19:19:57,128 - lwa_f.blocks.block:snap01 - WARNING -  - hostname (10.40.0.157) couldn't be turned into integer serial\n",
      "2021-10-01 19:19:57,408 - lwa_f.blocks.block:snap01 - INFO - adc - Detected FMC ADC board on port 0\n",
      "2021-10-01 19:19:57,698 - lwa_f.blocks.block:snap01 - INFO - adc - Detected FMC ADC board on port 1\n",
      "2021-10-01 19:19:57,713 - lwa_f.snap2_fengine:snap01 - INFO - Loading firmware /home/ubuntu/kplant/caltech-lwa/snap2_f_200msps_64i_4096c/outputs/snap2_f_200msps_64i_4096c_2021-09-30_1121.fpg to snap01\n",
      "2021-10-01 19:20:22,959 - lwa_f.blocks.block:snap01 - WARNING -  - hostname (10.40.0.157) couldn't be turned into integer serial\n",
      "2021-10-01 19:20:23,295 - lwa_f.blocks.block:snap01 - INFO - adc - Detected FMC ADC board on port 0\n",
      "2021-10-01 19:20:23,623 - lwa_f.blocks.block:snap01 - INFO - adc - Detected FMC ADC board on port 1\n",
      "2021-10-01 19:20:23,638 - lwa_f.snap2_fengine:snap01 - INFO - Initializing block (writable): fpga\n",
      "2021-10-01 19:20:23,639 - lwa_f.snap2_fengine:snap01 - INFO - Initializing block (writable): adc\n",
      "2021-10-01 19:20:23,642 - lwa_f.blocks.block:snap01 - INFO - adc - FMC 0 board 0: Setting clock source to 1\n",
      "2021-10-01 19:20:23,650 - lwa_f.blocks.block:snap01 - INFO - adc - FMC 0 board 1: Setting clock source to 1\n",
      "2021-10-01 19:20:23,658 - lwa_f.blocks.block:snap01 - INFO - adc - FMC 1 board 0: Setting clock source to 1\n",
      "2021-10-01 19:20:23,665 - lwa_f.blocks.block:snap01 - INFO - adc - FMC 1 board 1: Setting clock source to 1\n",
      "2021-10-01 19:20:33,237 - lwa_f.blocks.block:snap01 - INFO - adc - FMC 0 board 0 clock rates: [490715141, 98177477, 98228909, 0, 0]\n",
      "2021-10-01 19:20:33,238 - lwa_f.blocks.block:snap01 - INFO - adc - FMC 0 board 0: MMCM locked\n",
      "2021-10-01 19:20:34,249 - lwa_f.blocks.block:snap01 - INFO - adc - FMC 0 board 1 clock rates: [490760655, 98205455, 98267269, 98305965, 0]\n",
      "2021-10-01 19:20:35,260 - lwa_f.blocks.block:snap01 - INFO - adc - FMC 1 board 0 clock rates: [490798637, 98197950, 98233340, 0, 0]\n",
      "2021-10-01 19:20:35,261 - lwa_f.blocks.block:snap01 - INFO - adc - FMC 1 board 0: MMCM locked\n",
      "2021-10-01 19:20:36,272 - lwa_f.blocks.block:snap01 - INFO - adc - FMC 1 board 1 clock rates: [490763919, 98234417, 98277830, 98330207, 0]\n",
      "2021-10-01 19:20:37,571 - lwa_f.blocks.block:snap01 - INFO - adc - FMC 0 Scanning data delays\n"
     ]
    },
    {
     "name": "stderr",
     "output_type": "stream",
     "text": [
      "100% |########################################################################|\r"
     ]
    },
    {
     "name": "stdout",
     "output_type": "stream",
     "text": [
      "2021-10-01 19:20:45,976 - lwa_f.blocks.block:snap01 - INFO - adc - FMC 0 data lane delays:\n",
      "[[312, 296, 312, 288, 296, 288, 288, 288], [296, 288, 288, 280, 288, 288, 280, 288], [280, 280, 280, 280, 280, 272, 280, 288], [288, 296, 280, 280, 288, 280, 280, 280], [272, 272, 272, 280, 280, 280, 272, 280], [272, 280, 280, 272, 264, 264, 264, 264], [304, 288, 288, 288, 288, 304, 288, 288], [344, 344, 344, 336, 336, 344, 352, 336]]\n",
      "2021-10-01 19:20:45,977 - lwa_f.blocks.block:snap01 - INFO - adc - FMC 0 data lane slacks:\n",
      "[[40, 40, 40, 40, 40, 40, 40, 40], [32, 40, 40, 40, 40, 40, 40, 40], [40, 40, 40, 40, 40, 32, 40, 40], [40, 32, 32, 40, 40, 40, 40, 40], [40, 48, 40, 40, 40, 40, 40, 40], [40, 40, 40, 40, 40, 40, 40, 40], [40, 40, 40, 40, 40, 40, 40, 40], [40, 40, 40, 40, 40, 40, 40, 40]]\n",
      "2021-10-01 19:20:45,977 - lwa_f.blocks.block:snap01 - INFO - adc - Chip 0, Lane 0:    XXXXXXXXXXXXXXXXXXXXXXXXXXXXXXXXXXX----|----XXXXXXXXXXXXXXXXXXXX\n",
      "2021-10-01 19:20:45,978 - lwa_f.blocks.block:snap01 - INFO - adc - Chip 0, Lane 1:    XXXXXXXXXXXXXXXXXXXXXXXXXXXXXXXXX----|-----XXXXXXXXXXXXXXXXXXXXX\n",
      "2021-10-01 19:20:45,979 - lwa_f.blocks.block:snap01 - INFO - adc - Chip 0, Lane 2:    XXXXXXXXXXXXXXXXXXXXXXXXXXXXXXXXXXX----|----XXXXXXXXXXXXXXXXXXXX\n",
      "2021-10-01 19:20:45,979 - lwa_f.blocks.block:snap01 - INFO - adc - Chip 0, Lane 3:    XXXXXXXXXXXXXXXXXXXXXXXXXXXXXXXX----|-----XXXXXXXXXXXXXXXXXXXXXX\n",
      "2021-10-01 19:20:45,980 - lwa_f.blocks.block:snap01 - INFO - adc - Chip 0, Lane 4:    XXXXXXXXXXXXXXXXXXXXXXXXXXXXXXXXX----|-----XXXXXXXXXXXXXXXXXXXXX\n",
      "2021-10-01 19:20:45,981 - lwa_f.blocks.block:snap01 - INFO - adc - Chip 0, Lane 5:    XXXXXXXXXXXXXXXXXXXXXXXXXXXXXXXX----|-----XXXXXXXXXXXXXXXXXXXXXX\n",
      "2021-10-01 19:20:45,981 - lwa_f.blocks.block:snap01 - INFO - adc - Chip 0, Lane 6:    XXXXXXXXXXXXXXXXXXXXXXXXXXXXXXXX----|-----XXXXXXXXXXXXXXXXXXXXXX\n",
      "2021-10-01 19:20:45,982 - lwa_f.blocks.block:snap01 - INFO - adc - Chip 0, Lane 7:    XXXXXXXXXXXXXXXXXXXXXXXXXXXXXXXX----|-----XXXXXXXXXXXXXXXXXXXXXX\n",
      "2021-10-01 19:20:45,982 - lwa_f.blocks.block:snap01 - INFO - adc - Chip 1, Lane 0:    XXXXXXXXXXXXXXXXXXXXXXXXXXXXXXXXXX---|----XXXXXXXXXXXXXXXXXXXXXX\n",
      "2021-10-01 19:20:45,983 - lwa_f.blocks.block:snap01 - INFO - adc - Chip 1, Lane 1:    XXXXXXXXXXXXXXXXXXXXXXXXXXXXXXXX----|----XXXXXXXXXXXXXXXXXXXXXXX\n",
      "2021-10-01 19:20:45,983 - lwa_f.blocks.block:snap01 - INFO - adc - Chip 1, Lane 2:    XXXXXXXXXXXXXXXXXXXXXXXXXXXXXXXX----|----XXXXXXXXXXXXXXXXXXXXXXX\n",
      "2021-10-01 19:20:45,984 - lwa_f.blocks.block:snap01 - INFO - adc - Chip 1, Lane 3:    XXXXXXXXXXXXXXXXXXXXXXXXXXXXXXX----|----XXXXXXXXXXXXXXXXXXXXXXXX\n",
      "2021-10-01 19:20:45,984 - lwa_f.blocks.block:snap01 - INFO - adc - Chip 1, Lane 4:    XXXXXXXXXXXXXXXXXXXXXXXXXXXXXXXX----|----XXXXXXXXXXXXXXXXXXXXXXX\n",
      "2021-10-01 19:20:45,985 - lwa_f.blocks.block:snap01 - INFO - adc - Chip 1, Lane 5:    XXXXXXXXXXXXXXXXXXXXXXXXXXXXXXXX----|----XXXXXXXXXXXXXXXXXXXXXXX\n",
      "2021-10-01 19:20:45,985 - lwa_f.blocks.block:snap01 - INFO - adc - Chip 1, Lane 6:    XXXXXXXXXXXXXXXXXXXXXXXXXXXXXXX----|----XXXXXXXXXXXXXXXXXXXXXXXX\n",
      "2021-10-01 19:20:45,986 - lwa_f.blocks.block:snap01 - INFO - adc - Chip 1, Lane 7:    XXXXXXXXXXXXXXXXXXXXXXXXXXXXXXXX----|----XXXXXXXXXXXXXXXXXXXXXXX\n",
      "2021-10-01 19:20:45,987 - lwa_f.blocks.block:snap01 - INFO - adc - Chip 2, Lane 0:    XXXXXXXXXXXXXXXXXXXXXXXXXXXXXXX----|----XXXXXXXXXXXXXXXXXXXXXXXX\n",
      "2021-10-01 19:20:45,987 - lwa_f.blocks.block:snap01 - INFO - adc - Chip 2, Lane 1:    XXXXXXXXXXXXXXXXXXXXXXXXXXXXXXX----|----XXXXXXXXXXXXXXXXXXXXXXXX\n",
      "2021-10-01 19:20:45,988 - lwa_f.blocks.block:snap01 - INFO - adc - Chip 2, Lane 2:    XXXXXXXXXXXXXXXXXXXXXXXXXXXXXXX----|----XXXXXXXXXXXXXXXXXXXXXXXX\n",
      "2021-10-01 19:20:45,988 - lwa_f.blocks.block:snap01 - INFO - adc - Chip 2, Lane 3:    XXXXXXXXXXXXXXXXXXXXXXXXXXXXXXX----|----XXXXXXXXXXXXXXXXXXXXXXXX\n",
      "2021-10-01 19:20:45,989 - lwa_f.blocks.block:snap01 - INFO - adc - Chip 2, Lane 4:    XXXXXXXXXXXXXXXXXXXXXXXXXXXXXXX----|----XXXXXXXXXXXXXXXXXXXXXXXX\n",
      "2021-10-01 19:20:45,989 - lwa_f.blocks.block:snap01 - INFO - adc - Chip 2, Lane 5:    XXXXXXXXXXXXXXXXXXXXXXXXXXXXXXX---|----XXXXXXXXXXXXXXXXXXXXXXXXX\n",
      "2021-10-01 19:20:45,990 - lwa_f.blocks.block:snap01 - INFO - adc - Chip 2, Lane 6:    XXXXXXXXXXXXXXXXXXXXXXXXXXXXXXX----|----XXXXXXXXXXXXXXXXXXXXXXXX\n",
      "2021-10-01 19:20:45,990 - lwa_f.blocks.block:snap01 - INFO - adc - Chip 2, Lane 7:    XXXXXXXXXXXXXXXXXXXXXXXXXXXXXXXX----|----XXXXXXXXXXXXXXXXXXXXXXX\n",
      "2021-10-01 19:20:45,991 - lwa_f.blocks.block:snap01 - INFO - adc - Chip 3, Lane 0:    XXXXXXXXXXXXXXXXXXXXXXXXXXXXXXXX----|----XXXXXXXXXXXXXXXXXXXXXXX\n",
      "2021-10-01 19:20:45,992 - lwa_f.blocks.block:snap01 - INFO - adc - Chip 3, Lane 1:    XXXXXXXXXXXXXXXXXXXXXXXXXXXXXXXXXX---|----XXXXXXXXXXXXXXXXXXXXXX\n",
      "2021-10-01 19:20:45,992 - lwa_f.blocks.block:snap01 - INFO - adc - Chip 3, Lane 2:    XXXXXXXXXXXXXXXXXXXXXXXXXXXXXXXX---|----XXXXXXXXXXXXXXXXXXXXXXXX\n",
      "2021-10-01 19:20:45,993 - lwa_f.blocks.block:snap01 - INFO - adc - Chip 3, Lane 3:    XXXXXXXXXXXXXXXXXXXXXXXXXXXXXXX----|-----XXXXXXXXXXXXXXXXXXXXXXX\n",
      "2021-10-01 19:20:45,993 - lwa_f.blocks.block:snap01 - INFO - adc - Chip 3, Lane 4:    XXXXXXXXXXXXXXXXXXXXXXXXXXXXXXXX----|----XXXXXXXXXXXXXXXXXXXXXXX\n",
      "2021-10-01 19:20:45,994 - lwa_f.blocks.block:snap01 - INFO - adc - Chip 3, Lane 5:    XXXXXXXXXXXXXXXXXXXXXXXXXXXXXXX----|----XXXXXXXXXXXXXXXXXXXXXXXX\n",
      "2021-10-01 19:20:45,995 - lwa_f.blocks.block:snap01 - INFO - adc - Chip 3, Lane 6:    XXXXXXXXXXXXXXXXXXXXXXXXXXXXXXX----|-----XXXXXXXXXXXXXXXXXXXXXXX\n",
      "2021-10-01 19:20:45,995 - lwa_f.blocks.block:snap01 - INFO - adc - Chip 3, Lane 7:    XXXXXXXXXXXXXXXXXXXXXXXXXXXXXXX----|----XXXXXXXXXXXXXXXXXXXXXXXX\n",
      "2021-10-01 19:20:45,996 - lwa_f.blocks.block:snap01 - INFO - adc - Chip 4, Lane 0:    XXXXXXXXXXXXXXXXXXXXXXXXXXXXXX----|-----XXXXXXXXXXXXXXXXXXXXXXXX\n",
      "2021-10-01 19:20:45,996 - lwa_f.blocks.block:snap01 - INFO - adc - Chip 4, Lane 1:    XXXXXXXXXXXXXXXXXXXXXXXXXXXXX-----|-----XXXXXXXXXXXXXXXXXXXXXXXX\n",
      "2021-10-01 19:20:45,997 - lwa_f.blocks.block:snap01 - INFO - adc - Chip 4, Lane 2:    XXXXXXXXXXXXXXXXXXXXXXXXXXXXXX----|-----XXXXXXXXXXXXXXXXXXXXXXXX\n",
      "2021-10-01 19:20:45,998 - lwa_f.blocks.block:snap01 - INFO - adc - Chip 4, Lane 3:    XXXXXXXXXXXXXXXXXXXXXXXXXXXXXXX----|-----XXXXXXXXXXXXXXXXXXXXXXX\n",
      "2021-10-01 19:20:45,998 - lwa_f.blocks.block:snap01 - INFO - adc - Chip 4, Lane 4:    XXXXXXXXXXXXXXXXXXXXXXXXXXXXXXX----|-----XXXXXXXXXXXXXXXXXXXXXXX\n",
      "2021-10-01 19:20:45,999 - lwa_f.blocks.block:snap01 - INFO - adc - Chip 4, Lane 5:    XXXXXXXXXXXXXXXXXXXXXXXXXXXXXXX----|----XXXXXXXXXXXXXXXXXXXXXXXX\n",
      "2021-10-01 19:20:46,000 - lwa_f.blocks.block:snap01 - INFO - adc - Chip 4, Lane 6:    XXXXXXXXXXXXXXXXXXXXXXXXXXXXXX----|-----XXXXXXXXXXXXXXXXXXXXXXXX\n",
      "2021-10-01 19:20:46,000 - lwa_f.blocks.block:snap01 - INFO - adc - Chip 4, Lane 7:    XXXXXXXXXXXXXXXXXXXXXXXXXXXXXXX----|----XXXXXXXXXXXXXXXXXXXXXXXX\n",
      "2021-10-01 19:20:46,001 - lwa_f.blocks.block:snap01 - INFO - adc - Chip 5, Lane 0:    XXXXXXXXXXXXXXXXXXXXXXXXXXXXXX----|-----XXXXXXXXXXXXXXXXXXXXXXXX\n",
      "2021-10-01 19:20:46,001 - lwa_f.blocks.block:snap01 - INFO - adc - Chip 5, Lane 1:    XXXXXXXXXXXXXXXXXXXXXXXXXXXXXXX----|----XXXXXXXXXXXXXXXXXXXXXXXX\n",
      "2021-10-01 19:20:46,002 - lwa_f.blocks.block:snap01 - INFO - adc - Chip 5, Lane 2:    XXXXXXXXXXXXXXXXXXXXXXXXXXXXXXX----|----XXXXXXXXXXXXXXXXXXXXXXXX\n",
      "2021-10-01 19:20:46,003 - lwa_f.blocks.block:snap01 - INFO - adc - Chip 5, Lane 3:    XXXXXXXXXXXXXXXXXXXXXXXXXXXXXX----|-----XXXXXXXXXXXXXXXXXXXXXXXX\n",
      "2021-10-01 19:20:46,003 - lwa_f.blocks.block:snap01 - INFO - adc - Chip 5, Lane 4:    XXXXXXXXXXXXXXXXXXXXXXXXXXXXX----|-----XXXXXXXXXXXXXXXXXXXXXXXXX\n",
      "2021-10-01 19:20:46,004 - lwa_f.blocks.block:snap01 - INFO - adc - Chip 5, Lane 5:    XXXXXXXXXXXXXXXXXXXXXXXXXXXXX----|-----XXXXXXXXXXXXXXXXXXXXXXXXX\n",
      "2021-10-01 19:20:46,004 - lwa_f.blocks.block:snap01 - INFO - adc - Chip 5, Lane 6:    XXXXXXXXXXXXXXXXXXXXXXXXXXXXX----|-----XXXXXXXXXXXXXXXXXXXXXXXXX\n",
      "2021-10-01 19:20:46,005 - lwa_f.blocks.block:snap01 - INFO - adc - Chip 5, Lane 7:    XXXXXXXXXXXXXXXXXXXXXXXXXXXXX----|-----XXXXXXXXXXXXXXXXXXXXXXXXX\n",
      "2021-10-01 19:20:46,006 - lwa_f.blocks.block:snap01 - INFO - adc - Chip 6, Lane 0:    XXXXXXXXXXXXXXXXXXXXXXXXXXXXXXXXXX----|----XXXXXXXXXXXXXXXXXXXXX\n",
      "2021-10-01 19:20:46,006 - lwa_f.blocks.block:snap01 - INFO - adc - Chip 6, Lane 1:    XXXXXXXXXXXXXXXXXXXXXXXXXXXXXXXX----|----XXXXXXXXXXXXXXXXXXXXXXX\n"
     ]
    },
    {
     "name": "stdout",
     "output_type": "stream",
     "text": [
      "2021-10-01 19:20:46,007 - lwa_f.blocks.block:snap01 - INFO - adc - Chip 6, Lane 2:    XXXXXXXXXXXXXXXXXXXXXXXXXXXXXXXX----|-----XXXXXXXXXXXXXXXXXXXXXX\n",
      "2021-10-01 19:20:46,007 - lwa_f.blocks.block:snap01 - INFO - adc - Chip 6, Lane 3:    XXXXXXXXXXXXXXXXXXXXXXXXXXXXXXXX----|-----XXXXXXXXXXXXXXXXXXXXXX\n",
      "2021-10-01 19:20:46,008 - lwa_f.blocks.block:snap01 - INFO - adc - Chip 6, Lane 4:    XXXXXXXXXXXXXXXXXXXXXXXXXXXXXXXX----|-----XXXXXXXXXXXXXXXXXXXXXX\n"
     ]
    },
    {
     "name": "stderr",
     "output_type": "stream",
     "text": [
      "\n"
     ]
    },
    {
     "name": "stdout",
     "output_type": "stream",
     "text": [
      "2021-10-01 19:20:46,009 - lwa_f.blocks.block:snap01 - INFO - adc - Chip 6, Lane 5:    XXXXXXXXXXXXXXXXXXXXXXXXXXXXXXXXXX----|----XXXXXXXXXXXXXXXXXXXXX\n",
      "2021-10-01 19:20:46,009 - lwa_f.blocks.block:snap01 - INFO - adc - Chip 6, Lane 6:    XXXXXXXXXXXXXXXXXXXXXXXXXXXXXXXX----|----XXXXXXXXXXXXXXXXXXXXXXX\n",
      "2021-10-01 19:20:46,010 - lwa_f.blocks.block:snap01 - INFO - adc - Chip 6, Lane 7:    XXXXXXXXXXXXXXXXXXXXXXXXXXXXXXXX----|----XXXXXXXXXXXXXXXXXXXXXXX\n",
      "2021-10-01 19:20:46,010 - lwa_f.blocks.block:snap01 - INFO - adc - Chip 7, Lane 0:    XXXXXXXXXXXXXXXXXXXXXXXXXXXXXXXXXXXXXXX----|----XXXXXXXXXXXXXXXX\n",
      "2021-10-01 19:20:46,011 - lwa_f.blocks.block:snap01 - INFO - adc - Chip 7, Lane 1:    XXXXXXXXXXXXXXXXXXXXXXXXXXXXXXXXXXXXXXX----|----XXXXXXXXXXXXXXXX\n",
      "2021-10-01 19:20:46,012 - lwa_f.blocks.block:snap01 - INFO - adc - Chip 7, Lane 2:    XXXXXXXXXXXXXXXXXXXXXXXXXXXXXXXXXXXXXXX----|----XXXXXXXXXXXXXXXX\n",
      "2021-10-01 19:20:46,012 - lwa_f.blocks.block:snap01 - INFO - adc - Chip 7, Lane 3:    XXXXXXXXXXXXXXXXXXXXXXXXXXXXXXXXXXXXXX----|-----XXXXXXXXXXXXXXXX\n",
      "2021-10-01 19:20:46,013 - lwa_f.blocks.block:snap01 - INFO - adc - Chip 7, Lane 4:    XXXXXXXXXXXXXXXXXXXXXXXXXXXXXXXXXXXXXX----|-----XXXXXXXXXXXXXXXX\n",
      "2021-10-01 19:20:46,013 - lwa_f.blocks.block:snap01 - INFO - adc - Chip 7, Lane 5:    XXXXXXXXXXXXXXXXXXXXXXXXXXXXXXXXXXXXXXX----|-----XXXXXXXXXXXXXXX\n",
      "2021-10-01 19:20:46,014 - lwa_f.blocks.block:snap01 - INFO - adc - Chip 7, Lane 6:    XXXXXXXXXXXXXXXXXXXXXXXXXXXXXXXXXXXXXXXX----|-----XXXXXXXXXXXXXX\n",
      "2021-10-01 19:20:46,015 - lwa_f.blocks.block:snap01 - INFO - adc - Chip 7, Lane 7:    XXXXXXXXXXXXXXXXXXXXXXXXXXXXXXXXXXXXXX----|-----XXXXXXXXXXXXXXXX\n",
      "2021-10-01 19:20:49,179 - lwa_f.blocks.block:snap01 - INFO - adc - FMC 1 Scanning data delays\n"
     ]
    },
    {
     "name": "stderr",
     "output_type": "stream",
     "text": [
      "100% |########################################################################|\r"
     ]
    },
    {
     "name": "stdout",
     "output_type": "stream",
     "text": [
      "2021-10-01 19:20:57,560 - lwa_f.blocks.block:snap01 - INFO - adc - FMC 1 data lane delays:\n",
      "[[296, 304, 304, 312, 296, 296, 296, 312], [296, 296, 288, 288, 288, 304, 288, 288], [296, 288, 296, 304, 296, 304, 296, 288], [328, 344, 328, 336, 336, 344, 336, 336], [280, 280, 280, 296, 288, 280, 280, 288], [328, 328, 328, 328, 328, 328, 336, 328], [288, 280, 288, 296, 288, 280, 280, 288], [280, 280, 280, 272, 280, 272, 280, 272]]\n",
      "2021-10-01 19:20:57,561 - lwa_f.blocks.block:snap01 - INFO - adc - FMC 1 data lane slacks:\n",
      "[[40, 40, 40, 40, 40, 40, 40, 40], [40, 40, 40, 40, 40, 40, 40, 40], [40, 40, 40, 40, 40, 40, 40, 40], [40, 40, 40, 40, 40, 40, 40, 40], [40, 40, 40, 40, 48, 40, 40, 40], [32, 32, 32, 32, 32, 32, 40, 32], [32, 40, 40, 40, 32, 40, 32, 32], [40, 40, 40, 40, 40, 40, 40, 40]]\n",
      "2021-10-01 19:20:57,561 - lwa_f.blocks.block:snap01 - INFO - adc - Chip 0, Lane 0:    XXXXXXXXXXXXXXXXXXXXXXXXXXXXXXXXX----|-----XXXXXXXXXXXXXXXXXXXXX\n",
      "2021-10-01 19:20:57,562 - lwa_f.blocks.block:snap01 - INFO - adc - Chip 0, Lane 1:    XXXXXXXXXXXXXXXXXXXXXXXXXXXXXXXXXX----|-----XXXXXXXXXXXXXXXXXXXX\n",
      "2021-10-01 19:20:57,563 - lwa_f.blocks.block:snap01 - INFO - adc - Chip 0, Lane 2:    XXXXXXXXXXXXXXXXXXXXXXXXXXXXXXXXXX----|-----XXXXXXXXXXXXXXXXXXXX\n",
      "2021-10-01 19:20:57,564 - lwa_f.blocks.block:snap01 - INFO - adc - Chip 0, Lane 3:    XXXXXXXXXXXXXXXXXXXXXXXXXXXXXXXXXXX----|-----XXXXXXXXXXXXXXXXXXX\n",
      "2021-10-01 19:20:57,565 - lwa_f.blocks.block:snap01 - INFO - adc - Chip 0, Lane 4:    XXXXXXXXXXXXXXXXXXXXXXXXXXXXXXXXX----|-----XXXXXXXXXXXXXXXXXXXXX\n",
      "2021-10-01 19:20:57,566 - lwa_f.blocks.block:snap01 - INFO - adc - Chip 0, Lane 5:    XXXXXXXXXXXXXXXXXXXXXXXXXXXXXXXXX----|-----XXXXXXXXXXXXXXXXXXXXX\n",
      "2021-10-01 19:20:57,566 - lwa_f.blocks.block:snap01 - INFO - adc - Chip 0, Lane 6:    XXXXXXXXXXXXXXXXXXXXXXXXXXXXXXXXX----|----XXXXXXXXXXXXXXXXXXXXXX\n",
      "2021-10-01 19:20:57,567 - lwa_f.blocks.block:snap01 - INFO - adc - Chip 0, Lane 7:    XXXXXXXXXXXXXXXXXXXXXXXXXXXXXXXXXXX----|----XXXXXXXXXXXXXXXXXXXX\n",
      "2021-10-01 19:20:57,568 - lwa_f.blocks.block:snap01 - INFO - adc - Chip 1, Lane 0:    XXXXXXXXXXXXXXXXXXXXXXXXXXXXXXXXX----|----XXXXXXXXXXXXXXXXXXXXXX\n",
      "2021-10-01 19:20:57,569 - lwa_f.blocks.block:snap01 - INFO - adc - Chip 1, Lane 1:    XXXXXXXXXXXXXXXXXXXXXXXXXXXXXXXXX----|----XXXXXXXXXXXXXXXXXXXXXX\n",
      "2021-10-01 19:20:57,569 - lwa_f.blocks.block:snap01 - INFO - adc - Chip 1, Lane 2:    XXXXXXXXXXXXXXXXXXXXXXXXXXXXXXXX----|-----XXXXXXXXXXXXXXXXXXXXXX\n",
      "2021-10-01 19:20:57,570 - lwa_f.blocks.block:snap01 - INFO - adc - Chip 1, Lane 3:    XXXXXXXXXXXXXXXXXXXXXXXXXXXXXXXX----|-----XXXXXXXXXXXXXXXXXXXXXX\n",
      "2021-10-01 19:20:57,571 - lwa_f.blocks.block:snap01 - INFO - adc - Chip 1, Lane 4:    XXXXXXXXXXXXXXXXXXXXXXXXXXXXXXXX----|-----XXXXXXXXXXXXXXXXXXXXXX\n",
      "2021-10-01 19:20:57,571 - lwa_f.blocks.block:snap01 - INFO - adc - Chip 1, Lane 5:    XXXXXXXXXXXXXXXXXXXXXXXXXXXXXXXXXX----|-----XXXXXXXXXXXXXXXXXXXX\n",
      "2021-10-01 19:20:57,572 - lwa_f.blocks.block:snap01 - INFO - adc - Chip 1, Lane 6:    XXXXXXXXXXXXXXXXXXXXXXXXXXXXXXXX----|-----XXXXXXXXXXXXXXXXXXXXXX\n",
      "2021-10-01 19:20:57,572 - lwa_f.blocks.block:snap01 - INFO - adc - Chip 1, Lane 7:    XXXXXXXXXXXXXXXXXXXXXXXXXXXXXXXX----|----XXXXXXXXXXXXXXXXXXXXXXX\n",
      "2021-10-01 19:20:57,573 - lwa_f.blocks.block:snap01 - INFO - adc - Chip 2, Lane 0:    XXXXXXXXXXXXXXXXXXXXXXXXXXXXXXXXX----|-----XXXXXXXXXXXXXXXXXXXXX\n",
      "2021-10-01 19:20:57,574 - lwa_f.blocks.block:snap01 - INFO - adc - Chip 2, Lane 1:    XXXXXXXXXXXXXXXXXXXXXXXXXXXXXXXX----|-----XXXXXXXXXXXXXXXXXXXXXX\n",
      "2021-10-01 19:20:57,575 - lwa_f.blocks.block:snap01 - INFO - adc - Chip 2, Lane 2:    XXXXXXXXXXXXXXXXXXXXXXXXXXXXXXXXX----|-----XXXXXXXXXXXXXXXXXXXXX\n",
      "2021-10-01 19:20:57,575 - lwa_f.blocks.block:snap01 - INFO - adc - Chip 2, Lane 3:    XXXXXXXXXXXXXXXXXXXXXXXXXXXXXXXXXX----|-----XXXXXXXXXXXXXXXXXXXX\n",
      "2021-10-01 19:20:57,576 - lwa_f.blocks.block:snap01 - INFO - adc - Chip 2, Lane 4:    XXXXXXXXXXXXXXXXXXXXXXXXXXXXXXXXX----|----XXXXXXXXXXXXXXXXXXXXXX\n",
      "2021-10-01 19:20:57,576 - lwa_f.blocks.block:snap01 - INFO - adc - Chip 2, Lane 5:    XXXXXXXXXXXXXXXXXXXXXXXXXXXXXXXXXX----|-----XXXXXXXXXXXXXXXXXXXX\n",
      "2021-10-01 19:20:57,577 - lwa_f.blocks.block:snap01 - INFO - adc - Chip 2, Lane 6:    XXXXXXXXXXXXXXXXXXXXXXXXXXXXXXXXX----|-----XXXXXXXXXXXXXXXXXXXXX\n",
      "2021-10-01 19:20:57,578 - lwa_f.blocks.block:snap01 - INFO - adc - Chip 2, Lane 7:    XXXXXXXXXXXXXXXXXXXXXXXXXXXXXXXX----|----XXXXXXXXXXXXXXXXXXXXXXX\n",
      "2021-10-01 19:20:57,578 - lwa_f.blocks.block:snap01 - INFO - adc - Chip 3, Lane 0:    XXXXXXXXXXXXXXXXXXXXXXXXXXXXXXXXXXXXX----|----XXXXXXXXXXXXXXXXXX\n",
      "2021-10-01 19:20:57,579 - lwa_f.blocks.block:snap01 - INFO - adc - Chip 3, Lane 1:    XXXXXXXXXXXXXXXXXXXXXXXXXXXXXXXXXXXXXXX----|-----XXXXXXXXXXXXXXX\n",
      "2021-10-01 19:20:57,580 - lwa_f.blocks.block:snap01 - INFO - adc - Chip 3, Lane 2:    XXXXXXXXXXXXXXXXXXXXXXXXXXXXXXXXXXXXX----|-----XXXXXXXXXXXXXXXXX\n",
      "2021-10-01 19:20:57,580 - lwa_f.blocks.block:snap01 - INFO - adc - Chip 3, Lane 3:    XXXXXXXXXXXXXXXXXXXXXXXXXXXXXXXXXXXXXX----|----XXXXXXXXXXXXXXXXX\n",
      "2021-10-01 19:20:57,581 - lwa_f.blocks.block:snap01 - INFO - adc - Chip 3, Lane 4:    XXXXXXXXXXXXXXXXXXXXXXXXXXXXXXXXXXXXXX----|----XXXXXXXXXXXXXXXXX\n",
      "2021-10-01 19:20:57,582 - lwa_f.blocks.block:snap01 - INFO - adc - Chip 3, Lane 5:    XXXXXXXXXXXXXXXXXXXXXXXXXXXXXXXXXXXXXXX----|----XXXXXXXXXXXXXXXX\n",
      "2021-10-01 19:20:57,582 - lwa_f.blocks.block:snap01 - INFO - adc - Chip 3, Lane 6:    XXXXXXXXXXXXXXXXXXXXXXXXXXXXXXXXXXXXXX----|----XXXXXXXXXXXXXXXXX\n",
      "2021-10-01 19:20:57,583 - lwa_f.blocks.block:snap01 - INFO - adc - Chip 3, Lane 7:    XXXXXXXXXXXXXXXXXXXXXXXXXXXXXXXXXXXXXX----|----XXXXXXXXXXXXXXXXX\n",
      "2021-10-01 19:20:57,584 - lwa_f.blocks.block:snap01 - INFO - adc - Chip 4, Lane 0:    XXXXXXXXXXXXXXXXXXXXXXXXXXXXXXX----|-----XXXXXXXXXXXXXXXXXXXXXXX\n",
      "2021-10-01 19:20:57,584 - lwa_f.blocks.block:snap01 - INFO - adc - Chip 4, Lane 1:    XXXXXXXXXXXXXXXXXXXXXXXXXXXXXXX----|-----XXXXXXXXXXXXXXXXXXXXXXX\n",
      "2021-10-01 19:20:57,585 - lwa_f.blocks.block:snap01 - INFO - adc - Chip 4, Lane 2:    XXXXXXXXXXXXXXXXXXXXXXXXXXXXXXX----|-----XXXXXXXXXXXXXXXXXXXXXXX\n",
      "2021-10-01 19:20:57,585 - lwa_f.blocks.block:snap01 - INFO - adc - Chip 4, Lane 3:    XXXXXXXXXXXXXXXXXXXXXXXXXXXXXXXXX----|-----XXXXXXXXXXXXXXXXXXXXX\n",
      "2021-10-01 19:20:57,586 - lwa_f.blocks.block:snap01 - INFO - adc - Chip 4, Lane 4:    XXXXXXXXXXXXXXXXXXXXXXXXXXXXXXX-----|-----XXXXXXXXXXXXXXXXXXXXXX\n",
      "2021-10-01 19:20:57,587 - lwa_f.blocks.block:snap01 - INFO - adc - Chip 4, Lane 5:    XXXXXXXXXXXXXXXXXXXXXXXXXXXXXXX----|-----XXXXXXXXXXXXXXXXXXXXXXX\n",
      "2021-10-01 19:20:57,587 - lwa_f.blocks.block:snap01 - INFO - adc - Chip 4, Lane 6:    XXXXXXXXXXXXXXXXXXXXXXXXXXXXXXX----|-----XXXXXXXXXXXXXXXXXXXXXXX\n",
      "2021-10-01 19:20:57,588 - lwa_f.blocks.block:snap01 - INFO - adc - Chip 4, Lane 7:    XXXXXXXXXXXXXXXXXXXXXXXXXXXXXXXX----|----XXXXXXXXXXXXXXXXXXXXXXX\n",
      "2021-10-01 19:20:57,589 - lwa_f.blocks.block:snap01 - INFO - adc - Chip 5, Lane 0:    XXXXXXXXXXXXXXXXXXXXXXXXXXXXXXXXXXXXXX---|----XXXXXXXXXXXXXXXXXX\n",
      "2021-10-01 19:20:57,589 - lwa_f.blocks.block:snap01 - INFO - adc - Chip 5, Lane 1:    XXXXXXXXXXXXXXXXXXXXXXXXXXXXXXXXXXXXXX---|----XXXXXXXXXXXXXXXXXX\n",
      "2021-10-01 19:20:57,590 - lwa_f.blocks.block:snap01 - INFO - adc - Chip 5, Lane 2:    XXXXXXXXXXXXXXXXXXXXXXXXXXXXXXXXXXXXXX---|----XXXXXXXXXXXXXXXXXX\n",
      "2021-10-01 19:20:57,591 - lwa_f.blocks.block:snap01 - INFO - adc - Chip 5, Lane 3:    XXXXXXXXXXXXXXXXXXXXXXXXXXXXXXXXXXXXXX---|---XXXXXXXXXXXXXXXXXXX\n",
      "2021-10-01 19:20:57,591 - lwa_f.blocks.block:snap01 - INFO - adc - Chip 5, Lane 4:    XXXXXXXXXXXXXXXXXXXXXXXXXXXXXXXXXXXXXX---|----XXXXXXXXXXXXXXXXXX\n",
      "2021-10-01 19:20:57,592 - lwa_f.blocks.block:snap01 - INFO - adc - Chip 5, Lane 5:    XXXXXXXXXXXXXXXXXXXXXXXXXXXXXXXXXXXXXX---|---XXXXXXXXXXXXXXXXXXX\n",
      "2021-10-01 19:20:57,592 - lwa_f.blocks.block:snap01 - INFO - adc - Chip 5, Lane 6:    XXXXXXXXXXXXXXXXXXXXXXXXXXXXXXXXXXXXXX----|----XXXXXXXXXXXXXXXXX\n"
     ]
    },
    {
     "name": "stderr",
     "output_type": "stream",
     "text": [
      "\n"
     ]
    },
    {
     "name": "stdout",
     "output_type": "stream",
     "text": [
      "2021-10-01 19:20:57,593 - lwa_f.blocks.block:snap01 - INFO - adc - Chip 5, Lane 7:    XXXXXXXXXXXXXXXXXXXXXXXXXXXXXXXXXXXXXX---|----XXXXXXXXXXXXXXXXXX\n",
      "2021-10-01 19:20:57,594 - lwa_f.blocks.block:snap01 - INFO - adc - Chip 6, Lane 0:    XXXXXXXXXXXXXXXXXXXXXXXXXXXXXXXXX---|----XXXXXXXXXXXXXXXXXXXXXXX\n",
      "2021-10-01 19:20:57,595 - lwa_f.blocks.block:snap01 - INFO - adc - Chip 6, Lane 1:    XXXXXXXXXXXXXXXXXXXXXXXXXXXXXXX----|----XXXXXXXXXXXXXXXXXXXXXXXX\n",
      "2021-10-01 19:20:57,596 - lwa_f.blocks.block:snap01 - INFO - adc - Chip 6, Lane 2:    XXXXXXXXXXXXXXXXXXXXXXXXXXXXXXXX----|----XXXXXXXXXXXXXXXXXXXXXXX\n",
      "2021-10-01 19:20:57,596 - lwa_f.blocks.block:snap01 - INFO - adc - Chip 6, Lane 3:    XXXXXXXXXXXXXXXXXXXXXXXXXXXXXXXXX----|----XXXXXXXXXXXXXXXXXXXXXX\n",
      "2021-10-01 19:20:57,597 - lwa_f.blocks.block:snap01 - INFO - adc - Chip 6, Lane 4:    XXXXXXXXXXXXXXXXXXXXXXXXXXXXXXXXX---|----XXXXXXXXXXXXXXXXXXXXXXX\n",
      "2021-10-01 19:20:57,598 - lwa_f.blocks.block:snap01 - INFO - adc - Chip 6, Lane 5:    XXXXXXXXXXXXXXXXXXXXXXXXXXXXXXX----|----XXXXXXXXXXXXXXXXXXXXXXXX\n",
      "2021-10-01 19:20:57,599 - lwa_f.blocks.block:snap01 - INFO - adc - Chip 6, Lane 6:    XXXXXXXXXXXXXXXXXXXXXXXXXXXXXXXX---|----XXXXXXXXXXXXXXXXXXXXXXXX\n",
      "2021-10-01 19:20:57,599 - lwa_f.blocks.block:snap01 - INFO - adc - Chip 6, Lane 7:    XXXXXXXXXXXXXXXXXXXXXXXXXXXXXXXXX---|----XXXXXXXXXXXXXXXXXXXXXXX\n",
      "2021-10-01 19:20:57,600 - lwa_f.blocks.block:snap01 - INFO - adc - Chip 7, Lane 0:    XXXXXXXXXXXXXXXXXXXXXXXXXXXXXXX----|----XXXXXXXXXXXXXXXXXXXXXXXX\n",
      "2021-10-01 19:20:57,601 - lwa_f.blocks.block:snap01 - INFO - adc - Chip 7, Lane 1:    XXXXXXXXXXXXXXXXXXXXXXXXXXXXXXX----|----XXXXXXXXXXXXXXXXXXXXXXXX\n",
      "2021-10-01 19:20:57,602 - lwa_f.blocks.block:snap01 - INFO - adc - Chip 7, Lane 2:    XXXXXXXXXXXXXXXXXXXXXXXXXXXXXXX----|----XXXXXXXXXXXXXXXXXXXXXXXX\n",
      "2021-10-01 19:20:57,602 - lwa_f.blocks.block:snap01 - INFO - adc - Chip 7, Lane 3:    XXXXXXXXXXXXXXXXXXXXXXXXXXXXXX----|-----XXXXXXXXXXXXXXXXXXXXXXXX\n",
      "2021-10-01 19:20:57,603 - lwa_f.blocks.block:snap01 - INFO - adc - Chip 7, Lane 4:    XXXXXXXXXXXXXXXXXXXXXXXXXXXXXXX----|----XXXXXXXXXXXXXXXXXXXXXXXX\n",
      "2021-10-01 19:20:57,603 - lwa_f.blocks.block:snap01 - INFO - adc - Chip 7, Lane 5:    XXXXXXXXXXXXXXXXXXXXXXXXXXXXXX----|-----XXXXXXXXXXXXXXXXXXXXXXXX\n",
      "2021-10-01 19:20:57,604 - lwa_f.blocks.block:snap01 - INFO - adc - Chip 7, Lane 6:    XXXXXXXXXXXXXXXXXXXXXXXXXXXXXXX----|----XXXXXXXXXXXXXXXXXXXXXXXX\n",
      "2021-10-01 19:20:57,605 - lwa_f.blocks.block:snap01 - INFO - adc - Chip 7, Lane 7:    XXXXXXXXXXXXXXXXXXXXXXXXXXXXXX----|-----XXXXXXXXXXXXXXXXXXXXXXXX\n",
      "2021-10-01 19:21:01,795 - lwa_f.snap2_fengine:snap01 - INFO - Initializing block (writable): sync\n",
      "2021-10-01 19:21:01,808 - lwa_f.snap2_fengine:snap01 - INFO - Initializing block (writable): noise\n",
      "2021-10-01 19:21:01,815 - lwa_f.snap2_fengine:snap01 - INFO - Initializing block (writable): input\n",
      "2021-10-01 19:21:02,003 - lwa_f.snap2_fengine:snap01 - INFO - Initializing block (writable): delay\n",
      "2021-10-01 19:21:02,539 - lwa_f.snap2_fengine:snap01 - INFO - Initializing block (writable): pfb\n",
      "2021-10-01 19:21:02,555 - lwa_f.snap2_fengine:snap01 - INFO - Initializing block (writable): eq\n",
      "2021-10-01 19:21:02,952 - lwa_f.snap2_fengine:snap01 - INFO - Initializing block (writable): eqtvg\n",
      "2021-10-01 19:21:04,039 - lwa_f.snap2_fengine:snap01 - INFO - Initializing block (writable): reorder\n",
      "2021-10-01 19:21:04,057 - lwa_f.snap2_fengine:snap01 - INFO - Initializing block (writable): packetizer\n",
      "2021-10-01 19:21:04,058 - lwa_f.snap2_fengine:snap01 - INFO - Initializing block (writable): eth\n",
      "2021-10-01 19:21:04,069 - lwa_f.snap2_fengine:snap01 - INFO - Initializing block (writable): autocorr\n",
      "2021-10-01 19:21:04,073 - lwa_f.snap2_fengine:snap01 - INFO - Initializing block (writable): corr\n",
      "2021-10-01 19:21:04,075 - lwa_f.snap2_fengine:snap01 - INFO - Initializing block (writable): powermon\n",
      "2021-10-01 19:21:04,348 - lwa_f.snap2_fengine:snap01 - INFO - Performing software global reset\n"
     ]
    }
   ],
   "source": [
    "fpgfile=\"/home/ubuntu/kplant/caltech-lwa/snap2_f_200msps_64i_4096c/outputs/snap2_f_200msps_64i_4096c_2021-09-30_1121.fpg\"\n",
    "brdname='snap01'\n",
    "#load firmware and initialize etc\n",
    "brd=snap2_fengine.Snap2Fengine(brdname)\n",
    "brd.program(fpgfile)\n",
    "brd.initialize(read_only=False)\n",
    "brd.sync.arm_sync()\n",
    "brd.sync.sw_sync()"
   ]
  },
  {
   "cell_type": "code",
   "execution_count": 57,
   "metadata": {},
   "outputs": [],
   "source": [
    "casperbrd = casperfpga.CasperFpga(brdname, transport=casperfpga.TapcpTransport)"
   ]
  },
  {
   "cell_type": "markdown",
   "metadata": {},
   "source": [
    "### Confirm buffer size is updated\n",
    "I confirmed the size has changed by trying to read different sizes and verifying that nothing bigger than 32 works.  I repeated this for all four individual-antenna buffers.\n"
   ]
  },
  {
   "cell_type": "code",
   "execution_count": 45,
   "metadata": {},
   "outputs": [
    {
     "data": {
      "text/plain": [
       "[<matplotlib.lines.Line2D at 0x7efd9a5fa910>]"
      ]
     },
     "execution_count": 45,
     "metadata": {},
     "output_type": "execute_result"
    },
    {
     "data": {
      "image/png": "[encoded data removed]",
      "text/plain": [
       "<Figure size 432x288 with 1 Axes>"
      ]
     },
     "metadata": {
      "needs_background": "light"
     },
     "output_type": "display_data"
    }
   ],
   "source": [
    "values=struct.unpack('>32l',casperbrd.read(\"cosmic_ray_thresh_rate2\",32*4,0))\n",
    "plt.plot(values)\n"
   ]
  },
  {
   "cell_type": "markdown",
   "metadata": {},
   "source": [
    "### Confirm update is every 2^28 clock cycles"
   ]
  },
  {
   "cell_type": "markdown",
   "metadata": {},
   "source": [
    "I was very puzzled by this, but I think it makes sense since the threshold block is expecting signed numbers, and so the counter is sometimes negative?  But why not half the time?  Anyway, I do get the expected result when the data is a constant."
   ]
  },
  {
   "cell_type": "code",
   "execution_count": 41,
   "metadata": {},
   "outputs": [
    {
     "name": "stdout",
     "output_type": "stream",
     "text": [
      "Data source set to counter\n",
      "0\n",
      "268435456\n",
      "-268435456\n"
     ]
    }
   ],
   "source": [
    "setup_data_source(casperbrd,\"counter\")\n",
    "values=struct.unpack('>32l',casperbrd.read(\"cosmic_ray_thresh_rate1\",32*4,0))\n",
    "print(values[1])\n",
    "print(2**28)\n",
    "print(values[1]-2**28)"
   ]
  },
  {
   "cell_type": "code",
   "execution_count": 47,
   "metadata": {},
   "outputs": [
    {
     "name": "stdout",
     "output_type": "stream",
     "text": [
      "268435456\n",
      "268173311.0\n",
      "-262145.0\n",
      "268173311.0\n",
      "-262145.0\n"
     ]
    }
   ],
   "source": [
    "setvalue(casperbrd,\"trigger_power_thresh\",\"cr_registers.xlsx\",0)\n",
    "setvalue(casperbrd,\"veto_power_thresh\",\"cr_registers.xlsx\",0)\n",
    "time.sleep(2)  #have to wait for it to update\n",
    "core,veto = read_threshold_rates(casperbrd)\n",
    "\n",
    "print(2**28)\n",
    "\n",
    "print(core[1])\n",
    "print(core[1]-2**28)\n",
    "\n",
    "print(veto[1])\n",
    "print(veto[1]-2**28)"
   ]
  },
  {
   "cell_type": "markdown",
   "metadata": {},
   "source": [
    "\n",
    "### Check antenna mapping and compare the new version to the old\n",
    "I do a test similar to how I simulated the threshold excess counters.  I keep the thresholds at zero and make the data a constant for each antenna.  All antennas except 0 should exceed threshold on every clock cycle and antenna 0 should never exceed threshold.  Thus, all counts should be 2^28 because that is the number of clock cycles between reset pulses.\n",
    "\n",
    "This shows that the delay I added broke things worse. "
   ]
  },
  {
   "cell_type": "code",
   "execution_count": 90,
   "metadata": {},
   "outputs": [
    {
     "name": "stdout",
     "output_type": "stream",
     "text": [
      "Data source set to constant\n"
     ]
    },
    {
     "data": {
      "text/plain": [
       "(0, 5)"
      ]
     },
     "execution_count": 90,
     "metadata": {},
     "output_type": "execute_result"
    },
    {
     "data": {
      "image/png": "[encoded data removed]",
      "text/plain": [
       "<Figure size 432x288 with 2 Axes>"
      ]
     },
     "metadata": {
      "needs_background": "light"
     },
     "output_type": "display_data"
    }
   ],
   "source": [
    "#version 2.1\n",
    "n=2\n",
    "setup_data_source(casperbrd,\"constant\")\n",
    "\n",
    "setvalue(casperbrd,\"trigger_power_thresh\",\"cr_registers.xlsx\",n**2)\n",
    "setvalue(casperbrd,\"veto_power_thresh\",\"cr_registers.xlsx\",n**2)\n",
    "\n",
    "getvalue(casperbrd,\"trigger_power_thresh\",\"cr_registers.xlsx\")\n",
    "time.sleep(2)  #have to wait for it to update\n",
    "#core,veto = old_read_threshold_rates(casperbrd3)\n",
    "#plt.subplot(121)\n",
    "#plt.plot(core)\n",
    "#plt.subplot(122)\n",
    "#plt.plot(veto)\n",
    "\n",
    "plt.subplot(121)\n",
    "values1=struct.unpack('>32l',casperbrd.read(\"cosmic_ray_thresh_rate2\",32*4,0))\n",
    "values2=struct.unpack('>32l',casperbrd.read(\"cosmic_ray_thresh_rate2\",32*4,0))\n",
    "plt.plot(np.concatenate((values1,values2)))\n",
    "\n",
    "plt.subplot(122)\n",
    "plt.plot(np.concatenate((values1,values2)))\n",
    "plt.xlim(0,5)"
   ]
  },
  {
   "cell_type": "code",
   "execution_count": 76,
   "metadata": {},
   "outputs": [
    {
     "name": "stdout",
     "output_type": "stream",
     "text": [
      "2021-10-01 19:33:43,247 - lwa_f.blocks.block:snap03 - WARNING -  - hostname (10.40.0.188) couldn't be turned into integer serial\n",
      "2021-10-01 19:33:43,544 - lwa_f.blocks.block:snap03 - INFO - adc - Detected FMC ADC board on port 0\n",
      "2021-10-01 19:33:43,829 - lwa_f.blocks.block:snap03 - INFO - adc - Detected FMC ADC board on port 1\n",
      "2021-10-01 19:33:43,843 - lwa_f.snap2_fengine:snap03 - INFO - Loading firmware /home/ubuntu/kplant/caltech-lwa/snap2_f_200msps_64i_4096c/outputs/snap2_f_200msps_64i_4096c_2021-09-23_1421.fpg to snap03\n",
      "2021-10-01 19:34:09,092 - lwa_f.blocks.block:snap03 - WARNING -  - hostname (10.40.0.188) couldn't be turned into integer serial\n",
      "2021-10-01 19:34:09,422 - lwa_f.blocks.block:snap03 - INFO - adc - Detected FMC ADC board on port 0\n",
      "2021-10-01 19:34:09,706 - lwa_f.blocks.block:snap03 - INFO - adc - Detected FMC ADC board on port 1\n",
      "2021-10-01 19:34:09,720 - lwa_f.snap2_fengine:snap03 - INFO - Initializing block (writable): fpga\n",
      "2021-10-01 19:34:09,721 - lwa_f.snap2_fengine:snap03 - INFO - Initializing block (writable): adc\n",
      "2021-10-01 19:34:09,724 - lwa_f.blocks.block:snap03 - INFO - adc - FMC 0 board 0: Setting clock source to 1\n",
      "2021-10-01 19:34:09,731 - lwa_f.blocks.block:snap03 - INFO - adc - FMC 0 board 1: Setting clock source to 1\n",
      "2021-10-01 19:34:09,738 - lwa_f.blocks.block:snap03 - INFO - adc - FMC 1 board 0: Setting clock source to 1\n",
      "2021-10-01 19:34:09,745 - lwa_f.blocks.block:snap03 - INFO - adc - FMC 1 board 1: Setting clock source to 1\n",
      "2021-10-01 19:34:18,626 - lwa_f.blocks.block:snap03 - INFO - adc - FMC 0 board 0 clock rates: [490786732, 98221992, 98293666, 0, 0]\n",
      "2021-10-01 19:34:18,627 - lwa_f.blocks.block:snap03 - INFO - adc - FMC 0 board 0: MMCM locked\n",
      "2021-10-01 19:34:19,637 - lwa_f.blocks.block:snap03 - INFO - adc - FMC 0 board 1 clock rates: [490711925, 98196652, 98278286, 98310792, 0]\n",
      "2021-10-01 19:34:20,647 - lwa_f.blocks.block:snap03 - INFO - adc - FMC 1 board 0 clock rates: [490790027, 98189620, 98214157, 0, 0]\n",
      "2021-10-01 19:34:20,648 - lwa_f.blocks.block:snap03 - INFO - adc - FMC 1 board 0: MMCM locked\n",
      "2021-10-01 19:34:21,658 - lwa_f.blocks.block:snap03 - INFO - adc - FMC 1 board 1 clock rates: [490686905, 98185512, 98231756, 98271394, 0]\n",
      "2021-10-01 19:34:22,982 - lwa_f.blocks.block:snap03 - INFO - adc - FMC 0 Scanning data delays\n"
     ]
    },
    {
     "name": "stderr",
     "output_type": "stream",
     "text": [
      "100% |########################################################################|\r"
     ]
    },
    {
     "name": "stdout",
     "output_type": "stream",
     "text": [
      "2021-10-01 19:34:31,439 - lwa_f.blocks.block:snap03 - INFO - adc - FMC 0 data lane delays:\n",
      "[[312, 296, 312, 296, 296, 296, 296, 296], [344, 336, 336, 328, 336, 328, 336, 344], [288, 288, 288, 288, 288, 288, 288, 296], [328, 344, 328, 320, 328, 328, 336, 336], [288, 280, 288, 288, 288, 288, 280, 288], [272, 272, 288, 272, 280, 272, 280, 272], [304, 280, 288, 288, 288, 304, 288, 288], [296, 296, 296, 296, 296, 304, 304, 296]]\n",
      "2021-10-01 19:34:31,440 - lwa_f.blocks.block:snap03 - INFO - adc - FMC 0 data lane slacks:\n",
      "[[40, 40, 40, 40, 40, 40, 40, 40], [32, 40, 40, 40, 40, 40, 40, 40], [40, 40, 40, 40, 40, 40, 40, 40], [40, 32, 40, 32, 40, 32, 40, 32], [40, 40, 40, 40, 40, 40, 40, 40], [40, 40, 40, 40, 40, 40, 40, 40], [40, 32, 40, 40, 40, 40, 40, 40], [40, 40, 40, 40, 40, 32, 32, 40]]\n",
      "2021-10-01 19:34:31,441 - lwa_f.blocks.block:snap03 - INFO - adc - Chip 0, Lane 0:    XXXXXXXXXXXXXXXXXXXXXXXXXXXXXXXXXXX----|----XXXXXXXXXXXXXXXXXXXX\n",
      "2021-10-01 19:34:31,441 - lwa_f.blocks.block:snap03 - INFO - adc - Chip 0, Lane 1:    XXXXXXXXXXXXXXXXXXXXXXXXXXXXXXXXX----|-----XXXXXXXXXXXXXXXXXXXXX\n",
      "2021-10-01 19:34:31,442 - lwa_f.blocks.block:snap03 - INFO - adc - Chip 0, Lane 2:    XXXXXXXXXXXXXXXXXXXXXXXXXXXXXXXXXXX----|----XXXXXXXXXXXXXXXXXXXX\n",
      "2021-10-01 19:34:31,443 - lwa_f.blocks.block:snap03 - INFO - adc - Chip 0, Lane 3:    XXXXXXXXXXXXXXXXXXXXXXXXXXXXXXXXX----|----XXXXXXXXXXXXXXXXXXXXXX\n",
      "2021-10-01 19:34:31,444 - lwa_f.blocks.block:snap03 - INFO - adc - Chip 0, Lane 4:    XXXXXXXXXXXXXXXXXXXXXXXXXXXXXXXXX----|----XXXXXXXXXXXXXXXXXXXXXX\n",
      "2021-10-01 19:34:31,445 - lwa_f.blocks.block:snap03 - INFO - adc - Chip 0, Lane 5:    XXXXXXXXXXXXXXXXXXXXXXXXXXXXXXXXX----|-----XXXXXXXXXXXXXXXXXXXXX\n",
      "2021-10-01 19:34:31,446 - lwa_f.blocks.block:snap03 - INFO - adc - Chip 0, Lane 6:    XXXXXXXXXXXXXXXXXXXXXXXXXXXXXXXXX----|-----XXXXXXXXXXXXXXXXXXXXX\n",
      "2021-10-01 19:34:31,447 - lwa_f.blocks.block:snap03 - INFO - adc - Chip 0, Lane 7:    XXXXXXXXXXXXXXXXXXXXXXXXXXXXXXXXX----|----XXXXXXXXXXXXXXXXXXXXXX\n",
      "2021-10-01 19:34:31,447 - lwa_f.blocks.block:snap03 - INFO - adc - Chip 1, Lane 0:    XXXXXXXXXXXXXXXXXXXXXXXXXXXXXXXXXXXXXXXX---|----XXXXXXXXXXXXXXXX\n",
      "2021-10-01 19:34:31,448 - lwa_f.blocks.block:snap03 - INFO - adc - Chip 1, Lane 1:    XXXXXXXXXXXXXXXXXXXXXXXXXXXXXXXXXXXXXX----|-----XXXXXXXXXXXXXXXX\n",
      "2021-10-01 19:34:31,448 - lwa_f.blocks.block:snap03 - INFO - adc - Chip 1, Lane 2:    XXXXXXXXXXXXXXXXXXXXXXXXXXXXXXXXXXXXXX----|----XXXXXXXXXXXXXXXXX\n",
      "2021-10-01 19:34:31,449 - lwa_f.blocks.block:snap03 - INFO - adc - Chip 1, Lane 3:    XXXXXXXXXXXXXXXXXXXXXXXXXXXXXXXXXXXXX----|----XXXXXXXXXXXXXXXXXX\n",
      "2021-10-01 19:34:31,449 - lwa_f.blocks.block:snap03 - INFO - adc - Chip 1, Lane 4:    XXXXXXXXXXXXXXXXXXXXXXXXXXXXXXXXXXXXXX----|-----XXXXXXXXXXXXXXXX\n",
      "2021-10-01 19:34:31,450 - lwa_f.blocks.block:snap03 - INFO - adc - Chip 1, Lane 5:    XXXXXXXXXXXXXXXXXXXXXXXXXXXXXXXXXXXXX----|----XXXXXXXXXXXXXXXXXX\n",
      "2021-10-01 19:34:31,451 - lwa_f.blocks.block:snap03 - INFO - adc - Chip 1, Lane 6:    XXXXXXXXXXXXXXXXXXXXXXXXXXXXXXXXXXXXXX----|----XXXXXXXXXXXXXXXXX\n",
      "2021-10-01 19:34:31,451 - lwa_f.blocks.block:snap03 - INFO - adc - Chip 1, Lane 7:    XXXXXXXXXXXXXXXXXXXXXXXXXXXXXXXXXXXXXXX----|----XXXXXXXXXXXXXXXX\n",
      "2021-10-01 19:34:31,452 - lwa_f.blocks.block:snap03 - INFO - adc - Chip 2, Lane 0:    XXXXXXXXXXXXXXXXXXXXXXXXXXXXXXXX----|-----XXXXXXXXXXXXXXXXXXXXXX\n",
      "2021-10-01 19:34:31,453 - lwa_f.blocks.block:snap03 - INFO - adc - Chip 2, Lane 1:    XXXXXXXXXXXXXXXXXXXXXXXXXXXXXXXX----|----XXXXXXXXXXXXXXXXXXXXXXX\n",
      "2021-10-01 19:34:31,453 - lwa_f.blocks.block:snap03 - INFO - adc - Chip 2, Lane 2:    XXXXXXXXXXXXXXXXXXXXXXXXXXXXXXXX----|-----XXXXXXXXXXXXXXXXXXXXXX\n",
      "2021-10-01 19:34:31,454 - lwa_f.blocks.block:snap03 - INFO - adc - Chip 2, Lane 3:    XXXXXXXXXXXXXXXXXXXXXXXXXXXXXXXX----|----XXXXXXXXXXXXXXXXXXXXXXX\n",
      "2021-10-01 19:34:31,455 - lwa_f.blocks.block:snap03 - INFO - adc - Chip 2, Lane 4:    XXXXXXXXXXXXXXXXXXXXXXXXXXXXXXXX----|-----XXXXXXXXXXXXXXXXXXXXXX\n",
      "2021-10-01 19:34:31,456 - lwa_f.blocks.block:snap03 - INFO - adc - Chip 2, Lane 5:    XXXXXXXXXXXXXXXXXXXXXXXXXXXXXXXX----|-----XXXXXXXXXXXXXXXXXXXXXX\n",
      "2021-10-01 19:34:31,456 - lwa_f.blocks.block:snap03 - INFO - adc - Chip 2, Lane 6:    XXXXXXXXXXXXXXXXXXXXXXXXXXXXXXXX----|-----XXXXXXXXXXXXXXXXXXXXXX\n",
      "2021-10-01 19:34:31,457 - lwa_f.blocks.block:snap03 - INFO - adc - Chip 2, Lane 7:    XXXXXXXXXXXXXXXXXXXXXXXXXXXXXXXXX----|-----XXXXXXXXXXXXXXXXXXXXX\n",
      "2021-10-01 19:34:31,458 - lwa_f.blocks.block:snap03 - INFO - adc - Chip 3, Lane 0:    XXXXXXXXXXXXXXXXXXXXXXXXXXXXXXXXXXXXX----|----XXXXXXXXXXXXXXXXXX\n",
      "2021-10-01 19:34:31,461 - lwa_f.blocks.block:snap03 - INFO - adc - Chip 3, Lane 1:    XXXXXXXXXXXXXXXXXXXXXXXXXXXXXXXXXXXXXXXX---|---XXXXXXXXXXXXXXXXX\n",
      "2021-10-01 19:34:31,461 - lwa_f.blocks.block:snap03 - INFO - adc - Chip 3, Lane 2:    XXXXXXXXXXXXXXXXXXXXXXXXXXXXXXXXXXXXX----|----XXXXXXXXXXXXXXXXXX\n",
      "2021-10-01 19:34:31,462 - lwa_f.blocks.block:snap03 - INFO - adc - Chip 3, Lane 3:    XXXXXXXXXXXXXXXXXXXXXXXXXXXXXXXXXXXXX---|----XXXXXXXXXXXXXXXXXXX\n",
      "2021-10-01 19:34:31,462 - lwa_f.blocks.block:snap03 - INFO - adc - Chip 3, Lane 4:    XXXXXXXXXXXXXXXXXXXXXXXXXXXXXXXXXXXXX----|----XXXXXXXXXXXXXXXXXX\n",
      "2021-10-01 19:34:31,463 - lwa_f.blocks.block:snap03 - INFO - adc - Chip 3, Lane 5:    XXXXXXXXXXXXXXXXXXXXXXXXXXXXXXXXXXXXXX---|----XXXXXXXXXXXXXXXXXX\n",
      "2021-10-01 19:34:31,463 - lwa_f.blocks.block:snap03 - INFO - adc - Chip 3, Lane 6:    XXXXXXXXXXXXXXXXXXXXXXXXXXXXXXXXXXXXXX----|----XXXXXXXXXXXXXXXXX\n",
      "2021-10-01 19:34:31,464 - lwa_f.blocks.block:snap03 - INFO - adc - Chip 3, Lane 7:    XXXXXXXXXXXXXXXXXXXXXXXXXXXXXXXXXXXXXXX---|---XXXXXXXXXXXXXXXXXX\n",
      "2021-10-01 19:34:31,465 - lwa_f.blocks.block:snap03 - INFO - adc - Chip 4, Lane 0:    XXXXXXXXXXXXXXXXXXXXXXXXXXXXXXXX----|----XXXXXXXXXXXXXXXXXXXXXXX\n",
      "2021-10-01 19:34:31,465 - lwa_f.blocks.block:snap03 - INFO - adc - Chip 4, Lane 1:    XXXXXXXXXXXXXXXXXXXXXXXXXXXXXXX----|----XXXXXXXXXXXXXXXXXXXXXXXX\n",
      "2021-10-01 19:34:31,466 - lwa_f.blocks.block:snap03 - INFO - adc - Chip 4, Lane 2:    XXXXXXXXXXXXXXXXXXXXXXXXXXXXXXXX----|----XXXXXXXXXXXXXXXXXXXXXXX\n",
      "2021-10-01 19:34:31,466 - lwa_f.blocks.block:snap03 - INFO - adc - Chip 4, Lane 3:    XXXXXXXXXXXXXXXXXXXXXXXXXXXXXXXX----|----XXXXXXXXXXXXXXXXXXXXXXX\n",
      "2021-10-01 19:34:31,467 - lwa_f.blocks.block:snap03 - INFO - adc - Chip 4, Lane 4:    XXXXXXXXXXXXXXXXXXXXXXXXXXXXXXXX----|----XXXXXXXXXXXXXXXXXXXXXXX\n",
      "2021-10-01 19:34:31,467 - lwa_f.blocks.block:snap03 - INFO - adc - Chip 4, Lane 5:    XXXXXXXXXXXXXXXXXXXXXXXXXXXXXXXX----|----XXXXXXXXXXXXXXXXXXXXXXX\n",
      "2021-10-01 19:34:31,468 - lwa_f.blocks.block:snap03 - INFO - adc - Chip 4, Lane 6:    XXXXXXXXXXXXXXXXXXXXXXXXXXXXXXX----|-----XXXXXXXXXXXXXXXXXXXXXXX\n",
      "2021-10-01 19:34:31,469 - lwa_f.blocks.block:snap03 - INFO - adc - Chip 4, Lane 7:    XXXXXXXXXXXXXXXXXXXXXXXXXXXXXXXX----|----XXXXXXXXXXXXXXXXXXXXXXX\n",
      "2021-10-01 19:34:31,469 - lwa_f.blocks.block:snap03 - INFO - adc - Chip 5, Lane 0:    XXXXXXXXXXXXXXXXXXXXXXXXXXXXXX----|-----XXXXXXXXXXXXXXXXXXXXXXXX\n",
      "2021-10-01 19:34:31,470 - lwa_f.blocks.block:snap03 - INFO - adc - Chip 5, Lane 1:    XXXXXXXXXXXXXXXXXXXXXXXXXXXXXX----|----XXXXXXXXXXXXXXXXXXXXXXXXX\n",
      "2021-10-01 19:34:31,470 - lwa_f.blocks.block:snap03 - INFO - adc - Chip 5, Lane 2:    XXXXXXXXXXXXXXXXXXXXXXXXXXXXXXXX----|----XXXXXXXXXXXXXXXXXXXXXXX\n",
      "2021-10-01 19:34:31,471 - lwa_f.blocks.block:snap03 - INFO - adc - Chip 5, Lane 3:    XXXXXXXXXXXXXXXXXXXXXXXXXXXXXX----|----XXXXXXXXXXXXXXXXXXXXXXXXX\n",
      "2021-10-01 19:34:31,472 - lwa_f.blocks.block:snap03 - INFO - adc - Chip 5, Lane 4:    XXXXXXXXXXXXXXXXXXXXXXXXXXXXXXX----|----XXXXXXXXXXXXXXXXXXXXXXXX\n",
      "2021-10-01 19:34:31,472 - lwa_f.blocks.block:snap03 - INFO - adc - Chip 5, Lane 5:    XXXXXXXXXXXXXXXXXXXXXXXXXXXXXX----|-----XXXXXXXXXXXXXXXXXXXXXXXX\n",
      "2021-10-01 19:34:31,473 - lwa_f.blocks.block:snap03 - INFO - adc - Chip 5, Lane 6:    XXXXXXXXXXXXXXXXXXXXXXXXXXXXXXX----|----XXXXXXXXXXXXXXXXXXXXXXXX\n",
      "2021-10-01 19:34:31,473 - lwa_f.blocks.block:snap03 - INFO - adc - Chip 5, Lane 7:    XXXXXXXXXXXXXXXXXXXXXXXXXXXXXX----|-----XXXXXXXXXXXXXXXXXXXXXXXX\n",
      "2021-10-01 19:34:31,474 - lwa_f.blocks.block:snap03 - INFO - adc - Chip 6, Lane 0:    XXXXXXXXXXXXXXXXXXXXXXXXXXXXXXXXXX----|----XXXXXXXXXXXXXXXXXXXXX\n",
      "2021-10-01 19:34:31,474 - lwa_f.blocks.block:snap03 - INFO - adc - Chip 6, Lane 1:    XXXXXXXXXXXXXXXXXXXXXXXXXXXXXXXX---|----XXXXXXXXXXXXXXXXXXXXXXXX\n"
     ]
    },
    {
     "name": "stdout",
     "output_type": "stream",
     "text": [
      "2021-10-01 19:34:31,475 - lwa_f.blocks.block:snap03 - INFO - adc - Chip 6, Lane 2:    XXXXXXXXXXXXXXXXXXXXXXXXXXXXXXXX----|----XXXXXXXXXXXXXXXXXXXXXXX\n",
      "2021-10-01 19:34:31,476 - lwa_f.blocks.block:snap03 - INFO - adc - Chip 6, Lane 3:    XXXXXXXXXXXXXXXXXXXXXXXXXXXXXXXX----|----XXXXXXXXXXXXXXXXXXXXXXX\n",
      "2021-10-01 19:34:31,476 - lwa_f.blocks.block:snap03 - INFO - adc - Chip 6, Lane 4:    XXXXXXXXXXXXXXXXXXXXXXXXXXXXXXXX----|----XXXXXXXXXXXXXXXXXXXXXXX\n",
      "2021-10-01 19:34:31,477 - lwa_f.blocks.block:snap03 - INFO - adc - Chip 6, Lane 5:    XXXXXXXXXXXXXXXXXXXXXXXXXXXXXXXXXX----|----XXXXXXXXXXXXXXXXXXXXX\n",
      "2021-10-01 19:34:31,478 - lwa_f.blocks.block:snap03 - INFO - adc - Chip 6, Lane 6:    XXXXXXXXXXXXXXXXXXXXXXXXXXXXXXXX----|----XXXXXXXXXXXXXXXXXXXXXXX\n",
      "2021-10-01 19:34:31,478 - lwa_f.blocks.block:snap03 - INFO - adc - Chip 6, Lane 7:    XXXXXXXXXXXXXXXXXXXXXXXXXXXXXXXX----|----XXXXXXXXXXXXXXXXXXXXXXX\n",
      "2021-10-01 19:34:31,479 - lwa_f.blocks.block:snap03 - INFO - adc - Chip 7, Lane 0:    XXXXXXXXXXXXXXXXXXXXXXXXXXXXXXXXX----|----XXXXXXXXXXXXXXXXXXXXXX\n",
      "2021-10-01 19:34:31,479 - lwa_f.blocks.block:snap03 - INFO - adc - Chip 7, Lane 1:    XXXXXXXXXXXXXXXXXXXXXXXXXXXXXXXXX----|----XXXXXXXXXXXXXXXXXXXXXX\n"
     ]
    },
    {
     "name": "stderr",
     "output_type": "stream",
     "text": [
      "\n"
     ]
    },
    {
     "name": "stdout",
     "output_type": "stream",
     "text": [
      "2021-10-01 19:34:31,480 - lwa_f.blocks.block:snap03 - INFO - adc - Chip 7, Lane 2:    XXXXXXXXXXXXXXXXXXXXXXXXXXXXXXXXX----|----XXXXXXXXXXXXXXXXXXXXXX\n",
      "2021-10-01 19:34:31,481 - lwa_f.blocks.block:snap03 - INFO - adc - Chip 7, Lane 3:    XXXXXXXXXXXXXXXXXXXXXXXXXXXXXXXXX----|----XXXXXXXXXXXXXXXXXXXXXX\n",
      "2021-10-01 19:34:31,481 - lwa_f.blocks.block:snap03 - INFO - adc - Chip 7, Lane 4:    XXXXXXXXXXXXXXXXXXXXXXXXXXXXXXXXX----|----XXXXXXXXXXXXXXXXXXXXXX\n",
      "2021-10-01 19:34:31,482 - lwa_f.blocks.block:snap03 - INFO - adc - Chip 7, Lane 5:    XXXXXXXXXXXXXXXXXXXXXXXXXXXXXXXXXXX---|----XXXXXXXXXXXXXXXXXXXXX\n",
      "2021-10-01 19:34:31,482 - lwa_f.blocks.block:snap03 - INFO - adc - Chip 7, Lane 6:    XXXXXXXXXXXXXXXXXXXXXXXXXXXXXXXXXXX---|----XXXXXXXXXXXXXXXXXXXXX\n",
      "2021-10-01 19:34:31,483 - lwa_f.blocks.block:snap03 - INFO - adc - Chip 7, Lane 7:    XXXXXXXXXXXXXXXXXXXXXXXXXXXXXXXXX----|----XXXXXXXXXXXXXXXXXXXXXX\n",
      "2021-10-01 19:34:34,486 - lwa_f.blocks.block:snap03 - INFO - adc - FMC 1 Scanning data delays\n"
     ]
    },
    {
     "name": "stderr",
     "output_type": "stream",
     "text": [
      "100% |########################################################################|\r"
     ]
    },
    {
     "name": "stdout",
     "output_type": "stream",
     "text": [
      "2021-10-01 19:34:43,215 - lwa_f.blocks.block:snap03 - INFO - adc - FMC 1 data lane delays:\n",
      "[[264, 264, 264, 272, 256, 256, 256, 272], [272, 264, 256, 272, 264, 288, 272, 264], [256, 264, 264, 272, 264, 272, 256, 248], [264, 280, 264, 272, 272, 272, 264, 264], [288, 288, 296, 304, 296, 288, 288, 288], [240, 232, 232, 232, 240, 240, 240, 232], [264, 248, 248, 264, 248, 248, 248, 248], [272, 280, 280, 272, 272, 272, 272, 272]]\n",
      "2021-10-01 19:34:43,216 - lwa_f.blocks.block:snap03 - INFO - adc - FMC 1 data lane slacks:\n",
      "[[40, 40, 40, 40, 40, 40, 40, 40], [40, 32, 40, 40, 40, 32, 40, 32], [32, 40, 40, 32, 40, 32, 40, 32], [40, 40, 40, 40, 40, 40, 40, 40], [40, 40, 40, 40, 40, 40, 40, 40], [40, 32, 32, 32, 32, 32, 32, 32], [40, 40, 40, 40, 40, 40, 40, 40], [32, 40, 40, 32, 32, 32, 32, 32]]\n",
      "2021-10-01 19:34:43,217 - lwa_f.blocks.block:snap03 - INFO - adc - Chip 0, Lane 0:    XXXXXXXXXXXXXXXXXXXXXXXXXXXXX----|----XXXXXXXXXXXXXXXXXXXXXXXXXX\n",
      "2021-10-01 19:34:43,218 - lwa_f.blocks.block:snap03 - INFO - adc - Chip 0, Lane 1:    XXXXXXXXXXXXXXXXXXXXXXXXXXXXX----|----XXXXXXXXXXXXXXXXXXXXXXXXXX\n",
      "2021-10-01 19:34:43,218 - lwa_f.blocks.block:snap03 - INFO - adc - Chip 0, Lane 2:    XXXXXXXXXXXXXXXXXXXXXXXXXXXXX----|-----XXXXXXXXXXXXXXXXXXXXXXXXX\n",
      "2021-10-01 19:34:43,219 - lwa_f.blocks.block:snap03 - INFO - adc - Chip 0, Lane 3:    XXXXXXXXXXXXXXXXXXXXXXXXXXXXXX----|----XXXXXXXXXXXXXXXXXXXXXXXXX\n",
      "2021-10-01 19:34:43,220 - lwa_f.blocks.block:snap03 - INFO - adc - Chip 0, Lane 4:    XXXXXXXXXXXXXXXXXXXXXXXXXXXX----|-----XXXXXXXXXXXXXXXXXXXXXXXXXX\n",
      "2021-10-01 19:34:43,221 - lwa_f.blocks.block:snap03 - INFO - adc - Chip 0, Lane 5:    XXXXXXXXXXXXXXXXXXXXXXXXXXXX----|-----XXXXXXXXXXXXXXXXXXXXXXXXXX\n",
      "2021-10-01 19:34:43,222 - lwa_f.blocks.block:snap03 - INFO - adc - Chip 0, Lane 6:    XXXXXXXXXXXXXXXXXXXXXXXXXXXX----|-----XXXXXXXXXXXXXXXXXXXXXXXXXX\n",
      "2021-10-01 19:34:43,222 - lwa_f.blocks.block:snap03 - INFO - adc - Chip 0, Lane 7:    XXXXXXXXXXXXXXXXXXXXXXXXXXXXXX----|----XXXXXXXXXXXXXXXXXXXXXXXXX\n",
      "2021-10-01 19:34:43,223 - lwa_f.blocks.block:snap03 - INFO - adc - Chip 1, Lane 0:    XXXXXXXXXXXXXXXXXXXXXXXXXXXXXX----|----XXXXXXXXXXXXXXXXXXXXXXXXX\n",
      "2021-10-01 19:34:43,224 - lwa_f.blocks.block:snap03 - INFO - adc - Chip 1, Lane 1:    XXXXXXXXXXXXXXXXXXXXXXXXXXXXXX---|----XXXXXXXXXXXXXXXXXXXXXXXXXX\n",
      "2021-10-01 19:34:43,225 - lwa_f.blocks.block:snap03 - INFO - adc - Chip 1, Lane 2:    XXXXXXXXXXXXXXXXXXXXXXXXXXXX----|-----XXXXXXXXXXXXXXXXXXXXXXXXXX\n",
      "2021-10-01 19:34:43,225 - lwa_f.blocks.block:snap03 - INFO - adc - Chip 1, Lane 3:    XXXXXXXXXXXXXXXXXXXXXXXXXXXXXX----|----XXXXXXXXXXXXXXXXXXXXXXXXX\n",
      "2021-10-01 19:34:43,226 - lwa_f.blocks.block:snap03 - INFO - adc - Chip 1, Lane 4:    XXXXXXXXXXXXXXXXXXXXXXXXXXXXX----|----XXXXXXXXXXXXXXXXXXXXXXXXXX\n",
      "2021-10-01 19:34:43,227 - lwa_f.blocks.block:snap03 - INFO - adc - Chip 1, Lane 5:    XXXXXXXXXXXXXXXXXXXXXXXXXXXXXXXXX---|---XXXXXXXXXXXXXXXXXXXXXXXX\n",
      "2021-10-01 19:34:43,227 - lwa_f.blocks.block:snap03 - INFO - adc - Chip 1, Lane 6:    XXXXXXXXXXXXXXXXXXXXXXXXXXXXXX----|----XXXXXXXXXXXXXXXXXXXXXXXXX\n",
      "2021-10-01 19:34:43,228 - lwa_f.blocks.block:snap03 - INFO - adc - Chip 1, Lane 7:    XXXXXXXXXXXXXXXXXXXXXXXXXXXXXX---|----XXXXXXXXXXXXXXXXXXXXXXXXXX\n",
      "2021-10-01 19:34:43,229 - lwa_f.blocks.block:snap03 - INFO - adc - Chip 2, Lane 0:    XXXXXXXXXXXXXXXXXXXXXXXXXXXXX---|----XXXXXXXXXXXXXXXXXXXXXXXXXXX\n",
      "2021-10-01 19:34:43,230 - lwa_f.blocks.block:snap03 - INFO - adc - Chip 2, Lane 1:    XXXXXXXXXXXXXXXXXXXXXXXXXXXXX----|----XXXXXXXXXXXXXXXXXXXXXXXXXX\n",
      "2021-10-01 19:34:43,230 - lwa_f.blocks.block:snap03 - INFO - adc - Chip 2, Lane 2:    XXXXXXXXXXXXXXXXXXXXXXXXXXXXX----|----XXXXXXXXXXXXXXXXXXXXXXXXXX\n",
      "2021-10-01 19:34:43,231 - lwa_f.blocks.block:snap03 - INFO - adc - Chip 2, Lane 3:    XXXXXXXXXXXXXXXXXXXXXXXXXXXXXXX---|---XXXXXXXXXXXXXXXXXXXXXXXXXX\n",
      "2021-10-01 19:34:43,232 - lwa_f.blocks.block:snap03 - INFO - adc - Chip 2, Lane 4:    XXXXXXXXXXXXXXXXXXXXXXXXXXXXX----|----XXXXXXXXXXXXXXXXXXXXXXXXXX\n",
      "2021-10-01 19:34:43,232 - lwa_f.blocks.block:snap03 - INFO - adc - Chip 2, Lane 5:    XXXXXXXXXXXXXXXXXXXXXXXXXXXXXXX---|---XXXXXXXXXXXXXXXXXXXXXXXXXX\n",
      "2021-10-01 19:34:43,233 - lwa_f.blocks.block:snap03 - INFO - adc - Chip 2, Lane 6:    XXXXXXXXXXXXXXXXXXXXXXXXXXXX----|-----XXXXXXXXXXXXXXXXXXXXXXXXXX\n",
      "2021-10-01 19:34:43,234 - lwa_f.blocks.block:snap03 - INFO - adc - Chip 2, Lane 7:    XXXXXXXXXXXXXXXXXXXXXXXXXXXX---|----XXXXXXXXXXXXXXXXXXXXXXXXXXXX\n",
      "2021-10-01 19:34:43,234 - lwa_f.blocks.block:snap03 - INFO - adc - Chip 3, Lane 0:    XXXXXXXXXXXXXXXXXXXXXXXXXXXXX----|-----XXXXXXXXXXXXXXXXXXXXXXXXX\n",
      "2021-10-01 19:34:43,235 - lwa_f.blocks.block:snap03 - INFO - adc - Chip 3, Lane 1:    XXXXXXXXXXXXXXXXXXXXXXXXXXXXXXX----|----XXXXXXXXXXXXXXXXXXXXXXXX\n",
      "2021-10-01 19:34:43,235 - lwa_f.blocks.block:snap03 - INFO - adc - Chip 3, Lane 2:    XXXXXXXXXXXXXXXXXXXXXXXXXXXXX----|-----XXXXXXXXXXXXXXXXXXXXXXXXX\n",
      "2021-10-01 19:34:43,236 - lwa_f.blocks.block:snap03 - INFO - adc - Chip 3, Lane 3:    XXXXXXXXXXXXXXXXXXXXXXXXXXXXXX----|----XXXXXXXXXXXXXXXXXXXXXXXXX\n",
      "2021-10-01 19:34:43,236 - lwa_f.blocks.block:snap03 - INFO - adc - Chip 3, Lane 4:    XXXXXXXXXXXXXXXXXXXXXXXXXXXXXX----|----XXXXXXXXXXXXXXXXXXXXXXXXX\n",
      "2021-10-01 19:34:43,237 - lwa_f.blocks.block:snap03 - INFO - adc - Chip 3, Lane 5:    XXXXXXXXXXXXXXXXXXXXXXXXXXXXXX----|-----XXXXXXXXXXXXXXXXXXXXXXXX\n",
      "2021-10-01 19:34:43,238 - lwa_f.blocks.block:snap03 - INFO - adc - Chip 3, Lane 6:    XXXXXXXXXXXXXXXXXXXXXXXXXXXXX----|-----XXXXXXXXXXXXXXXXXXXXXXXXX\n",
      "2021-10-01 19:34:43,238 - lwa_f.blocks.block:snap03 - INFO - adc - Chip 3, Lane 7:    XXXXXXXXXXXXXXXXXXXXXXXXXXXXX----|-----XXXXXXXXXXXXXXXXXXXXXXXXX\n",
      "2021-10-01 19:34:43,239 - lwa_f.blocks.block:snap03 - INFO - adc - Chip 4, Lane 0:    XXXXXXXXXXXXXXXXXXXXXXXXXXXXXXXX----|-----XXXXXXXXXXXXXXXXXXXXXX\n",
      "2021-10-01 19:34:43,239 - lwa_f.blocks.block:snap03 - INFO - adc - Chip 4, Lane 1:    XXXXXXXXXXXXXXXXXXXXXXXXXXXXXXXX----|-----XXXXXXXXXXXXXXXXXXXXXX\n",
      "2021-10-01 19:34:43,240 - lwa_f.blocks.block:snap03 - INFO - adc - Chip 4, Lane 2:    XXXXXXXXXXXXXXXXXXXXXXXXXXXXXXXXX----|-----XXXXXXXXXXXXXXXXXXXXX\n",
      "2021-10-01 19:34:43,241 - lwa_f.blocks.block:snap03 - INFO - adc - Chip 4, Lane 3:    XXXXXXXXXXXXXXXXXXXXXXXXXXXXXXXXXX----|----XXXXXXXXXXXXXXXXXXXXX\n",
      "2021-10-01 19:34:43,241 - lwa_f.blocks.block:snap03 - INFO - adc - Chip 4, Lane 4:    XXXXXXXXXXXXXXXXXXXXXXXXXXXXXXXXX----|-----XXXXXXXXXXXXXXXXXXXXX\n",
      "2021-10-01 19:34:43,242 - lwa_f.blocks.block:snap03 - INFO - adc - Chip 4, Lane 5:    XXXXXXXXXXXXXXXXXXXXXXXXXXXXXXXX----|-----XXXXXXXXXXXXXXXXXXXXXX\n",
      "2021-10-01 19:34:43,242 - lwa_f.blocks.block:snap03 - INFO - adc - Chip 4, Lane 6:    XXXXXXXXXXXXXXXXXXXXXXXXXXXXXXXX----|----XXXXXXXXXXXXXXXXXXXXXXX\n",
      "2021-10-01 19:34:43,243 - lwa_f.blocks.block:snap03 - INFO - adc - Chip 4, Lane 7:    XXXXXXXXXXXXXXXXXXXXXXXXXXXXXXXX----|-----XXXXXXXXXXXXXXXXXXXXXX\n"
     ]
    },
    {
     "name": "stderr",
     "output_type": "stream",
     "text": [
      "\n"
     ]
    },
    {
     "name": "stdout",
     "output_type": "stream",
     "text": [
      "2021-10-01 19:34:43,243 - lwa_f.blocks.block:snap03 - INFO - adc - Chip 5, Lane 0:    XXXXXXXXXXXXXXXXXXXXXXXXXX----|----XXXXXXXXXXXXXXXXXXXXXXXXXXXXX\n",
      "2021-10-01 19:34:43,244 - lwa_f.blocks.block:snap03 - INFO - adc - Chip 5, Lane 1:    XXXXXXXXXXXXXXXXXXXXXXXXXX---|----XXXXXXXXXXXXXXXXXXXXXXXXXXXXXX\n",
      "2021-10-01 19:34:43,245 - lwa_f.blocks.block:snap03 - INFO - adc - Chip 5, Lane 2:    XXXXXXXXXXXXXXXXXXXXXXXXXX---|---XXXXXXXXXXXXXXXXXXXXXXXXXXXXXXX\n",
      "2021-10-01 19:34:43,245 - lwa_f.blocks.block:snap03 - INFO - adc - Chip 5, Lane 3:    XXXXXXXXXXXXXXXXXXXXXXXXXX---|----XXXXXXXXXXXXXXXXXXXXXXXXXXXXXX\n",
      "2021-10-01 19:34:43,246 - lwa_f.blocks.block:snap03 - INFO - adc - Chip 5, Lane 4:    XXXXXXXXXXXXXXXXXXXXXXXXXXX---|---XXXXXXXXXXXXXXXXXXXXXXXXXXXXXX\n",
      "2021-10-01 19:34:43,247 - lwa_f.blocks.block:snap03 - INFO - adc - Chip 5, Lane 5:    XXXXXXXXXXXXXXXXXXXXXXXXXXX---|---XXXXXXXXXXXXXXXXXXXXXXXXXXXXXX\n",
      "2021-10-01 19:34:43,247 - lwa_f.blocks.block:snap03 - INFO - adc - Chip 5, Lane 6:    XXXXXXXXXXXXXXXXXXXXXXXXXXX---|----XXXXXXXXXXXXXXXXXXXXXXXXXXXXX\n",
      "2021-10-01 19:34:43,248 - lwa_f.blocks.block:snap03 - INFO - adc - Chip 5, Lane 7:    XXXXXXXXXXXXXXXXXXXXXXXXXX---|---XXXXXXXXXXXXXXXXXXXXXXXXXXXXXXX\n",
      "2021-10-01 19:34:43,248 - lwa_f.blocks.block:snap03 - INFO - adc - Chip 6, Lane 0:    XXXXXXXXXXXXXXXXXXXXXXXXXXXXX----|----XXXXXXXXXXXXXXXXXXXXXXXXXX\n",
      "2021-10-01 19:34:43,249 - lwa_f.blocks.block:snap03 - INFO - adc - Chip 6, Lane 1:    XXXXXXXXXXXXXXXXXXXXXXXXXXX----|----XXXXXXXXXXXXXXXXXXXXXXXXXXXX\n",
      "2021-10-01 19:34:43,249 - lwa_f.blocks.block:snap03 - INFO - adc - Chip 6, Lane 2:    XXXXXXXXXXXXXXXXXXXXXXXXXXX----|----XXXXXXXXXXXXXXXXXXXXXXXXXXXX\n",
      "2021-10-01 19:34:43,250 - lwa_f.blocks.block:snap03 - INFO - adc - Chip 6, Lane 3:    XXXXXXXXXXXXXXXXXXXXXXXXXXXXX----|----XXXXXXXXXXXXXXXXXXXXXXXXXX\n",
      "2021-10-01 19:34:43,251 - lwa_f.blocks.block:snap03 - INFO - adc - Chip 6, Lane 4:    XXXXXXXXXXXXXXXXXXXXXXXXXXX----|----XXXXXXXXXXXXXXXXXXXXXXXXXXXX\n",
      "2021-10-01 19:34:43,251 - lwa_f.blocks.block:snap03 - INFO - adc - Chip 6, Lane 5:    XXXXXXXXXXXXXXXXXXXXXXXXXXX----|----XXXXXXXXXXXXXXXXXXXXXXXXXXXX\n",
      "2021-10-01 19:34:43,252 - lwa_f.blocks.block:snap03 - INFO - adc - Chip 6, Lane 6:    XXXXXXXXXXXXXXXXXXXXXXXXXXX----|----XXXXXXXXXXXXXXXXXXXXXXXXXXXX\n",
      "2021-10-01 19:34:43,252 - lwa_f.blocks.block:snap03 - INFO - adc - Chip 6, Lane 7:    XXXXXXXXXXXXXXXXXXXXXXXXXXX----|-----XXXXXXXXXXXXXXXXXXXXXXXXXXX\n",
      "2021-10-01 19:34:43,253 - lwa_f.blocks.block:snap03 - INFO - adc - Chip 7, Lane 0:    XXXXXXXXXXXXXXXXXXXXXXXXXXXXXXX---|----XXXXXXXXXXXXXXXXXXXXXXXXX\n",
      "2021-10-01 19:34:43,253 - lwa_f.blocks.block:snap03 - INFO - adc - Chip 7, Lane 1:    XXXXXXXXXXXXXXXXXXXXXXXXXXXXXXX----|----XXXXXXXXXXXXXXXXXXXXXXXX\n",
      "2021-10-01 19:34:43,254 - lwa_f.blocks.block:snap03 - INFO - adc - Chip 7, Lane 2:    XXXXXXXXXXXXXXXXXXXXXXXXXXXXXXX----|----XXXXXXXXXXXXXXXXXXXXXXXX\n",
      "2021-10-01 19:34:43,255 - lwa_f.blocks.block:snap03 - INFO - adc - Chip 7, Lane 3:    XXXXXXXXXXXXXXXXXXXXXXXXXXXXXXX---|----XXXXXXXXXXXXXXXXXXXXXXXXX\n",
      "2021-10-01 19:34:43,255 - lwa_f.blocks.block:snap03 - INFO - adc - Chip 7, Lane 4:    XXXXXXXXXXXXXXXXXXXXXXXXXXXXXXX---|----XXXXXXXXXXXXXXXXXXXXXXXXX\n",
      "2021-10-01 19:34:43,256 - lwa_f.blocks.block:snap03 - INFO - adc - Chip 7, Lane 5:    XXXXXXXXXXXXXXXXXXXXXXXXXXXXXXX---|----XXXXXXXXXXXXXXXXXXXXXXXXX\n",
      "2021-10-01 19:34:43,256 - lwa_f.blocks.block:snap03 - INFO - adc - Chip 7, Lane 6:    XXXXXXXXXXXXXXXXXXXXXXXXXXXXXXX---|----XXXXXXXXXXXXXXXXXXXXXXXXX\n",
      "2021-10-01 19:34:43,257 - lwa_f.blocks.block:snap03 - INFO - adc - Chip 7, Lane 7:    XXXXXXXXXXXXXXXXXXXXXXXXXXXXXXX---|----XXXXXXXXXXXXXXXXXXXXXXXXX\n",
      "2021-10-01 19:34:47,653 - lwa_f.snap2_fengine:snap03 - INFO - Initializing block (writable): sync\n",
      "2021-10-01 19:34:47,667 - lwa_f.snap2_fengine:snap03 - INFO - Initializing block (writable): noise\n",
      "2021-10-01 19:34:47,674 - lwa_f.snap2_fengine:snap03 - INFO - Initializing block (writable): input\n",
      "2021-10-01 19:34:47,873 - lwa_f.snap2_fengine:snap03 - INFO - Initializing block (writable): delay\n",
      "2021-10-01 19:34:48,459 - lwa_f.snap2_fengine:snap03 - INFO - Initializing block (writable): pfb\n",
      "2021-10-01 19:34:48,477 - lwa_f.snap2_fengine:snap03 - INFO - Initializing block (writable): eq\n",
      "2021-10-01 19:34:48,877 - lwa_f.snap2_fengine:snap03 - INFO - Initializing block (writable): eqtvg\n",
      "2021-10-01 19:34:49,926 - lwa_f.snap2_fengine:snap03 - INFO - Initializing block (writable): reorder\n",
      "2021-10-01 19:34:49,944 - lwa_f.snap2_fengine:snap03 - INFO - Initializing block (writable): packetizer\n",
      "2021-10-01 19:34:49,945 - lwa_f.snap2_fengine:snap03 - INFO - Initializing block (writable): eth\n",
      "2021-10-01 19:34:49,956 - lwa_f.snap2_fengine:snap03 - INFO - Initializing block (writable): autocorr\n",
      "2021-10-01 19:34:49,959 - lwa_f.snap2_fengine:snap03 - INFO - Initializing block (writable): corr\n",
      "2021-10-01 19:34:49,962 - lwa_f.snap2_fengine:snap03 - INFO - Initializing block (writable): powermon\n",
      "2021-10-01 19:34:50,222 - lwa_f.snap2_fengine:snap03 - INFO - Performing software global reset\n"
     ]
    }
   ],
   "source": [
    "## compareto version 2.0\n",
    "fpgfile=\"/home/ubuntu/kplant/caltech-lwa/snap2_f_200msps_64i_4096c/outputs/snap2_f_200msps_64i_4096c_2021-09-23_1421.fpg\"\n",
    "brdname3='snap03'\n",
    "#load firmware and initialize etc\n",
    "brd=snap2_fengine.Snap2Fengine(brdname3)\n",
    "brd.program(fpgfile)\n",
    "brd.initialize(read_only=False)\n",
    "brd.sync.arm_sync()\n",
    "brd.sync.sw_sync()\n"
   ]
  },
  {
   "cell_type": "code",
   "execution_count": 80,
   "metadata": {},
   "outputs": [],
   "source": [
    "brdname3='snap03'\n",
    "casperbrd3 = casperfpga.CasperFpga(brdname3, transport=casperfpga.TapcpTransport)"
   ]
  },
  {
   "cell_type": "code",
   "execution_count": 81,
   "metadata": {},
   "outputs": [],
   "source": [
    "def old_read_threshold_rates(casperbrd):\n",
    "    #Reads the shared BRAMs that hold the number of times the individual antennas exceed thresholds in the last 2^28 clock cycles\n",
    "    #Returns an array of length 64 for the rate each antenna exceeds the core threshold and another for the rate exceeding veto threshold\n",
    "    #casperbrd is a casperfpga CasperFpga object\n",
    "    core = np.zeros(64)\n",
    "    veto = np.zeros(64)\n",
    "    core[:32]= struct.unpack('>32l',casperbrd.read(\"cosmic_ray_thresh_rate1\",32*4,0))\n",
    "    core[32:]= struct.unpack('>32l',casperbrd.read(\"cosmic_ray_thresh_rate2\",32*4,0))\n",
    "    veto[:32]= struct.unpack('>32l',casperbrd.read(\"cosmic_ray_veto_thresh_rate1\",32*4,0))\n",
    "    veto[32:]= struct.unpack('>32l',casperbrd.read(\"cosmic_ray_veto_thresh_rate3\",32*4,0))\n",
    "    return core, veto"
   ]
  },
  {
   "cell_type": "code",
   "execution_count": 93,
   "metadata": {},
   "outputs": [
    {
     "name": "stdout",
     "output_type": "stream",
     "text": [
      "Data source set to constant\n"
     ]
    },
    {
     "data": {
      "text/plain": [
       "[<matplotlib.lines.Line2D at 0x7efd9a3ae410>]"
      ]
     },
     "execution_count": 93,
     "metadata": {},
     "output_type": "execute_result"
    },
    {
     "data": {
      "image/png": "[encoded data removed]",
      "text/plain": [
       "<Figure size 432x288 with 2 Axes>"
      ]
     },
     "metadata": {
      "needs_background": "light"
     },
     "output_type": "display_data"
    },
    {
     "data": {
      "image/png": "[encoded data removed]",
      "text/plain": [
       "<Figure size 432x288 with 2 Axes>"
      ]
     },
     "metadata": {
      "needs_background": "light"
     },
     "output_type": "display_data"
    }
   ],
   "source": [
    "n=2\n",
    "setup_data_source(casperbrd3,\"constant\")\n",
    "\n",
    "setvalue(casperbrd3,\"trigger_power_thresh\",\"cr_registers.xlsx\",n**2)\n",
    "setvalue(casperbrd3,\"veto_power_thresh\",\"cr_registers.xlsx\",n**2)\n",
    "\n",
    "time.sleep(2)  #have to wait for it to update\n",
    "#core,veto = old_read_threshold_rates(casperbrd3)\n",
    "#plt.subplot(121)\n",
    "#plt.plot(core)\n",
    "#plt.subplot(122)\n",
    "#plt.plot(veto)\n",
    "\n",
    "plt.subplot(121)\n",
    "values1=struct.unpack('>64l',casperbrd3.read(\"cosmic_ray_thresh_rate1\",64*4,0))\n",
    "values2=struct.unpack('>64l',casperbrd3.read(\"cosmic_ray_thresh_rate2\",64*4,0))\n",
    "plt.plot(np.concatenate((values1,values2)))\n",
    "\n",
    "plt.subplot(122)\n",
    "plt.plot(np.concatenate((values1,values2)))\n",
    "plt.xlim(0,5)\n",
    "\n",
    "plt.figure()\n",
    "core,veto = old_read_threshold_rates(casperbrd3)\n",
    "plt.subplot(121)\n",
    "plt.plot(core)\n",
    "plt.subplot(122)\n",
    "plt.plot(veto)"
   ]
  },
  {
   "cell_type": "code",
   "execution_count": 86,
   "metadata": {},
   "outputs": [
    {
     "name": "stdout",
     "output_type": "stream",
     "text": [
      "33554432\n",
      "33619968\n"
     ]
    }
   ],
   "source": [
    "casperbrd3.listdev()\n",
    "print(casperbrd3.read_int(\"cosmic_ray_version_version\"))\n",
    "print(casperbrd.read_int(\"cosmic_ray_version_version\"))"
   ]
  },
  {
   "cell_type": "markdown",
   "metadata": {},
   "source": [
    "## First try with cosmic ray system version 2.0  \n",
    "Note, I calculated the standard error on the mean wrong and that's why the error bars in those plots are so small."
   ]
  },
  {
   "cell_type": "code",
   "execution_count": 6,
   "metadata": {},
   "outputs": [],
   "source": [
    "fpgfile=\"/home/ubuntu/kplant/caltech-lwa/snap2_f_200msps_64i_4096c/outputs/snap2_f_200msps_64i_4096c_2021-09-23_1421.fpg\"\n",
    "brdname='snap03'"
   ]
  },
  {
   "cell_type": "code",
   "execution_count": 8,
   "metadata": {},
   "outputs": [
    {
     "name": "stdout",
     "output_type": "stream",
     "text": [
      "2021-09-27 16:39:15,831 - lwa_f.blocks.block:snap03 - WARNING -  - hostname (10.40.0.188) couldn't be turned into integer serial\n",
      "2021-09-27 16:39:16,126 - lwa_f.blocks.block:snap03 - INFO - adc - Detected FMC ADC board on port 0\n",
      "2021-09-27 16:39:16,421 - lwa_f.blocks.block:snap03 - INFO - adc - Detected FMC ADC board on port 1\n",
      "2021-09-27 16:39:16,436 - lwa_f.snap2_fengine:snap03 - INFO - Loading firmware /home/ubuntu/kplant/caltech-lwa/snap2_f_200msps_64i_4096c/outputs/snap2_f_200msps_64i_4096c_2021-09-23_1421.fpg to snap03\n",
      "2021-09-27 16:39:41,689 - lwa_f.blocks.block:snap03 - WARNING -  - hostname (10.40.0.188) couldn't be turned into integer serial\n",
      "2021-09-27 16:39:41,985 - lwa_f.blocks.block:snap03 - INFO - adc - Detected FMC ADC board on port 0\n",
      "2021-09-27 16:39:42,279 - lwa_f.blocks.block:snap03 - INFO - adc - Detected FMC ADC board on port 1\n",
      "2021-09-27 16:39:42,293 - lwa_f.snap2_fengine:snap03 - INFO - Initializing block (writable): fpga\n",
      "2021-09-27 16:39:42,294 - lwa_f.snap2_fengine:snap03 - INFO - Initializing block (writable): adc\n",
      "2021-09-27 16:39:42,297 - lwa_f.blocks.block:snap03 - INFO - adc - FMC 0 board 0: Setting clock source to 1\n",
      "2021-09-27 16:39:42,305 - lwa_f.blocks.block:snap03 - INFO - adc - FMC 0 board 1: Setting clock source to 1\n",
      "2021-09-27 16:39:42,313 - lwa_f.blocks.block:snap03 - INFO - adc - FMC 1 board 0: Setting clock source to 1\n",
      "2021-09-27 16:39:42,319 - lwa_f.blocks.block:snap03 - INFO - adc - FMC 1 board 1: Setting clock source to 1\n",
      "2021-09-27 16:39:51,652 - lwa_f.blocks.block:snap03 - INFO - adc - FMC 0 board 0 clock rates: [490746203, 98200203, 98243145, 0, 0]\n",
      "2021-09-27 16:39:51,653 - lwa_f.blocks.block:snap03 - INFO - adc - FMC 0 board 0: MMCM locked\n",
      "2021-09-27 16:39:52,664 - lwa_f.blocks.block:snap03 - INFO - adc - FMC 0 board 1 clock rates: [490768134, 98199871, 98224408, 98258857, 0]\n",
      "2021-09-27 16:39:53,675 - lwa_f.blocks.block:snap03 - INFO - adc - FMC 1 board 0 clock rates: [490638589, 98226811, 98275890, 0, 0]\n",
      "2021-09-27 16:39:53,676 - lwa_f.blocks.block:snap03 - INFO - adc - FMC 1 board 0: MMCM locked\n",
      "2021-09-27 16:39:54,687 - lwa_f.blocks.block:snap03 - INFO - adc - FMC 1 board 1 clock rates: [490733677, 98240167, 98293017, 98330767, 0]\n",
      "2021-09-27 16:39:56,190 - lwa_f.blocks.block:snap03 - INFO - adc - FMC 0 Scanning data delays\n"
     ]
    },
    {
     "name": "stderr",
     "output_type": "stream",
     "text": [
      "100% |########################################################################|\r"
     ]
    },
    {
     "name": "stdout",
     "output_type": "stream",
     "text": [
      "2021-09-27 16:40:04,838 - lwa_f.blocks.block:snap03 - INFO - adc - FMC 0 data lane delays:\n",
      "[[312, 296, 304, 296, 296, 296, 296, 296], [344, 336, 336, 328, 336, 328, 328, 336], [288, 288, 288, 288, 288, 288, 296, 296], [328, 336, 328, 320, 328, 328, 328, 328], [288, 280, 288, 280, 288, 288, 288, 288], [272, 272, 288, 272, 272, 272, 272, 272], [304, 280, 288, 288, 288, 296, 288, 280], [288, 288, 296, 288, 288, 304, 304, 288]]\n",
      "2021-09-27 16:40:04,838 - lwa_f.blocks.block:snap03 - INFO - adc - FMC 0 data lane slacks:\n",
      "[[40, 40, 40, 40, 40, 40, 40, 40], [40, 40, 40, 40, 40, 40, 40, 40], [40, 40, 40, 40, 40, 40, 40, 32], [40, 32, 40, 40, 40, 40, 40, 32], [40, 32, 40, 32, 40, 40, 40, 40], [40, 40, 40, 40, 40, 40, 40, 40], [40, 32, 40, 40, 40, 32, 40, 32], [32, 32, 32, 32, 32, 32, 32, 32]]\n",
      "2021-09-27 16:40:04,839 - lwa_f.blocks.block:snap03 - INFO - adc - Chip 0, Lane 0:    XXXXXXXXXXXXXXXXXXXXXXXXXXXXXXXXXXX----|----XXXXXXXXXXXXXXXXXXXX\n",
      "2021-09-27 16:40:04,840 - lwa_f.blocks.block:snap03 - INFO - adc - Chip 0, Lane 1:    XXXXXXXXXXXXXXXXXXXXXXXXXXXXXXXXX----|-----XXXXXXXXXXXXXXXXXXXXX\n",
      "2021-09-27 16:40:04,841 - lwa_f.blocks.block:snap03 - INFO - adc - Chip 0, Lane 2:    XXXXXXXXXXXXXXXXXXXXXXXXXXXXXXXXXX----|-----XXXXXXXXXXXXXXXXXXXX\n",
      "2021-09-27 16:40:04,841 - lwa_f.blocks.block:snap03 - INFO - adc - Chip 0, Lane 3:    XXXXXXXXXXXXXXXXXXXXXXXXXXXXXXXXX----|----XXXXXXXXXXXXXXXXXXXXXX\n",
      "2021-09-27 16:40:04,842 - lwa_f.blocks.block:snap03 - INFO - adc - Chip 0, Lane 4:    XXXXXXXXXXXXXXXXXXXXXXXXXXXXXXXXX----|----XXXXXXXXXXXXXXXXXXXXXX\n",
      "2021-09-27 16:40:04,843 - lwa_f.blocks.block:snap03 - INFO - adc - Chip 0, Lane 5:    XXXXXXXXXXXXXXXXXXXXXXXXXXXXXXXXX----|-----XXXXXXXXXXXXXXXXXXXXX\n",
      "2021-09-27 16:40:04,844 - lwa_f.blocks.block:snap03 - INFO - adc - Chip 0, Lane 6:    XXXXXXXXXXXXXXXXXXXXXXXXXXXXXXXXX----|----XXXXXXXXXXXXXXXXXXXXXX\n",
      "2021-09-27 16:40:04,844 - lwa_f.blocks.block:snap03 - INFO - adc - Chip 0, Lane 7:    XXXXXXXXXXXXXXXXXXXXXXXXXXXXXXXXX----|----XXXXXXXXXXXXXXXXXXXXXX\n",
      "2021-09-27 16:40:04,845 - lwa_f.blocks.block:snap03 - INFO - adc - Chip 1, Lane 0:    XXXXXXXXXXXXXXXXXXXXXXXXXXXXXXXXXXXXXXX----|----XXXXXXXXXXXXXXXX\n",
      "2021-09-27 16:40:04,845 - lwa_f.blocks.block:snap03 - INFO - adc - Chip 1, Lane 1:    XXXXXXXXXXXXXXXXXXXXXXXXXXXXXXXXXXXXXX----|----XXXXXXXXXXXXXXXXX\n",
      "2021-09-27 16:40:04,846 - lwa_f.blocks.block:snap03 - INFO - adc - Chip 1, Lane 2:    XXXXXXXXXXXXXXXXXXXXXXXXXXXXXXXXXXXXXX----|----XXXXXXXXXXXXXXXXX\n",
      "2021-09-27 16:40:04,846 - lwa_f.blocks.block:snap03 - INFO - adc - Chip 1, Lane 3:    XXXXXXXXXXXXXXXXXXXXXXXXXXXXXXXXXXXXX----|----XXXXXXXXXXXXXXXXXX\n",
      "2021-09-27 16:40:04,847 - lwa_f.blocks.block:snap03 - INFO - adc - Chip 1, Lane 4:    XXXXXXXXXXXXXXXXXXXXXXXXXXXXXXXXXXXXXX----|----XXXXXXXXXXXXXXXXX\n",
      "2021-09-27 16:40:04,848 - lwa_f.blocks.block:snap03 - INFO - adc - Chip 1, Lane 5:    XXXXXXXXXXXXXXXXXXXXXXXXXXXXXXXXXXXXX----|----XXXXXXXXXXXXXXXXXX\n",
      "2021-09-27 16:40:04,848 - lwa_f.blocks.block:snap03 - INFO - adc - Chip 1, Lane 6:    XXXXXXXXXXXXXXXXXXXXXXXXXXXXXXXXXXXXX----|----XXXXXXXXXXXXXXXXXX\n",
      "2021-09-27 16:40:04,849 - lwa_f.blocks.block:snap03 - INFO - adc - Chip 1, Lane 7:    XXXXXXXXXXXXXXXXXXXXXXXXXXXXXXXXXXXXXX----|----XXXXXXXXXXXXXXXXX\n",
      "2021-09-27 16:40:04,850 - lwa_f.blocks.block:snap03 - INFO - adc - Chip 2, Lane 0:    XXXXXXXXXXXXXXXXXXXXXXXXXXXXXXXX----|----XXXXXXXXXXXXXXXXXXXXXXX\n",
      "2021-09-27 16:40:04,850 - lwa_f.blocks.block:snap03 - INFO - adc - Chip 2, Lane 1:    XXXXXXXXXXXXXXXXXXXXXXXXXXXXXXXX----|----XXXXXXXXXXXXXXXXXXXXXXX\n",
      "2021-09-27 16:40:04,851 - lwa_f.blocks.block:snap03 - INFO - adc - Chip 2, Lane 2:    XXXXXXXXXXXXXXXXXXXXXXXXXXXXXXXX----|----XXXXXXXXXXXXXXXXXXXXXXX\n",
      "2021-09-27 16:40:04,851 - lwa_f.blocks.block:snap03 - INFO - adc - Chip 2, Lane 3:    XXXXXXXXXXXXXXXXXXXXXXXXXXXXXXXX----|----XXXXXXXXXXXXXXXXXXXXXXX\n",
      "2021-09-27 16:40:04,852 - lwa_f.blocks.block:snap03 - INFO - adc - Chip 2, Lane 4:    XXXXXXXXXXXXXXXXXXXXXXXXXXXXXXXX----|----XXXXXXXXXXXXXXXXXXXXXXX\n",
      "2021-09-27 16:40:04,853 - lwa_f.blocks.block:snap03 - INFO - adc - Chip 2, Lane 5:    XXXXXXXXXXXXXXXXXXXXXXXXXXXXXXXX----|----XXXXXXXXXXXXXXXXXXXXXXX\n",
      "2021-09-27 16:40:04,853 - lwa_f.blocks.block:snap03 - INFO - adc - Chip 2, Lane 6:    XXXXXXXXXXXXXXXXXXXXXXXXXXXXXXXXX----|----XXXXXXXXXXXXXXXXXXXXXX\n",
      "2021-09-27 16:40:04,854 - lwa_f.blocks.block:snap03 - INFO - adc - Chip 2, Lane 7:    XXXXXXXXXXXXXXXXXXXXXXXXXXXXXXXXXX---|----XXXXXXXXXXXXXXXXXXXXXX\n",
      "2021-09-27 16:40:04,854 - lwa_f.blocks.block:snap03 - INFO - adc - Chip 3, Lane 0:    XXXXXXXXXXXXXXXXXXXXXXXXXXXXXXXXXXXXX----|----XXXXXXXXXXXXXXXXXX\n",
      "2021-09-27 16:40:04,855 - lwa_f.blocks.block:snap03 - INFO - adc - Chip 3, Lane 1:    XXXXXXXXXXXXXXXXXXXXXXXXXXXXXXXXXXXXXXX---|----XXXXXXXXXXXXXXXXX\n",
      "2021-09-27 16:40:04,856 - lwa_f.blocks.block:snap03 - INFO - adc - Chip 3, Lane 2:    XXXXXXXXXXXXXXXXXXXXXXXXXXXXXXXXXXXXX----|----XXXXXXXXXXXXXXXXXX\n",
      "2021-09-27 16:40:04,856 - lwa_f.blocks.block:snap03 - INFO - adc - Chip 3, Lane 3:    XXXXXXXXXXXXXXXXXXXXXXXXXXXXXXXXXXXX----|----XXXXXXXXXXXXXXXXXXX\n",
      "2021-09-27 16:40:04,857 - lwa_f.blocks.block:snap03 - INFO - adc - Chip 3, Lane 4:    XXXXXXXXXXXXXXXXXXXXXXXXXXXXXXXXXXXXX----|----XXXXXXXXXXXXXXXXXX\n",
      "2021-09-27 16:40:04,858 - lwa_f.blocks.block:snap03 - INFO - adc - Chip 3, Lane 5:    XXXXXXXXXXXXXXXXXXXXXXXXXXXXXXXXXXXXX----|----XXXXXXXXXXXXXXXXXX\n",
      "2021-09-27 16:40:04,858 - lwa_f.blocks.block:snap03 - INFO - adc - Chip 3, Lane 6:    XXXXXXXXXXXXXXXXXXXXXXXXXXXXXXXXXXXXX----|-----XXXXXXXXXXXXXXXXX\n",
      "2021-09-27 16:40:04,859 - lwa_f.blocks.block:snap03 - INFO - adc - Chip 3, Lane 7:    XXXXXXXXXXXXXXXXXXXXXXXXXXXXXXXXXXXXXX---|----XXXXXXXXXXXXXXXXXX\n",
      "2021-09-27 16:40:04,859 - lwa_f.blocks.block:snap03 - INFO - adc - Chip 4, Lane 0:    XXXXXXXXXXXXXXXXXXXXXXXXXXXXXXXX----|----XXXXXXXXXXXXXXXXXXXXXXX\n",
      "2021-09-27 16:40:04,860 - lwa_f.blocks.block:snap03 - INFO - adc - Chip 4, Lane 1:    XXXXXXXXXXXXXXXXXXXXXXXXXXXXXXXX---|----XXXXXXXXXXXXXXXXXXXXXXXX\n",
      "2021-09-27 16:40:04,860 - lwa_f.blocks.block:snap03 - INFO - adc - Chip 4, Lane 2:    XXXXXXXXXXXXXXXXXXXXXXXXXXXXXXXX----|----XXXXXXXXXXXXXXXXXXXXXXX\n",
      "2021-09-27 16:40:04,861 - lwa_f.blocks.block:snap03 - INFO - adc - Chip 4, Lane 3:    XXXXXXXXXXXXXXXXXXXXXXXXXXXXXXXX---|----XXXXXXXXXXXXXXXXXXXXXXXX\n",
      "2021-09-27 16:40:04,862 - lwa_f.blocks.block:snap03 - INFO - adc - Chip 4, Lane 4:    XXXXXXXXXXXXXXXXXXXXXXXXXXXXXXXX----|----XXXXXXXXXXXXXXXXXXXXXXX\n",
      "2021-09-27 16:40:04,862 - lwa_f.blocks.block:snap03 - INFO - adc - Chip 4, Lane 5:    XXXXXXXXXXXXXXXXXXXXXXXXXXXXXXXX----|----XXXXXXXXXXXXXXXXXXXXXXX\n",
      "2021-09-27 16:40:04,863 - lwa_f.blocks.block:snap03 - INFO - adc - Chip 4, Lane 6:    XXXXXXXXXXXXXXXXXXXXXXXXXXXXXXXX----|----XXXXXXXXXXXXXXXXXXXXXXX\n",
      "2021-09-27 16:40:04,864 - lwa_f.blocks.block:snap03 - INFO - adc - Chip 4, Lane 7:    XXXXXXXXXXXXXXXXXXXXXXXXXXXXXXXX----|----XXXXXXXXXXXXXXXXXXXXXXX\n",
      "2021-09-27 16:40:04,864 - lwa_f.blocks.block:snap03 - INFO - adc - Chip 5, Lane 0:    XXXXXXXXXXXXXXXXXXXXXXXXXXXXXX----|----XXXXXXXXXXXXXXXXXXXXXXXXX\n",
      "2021-09-27 16:40:04,865 - lwa_f.blocks.block:snap03 - INFO - adc - Chip 5, Lane 1:    XXXXXXXXXXXXXXXXXXXXXXXXXXXXXX----|----XXXXXXXXXXXXXXXXXXXXXXXXX\n",
      "2021-09-27 16:40:04,865 - lwa_f.blocks.block:snap03 - INFO - adc - Chip 5, Lane 2:    XXXXXXXXXXXXXXXXXXXXXXXXXXXXXXXX----|----XXXXXXXXXXXXXXXXXXXXXXX\n",
      "2021-09-27 16:40:04,866 - lwa_f.blocks.block:snap03 - INFO - adc - Chip 5, Lane 3:    XXXXXXXXXXXXXXXXXXXXXXXXXXXXXX----|----XXXXXXXXXXXXXXXXXXXXXXXXX\n",
      "2021-09-27 16:40:04,866 - lwa_f.blocks.block:snap03 - INFO - adc - Chip 5, Lane 4:    XXXXXXXXXXXXXXXXXXXXXXXXXXXXXX----|-----XXXXXXXXXXXXXXXXXXXXXXXX\n",
      "2021-09-27 16:40:04,867 - lwa_f.blocks.block:snap03 - INFO - adc - Chip 5, Lane 5:    XXXXXXXXXXXXXXXXXXXXXXXXXXXXXX----|----XXXXXXXXXXXXXXXXXXXXXXXXX\n",
      "2021-09-27 16:40:04,868 - lwa_f.blocks.block:snap03 - INFO - adc - Chip 5, Lane 6:    XXXXXXXXXXXXXXXXXXXXXXXXXXXXXX----|-----XXXXXXXXXXXXXXXXXXXXXXXX\n",
      "2021-09-27 16:40:04,868 - lwa_f.blocks.block:snap03 - INFO - adc - Chip 5, Lane 7:    XXXXXXXXXXXXXXXXXXXXXXXXXXXXXX----|-----XXXXXXXXXXXXXXXXXXXXXXXX\n",
      "2021-09-27 16:40:04,869 - lwa_f.blocks.block:snap03 - INFO - adc - Chip 6, Lane 0:    XXXXXXXXXXXXXXXXXXXXXXXXXXXXXXXXXX----|----XXXXXXXXXXXXXXXXXXXXX\n",
      "2021-09-27 16:40:04,870 - lwa_f.blocks.block:snap03 - INFO - adc - Chip 6, Lane 1:    XXXXXXXXXXXXXXXXXXXXXXXXXXXXXXXX---|----XXXXXXXXXXXXXXXXXXXXXXXX\n"
     ]
    },
    {
     "name": "stdout",
     "output_type": "stream",
     "text": [
      "2021-09-27 16:40:04,870 - lwa_f.blocks.block:snap03 - INFO - adc - Chip 6, Lane 2:    XXXXXXXXXXXXXXXXXXXXXXXXXXXXXXXX----|----XXXXXXXXXXXXXXXXXXXXXXX\n",
      "2021-09-27 16:40:04,871 - lwa_f.blocks.block:snap03 - INFO - adc - Chip 6, Lane 3:    XXXXXXXXXXXXXXXXXXXXXXXXXXXXXXXX----|----XXXXXXXXXXXXXXXXXXXXXXX\n",
      "2021-09-27 16:40:04,872 - lwa_f.blocks.block:snap03 - INFO - adc - Chip 6, Lane 4:    XXXXXXXXXXXXXXXXXXXXXXXXXXXXXXXX----|----XXXXXXXXXXXXXXXXXXXXXXX\n",
      "2021-09-27 16:40:04,872 - lwa_f.blocks.block:snap03 - INFO - adc - Chip 6, Lane 5:    XXXXXXXXXXXXXXXXXXXXXXXXXXXXXXXXXX---|----XXXXXXXXXXXXXXXXXXXXXX\n",
      "2021-09-27 16:40:04,873 - lwa_f.blocks.block:snap03 - INFO - adc - Chip 6, Lane 6:    XXXXXXXXXXXXXXXXXXXXXXXXXXXXXXXX----|----XXXXXXXXXXXXXXXXXXXXXXX\n",
      "2021-09-27 16:40:04,873 - lwa_f.blocks.block:snap03 - INFO - adc - Chip 6, Lane 7:    XXXXXXXXXXXXXXXXXXXXXXXXXXXXXXXX---|----XXXXXXXXXXXXXXXXXXXXXXXX\n",
      "2021-09-27 16:40:04,874 - lwa_f.blocks.block:snap03 - INFO - adc - Chip 7, Lane 0:    XXXXXXXXXXXXXXXXXXXXXXXXXXXXXXXXX---|----XXXXXXXXXXXXXXXXXXXXXXX\n"
     ]
    },
    {
     "name": "stderr",
     "output_type": "stream",
     "text": [
      "\n"
     ]
    },
    {
     "name": "stdout",
     "output_type": "stream",
     "text": [
      "2021-09-27 16:40:04,879 - lwa_f.blocks.block:snap03 - INFO - adc - Chip 7, Lane 1:    XXXXXXXXXXXXXXXXXXXXXXXXXXXXXXXXX---|----XXXXXXXXXXXXXXXXXXXXXXX\n",
      "2021-09-27 16:40:04,880 - lwa_f.blocks.block:snap03 - INFO - adc - Chip 7, Lane 2:    XXXXXXXXXXXXXXXXXXXXXXXXXXXXXXXXXX---|---XXXXXXXXXXXXXXXXXXXXXXX\n",
      "2021-09-27 16:40:04,880 - lwa_f.blocks.block:snap03 - INFO - adc - Chip 7, Lane 3:    XXXXXXXXXXXXXXXXXXXXXXXXXXXXXXXXX---|----XXXXXXXXXXXXXXXXXXXXXXX\n",
      "2021-09-27 16:40:04,881 - lwa_f.blocks.block:snap03 - INFO - adc - Chip 7, Lane 4:    XXXXXXXXXXXXXXXXXXXXXXXXXXXXXXXXX---|----XXXXXXXXXXXXXXXXXXXXXXX\n",
      "2021-09-27 16:40:04,881 - lwa_f.blocks.block:snap03 - INFO - adc - Chip 7, Lane 5:    XXXXXXXXXXXXXXXXXXXXXXXXXXXXXXXXXXX---|---XXXXXXXXXXXXXXXXXXXXXX\n",
      "2021-09-27 16:40:04,882 - lwa_f.blocks.block:snap03 - INFO - adc - Chip 7, Lane 6:    XXXXXXXXXXXXXXXXXXXXXXXXXXXXXXXXXXX---|---XXXXXXXXXXXXXXXXXXXXXX\n",
      "2021-09-27 16:40:04,882 - lwa_f.blocks.block:snap03 - INFO - adc - Chip 7, Lane 7:    XXXXXXXXXXXXXXXXXXXXXXXXXXXXXXXXX---|----XXXXXXXXXXXXXXXXXXXXXXX\n",
      "2021-09-27 16:40:07,882 - lwa_f.blocks.block:snap03 - INFO - adc - FMC 1 Scanning data delays\n"
     ]
    },
    {
     "name": "stderr",
     "output_type": "stream",
     "text": [
      "100% |########################################################################|\r"
     ]
    },
    {
     "name": "stdout",
     "output_type": "stream",
     "text": [
      "2021-09-27 16:40:16,606 - lwa_f.blocks.block:snap03 - INFO - adc - FMC 1 data lane delays:\n",
      "[[264, 264, 264, 272, 264, 256, 256, 272], [272, 264, 264, 272, 264, 288, 272, 272], [256, 256, 256, 272, 264, 272, 256, 248], [264, 280, 264, 272, 272, 272, 272, 272], [288, 288, 296, 304, 296, 288, 288, 288], [240, 232, 232, 232, 240, 240, 240, 224], [264, 248, 256, 264, 248, 256, 248, 256], [272, 280, 280, 272, 272, 272, 272, 272]]\n",
      "2021-09-27 16:40:16,607 - lwa_f.blocks.block:snap03 - INFO - adc - FMC 1 data lane slacks:\n",
      "[[40, 40, 40, 40, 40, 40, 40, 40], [32, 32, 40, 40, 32, 32, 32, 32], [32, 32, 32, 32, 32, 32, 40, 32], [40, 40, 40, 40, 40, 40, 40, 40], [40, 40, 40, 40, 40, 40, 40, 40], [40, 40, 32, 32, 32, 32, 32, 32], [32, 40, 40, 40, 32, 40, 40, 40], [32, 40, 40, 32, 32, 32, 32, 32]]\n",
      "2021-09-27 16:40:16,608 - lwa_f.blocks.block:snap03 - INFO - adc - Chip 0, Lane 0:    XXXXXXXXXXXXXXXXXXXXXXXXXXXXX----|----XXXXXXXXXXXXXXXXXXXXXXXXXX\n",
      "2021-09-27 16:40:16,608 - lwa_f.blocks.block:snap03 - INFO - adc - Chip 0, Lane 1:    XXXXXXXXXXXXXXXXXXXXXXXXXXXXX----|----XXXXXXXXXXXXXXXXXXXXXXXXXX\n",
      "2021-09-27 16:40:16,609 - lwa_f.blocks.block:snap03 - INFO - adc - Chip 0, Lane 2:    XXXXXXXXXXXXXXXXXXXXXXXXXXXXX----|----XXXXXXXXXXXXXXXXXXXXXXXXXX\n",
      "2021-09-27 16:40:16,610 - lwa_f.blocks.block:snap03 - INFO - adc - Chip 0, Lane 3:    XXXXXXXXXXXXXXXXXXXXXXXXXXXXXX----|----XXXXXXXXXXXXXXXXXXXXXXXXX\n",
      "2021-09-27 16:40:16,611 - lwa_f.blocks.block:snap03 - INFO - adc - Chip 0, Lane 4:    XXXXXXXXXXXXXXXXXXXXXXXXXXXXX----|----XXXXXXXXXXXXXXXXXXXXXXXXXX\n",
      "2021-09-27 16:40:16,612 - lwa_f.blocks.block:snap03 - INFO - adc - Chip 0, Lane 5:    XXXXXXXXXXXXXXXXXXXXXXXXXXXX----|-----XXXXXXXXXXXXXXXXXXXXXXXXXX\n",
      "2021-09-27 16:40:16,613 - lwa_f.blocks.block:snap03 - INFO - adc - Chip 0, Lane 6:    XXXXXXXXXXXXXXXXXXXXXXXXXXXX----|-----XXXXXXXXXXXXXXXXXXXXXXXXXX\n",
      "2021-09-27 16:40:16,615 - lwa_f.blocks.block:snap03 - INFO - adc - Chip 0, Lane 7:    XXXXXXXXXXXXXXXXXXXXXXXXXXXXXX----|----XXXXXXXXXXXXXXXXXXXXXXXXX\n",
      "2021-09-27 16:40:16,616 - lwa_f.blocks.block:snap03 - INFO - adc - Chip 1, Lane 0:    XXXXXXXXXXXXXXXXXXXXXXXXXXXXXXX---|----XXXXXXXXXXXXXXXXXXXXXXXXX\n",
      "2021-09-27 16:40:16,617 - lwa_f.blocks.block:snap03 - INFO - adc - Chip 1, Lane 1:    XXXXXXXXXXXXXXXXXXXXXXXXXXXXXX---|----XXXXXXXXXXXXXXXXXXXXXXXXXX\n",
      "2021-09-27 16:40:16,618 - lwa_f.blocks.block:snap03 - INFO - adc - Chip 1, Lane 2:    XXXXXXXXXXXXXXXXXXXXXXXXXXXXX----|----XXXXXXXXXXXXXXXXXXXXXXXXXX\n",
      "2021-09-27 16:40:16,619 - lwa_f.blocks.block:snap03 - INFO - adc - Chip 1, Lane 3:    XXXXXXXXXXXXXXXXXXXXXXXXXXXXXX----|----XXXXXXXXXXXXXXXXXXXXXXXXX\n",
      "2021-09-27 16:40:16,619 - lwa_f.blocks.block:snap03 - INFO - adc - Chip 1, Lane 4:    XXXXXXXXXXXXXXXXXXXXXXXXXXXXXX---|----XXXXXXXXXXXXXXXXXXXXXXXXXX\n",
      "2021-09-27 16:40:16,620 - lwa_f.blocks.block:snap03 - INFO - adc - Chip 1, Lane 5:    XXXXXXXXXXXXXXXXXXXXXXXXXXXXXXXXX---|---XXXXXXXXXXXXXXXXXXXXXXXX\n",
      "2021-09-27 16:40:16,621 - lwa_f.blocks.block:snap03 - INFO - adc - Chip 1, Lane 6:    XXXXXXXXXXXXXXXXXXXXXXXXXXXXXXX---|----XXXXXXXXXXXXXXXXXXXXXXXXX\n",
      "2021-09-27 16:40:16,622 - lwa_f.blocks.block:snap03 - INFO - adc - Chip 1, Lane 7:    XXXXXXXXXXXXXXXXXXXXXXXXXXXXXXX---|---XXXXXXXXXXXXXXXXXXXXXXXXXX\n",
      "2021-09-27 16:40:16,622 - lwa_f.blocks.block:snap03 - INFO - adc - Chip 2, Lane 0:    XXXXXXXXXXXXXXXXXXXXXXXXXXXXX---|----XXXXXXXXXXXXXXXXXXXXXXXXXXX\n",
      "2021-09-27 16:40:16,623 - lwa_f.blocks.block:snap03 - INFO - adc - Chip 2, Lane 1:    XXXXXXXXXXXXXXXXXXXXXXXXXXXXX---|----XXXXXXXXXXXXXXXXXXXXXXXXXXX\n",
      "2021-09-27 16:40:16,623 - lwa_f.blocks.block:snap03 - INFO - adc - Chip 2, Lane 2:    XXXXXXXXXXXXXXXXXXXXXXXXXXXXX---|----XXXXXXXXXXXXXXXXXXXXXXXXXXX\n",
      "2021-09-27 16:40:16,624 - lwa_f.blocks.block:snap03 - INFO - adc - Chip 2, Lane 3:    XXXXXXXXXXXXXXXXXXXXXXXXXXXXXXX---|----XXXXXXXXXXXXXXXXXXXXXXXXX\n",
      "2021-09-27 16:40:16,625 - lwa_f.blocks.block:snap03 - INFO - adc - Chip 2, Lane 4:    XXXXXXXXXXXXXXXXXXXXXXXXXXXXXX---|---XXXXXXXXXXXXXXXXXXXXXXXXXXX\n",
      "2021-09-27 16:40:16,625 - lwa_f.blocks.block:snap03 - INFO - adc - Chip 2, Lane 5:    XXXXXXXXXXXXXXXXXXXXXXXXXXXXXXX---|----XXXXXXXXXXXXXXXXXXXXXXXXX\n",
      "2021-09-27 16:40:16,626 - lwa_f.blocks.block:snap03 - INFO - adc - Chip 2, Lane 6:    XXXXXXXXXXXXXXXXXXXXXXXXXXXX----|----XXXXXXXXXXXXXXXXXXXXXXXXXXX\n",
      "2021-09-27 16:40:16,627 - lwa_f.blocks.block:snap03 - INFO - adc - Chip 2, Lane 7:    XXXXXXXXXXXXXXXXXXXXXXXXXXXX---|----XXXXXXXXXXXXXXXXXXXXXXXXXXXX\n",
      "2021-09-27 16:40:16,627 - lwa_f.blocks.block:snap03 - INFO - adc - Chip 3, Lane 0:    XXXXXXXXXXXXXXXXXXXXXXXXXXXXX----|-----XXXXXXXXXXXXXXXXXXXXXXXXX\n",
      "2021-09-27 16:40:16,628 - lwa_f.blocks.block:snap03 - INFO - adc - Chip 3, Lane 1:    XXXXXXXXXXXXXXXXXXXXXXXXXXXXXXX----|----XXXXXXXXXXXXXXXXXXXXXXXX\n",
      "2021-09-27 16:40:16,629 - lwa_f.blocks.block:snap03 - INFO - adc - Chip 3, Lane 2:    XXXXXXXXXXXXXXXXXXXXXXXXXXXXX----|-----XXXXXXXXXXXXXXXXXXXXXXXXX\n",
      "2021-09-27 16:40:16,629 - lwa_f.blocks.block:snap03 - INFO - adc - Chip 3, Lane 3:    XXXXXXXXXXXXXXXXXXXXXXXXXXXXXX----|----XXXXXXXXXXXXXXXXXXXXXXXXX\n",
      "2021-09-27 16:40:16,630 - lwa_f.blocks.block:snap03 - INFO - adc - Chip 3, Lane 4:    XXXXXXXXXXXXXXXXXXXXXXXXXXXXXX----|----XXXXXXXXXXXXXXXXXXXXXXXXX\n",
      "2021-09-27 16:40:16,631 - lwa_f.blocks.block:snap03 - INFO - adc - Chip 3, Lane 5:    XXXXXXXXXXXXXXXXXXXXXXXXXXXXXX----|----XXXXXXXXXXXXXXXXXXXXXXXXX\n",
      "2021-09-27 16:40:16,631 - lwa_f.blocks.block:snap03 - INFO - adc - Chip 3, Lane 6:    XXXXXXXXXXXXXXXXXXXXXXXXXXXXXX----|----XXXXXXXXXXXXXXXXXXXXXXXXX\n",
      "2021-09-27 16:40:16,632 - lwa_f.blocks.block:snap03 - INFO - adc - Chip 3, Lane 7:    XXXXXXXXXXXXXXXXXXXXXXXXXXXXXX----|----XXXXXXXXXXXXXXXXXXXXXXXXX\n",
      "2021-09-27 16:40:16,633 - lwa_f.blocks.block:snap03 - INFO - adc - Chip 4, Lane 0:    XXXXXXXXXXXXXXXXXXXXXXXXXXXXXXXX----|-----XXXXXXXXXXXXXXXXXXXXXX\n"
     ]
    },
    {
     "name": "stderr",
     "output_type": "stream",
     "text": [
      "\n"
     ]
    },
    {
     "name": "stdout",
     "output_type": "stream",
     "text": [
      "2021-09-27 16:40:16,634 - lwa_f.blocks.block:snap03 - INFO - adc - Chip 4, Lane 1:    XXXXXXXXXXXXXXXXXXXXXXXXXXXXXXXX----|-----XXXXXXXXXXXXXXXXXXXXXX\n",
      "2021-09-27 16:40:16,634 - lwa_f.blocks.block:snap03 - INFO - adc - Chip 4, Lane 2:    XXXXXXXXXXXXXXXXXXXXXXXXXXXXXXXXX----|-----XXXXXXXXXXXXXXXXXXXXX\n",
      "2021-09-27 16:40:16,635 - lwa_f.blocks.block:snap03 - INFO - adc - Chip 4, Lane 3:    XXXXXXXXXXXXXXXXXXXXXXXXXXXXXXXXXX----|----XXXXXXXXXXXXXXXXXXXXX\n",
      "2021-09-27 16:40:16,636 - lwa_f.blocks.block:snap03 - INFO - adc - Chip 4, Lane 4:    XXXXXXXXXXXXXXXXXXXXXXXXXXXXXXXXX----|-----XXXXXXXXXXXXXXXXXXXXX\n",
      "2021-09-27 16:40:16,636 - lwa_f.blocks.block:snap03 - INFO - adc - Chip 4, Lane 5:    XXXXXXXXXXXXXXXXXXXXXXXXXXXXXXXX----|-----XXXXXXXXXXXXXXXXXXXXXX\n",
      "2021-09-27 16:40:16,637 - lwa_f.blocks.block:snap03 - INFO - adc - Chip 4, Lane 6:    XXXXXXXXXXXXXXXXXXXXXXXXXXXXXXXX----|----XXXXXXXXXXXXXXXXXXXXXXX\n",
      "2021-09-27 16:40:16,638 - lwa_f.blocks.block:snap03 - INFO - adc - Chip 4, Lane 7:    XXXXXXXXXXXXXXXXXXXXXXXXXXXXXXXX----|-----XXXXXXXXXXXXXXXXXXXXXX\n",
      "2021-09-27 16:40:16,638 - lwa_f.blocks.block:snap03 - INFO - adc - Chip 5, Lane 0:    XXXXXXXXXXXXXXXXXXXXXXXXXX----|----XXXXXXXXXXXXXXXXXXXXXXXXXXXXX\n",
      "2021-09-27 16:40:16,639 - lwa_f.blocks.block:snap03 - INFO - adc - Chip 5, Lane 1:    XXXXXXXXXXXXXXXXXXXXXXXXX----|----XXXXXXXXXXXXXXXXXXXXXXXXXXXXXX\n",
      "2021-09-27 16:40:16,640 - lwa_f.blocks.block:snap03 - INFO - adc - Chip 5, Lane 2:    XXXXXXXXXXXXXXXXXXXXXXXXXX---|----XXXXXXXXXXXXXXXXXXXXXXXXXXXXXX\n",
      "2021-09-27 16:40:16,640 - lwa_f.blocks.block:snap03 - INFO - adc - Chip 5, Lane 3:    XXXXXXXXXXXXXXXXXXXXXXXXXX---|----XXXXXXXXXXXXXXXXXXXXXXXXXXXXXX\n",
      "2021-09-27 16:40:16,641 - lwa_f.blocks.block:snap03 - INFO - adc - Chip 5, Lane 4:    XXXXXXXXXXXXXXXXXXXXXXXXXXX---|---XXXXXXXXXXXXXXXXXXXXXXXXXXXXXX\n",
      "2021-09-27 16:40:16,642 - lwa_f.blocks.block:snap03 - INFO - adc - Chip 5, Lane 5:    XXXXXXXXXXXXXXXXXXXXXXXXXXX---|---XXXXXXXXXXXXXXXXXXXXXXXXXXXXXX\n",
      "2021-09-27 16:40:16,642 - lwa_f.blocks.block:snap03 - INFO - adc - Chip 5, Lane 6:    XXXXXXXXXXXXXXXXXXXXXXXXXXX---|----XXXXXXXXXXXXXXXXXXXXXXXXXXXXX\n",
      "2021-09-27 16:40:16,643 - lwa_f.blocks.block:snap03 - INFO - adc - Chip 5, Lane 7:    XXXXXXXXXXXXXXXXXXXXXXXXX---|----XXXXXXXXXXXXXXXXXXXXXXXXXXXXXXX\n",
      "2021-09-27 16:40:16,644 - lwa_f.blocks.block:snap03 - INFO - adc - Chip 6, Lane 0:    XXXXXXXXXXXXXXXXXXXXXXXXXXXXXX---|----XXXXXXXXXXXXXXXXXXXXXXXXXX\n",
      "2021-09-27 16:40:16,644 - lwa_f.blocks.block:snap03 - INFO - adc - Chip 6, Lane 1:    XXXXXXXXXXXXXXXXXXXXXXXXXXX----|----XXXXXXXXXXXXXXXXXXXXXXXXXXXX\n",
      "2021-09-27 16:40:16,645 - lwa_f.blocks.block:snap03 - INFO - adc - Chip 6, Lane 2:    XXXXXXXXXXXXXXXXXXXXXXXXXXXX----|----XXXXXXXXXXXXXXXXXXXXXXXXXXX\n",
      "2021-09-27 16:40:16,645 - lwa_f.blocks.block:snap03 - INFO - adc - Chip 6, Lane 3:    XXXXXXXXXXXXXXXXXXXXXXXXXXXXX----|----XXXXXXXXXXXXXXXXXXXXXXXXXX\n",
      "2021-09-27 16:40:16,651 - lwa_f.blocks.block:snap03 - INFO - adc - Chip 6, Lane 4:    XXXXXXXXXXXXXXXXXXXXXXXXXXXX---|----XXXXXXXXXXXXXXXXXXXXXXXXXXXX\n",
      "2021-09-27 16:40:16,652 - lwa_f.blocks.block:snap03 - INFO - adc - Chip 6, Lane 5:    XXXXXXXXXXXXXXXXXXXXXXXXXXXX----|----XXXXXXXXXXXXXXXXXXXXXXXXXXX\n",
      "2021-09-27 16:40:16,652 - lwa_f.blocks.block:snap03 - INFO - adc - Chip 6, Lane 6:    XXXXXXXXXXXXXXXXXXXXXXXXXXX----|----XXXXXXXXXXXXXXXXXXXXXXXXXXXX\n",
      "2021-09-27 16:40:16,653 - lwa_f.blocks.block:snap03 - INFO - adc - Chip 6, Lane 7:    XXXXXXXXXXXXXXXXXXXXXXXXXXXX----|----XXXXXXXXXXXXXXXXXXXXXXXXXXX\n",
      "2021-09-27 16:40:16,654 - lwa_f.blocks.block:snap03 - INFO - adc - Chip 7, Lane 0:    XXXXXXXXXXXXXXXXXXXXXXXXXXXXXXX---|----XXXXXXXXXXXXXXXXXXXXXXXXX\n",
      "2021-09-27 16:40:16,654 - lwa_f.blocks.block:snap03 - INFO - adc - Chip 7, Lane 1:    XXXXXXXXXXXXXXXXXXXXXXXXXXXXXXX----|----XXXXXXXXXXXXXXXXXXXXXXXX\n",
      "2021-09-27 16:40:16,655 - lwa_f.blocks.block:snap03 - INFO - adc - Chip 7, Lane 2:    XXXXXXXXXXXXXXXXXXXXXXXXXXXXXXX----|----XXXXXXXXXXXXXXXXXXXXXXXX\n",
      "2021-09-27 16:40:16,656 - lwa_f.blocks.block:snap03 - INFO - adc - Chip 7, Lane 3:    XXXXXXXXXXXXXXXXXXXXXXXXXXXXXXX---|----XXXXXXXXXXXXXXXXXXXXXXXXX\n",
      "2021-09-27 16:40:16,656 - lwa_f.blocks.block:snap03 - INFO - adc - Chip 7, Lane 4:    XXXXXXXXXXXXXXXXXXXXXXXXXXXXXXX---|----XXXXXXXXXXXXXXXXXXXXXXXXX\n",
      "2021-09-27 16:40:16,657 - lwa_f.blocks.block:snap03 - INFO - adc - Chip 7, Lane 5:    XXXXXXXXXXXXXXXXXXXXXXXXXXXXXXX---|----XXXXXXXXXXXXXXXXXXXXXXXXX\n",
      "2021-09-27 16:40:16,658 - lwa_f.blocks.block:snap03 - INFO - adc - Chip 7, Lane 6:    XXXXXXXXXXXXXXXXXXXXXXXXXXXXXXX---|----XXXXXXXXXXXXXXXXXXXXXXXXX\n",
      "2021-09-27 16:40:16,658 - lwa_f.blocks.block:snap03 - INFO - adc - Chip 7, Lane 7:    XXXXXXXXXXXXXXXXXXXXXXXXXXXXXXX---|----XXXXXXXXXXXXXXXXXXXXXXXXX\n",
      "2021-09-27 16:40:21,040 - lwa_f.snap2_fengine:snap03 - INFO - Initializing block (writable): sync\n",
      "2021-09-27 16:40:21,054 - lwa_f.snap2_fengine:snap03 - INFO - Initializing block (writable): noise\n",
      "2021-09-27 16:40:21,061 - lwa_f.snap2_fengine:snap03 - INFO - Initializing block (writable): input\n",
      "2021-09-27 16:40:21,255 - lwa_f.snap2_fengine:snap03 - INFO - Initializing block (writable): delay\n",
      "2021-09-27 16:40:21,778 - lwa_f.snap2_fengine:snap03 - INFO - Initializing block (writable): pfb\n",
      "2021-09-27 16:40:21,791 - lwa_f.snap2_fengine:snap03 - INFO - Initializing block (writable): eq\n",
      "2021-09-27 16:40:22,169 - lwa_f.snap2_fengine:snap03 - INFO - Initializing block (writable): eqtvg\n",
      "2021-09-27 16:40:23,267 - lwa_f.snap2_fengine:snap03 - INFO - Initializing block (writable): reorder\n",
      "2021-09-27 16:40:23,284 - lwa_f.snap2_fengine:snap03 - INFO - Initializing block (writable): packetizer\n",
      "2021-09-27 16:40:23,285 - lwa_f.snap2_fengine:snap03 - INFO - Initializing block (writable): eth\n",
      "2021-09-27 16:40:23,297 - lwa_f.snap2_fengine:snap03 - INFO - Initializing block (writable): autocorr\n",
      "2021-09-27 16:40:23,300 - lwa_f.snap2_fengine:snap03 - INFO - Initializing block (writable): corr\n",
      "2021-09-27 16:40:23,303 - lwa_f.snap2_fengine:snap03 - INFO - Initializing block (writable): powermon\n",
      "2021-09-27 16:40:23,568 - lwa_f.snap2_fengine:snap03 - INFO - Performing software global reset\n"
     ]
    }
   ],
   "source": [
    "#load firmware and initialize etc\n",
    "brd=snap2_fengine.Snap2Fengine(brdname)\n",
    "brd.program(fpgfile)\n",
    "brd.initialize(read_only=False)\n",
    "brd.sync.arm_sync()\n",
    "brd.sync.sw_sync()"
   ]
  },
  {
   "cell_type": "code",
   "execution_count": 9,
   "metadata": {},
   "outputs": [],
   "source": [
    "casperbrd = casperfpga.CasperFpga(brdname, transport=casperfpga.TapcpTransport)"
   ]
  },
  {
   "cell_type": "markdown",
   "metadata": {},
   "source": [
    "### Work on reading and interpreting shared bram\n",
    "First, I do a test similar to how I simulated the threshold excess counters.  I keep the thresholds at zero and make the data a constant for each antenna.  All antennas except 0 should exceed threshold on every clock cycle and antenna 0 should never exceed threshold.  Thus, all counts should be 2^28 because that is the number of clock cycles between reset pulses."
   ]
  },
  {
   "cell_type": "code",
   "execution_count": 10,
   "metadata": {},
   "outputs": [
    {
     "name": "stdout",
     "output_type": "stream",
     "text": [
      "Data source set to constant\n"
     ]
    }
   ],
   "source": [
    "setup_data_source(casperbrd,\"constant\")"
   ]
  },
  {
   "cell_type": "markdown",
   "metadata": {},
   "source": [
    "The shared BRAMS I want to read are:\n",
    "    \n",
    "'cosmic_ray_veto_thresh_rate1'\n",
    "\n",
    "'cosmic_ray_veto_thresh_rate3'  This should be 2 not 3, but I made a typo and in the firmware it's called 3.\n",
    "\n",
    "'cosmic_ray_thresh_rate1'\n",
    "\n",
    "'cosmic_ray_thresh_rate2'\n",
    "\n",
    "'cosmic_ray_core_ant_veto_rate'   This should be cosmic_ray_core_and_veto_rate."
   ]
  },
  {
   "cell_type": "code",
   "execution_count": 10,
   "metadata": {},
   "outputs": [
    {
     "data": {
      "text/plain": [
       "['aaa_onegbe_one_GbE',\n",
       " 'adc_sync',\n",
       " 'ads5296_controller0_0',\n",
       " 'ads5296_controller0_1',\n",
       " 'ads5296_controller1_0',\n",
       " 'ads5296_controller1_1',\n",
       " 'ads5296_hardware_rst0',\n",
       " 'ads5296_hardware_rst1',\n",
       " 'ads5296_spi_controller0',\n",
       " 'ads5296_spi_controller1',\n",
       " 'ads5296_wb_ram0_0_0',\n",
       " 'ads5296_wb_ram0_0_1',\n",
       " 'ads5296_wb_ram0_0_2',\n",
       " 'ads5296_wb_ram0_0_3',\n",
       " 'ads5296_wb_ram0_1_0',\n",
       " 'ads5296_wb_ram0_1_1',\n",
       " 'ads5296_wb_ram0_1_2',\n",
       " 'ads5296_wb_ram0_1_3',\n",
       " 'ads5296_wb_ram1_0_0',\n",
       " 'ads5296_wb_ram1_0_1',\n",
       " 'ads5296_wb_ram1_0_2',\n",
       " 'ads5296_wb_ram1_0_3',\n",
       " 'ads5296_wb_ram1_1_0',\n",
       " 'ads5296_wb_ram1_1_1',\n",
       " 'ads5296_wb_ram1_1_2',\n",
       " 'ads5296_wb_ram1_1_3',\n",
       " 'autocorr_acc_cnt',\n",
       " 'autocorr_acc_len',\n",
       " 'autocorr_common_dout0_bram',\n",
       " 'autocorr_common_dout1_bram',\n",
       " 'autocorr_common_dout2_bram',\n",
       " 'autocorr_common_dout3_bram',\n",
       " 'autocorr_common_dout4_bram',\n",
       " 'autocorr_common_dout5_bram',\n",
       " 'autocorr_common_dout6_bram',\n",
       " 'autocorr_common_dout7_bram',\n",
       " 'autocorr_mux_sel',\n",
       " 'autocorr_trig',\n",
       " 'chan_reorder_dynamic_map1',\n",
       " 'corr_0_acc_cnt',\n",
       " 'corr_0_acc_len',\n",
       " 'corr_0_dout',\n",
       " 'corr_0_input_sel',\n",
       " 'cosmic_ray_core_ant_veto_rate',\n",
       " 'cosmic_ray_cr_dest_ip',\n",
       " 'cosmic_ray_cr_forty_gbe',\n",
       " 'cosmic_ray_cr_forty_gbe_txctr',\n",
       " 'cosmic_ray_cr_forty_gbe_txfullctr',\n",
       " 'cosmic_ray_cr_forty_gbe_txofctr',\n",
       " 'cosmic_ray_cr_forty_gbe_txs0_ss_bram',\n",
       " 'cosmic_ray_cr_forty_gbe_txs0_ss_ctrl',\n",
       " 'cosmic_ray_cr_forty_gbe_txs0_ss_status',\n",
       " 'cosmic_ray_cr_forty_gbe_txs1_ss_bram',\n",
       " 'cosmic_ray_cr_forty_gbe_txs1_ss_ctrl',\n",
       " 'cosmic_ray_cr_forty_gbe_txs1_ss_status',\n",
       " 'cosmic_ray_cr_forty_gbe_txs2_ss_bram',\n",
       " 'cosmic_ray_cr_forty_gbe_txs2_ss_ctrl',\n",
       " 'cosmic_ray_cr_forty_gbe_txs2_ss_status',\n",
       " 'cosmic_ray_cr_forty_gbe_txvldctr',\n",
       " 'cosmic_ray_cr_trigger_power_thresh',\n",
       " 'cosmic_ray_cr_veto_power_thresh',\n",
       " 'cosmic_ray_eth_control',\n",
       " 'cosmic_ray_forty_g_tx_afull',\n",
       " 'cosmic_ray_forty_g_tx_of',\n",
       " 'cosmic_ray_forty_g_up',\n",
       " 'cosmic_ray_quora',\n",
       " 'cosmic_ray_readout_state_timer1',\n",
       " 'cosmic_ray_readout_state_value',\n",
       " 'cosmic_ray_snapshot_counter',\n",
       " 'cosmic_ray_thresh_rate1',\n",
       " 'cosmic_ray_thresh_rate2',\n",
       " 'cosmic_ray_trig_debug_timer',\n",
       " 'cosmic_ray_trig_debug_trig_rec_count',\n",
       " 'cosmic_ray_trigger_antennas1',\n",
       " 'cosmic_ray_trigger_antennas2',\n",
       " 'cosmic_ray_triggercontrol',\n",
       " 'cosmic_ray_tx_count_eof_and_valid',\n",
       " 'cosmic_ray_tx_eof_counter',\n",
       " 'cosmic_ray_version_version',\n",
       " 'cosmic_ray_veto_antennas1',\n",
       " 'cosmic_ray_veto_antennas2',\n",
       " 'cosmic_ray_veto_thresh_rate1',\n",
       " 'cosmic_ray_veto_thresh_rate3',\n",
       " 'cosmic_ray_wait_between_packets',\n",
       " 'cosmic_ray_windows',\n",
       " 'delay_delay0',\n",
       " 'delay_delay1',\n",
       " 'delay_delay_en0',\n",
       " 'delay_delay_en1',\n",
       " 'delay_delay_store0_readout',\n",
       " 'delay_delay_store0_sel',\n",
       " 'delay_delay_store1_readout',\n",
       " 'delay_delay_store1_sel',\n",
       " 'delay_max_delay',\n",
       " 'eq_core0_clip_cnt',\n",
       " 'eq_core0_coeffs',\n",
       " 'eq_core1_clip_cnt',\n",
       " 'eq_core1_coeffs',\n",
       " 'eq_core2_clip_cnt',\n",
       " 'eq_core2_coeffs',\n",
       " 'eq_core3_clip_cnt',\n",
       " 'eq_core3_coeffs',\n",
       " 'eth_ctrl',\n",
       " 'eth_forty_gbe',\n",
       " 'eth_forty_gbe_txctr',\n",
       " 'eth_forty_gbe_txfullctr',\n",
       " 'eth_forty_gbe_txofctr',\n",
       " 'eth_forty_gbe_txvldctr',\n",
       " 'input_bit_stats_histogram_output',\n",
       " 'input_bit_stats_input_sel',\n",
       " 'input_rms_enable',\n",
       " 'input_rms_levels',\n",
       " 'input_source_sel0',\n",
       " 'input_source_sel1',\n",
       " 'input_source_sel2',\n",
       " 'input_source_sel3',\n",
       " 'noise_octal_mux0_sel',\n",
       " 'noise_octal_mux1_sel',\n",
       " 'noise_octal_mux2_sel',\n",
       " 'noise_octal_mux3_sel',\n",
       " 'noise_octal_mux4_sel',\n",
       " 'noise_octal_mux5_sel',\n",
       " 'noise_octal_mux6_sel',\n",
       " 'noise_octal_mux7_sel',\n",
       " 'noise_seeds0',\n",
       " 'packetizer_ants',\n",
       " 'packetizer_chans',\n",
       " 'packetizer_flags',\n",
       " 'packetizer_ips',\n",
       " 'packetizer_n_chans',\n",
       " 'packetizer_n_pols',\n",
       " 'packetizer_ports',\n",
       " 'pfb_ctrl',\n",
       " 'pfb_pfb16x_0_status',\n",
       " 'pfb_pfb16x_1_status',\n",
       " 'pfb_pfb16x_2_status',\n",
       " 'pfb_pfb16x_3_status',\n",
       " 'post_eq_tvg_core0_tv',\n",
       " 'post_eq_tvg_core1_tv',\n",
       " 'post_eq_tvg_core2_tv',\n",
       " 'post_eq_tvg_core3_tv',\n",
       " 'post_eq_tvg_tvg_en',\n",
       " 'powermon_i2c_interface',\n",
       " 'sync_adc_sync_time_lsb',\n",
       " 'sync_adc_sync_time_msb',\n",
       " 'sync_ctrl',\n",
       " 'sync_ext_period_variations',\n",
       " 'sync_ext_pps_period',\n",
       " 'sync_ext_pps_period_variations',\n",
       " 'sync_ext_sync_count',\n",
       " 'sync_ext_sync_period',\n",
       " 'sync_ext_sync_tt_lsb',\n",
       " 'sync_ext_sync_tt_msb',\n",
       " 'sync_int_sync_count',\n",
       " 'sync_int_tt_load_lsb',\n",
       " 'sync_int_tt_load_msb',\n",
       " 'sync_latency',\n",
       " 'sync_latency_variations',\n",
       " 'sync_sync_in_delay_ctrl',\n",
       " 'sync_sync_out_gpio_delay_ctrl',\n",
       " 'sync_tt_load_lsb',\n",
       " 'sync_tt_load_msb',\n",
       " 'sync_tt_lsb',\n",
       " 'sync_tt_mask',\n",
       " 'sync_tt_msb',\n",
       " 'sync_uptime_msb',\n",
       " 'sys_block',\n",
       " 'sys_board_id',\n",
       " 'sys_clkcounter',\n",
       " 'sys_rev',\n",
       " 'sys_rev_rcs',\n",
       " 'sys_scratchpad',\n",
       " 'sysmon',\n",
       " 'version_timestamp',\n",
       " 'version_version']"
      ]
     },
     "execution_count": 10,
     "metadata": {},
     "output_type": "execute_result"
    }
   ],
   "source": [
    "casperbrd.listdev()"
   ]
  },
  {
   "cell_type": "code",
   "execution_count": 69,
   "metadata": {},
   "outputs": [],
   "source": [
    "data = casperbrd.read(\"cosmic_ray_thresh_rate2\",259)\n"
   ]
  },
  {
   "cell_type": "markdown",
   "metadata": {},
   "source": [
    "I expected to only be able to read 4*32 = 128 bytes from this register, but I can read up to 259 wihout getting an error message. Although the length of the bytes object is 256.\n",
    "\n",
    "Checking the simulink design, I made the address width 6 when it should have been 5.  So there should be 256 bytes, the last half of which are empty."
   ]
  },
  {
   "cell_type": "code",
   "execution_count": 70,
   "metadata": {},
   "outputs": [
    {
     "data": {
      "text/plain": [
       "[<matplotlib.lines.Line2D at 0x7f234c180e50>]"
      ]
     },
     "execution_count": 70,
     "metadata": {},
     "output_type": "execute_result"
    },
    {
     "data": {
      "image/png": "[encoded data removed]",
      "text/plain": [
       "<Figure size 432x288 with 1 Axes>"
      ]
     },
     "metadata": {
      "needs_background": "light"
     },
     "output_type": "display_data"
    }
   ],
   "source": [
    "values=struct.unpack('>64l',casperbrd.read(\"cosmic_ray_thresh_rate2\",64*4,0))\n",
    "plt.plot(values)"
   ]
  },
  {
   "cell_type": "code",
   "execution_count": 67,
   "metadata": {},
   "outputs": [],
   "source": [
    "#the following also works for unpacking\n",
    "#data = casperbrd.read(\"cosmic_ray_thresh_rate2\",259)\n",
    "#byteslength=256\n",
    "#values=np.ones(int(byteslength/4))\n",
    "#for i in range(int(byteslength/4)):\n",
    "#    values[i] = int.from_bytes(data[4*i:(4*i)+4],'big')"
   ]
  },
  {
   "cell_type": "code",
   "execution_count": 72,
   "metadata": {},
   "outputs": [
    {
     "name": "stdout",
     "output_type": "stream",
     "text": [
      "268435455\n",
      "268435455\n",
      "268435455\n",
      "0\n"
     ]
    }
   ],
   "source": [
    "print(values[0])\n",
    "print(values[30])\n",
    "print(values[31])\n",
    "print(values[32])"
   ]
  },
  {
   "cell_type": "code",
   "execution_count": 74,
   "metadata": {},
   "outputs": [
    {
     "data": {
      "text/plain": [
       "[<matplotlib.lines.Line2D at 0x7f23499b90d0>]"
      ]
     },
     "execution_count": 74,
     "metadata": {},
     "output_type": "execute_result"
    },
    {
     "data": {
      "image/png": "[encoded data removed]",
      "text/plain": [
       "<Figure size 432x288 with 1 Axes>"
      ]
     },
     "metadata": {
      "needs_background": "light"
     },
     "output_type": "display_data"
    }
   ],
   "source": [
    "values=struct.unpack('>64l',casperbrd.read(\"cosmic_ray_thresh_rate1\",64*4,0))\n",
    "plt.plot(values)"
   ]
  },
  {
   "cell_type": "code",
   "execution_count": 83,
   "metadata": {},
   "outputs": [
    {
     "name": "stdout",
     "output_type": "stream",
     "text": [
      "268435455\n",
      "0\n",
      "268435455\n",
      "268435455\n",
      "268435455\n",
      "268435455\n",
      "0\n"
     ]
    },
    {
     "data": {
      "image/png": "[encoded data removed]",
      "text/plain": [
       "<Figure size 432x288 with 1 Axes>"
      ]
     },
     "metadata": {
      "needs_background": "light"
     },
     "output_type": "display_data"
    }
   ],
   "source": [
    "values=struct.unpack('>64l',casperbrd.read(\"cosmic_ray_veto_thresh_rate1\",64*4,0))\n",
    "plt.plot(values)\n",
    "print(values[0])\n",
    "print(values[1])\n",
    "print(values[2])\n",
    "print(values[3])\n",
    "print(values[30])\n",
    "print(values[31])\n",
    "print(values[32])"
   ]
  },
  {
   "cell_type": "code",
   "execution_count": 86,
   "metadata": {},
   "outputs": [
    {
     "data": {
      "text/plain": [
       "[<matplotlib.lines.Line2D at 0x7f23496e5650>]"
      ]
     },
     "execution_count": 86,
     "metadata": {},
     "output_type": "execute_result"
    },
    {
     "data": {
      "image/png": "[encoded data removed]",
      "text/plain": [
       "<Figure size 432x288 with 1 Axes>"
      ]
     },
     "metadata": {
      "needs_background": "light"
     },
     "output_type": "display_data"
    }
   ],
   "source": [
    "values=struct.unpack('>64l',casperbrd.read(\"cosmic_ray_veto_thresh_rate3\",64*4,0))\n",
    "plt.plot(values)"
   ]
  },
  {
   "cell_type": "markdown",
   "metadata": {},
   "source": [
    "The two pairs of BRAMs each have only one antenna with 0 counts (others are 268435455=2^28 -1). This is good but it's weird that the zero is what I read as antenna 1 not antenna 0."
   ]
  },
  {
   "cell_type": "code",
   "execution_count": 2,
   "metadata": {},
   "outputs": [],
   "source": [
    "def read_threshold_rates(casperbrd):\n",
    "    #Reads the shared BRAMs that hold the number of times the individual antennas exceed thresholds in the last 2^28 clock cycles\n",
    "    #Returns an array of length 64 for the rate each antenna exceeds the core threshold and another for the rate exceeding veto threshold\n",
    "    #casperbrd is a casperfpga CasperFpga object\n",
    "    core = np.zeros(64)\n",
    "    veto = np.zeros(64)\n",
    "    core[:32]= struct.unpack('>32l',casperbrd.read(\"cosmic_ray_thresh_rate1\",32*4,0))\n",
    "    core[32:]= struct.unpack('>32l',casperbrd.read(\"cosmic_ray_thresh_rate2\",32*4,0))\n",
    "    veto[:32]= struct.unpack('>32l',casperbrd.read(\"cosmic_ray_veto_thresh_rate1\",32*4,0))\n",
    "    veto[32:]= struct.unpack('>32l',casperbrd.read(\"cosmic_ray_veto_thresh_rate3\",32*4,0))\n",
    "    return core, veto"
   ]
  },
  {
   "cell_type": "code",
   "execution_count": 96,
   "metadata": {},
   "outputs": [
    {
     "data": {
      "text/plain": [
       "[<matplotlib.lines.Line2D at 0x7f234958da90>]"
      ]
     },
     "execution_count": 96,
     "metadata": {},
     "output_type": "execute_result"
    },
    {
     "data": {
      "image/png": "[encoded data removed]",
      "text/plain": [
       "<Figure size 432x288 with 2 Axes>"
      ]
     },
     "metadata": {
      "needs_background": "light"
     },
     "output_type": "display_data"
    }
   ],
   "source": [
    "core,veto = read_threshold_rates(casperbrd)\n",
    "plt.subplot(121)\n",
    "plt.plot(core)\n",
    "plt.subplot(122)\n",
    "plt.plot(veto)"
   ]
  },
  {
   "cell_type": "markdown",
   "metadata": {},
   "source": [
    "### Check antenna mapping\n",
    "With the test signal as a constant for each antenna, I set different thresholds to confirm antenna ordering in the SBRAMs.  For example, if the threshold is 25=5^2 then antennas less than and equal to 5 should never exceed the threshold.  The ordering is as desired except that it seems to be off by one in each BRAM, such that the 64 numbers in the array correspond to antennas [31,0,1,2,...30,63,32,33,34,...62]."
   ]
  },
  {
   "cell_type": "code",
   "execution_count": 124,
   "metadata": {},
   "outputs": [
    {
     "data": {
      "text/plain": [
       "[<matplotlib.lines.Line2D at 0x7f2348f5ab50>]"
      ]
     },
     "execution_count": 124,
     "metadata": {},
     "output_type": "execute_result"
    },
    {
     "data": {
      "image/png": "[encoded data removed]",
      "text/plain": [
       "<Figure size 432x288 with 2 Axes>"
      ]
     },
     "metadata": {
      "needs_background": "light"
     },
     "output_type": "display_data"
    }
   ],
   "source": [
    "setvalue(casperbrd,\"trigger_power_thresh\",\"cr_registers.xlsx\",33**2)\n",
    "setvalue(casperbrd,\"veto_power_thresh\",\"cr_registers.xlsx\",33**2)\n",
    "\n",
    "getvalue(casperbrd,\"trigger_power_thresh\",\"cr_registers.xlsx\")\n",
    "time.sleep(2)  #have to wait for it to update\n",
    "core,veto = read_threshold_rates(casperbrd)\n",
    "plt.subplot(121)\n",
    "plt.plot(core)\n",
    "plt.subplot(122)\n",
    "plt.plot(veto)\n"
   ]
  },
  {
   "cell_type": "markdown",
   "metadata": {},
   "source": [
    "## Internally Generated Whitenoise\n",
    "\n",
    "1. Learn how to turn on noise vector\n",
    "\n",
    "2. Acquire a snapshot and measure rms\n",
    "\n",
    "3. measure rate above 1 sigma threshold, confirm it matches expectations\n",
    "\n",
    "4. Code threshold scan for whitenoise\n"
   ]
  },
  {
   "cell_type": "code",
   "execution_count": 6,
   "metadata": {},
   "outputs": [],
   "source": [
    "brdname='snap03'\n",
    "casperbrd = casperfpga.CasperFpga(brdname, transport=casperfpga.TapcpTransport)\n",
    "setvalue(casperbrd,'eth_enable','cr_registers.xlsx',0)\n"
   ]
  },
  {
   "cell_type": "code",
   "execution_count": 7,
   "metadata": {},
   "outputs": [
    {
     "name": "stdout",
     "output_type": "stream",
     "text": [
      "2021-09-28 16:03:24,955 - lwa_f.blocks.block:snap01 - WARNING -  - hostname (10.40.0.157) couldn't be turned into integer serial\n",
      "2021-09-28 16:03:25,244 - lwa_f.blocks.block:snap01 - INFO - adc - Detected FMC ADC board on port 0\n",
      "2021-09-28 16:03:25,524 - lwa_f.blocks.block:snap01 - INFO - adc - Detected FMC ADC board on port 1\n",
      "2021-09-28 16:03:25,537 - lwa_f.snap2_fengine:snap01 - INFO - Loading firmware /home/ubuntu/kplant/caltech-lwa/snap2_f_200msps_64i_4096c/outputs/snap2_f_200msps_64i_4096c_2021-09-23_1421.fpg to snap01\n",
      "2021-09-28 16:03:50,788 - lwa_f.blocks.block:snap01 - WARNING -  - hostname (10.40.0.157) couldn't be turned into integer serial\n",
      "2021-09-28 16:03:51,068 - lwa_f.blocks.block:snap01 - INFO - adc - Detected FMC ADC board on port 0\n",
      "2021-09-28 16:03:51,347 - lwa_f.blocks.block:snap01 - INFO - adc - Detected FMC ADC board on port 1\n",
      "2021-09-28 16:03:51,360 - lwa_f.snap2_fengine:snap01 - INFO - Initializing block (read only): fpga\n",
      "2021-09-28 16:03:51,361 - lwa_f.snap2_fengine:snap01 - INFO - Initializing block (read only): adc\n",
      "2021-09-28 16:03:51,361 - lwa_f.snap2_fengine:snap01 - INFO - Initializing block (read only): sync\n",
      "2021-09-28 16:03:51,362 - lwa_f.snap2_fengine:snap01 - INFO - Initializing block (read only): noise\n",
      "2021-09-28 16:03:51,362 - lwa_f.snap2_fengine:snap01 - INFO - Initializing block (read only): input\n",
      "2021-09-28 16:03:51,362 - lwa_f.snap2_fengine:snap01 - INFO - Initializing block (read only): delay\n",
      "2021-09-28 16:03:51,364 - lwa_f.snap2_fengine:snap01 - INFO - Initializing block (read only): pfb\n",
      "2021-09-28 16:03:51,365 - lwa_f.snap2_fengine:snap01 - INFO - Initializing block (read only): eq\n",
      "2021-09-28 16:03:51,365 - lwa_f.snap2_fengine:snap01 - INFO - Initializing block (read only): eqtvg\n",
      "2021-09-28 16:03:51,365 - lwa_f.snap2_fengine:snap01 - INFO - Initializing block (read only): reorder\n",
      "2021-09-28 16:03:51,366 - lwa_f.snap2_fengine:snap01 - INFO - Initializing block (read only): packetizer\n",
      "2021-09-28 16:03:51,366 - lwa_f.snap2_fengine:snap01 - INFO - Initializing block (read only): eth\n",
      "2021-09-28 16:03:51,367 - lwa_f.snap2_fengine:snap01 - INFO - Initializing block (read only): autocorr\n",
      "2021-09-28 16:03:51,368 - lwa_f.snap2_fengine:snap01 - INFO - Initializing block (read only): corr\n",
      "2021-09-28 16:03:51,370 - lwa_f.snap2_fengine:snap01 - INFO - Initializing block (read only): powermon\n"
     ]
    }
   ],
   "source": [
    "brdname='snap01'\n",
    "casperbrd = casperfpga.CasperFpga(brdname, transport=casperfpga.TapcpTransport)\n",
    "\n",
    "#load firmware and initialize etc\n",
    "brd=snap2_fengine.Snap2Fengine(brdname)\n",
    "brd.program(fpgfile)\n",
    "#one way to send white noise\n",
    "brd.initialize()\n",
    "\n",
    "brd.sync.arm_sync()\n",
    "brd.sync.sw_sync()\n",
    "\n",
    "\n"
   ]
  },
  {
   "cell_type": "markdown",
   "metadata": {},
   "source": [
    "### Send a snapshot and measure RMS\n",
    "I set the board to send white noise and then send a snapshot to measure the mean and standard deviation. The plots are confirmation that I've set the noise generator to identical whitenoise on every stream."
   ]
  },
  {
   "cell_type": "code",
   "execution_count": 35,
   "metadata": {},
   "outputs": [
    {
     "name": "stdout",
     "output_type": "stream",
     "text": [
      "Data source set to adc\n",
      "------------------------\n",
      "snap03:cosmic_ray_cr_forty_gbe configuration:\n",
      "MAC:  02:02:02:03:03:03\n",
      "Gateway:  0.0.0.1\n",
      "IP:  10.41.0.203\n",
      "Fabric port: \n",
      "11111\n",
      "Disabled\n",
      "\tbase_ip: 255.255.255.255\n",
      "\tip_mask: 255.255.255.255\n",
      "\trx_ips: []\n",
      "ARP Table: \n",
      "IP: 10.41.0.106: MAC: 04:3F:72:DF:C2:F8\n",
      "Setting wait between packets to 100\n",
      "Packetizer formed 64 packets\n",
      "Board successfully returned to listening state after readout\n",
      "Readout took 22855 clock cycles\n",
      "Packetizer never overflowed\n",
      "Ethernet block almost-full counter incremented by 0\n"
     ]
    }
   ],
   "source": [
    "setup_data_source(casperbrd,\"adc\")\n",
    "setup_ethernet(brdname,casperbrd,fpgfile,'lwacr',100)\n",
    "#enable ethernet\n",
    "setvalue(casperbrd,'eth_enable','cr_registers.xlsx',1)\n",
    "#send trigger\n",
    "software_trigger(casperbrd,1)\n",
    "\n"
   ]
  },
  {
   "cell_type": "code",
   "execution_count": 36,
   "metadata": {},
   "outputs": [
    {
     "data": {
      "image/png": "[encoded data removed]",
      "text/plain": [
       "<Figure size 1440x1080 with 64 Axes>"
      ]
     },
     "metadata": {
      "needs_background": "light"
     },
     "output_type": "display_data"
    }
   ],
   "source": [
    "#snapshot=np.load(\"/home/ubuntu/kplant/caltech-lwa/cosmic_ray_scripts/data_capture/snapshots/single_board_snapshot1632763291.937457.npy\")\n",
    "#snapshot=np.load(\"/home/ubuntu/kplant/caltech-lwa/cosmic_ray_scripts/data_capture/snapshots/single_board_snapshot1632764475.9161434.npy\")\n",
    "snapshot=np.load(\"/home/ubuntu/kplant/caltech-lwa/cosmic_ray_scripts/data_capture/snapshots/single_board_snapshot1632764837.0249956.npy\")\n",
    "\n",
    "\n",
    "\n",
    "#plot histogram\n",
    "plt.figure(figsize=(20,15))\n",
    "for i in range(64):\n",
    "    plt.subplot(8,8,1+i)\n",
    "    plt.hist(snapshot[:,i+4],20)\n",
    "    if i > 55:\n",
    "        plt.xlabel('antenna value')\n",
    "    if i%8==0:\n",
    "        plt.ylabel('occurence')"
   ]
  },
  {
   "cell_type": "code",
   "execution_count": 41,
   "metadata": {},
   "outputs": [
    {
     "name": "stdout",
     "output_type": "stream",
     "text": [
      "-0.104248046875\n",
      "16.282978000940055\n"
     ]
    },
    {
     "data": {
      "image/png": "[encoded data removed]",
      "text/plain": [
       "<Figure size 432x288 with 1 Axes>"
      ]
     },
     "metadata": {
      "needs_background": "light"
     },
     "output_type": "display_data"
    },
    {
     "data": {
      "image/png": "[encoded data removed]",
      "text/plain": [
       "<Figure size 432x288 with 1 Axes>"
      ]
     },
     "metadata": {
      "needs_background": "light"
     },
     "output_type": "display_data"
    }
   ],
   "source": [
    "#calculate mean and standard deviation\n",
    "means=[]\n",
    "stdvs=[]\n",
    "for i in range(64):\n",
    "    timeseries = snapshot[:,i+4]\n",
    "    means.append(np.mean(timeseries))\n",
    "    stdvs.append(np.std(timeseries))\n",
    "plt.figure()\n",
    "plt.plot(means)\n",
    "print(means[0])\n",
    "plt.figure()\n",
    "plt.plot(stdvs)\n",
    "print(stdvs[0])\n",
    "\n",
    "mean=means[0]\n",
    "stdev = stdvs[0]"
   ]
  },
  {
   "cell_type": "markdown",
   "metadata": {},
   "source": [
    "### Figure out expectations for threshold scan"
   ]
  },
  {
   "cell_type": "markdown",
   "metadata": {},
   "source": [
    "If $p=x^2$ and x is normally distributed with standard deviation $\\sigma$ and zero mean, then the pdf of p is:\n",
    "\n",
    "$f(p) = \\frac{1}{\\sigma \\sqrt{2\\pi}} e^{\\frac{-p}{2 \\sigma^2}} p^{-1/2}$"
   ]
  },
  {
   "cell_type": "code",
   "execution_count": 46,
   "metadata": {},
   "outputs": [
    {
     "data": {
      "image/png": "[encoded data removed]",
      "text/plain": [
       "<Figure size 432x288 with 1 Axes>"
      ]
     },
     "metadata": {
      "needs_background": "light"
     },
     "output_type": "display_data"
    }
   ],
   "source": [
    "simulatedx = stdev*np.random.randn(4096)\n",
    "simulatedp = np.square(simulatedx)\n",
    "plt.hist(simulatedp,50)\n",
    "plt.show()"
   ]
  },
  {
   "cell_type": "code",
   "execution_count": 50,
   "metadata": {},
   "outputs": [
    {
     "data": {
      "text/plain": [
       "<function matplotlib.pyplot.show(*args, **kw)>"
      ]
     },
     "execution_count": 50,
     "metadata": {},
     "output_type": "execute_result"
    },
    {
     "data": {
      "image/png": "[encoded data removed]",
      "text/plain": [
       "<Figure size 432x288 with 1 Axes>"
      ]
     },
     "metadata": {
      "needs_background": "light"
     },
     "output_type": "display_data"
    }
   ],
   "source": [
    "timeseries = snapshot[:,4] #can do this just once since test vector is the same\n",
    "power = np.square(timeseries)\n",
    "plt.hist(power,50)\n",
    "plt.show\n"
   ]
  },
  {
   "cell_type": "markdown",
   "metadata": {},
   "source": [
    "The difference may be quantization.\n",
    "\n",
    "Plot cdf for both\n",
    "Set threshold to standard deviation and read rate sbram.\n",
    "Get analytic form of cdf to estimate rate in tails.\n",
    "DO threshold scan "
   ]
  },
  {
   "cell_type": "code",
   "execution_count": 59,
   "metadata": {},
   "outputs": [],
   "source": [
    "def emperical_cdf(t):\n",
    "    s = np.sort(t)\n",
    "    plt.plot(s,np.asarray(range(len(s)))/len(s))\n",
    "    return"
   ]
  },
  {
   "cell_type": "code",
   "execution_count": 66,
   "metadata": {},
   "outputs": [
    {
     "data": {
      "text/plain": [
       "[<matplotlib.lines.Line2D at 0x7f869bcf8a90>]"
      ]
     },
     "execution_count": 66,
     "metadata": {},
     "output_type": "execute_result"
    },
    {
     "data": {
      "image/png": "[encoded data removed]",
      "text/plain": [
       "<Figure size 504x504 with 1 Axes>"
      ]
     },
     "metadata": {
      "needs_background": "light"
     },
     "output_type": "display_data"
    }
   ],
   "source": [
    "plt.figure(figsize=(7,7))\n",
    "emperical_cdf(simulatedp)\n",
    "emperical_cdf(power)\n",
    "plt.plot([stdev**2,stdev**2],[0,1])#plot a vertical line at standard deviation\n"
   ]
  },
  {
   "cell_type": "markdown",
   "metadata": {},
   "source": [
    "### Set threshold to $\\sigma^2 = 265.13537 $\n",
    "There are $2^28$ clock cycles between reads and so I expect (number of threshold excesses)/(2^28) = 1 - 0.6827 = 0.3173"
   ]
  },
  {
   "cell_type": "code",
   "execution_count": 71,
   "metadata": {},
   "outputs": [
    {
     "data": {
      "text/plain": [
       "[<matplotlib.lines.Line2D at 0x7f869bcec910>]"
      ]
     },
     "execution_count": 71,
     "metadata": {},
     "output_type": "execute_result"
    },
    {
     "data": {
      "image/png": "[encoded data removed]",
      "text/plain": [
       "<Figure size 432x288 with 2 Axes>"
      ]
     },
     "metadata": {
      "needs_background": "light"
     },
     "output_type": "display_data"
    }
   ],
   "source": [
    "thresh = int(stdev**2)\n",
    "setvalue(casperbrd,\"trigger_power_thresh\",\"cr_registers.xlsx\",thresh)\n",
    "setvalue(casperbrd,\"veto_power_thresh\",\"cr_registers.xlsx\",thresh)\n",
    "\n",
    "time.sleep(2)  #have to wait for it to update\n",
    "core,veto = read_threshold_rates(casperbrd)\n",
    "plt.subplot(121)\n",
    "plt.plot(core)\n",
    "plt.subplot(122)\n",
    "plt.plot(veto)\n"
   ]
  },
  {
   "cell_type": "markdown",
   "metadata": {},
   "source": [
    "All streams had the same number of times exceeding the threshold, which is as expected since they have the same noise."
   ]
  },
  {
   "cell_type": "code",
   "execution_count": 74,
   "metadata": {},
   "outputs": [
    {
     "name": "stdout",
     "output_type": "stream",
     "text": [
      "0.30200662463903427\n",
      "0.30197514221072197\n",
      "0.3019779324531555\n",
      "0.3019595295190811\n",
      "0.30198080465197563\n",
      "0.30195895954966545\n",
      "0.3019891493022442\n",
      "0.30202559009194374\n",
      "0.30200356617569923\n",
      "0.3019636422395706\n"
     ]
    }
   ],
   "source": [
    "for i in range(10):\n",
    "    core,veto = read_threshold_rates(casperbrd)\n",
    "    time.sleep(2)  #have to wait for it to update\n",
    "    print(core[0]/(2**28))"
   ]
  },
  {
   "cell_type": "markdown",
   "metadata": {},
   "source": [
    "Is the fraction low (less than 0.317) because of rounding to the nearest integer for the standard deviation?\n"
   ]
  },
  {
   "cell_type": "code",
   "execution_count": 75,
   "metadata": {},
   "outputs": [
    {
     "name": "stdout",
     "output_type": "stream",
     "text": [
      "0.3019595071673393\n",
      "0.30198023840785027\n",
      "0.30198293551802635\n",
      "0.30195220559835434\n",
      "0.3019677586853504\n",
      "0.30197563022375107\n",
      "0.3020140677690506\n",
      "0.30195317789912224\n",
      "0.3019515238702297\n",
      "0.3019883893430233\n"
     ]
    }
   ],
   "source": [
    "#Is the fraction low because of rounding to the nearest integer for the standard deviation\n",
    "thresh = 266\n",
    "setvalue(casperbrd,\"trigger_power_thresh\",\"cr_registers.xlsx\",thresh)\n",
    "setvalue(casperbrd,\"veto_power_thresh\",\"cr_registers.xlsx\",thresh)\n",
    "\n",
    "time.sleep(2)  #have to wait for it to update\n",
    "for i in range(10):\n",
    "    core,veto = read_threshold_rates(casperbrd)\n",
    "    time.sleep(2)  #have to wait for it to update\n",
    "    print(core[0]/(2**28))"
   ]
  },
  {
   "cell_type": "markdown",
   "metadata": {},
   "source": [
    "Is the fraction less than 0.317 because of uncertainty on my estimate of the standard deviation? To answer that I need to send more snapshots.  Then, I use the standard deviation of each snapshot as a threshold and measure the rate above that threshold."
   ]
  },
  {
   "cell_type": "code",
   "execution_count": 77,
   "metadata": {},
   "outputs": [
    {
     "name": "stdout",
     "output_type": "stream",
     "text": [
      "Packetizer formed 64 packets\n",
      "Board successfully returned to listening state after readout\n",
      "Readout took 22848 clock cycles\n",
      "Packetizer never overflowed\n",
      "Ethernet block almost-full counter incremented by 0\n",
      "Packetizer formed 64 packets\n",
      "Board successfully returned to listening state after readout\n",
      "Readout took 22848 clock cycles\n",
      "Packetizer never overflowed\n",
      "Ethernet block almost-full counter incremented by 0\n",
      "Packetizer formed 64 packets\n",
      "Board successfully returned to listening state after readout\n",
      "Readout took 22848 clock cycles\n",
      "Packetizer never overflowed\n",
      "Ethernet block almost-full counter incremented by 0\n",
      "Packetizer formed 64 packets\n",
      "Board successfully returned to listening state after readout\n",
      "Readout took 22848 clock cycles\n",
      "Packetizer never overflowed\n",
      "Ethernet block almost-full counter incremented by 0\n",
      "Packetizer formed 64 packets\n",
      "Board successfully returned to listening state after readout\n",
      "Readout took 22848 clock cycles\n",
      "Packetizer never overflowed\n",
      "Ethernet block almost-full counter incremented by 0\n"
     ]
    }
   ],
   "source": [
    "for i in range(5):\n",
    "    software_trigger(casperbrd,1)\n",
    "    time.sleep(0.5)\n"
   ]
  },
  {
   "cell_type": "code",
   "execution_count": 91,
   "metadata": {},
   "outputs": [
    {
     "name": "stdout",
     "output_type": "stream",
     "text": [
      "16.282978000940055 -0.104248046875 0.26991281658411026\n",
      "16.10699080982859 0.424072265625 0.2574049197137356\n",
      "15.935170373631236 0.15478515625 0.2414623238146305\n",
      "16.025423801906165 -0.1240234375 0.2717181146144867\n",
      "16.331812618300418 0.17236328125 0.2632512114942074\n",
      "15.789083640317058 0.060546875 0.261984396725893\n"
     ]
    },
    {
     "data": {
      "image/png": "[encoded data removed]",
      "text/plain": [
       "<Figure size 432x288 with 1 Axes>"
      ]
     },
     "metadata": {
      "needs_background": "light"
     },
     "output_type": "display_data"
    }
   ],
   "source": [
    "snapshot1=np.load(\"/home/ubuntu/kplant/caltech-lwa/cosmic_ray_scripts/data_capture/snapshots/single_board_snapshot1632764837.0249956.npy\")\n",
    "snapshot2=np.load(\"/home/ubuntu/kplant/caltech-lwa/cosmic_ray_scripts/data_capture/snapshots/single_board_snapshot1632783885.6156204.npy\")\n",
    "snapshot3=np.load(\"/home/ubuntu/kplant/caltech-lwa/cosmic_ray_scripts/data_capture/snapshots/single_board_snapshot1632783889.6266785.npy\")\n",
    "snapshot4=np.load(\"/home/ubuntu/kplant/caltech-lwa/cosmic_ray_scripts/data_capture/snapshots/single_board_snapshot1632783886.6119733.npy\")\n",
    "snapshot5=np.load(\"/home/ubuntu/kplant/caltech-lwa/cosmic_ray_scripts/data_capture/snapshots/single_board_snapshot1632783887.6253784.npy\")\n",
    "snapshot6=np.load(\"/home/ubuntu/kplant/caltech-lwa/cosmic_ray_scripts/data_capture/snapshots/single_board_snapshot1632783888.6168323.npy\")\n",
    "\n",
    "for snapshot in [snapshot1,snapshot2,snapshot3,snapshot4,snapshot5,snapshot6]:\n",
    "    timeseries = snapshot[:,4]\n",
    "    stdv = np.std(timeseries)\n",
    "    m=np.mean(timeseries)\n",
    "    setvalue(casperbrd,\"trigger_power_thresh\",\"cr_registers.xlsx\",int(stdv**2))\n",
    "    setvalue(casperbrd,\"veto_power_thresh\",\"cr_registers.xlsx\",int(stdv**2))\n",
    "    time.sleep(2)  #have to wait for it to update\n",
    "    core,veto = read_threshold_rates(casperbrd)\n",
    "    print(stdv, m, 1 - core[0]/(2**28))\n",
    "    plt.plot(timeseries)"
   ]
  },
  {
   "cell_type": "markdown",
   "metadata": {},
   "source": [
    "I'm surprised how low that is but maybe I sent the software triggers too fast and something went wrong with the snapshots. I capture more snapshots below."
   ]
  },
  {
   "cell_type": "code",
   "execution_count": 88,
   "metadata": {},
   "outputs": [
    {
     "name": "stdout",
     "output_type": "stream",
     "text": [
      "Packetizer formed 0 packets\n",
      "Board did not return to listening state after readout. State value = 1\n",
      "Readout took 0 clock cycles\n",
      "Packetizer never overflowed\n",
      "Ethernet block almost-full counter incremented by 0\n",
      "Packetizer formed 0 packets\n",
      "Board did not return to listening state after readout. State value = 1\n",
      "Readout took 0 clock cycles\n",
      "Packetizer never overflowed\n",
      "Ethernet block almost-full counter incremented by 0\n",
      "Packetizer formed 0 packets\n",
      "Board did not return to listening state after readout. State value = 1\n",
      "Readout took 0 clock cycles\n",
      "Packetizer never overflowed\n",
      "Ethernet block almost-full counter incremented by 0\n",
      "Packetizer formed 0 packets\n",
      "Board did not return to listening state after readout. State value = 1\n",
      "Readout took 0 clock cycles\n",
      "Packetizer never overflowed\n",
      "Ethernet block almost-full counter incremented by 0\n",
      "Packetizer formed 0 packets\n",
      "Board did not return to listening state after readout. State value = 1\n",
      "Readout took 0 clock cycles\n",
      "Packetizer never overflowed\n",
      "Ethernet block almost-full counter incremented by 0\n",
      "Packetizer formed 0 packets\n",
      "Board did not return to listening state after readout. State value = 1\n",
      "Readout took 0 clock cycles\n",
      "Packetizer never overflowed\n",
      "Ethernet block almost-full counter incremented by 0\n",
      "Packetizer formed 0 packets\n",
      "Board did not return to listening state after readout. State value = 1\n",
      "Readout took 0 clock cycles\n",
      "Packetizer never overflowed\n",
      "Ethernet block almost-full counter incremented by 0\n",
      "Packetizer formed 0 packets\n",
      "Board did not return to listening state after readout. State value = 1\n",
      "Readout took 0 clock cycles\n",
      "Packetizer never overflowed\n",
      "Ethernet block almost-full counter incremented by 0\n",
      "Packetizer formed 0 packets\n",
      "Board did not return to listening state after readout. State value = 1\n",
      "Readout took 0 clock cycles\n",
      "Packetizer never overflowed\n",
      "Ethernet block almost-full counter incremented by 0\n",
      "Packetizer formed 0 packets\n",
      "Board did not return to listening state after readout. State value = 1\n",
      "Readout took 0 clock cycles\n",
      "Packetizer never overflowed\n",
      "Ethernet block almost-full counter incremented by 0\n"
     ]
    }
   ],
   "source": [
    "for i in range(10):\n",
    "    software_trigger(casperbrd,1)\n",
    "    time.sleep(2)\n"
   ]
  },
  {
   "cell_type": "code",
   "execution_count": 114,
   "metadata": {},
   "outputs": [
    {
     "name": "stdout",
     "output_type": "stream",
     "text": [
      "15.872877534770614 0.2490234375 0.26485754176974297\n",
      "15.675954080594227 -0.15087890625 0.25584495440125465\n",
      "15.755731990928666 -0.017822265625 0.21594026684761047\n",
      "16.32876874758951 0.041015625 0.24829724803566933\n",
      "16.055239145867326 -0.01708984375 0.2639716789126396\n",
      "15.85537060136061 -0.237060546875 0.2550506629049778\n",
      "16.144281960885642 -0.28955078125 0.2513965405523777\n",
      "16.059399606151775 -0.21533203125 0.2557354159653187\n",
      "16.058113300668282 0.443359375 0.2704618386924267\n",
      "15.992192240883442 0.0166015625 0.2773984931409359\n"
     ]
    },
    {
     "data": {
      "image/png": "[encoded data removed]",
      "text/plain": [
       "<Figure size 432x288 with 1 Axes>"
      ]
     },
     "metadata": {
      "needs_background": "light"
     },
     "output_type": "display_data"
    }
   ],
   "source": [
    "files = ['single_board_snapshot1632784945.7935355.npy',\n",
    "    'single_board_snapshot1632784948.2895315.npy',\n",
    "    'single_board_snapshot1632784950.7885873.npy',\n",
    "    'single_board_snapshot1632784953.2883127.npy',\n",
    "    'single_board_snapshot1632784955.8004158.npy',\n",
    "    'single_board_snapshot1632784958.3082454.npy',\n",
    "    'single_board_snapshot1632784960.8125553.npy',\n",
    "    'single_board_snapshot1632784963.3170507.npy',\n",
    "    'single_board_snapshot1632784965.7995155.npy',\n",
    "    'single_board_snapshot1632784968.285046.npy']\n",
    "\n",
    "means=[]\n",
    "stdvs=[]\n",
    "for f in files:\n",
    "    snapshot=np.load(\"/home/ubuntu/kplant/caltech-lwa/cosmic_ray_scripts/data_capture/snapshots/\"+f)\n",
    "    timeseries = snapshot[:,4]\n",
    "    stdv = np.std(timeseries)\n",
    "    m=np.mean(timeseries)\n",
    "    setvalue(casperbrd,\"trigger_power_thresh\",\"cr_registers.xlsx\",int((m+stdv)**2))\n",
    "    setvalue(casperbrd,\"veto_power_thresh\",\"cr_registers.xlsx\",int((m+stdv)**2))\n",
    "    time.sleep(2)  #have to wait for it to update\n",
    "    core,veto = read_threshold_rates(casperbrd)\n",
    "    print(stdv, m, 1 - core[0]/(2**28))\n",
    "    plt.plot(timeseries)\n",
    "    means.append(m)\n",
    "    stdvs.append(stdv)\n",
    "\n",
    "\n"
   ]
  },
  {
   "cell_type": "code",
   "execution_count": 115,
   "metadata": {},
   "outputs": [
    {
     "data": {
      "image/png": "[encoded data removed]",
      "text/plain": [
       "<Figure size 1080x360 with 2 Axes>"
      ]
     },
     "metadata": {
      "needs_background": "light"
     },
     "output_type": "display_data"
    }
   ],
   "source": [
    "plt.figure(figsize=(15,5))\n",
    "plt.subplot(121)\n",
    "plt.plot(range(len(means)),means,'.')\n",
    "plt.errorbar(range(len(means)),means,(4096**-0.5)*np.asarray(means),marker=',',ls='none')\n",
    "plt.xlabel('snapshot number')\n",
    "plt.ylabel('mean')\n",
    "plt.subplot(122)\n",
    "plt.plot(range(len(stdvs)),stdvs,'.')\n",
    "plt.errorbar(range(len(stdvs)),stdvs,(4096**-0.5)*np.asarray(stdvs),marker='o',ls='none')\n",
    "plt.xlabel('snapshot number')\n",
    "plt.ylabel('Standard deviation')\n",
    "\n",
    "plt.show()"
   ]
  },
  {
   "cell_type": "markdown",
   "metadata": {},
   "source": [
    "Values above one sigma in the tail of the distribution are much less common than they should be (typically 25\\% instead of 32%).  The dynamic range extends to many sigma, so I don't think this can be explained by clipping the distribution.\n",
    "\n",
    "The mean of a snapshot timeseries fluctuates by more than the standard error on the mean (see plot above where error bars are smaller than marker size), although the stand deviation looks more reasonable.\n",
    "\n",
    "\n",
    "Next I'll go ahead and make code for a threshold scan, to get a better picture of the cumulative distribution as measured by threshold excess.\n",
    "\n",
    "## Threshold Scan, internally-generated white noise"
   ]
  },
  {
   "cell_type": "code",
   "execution_count": 126,
   "metadata": {},
   "outputs": [],
   "source": [
    "thresholds = np.logspace (1,np.log10(2**10),150)\n",
    "results = []\n",
    "for t in thresholds:\n",
    "    setvalue(casperbrd,\"trigger_power_thresh\",\"cr_registers.xlsx\",int(t**2))\n",
    "    setvalue(casperbrd,\"veto_power_thresh\",\"cr_registers.xlsx\",int(t**2))\n",
    "    time.sleep(2)  #have to wait for it to update\n",
    "    core,veto = read_threshold_rates(casperbrd)\n",
    "    results.append(core[0])\n"
   ]
  },
  {
   "cell_type": "code",
   "execution_count": 132,
   "metadata": {},
   "outputs": [
    {
     "data": {
      "text/plain": [
       "[<matplotlib.lines.Line2D at 0x7f869bcf50d0>]"
      ]
     },
     "execution_count": 132,
     "metadata": {},
     "output_type": "execute_result"
    },
    {
     "data": {
      "image/png": "[encoded data removed]",
      "text/plain": [
       "<Figure size 432x288 with 1 Axes>"
      ]
     },
     "metadata": {
      "needs_background": "light"
     },
     "output_type": "display_data"
    }
   ],
   "source": [
    "Results =1 - np.asarray(results)/(2**28)\n",
    "plt.plot(thresholds,Results,'.')"
   ]
  },
  {
   "cell_type": "code",
   "execution_count": 135,
   "metadata": {},
   "outputs": [
    {
     "data": {
      "text/plain": [
       "Text(0, 0.5, 'Fraction of Clock Cycles Above Threshold')"
      ]
     },
     "execution_count": 135,
     "metadata": {},
     "output_type": "execute_result"
    },
    {
     "data": {
      "image/png": "[encoded data removed]",
      "text/plain": [
       "<Figure size 504x504 with 1 Axes>"
      ]
     },
     "metadata": {
      "needs_background": "light"
     },
     "output_type": "display_data"
    }
   ],
   "source": [
    "plt.figure(figsize=(7,7))\n",
    "Results =1 - np.asarray(results)/(2**28)\n",
    "plt.plot(thresholds,Results,'.')\n",
    "plt.xlabel(\"Voltage threshold\")\n",
    "plt.ylabel(\"Fraction of Clock Cycles Above Threshold\")"
   ]
  },
  {
   "cell_type": "markdown",
   "metadata": {},
   "source": [
    "## Threshold Scan, from sky"
   ]
  },
  {
   "cell_type": "code",
   "execution_count": 136,
   "metadata": {},
   "outputs": [
    {
     "name": "stdout",
     "output_type": "stream",
     "text": [
      "2021-09-28 01:09:54,959 - lwa_f.snap2_fengine:snap03 - INFO - Initializing block (writable): fpga\n",
      "2021-09-28 01:09:54,960 - lwa_f.snap2_fengine:snap03 - INFO - Initializing block (writable): adc\n",
      "2021-09-28 01:09:54,965 - lwa_f.blocks.block:snap03 - INFO - adc - FMC 0 board 0: Setting clock source to 1\n",
      "2021-09-28 01:09:54,973 - lwa_f.blocks.block:snap03 - INFO - adc - FMC 0 board 1: Setting clock source to 1\n",
      "2021-09-28 01:09:54,980 - lwa_f.blocks.block:snap03 - INFO - adc - FMC 1 board 0: Setting clock source to 1\n",
      "2021-09-28 01:09:54,987 - lwa_f.blocks.block:snap03 - INFO - adc - FMC 1 board 1: Setting clock source to 1\n",
      "2021-09-28 01:10:04,291 - lwa_f.blocks.block:snap03 - INFO - adc - FMC 0 board 0 clock rates: [490705626, 98163631, 98179591, 0, 0]\n",
      "2021-09-28 01:10:04,292 - lwa_f.blocks.block:snap03 - INFO - adc - FMC 0 board 0: MMCM locked\n",
      "2021-09-28 01:10:05,303 - lwa_f.blocks.block:snap03 - INFO - adc - FMC 0 board 1 clock rates: [490686788, 98184732, 98195136, 98208342, 0]\n",
      "2021-09-28 01:10:06,313 - lwa_f.blocks.block:snap03 - INFO - adc - FMC 1 board 0 clock rates: [490645761, 98163268, 98218845, 0, 0]\n",
      "2021-09-28 01:10:06,314 - lwa_f.blocks.block:snap03 - INFO - adc - FMC 1 board 0: MMCM locked\n",
      "2021-09-28 01:10:07,325 - lwa_f.blocks.block:snap03 - INFO - adc - FMC 1 board 1 clock rates: [490704216, 98200825, 98250350, 98292171, 0]\n",
      "2021-09-28 01:10:08,589 - lwa_f.blocks.block:snap03 - INFO - adc - FMC 0 Scanning data delays\n"
     ]
    },
    {
     "name": "stderr",
     "output_type": "stream",
     "text": [
      "100% |########################################################################|\r"
     ]
    },
    {
     "name": "stdout",
     "output_type": "stream",
     "text": [
      "2021-09-28 01:10:17,094 - lwa_f.blocks.block:snap03 - INFO - adc - FMC 0 data lane delays:\n",
      "[[312, 296, 312, 296, 296, 296, 296, 296], [344, 336, 336, 328, 336, 328, 328, 336], [288, 288, 288, 288, 288, 288, 288, 296], [328, 336, 328, 320, 328, 328, 336, 336], [288, 280, 288, 288, 288, 288, 288, 288], [272, 272, 288, 272, 280, 272, 280, 272], [304, 280, 280, 288, 288, 296, 280, 280], [288, 288, 296, 288, 288, 304, 304, 296]]\n",
      "2021-09-28 01:10:17,095 - lwa_f.blocks.block:snap03 - INFO - adc - FMC 0 data lane slacks:\n",
      "[[40, 32, 40, 40, 40, 40, 40, 40], [40, 40, 40, 40, 40, 40, 40, 32], [40, 40, 40, 40, 40, 40, 32, 32], [40, 32, 40, 40, 40, 32, 40, 32], [40, 40, 40, 40, 40, 40, 40, 40], [32, 40, 40, 40, 40, 40, 40, 40], [40, 32, 32, 40, 40, 32, 32, 32], [32, 32, 32, 32, 32, 32, 32, 32]]\n",
      "2021-09-28 01:10:17,096 - lwa_f.blocks.block:snap03 - INFO - adc - Chip 0, Lane 0:    XXXXXXXXXXXXXXXXXXXXXXXXXXXXXXXXXXX----|----XXXXXXXXXXXXXXXXXXXX\n",
      "2021-09-28 01:10:17,097 - lwa_f.blocks.block:snap03 - INFO - adc - Chip 0, Lane 1:    XXXXXXXXXXXXXXXXXXXXXXXXXXXXXXXXXX---|----XXXXXXXXXXXXXXXXXXXXXX\n",
      "2021-09-28 01:10:17,098 - lwa_f.blocks.block:snap03 - INFO - adc - Chip 0, Lane 2:    XXXXXXXXXXXXXXXXXXXXXXXXXXXXXXXXXXX----|----XXXXXXXXXXXXXXXXXXXX\n",
      "2021-09-28 01:10:17,098 - lwa_f.blocks.block:snap03 - INFO - adc - Chip 0, Lane 3:    XXXXXXXXXXXXXXXXXXXXXXXXXXXXXXXXX----|----XXXXXXXXXXXXXXXXXXXXXX\n",
      "2021-09-28 01:10:17,099 - lwa_f.blocks.block:snap03 - INFO - adc - Chip 0, Lane 4:    XXXXXXXXXXXXXXXXXXXXXXXXXXXXXXXXX----|----XXXXXXXXXXXXXXXXXXXXXX\n",
      "2021-09-28 01:10:17,100 - lwa_f.blocks.block:snap03 - INFO - adc - Chip 0, Lane 5:    XXXXXXXXXXXXXXXXXXXXXXXXXXXXXXXXX----|----XXXXXXXXXXXXXXXXXXXXXX\n",
      "2021-09-28 01:10:17,101 - lwa_f.blocks.block:snap03 - INFO - adc - Chip 0, Lane 6:    XXXXXXXXXXXXXXXXXXXXXXXXXXXXXXXXX----|----XXXXXXXXXXXXXXXXXXXXXX\n",
      "2021-09-28 01:10:17,102 - lwa_f.blocks.block:snap03 - INFO - adc - Chip 0, Lane 7:    XXXXXXXXXXXXXXXXXXXXXXXXXXXXXXXXX----|----XXXXXXXXXXXXXXXXXXXXXX\n",
      "2021-09-28 01:10:17,102 - lwa_f.blocks.block:snap03 - INFO - adc - Chip 1, Lane 0:    XXXXXXXXXXXXXXXXXXXXXXXXXXXXXXXXXXXXXXX----|----XXXXXXXXXXXXXXXX\n",
      "2021-09-28 01:10:17,103 - lwa_f.blocks.block:snap03 - INFO - adc - Chip 1, Lane 1:    XXXXXXXXXXXXXXXXXXXXXXXXXXXXXXXXXXXXXX----|----XXXXXXXXXXXXXXXXX\n",
      "2021-09-28 01:10:17,104 - lwa_f.blocks.block:snap03 - INFO - adc - Chip 1, Lane 2:    XXXXXXXXXXXXXXXXXXXXXXXXXXXXXXXXXXXXXX----|----XXXXXXXXXXXXXXXXX\n",
      "2021-09-28 01:10:17,105 - lwa_f.blocks.block:snap03 - INFO - adc - Chip 1, Lane 3:    XXXXXXXXXXXXXXXXXXXXXXXXXXXXXXXXXXXXX----|----XXXXXXXXXXXXXXXXXX\n",
      "2021-09-28 01:10:17,105 - lwa_f.blocks.block:snap03 - INFO - adc - Chip 1, Lane 4:    XXXXXXXXXXXXXXXXXXXXXXXXXXXXXXXXXXXXXX----|----XXXXXXXXXXXXXXXXX\n",
      "2021-09-28 01:10:17,106 - lwa_f.blocks.block:snap03 - INFO - adc - Chip 1, Lane 5:    XXXXXXXXXXXXXXXXXXXXXXXXXXXXXXXXXXXXX----|----XXXXXXXXXXXXXXXXXX\n",
      "2021-09-28 01:10:17,106 - lwa_f.blocks.block:snap03 - INFO - adc - Chip 1, Lane 6:    XXXXXXXXXXXXXXXXXXXXXXXXXXXXXXXXXXXXX----|----XXXXXXXXXXXXXXXXXX\n",
      "2021-09-28 01:10:17,107 - lwa_f.blocks.block:snap03 - INFO - adc - Chip 1, Lane 7:    XXXXXXXXXXXXXXXXXXXXXXXXXXXXXXXXXXXXXXX---|----XXXXXXXXXXXXXXXXX\n",
      "2021-09-28 01:10:17,108 - lwa_f.blocks.block:snap03 - INFO - adc - Chip 2, Lane 0:    XXXXXXXXXXXXXXXXXXXXXXXXXXXXXXXX----|----XXXXXXXXXXXXXXXXXXXXXXX\n",
      "2021-09-28 01:10:17,108 - lwa_f.blocks.block:snap03 - INFO - adc - Chip 2, Lane 1:    XXXXXXXXXXXXXXXXXXXXXXXXXXXXXXXX----|----XXXXXXXXXXXXXXXXXXXXXXX\n",
      "2021-09-28 01:10:17,109 - lwa_f.blocks.block:snap03 - INFO - adc - Chip 2, Lane 2:    XXXXXXXXXXXXXXXXXXXXXXXXXXXXXXXX----|----XXXXXXXXXXXXXXXXXXXXXXX\n",
      "2021-09-28 01:10:17,110 - lwa_f.blocks.block:snap03 - INFO - adc - Chip 2, Lane 3:    XXXXXXXXXXXXXXXXXXXXXXXXXXXXXXXX----|----XXXXXXXXXXXXXXXXXXXXXXX\n",
      "2021-09-28 01:10:17,110 - lwa_f.blocks.block:snap03 - INFO - adc - Chip 2, Lane 4:    XXXXXXXXXXXXXXXXXXXXXXXXXXXXXXXX----|----XXXXXXXXXXXXXXXXXXXXXXX\n",
      "2021-09-28 01:10:17,111 - lwa_f.blocks.block:snap03 - INFO - adc - Chip 2, Lane 5:    XXXXXXXXXXXXXXXXXXXXXXXXXXXXXXXX----|----XXXXXXXXXXXXXXXXXXXXXXX\n",
      "2021-09-28 01:10:17,111 - lwa_f.blocks.block:snap03 - INFO - adc - Chip 2, Lane 6:    XXXXXXXXXXXXXXXXXXXXXXXXXXXXXXXXX---|----XXXXXXXXXXXXXXXXXXXXXXX\n",
      "2021-09-28 01:10:17,112 - lwa_f.blocks.block:snap03 - INFO - adc - Chip 2, Lane 7:    XXXXXXXXXXXXXXXXXXXXXXXXXXXXXXXXXX---|----XXXXXXXXXXXXXXXXXXXXXX\n",
      "2021-09-28 01:10:17,113 - lwa_f.blocks.block:snap03 - INFO - adc - Chip 3, Lane 0:    XXXXXXXXXXXXXXXXXXXXXXXXXXXXXXXXXXXXX----|----XXXXXXXXXXXXXXXXXX\n",
      "2021-09-28 01:10:17,113 - lwa_f.blocks.block:snap03 - INFO - adc - Chip 3, Lane 1:    XXXXXXXXXXXXXXXXXXXXXXXXXXXXXXXXXXXXXXX---|----XXXXXXXXXXXXXXXXX\n",
      "2021-09-28 01:10:17,114 - lwa_f.blocks.block:snap03 - INFO - adc - Chip 3, Lane 2:    XXXXXXXXXXXXXXXXXXXXXXXXXXXXXXXXXXXXX----|----XXXXXXXXXXXXXXXXXX\n",
      "2021-09-28 01:10:17,114 - lwa_f.blocks.block:snap03 - INFO - adc - Chip 3, Lane 3:    XXXXXXXXXXXXXXXXXXXXXXXXXXXXXXXXXXXX----|----XXXXXXXXXXXXXXXXXXX\n",
      "2021-09-28 01:10:17,115 - lwa_f.blocks.block:snap03 - INFO - adc - Chip 3, Lane 4:    XXXXXXXXXXXXXXXXXXXXXXXXXXXXXXXXXXXXX----|----XXXXXXXXXXXXXXXXXX\n",
      "2021-09-28 01:10:17,116 - lwa_f.blocks.block:snap03 - INFO - adc - Chip 3, Lane 5:    XXXXXXXXXXXXXXXXXXXXXXXXXXXXXXXXXXXXXX---|----XXXXXXXXXXXXXXXXXX\n",
      "2021-09-28 01:10:17,116 - lwa_f.blocks.block:snap03 - INFO - adc - Chip 3, Lane 6:    XXXXXXXXXXXXXXXXXXXXXXXXXXXXXXXXXXXXXX----|----XXXXXXXXXXXXXXXXX\n",
      "2021-09-28 01:10:17,117 - lwa_f.blocks.block:snap03 - INFO - adc - Chip 3, Lane 7:    XXXXXXXXXXXXXXXXXXXXXXXXXXXXXXXXXXXXXXX---|---XXXXXXXXXXXXXXXXXX\n",
      "2021-09-28 01:10:17,118 - lwa_f.blocks.block:snap03 - INFO - adc - Chip 4, Lane 0:    XXXXXXXXXXXXXXXXXXXXXXXXXXXXXXXX----|----XXXXXXXXXXXXXXXXXXXXXXX\n",
      "2021-09-28 01:10:17,118 - lwa_f.blocks.block:snap03 - INFO - adc - Chip 4, Lane 1:    XXXXXXXXXXXXXXXXXXXXXXXXXXXXXXX----|-----XXXXXXXXXXXXXXXXXXXXXXX\n",
      "2021-09-28 01:10:17,119 - lwa_f.blocks.block:snap03 - INFO - adc - Chip 4, Lane 2:    XXXXXXXXXXXXXXXXXXXXXXXXXXXXXXXX----|----XXXXXXXXXXXXXXXXXXXXXXX\n",
      "2021-09-28 01:10:17,119 - lwa_f.blocks.block:snap03 - INFO - adc - Chip 4, Lane 3:    XXXXXXXXXXXXXXXXXXXXXXXXXXXXXXXX----|----XXXXXXXXXXXXXXXXXXXXXXX\n",
      "2021-09-28 01:10:17,120 - lwa_f.blocks.block:snap03 - INFO - adc - Chip 4, Lane 4:    XXXXXXXXXXXXXXXXXXXXXXXXXXXXXXXX----|----XXXXXXXXXXXXXXXXXXXXXXX\n",
      "2021-09-28 01:10:17,121 - lwa_f.blocks.block:snap03 - INFO - adc - Chip 4, Lane 5:    XXXXXXXXXXXXXXXXXXXXXXXXXXXXXXXX----|----XXXXXXXXXXXXXXXXXXXXXXX\n",
      "2021-09-28 01:10:17,121 - lwa_f.blocks.block:snap03 - INFO - adc - Chip 4, Lane 6:    XXXXXXXXXXXXXXXXXXXXXXXXXXXXXXXX----|----XXXXXXXXXXXXXXXXXXXXXXX\n",
      "2021-09-28 01:10:17,122 - lwa_f.blocks.block:snap03 - INFO - adc - Chip 4, Lane 7:    XXXXXXXXXXXXXXXXXXXXXXXXXXXXXXXX----|----XXXXXXXXXXXXXXXXXXXXXXX\n",
      "2021-09-28 01:10:17,123 - lwa_f.blocks.block:snap03 - INFO - adc - Chip 5, Lane 0:    XXXXXXXXXXXXXXXXXXXXXXXXXXXXXXX---|----XXXXXXXXXXXXXXXXXXXXXXXXX\n",
      "2021-09-28 01:10:17,123 - lwa_f.blocks.block:snap03 - INFO - adc - Chip 5, Lane 1:    XXXXXXXXXXXXXXXXXXXXXXXXXXXXXX----|----XXXXXXXXXXXXXXXXXXXXXXXXX\n",
      "2021-09-28 01:10:17,124 - lwa_f.blocks.block:snap03 - INFO - adc - Chip 5, Lane 2:    XXXXXXXXXXXXXXXXXXXXXXXXXXXXXXXX----|----XXXXXXXXXXXXXXXXXXXXXXX\n",
      "2021-09-28 01:10:17,124 - lwa_f.blocks.block:snap03 - INFO - adc - Chip 5, Lane 3:    XXXXXXXXXXXXXXXXXXXXXXXXXXXXXX----|----XXXXXXXXXXXXXXXXXXXXXXXXX\n"
     ]
    },
    {
     "name": "stderr",
     "output_type": "stream",
     "text": [
      "\n"
     ]
    },
    {
     "name": "stdout",
     "output_type": "stream",
     "text": [
      "2021-09-28 01:10:17,125 - lwa_f.blocks.block:snap03 - INFO - adc - Chip 5, Lane 4:    XXXXXXXXXXXXXXXXXXXXXXXXXXXXXXX----|----XXXXXXXXXXXXXXXXXXXXXXXX\n",
      "2021-09-28 01:10:17,126 - lwa_f.blocks.block:snap03 - INFO - adc - Chip 5, Lane 5:    XXXXXXXXXXXXXXXXXXXXXXXXXXXXXX----|----XXXXXXXXXXXXXXXXXXXXXXXXX\n",
      "2021-09-28 01:10:17,126 - lwa_f.blocks.block:snap03 - INFO - adc - Chip 5, Lane 6:    XXXXXXXXXXXXXXXXXXXXXXXXXXXXXXX----|----XXXXXXXXXXXXXXXXXXXXXXXX\n",
      "2021-09-28 01:10:17,127 - lwa_f.blocks.block:snap03 - INFO - adc - Chip 5, Lane 7:    XXXXXXXXXXXXXXXXXXXXXXXXXXXXXX----|----XXXXXXXXXXXXXXXXXXXXXXXXX\n",
      "2021-09-28 01:10:17,128 - lwa_f.blocks.block:snap03 - INFO - adc - Chip 6, Lane 0:    XXXXXXXXXXXXXXXXXXXXXXXXXXXXXXXXXX----|----XXXXXXXXXXXXXXXXXXXXX\n",
      "2021-09-28 01:10:17,128 - lwa_f.blocks.block:snap03 - INFO - adc - Chip 6, Lane 1:    XXXXXXXXXXXXXXXXXXXXXXXXXXXXXXXX---|----XXXXXXXXXXXXXXXXXXXXXXXX\n",
      "2021-09-28 01:10:17,129 - lwa_f.blocks.block:snap03 - INFO - adc - Chip 6, Lane 2:    XXXXXXXXXXXXXXXXXXXXXXXXXXXXXXXX---|----XXXXXXXXXXXXXXXXXXXXXXXX\n",
      "2021-09-28 01:10:17,130 - lwa_f.blocks.block:snap03 - INFO - adc - Chip 6, Lane 3:    XXXXXXXXXXXXXXXXXXXXXXXXXXXXXXXX----|----XXXXXXXXXXXXXXXXXXXXXXX\n",
      "2021-09-28 01:10:17,130 - lwa_f.blocks.block:snap03 - INFO - adc - Chip 6, Lane 4:    XXXXXXXXXXXXXXXXXXXXXXXXXXXXXXXX----|----XXXXXXXXXXXXXXXXXXXXXXX\n",
      "2021-09-28 01:10:17,131 - lwa_f.blocks.block:snap03 - INFO - adc - Chip 6, Lane 5:    XXXXXXXXXXXXXXXXXXXXXXXXXXXXXXXXXX---|----XXXXXXXXXXXXXXXXXXXXXX\n",
      "2021-09-28 01:10:17,131 - lwa_f.blocks.block:snap03 - INFO - adc - Chip 6, Lane 6:    XXXXXXXXXXXXXXXXXXXXXXXXXXXXXXXX---|----XXXXXXXXXXXXXXXXXXXXXXXX\n",
      "2021-09-28 01:10:17,132 - lwa_f.blocks.block:snap03 - INFO - adc - Chip 6, Lane 7:    XXXXXXXXXXXXXXXXXXXXXXXXXXXXXXXX---|----XXXXXXXXXXXXXXXXXXXXXXXX\n",
      "2021-09-28 01:10:17,133 - lwa_f.blocks.block:snap03 - INFO - adc - Chip 7, Lane 0:    XXXXXXXXXXXXXXXXXXXXXXXXXXXXXXXXX---|----XXXXXXXXXXXXXXXXXXXXXXX\n",
      "2021-09-28 01:10:17,133 - lwa_f.blocks.block:snap03 - INFO - adc - Chip 7, Lane 1:    XXXXXXXXXXXXXXXXXXXXXXXXXXXXXXXXX---|----XXXXXXXXXXXXXXXXXXXXXXX\n",
      "2021-09-28 01:10:17,134 - lwa_f.blocks.block:snap03 - INFO - adc - Chip 7, Lane 2:    XXXXXXXXXXXXXXXXXXXXXXXXXXXXXXXXXX---|---XXXXXXXXXXXXXXXXXXXXXXX\n",
      "2021-09-28 01:10:17,135 - lwa_f.blocks.block:snap03 - INFO - adc - Chip 7, Lane 3:    XXXXXXXXXXXXXXXXXXXXXXXXXXXXXXXXX---|----XXXXXXXXXXXXXXXXXXXXXXX\n",
      "2021-09-28 01:10:17,135 - lwa_f.blocks.block:snap03 - INFO - adc - Chip 7, Lane 4:    XXXXXXXXXXXXXXXXXXXXXXXXXXXXXXXXX---|----XXXXXXXXXXXXXXXXXXXXXXX\n",
      "2021-09-28 01:10:17,136 - lwa_f.blocks.block:snap03 - INFO - adc - Chip 7, Lane 5:    XXXXXXXXXXXXXXXXXXXXXXXXXXXXXXXXXXX---|---XXXXXXXXXXXXXXXXXXXXXX\n",
      "2021-09-28 01:10:17,137 - lwa_f.blocks.block:snap03 - INFO - adc - Chip 7, Lane 6:    XXXXXXXXXXXXXXXXXXXXXXXXXXXXXXXXXXX---|---XXXXXXXXXXXXXXXXXXXXXX\n",
      "2021-09-28 01:10:17,137 - lwa_f.blocks.block:snap03 - INFO - adc - Chip 7, Lane 7:    XXXXXXXXXXXXXXXXXXXXXXXXXXXXXXXXXX---|---XXXXXXXXXXXXXXXXXXXXXXX\n",
      "2021-09-28 01:10:20,118 - lwa_f.blocks.block:snap03 - INFO - adc - FMC 1 Scanning data delays\n"
     ]
    },
    {
     "name": "stderr",
     "output_type": "stream",
     "text": [
      "100% |########################################################################|\r"
     ]
    },
    {
     "name": "stdout",
     "output_type": "stream",
     "text": [
      "2021-09-28 01:10:28,531 - lwa_f.blocks.block:snap03 - INFO - adc - FMC 1 data lane delays:\n",
      "[[264, 264, 264, 272, 264, 264, 264, 272], [272, 264, 264, 272, 264, 288, 272, 264], [256, 256, 256, 272, 264, 272, 256, 256], [272, 280, 264, 272, 272, 272, 272, 272], [288, 288, 296, 304, 296, 288, 288, 288], [232, 232, 232, 232, 240, 240, 240, 232], [264, 248, 256, 264, 248, 248, 248, 256], [272, 280, 280, 272, 272, 272, 272, 272]]\n",
      "2021-09-28 01:10:28,532 - lwa_f.blocks.block:snap03 - INFO - adc - FMC 1 data lane slacks:\n",
      "[[40, 40, 40, 40, 40, 40, 40, 40], [40, 32, 40, 40, 32, 32, 40, 32], [32, 32, 32, 32, 32, 40, 32, 32], [40, 32, 40, 40, 40, 40, 40, 40], [40, 40, 40, 40, 40, 40, 40, 40], [40, 40, 40, 40, 32, 32, 32, 40], [40, 40, 40, 40, 32, 40, 40, 40], [32, 40, 40, 40, 32, 40, 40, 32]]\n",
      "2021-09-28 01:10:28,533 - lwa_f.blocks.block:snap03 - INFO - adc - Chip 0, Lane 0:    XXXXXXXXXXXXXXXXXXXXXXXXXXXXX----|----XXXXXXXXXXXXXXXXXXXXXXXXXX\n",
      "2021-09-28 01:10:28,534 - lwa_f.blocks.block:snap03 - INFO - adc - Chip 0, Lane 1:    XXXXXXXXXXXXXXXXXXXXXXXXXXXXX----|----XXXXXXXXXXXXXXXXXXXXXXXXXX\n",
      "2021-09-28 01:10:28,535 - lwa_f.blocks.block:snap03 - INFO - adc - Chip 0, Lane 2:    XXXXXXXXXXXXXXXXXXXXXXXXXXXXX----|----XXXXXXXXXXXXXXXXXXXXXXXXXX\n",
      "2021-09-28 01:10:28,535 - lwa_f.blocks.block:snap03 - INFO - adc - Chip 0, Lane 3:    XXXXXXXXXXXXXXXXXXXXXXXXXXXXXX----|----XXXXXXXXXXXXXXXXXXXXXXXXX\n",
      "2021-09-28 01:10:28,536 - lwa_f.blocks.block:snap03 - INFO - adc - Chip 0, Lane 4:    XXXXXXXXXXXXXXXXXXXXXXXXXXXXX----|----XXXXXXXXXXXXXXXXXXXXXXXXXX\n",
      "2021-09-28 01:10:28,537 - lwa_f.blocks.block:snap03 - INFO - adc - Chip 0, Lane 5:    XXXXXXXXXXXXXXXXXXXXXXXXXXXXX----|----XXXXXXXXXXXXXXXXXXXXXXXXXX\n",
      "2021-09-28 01:10:28,538 - lwa_f.blocks.block:snap03 - INFO - adc - Chip 0, Lane 6:    XXXXXXXXXXXXXXXXXXXXXXXXXXXXX----|----XXXXXXXXXXXXXXXXXXXXXXXXXX\n",
      "2021-09-28 01:10:28,539 - lwa_f.blocks.block:snap03 - INFO - adc - Chip 0, Lane 7:    XXXXXXXXXXXXXXXXXXXXXXXXXXXXXX----|----XXXXXXXXXXXXXXXXXXXXXXXXX\n",
      "2021-09-28 01:10:28,540 - lwa_f.blocks.block:snap03 - INFO - adc - Chip 1, Lane 0:    XXXXXXXXXXXXXXXXXXXXXXXXXXXXXX----|----XXXXXXXXXXXXXXXXXXXXXXXXX\n",
      "2021-09-28 01:10:28,541 - lwa_f.blocks.block:snap03 - INFO - adc - Chip 1, Lane 1:    XXXXXXXXXXXXXXXXXXXXXXXXXXXXXX---|----XXXXXXXXXXXXXXXXXXXXXXXXXX\n",
      "2021-09-28 01:10:28,541 - lwa_f.blocks.block:snap03 - INFO - adc - Chip 1, Lane 2:    XXXXXXXXXXXXXXXXXXXXXXXXXXXXX----|----XXXXXXXXXXXXXXXXXXXXXXXXXX\n",
      "2021-09-28 01:10:28,542 - lwa_f.blocks.block:snap03 - INFO - adc - Chip 1, Lane 3:    XXXXXXXXXXXXXXXXXXXXXXXXXXXXXX----|----XXXXXXXXXXXXXXXXXXXXXXXXX\n",
      "2021-09-28 01:10:28,543 - lwa_f.blocks.block:snap03 - INFO - adc - Chip 1, Lane 4:    XXXXXXXXXXXXXXXXXXXXXXXXXXXXXX---|----XXXXXXXXXXXXXXXXXXXXXXXXXX\n",
      "2021-09-28 01:10:28,543 - lwa_f.blocks.block:snap03 - INFO - adc - Chip 1, Lane 5:    XXXXXXXXXXXXXXXXXXXXXXXXXXXXXXXXX---|---XXXXXXXXXXXXXXXXXXXXXXXX\n",
      "2021-09-28 01:10:28,544 - lwa_f.blocks.block:snap03 - INFO - adc - Chip 1, Lane 6:    XXXXXXXXXXXXXXXXXXXXXXXXXXXXXX----|----XXXXXXXXXXXXXXXXXXXXXXXXX\n",
      "2021-09-28 01:10:28,545 - lwa_f.blocks.block:snap03 - INFO - adc - Chip 1, Lane 7:    XXXXXXXXXXXXXXXXXXXXXXXXXXXXXX---|----XXXXXXXXXXXXXXXXXXXXXXXXXX\n",
      "2021-09-28 01:10:28,545 - lwa_f.blocks.block:snap03 - INFO - adc - Chip 2, Lane 0:    XXXXXXXXXXXXXXXXXXXXXXXXXXXXX---|----XXXXXXXXXXXXXXXXXXXXXXXXXXX\n",
      "2021-09-28 01:10:28,546 - lwa_f.blocks.block:snap03 - INFO - adc - Chip 2, Lane 1:    XXXXXXXXXXXXXXXXXXXXXXXXXXXXX---|----XXXXXXXXXXXXXXXXXXXXXXXXXXX\n",
      "2021-09-28 01:10:28,546 - lwa_f.blocks.block:snap03 - INFO - adc - Chip 2, Lane 2:    XXXXXXXXXXXXXXXXXXXXXXXXXXXXX---|----XXXXXXXXXXXXXXXXXXXXXXXXXXX\n",
      "2021-09-28 01:10:28,547 - lwa_f.blocks.block:snap03 - INFO - adc - Chip 2, Lane 3:    XXXXXXXXXXXXXXXXXXXXXXXXXXXXXXX---|----XXXXXXXXXXXXXXXXXXXXXXXXX\n",
      "2021-09-28 01:10:28,547 - lwa_f.blocks.block:snap03 - INFO - adc - Chip 2, Lane 4:    XXXXXXXXXXXXXXXXXXXXXXXXXXXXXX---|---XXXXXXXXXXXXXXXXXXXXXXXXXXX\n",
      "2021-09-28 01:10:28,548 - lwa_f.blocks.block:snap03 - INFO - adc - Chip 2, Lane 5:    XXXXXXXXXXXXXXXXXXXXXXXXXXXXXX----|----XXXXXXXXXXXXXXXXXXXXXXXXX\n",
      "2021-09-28 01:10:28,549 - lwa_f.blocks.block:snap03 - INFO - adc - Chip 2, Lane 6:    XXXXXXXXXXXXXXXXXXXXXXXXXXXXX---|----XXXXXXXXXXXXXXXXXXXXXXXXXXX\n",
      "2021-09-28 01:10:28,549 - lwa_f.blocks.block:snap03 - INFO - adc - Chip 2, Lane 7:    XXXXXXXXXXXXXXXXXXXXXXXXXXXXX---|---XXXXXXXXXXXXXXXXXXXXXXXXXXXX\n",
      "2021-09-28 01:10:28,550 - lwa_f.blocks.block:snap03 - INFO - adc - Chip 3, Lane 0:    XXXXXXXXXXXXXXXXXXXXXXXXXXXXXX----|----XXXXXXXXXXXXXXXXXXXXXXXXX\n",
      "2021-09-28 01:10:28,550 - lwa_f.blocks.block:snap03 - INFO - adc - Chip 3, Lane 1:    XXXXXXXXXXXXXXXXXXXXXXXXXXXXXXXX---|----XXXXXXXXXXXXXXXXXXXXXXXX\n",
      "2021-09-28 01:10:28,551 - lwa_f.blocks.block:snap03 - INFO - adc - Chip 3, Lane 2:    XXXXXXXXXXXXXXXXXXXXXXXXXXXXX----|-----XXXXXXXXXXXXXXXXXXXXXXXXX\n",
      "2021-09-28 01:10:28,552 - lwa_f.blocks.block:snap03 - INFO - adc - Chip 3, Lane 3:    XXXXXXXXXXXXXXXXXXXXXXXXXXXXXX----|----XXXXXXXXXXXXXXXXXXXXXXXXX\n",
      "2021-09-28 01:10:28,552 - lwa_f.blocks.block:snap03 - INFO - adc - Chip 3, Lane 4:    XXXXXXXXXXXXXXXXXXXXXXXXXXXXXX----|----XXXXXXXXXXXXXXXXXXXXXXXXX\n",
      "2021-09-28 01:10:28,553 - lwa_f.blocks.block:snap03 - INFO - adc - Chip 3, Lane 5:    XXXXXXXXXXXXXXXXXXXXXXXXXXXXXX----|-----XXXXXXXXXXXXXXXXXXXXXXXX\n",
      "2021-09-28 01:10:28,553 - lwa_f.blocks.block:snap03 - INFO - adc - Chip 3, Lane 6:    XXXXXXXXXXXXXXXXXXXXXXXXXXXXXX----|----XXXXXXXXXXXXXXXXXXXXXXXXX\n",
      "2021-09-28 01:10:28,554 - lwa_f.blocks.block:snap03 - INFO - adc - Chip 3, Lane 7:    XXXXXXXXXXXXXXXXXXXXXXXXXXXXXX----|----XXXXXXXXXXXXXXXXXXXXXXXXX\n",
      "2021-09-28 01:10:28,555 - lwa_f.blocks.block:snap03 - INFO - adc - Chip 4, Lane 0:    XXXXXXXXXXXXXXXXXXXXXXXXXXXXXXXX----|-----XXXXXXXXXXXXXXXXXXXXXX\n",
      "2021-09-28 01:10:28,555 - lwa_f.blocks.block:snap03 - INFO - adc - Chip 4, Lane 1:    XXXXXXXXXXXXXXXXXXXXXXXXXXXXXXXX----|-----XXXXXXXXXXXXXXXXXXXXXX\n",
      "2021-09-28 01:10:28,556 - lwa_f.blocks.block:snap03 - INFO - adc - Chip 4, Lane 2:    XXXXXXXXXXXXXXXXXXXXXXXXXXXXXXXXX----|----XXXXXXXXXXXXXXXXXXXXXX\n",
      "2021-09-28 01:10:28,556 - lwa_f.blocks.block:snap03 - INFO - adc - Chip 4, Lane 3:    XXXXXXXXXXXXXXXXXXXXXXXXXXXXXXXXXX----|----XXXXXXXXXXXXXXXXXXXXX\n",
      "2021-09-28 01:10:28,557 - lwa_f.blocks.block:snap03 - INFO - adc - Chip 4, Lane 4:    XXXXXXXXXXXXXXXXXXXXXXXXXXXXXXXXX----|-----XXXXXXXXXXXXXXXXXXXXX\n",
      "2021-09-28 01:10:28,557 - lwa_f.blocks.block:snap03 - INFO - adc - Chip 4, Lane 5:    XXXXXXXXXXXXXXXXXXXXXXXXXXXXXXXX----|-----XXXXXXXXXXXXXXXXXXXXXX\n",
      "2021-09-28 01:10:28,558 - lwa_f.blocks.block:snap03 - INFO - adc - Chip 4, Lane 6:    XXXXXXXXXXXXXXXXXXXXXXXXXXXXXXXX----|----XXXXXXXXXXXXXXXXXXXXXXX\n",
      "2021-09-28 01:10:28,559 - lwa_f.blocks.block:snap03 - INFO - adc - Chip 4, Lane 7:    XXXXXXXXXXXXXXXXXXXXXXXXXXXXXXXX----|-----XXXXXXXXXXXXXXXXXXXXXX\n",
      "2021-09-28 01:10:28,559 - lwa_f.blocks.block:snap03 - INFO - adc - Chip 5, Lane 0:    XXXXXXXXXXXXXXXXXXXXXXXXX----|-----XXXXXXXXXXXXXXXXXXXXXXXXXXXXX\n",
      "2021-09-28 01:10:28,560 - lwa_f.blocks.block:snap03 - INFO - adc - Chip 5, Lane 1:    XXXXXXXXXXXXXXXXXXXXXXXXX----|----XXXXXXXXXXXXXXXXXXXXXXXXXXXXXX\n",
      "2021-09-28 01:10:28,560 - lwa_f.blocks.block:snap03 - INFO - adc - Chip 5, Lane 2:    XXXXXXXXXXXXXXXXXXXXXXXXX----|----XXXXXXXXXXXXXXXXXXXXXXXXXXXXXX\n",
      "2021-09-28 01:10:28,561 - lwa_f.blocks.block:snap03 - INFO - adc - Chip 5, Lane 3:    XXXXXXXXXXXXXXXXXXXXXXXXX----|----XXXXXXXXXXXXXXXXXXXXXXXXXXXXXX\n"
     ]
    },
    {
     "name": "stderr",
     "output_type": "stream",
     "text": [
      "\n"
     ]
    },
    {
     "name": "stdout",
     "output_type": "stream",
     "text": [
      "2021-09-28 01:10:28,562 - lwa_f.blocks.block:snap03 - INFO - adc - Chip 5, Lane 4:    XXXXXXXXXXXXXXXXXXXXXXXXXXX---|---XXXXXXXXXXXXXXXXXXXXXXXXXXXXXX\n",
      "2021-09-28 01:10:28,562 - lwa_f.blocks.block:snap03 - INFO - adc - Chip 5, Lane 5:    XXXXXXXXXXXXXXXXXXXXXXXXXXX---|---XXXXXXXXXXXXXXXXXXXXXXXXXXXXXX\n",
      "2021-09-28 01:10:28,563 - lwa_f.blocks.block:snap03 - INFO - adc - Chip 5, Lane 6:    XXXXXXXXXXXXXXXXXXXXXXXXXXX---|----XXXXXXXXXXXXXXXXXXXXXXXXXXXXX\n",
      "2021-09-28 01:10:28,564 - lwa_f.blocks.block:snap03 - INFO - adc - Chip 5, Lane 7:    XXXXXXXXXXXXXXXXXXXXXXXXX----|----XXXXXXXXXXXXXXXXXXXXXXXXXXXXXX\n",
      "2021-09-28 01:10:28,564 - lwa_f.blocks.block:snap03 - INFO - adc - Chip 6, Lane 0:    XXXXXXXXXXXXXXXXXXXXXXXXXXXXX----|----XXXXXXXXXXXXXXXXXXXXXXXXXX\n",
      "2021-09-28 01:10:28,565 - lwa_f.blocks.block:snap03 - INFO - adc - Chip 6, Lane 1:    XXXXXXXXXXXXXXXXXXXXXXXXXXX----|-----XXXXXXXXXXXXXXXXXXXXXXXXXXX\n",
      "2021-09-28 01:10:28,565 - lwa_f.blocks.block:snap03 - INFO - adc - Chip 6, Lane 2:    XXXXXXXXXXXXXXXXXXXXXXXXXXXX----|----XXXXXXXXXXXXXXXXXXXXXXXXXXX\n",
      "2021-09-28 01:10:28,566 - lwa_f.blocks.block:snap03 - INFO - adc - Chip 6, Lane 3:    XXXXXXXXXXXXXXXXXXXXXXXXXXXXX----|----XXXXXXXXXXXXXXXXXXXXXXXXXX\n",
      "2021-09-28 01:10:28,567 - lwa_f.blocks.block:snap03 - INFO - adc - Chip 6, Lane 4:    XXXXXXXXXXXXXXXXXXXXXXXXXXXX---|----XXXXXXXXXXXXXXXXXXXXXXXXXXXX\n",
      "2021-09-28 01:10:28,567 - lwa_f.blocks.block:snap03 - INFO - adc - Chip 6, Lane 5:    XXXXXXXXXXXXXXXXXXXXXXXXXXX----|-----XXXXXXXXXXXXXXXXXXXXXXXXXXX\n",
      "2021-09-28 01:10:28,568 - lwa_f.blocks.block:snap03 - INFO - adc - Chip 6, Lane 6:    XXXXXXXXXXXXXXXXXXXXXXXXXXX----|----XXXXXXXXXXXXXXXXXXXXXXXXXXXX\n",
      "2021-09-28 01:10:28,568 - lwa_f.blocks.block:snap03 - INFO - adc - Chip 6, Lane 7:    XXXXXXXXXXXXXXXXXXXXXXXXXXXX----|----XXXXXXXXXXXXXXXXXXXXXXXXXXX\n",
      "2021-09-28 01:10:28,569 - lwa_f.blocks.block:snap03 - INFO - adc - Chip 7, Lane 0:    XXXXXXXXXXXXXXXXXXXXXXXXXXXXXXX---|----XXXXXXXXXXXXXXXXXXXXXXXXX\n",
      "2021-09-28 01:10:28,570 - lwa_f.blocks.block:snap03 - INFO - adc - Chip 7, Lane 1:    XXXXXXXXXXXXXXXXXXXXXXXXXXXXXXX----|----XXXXXXXXXXXXXXXXXXXXXXXX\n",
      "2021-09-28 01:10:28,571 - lwa_f.blocks.block:snap03 - INFO - adc - Chip 7, Lane 2:    XXXXXXXXXXXXXXXXXXXXXXXXXXXXXXX----|----XXXXXXXXXXXXXXXXXXXXXXXX\n",
      "2021-09-28 01:10:28,571 - lwa_f.blocks.block:snap03 - INFO - adc - Chip 7, Lane 3:    XXXXXXXXXXXXXXXXXXXXXXXXXXXXXX----|----XXXXXXXXXXXXXXXXXXXXXXXXX\n",
      "2021-09-28 01:10:28,578 - lwa_f.blocks.block:snap03 - INFO - adc - Chip 7, Lane 4:    XXXXXXXXXXXXXXXXXXXXXXXXXXXXXXX---|----XXXXXXXXXXXXXXXXXXXXXXXXX\n",
      "2021-09-28 01:10:28,578 - lwa_f.blocks.block:snap03 - INFO - adc - Chip 7, Lane 5:    XXXXXXXXXXXXXXXXXXXXXXXXXXXXXX----|----XXXXXXXXXXXXXXXXXXXXXXXXX\n",
      "2021-09-28 01:10:28,579 - lwa_f.blocks.block:snap03 - INFO - adc - Chip 7, Lane 6:    XXXXXXXXXXXXXXXXXXXXXXXXXXXXXX----|----XXXXXXXXXXXXXXXXXXXXXXXXX\n",
      "2021-09-28 01:10:28,580 - lwa_f.blocks.block:snap03 - INFO - adc - Chip 7, Lane 7:    XXXXXXXXXXXXXXXXXXXXXXXXXXXXXXX---|----XXXXXXXXXXXXXXXXXXXXXXXXX\n",
      "2021-09-28 01:10:32,639 - lwa_f.snap2_fengine:snap03 - INFO - Initializing block (writable): sync\n",
      "2021-09-28 01:10:32,653 - lwa_f.snap2_fengine:snap03 - INFO - Initializing block (writable): noise\n",
      "2021-09-28 01:10:32,660 - lwa_f.snap2_fengine:snap03 - INFO - Initializing block (writable): input\n",
      "2021-09-28 01:10:32,853 - lwa_f.snap2_fengine:snap03 - INFO - Initializing block (writable): delay\n",
      "2021-09-28 01:10:33,395 - lwa_f.snap2_fengine:snap03 - INFO - Initializing block (writable): pfb\n",
      "2021-09-28 01:10:33,410 - lwa_f.snap2_fengine:snap03 - INFO - Initializing block (writable): eq\n",
      "2021-09-28 01:10:33,785 - lwa_f.snap2_fengine:snap03 - INFO - Initializing block (writable): eqtvg\n",
      "2021-09-28 01:10:34,810 - lwa_f.snap2_fengine:snap03 - INFO - Initializing block (writable): reorder\n",
      "2021-09-28 01:10:34,827 - lwa_f.snap2_fengine:snap03 - INFO - Initializing block (writable): packetizer\n",
      "2021-09-28 01:10:34,827 - lwa_f.snap2_fengine:snap03 - INFO - Initializing block (writable): eth\n",
      "2021-09-28 01:10:34,837 - lwa_f.snap2_fengine:snap03 - INFO - Initializing block (writable): autocorr\n",
      "2021-09-28 01:10:34,840 - lwa_f.snap2_fengine:snap03 - INFO - Initializing block (writable): corr\n",
      "2021-09-28 01:10:34,843 - lwa_f.snap2_fengine:snap03 - INFO - Initializing block (writable): powermon\n",
      "2021-09-28 01:10:35,088 - lwa_f.snap2_fengine:snap03 - INFO - Performing software global reset\n"
     ]
    }
   ],
   "source": [
    "#Get data from sky\n",
    "brd.initialize(read_only=False)\n",
    "brd.sync.arm_sync()\n",
    "brd.sync.sw_sync()"
   ]
  },
  {
   "cell_type": "code",
   "execution_count": 44,
   "metadata": {},
   "outputs": [],
   "source": [
    "thresholds = np.logspace (1,np.log10(2**10),150)\n",
    "results_sky = []\n",
    "for t in thresholds:\n",
    "    setvalue(casperbrd,\"trigger_power_thresh\",\"cr_registers.xlsx\",int(t**2))\n",
    "    setvalue(casperbrd,\"veto_power_thresh\",\"cr_registers.xlsx\",int(t**2))\n",
    "    time.sleep(2)  #have to wait for it to update\n",
    "    core,veto = read_threshold_rates(casperbrd)\n",
    "    results_sky.append(core)\n"
   ]
  },
  {
   "cell_type": "code",
   "execution_count": 45,
   "metadata": {},
   "outputs": [
    {
     "data": {
      "text/plain": [
       "(150, 64)"
      ]
     },
     "execution_count": 45,
     "metadata": {},
     "output_type": "execute_result"
    }
   ],
   "source": [
    "arr = np.asarray(results_sky)\n",
    "arr.shape"
   ]
  },
  {
   "cell_type": "code",
   "execution_count": 48,
   "metadata": {},
   "outputs": [
    {
     "data": {
      "text/plain": [
       "Text(0, 0.5, 'Fraction of Clock Cycles below Threshold')"
      ]
     },
     "execution_count": 48,
     "metadata": {},
     "output_type": "execute_result"
    },
    {
     "data": {
      "image/png": "[encoded data removed]",
      "text/plain": [
       "<Figure size 504x504 with 1 Axes>"
      ]
     },
     "metadata": {
      "needs_background": "light"
     },
     "output_type": "display_data"
    }
   ],
   "source": [
    "plt.figure(figsize=(7,7))\n",
    "for i in range(64):\n",
    "    Results =1 - np.asarray(arr[:,i])/(2**28)\n",
    "    plt.plot(thresholds,Results,'.')\n",
    "plt.xlabel(\"Voltage threshold\")\n",
    "plt.ylabel(\"Fraction of Clock Cycles below Threshold\")"
   ]
  },
  {
   "cell_type": "code",
   "execution_count": 55,
   "metadata": {},
   "outputs": [
    {
     "data": {
      "text/plain": [
       "(0, 100)"
      ]
     },
     "execution_count": 55,
     "metadata": {},
     "output_type": "execute_result"
    },
    {
     "data": {
      "image/png": "[encoded data removed]",
      "text/plain": [
       "<Figure size 504x504 with 1 Axes>"
      ]
     },
     "metadata": {
      "needs_background": "light"
     },
     "output_type": "display_data"
    }
   ],
   "source": [
    "plt.figure(figsize=(7,7))\n",
    "for i in range(64):\n",
    "    Results =1 - np.asarray(arr[:,i])/(2**28)\n",
    "    plt.plot(thresholds,Results,'.')\n",
    "plt.xlabel(\"Voltage threshold\")\n",
    "plt.ylabel(\"Fraction of Clock Cycles below Threshold\")\n",
    "plt.xlim(0,100)"
   ]
  },
  {
   "cell_type": "code",
   "execution_count": 54,
   "metadata": {},
   "outputs": [
    {
     "data": {
      "text/plain": [
       "(0, 0.02)"
      ]
     },
     "execution_count": 54,
     "metadata": {},
     "output_type": "execute_result"
    },
    {
     "data": {
      "image/png": "[encoded data removed]",
      "text/plain": [
       "<Figure size 504x504 with 1 Axes>"
      ]
     },
     "metadata": {
      "needs_background": "light"
     },
     "output_type": "display_data"
    }
   ],
   "source": [
    "plt.figure(figsize=(7,7))\n",
    "for i in range(64):\n",
    "    Results =np.asarray(arr[:,i])/(2**28)\n",
    "    plt.plot(thresholds,Results,'.')\n",
    "plt.xlabel(\"Voltage threshold\")\n",
    "plt.ylabel(\"Fraction of Clock Cycles Above Threshold\")\n",
    "plt.xlim(100,200)\n",
    "plt.ylim(0,0.02)\n"
   ]
  },
  {
   "cell_type": "code",
   "execution_count": null,
   "metadata": {},
   "outputs": [],
   "source": [
    "setvalue(casperbrd,\"trigger_power_thresh\",\"cr_registers.xlsx\",int(16**2))\n",
    "setvalue(casperbrd,\"veto_power_thresh\",\"cr_registers.xlsx\",int(16**2))\n",
    "time.sleep(2)  #have to wait for it to update\n",
    "core,veto = read_threshold_rates(casperbrd)"
   ]
  },
  {
   "cell_type": "markdown",
   "metadata": {},
   "source": [
    "### 9/28/2021"
   ]
  },
  {
   "cell_type": "markdown",
   "metadata": {},
   "source": [
    "I wondered if I got the odd results with the internally generated noise (25\\% instead of 32\\% above 1 sigma) because I could have the wrong denominator in that fraction-- what if dividing by 2^28 clock cycles was wrong, if the thresholds somehow weren't incrementing as often as they should. The cells below demonstrate that this is not the case by setting data to constant and thresholds to zero."
   ]
  },
  {
   "cell_type": "code",
   "execution_count": 8,
   "metadata": {},
   "outputs": [
    {
     "name": "stdout",
     "output_type": "stream",
     "text": [
      "Data source set to constant\n",
      "------------------------\n",
      "snap01:cosmic_ray_cr_forty_gbe configuration:\n",
      "MAC:  02:02:02:01:01:01\n",
      "Gateway:  0.0.0.1\n",
      "IP:  10.41.0.201\n",
      "Fabric port: \n",
      "11111\n",
      "Disabled\n",
      "\tbase_ip: 255.255.255.255\n",
      "\tip_mask: 255.255.255.255\n",
      "\trx_ips: []\n",
      "ARP Table: \n",
      "IP: 10.41.0.106: MAC: 04:3F:72:DF:C2:F8\n",
      "Setting wait between packets to 100\n"
     ]
    }
   ],
   "source": [
    "setup_data_source(casperbrd,\"constant\")\n",
    "setup_ethernet(brdname,casperbrd,fpgfile,'lwacr',100)\n",
    "#enable ethernet\n",
    "setvalue(casperbrd,'eth_enable','cr_registers.xlsx',1)\n",
    "#send trigger\n",
    "#software_trigger(casperbrd,1)"
   ]
  },
  {
   "cell_type": "code",
   "execution_count": 9,
   "metadata": {},
   "outputs": [],
   "source": [
    "setvalue(casperbrd,\"trigger_power_thresh\",\"cr_registers.xlsx\",0)\n",
    "setvalue(casperbrd,\"veto_power_thresh\",\"cr_registers.xlsx\",0)\n",
    "time.sleep(2)  #have to wait for it to update\n",
    "core,veto = read_threshold_rates(casperbrd)"
   ]
  },
  {
   "cell_type": "code",
   "execution_count": 11,
   "metadata": {},
   "outputs": [
    {
     "name": "stdout",
     "output_type": "stream",
     "text": [
      "268435455.0\n",
      "268435456\n"
     ]
    }
   ],
   "source": [
    "print(core[0])\n",
    "print(2**28)"
   ]
  },
  {
   "cell_type": "markdown",
   "metadata": {},
   "source": [
    "## Next"
   ]
  },
  {
   "cell_type": "code",
   "execution_count": 25,
   "metadata": {},
   "outputs": [
    {
     "name": "stdout",
     "output_type": "stream",
     "text": [
      "Data source set to adc\n",
      "2021-09-28 16:21:33,177 - lwa_f.snap2_fengine:snap01 - INFO - Initializing block (writable): fpga\n",
      "2021-09-28 16:21:33,177 - lwa_f.snap2_fengine:snap01 - INFO - Initializing block (writable): adc\n",
      "2021-09-28 16:21:33,181 - lwa_f.blocks.block:snap01 - INFO - adc - FMC 0 board 0: Setting clock source to 1\n",
      "2021-09-28 16:21:33,191 - lwa_f.blocks.block:snap01 - INFO - adc - FMC 0 board 1: Setting clock source to 1\n",
      "2021-09-28 16:21:33,199 - lwa_f.blocks.block:snap01 - INFO - adc - FMC 1 board 0: Setting clock source to 1\n",
      "2021-09-28 16:21:33,206 - lwa_f.blocks.block:snap01 - INFO - adc - FMC 1 board 1: Setting clock source to 1\n",
      "2021-09-28 16:21:41,667 - lwa_f.blocks.block:snap01 - INFO - adc - FMC 0 board 0 clock rates: [490719088, 98238368, 98263922, 0, 0]\n",
      "2021-09-28 16:21:41,668 - lwa_f.blocks.block:snap01 - INFO - adc - FMC 0 board 0: MMCM locked\n",
      "2021-09-28 16:21:42,678 - lwa_f.blocks.block:snap01 - INFO - adc - FMC 0 board 1 clock rates: [490740226, 98245659, 98294723, 98326410, 0]\n",
      "2021-09-28 16:21:43,689 - lwa_f.blocks.block:snap01 - INFO - adc - FMC 1 board 0 clock rates: [490653850, 98185915, 98228846, 0, 0]\n",
      "2021-09-28 16:21:43,689 - lwa_f.blocks.block:snap01 - INFO - adc - FMC 1 board 0: MMCM locked\n",
      "2021-09-28 16:21:44,699 - lwa_f.blocks.block:snap01 - INFO - adc - FMC 1 board 1 clock rates: [490695154, 98194228, 98235623, 98277022, 0]\n",
      "2021-09-28 16:21:46,201 - lwa_f.blocks.block:snap01 - INFO - adc - FMC 0 Scanning data delays\n"
     ]
    },
    {
     "name": "stderr",
     "output_type": "stream",
     "text": [
      "100% |########################################################################|\r"
     ]
    },
    {
     "name": "stdout",
     "output_type": "stream",
     "text": [
      "2021-09-28 16:21:54,713 - lwa_f.blocks.block:snap01 - INFO - adc - FMC 0 data lane delays:\n",
      "[[328, 320, 336, 320, 320, 312, 320, 312], [320, 312, 304, 304, 312, 304, 304, 304], [296, 296, 296, 296, 296, 288, 296, 304], [312, 312, 304, 312, 304, 304, 304, 304], [296, 296, 296, 304, 304, 296, 296, 304], [296, 304, 304, 296, 288, 288, 288, 288], [328, 304, 312, 320, 312, 328, 312, 312], [368, 360, 360, 360, 360, 368, 376, 360]]\n",
      "2021-09-28 16:21:54,713 - lwa_f.blocks.block:snap01 - INFO - adc - FMC 0 data lane slacks:\n",
      "[[32, 40, 40, 40, 40, 32, 40, 32], [40, 40, 32, 40, 40, 32, 40, 32], [40, 40, 40, 40, 40, 32, 40, 32], [40, 32, 32, 40, 32, 32, 32, 32], [40, 40, 40, 40, 40, 32, 40, 40], [32, 40, 40, 40, 32, 32, 40, 40], [40, 32, 32, 40, 40, 40, 40, 40], [32, 32, 32, 40, 40, 32, 40, 40]]\n",
      "2021-09-28 16:21:54,713 - lwa_f.blocks.block:snap01 - INFO - adc - Chip 0, Lane 0:    XXXXXXXXXXXXXXXXXXXXXXXXXXXXXXXXXXXXXX---|----XXXXXXXXXXXXXXXXXX\n",
      "2021-09-28 16:21:54,714 - lwa_f.blocks.block:snap01 - INFO - adc - Chip 0, Lane 1:    XXXXXXXXXXXXXXXXXXXXXXXXXXXXXXXXXXXX----|----XXXXXXXXXXXXXXXXXXX\n",
      "2021-09-28 16:21:54,714 - lwa_f.blocks.block:snap01 - INFO - adc - Chip 0, Lane 2:    XXXXXXXXXXXXXXXXXXXXXXXXXXXXXXXXXXXXXX----|----XXXXXXXXXXXXXXXXX\n",
      "2021-09-28 16:21:54,715 - lwa_f.blocks.block:snap01 - INFO - adc - Chip 0, Lane 3:    XXXXXXXXXXXXXXXXXXXXXXXXXXXXXXXXXXXX----|----XXXXXXXXXXXXXXXXXXX\n",
      "2021-09-28 16:21:54,715 - lwa_f.blocks.block:snap01 - INFO - adc - Chip 0, Lane 4:    XXXXXXXXXXXXXXXXXXXXXXXXXXXXXXXXXXXX----|----XXXXXXXXXXXXXXXXXXX\n",
      "2021-09-28 16:21:54,715 - lwa_f.blocks.block:snap01 - INFO - adc - Chip 0, Lane 5:    XXXXXXXXXXXXXXXXXXXXXXXXXXXXXXXXXXXX---|----XXXXXXXXXXXXXXXXXXXX\n",
      "2021-09-28 16:21:54,716 - lwa_f.blocks.block:snap01 - INFO - adc - Chip 0, Lane 6:    XXXXXXXXXXXXXXXXXXXXXXXXXXXXXXXXXXXX----|----XXXXXXXXXXXXXXXXXXX\n",
      "2021-09-28 16:21:54,716 - lwa_f.blocks.block:snap01 - INFO - adc - Chip 0, Lane 7:    XXXXXXXXXXXXXXXXXXXXXXXXXXXXXXXXXXXX---|----XXXXXXXXXXXXXXXXXXXX\n",
      "2021-09-28 16:21:54,716 - lwa_f.blocks.block:snap01 - INFO - adc - Chip 1, Lane 0:    XXXXXXXXXXXXXXXXXXXXXXXXXXXXXXXXXXXX----|----XXXXXXXXXXXXXXXXXXX\n",
      "2021-09-28 16:21:54,717 - lwa_f.blocks.block:snap01 - INFO - adc - Chip 1, Lane 1:    XXXXXXXXXXXXXXXXXXXXXXXXXXXXXXXXXXX----|----XXXXXXXXXXXXXXXXXXXX\n",
      "2021-09-28 16:21:54,717 - lwa_f.blocks.block:snap01 - INFO - adc - Chip 1, Lane 2:    XXXXXXXXXXXXXXXXXXXXXXXXXXXXXXXXXXX---|----XXXXXXXXXXXXXXXXXXXXX\n",
      "2021-09-28 16:21:54,717 - lwa_f.blocks.block:snap01 - INFO - adc - Chip 1, Lane 3:    XXXXXXXXXXXXXXXXXXXXXXXXXXXXXXXXXX----|----XXXXXXXXXXXXXXXXXXXXX\n",
      "2021-09-28 16:21:54,718 - lwa_f.blocks.block:snap01 - INFO - adc - Chip 1, Lane 4:    XXXXXXXXXXXXXXXXXXXXXXXXXXXXXXXXXXX----|----XXXXXXXXXXXXXXXXXXXX\n",
      "2021-09-28 16:21:54,718 - lwa_f.blocks.block:snap01 - INFO - adc - Chip 1, Lane 5:    XXXXXXXXXXXXXXXXXXXXXXXXXXXXXXXXXXX---|----XXXXXXXXXXXXXXXXXXXXX\n",
      "2021-09-28 16:21:54,719 - lwa_f.blocks.block:snap01 - INFO - adc - Chip 1, Lane 6:    XXXXXXXXXXXXXXXXXXXXXXXXXXXXXXXXXX----|----XXXXXXXXXXXXXXXXXXXXX\n",
      "2021-09-28 16:21:54,719 - lwa_f.blocks.block:snap01 - INFO - adc - Chip 1, Lane 7:    XXXXXXXXXXXXXXXXXXXXXXXXXXXXXXXXXXX---|----XXXXXXXXXXXXXXXXXXXXX\n",
      "2021-09-28 16:21:54,719 - lwa_f.blocks.block:snap01 - INFO - adc - Chip 2, Lane 0:    XXXXXXXXXXXXXXXXXXXXXXXXXXXXXXXXX----|----XXXXXXXXXXXXXXXXXXXXXX\n",
      "2021-09-28 16:21:54,720 - lwa_f.blocks.block:snap01 - INFO - adc - Chip 2, Lane 1:    XXXXXXXXXXXXXXXXXXXXXXXXXXXXXXXXX----|----XXXXXXXXXXXXXXXXXXXXXX\n",
      "2021-09-28 16:21:54,720 - lwa_f.blocks.block:snap01 - INFO - adc - Chip 2, Lane 2:    XXXXXXXXXXXXXXXXXXXXXXXXXXXXXXXXX----|----XXXXXXXXXXXXXXXXXXXXXX\n",
      "2021-09-28 16:21:54,720 - lwa_f.blocks.block:snap01 - INFO - adc - Chip 2, Lane 3:    XXXXXXXXXXXXXXXXXXXXXXXXXXXXXXXXX----|-----XXXXXXXXXXXXXXXXXXXXX\n",
      "2021-09-28 16:21:54,721 - lwa_f.blocks.block:snap01 - INFO - adc - Chip 2, Lane 4:    XXXXXXXXXXXXXXXXXXXXXXXXXXXXXXXXX----|----XXXXXXXXXXXXXXXXXXXXXX\n",
      "2021-09-28 16:21:54,721 - lwa_f.blocks.block:snap01 - INFO - adc - Chip 2, Lane 5:    XXXXXXXXXXXXXXXXXXXXXXXXXXXXXXXXX---|----XXXXXXXXXXXXXXXXXXXXXXX\n",
      "2021-09-28 16:21:54,721 - lwa_f.blocks.block:snap01 - INFO - adc - Chip 2, Lane 6:    XXXXXXXXXXXXXXXXXXXXXXXXXXXXXXXXX----|-----XXXXXXXXXXXXXXXXXXXXX\n",
      "2021-09-28 16:21:54,722 - lwa_f.blocks.block:snap01 - INFO - adc - Chip 2, Lane 7:    XXXXXXXXXXXXXXXXXXXXXXXXXXXXXXXXXXX---|----XXXXXXXXXXXXXXXXXXXXX\n",
      "2021-09-28 16:21:54,722 - lwa_f.blocks.block:snap01 - INFO - adc - Chip 3, Lane 0:    XXXXXXXXXXXXXXXXXXXXXXXXXXXXXXXXXXX----|----XXXXXXXXXXXXXXXXXXXX\n",
      "2021-09-28 16:21:54,723 - lwa_f.blocks.block:snap01 - INFO - adc - Chip 3, Lane 1:    XXXXXXXXXXXXXXXXXXXXXXXXXXXXXXXXXXXX---|----XXXXXXXXXXXXXXXXXXXX\n",
      "2021-09-28 16:21:54,723 - lwa_f.blocks.block:snap01 - INFO - adc - Chip 3, Lane 2:    XXXXXXXXXXXXXXXXXXXXXXXXXXXXXXXXXXX---|----XXXXXXXXXXXXXXXXXXXXX\n",
      "2021-09-28 16:21:54,723 - lwa_f.blocks.block:snap01 - INFO - adc - Chip 3, Lane 3:    XXXXXXXXXXXXXXXXXXXXXXXXXXXXXXXXXXX----|----XXXXXXXXXXXXXXXXXXXX\n",
      "2021-09-28 16:21:54,724 - lwa_f.blocks.block:snap01 - INFO - adc - Chip 3, Lane 4:    XXXXXXXXXXXXXXXXXXXXXXXXXXXXXXXXXXX---|----XXXXXXXXXXXXXXXXXXXXX\n",
      "2021-09-28 16:21:54,724 - lwa_f.blocks.block:snap01 - INFO - adc - Chip 3, Lane 5:    XXXXXXXXXXXXXXXXXXXXXXXXXXXXXXXXXXX---|----XXXXXXXXXXXXXXXXXXXXX\n",
      "2021-09-28 16:21:54,724 - lwa_f.blocks.block:snap01 - INFO - adc - Chip 3, Lane 6:    XXXXXXXXXXXXXXXXXXXXXXXXXXXXXXXXXXX---|----XXXXXXXXXXXXXXXXXXXXX\n",
      "2021-09-28 16:21:54,725 - lwa_f.blocks.block:snap01 - INFO - adc - Chip 3, Lane 7:    XXXXXXXXXXXXXXXXXXXXXXXXXXXXXXXXXXX---|----XXXXXXXXXXXXXXXXXXXXX\n",
      "2021-09-28 16:21:54,725 - lwa_f.blocks.block:snap01 - INFO - adc - Chip 4, Lane 0:    XXXXXXXXXXXXXXXXXXXXXXXXXXXXXXXXX----|-----XXXXXXXXXXXXXXXXXXXXX\n",
      "2021-09-28 16:21:54,726 - lwa_f.blocks.block:snap01 - INFO - adc - Chip 4, Lane 1:    XXXXXXXXXXXXXXXXXXXXXXXXXXXXXXXXX----|----XXXXXXXXXXXXXXXXXXXXXX\n",
      "2021-09-28 16:21:54,726 - lwa_f.blocks.block:snap01 - INFO - adc - Chip 4, Lane 2:    XXXXXXXXXXXXXXXXXXXXXXXXXXXXXXXXX----|----XXXXXXXXXXXXXXXXXXXXXX\n",
      "2021-09-28 16:21:54,726 - lwa_f.blocks.block:snap01 - INFO - adc - Chip 4, Lane 3:    XXXXXXXXXXXXXXXXXXXXXXXXXXXXXXXXXX----|----XXXXXXXXXXXXXXXXXXXXX\n",
      "2021-09-28 16:21:54,727 - lwa_f.blocks.block:snap01 - INFO - adc - Chip 4, Lane 4:    XXXXXXXXXXXXXXXXXXXXXXXXXXXXXXXXXX----|----XXXXXXXXXXXXXXXXXXXXX\n",
      "2021-09-28 16:21:54,727 - lwa_f.blocks.block:snap01 - INFO - adc - Chip 4, Lane 5:    XXXXXXXXXXXXXXXXXXXXXXXXXXXXXXXXXX---|----XXXXXXXXXXXXXXXXXXXXXX\n",
      "2021-09-28 16:21:54,728 - lwa_f.blocks.block:snap01 - INFO - adc - Chip 4, Lane 6:    XXXXXXXXXXXXXXXXXXXXXXXXXXXXXXXXX----|----XXXXXXXXXXXXXXXXXXXXXX\n",
      "2021-09-28 16:21:54,728 - lwa_f.blocks.block:snap01 - INFO - adc - Chip 4, Lane 7:    XXXXXXXXXXXXXXXXXXXXXXXXXXXXXXXXXX----|----XXXXXXXXXXXXXXXXXXXXX\n",
      "2021-09-28 16:21:54,729 - lwa_f.blocks.block:snap01 - INFO - adc - Chip 5, Lane 0:    XXXXXXXXXXXXXXXXXXXXXXXXXXXXXXXXXX---|----XXXXXXXXXXXXXXXXXXXXXX\n",
      "2021-09-28 16:21:54,729 - lwa_f.blocks.block:snap01 - INFO - adc - Chip 5, Lane 1:    XXXXXXXXXXXXXXXXXXXXXXXXXXXXXXXXXX----|----XXXXXXXXXXXXXXXXXXXXX\n",
      "2021-09-28 16:21:54,730 - lwa_f.blocks.block:snap01 - INFO - adc - Chip 5, Lane 2:    XXXXXXXXXXXXXXXXXXXXXXXXXXXXXXXXXX----|----XXXXXXXXXXXXXXXXXXXXX\n",
      "2021-09-28 16:21:54,730 - lwa_f.blocks.block:snap01 - INFO - adc - Chip 5, Lane 3:    XXXXXXXXXXXXXXXXXXXXXXXXXXXXXXXXX----|-----XXXXXXXXXXXXXXXXXXXXX\n",
      "2021-09-28 16:21:54,730 - lwa_f.blocks.block:snap01 - INFO - adc - Chip 5, Lane 4:    XXXXXXXXXXXXXXXXXXXXXXXXXXXXXXXXX---|----XXXXXXXXXXXXXXXXXXXXXXX\n",
      "2021-09-28 16:21:54,731 - lwa_f.blocks.block:snap01 - INFO - adc - Chip 5, Lane 5:    XXXXXXXXXXXXXXXXXXXXXXXXXXXXXXXXX---|----XXXXXXXXXXXXXXXXXXXXXXX\n",
      "2021-09-28 16:21:54,731 - lwa_f.blocks.block:snap01 - INFO - adc - Chip 5, Lane 6:    XXXXXXXXXXXXXXXXXXXXXXXXXXXXXXXX----|----XXXXXXXXXXXXXXXXXXXXXXX\n",
      "2021-09-28 16:21:54,732 - lwa_f.blocks.block:snap01 - INFO - adc - Chip 5, Lane 7:    XXXXXXXXXXXXXXXXXXXXXXXXXXXXXXXX----|----XXXXXXXXXXXXXXXXXXXXXXX\n",
      "2021-09-28 16:21:54,732 - lwa_f.blocks.block:snap01 - INFO - adc - Chip 6, Lane 0:    XXXXXXXXXXXXXXXXXXXXXXXXXXXXXXXXXXXXX----|----XXXXXXXXXXXXXXXXXX\n",
      "2021-09-28 16:21:54,733 - lwa_f.blocks.block:snap01 - INFO - adc - Chip 6, Lane 1:    XXXXXXXXXXXXXXXXXXXXXXXXXXXXXXXXXXX---|----XXXXXXXXXXXXXXXXXXXXX\n"
     ]
    },
    {
     "name": "stdout",
     "output_type": "stream",
     "text": [
      "2021-09-28 16:21:54,733 - lwa_f.blocks.block:snap01 - INFO - adc - Chip 6, Lane 2:    XXXXXXXXXXXXXXXXXXXXXXXXXXXXXXXXXXXX---|----XXXXXXXXXXXXXXXXXXXX\n",
      "2021-09-28 16:21:54,733 - lwa_f.blocks.block:snap01 - INFO - adc - Chip 6, Lane 3:    XXXXXXXXXXXXXXXXXXXXXXXXXXXXXXXXXXXX----|----XXXXXXXXXXXXXXXXXXX\n",
      "2021-09-28 16:21:54,734 - lwa_f.blocks.block:snap01 - INFO - adc - Chip 6, Lane 4:    XXXXXXXXXXXXXXXXXXXXXXXXXXXXXXXXXXX----|-----XXXXXXXXXXXXXXXXXXX\n",
      "2021-09-28 16:21:54,734 - lwa_f.blocks.block:snap01 - INFO - adc - Chip 6, Lane 5:    XXXXXXXXXXXXXXXXXXXXXXXXXXXXXXXXXXXXX----|----XXXXXXXXXXXXXXXXXX\n",
      "2021-09-28 16:21:54,735 - lwa_f.blocks.block:snap01 - INFO - adc - Chip 6, Lane 6:    XXXXXXXXXXXXXXXXXXXXXXXXXXXXXXXXXXX----|----XXXXXXXXXXXXXXXXXXXX\n",
      "2021-09-28 16:21:54,735 - lwa_f.blocks.block:snap01 - INFO - adc - Chip 6, Lane 7:    XXXXXXXXXXXXXXXXXXXXXXXXXXXXXXXXXXX----|----XXXXXXXXXXXXXXXXXXXX\n",
      "2021-09-28 16:21:54,736 - lwa_f.blocks.block:snap01 - INFO - adc - Chip 7, Lane 0:    XXXXXXXXXXXXXXXXXXXXXXXXXXXXXXXXXXXXXXXXXXX---|----XXXXXXXXXXXXX\n",
      "2021-09-28 16:21:54,736 - lwa_f.blocks.block:snap01 - INFO - adc - Chip 7, Lane 1:    XXXXXXXXXXXXXXXXXXXXXXXXXXXXXXXXXXXXXXXXXX---|----XXXXXXXXXXXXXX\n",
      "2021-09-28 16:21:54,737 - lwa_f.blocks.block:snap01 - INFO - adc - Chip 7, Lane 2:    XXXXXXXXXXXXXXXXXXXXXXXXXXXXXXXXXXXXXXXXXX---|----XXXXXXXXXXXXXX\n",
      "2021-09-28 16:21:54,737 - lwa_f.blocks.block:snap01 - INFO - adc - Chip 7, Lane 3:    XXXXXXXXXXXXXXXXXXXXXXXXXXXXXXXXXXXXXXXXX----|----XXXXXXXXXXXXXX\n",
      "2021-09-28 16:21:54,737 - lwa_f.blocks.block:snap01 - INFO - adc - Chip 7, Lane 4:    XXXXXXXXXXXXXXXXXXXXXXXXXXXXXXXXXXXXXXXXX----|-----XXXXXXXXXXXXX\n",
      "2021-09-28 16:21:54,738 - lwa_f.blocks.block:snap01 - INFO - adc - Chip 7, Lane 5:    XXXXXXXXXXXXXXXXXXXXXXXXXXXXXXXXXXXXXXXXXXX---|----XXXXXXXXXXXXX\n",
      "2021-09-28 16:21:54,738 - lwa_f.blocks.block:snap01 - INFO - adc - Chip 7, Lane 6:    XXXXXXXXXXXXXXXXXXXXXXXXXXXXXXXXXXXXXXXXXXX----|----XXXXXXXXXXXX\n",
      "2021-09-28 16:21:54,739 - lwa_f.blocks.block:snap01 - INFO - adc - Chip 7, Lane 7:    XXXXXXXXXXXXXXXXXXXXXXXXXXXXXXXXXXXXXXXXX----|----XXXXXXXXXXXXXX\n"
     ]
    },
    {
     "name": "stderr",
     "output_type": "stream",
     "text": [
      "\n"
     ]
    },
    {
     "name": "stdout",
     "output_type": "stream",
     "text": [
      "2021-09-28 16:21:57,706 - lwa_f.blocks.block:snap01 - INFO - adc - FMC 1 Scanning data delays\n"
     ]
    },
    {
     "name": "stderr",
     "output_type": "stream",
     "text": [
      "100% |########################################################################|\r"
     ]
    },
    {
     "name": "stdout",
     "output_type": "stream",
     "text": [
      "2021-09-28 16:22:06,227 - lwa_f.blocks.block:snap01 - INFO - adc - FMC 1 data lane delays:\n",
      "[[304, 312, 312, 312, 296, 296, 288, 312], [296, 296, 288, 296, 288, 304, 296, 288], [296, 288, 296, 312, 288, 304, 296, 288], [336, 344, 336, 336, 336, 336, 336, 336], [280, 288, 288, 296, 288, 288, 288, 288], [328, 328, 328, 328, 336, 328, 336, 328], [288, 280, 280, 288, 280, 280, 280, 280], [280, 288, 288, 280, 280, 280, 280, 280]]\n",
      "2021-09-28 16:22:06,228 - lwa_f.blocks.block:snap01 - INFO - adc - FMC 1 data lane slacks:\n",
      "[[40, 40, 40, 32, 32, 32, 32, 40], [40, 40, 40, 40, 32, 32, 40, 40], [40, 40, 40, 40, 32, 32, 40, 40], [40, 32, 40, 40, 40, 32, 32, 40], [40, 40, 40, 40, 40, 40, 40, 40], [32, 32, 32, 32, 40, 32, 32, 32], [32, 40, 32, 32, 32, 32, 32, 32], [40, 40, 40, 40, 40, 40, 40, 40]]\n",
      "2021-09-28 16:22:06,228 - lwa_f.blocks.block:snap01 - INFO - adc - Chip 0, Lane 0:    XXXXXXXXXXXXXXXXXXXXXXXXXXXXXXXXXX----|----XXXXXXXXXXXXXXXXXXXXX\n",
      "2021-09-28 16:22:06,229 - lwa_f.blocks.block:snap01 - INFO - adc - Chip 0, Lane 1:    XXXXXXXXXXXXXXXXXXXXXXXXXXXXXXXXXXX----|----XXXXXXXXXXXXXXXXXXXX\n",
      "2021-09-28 16:22:06,230 - lwa_f.blocks.block:snap01 - INFO - adc - Chip 0, Lane 2:    XXXXXXXXXXXXXXXXXXXXXXXXXXXXXXXXXXX----|----XXXXXXXXXXXXXXXXXXXX\n",
      "2021-09-28 16:22:06,230 - lwa_f.blocks.block:snap01 - INFO - adc - Chip 0, Lane 3:    XXXXXXXXXXXXXXXXXXXXXXXXXXXXXXXXXXXX---|----XXXXXXXXXXXXXXXXXXXX\n",
      "2021-09-28 16:22:06,231 - lwa_f.blocks.block:snap01 - INFO - adc - Chip 0, Lane 4:    XXXXXXXXXXXXXXXXXXXXXXXXXXXXXXXXXX---|----XXXXXXXXXXXXXXXXXXXXXX\n",
      "2021-09-28 16:22:06,232 - lwa_f.blocks.block:snap01 - INFO - adc - Chip 0, Lane 5:    XXXXXXXXXXXXXXXXXXXXXXXXXXXXXXXXXX---|----XXXXXXXXXXXXXXXXXXXXXX\n",
      "2021-09-28 16:22:06,232 - lwa_f.blocks.block:snap01 - INFO - adc - Chip 0, Lane 6:    XXXXXXXXXXXXXXXXXXXXXXXXXXXXXXXXX---|----XXXXXXXXXXXXXXXXXXXXXXX\n",
      "2021-09-28 16:22:06,233 - lwa_f.blocks.block:snap01 - INFO - adc - Chip 0, Lane 7:    XXXXXXXXXXXXXXXXXXXXXXXXXXXXXXXXXXX----|----XXXXXXXXXXXXXXXXXXXX\n",
      "2021-09-28 16:22:06,234 - lwa_f.blocks.block:snap01 - INFO - adc - Chip 1, Lane 0:    XXXXXXXXXXXXXXXXXXXXXXXXXXXXXXXXX----|----XXXXXXXXXXXXXXXXXXXXXX\n",
      "2021-09-28 16:22:06,235 - lwa_f.blocks.block:snap01 - INFO - adc - Chip 1, Lane 1:    XXXXXXXXXXXXXXXXXXXXXXXXXXXXXXXXX----|----XXXXXXXXXXXXXXXXXXXXXX\n",
      "2021-09-28 16:22:06,235 - lwa_f.blocks.block:snap01 - INFO - adc - Chip 1, Lane 2:    XXXXXXXXXXXXXXXXXXXXXXXXXXXXXXXX----|----XXXXXXXXXXXXXXXXXXXXXXX\n",
      "2021-09-28 16:22:06,236 - lwa_f.blocks.block:snap01 - INFO - adc - Chip 1, Lane 3:    XXXXXXXXXXXXXXXXXXXXXXXXXXXXXXXXX----|----XXXXXXXXXXXXXXXXXXXXXX\n",
      "2021-09-28 16:22:06,236 - lwa_f.blocks.block:snap01 - INFO - adc - Chip 1, Lane 4:    XXXXXXXXXXXXXXXXXXXXXXXXXXXXXXXXX---|----XXXXXXXXXXXXXXXXXXXXXXX\n",
      "2021-09-28 16:22:06,237 - lwa_f.blocks.block:snap01 - INFO - adc - Chip 1, Lane 5:    XXXXXXXXXXXXXXXXXXXXXXXXXXXXXXXXXXX---|----XXXXXXXXXXXXXXXXXXXXX\n",
      "2021-09-28 16:22:06,237 - lwa_f.blocks.block:snap01 - INFO - adc - Chip 1, Lane 6:    XXXXXXXXXXXXXXXXXXXXXXXXXXXXXXXXX----|----XXXXXXXXXXXXXXXXXXXXXX\n",
      "2021-09-28 16:22:06,238 - lwa_f.blocks.block:snap01 - INFO - adc - Chip 1, Lane 7:    XXXXXXXXXXXXXXXXXXXXXXXXXXXXXXXX----|----XXXXXXXXXXXXXXXXXXXXXXX\n",
      "2021-09-28 16:22:06,238 - lwa_f.blocks.block:snap01 - INFO - adc - Chip 2, Lane 0:    XXXXXXXXXXXXXXXXXXXXXXXXXXXXXXXXX----|----XXXXXXXXXXXXXXXXXXXXXX\n",
      "2021-09-28 16:22:06,239 - lwa_f.blocks.block:snap01 - INFO - adc - Chip 2, Lane 1:    XXXXXXXXXXXXXXXXXXXXXXXXXXXXXXXX----|----XXXXXXXXXXXXXXXXXXXXXXX\n",
      "2021-09-28 16:22:06,239 - lwa_f.blocks.block:snap01 - INFO - adc - Chip 2, Lane 2:    XXXXXXXXXXXXXXXXXXXXXXXXXXXXXXXXX----|----XXXXXXXXXXXXXXXXXXXXXX\n",
      "2021-09-28 16:22:06,240 - lwa_f.blocks.block:snap01 - INFO - adc - Chip 2, Lane 3:    XXXXXXXXXXXXXXXXXXXXXXXXXXXXXXXXXXX----|----XXXXXXXXXXXXXXXXXXXX\n",
      "2021-09-28 16:22:06,242 - lwa_f.blocks.block:snap01 - INFO - adc - Chip 2, Lane 4:    XXXXXXXXXXXXXXXXXXXXXXXXXXXXXXXXX---|----XXXXXXXXXXXXXXXXXXXXXXX\n",
      "2021-09-28 16:22:06,242 - lwa_f.blocks.block:snap01 - INFO - adc - Chip 2, Lane 5:    XXXXXXXXXXXXXXXXXXXXXXXXXXXXXXXXXXX---|----XXXXXXXXXXXXXXXXXXXXX\n",
      "2021-09-28 16:22:06,243 - lwa_f.blocks.block:snap01 - INFO - adc - Chip 2, Lane 6:    XXXXXXXXXXXXXXXXXXXXXXXXXXXXXXXXX----|----XXXXXXXXXXXXXXXXXXXXXX\n",
      "2021-09-28 16:22:06,243 - lwa_f.blocks.block:snap01 - INFO - adc - Chip 2, Lane 7:    XXXXXXXXXXXXXXXXXXXXXXXXXXXXXXXX----|----XXXXXXXXXXXXXXXXXXXXXXX\n",
      "2021-09-28 16:22:06,244 - lwa_f.blocks.block:snap01 - INFO - adc - Chip 3, Lane 0:    XXXXXXXXXXXXXXXXXXXXXXXXXXXXXXXXXXXXXX----|----XXXXXXXXXXXXXXXXX\n",
      "2021-09-28 16:22:06,244 - lwa_f.blocks.block:snap01 - INFO - adc - Chip 3, Lane 1:    XXXXXXXXXXXXXXXXXXXXXXXXXXXXXXXXXXXXXXXX---|----XXXXXXXXXXXXXXXX\n",
      "2021-09-28 16:22:06,245 - lwa_f.blocks.block:snap01 - INFO - adc - Chip 3, Lane 2:    XXXXXXXXXXXXXXXXXXXXXXXXXXXXXXXXXXXXXX----|----XXXXXXXXXXXXXXXXX\n",
      "2021-09-28 16:22:06,245 - lwa_f.blocks.block:snap01 - INFO - adc - Chip 3, Lane 3:    XXXXXXXXXXXXXXXXXXXXXXXXXXXXXXXXXXXXXX----|-----XXXXXXXXXXXXXXXX\n",
      "2021-09-28 16:22:06,246 - lwa_f.blocks.block:snap01 - INFO - adc - Chip 3, Lane 4:    XXXXXXXXXXXXXXXXXXXXXXXXXXXXXXXXXXXXXX----|----XXXXXXXXXXXXXXXXX\n",
      "2021-09-28 16:22:06,246 - lwa_f.blocks.block:snap01 - INFO - adc - Chip 3, Lane 5:    XXXXXXXXXXXXXXXXXXXXXXXXXXXXXXXXXXXXXXX---|----XXXXXXXXXXXXXXXXX\n",
      "2021-09-28 16:22:06,247 - lwa_f.blocks.block:snap01 - INFO - adc - Chip 3, Lane 6:    XXXXXXXXXXXXXXXXXXXXXXXXXXXXXXXXXXXXXXX---|----XXXXXXXXXXXXXXXXX\n",
      "2021-09-28 16:22:06,247 - lwa_f.blocks.block:snap01 - INFO - adc - Chip 3, Lane 7:    XXXXXXXXXXXXXXXXXXXXXXXXXXXXXXXXXXXXXX----|----XXXXXXXXXXXXXXXXX\n",
      "2021-09-28 16:22:06,248 - lwa_f.blocks.block:snap01 - INFO - adc - Chip 4, Lane 0:    XXXXXXXXXXXXXXXXXXXXXXXXXXXXXXX----|-----XXXXXXXXXXXXXXXXXXXXXXX\n",
      "2021-09-28 16:22:06,248 - lwa_f.blocks.block:snap01 - INFO - adc - Chip 4, Lane 1:    XXXXXXXXXXXXXXXXXXXXXXXXXXXXXXXX----|----XXXXXXXXXXXXXXXXXXXXXXX\n",
      "2021-09-28 16:22:06,249 - lwa_f.blocks.block:snap01 - INFO - adc - Chip 4, Lane 2:    XXXXXXXXXXXXXXXXXXXXXXXXXXXXXXXX----|----XXXXXXXXXXXXXXXXXXXXXXX\n",
      "2021-09-28 16:22:06,249 - lwa_f.blocks.block:snap01 - INFO - adc - Chip 4, Lane 3:    XXXXXXXXXXXXXXXXXXXXXXXXXXXXXXXXX----|----XXXXXXXXXXXXXXXXXXXXXX\n",
      "2021-09-28 16:22:06,250 - lwa_f.blocks.block:snap01 - INFO - adc - Chip 4, Lane 4:    XXXXXXXXXXXXXXXXXXXXXXXXXXXXXXXX----|----XXXXXXXXXXXXXXXXXXXXXXX\n",
      "2021-09-28 16:22:06,250 - lwa_f.blocks.block:snap01 - INFO - adc - Chip 4, Lane 5:    XXXXXXXXXXXXXXXXXXXXXXXXXXXXXXXX----|----XXXXXXXXXXXXXXXXXXXXXXX\n",
      "2021-09-28 16:22:06,251 - lwa_f.blocks.block:snap01 - INFO - adc - Chip 4, Lane 6:    XXXXXXXXXXXXXXXXXXXXXXXXXXXXXXXX----|----XXXXXXXXXXXXXXXXXXXXXXX\n",
      "2021-09-28 16:22:06,251 - lwa_f.blocks.block:snap01 - INFO - adc - Chip 4, Lane 7:    XXXXXXXXXXXXXXXXXXXXXXXXXXXXXXXX----|----XXXXXXXXXXXXXXXXXXXXXXX\n",
      "2021-09-28 16:22:06,252 - lwa_f.blocks.block:snap01 - INFO - adc - Chip 5, Lane 0:    XXXXXXXXXXXXXXXXXXXXXXXXXXXXXXXXXXXXXX---|----XXXXXXXXXXXXXXXXXX\n",
      "2021-09-28 16:22:06,252 - lwa_f.blocks.block:snap01 - INFO - adc - Chip 5, Lane 1:    XXXXXXXXXXXXXXXXXXXXXXXXXXXXXXXXXXXXXX---|----XXXXXXXXXXXXXXXXXX\n",
      "2021-09-28 16:22:06,253 - lwa_f.blocks.block:snap01 - INFO - adc - Chip 5, Lane 2:    XXXXXXXXXXXXXXXXXXXXXXXXXXXXXXXXXXXXXX---|----XXXXXXXXXXXXXXXXXX\n",
      "2021-09-28 16:22:06,253 - lwa_f.blocks.block:snap01 - INFO - adc - Chip 5, Lane 3:    XXXXXXXXXXXXXXXXXXXXXXXXXXXXXXXXXXXXXX---|----XXXXXXXXXXXXXXXXXX\n",
      "2021-09-28 16:22:06,254 - lwa_f.blocks.block:snap01 - INFO - adc - Chip 5, Lane 4:    XXXXXXXXXXXXXXXXXXXXXXXXXXXXXXXXXXXXXX----|----XXXXXXXXXXXXXXXXX\n",
      "2021-09-28 16:22:06,254 - lwa_f.blocks.block:snap01 - INFO - adc - Chip 5, Lane 5:    XXXXXXXXXXXXXXXXXXXXXXXXXXXXXXXXXXXXXX---|----XXXXXXXXXXXXXXXXXX\n",
      "2021-09-28 16:22:06,254 - lwa_f.blocks.block:snap01 - INFO - adc - Chip 5, Lane 6:    XXXXXXXXXXXXXXXXXXXXXXXXXXXXXXXXXXXXXXX---|----XXXXXXXXXXXXXXXXX\n",
      "2021-09-28 16:22:06,255 - lwa_f.blocks.block:snap01 - INFO - adc - Chip 5, Lane 7:    XXXXXXXXXXXXXXXXXXXXXXXXXXXXXXXXXXXXXX---|----XXXXXXXXXXXXXXXXXX\n",
      "2021-09-28 16:22:06,255 - lwa_f.blocks.block:snap01 - INFO - adc - Chip 6, Lane 0:    XXXXXXXXXXXXXXXXXXXXXXXXXXXXXXXXX---|----XXXXXXXXXXXXXXXXXXXXXXX\n",
      "2021-09-28 16:22:06,256 - lwa_f.blocks.block:snap01 - INFO - adc - Chip 6, Lane 1:    XXXXXXXXXXXXXXXXXXXXXXXXXXXXXXX----|----XXXXXXXXXXXXXXXXXXXXXXXX\n"
     ]
    },
    {
     "name": "stdout",
     "output_type": "stream",
     "text": [
      "2021-09-28 16:22:06,256 - lwa_f.blocks.block:snap01 - INFO - adc - Chip 6, Lane 2:    XXXXXXXXXXXXXXXXXXXXXXXXXXXXXXXX---|----XXXXXXXXXXXXXXXXXXXXXXXX\n",
      "2021-09-28 16:22:06,257 - lwa_f.blocks.block:snap01 - INFO - adc - Chip 6, Lane 3:    XXXXXXXXXXXXXXXXXXXXXXXXXXXXXXXXX---|----XXXXXXXXXXXXXXXXXXXXXXX\n",
      "2021-09-28 16:22:06,257 - lwa_f.blocks.block:snap01 - INFO - adc - Chip 6, Lane 4:    XXXXXXXXXXXXXXXXXXXXXXXXXXXXXXXX---|----XXXXXXXXXXXXXXXXXXXXXXXX\n",
      "2021-09-28 16:22:06,258 - lwa_f.blocks.block:snap01 - INFO - adc - Chip 6, Lane 5:    XXXXXXXXXXXXXXXXXXXXXXXXXXXXXXXX---|----XXXXXXXXXXXXXXXXXXXXXXXX\n",
      "2021-09-28 16:22:06,258 - lwa_f.blocks.block:snap01 - INFO - adc - Chip 6, Lane 6:    XXXXXXXXXXXXXXXXXXXXXXXXXXXXXXXX---|----XXXXXXXXXXXXXXXXXXXXXXXX\n",
      "2021-09-28 16:22:06,259 - lwa_f.blocks.block:snap01 - INFO - adc - Chip 6, Lane 7:    XXXXXXXXXXXXXXXXXXXXXXXXXXXXXXXX---|----XXXXXXXXXXXXXXXXXXXXXXXX\n",
      "2021-09-28 16:22:06,259 - lwa_f.blocks.block:snap01 - INFO - adc - Chip 7, Lane 0:    XXXXXXXXXXXXXXXXXXXXXXXXXXXXXXX----|-----XXXXXXXXXXXXXXXXXXXXXXX\n",
      "2021-09-28 16:22:06,260 - lwa_f.blocks.block:snap01 - INFO - adc - Chip 7, Lane 1:    XXXXXXXXXXXXXXXXXXXXXXXXXXXXXXXX----|----XXXXXXXXXXXXXXXXXXXXXXX\n"
     ]
    },
    {
     "name": "stderr",
     "output_type": "stream",
     "text": [
      "\n"
     ]
    },
    {
     "name": "stdout",
     "output_type": "stream",
     "text": [
      "2021-09-28 16:22:06,260 - lwa_f.blocks.block:snap01 - INFO - adc - Chip 7, Lane 2:    XXXXXXXXXXXXXXXXXXXXXXXXXXXXXXXX----|----XXXXXXXXXXXXXXXXXXXXXXX\n",
      "2021-09-28 16:22:06,261 - lwa_f.blocks.block:snap01 - INFO - adc - Chip 7, Lane 3:    XXXXXXXXXXXXXXXXXXXXXXXXXXXXXXX----|----XXXXXXXXXXXXXXXXXXXXXXXX\n",
      "2021-09-28 16:22:06,262 - lwa_f.blocks.block:snap01 - INFO - adc - Chip 7, Lane 4:    XXXXXXXXXXXXXXXXXXXXXXXXXXXXXXX----|----XXXXXXXXXXXXXXXXXXXXXXXX\n",
      "2021-09-28 16:22:06,262 - lwa_f.blocks.block:snap01 - INFO - adc - Chip 7, Lane 5:    XXXXXXXXXXXXXXXXXXXXXXXXXXXXXXX----|----XXXXXXXXXXXXXXXXXXXXXXXX\n",
      "2021-09-28 16:22:06,263 - lwa_f.blocks.block:snap01 - INFO - adc - Chip 7, Lane 6:    XXXXXXXXXXXXXXXXXXXXXXXXXXXXXXX----|----XXXXXXXXXXXXXXXXXXXXXXXX\n",
      "2021-09-28 16:22:06,263 - lwa_f.blocks.block:snap01 - INFO - adc - Chip 7, Lane 7:    XXXXXXXXXXXXXXXXXXXXXXXXXXXXXXX----|----XXXXXXXXXXXXXXXXXXXXXXXX\n",
      "2021-09-28 16:22:10,390 - lwa_f.snap2_fengine:snap01 - INFO - Initializing block (writable): sync\n",
      "2021-09-28 16:22:10,404 - lwa_f.snap2_fengine:snap01 - INFO - Initializing block (writable): noise\n",
      "2021-09-28 16:22:10,411 - lwa_f.snap2_fengine:snap01 - INFO - Initializing block (writable): input\n",
      "2021-09-28 16:22:10,811 - lwa_f.snap2_fengine:snap01 - INFO - Initializing block (writable): delay\n",
      "2021-09-28 16:22:11,326 - lwa_f.snap2_fengine:snap01 - INFO - Initializing block (writable): pfb\n",
      "2021-09-28 16:22:11,340 - lwa_f.snap2_fengine:snap01 - INFO - Initializing block (writable): eq\n",
      "2021-09-28 16:22:11,717 - lwa_f.snap2_fengine:snap01 - INFO - Initializing block (writable): eqtvg\n",
      "2021-09-28 16:22:12,774 - lwa_f.snap2_fengine:snap01 - INFO - Initializing block (writable): reorder\n",
      "2021-09-28 16:22:12,790 - lwa_f.snap2_fengine:snap01 - INFO - Initializing block (writable): packetizer\n",
      "2021-09-28 16:22:12,790 - lwa_f.snap2_fengine:snap01 - INFO - Initializing block (writable): eth\n",
      "2021-09-28 16:22:12,802 - lwa_f.snap2_fengine:snap01 - INFO - Initializing block (writable): autocorr\n",
      "2021-09-28 16:22:12,805 - lwa_f.snap2_fengine:snap01 - INFO - Initializing block (writable): corr\n",
      "2021-09-28 16:22:12,808 - lwa_f.snap2_fengine:snap01 - INFO - Initializing block (writable): powermon\n",
      "2021-09-28 16:22:13,070 - lwa_f.snap2_fengine:snap01 - INFO - Performing software global reset\n"
     ]
    }
   ],
   "source": [
    "setup_data_source(casperbrd,\"adc\")\n",
    "brd.initialize(read_only=False)\n"
   ]
  },
  {
   "cell_type": "code",
   "execution_count": 42,
   "metadata": {},
   "outputs": [
    {
     "name": "stdout",
     "output_type": "stream",
     "text": [
      "Packetizer formed 64 packets\n",
      "Board successfully returned to listening state after readout\n",
      "Readout took 22848 clock cycles\n",
      "Packetizer never overflowed\n",
      "Ethernet block almost-full counter incremented by 0\n"
     ]
    }
   ],
   "source": [
    "software_trigger(casperbrd,1)"
   ]
  },
  {
   "cell_type": "code",
   "execution_count": 43,
   "metadata": {},
   "outputs": [
    {
     "name": "stdout",
     "output_type": "stream",
     "text": [
      "40.37591706332797 -2.294677734375 0.7102129980921745\n",
      "40.829504130648296 -2.2294921875 0.7096184603869915\n",
      "40.66327405342921 -1.810302734375 0.7132303677499294\n",
      "40.60459380058111 -2.39697265625 0.7122825421392918\n",
      "40.122579626365294 -1.98046875 0.7113608978688717\n",
      "40.32265345432415 -1.62548828125 0.7084676176309586\n",
      "40.16324055010021 -2.29736328125 0.702763807028532\n",
      "40.666421583272914 -2.051513671875 0.7115742228925228\n",
      "40.815910322469705 -2.31396484375 0.7148645184934139\n",
      "40.98911026516456 -2.17333984375 0.7132862582802773\n",
      "40.329478616178335 -2.232177734375 0.7172085270285606\n",
      "39.769895779915785 -2.205322265625 0.7051368653774261\n",
      "40.919422548819995 -2.412841796875 0.717753604054451\n",
      "41.0305232014897 -2.223876953125 0.7176496461033821\n",
      "39.68934989582756 -1.12158203125 0.7197790667414665\n"
     ]
    },
    {
     "data": {
      "image/png": "[encoded data removed]",
      "text/plain": [
       "<Figure size 432x288 with 1 Axes>"
      ]
     },
     "metadata": {
      "needs_background": "light"
     },
     "output_type": "display_data"
    },
    {
     "data": {
      "image/png": "[encoded data removed]",
      "text/plain": [
       "<Figure size 1080x360 with 2 Axes>"
      ]
     },
     "metadata": {
      "needs_background": "light"
     },
     "output_type": "display_data"
    }
   ],
   "source": [
    "# these are more whitenoise\n",
    "#files = [\"single_board_snapshot1632845789.178383.npy\",\n",
    "#    \"single_board_snapshot1632845791.927979.npy\",\n",
    "#    \"single_board_snapshot1632845793.9690871.npy\",\n",
    "#    \"single_board_snapshot1632845796.09186.npy\",\n",
    "#    \"single_board_snapshot1632845798.2900646.npy\",\n",
    "#    \"single_board_snapshot1632845801.7753775.npy\",\n",
    "#    \"single_board_snapshot1632845805.6395664.npy\",\n",
    "#    \"single_board_snapshot1632845808.5597465.npy\",\n",
    "#\"single_board_snapshot1632845812.4237947.npy\"]\n",
    "\n",
    "files = [\"single_board_snapshot1632846222.7568886.npy\",\n",
    "    \"single_board_snapshot1632846225.5378444.npy\",\n",
    "    \"single_board_snapshot1632846227.377575.npy\",\n",
    "    \"single_board_snapshot1632846229.1868975.npy\",\n",
    "     \"single_board_snapshot1632846231.5381985.npy\",\n",
    "    \"single_board_snapshot1632846233.3777344.npy\",\n",
    "    \"single_board_snapshot1632846235.1176052.npy\",\n",
    "    \"single_board_snapshot1632846236.944746.npy\",\n",
    "     \"single_board_snapshot1632846238.6382065.npy\",\n",
    "    \"single_board_snapshot1632846240.190969.npy\",\n",
    "    \"single_board_snapshot1632846242.0773585.npy\",\n",
    "        \"single_board_snapshot1632846887.013901.npy\",\n",
    "    \"single_board_snapshot1632846891.711227.npy\",\n",
    "    \"single_board_snapshot1632846893.9016151.npy\",\n",
    "    \"single_board_snapshot1632846895.5463445.npy\"]\n",
    "\n",
    "means=[]\n",
    "stdvs=[]\n",
    "for f in files:\n",
    "    snapshot=np.load(\"/home/ubuntu/kplant/caltech-lwa/cosmic_ray_scripts/data_capture/snapshots/\"+f)\n",
    "    timeseries = snapshot[:,4]\n",
    "    stdv = np.std(timeseries)\n",
    "    m=np.mean(timeseries)\n",
    "    setvalue(casperbrd,\"trigger_power_thresh\",\"cr_registers.xlsx\",int((m+stdv)**2))\n",
    "    setvalue(casperbrd,\"veto_power_thresh\",\"cr_registers.xlsx\",int((m+stdv)**2))\n",
    "    time.sleep(2)  #have to wait for it to update\n",
    "    core,veto = read_threshold_rates(casperbrd)\n",
    "    print(stdv, m, 1 - (core[0]/(2**28)))\n",
    "    plt.plot(timeseries)\n",
    "    means.append(m)\n",
    "    stdvs.append(stdv)\n",
    "\n",
    "plt.figure(figsize=(15,5))\n",
    "plt.subplot(121)\n",
    "plt.plot(range(len(means)),means,'.')\n",
    "plt.errorbar(range(len(means)),means,(4096**-0.5)*np.asarray(means),marker=',',ls='none')\n",
    "plt.xlabel('snapshot number')\n",
    "plt.ylabel('mean')\n",
    "plt.subplot(122)\n",
    "plt.plot(range(len(stdvs)),stdvs,'.')\n",
    "plt.errorbar(range(len(stdvs)),stdvs,(4096**-0.5)*np.asarray(stdvs),marker='o',ls='none')\n",
    "plt.xlabel('snapshot number')\n",
    "plt.ylabel('Standard deviation')\n",
    "\n",
    "plt.show()"
   ]
  },
  {
   "cell_type": "code",
   "execution_count": null,
   "metadata": {},
   "outputs": [],
   "source": []
  }
 ],
 "metadata": {
  "kernelspec": {
   "display_name": "Python 3",
   "language": "python",
   "name": "python3"
  },
  "language_info": {
   "codemirror_mode": {
    "name": "ipython",
    "version": 3
   },
   "file_extension": ".py",
   "mimetype": "text/x-python",
   "name": "python",
   "nbconvert_exporter": "python",
   "pygments_lexer": "ipython3",
   "version": "3.6.10"
  }
 },
 "nbformat": 4,
 "nbformat_minor": 4
}
