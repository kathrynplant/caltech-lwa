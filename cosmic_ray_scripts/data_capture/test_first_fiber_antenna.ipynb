{
 "cells": [
  {
   "cell_type": "code",
   "execution_count": 3,
   "metadata": {},
   "outputs": [
    {
     "ename": "SyntaxError",
     "evalue": "invalid syntax (<ipython-input-3-e1456a1fd4d4>, line 8)",
     "output_type": "error",
     "traceback": [
      "\u001b[0;36m  File \u001b[0;32m\"<ipython-input-3-e1456a1fd4d4>\"\u001b[0;36m, line \u001b[0;32m8\u001b[0m\n\u001b[0;31m    from ../snap2_control/cr_functions import *\u001b[0m\n\u001b[0m           ^\u001b[0m\n\u001b[0;31mSyntaxError\u001b[0m\u001b[0;31m:\u001b[0m invalid syntax\n"
     ]
    }
   ],
   "source": [
    "import matplotlib.pyplot as plt\n",
    "import numpy as np\n",
    "import casperfpga\n",
    "import time\n",
    "from lwa_f import snap2_fengine\n",
    "#from lwautils import lwa_arx \n",
    "import pandas as pd\n",
    "from cr_functions import *\n",
    "import struct\n",
    "import math\n",
    "from scipy import special as sp\n",
    "from scipy import optimize as oz\n",
    "from scipy import stats as st"
   ]
  },
  {
   "cell_type": "code",
   "execution_count": 1,
   "metadata": {},
   "outputs": [
    {
     "ename": "NameError",
     "evalue": "name 'snap2_fengine' is not defined",
     "output_type": "error",
     "traceback": [
      "\u001b[0;31m---------------------------------------------------------------------------\u001b[0m",
      "\u001b[0;31mNameError\u001b[0m                                 Traceback (most recent call last)",
      "\u001b[0;32m<ipython-input-1-b2e3e95bf9b1>\u001b[0m in \u001b[0;36m<module>\u001b[0;34m\u001b[0m\n\u001b[1;32m      2\u001b[0m \u001b[0mbrdname\u001b[0m\u001b[0;34m=\u001b[0m\u001b[0;34m'snap07'\u001b[0m\u001b[0;34m\u001b[0m\u001b[0;34m\u001b[0m\u001b[0m\n\u001b[1;32m      3\u001b[0m \u001b[0;31m#load firmware and initialize etc\u001b[0m\u001b[0;34m\u001b[0m\u001b[0;34m\u001b[0m\u001b[0;34m\u001b[0m\u001b[0m\n\u001b[0;32m----> 4\u001b[0;31m \u001b[0mbrd\u001b[0m\u001b[0;34m=\u001b[0m\u001b[0msnap2_fengine\u001b[0m\u001b[0;34m.\u001b[0m\u001b[0mSnap2Fengine\u001b[0m\u001b[0;34m(\u001b[0m\u001b[0mbrdname\u001b[0m\u001b[0;34m)\u001b[0m\u001b[0;34m\u001b[0m\u001b[0;34m\u001b[0m\u001b[0m\n\u001b[0m\u001b[1;32m      5\u001b[0m \u001b[0mbrd\u001b[0m\u001b[0;34m.\u001b[0m\u001b[0mprogram\u001b[0m\u001b[0;34m(\u001b[0m\u001b[0mfpgfile\u001b[0m\u001b[0;34m)\u001b[0m\u001b[0;34m\u001b[0m\u001b[0;34m\u001b[0m\u001b[0m\n\u001b[1;32m      6\u001b[0m \u001b[0;34m\u001b[0m\u001b[0m\n",
      "\u001b[0;31mNameError\u001b[0m: name 'snap2_fengine' is not defined"
     ]
    }
   ],
   "source": [
    "fpgfile=\"/home/ubuntu/kplant/caltech-lwa/snap2_f_200msps_64i_4096c/outputs/snap2_f_200msps_64i_4096c_2021-10-04_1837.fpg\"\n",
    "brdname='snap07'\n",
    "#load firmware and initialize etc\n",
    "brd=snap2_fengine.Snap2Fengine(brdname)\n",
    "brd.program(fpgfile)\n",
    "\n",
    "casperbrd = casperfpga.CasperFpga(brdname, transport=casperfpga.TapcpTransport)"
   ]
  },
  {
   "cell_type": "code",
   "execution_count": null,
   "metadata": {},
   "outputs": [],
   "source": []
  }
 ],
 "metadata": {
  "kernelspec": {
   "display_name": "Python 3",
   "language": "python",
   "name": "python3"
  },
  "language_info": {
   "codemirror_mode": {
    "name": "ipython",
    "version": 3
   },
   "file_extension": ".py",
   "mimetype": "text/x-python",
   "name": "python",
   "nbconvert_exporter": "python",
   "pygments_lexer": "ipython3",
   "version": "3.6.10"
  }
 },
 "nbformat": 4,
 "nbformat_minor": 4
}
